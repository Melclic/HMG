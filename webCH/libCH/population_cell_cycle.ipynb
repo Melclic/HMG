{
 "cells": [
  {
   "cell_type": "code",
   "execution_count": 2,
   "metadata": {},
   "outputs": [
    {
     "data": {
      "text/html": [
       "        <script type=\"text/javascript\">\n",
       "        window.PlotlyConfig = {MathJaxConfig: 'local'};\n",
       "        if (window.MathJax) {MathJax.Hub.Config({SVG: {font: \"STIX-Web\"}});}\n",
       "        if (typeof require !== 'undefined') {\n",
       "        require.undef(\"plotly\");\n",
       "        requirejs.config({\n",
       "            paths: {\n",
       "                'plotly': ['https://cdn.plot.ly/plotly-latest.min']\n",
       "            }\n",
       "        });\n",
       "        require(['plotly'], function(Plotly) {\n",
       "            window._Plotly = Plotly;\n",
       "        });\n",
       "        }\n",
       "        </script>\n",
       "        "
      ]
     },
     "metadata": {},
     "output_type": "display_data"
    }
   ],
   "source": [
    "import ctypes\n",
    "import os\n",
    "import numpy as np\n",
    "\n",
    "import plotly\n",
    "#import plotly.plotly as py\n",
    "import plotly.graph_objs as go\n",
    "#from plotly import graph_objs as go\n",
    "from plotly.offline import download_plotlyjs, init_notebook_mode, iplot\n",
    "#from plotly.graph_objs import *\n",
    "#init_notebook_mode()\n",
    "init_notebook_mode(connected=True)\n",
    "\n",
    "\n",
    "import matplotlib.pyplot as plt\n",
    "import scipy.integrate as integrate\n",
    "\n",
    "simulator = ctypes.CDLL(os.path.abspath('ori.so'))\n",
    "simulator.cell_parameters.restype = ctypes.c_int"
   ]
  },
  {
   "cell_type": "code",
   "execution_count": 3,
   "metadata": {},
   "outputs": [],
   "source": [
    "##### the probability density function of the age distribution of an exponentially growing population of cells ####"
   ]
  },
  {
   "cell_type": "code",
   "execution_count": 4,
   "metadata": {},
   "outputs": [],
   "source": [
    "def ageDistFunc(a):\n",
    " return 2.0*np.log(2.0)*np.exp(-a*np.log(2))"
   ]
  },
  {
   "cell_type": "code",
   "execution_count": 5,
   "metadata": {},
   "outputs": [],
   "source": [
    "###### user defined scipy PDF of the age PDF ####\n",
    "import scipy.stats as st\n",
    "\n",
    "class ageDist_pdf(st.rv_continuous):\n",
    "    def _pdf(self,x):\n",
    "        return 2.0*np.log(2.0)*np.exp(-x*np.log(2))  # Normalized over its range, in this case [0,1]\n",
    "\n",
    "my_cv = ageDist_pdf(a=0, b=1, name='ageDist_pdf')"
   ]
  },
  {
   "cell_type": "code",
   "execution_count": 71,
   "metadata": {},
   "outputs": [
    {
     "data": {
      "text/plain": [
       "0.44269504088896355"
      ]
     },
     "execution_count": 71,
     "metadata": {},
     "output_type": "execute_result"
    }
   ],
   "source": [
    "my_cv.mean() # this is the mean value of the WE ASSUME THAT THE MEAN APPLIES"
   ]
  },
  {
   "cell_type": "code",
   "execution_count": 72,
   "metadata": {},
   "outputs": [
    {
     "data": {
      "text/plain": [
       "0.41503749927884465"
      ]
     },
     "execution_count": 72,
     "metadata": {},
     "output_type": "execute_result"
    }
   ],
   "source": [
    "my_cv.median()"
   ]
  },
  {
   "cell_type": "code",
   "execution_count": 6,
   "metadata": {
    "scrolled": true
   },
   "outputs": [
    {
     "data": {
      "text/plain": [
       "[<matplotlib.lines.Line2D at 0x7f03b09e64a8>]"
      ]
     },
     "execution_count": 6,
     "metadata": {},
     "output_type": "execute_result"
    },
    {
     "data": {
      "image/png": "[encoded data removed]",
      "text/plain": [
       "<Figure size 432x288 with 1 Axes>"
      ]
     },
     "metadata": {
      "needs_background": "light"
     },
     "output_type": "display_data"
    }
   ],
   "source": [
    "plt.plot(np.arange(0.0,1.01,0.01), [ageDistFunc(i) for i in np.arange(0.0,1.01,0.01)])"
   ]
  },
  {
   "cell_type": "code",
   "execution_count": 23,
   "metadata": {},
   "outputs": [
    {
     "data": {
      "application/vnd.plotly.v1+json": {
       "config": {
        "linkText": "Export to plot.ly",
        "plotlyServerURL": "https://plot.ly",
        "responsive": true,
        "showLink": false
       },
       "data": [
        {
         "fill": "tozerox",
         "fillcolor": "rgba(68, 68, 68, 0.3)",
         "line": {
          "color": "rgb(31, 119, 180)"
         },
         "mode": "lines",
         "name": "Measurement",
         "type": "scatter",
         "uid": "27184c5d-fe50-4d07-aa50-5d6823e7552b",
         "x": [
          0,
          0,
          0.01,
          0.02,
          0.03,
          0.04,
          0.05,
          0.06,
          0.07,
          0.08,
          0.09,
          0.1,
          0.11,
          0.12,
          0.13,
          0.14,
          0.15,
          0.16,
          0.17,
          0.18,
          0.19,
          0.2,
          0.21,
          0.22,
          0.23,
          0.24,
          0.25,
          0.26,
          0.27,
          0.28,
          0.29,
          0.3,
          0.31,
          0.32,
          0.33,
          0.34,
          0.35000000000000003,
          0.36,
          0.37,
          0.38,
          0.39,
          0.4,
          0.41000000000000003,
          0.42,
          0.43,
          0.44,
          0.45,
          0.46,
          0.47000000000000003,
          0.48,
          0.49,
          0.5,
          0.51,
          0.52,
          0.53,
          0.54,
          0.55,
          0.56,
          0.5700000000000001,
          0.58,
          0.59,
          0.6,
          0.61,
          0.62,
          0.63,
          0.64,
          0.65,
          0.66,
          0.67,
          0.68,
          0.6900000000000001,
          0.7000000000000001,
          0.71,
          0.72,
          0.73,
          0.74,
          0.75,
          0.76,
          0.77,
          0.78,
          0.79,
          0.8,
          0.81,
          0.8200000000000001,
          0.8300000000000001,
          0.84,
          0.85,
          0.86,
          0.87,
          0.88,
          0.89,
          0.9,
          0.91,
          0.92,
          0.93,
          0.9400000000000001,
          0.9500000000000001,
          0.96,
          0.97,
          0.98,
          0.99,
          1,
          1
         ],
         "y": [
          0,
          1.3862943611198906,
          1.3767185264948436,
          1.3672088369911632,
          1.3577648357111218,
          1.3483860689130152,
          1.3390720859893612,
          1.3298224394452518,
          1.3206366848768516,
          1.3115143809500471,
          1.3024550893792417,
          1.2934583749062987,
          1.2845238052796293,
          1.2756509512334242,
          1.2668393864670298,
          1.2580886876244664,
          1.2493984342740867,
          1.2407682088883782,
          1.232197596823901,
          1.2236861863013666,
          1.2152335683858537,
          1.2068393369671613,
          1.198503088740296,
          1.190224423186096,
          1.1820029425519867,
          1.1738382518328718,
          1.1657299587521543,
          1.15767767374289,
          1.1496810099290693,
          1.141739583107031,
          1.1338530117270025,
          1.1260209168747677,
          1.1182429222534622,
          1.1105186541654941,
          1.1028477414945892,
          1.0952298156879605,
          1.0876645107386018,
          1.0801514631677007,
          1.0726903120071776,
          1.0652806987823407,
          1.057922267494664,
          1.0506146646046832,
          1.0433575390150094,
          1.0361505420534602,
          1.0289933274563083,
          1.021885551351644,
          1.0148268722428555,
          1.0078169509922195,
          1.0008554508046081,
          0.9939420372113079,
          0.9870763780539489,
          0.9802581434685472,
          0.9734870058696555,
          0.9667626399346245,
          0.9600847225879728,
          0.9534529329858643,
          0.946866952500693,
          0.9403264647057745,
          0.9338311553601435,
          0.9273807123934553,
          0.9209748258909927,
          0.9146131880787755,
          0.9082954933087742,
          0.9020214380442242,
          0.8957907208450423,
          0.8896030423533442,
          0.8834581052790618,
          0.877355614385659,
          0.871295276475948,
          0.8652768003780011,
          0.8592998969311632,
          0.8533642789721566,
          0.847469661321286,
          0.8416157607687356,
          0.8358022960609629,
          0.8300289878871858,
          0.8242955588659627,
          0.8186017335318649,
          0.8129472383222434,
          0.8073318015640834,
          0.8017551534609534,
          0.796217026080042,
          0.7907171533392844,
          0.7852552709945793,
          0.7798311166270926,
          0.7744444296306496,
          0.7690949511992138,
          0.7637824243144525,
          0.7585065937333887,
          0.7532672059761369,
          0.7480640093137255,
          0.7428967537560017,
          0.7377651910396209,
          0.7326690746161186,
          0.7276081596400652,
          0.7225822029573016,
          0.7175909630932573,
          0.7126342002413488,
          0.7077116762514575,
          0.7028231546184875,
          0.6979684004710035,
          0.6931471805599453,
          0
         ]
        }
       ],
       "layout": {
        "showlegend": false,
        "title": {
         "text": "Population Exponentially Growing Age Distribution"
        },
        "xaxis": {
         "range": [
          -0.1,
          1.1
         ],
         "title": {
          "text": "Cell Age"
         },
         "zeroline": false
        },
        "yaxis": {
         "title": {
          "text": "Probability Density"
         },
         "zeroline": true
        }
       }
      },
      "text/html": [
       "<div>\n",
       "        \n",
       "        \n",
       "            <div id=\"766e2dca-f0af-4b2c-bd1d-b3528352af22\" class=\"plotly-graph-div\" style=\"height:525px; width:100%;\"></div>\n",
       "            <script type=\"text/javascript\">\n",
       "                require([\"plotly\"], function(Plotly) {\n",
       "                    window.PLOTLYENV=window.PLOTLYENV || {};\n",
       "                    window.PLOTLYENV.BASE_URL='https://plot.ly';\n",
       "                    \n",
       "                if (document.getElementById(\"766e2dca-f0af-4b2c-bd1d-b3528352af22\")) {\n",
       "                    Plotly.newPlot(\n",
       "                        '766e2dca-f0af-4b2c-bd1d-b3528352af22',\n",
       "                        [{\"fill\": \"tozerox\", \"fillcolor\": \"rgba(68, 68, 68, 0.3)\", \"line\": {\"color\": \"rgb(31, 119, 180)\"}, \"mode\": \"lines\", \"name\": \"Measurement\", \"type\": \"scatter\", \"uid\": \"d78a0dba-8ba7-484a-bab1-61fdced1c37b\", \"x\": [0.0, 0.0, 0.01, 0.02, 0.03, 0.04, 0.05, 0.06, 0.07, 0.08, 0.09, 0.1, 0.11, 0.12, 0.13, 0.14, 0.15, 0.16, 0.17, 0.18, 0.19, 0.2, 0.21, 0.22, 0.23, 0.24, 0.25, 0.26, 0.27, 0.28, 0.29, 0.3, 0.31, 0.32, 0.33, 0.34, 0.35000000000000003, 0.36, 0.37, 0.38, 0.39, 0.4, 0.41000000000000003, 0.42, 0.43, 0.44, 0.45, 0.46, 0.47000000000000003, 0.48, 0.49, 0.5, 0.51, 0.52, 0.53, 0.54, 0.55, 0.56, 0.5700000000000001, 0.58, 0.59, 0.6, 0.61, 0.62, 0.63, 0.64, 0.65, 0.66, 0.67, 0.68, 0.6900000000000001, 0.7000000000000001, 0.71, 0.72, 0.73, 0.74, 0.75, 0.76, 0.77, 0.78, 0.79, 0.8, 0.81, 0.8200000000000001, 0.8300000000000001, 0.84, 0.85, 0.86, 0.87, 0.88, 0.89, 0.9, 0.91, 0.92, 0.93, 0.9400000000000001, 0.9500000000000001, 0.96, 0.97, 0.98, 0.99, 1.0, 1.0], \"y\": [0.0, 1.3862943611198906, 1.3767185264948436, 1.3672088369911632, 1.3577648357111218, 1.3483860689130152, 1.3390720859893612, 1.3298224394452518, 1.3206366848768516, 1.3115143809500471, 1.3024550893792417, 1.2934583749062987, 1.2845238052796293, 1.2756509512334242, 1.2668393864670298, 1.2580886876244664, 1.2493984342740867, 1.2407682088883782, 1.232197596823901, 1.2236861863013666, 1.2152335683858537, 1.2068393369671613, 1.198503088740296, 1.190224423186096, 1.1820029425519867, 1.1738382518328718, 1.1657299587521543, 1.15767767374289, 1.1496810099290693, 1.141739583107031, 1.1338530117270025, 1.1260209168747677, 1.1182429222534622, 1.1105186541654941, 1.1028477414945892, 1.0952298156879605, 1.0876645107386018, 1.0801514631677007, 1.0726903120071776, 1.0652806987823407, 1.057922267494664, 1.0506146646046832, 1.0433575390150094, 1.0361505420534602, 1.0289933274563083, 1.021885551351644, 1.0148268722428555, 1.0078169509922195, 1.0008554508046081, 0.9939420372113079, 0.9870763780539489, 0.9802581434685472, 0.9734870058696555, 0.9667626399346245, 0.9600847225879728, 0.9534529329858643, 0.946866952500693, 0.9403264647057745, 0.9338311553601435, 0.9273807123934553, 0.9209748258909927, 0.9146131880787755, 0.9082954933087742, 0.9020214380442242, 0.8957907208450423, 0.8896030423533442, 0.8834581052790618, 0.877355614385659, 0.871295276475948, 0.8652768003780011, 0.8592998969311632, 0.8533642789721566, 0.847469661321286, 0.8416157607687356, 0.8358022960609629, 0.8300289878871858, 0.8242955588659627, 0.8186017335318649, 0.8129472383222434, 0.8073318015640834, 0.8017551534609534, 0.796217026080042, 0.7907171533392844, 0.7852552709945793, 0.7798311166270926, 0.7744444296306496, 0.7690949511992138, 0.7637824243144525, 0.7585065937333887, 0.7532672059761369, 0.7480640093137255, 0.7428967537560017, 0.7377651910396209, 0.7326690746161186, 0.7276081596400652, 0.7225822029573016, 0.7175909630932573, 0.7126342002413488, 0.7077116762514575, 0.7028231546184875, 0.6979684004710035, 0.6931471805599453, 0.0]}],\n",
       "                        {\"showlegend\": false, \"title\": {\"text\": \"Population Exponentially Growing Age Distribution\"}, \"xaxis\": {\"range\": [-0.1, 1.1], \"title\": {\"text\": \"Cell Age\"}, \"zeroline\": false}, \"yaxis\": {\"title\": {\"text\": \"Probability Density\"}, \"zeroline\": true}},\n",
       "                        {\"showLink\": false, \"linkText\": \"Export to plot.ly\", \"plotlyServerURL\": \"https://plot.ly\", \"responsive\": true}\n",
       "                    ).then(function(){\n",
       "                            \n",
       "var gd = document.getElementById('766e2dca-f0af-4b2c-bd1d-b3528352af22');\n",
       "var x = new MutationObserver(function (mutations, observer) {{\n",
       "        var display = window.getComputedStyle(gd).display;\n",
       "        if (!display || display === 'none') {{\n",
       "            console.log([gd, 'removed!']);\n",
       "            Plotly.purge(gd);\n",
       "            observer.disconnect();\n",
       "        }}\n",
       "}});\n",
       "\n",
       "// Listen for the removal of the full notebook cells\n",
       "var notebookContainer = gd.closest('#notebook-container');\n",
       "if (notebookContainer) {{\n",
       "    x.observe(notebookContainer, {childList: true});\n",
       "}}\n",
       "\n",
       "// Listen for the clearing of the current output cell\n",
       "var outputEl = gd.closest('.output');\n",
       "if (outputEl) {{\n",
       "    x.observe(outputEl, {childList: true});\n",
       "}}\n",
       "\n",
       "                        })\n",
       "                };\n",
       "                });\n",
       "            </script>\n",
       "        </div>"
      ]
     },
     "metadata": {},
     "output_type": "display_data"
    }
   ],
   "source": [
    "x = list(np.arange(0.0,1.01,0.01))\n",
    "x.append(1.0)\n",
    "x.insert(0, 0.0)\n",
    "y = [ageDistFunc(i) for i in np.arange(0.0,1.01,0.01)]\n",
    "y.append(0.0)\n",
    "y.insert(0, 0.0)\n",
    "trace = go.Scatter(\n",
    "    name='Measurement',\n",
    "    x=x,\n",
    "    y=y,\n",
    "    mode='lines',\n",
    "    line=dict(color='rgb(31, 119, 180)'),\n",
    "    fillcolor='rgba(68, 68, 68, 0.3)',\n",
    "    fill='tozerox'\n",
    ")\n",
    "\n",
    "# Trace order can be important\n",
    "# with continuous error bars\n",
    "data = [trace]\n",
    "\n",
    "layout = go.Layout(\n",
    "    xaxis=dict(title='Cell Age', zeroline=False, range=[-0.1, 1.1]),\n",
    "    yaxis=dict(title='Probability Density', zeroline=True),\n",
    "    title='Population Exponentially Growing Age Distribution',\n",
    "    showlegend = False,\n",
    ")\n",
    "\n",
    "fig = go.Figure(data=data, layout=layout)\n",
    "iplot(fig, filename='pandas-continuous-error-bars')"
   ]
  },
  {
   "cell_type": "code",
   "execution_count": 24,
   "metadata": {},
   "outputs": [],
   "source": [
    "plotly.io.write_image(fig, 'age_distribution.png' , width=1200, height=800)"
   ]
  },
  {
   "cell_type": "code",
   "execution_count": null,
   "metadata": {},
   "outputs": [],
   "source": [
    "##### the probability of the age distribution of an exponentially growing population ####"
   ]
  },
  {
   "cell_type": "code",
   "execution_count": 28,
   "metadata": {},
   "outputs": [],
   "source": [
    "I = integrate.quad(ageDistFunc, 0.1, 0.2)"
   ]
  },
  {
   "cell_type": "code",
   "execution_count": 39,
   "metadata": {},
   "outputs": [
    {
     "data": {
      "text/plain": [
       "[<matplotlib.lines.Line2D at 0x152582bc50>]"
      ]
     },
     "execution_count": 39,
     "metadata": {},
     "output_type": "execute_result"
    },
    {
     "data": {
      "image/png": "[encoded data removed]",
      "text/plain": [
       "<Figure size 432x288 with 1 Axes>"
      ]
     },
     "metadata": {
      "needs_background": "light"
     },
     "output_type": "display_data"
    }
   ],
   "source": [
    "x = np.arange(0.0,1.0,0.01)\n",
    "y = [integrate.quad(ageDistFunc, i, i+0.01)[0] for i in x]\n",
    "plt.plot(x, y)"
   ]
  },
  {
   "cell_type": "code",
   "execution_count": 40,
   "metadata": {},
   "outputs": [
    {
     "data": {
      "text/plain": [
       "1.0000000000000002"
      ]
     },
     "execution_count": 40,
     "metadata": {},
     "output_type": "execute_result"
    }
   ],
   "source": [
    "sum(y)"
   ]
  },
  {
   "cell_type": "code",
   "execution_count": null,
   "metadata": {},
   "outputs": [],
   "source": [
    "####### cell cycle parameter #######"
   ]
  },
  {
   "cell_type": "code",
   "execution_count": 13,
   "metadata": {},
   "outputs": [],
   "source": [
    "age_weight = {}\n",
    "for i in np.arange(0.0,1.01,0.01):\n",
    "    age_weight[i] = ageDistFunc(i)"
   ]
  },
  {
   "cell_type": "code",
   "execution_count": 4,
   "metadata": {},
   "outputs": [],
   "source": [
    "tau = 60.0\n",
    "C = 40.0\n",
    "D = 20.0\n",
    "distRes = {}\n",
    "for i in [i for i in np.arange(0.0,1.01,0.01)]:\n",
    "    results = (ctypes.c_double*6)()\n",
    "    status = simulator.cell_parameters(ctypes.c_double(tau), ctypes.c_double(C), ctypes.c_double(D), ctypes.c_double(i), results)\n",
    "    results = [i for i in results]\n",
    "    distRes[i] = {}\n",
    "    distRes[i]['volume'] = results[0]\n",
    "    distRes[i]['G0'] = results[1]\n",
    "    distRes[i]['Ga'] = results[2]\n",
    "    distRes[i]['segregation_timer'] = results[3]\n",
    "    distRes[i]['oriC'] = results[4]\n",
    "    distRes[i]['terC'] = results[5]\n",
    "    results = None"
   ]
  },
  {
   "cell_type": "code",
   "execution_count": 5,
   "metadata": {},
   "outputs": [
    {
     "data": {
      "text/plain": [
       "{0.0: {'volume': 1.0,\n",
       "  'G0': 1.0,\n",
       "  'Ga': 1.0,\n",
       "  'segregation_timer': 0.0,\n",
       "  'oriC': 2.0,\n",
       "  'terC': 1.0},\n",
       " 0.01: {'volume': 1.0069555500567189,\n",
       "  'G0': 1.0,\n",
       "  'Ga': 1.015,\n",
       "  'segregation_timer': 0.0,\n",
       "  'oriC': 2.0,\n",
       "  'terC': 1.0},\n",
       " 0.02: {'volume': 1.013959479790029,\n",
       "  'G0': 1.0,\n",
       "  'Ga': 1.03,\n",
       "  'segregation_timer': 0.0,\n",
       "  'oriC': 2.0,\n",
       "  'terC': 1.0},\n",
       " 0.03: {'volume': 1.0210121257071934,\n",
       "  'G0': 1.0,\n",
       "  'Ga': 1.045,\n",
       "  'segregation_timer': 0.0,\n",
       "  'oriC': 2.0,\n",
       "  'terC': 1.0},\n",
       " 0.04: {'volume': 1.0281138266560665,\n",
       "  'G0': 1.0,\n",
       "  'Ga': 1.06,\n",
       "  'segregation_timer': 0.0,\n",
       "  'oriC': 2.0,\n",
       "  'terC': 1.0},\n",
       " 0.05: {'volume': 1.0352649238413776,\n",
       "  'G0': 1.0,\n",
       "  'Ga': 1.075,\n",
       "  'segregation_timer': 0.0,\n",
       "  'oriC': 2.0,\n",
       "  'terC': 1.0},\n",
       " 0.06: {'volume': 1.0424657608411214,\n",
       "  'G0': 1.0,\n",
       "  'Ga': 1.09,\n",
       "  'segregation_timer': 0.0,\n",
       "  'oriC': 2.0,\n",
       "  'terC': 1.0},\n",
       " 0.07: {'volume': 1.0497166836230674,\n",
       "  'G0': 1.0,\n",
       "  'Ga': 1.105,\n",
       "  'segregation_timer': 0.0,\n",
       "  'oriC': 2.0,\n",
       "  'terC': 1.0},\n",
       " 0.08: {'volume': 1.0570180405613803,\n",
       "  'G0': 1.0,\n",
       "  'Ga': 1.12,\n",
       "  'segregation_timer': 0.0,\n",
       "  'oriC': 2.0,\n",
       "  'terC': 1.0},\n",
       " 0.09: {'volume': 1.06437018245336,\n",
       "  'G0': 1.0,\n",
       "  'Ga': 1.135,\n",
       "  'segregation_timer': 0.0,\n",
       "  'oriC': 2.0,\n",
       "  'terC': 1.0},\n",
       " 0.1: {'volume': 1.0717734625362931,\n",
       "  'G0': 1.0,\n",
       "  'Ga': 1.15,\n",
       "  'segregation_timer': 0.0,\n",
       "  'oriC': 2.0,\n",
       "  'terC': 1.0},\n",
       " 0.11: {'volume': 1.079228236504427,\n",
       "  'G0': 1.0,\n",
       "  'Ga': 1.165,\n",
       "  'segregation_timer': 0.0,\n",
       "  'oriC': 2.0,\n",
       "  'terC': 1.0},\n",
       " 0.12: {'volume': 1.0867348625260582,\n",
       "  'G0': 1.0,\n",
       "  'Ga': 1.18,\n",
       "  'segregation_timer': 0.0,\n",
       "  'oriC': 2.0,\n",
       "  'terC': 1.0},\n",
       " 0.13: {'volume': 1.0942937012607394,\n",
       "  'G0': 1.0,\n",
       "  'Ga': 1.195,\n",
       "  'segregation_timer': 0.0,\n",
       "  'oriC': 2.0,\n",
       "  'terC': 1.0},\n",
       " 0.14: {'volume': 1.1019051158766109,\n",
       "  'G0': 1.0,\n",
       "  'Ga': 1.21,\n",
       "  'segregation_timer': 0.0,\n",
       "  'oriC': 2.0,\n",
       "  'terC': 1.0},\n",
       " 0.15: {'volume': 1.1095694720678448,\n",
       "  'G0': 1.0,\n",
       "  'Ga': 1.225,\n",
       "  'segregation_timer': 0.0,\n",
       "  'oriC': 2.0,\n",
       "  'terC': 1.0},\n",
       " 0.16: {'volume': 1.1172871380722198,\n",
       "  'G0': 1.0,\n",
       "  'Ga': 1.24,\n",
       "  'segregation_timer': 0.0,\n",
       "  'oriC': 2.0,\n",
       "  'terC': 1.0},\n",
       " 0.17: {'volume': 1.1250584846888094,\n",
       "  'G0': 1.0,\n",
       "  'Ga': 1.255,\n",
       "  'segregation_timer': 0.0,\n",
       "  'oriC': 2.0,\n",
       "  'terC': 1.0},\n",
       " 0.18: {'volume': 1.1328838852957985,\n",
       "  'G0': 1.0,\n",
       "  'Ga': 1.27,\n",
       "  'segregation_timer': 0.0,\n",
       "  'oriC': 2.0,\n",
       "  'terC': 1.0},\n",
       " 0.19: {'volume': 1.1407637158684238,\n",
       "  'G0': 1.0,\n",
       "  'Ga': 1.2850000000000001,\n",
       "  'segregation_timer': 0.0,\n",
       "  'oriC': 2.0,\n",
       "  'terC': 1.0},\n",
       " 0.2: {'volume': 1.1486983549970349,\n",
       "  'G0': 1.0,\n",
       "  'Ga': 1.3,\n",
       "  'segregation_timer': 0.0,\n",
       "  'oriC': 2.0,\n",
       "  'terC': 1.0},\n",
       " 0.21: {'volume': 1.1566881839052874,\n",
       "  'G0': 1.0,\n",
       "  'Ga': 1.315,\n",
       "  'segregation_timer': 0.0,\n",
       "  'oriC': 2.0,\n",
       "  'terC': 1.0},\n",
       " 0.22: {'volume': 1.1647335864684558,\n",
       "  'G0': 1.0,\n",
       "  'Ga': 1.33,\n",
       "  'segregation_timer': 0.0,\n",
       "  'oriC': 2.0,\n",
       "  'terC': 1.0},\n",
       " 0.23: {'volume': 1.1728349492318788,\n",
       "  'G0': 1.0,\n",
       "  'Ga': 1.345,\n",
       "  'segregation_timer': 0.0,\n",
       "  'oriC': 2.0,\n",
       "  'terC': 1.0},\n",
       " 0.24: {'volume': 1.1809926614295303,\n",
       "  'G0': 1.0,\n",
       "  'Ga': 1.3599999999999999,\n",
       "  'segregation_timer': 0.0,\n",
       "  'oriC': 2.0,\n",
       "  'terC': 1.0},\n",
       " 0.25: {'volume': 1.189207115002721,\n",
       "  'G0': 1.0,\n",
       "  'Ga': 1.375,\n",
       "  'segregation_timer': 0.0,\n",
       "  'oriC': 2.0,\n",
       "  'terC': 1.0},\n",
       " 0.26: {'volume': 1.1974787046189286,\n",
       "  'G0': 1.0,\n",
       "  'Ga': 1.3900000000000001,\n",
       "  'segregation_timer': 0.0,\n",
       "  'oriC': 2.0,\n",
       "  'terC': 1.0},\n",
       " 0.27: {'volume': 1.2058078276907604,\n",
       "  'G0': 1.0,\n",
       "  'Ga': 1.405,\n",
       "  'segregation_timer': 0.0,\n",
       "  'oriC': 2.0,\n",
       "  'terC': 1.0},\n",
       " 0.28: {'volume': 1.214194884395047,\n",
       "  'G0': 1.0,\n",
       "  'Ga': 1.42,\n",
       "  'segregation_timer': 0.0,\n",
       "  'oriC': 2.0,\n",
       "  'terC': 1.0},\n",
       " 0.29: {'volume': 1.2226402776920686,\n",
       "  'G0': 1.0,\n",
       "  'Ga': 1.435,\n",
       "  'segregation_timer': 0.0,\n",
       "  'oriC': 2.0,\n",
       "  'terC': 1.0},\n",
       " 0.3: {'volume': 1.2311444133449163,\n",
       "  'G0': 1.0,\n",
       "  'Ga': 1.45,\n",
       "  'segregation_timer': 0.0,\n",
       "  'oriC': 2.0,\n",
       "  'terC': 1.0},\n",
       " 0.31: {'volume': 1.2397076999389864,\n",
       "  'G0': 1.0,\n",
       "  'Ga': 1.465,\n",
       "  'segregation_timer': 0.0,\n",
       "  'oriC': 2.0,\n",
       "  'terC': 1.0},\n",
       " 0.32: {'volume': 1.2483305489016119,\n",
       "  'G0': 1.0,\n",
       "  'Ga': 1.48,\n",
       "  'segregation_timer': 0.0,\n",
       "  'oriC': 2.0,\n",
       "  'terC': 1.0},\n",
       " 0.33: {'volume': 1.2570133745218282,\n",
       "  'G0': 1.0,\n",
       "  'Ga': 1.495,\n",
       "  'segregation_timer': 0.0,\n",
       "  'oriC': 2.0,\n",
       "  'terC': 1.0},\n",
       " 0.34: {'volume': 1.26575659397028,\n",
       "  'G0': 1.0,\n",
       "  'Ga': 1.51,\n",
       "  'segregation_timer': 0.0,\n",
       "  'oriC': 2.0,\n",
       "  'terC': 1.0},\n",
       " 0.35000000000000003: {'volume': 1.2745606273192622,\n",
       "  'G0': 1.0,\n",
       "  'Ga': 1.5250000000000001,\n",
       "  'segregation_timer': 0.0,\n",
       "  'oriC': 2.0,\n",
       "  'terC': 1.0},\n",
       " 0.36: {'volume': 1.283425897562904,\n",
       "  'G0': 1.0,\n",
       "  'Ga': 1.54,\n",
       "  'segregation_timer': 0.0,\n",
       "  'oriC': 2.0,\n",
       "  'terC': 1.0},\n",
       " 0.37: {'volume': 1.2923528306374923,\n",
       "  'G0': 1.0,\n",
       "  'Ga': 1.555,\n",
       "  'segregation_timer': 0.0,\n",
       "  'oriC': 2.0,\n",
       "  'terC': 1.0},\n",
       " 0.38: {'volume': 1.3013418554419334,\n",
       "  'G0': 1.0,\n",
       "  'Ga': 1.57,\n",
       "  'segregation_timer': 0.0,\n",
       "  'oriC': 2.0,\n",
       "  'terC': 1.0},\n",
       " 0.39: {'volume': 1.3103934038583633,\n",
       "  'G0': 1.0,\n",
       "  'Ga': 1.585,\n",
       "  'segregation_timer': 0.0,\n",
       "  'oriC': 2.0,\n",
       "  'terC': 1.0},\n",
       " 0.4: {'volume': 1.3195079107728942,\n",
       "  'G0': 1.0,\n",
       "  'Ga': 1.6,\n",
       "  'segregation_timer': 0.0,\n",
       "  'oriC': 2.0,\n",
       "  'terC': 1.0},\n",
       " 0.41000000000000003: {'volume': 1.3286858140965114,\n",
       "  'G0': 1.0,\n",
       "  'Ga': 1.615,\n",
       "  'segregation_timer': 0.0,\n",
       "  'oriC': 2.0,\n",
       "  'terC': 1.0},\n",
       " 0.42: {'volume': 1.3379275547861122,\n",
       "  'G0': 1.0,\n",
       "  'Ga': 1.63,\n",
       "  'segregation_timer': 0.0,\n",
       "  'oriC': 2.0,\n",
       "  'terC': 1.0},\n",
       " 0.43: {'volume': 1.3472335768656902,\n",
       "  'G0': 1.0,\n",
       "  'Ga': 1.645,\n",
       "  'segregation_timer': 0.0,\n",
       "  'oriC': 2.0,\n",
       "  'terC': 1.0},\n",
       " 0.44: {'volume': 1.356604327447672,\n",
       "  'G0': 1.0,\n",
       "  'Ga': 1.66,\n",
       "  'segregation_timer': 0.0,\n",
       "  'oriC': 2.0,\n",
       "  'terC': 1.0},\n",
       " 0.45: {'volume': 1.3660402567543954,\n",
       "  'G0': 1.0,\n",
       "  'Ga': 1.675,\n",
       "  'segregation_timer': 0.0,\n",
       "  'oriC': 2.0,\n",
       "  'terC': 1.0},\n",
       " 0.46: {'volume': 1.3755418181397436,\n",
       "  'G0': 1.0,\n",
       "  'Ga': 1.69,\n",
       "  'segregation_timer': 0.0,\n",
       "  'oriC': 2.0,\n",
       "  'terC': 1.0},\n",
       " 0.47000000000000003: {'volume': 1.3851094681109246,\n",
       "  'G0': 1.0,\n",
       "  'Ga': 1.705,\n",
       "  'segregation_timer': 0.0,\n",
       "  'oriC': 2.0,\n",
       "  'terC': 1.0},\n",
       " 0.48: {'volume': 1.3947436663504054,\n",
       "  'G0': 1.0,\n",
       "  'Ga': 1.72,\n",
       "  'segregation_timer': 0.0,\n",
       "  'oriC': 2.0,\n",
       "  'terC': 1.0},\n",
       " 0.49: {'volume': 1.4044448757379973,\n",
       "  'G0': 1.0,\n",
       "  'Ga': 1.7349999999999999,\n",
       "  'segregation_timer': 0.0,\n",
       "  'oriC': 2.0,\n",
       "  'terC': 1.0},\n",
       " 0.5: {'volume': 1.4142135623730951,\n",
       "  'G0': 1.0,\n",
       "  'Ga': 1.75,\n",
       "  'segregation_timer': 0.0,\n",
       "  'oriC': 2.0,\n",
       "  'terC': 1.0},\n",
       " 0.51: {'volume': 1.4240501955970717,\n",
       "  'G0': 1.0,\n",
       "  'Ga': 1.7650000000000001,\n",
       "  'segregation_timer': 0.0,\n",
       "  'oriC': 2.0,\n",
       "  'terC': 1.0},\n",
       " 0.52: {'volume': 1.4339552480158273,\n",
       "  'G0': 1.0,\n",
       "  'Ga': 1.78,\n",
       "  'segregation_timer': 0.0,\n",
       "  'oriC': 2.0,\n",
       "  'terC': 1.0},\n",
       " 0.53: {'volume': 1.4439291955224962,\n",
       "  'G0': 1.0,\n",
       "  'Ga': 1.795,\n",
       "  'segregation_timer': 0.0,\n",
       "  'oriC': 2.0,\n",
       "  'terC': 1.0},\n",
       " 0.54: {'volume': 1.4539725173203106,\n",
       "  'G0': 1.0,\n",
       "  'Ga': 1.81,\n",
       "  'segregation_timer': 0.0,\n",
       "  'oriC': 2.0,\n",
       "  'terC': 1.0},\n",
       " 0.55: {'volume': 1.4640856959456254,\n",
       "  'G0': 1.0,\n",
       "  'Ga': 1.825,\n",
       "  'segregation_timer': 0.0,\n",
       "  'oriC': 2.0,\n",
       "  'terC': 1.0},\n",
       " 0.56: {'volume': 1.474269217291101,\n",
       "  'G0': 1.0,\n",
       "  'Ga': 1.84,\n",
       "  'segregation_timer': 0.0,\n",
       "  'oriC': 2.0,\n",
       "  'terC': 1.0},\n",
       " 0.5700000000000001: {'volume': 1.4845235706290492,\n",
       "  'G0': 1.0,\n",
       "  'Ga': 1.855,\n",
       "  'segregation_timer': 0.0,\n",
       "  'oriC': 2.0,\n",
       "  'terC': 1.0},\n",
       " 0.58: {'volume': 1.4948492486349383,\n",
       "  'G0': 1.0,\n",
       "  'Ga': 1.8699999999999999,\n",
       "  'segregation_timer': 0.0,\n",
       "  'oriC': 2.0,\n",
       "  'terC': 1.0},\n",
       " 0.59: {'volume': 1.5052467474110673,\n",
       "  'G0': 1.0,\n",
       "  'Ga': 1.885,\n",
       "  'segregation_timer': 0.0,\n",
       "  'oriC': 2.0,\n",
       "  'terC': 1.0},\n",
       " 0.6: {'volume': 1.5157165665103982,\n",
       "  'G0': 1.0,\n",
       "  'Ga': 1.9,\n",
       "  'segregation_timer': 0.0,\n",
       "  'oriC': 2.0,\n",
       "  'terC': 1.0},\n",
       " 0.61: {'volume': 1.5262592089605589,\n",
       "  'G0': 1.0,\n",
       "  'Ga': 1.915,\n",
       "  'segregation_timer': 0.0,\n",
       "  'oriC': 2.0,\n",
       "  'terC': 1.0},\n",
       " 0.62: {'volume': 1.5368751812880124,\n",
       "  'G0': 1.0,\n",
       "  'Ga': 1.9300000000000002,\n",
       "  'segregation_timer': 0.0,\n",
       "  'oriC': 2.0,\n",
       "  'terC': 1.0},\n",
       " 0.63: {'volume': 1.5475649935423899,\n",
       "  'G0': 1.0,\n",
       "  'Ga': 1.9449999999999998,\n",
       "  'segregation_timer': 0.0,\n",
       "  'oriC': 2.0,\n",
       "  'terC': 1.0},\n",
       " 0.64: {'volume': 1.5583291593209998,\n",
       "  'G0': 1.0,\n",
       "  'Ga': 1.96,\n",
       "  'segregation_timer': 0.0,\n",
       "  'oriC': 2.0,\n",
       "  'terC': 1.0},\n",
       " 0.65: {'volume': 1.5691681957935013,\n",
       "  'G0': 1.0,\n",
       "  'Ga': 1.975,\n",
       "  'segregation_timer': 0.0,\n",
       "  'oriC': 2.0,\n",
       "  'terC': 1.0},\n",
       " 0.66: {'volume': 1.5800826237267542,\n",
       "  'G0': 1.0,\n",
       "  'Ga': 1.99,\n",
       "  'segregation_timer': 0.0,\n",
       "  'oriC': 2.0,\n",
       "  'terC': 1.0},\n",
       " 0.67: {'volume': 1.5910729675098374,\n",
       "  'G0': 1.0,\n",
       "  'Ga': 2.0,\n",
       "  'segregation_timer': 0.19999999999999574,\n",
       "  'oriC': 2.0,\n",
       "  'terC': 2.0},\n",
       " 0.68: {'volume': 1.6021397551792442,\n",
       "  'G0': 1.0,\n",
       "  'Ga': 2.0,\n",
       "  'segregation_timer': 0.7999999999999972,\n",
       "  'oriC': 2.0,\n",
       "  'terC': 2.0},\n",
       " 0.6900000000000001: {'volume': 1.6132835184442529,\n",
       "  'G0': 1.0,\n",
       "  'Ga': 2.0,\n",
       "  'segregation_timer': 1.3999999999999986,\n",
       "  'oriC': 2.0,\n",
       "  'terC': 2.0},\n",
       " 0.7000000000000001: {'volume': 1.624504792712471,\n",
       "  'G0': 1.0,\n",
       "  'Ga': 2.0,\n",
       "  'segregation_timer': 2.0,\n",
       "  'oriC': 2.0,\n",
       "  'terC': 2.0},\n",
       " 0.71: {'volume': 1.6358041171155622,\n",
       "  'G0': 1.0,\n",
       "  'Ga': 2.0,\n",
       "  'segregation_timer': 2.599999999999987,\n",
       "  'oriC': 2.0,\n",
       "  'terC': 2.0},\n",
       " 0.72: {'volume': 1.647182034535146,\n",
       "  'G0': 1.0,\n",
       "  'Ga': 2.0,\n",
       "  'segregation_timer': 3.1999999999999886,\n",
       "  'oriC': 2.0,\n",
       "  'terC': 2.0},\n",
       " 0.73: {'volume': 1.6586390916288833,\n",
       "  'G0': 1.0,\n",
       "  'Ga': 2.0,\n",
       "  'segregation_timer': 3.79999999999999,\n",
       "  'oriC': 2.0,\n",
       "  'terC': 2.0},\n",
       " 0.74: {'volume': 1.6701758388567387,\n",
       "  'G0': 1.0,\n",
       "  'Ga': 2.0,\n",
       "  'segregation_timer': 4.3999999999999915,\n",
       "  'oriC': 2.0,\n",
       "  'terC': 2.0},\n",
       " 0.75: {'volume': 1.681792830507429,\n",
       "  'G0': 1.0,\n",
       "  'Ga': 2.0,\n",
       "  'segregation_timer': 4.999999999999993,\n",
       "  'oriC': 2.0,\n",
       "  'terC': 2.0},\n",
       " 0.76: {'volume': 1.6934906247250543,\n",
       "  'G0': 1.0,\n",
       "  'Ga': 2.0,\n",
       "  'segregation_timer': 5.599999999999994,\n",
       "  'oriC': 2.0,\n",
       "  'terC': 2.0},\n",
       " 0.77: {'volume': 1.7052697835359134,\n",
       "  'G0': 1.0,\n",
       "  'Ga': 2.0,\n",
       "  'segregation_timer': 6.199999999999996,\n",
       "  'oriC': 2.0,\n",
       "  'terC': 2.0},\n",
       " 0.78: {'volume': 1.717130872875508,\n",
       "  'G0': 1.0,\n",
       "  'Ga': 2.0,\n",
       "  'segregation_timer': 6.799999999999997,\n",
       "  'oriC': 2.0,\n",
       "  'terC': 2.0},\n",
       " 0.79: {'volume': 1.7290744626157304,\n",
       "  'G0': 1.0,\n",
       "  'Ga': 2.0,\n",
       "  'segregation_timer': 7.399999999999999,\n",
       "  'oriC': 2.0,\n",
       "  'terC': 2.0},\n",
       " 0.8: {'volume': 1.7411011265922482,\n",
       "  'G0': 1.0,\n",
       "  'Ga': 2.0,\n",
       "  'segregation_timer': 7.999999999999993,\n",
       "  'oriC': 2.0,\n",
       "  'terC': 2.0},\n",
       " 0.81: {'volume': 1.75321144263207,\n",
       "  'G0': 1.0,\n",
       "  'Ga': 2.0,\n",
       "  'segregation_timer': 8.599999999999994,\n",
       "  'oriC': 2.0,\n",
       "  'terC': 2.0},\n",
       " 0.8200000000000001: {'volume': 1.7654059925813097,\n",
       "  'G0': 1.0,\n",
       "  'Ga': 2.0,\n",
       "  'segregation_timer': 9.199999999999996,\n",
       "  'oriC': 2.0,\n",
       "  'terC': 2.0},\n",
       " 0.8300000000000001: {'volume': 1.7776853623331408,\n",
       "  'G0': 1.0,\n",
       "  'Ga': 2.0,\n",
       "  'segregation_timer': 9.799999999999997,\n",
       "  'oriC': 2.0,\n",
       "  'terC': 2.0},\n",
       " 0.84: {'volume': 1.790050141855945,\n",
       "  'G0': 1.0,\n",
       "  'Ga': 2.0,\n",
       "  'segregation_timer': 10.399999999999991,\n",
       "  'oriC': 2.0,\n",
       "  'terC': 2.0},\n",
       " 0.85: {'volume': 1.8025009252216606,\n",
       "  'G0': 1.0,\n",
       "  'Ga': 2.0,\n",
       "  'segregation_timer': 10.999999999999993,\n",
       "  'oriC': 2.0,\n",
       "  'terC': 2.0},\n",
       " 0.86: {'volume': 1.8150383106343215,\n",
       "  'G0': 1.0,\n",
       "  'Ga': 2.0,\n",
       "  'segregation_timer': 11.599999999999994,\n",
       "  'oriC': 2.0,\n",
       "  'terC': 2.0},\n",
       " 0.87: {'volume': 1.8276629004588012,\n",
       "  'G0': 1.0,\n",
       "  'Ga': 2.0,\n",
       "  'segregation_timer': 12.199999999999996,\n",
       "  'oriC': 2.0,\n",
       "  'terC': 2.0},\n",
       " 0.88: {'volume': 1.8403753012497501,\n",
       "  'G0': 1.0,\n",
       "  'Ga': 2.0,\n",
       "  'segregation_timer': 12.79999999999999,\n",
       "  'oriC': 2.0,\n",
       "  'terC': 2.0},\n",
       " 0.89: {'volume': 1.8531761237807418,\n",
       "  'G0': 1.0,\n",
       "  'Ga': 2.0,\n",
       "  'segregation_timer': 13.399999999999991,\n",
       "  'oriC': 2.0,\n",
       "  'terC': 2.0},\n",
       " 0.9: {'volume': 1.8660659830736148,\n",
       "  'G0': 1.0,\n",
       "  'Ga': 2.0,\n",
       "  'segregation_timer': 13.999999999999993,\n",
       "  'oriC': 2.0,\n",
       "  'terC': 2.0},\n",
       " 0.91: {'volume': 1.8790454984280234,\n",
       "  'G0': 1.0,\n",
       "  'Ga': 2.0,\n",
       "  'segregation_timer': 14.599999999999994,\n",
       "  'oriC': 2.0,\n",
       "  'terC': 2.0},\n",
       " 0.92: {'volume': 1.892115293451192,\n",
       "  'G0': 1.0,\n",
       "  'Ga': 2.0,\n",
       "  'segregation_timer': 15.199999999999996,\n",
       "  'oriC': 2.0,\n",
       "  'terC': 2.0},\n",
       " 0.93: {'volume': 1.905275996087875,\n",
       "  'G0': 1.0,\n",
       "  'Ga': 2.0,\n",
       "  'segregation_timer': 15.799999999999997,\n",
       "  'oriC': 2.0,\n",
       "  'terC': 2.0},\n",
       " 0.9400000000000001: {'volume': 1.918528238650529,\n",
       "  'G0': 1.0,\n",
       "  'Ga': 2.0,\n",
       "  'segregation_timer': 16.4,\n",
       "  'oriC': 2.0,\n",
       "  'terC': 2.0},\n",
       " 0.9500000000000001: {'volume': 1.931872657849691,\n",
       "  'G0': 1.0,\n",
       "  'Ga': 2.0,\n",
       "  'segregation_timer': 17.0,\n",
       "  'oriC': 2.0,\n",
       "  'terC': 2.0},\n",
       " 0.96: {'volume': 1.945309894824571,\n",
       "  'G0': 1.0,\n",
       "  'Ga': 2.0,\n",
       "  'segregation_timer': 17.599999999999987,\n",
       "  'oriC': 2.0,\n",
       "  'terC': 2.0},\n",
       " 0.97: {'volume': 1.9588405951738534,\n",
       "  'G0': 1.0,\n",
       "  'Ga': 2.0,\n",
       "  'segregation_timer': 18.19999999999999,\n",
       "  'oriC': 2.0,\n",
       "  'terC': 2.0},\n",
       " 0.98: {'volume': 1.9724654089867184,\n",
       "  'G0': 1.0,\n",
       "  'Ga': 2.0,\n",
       "  'segregation_timer': 18.79999999999999,\n",
       "  'oriC': 2.0,\n",
       "  'terC': 2.0},\n",
       " 0.99: {'volume': 1.9861849908740719,\n",
       "  'G0': 1.0,\n",
       "  'Ga': 2.0,\n",
       "  'segregation_timer': 19.39999999999999,\n",
       "  'oriC': 2.0,\n",
       "  'terC': 2.0},\n",
       " 1.0: {'volume': 2.0,\n",
       "  'G0': 1.0,\n",
       "  'Ga': 2.0,\n",
       "  'segregation_timer': 19.999999999999993,\n",
       "  'oriC': 2.0,\n",
       "  'terC': 2.0}}"
      ]
     },
     "execution_count": 5,
     "metadata": {},
     "output_type": "execute_result"
    }
   ],
   "source": [
    "distRes"
   ]
  },
  {
   "cell_type": "code",
   "execution_count": 6,
   "metadata": {},
   "outputs": [
    {
     "data": {
      "text/plain": [
       "[<matplotlib.lines.Line2D at 0x123854ac8>]"
      ]
     },
     "execution_count": 6,
     "metadata": {},
     "output_type": "execute_result"
    },
    {
     "data": {
      "image/png": "[encoded data removed]",
      "text/plain": [
       "<Figure size 432x288 with 1 Axes>"
      ]
     },
     "metadata": {
      "needs_background": "light"
     },
     "output_type": "display_data"
    }
   ],
   "source": [
    "plt.plot(sorted([i for i in distRes]), [distRes[i]['Ga'] for i in sorted([i for i in distRes])])"
   ]
  },
  {
   "cell_type": "code",
   "execution_count": 7,
   "metadata": {},
   "outputs": [
    {
     "data": {
      "text/plain": [
       "[<matplotlib.lines.Line2D at 0x121988048>]"
      ]
     },
     "execution_count": 7,
     "metadata": {},
     "output_type": "execute_result"
    },
    {
     "data": {
      "image/png": "[encoded data removed]",
      "text/plain": [
       "<Figure size 432x288 with 1 Axes>"
      ]
     },
     "metadata": {
      "needs_background": "light"
     },
     "output_type": "display_data"
    }
   ],
   "source": [
    "plt.plot(sorted([i for i in distRes]), [distRes[i]['volume'] for i in sorted([i for i in distRes])])"
   ]
  },
  {
   "cell_type": "code",
   "execution_count": 8,
   "metadata": {},
   "outputs": [
    {
     "data": {
      "text/plain": [
       "[<matplotlib.lines.Line2D at 0x1219e40b8>]"
      ]
     },
     "execution_count": 8,
     "metadata": {},
     "output_type": "execute_result"
    },
    {
     "data": {
      "image/png": "[encoded data removed]",
      "text/plain": [
       "<Figure size 432x288 with 1 Axes>"
      ]
     },
     "metadata": {
      "needs_background": "light"
     },
     "output_type": "display_data"
    }
   ],
   "source": [
    "plt.plot(sorted([i for i in distRes]), [distRes[i]['G0'] for i in sorted([i for i in distRes])])"
   ]
  },
  {
   "cell_type": "code",
   "execution_count": 9,
   "metadata": {},
   "outputs": [
    {
     "data": {
      "text/plain": [
       "[<matplotlib.lines.Line2D at 0x121b12a58>]"
      ]
     },
     "execution_count": 9,
     "metadata": {},
     "output_type": "execute_result"
    },
    {
     "data": {
      "image/png": "[encoded data removed]",
      "text/plain": [
       "<Figure size 432x288 with 1 Axes>"
      ]
     },
     "metadata": {
      "needs_background": "light"
     },
     "output_type": "display_data"
    }
   ],
   "source": [
    "plt.plot(sorted([i for i in distRes]), [distRes[i]['oriC'] for i in sorted([i for i in distRes])])"
   ]
  },
  {
   "cell_type": "code",
   "execution_count": 10,
   "metadata": {},
   "outputs": [
    {
     "data": {
      "text/plain": [
       "[<matplotlib.lines.Line2D at 0x121b767f0>]"
      ]
     },
     "execution_count": 10,
     "metadata": {},
     "output_type": "execute_result"
    },
    {
     "data": {
      "image/png": "[encoded data removed]",
      "text/plain": [
       "<Figure size 432x288 with 1 Axes>"
      ]
     },
     "metadata": {
      "needs_background": "light"
     },
     "output_type": "display_data"
    }
   ],
   "source": [
    "plt.plot(sorted([i for i in distRes]), [distRes[i]['terC'] for i in sorted([i for i in distRes])])"
   ]
  },
  {
   "cell_type": "code",
   "execution_count": 11,
   "metadata": {},
   "outputs": [
    {
     "data": {
      "text/plain": [
       "[<matplotlib.lines.Line2D at 0x12270c0f0>]"
      ]
     },
     "execution_count": 11,
     "metadata": {},
     "output_type": "execute_result"
    },
    {
     "data": {
      "image/png": "[encoded data removed]",
      "text/plain": [
       "<Figure size 432x288 with 1 Axes>"
      ]
     },
     "metadata": {
      "needs_background": "light"
     },
     "output_type": "display_data"
    }
   ],
   "source": [
    "plt.plot(sorted([i for i in distRes]), [distRes[i]['segregation_timer'] for i in sorted([i for i in distRes])])"
   ]
  },
  {
   "cell_type": "code",
   "execution_count": 41,
   "metadata": {},
   "outputs": [],
   "source": [
    "##### Volkmer et al. ####\n",
    "def gr_cellConc(gr_h):\n",
    "    #cell_volume --> fL\n",
    "    cell_volume = -0.53*gr_h**2.0 + 2.41*gr_h + 1.62\n",
    "    #cell_concentration --> mL**-1 * OD**-1\n",
    "    population_cell_concentration = (3.6*10.0**9.0)/cell_volume\n",
    "    return population_cell_concentration"
   ]
  },
  {
   "cell_type": "code",
   "execution_count": 43,
   "metadata": {},
   "outputs": [
    {
     "data": {
      "text/plain": [
       "1337047353.7604458"
      ]
     },
     "execution_count": 43,
     "metadata": {},
     "output_type": "execute_result"
    }
   ],
   "source": [
    "gr_cellConc(0.5)"
   ]
  },
  {
   "cell_type": "code",
   "execution_count": 48,
   "metadata": {},
   "outputs": [
    {
     "data": {
      "text/plain": [
       "[<matplotlib.lines.Line2D at 0x1525f10ac8>]"
      ]
     },
     "execution_count": 48,
     "metadata": {},
     "output_type": "execute_result"
    },
    {
     "data": {
      "image/png": "[encoded data removed]",
      "text/plain": [
       "<Figure size 432x288 with 1 Axes>"
      ]
     },
     "metadata": {
      "needs_background": "light"
     },
     "output_type": "display_data"
    }
   ],
   "source": [
    "plt.plot([i for i in np.arange(0.01, 1.5, 0.01)], [gr_cellConc(i) for i in np.arange(0.01, 1.5, 0.01)])"
   ]
  },
  {
   "cell_type": "code",
   "execution_count": 47,
   "metadata": {},
   "outputs": [],
   "source": [
    "###### calculate the real volume distribution of a population of cells #####\n",
    "#Note to change between hourly and min growth rate --> a = b/np.log(2)"
   ]
  },
  {
   "cell_type": "code",
   "execution_count": 88,
   "metadata": {},
   "outputs": [],
   "source": [
    "#total cell volume = 3.6 uL*OD-1*mL-1\n",
    "\n",
    "gr_h = 0.5\n",
    "C = 40.0\n",
    "D = 20.0\n",
    "\n",
    "#1) calculate the average cell age\n",
    "mean_cell_age = 0.44269504088896355\n",
    "#2) calculate the (measured) mean cell volume\n",
    "measured_cell_volume = -0.53*gr_h**2.0 + 2.41*gr_h + 1.62\n",
    "#3) calculate \n",
    "results = (ctypes.c_double*6)()\n",
    "status = simulator.cell_parameters(ctypes.c_double((np.log(2)/gr_h)*60.0), ctypes.c_double(C), ctypes.c_double(D), ctypes.c_double(mean_cell_age), results)\n",
    "results = [i for i in results]\n",
    "theoretical_cell_volume = results[0]\n",
    "theoretical_cell_volume_adjustment = theoretical_cell_volume/measured_cell_volume"
   ]
  },
  {
   "cell_type": "code",
   "execution_count": 90,
   "metadata": {},
   "outputs": [],
   "source": [
    "for i in distRes:\n",
    "    distRes[i]['physical_volume'] = theoretical_cell_volume_adjustment*distRes[i]['volume']"
   ]
  },
  {
   "cell_type": "code",
   "execution_count": 91,
   "metadata": {},
   "outputs": [
    {
     "data": {
      "text/plain": [
       "{0.0: {'volume': 1.0,\n",
       "  'G0': 1.0,\n",
       "  'Ga': 1.0,\n",
       "  'segregation_timer': 0.0,\n",
       "  'oriC': 2.0,\n",
       "  'terC': 1.0,\n",
       "  'physical_volume': 0.4161271188800432},\n",
       " 0.01: {'volume': 1.0069555500567189,\n",
       "  'G0': 1.0,\n",
       "  'Ga': 1.015,\n",
       "  'segregation_timer': 0.0,\n",
       "  'oriC': 2.0,\n",
       "  'terC': 1.0,\n",
       "  'physical_volume': 0.41902151188537157},\n",
       " 0.02: {'volume': 1.013959479790029,\n",
       "  'G0': 1.0,\n",
       "  'Ga': 1.03,\n",
       "  'segregation_timer': 0.0,\n",
       "  'oriC': 2.0,\n",
       "  'terC': 1.0,\n",
       "  'physical_volume': 0.42193603698613225},\n",
       " 0.03: {'volume': 1.0210121257071934,\n",
       "  'G0': 1.0,\n",
       "  'Ga': 1.045,\n",
       "  'segregation_timer': 0.0,\n",
       "  'oriC': 2.0,\n",
       "  'terC': 1.0,\n",
       "  'physical_volume': 0.4248708342121229},\n",
       " 0.04: {'volume': 1.0281138266560665,\n",
       "  'G0': 1.0,\n",
       "  'Ga': 1.06,\n",
       "  'segregation_timer': 0.0,\n",
       "  'oriC': 2.0,\n",
       "  'terC': 1.0,\n",
       "  'physical_volume': 0.42782604456712514},\n",
       " 0.05: {'volume': 1.0352649238413776,\n",
       "  'G0': 1.0,\n",
       "  'Ga': 1.075,\n",
       "  'segregation_timer': 0.0,\n",
       "  'oriC': 2.0,\n",
       "  'terC': 1.0,\n",
       "  'physical_volume': 0.4308018100356798},\n",
       " 0.06: {'volume': 1.0424657608411214,\n",
       "  'G0': 1.0,\n",
       "  'Ga': 1.09,\n",
       "  'segregation_timer': 0.0,\n",
       "  'oriC': 2.0,\n",
       "  'terC': 1.0,\n",
       "  'physical_volume': 0.433798273589908},\n",
       " 0.07: {'volume': 1.0497166836230674,\n",
       "  'G0': 1.0,\n",
       "  'Ga': 1.105,\n",
       "  'segregation_timer': 0.0,\n",
       "  'oriC': 2.0,\n",
       "  'terC': 1.0,\n",
       "  'physical_volume': 0.43681557919638087},\n",
       " 0.08: {'volume': 1.0570180405613803,\n",
       "  'G0': 1.0,\n",
       "  'Ga': 1.12,\n",
       "  'segregation_timer': 0.0,\n",
       "  'oriC': 2.0,\n",
       "  'terC': 1.0,\n",
       "  'physical_volume': 0.4398538718230358},\n",
       " 0.09: {'volume': 1.06437018245336,\n",
       "  'G0': 1.0,\n",
       "  'Ga': 1.135,\n",
       "  'segregation_timer': 0.0,\n",
       "  'oriC': 2.0,\n",
       "  'terC': 1.0,\n",
       "  'physical_volume': 0.44291329744614266},\n",
       " 0.1: {'volume': 1.0717734625362931,\n",
       "  'G0': 1.0,\n",
       "  'Ga': 1.15,\n",
       "  'segregation_timer': 0.0,\n",
       "  'oriC': 2.0,\n",
       "  'terC': 1.0,\n",
       "  'physical_volume': 0.4459940030573156},\n",
       " 0.11: {'volume': 1.079228236504427,\n",
       "  'G0': 1.0,\n",
       "  'Ga': 1.165,\n",
       "  'segregation_timer': 0.0,\n",
       "  'oriC': 2.0,\n",
       "  'terC': 1.0,\n",
       "  'physical_volume': 0.4490961366705771},\n",
       " 0.12: {'volume': 1.0867348625260582,\n",
       "  'G0': 1.0,\n",
       "  'Ga': 1.18,\n",
       "  'segregation_timer': 0.0,\n",
       "  'oriC': 2.0,\n",
       "  'terC': 1.0,\n",
       "  'physical_volume': 0.45221984732946846},\n",
       " 0.13: {'volume': 1.0942937012607394,\n",
       "  'G0': 1.0,\n",
       "  'Ga': 1.195,\n",
       "  'segregation_timer': 0.0,\n",
       "  'oriC': 2.0,\n",
       "  'terC': 1.0,\n",
       "  'physical_volume': 0.4553652851142102},\n",
       " 0.14: {'volume': 1.1019051158766109,\n",
       "  'G0': 1.0,\n",
       "  'Ga': 1.21,\n",
       "  'segregation_timer': 0.0,\n",
       "  'oriC': 2.0,\n",
       "  'terC': 1.0,\n",
       "  'physical_volume': 0.45853260114891425},\n",
       " 0.15: {'volume': 1.1095694720678448,\n",
       "  'G0': 1.0,\n",
       "  'Ga': 1.225,\n",
       "  'segregation_timer': 0.0,\n",
       "  'oriC': 2.0,\n",
       "  'terC': 1.0,\n",
       "  'physical_volume': 0.4617219476088429},\n",
       " 0.16: {'volume': 1.1172871380722198,\n",
       "  'G0': 1.0,\n",
       "  'Ga': 1.24,\n",
       "  'segregation_timer': 0.0,\n",
       "  'oriC': 2.0,\n",
       "  'terC': 1.0,\n",
       "  'physical_volume': 0.46493347772772187},\n",
       " 0.17: {'volume': 1.1250584846888094,\n",
       "  'G0': 1.0,\n",
       "  'Ga': 1.255,\n",
       "  'segregation_timer': 0.0,\n",
       "  'oriC': 2.0,\n",
       "  'terC': 1.0,\n",
       "  'physical_volume': 0.4681673458051015},\n",
       " 0.18: {'volume': 1.1328838852957985,\n",
       "  'G0': 1.0,\n",
       "  'Ga': 1.27,\n",
       "  'segregation_timer': 0.0,\n",
       "  'oriC': 2.0,\n",
       "  'terC': 1.0,\n",
       "  'physical_volume': 0.47142370721377},\n",
       " 0.19: {'volume': 1.1407637158684238,\n",
       "  'G0': 1.0,\n",
       "  'Ga': 1.2850000000000001,\n",
       "  'segregation_timer': 0.0,\n",
       "  'oriC': 2.0,\n",
       "  'terC': 1.0,\n",
       "  'physical_volume': 0.47470271840721945},\n",
       " 0.2: {'volume': 1.1486983549970349,\n",
       "  'G0': 1.0,\n",
       "  'Ga': 1.3,\n",
       "  'segregation_timer': 0.0,\n",
       "  'oriC': 2.0,\n",
       "  'terC': 1.0,\n",
       "  'physical_volume': 0.4780045369271612},\n",
       " 0.21: {'volume': 1.1566881839052874,\n",
       "  'G0': 1.0,\n",
       "  'Ga': 1.315,\n",
       "  'segregation_timer': 0.0,\n",
       "  'oriC': 2.0,\n",
       "  'terC': 1.0,\n",
       "  'physical_volume': 0.4813293214110968},\n",
       " 0.22: {'volume': 1.1647335864684558,\n",
       "  'G0': 1.0,\n",
       "  'Ga': 1.33,\n",
       "  'segregation_timer': 0.0,\n",
       "  'oriC': 2.0,\n",
       "  'terC': 1.0,\n",
       "  'physical_volume': 0.4846772315999382},\n",
       " 0.23: {'volume': 1.1728349492318788,\n",
       "  'G0': 1.0,\n",
       "  'Ga': 1.345,\n",
       "  'segregation_timer': 0.0,\n",
       "  'oriC': 2.0,\n",
       "  'terC': 1.0,\n",
       "  'physical_volume': 0.4880484283456835},\n",
       " 0.24: {'volume': 1.1809926614295303,\n",
       "  'G0': 1.0,\n",
       "  'Ga': 1.3599999999999999,\n",
       "  'segregation_timer': 0.0,\n",
       "  'oriC': 2.0,\n",
       "  'terC': 1.0,\n",
       "  'physical_volume': 0.4914430736191448},\n",
       " 0.25: {'volume': 1.189207115002721,\n",
       "  'G0': 1.0,\n",
       "  'Ga': 1.375,\n",
       "  'segregation_timer': 0.0,\n",
       "  'oriC': 2.0,\n",
       "  'terC': 1.0,\n",
       "  'physical_volume': 0.4948613305177305},\n",
       " 0.26: {'volume': 1.1974787046189286,\n",
       "  'G0': 1.0,\n",
       "  'Ga': 1.3900000000000001,\n",
       "  'segregation_timer': 0.0,\n",
       "  'oriC': 2.0,\n",
       "  'terC': 1.0,\n",
       "  'physical_volume': 0.49830336327328106},\n",
       " 0.27: {'volume': 1.2058078276907604,\n",
       "  'G0': 1.0,\n",
       "  'Ga': 1.405,\n",
       "  'segregation_timer': 0.0,\n",
       "  'oriC': 2.0,\n",
       "  'terC': 1.0,\n",
       "  'physical_volume': 0.5017693372599598},\n",
       " 0.28: {'volume': 1.214194884395047,\n",
       "  'G0': 1.0,\n",
       "  'Ga': 1.42,\n",
       "  'segregation_timer': 0.0,\n",
       "  'oriC': 2.0,\n",
       "  'terC': 1.0,\n",
       "  'physical_volume': 0.5052594190021981},\n",
       " 0.29: {'volume': 1.2226402776920686,\n",
       "  'G0': 1.0,\n",
       "  'Ga': 1.435,\n",
       "  'segregation_timer': 0.0,\n",
       "  'oriC': 2.0,\n",
       "  'terC': 1.0,\n",
       "  'physical_volume': 0.5087737761826965},\n",
       " 0.3: {'volume': 1.2311444133449163,\n",
       "  'G0': 1.0,\n",
       "  'Ga': 1.45,\n",
       "  'segregation_timer': 0.0,\n",
       "  'oriC': 2.0,\n",
       "  'terC': 1.0,\n",
       "  'physical_volume': 0.5123125776504811},\n",
       " 0.31: {'volume': 1.2397076999389864,\n",
       "  'G0': 1.0,\n",
       "  'Ga': 1.465,\n",
       "  'segregation_timer': 0.0,\n",
       "  'oriC': 2.0,\n",
       "  'terC': 1.0,\n",
       "  'physical_volume': 0.5158759934290156},\n",
       " 0.32: {'volume': 1.2483305489016119,\n",
       "  'G0': 1.0,\n",
       "  'Ga': 1.48,\n",
       "  'segregation_timer': 0.0,\n",
       "  'oriC': 2.0,\n",
       "  'terC': 1.0,\n",
       "  'physical_volume': 0.5194641947243707},\n",
       " 0.33: {'volume': 1.2570133745218282,\n",
       "  'G0': 1.0,\n",
       "  'Ga': 1.495,\n",
       "  'segregation_timer': 0.0,\n",
       "  'oriC': 2.0,\n",
       "  'terC': 1.0,\n",
       "  'physical_volume': 0.5230773539334491},\n",
       " 0.34: {'volume': 1.26575659397028,\n",
       "  'G0': 1.0,\n",
       "  'Ga': 1.51,\n",
       "  'segregation_timer': 0.0,\n",
       "  'oriC': 2.0,\n",
       "  'terC': 1.0,\n",
       "  'physical_volume': 0.5267156446522693},\n",
       " 0.35000000000000003: {'volume': 1.2745606273192622,\n",
       "  'G0': 1.0,\n",
       "  'Ga': 1.5250000000000001,\n",
       "  'segregation_timer': 0.0,\n",
       "  'oriC': 2.0,\n",
       "  'terC': 1.0,\n",
       "  'physical_volume': 0.5303792416843051},\n",
       " 0.36: {'volume': 1.283425897562904,\n",
       "  'G0': 1.0,\n",
       "  'Ga': 1.54,\n",
       "  'segregation_timer': 0.0,\n",
       "  'oriC': 2.0,\n",
       "  'terC': 1.0,\n",
       "  'physical_volume': 0.5340683210488848},\n",
       " 0.37: {'volume': 1.2923528306374923,\n",
       "  'G0': 1.0,\n",
       "  'Ga': 1.555,\n",
       "  'segregation_timer': 0.0,\n",
       "  'oriC': 2.0,\n",
       "  'terC': 1.0,\n",
       "  'physical_volume': 0.5377830599896481},\n",
       " 0.38: {'volume': 1.3013418554419334,\n",
       "  'G0': 1.0,\n",
       "  'Ga': 1.57,\n",
       "  'segregation_timer': 0.0,\n",
       "  'oriC': 2.0,\n",
       "  'terC': 1.0,\n",
       "  'physical_volume': 0.5415236369830614},\n",
       " 0.39: {'volume': 1.3103934038583633,\n",
       "  'G0': 1.0,\n",
       "  'Ga': 1.585,\n",
       "  'segregation_timer': 0.0,\n",
       "  'oriC': 2.0,\n",
       "  'terC': 1.0,\n",
       "  'physical_volume': 0.5452902317469936},\n",
       " 0.4: {'volume': 1.3195079107728942,\n",
       "  'G0': 1.0,\n",
       "  'Ga': 1.6,\n",
       "  'segregation_timer': 0.0,\n",
       "  'oriC': 2.0,\n",
       "  'terC': 1.0,\n",
       "  'physical_volume': 0.5490830252493496},\n",
       " 0.41000000000000003: {'volume': 1.3286858140965114,\n",
       "  'G0': 1.0,\n",
       "  'Ga': 1.615,\n",
       "  'segregation_timer': 0.0,\n",
       "  'oriC': 2.0,\n",
       "  'terC': 1.0,\n",
       "  'physical_volume': 0.552902199716766},\n",
       " 0.42: {'volume': 1.3379275547861122,\n",
       "  'G0': 1.0,\n",
       "  'Ga': 1.63,\n",
       "  'segregation_timer': 0.0,\n",
       "  'oriC': 2.0,\n",
       "  'terC': 1.0,\n",
       "  'physical_volume': 0.556747938643366},\n",
       " 0.43: {'volume': 1.3472335768656902,\n",
       "  'G0': 1.0,\n",
       "  'Ga': 1.645,\n",
       "  'segregation_timer': 0.0,\n",
       "  'oriC': 2.0,\n",
       "  'terC': 1.0,\n",
       "  'physical_volume': 0.5606204267995749},\n",
       " 0.44: {'volume': 1.356604327447672,\n",
       "  'G0': 1.0,\n",
       "  'Ga': 1.66,\n",
       "  'segregation_timer': 0.0,\n",
       "  'oriC': 2.0,\n",
       "  'terC': 1.0,\n",
       "  'physical_volume': 0.5645198502409985},\n",
       " 0.45: {'volume': 1.3660402567543954,\n",
       "  'G0': 1.0,\n",
       "  'Ga': 1.675,\n",
       "  'segregation_timer': 0.0,\n",
       "  'oriC': 2.0,\n",
       "  'terC': 1.0,\n",
       "  'physical_volume': 0.568446396317361},\n",
       " 0.46: {'volume': 1.3755418181397436,\n",
       "  'G0': 1.0,\n",
       "  'Ga': 1.69,\n",
       "  'segregation_timer': 0.0,\n",
       "  'oriC': 2.0,\n",
       "  'terC': 1.0,\n",
       "  'physical_volume': 0.5724002536815079},\n",
       " 0.47000000000000003: {'volume': 1.3851094681109246,\n",
       "  'G0': 1.0,\n",
       "  'Ga': 1.705,\n",
       "  'segregation_timer': 0.0,\n",
       "  'oriC': 2.0,\n",
       "  'terC': 1.0,\n",
       "  'physical_volume': 0.5763816122984682},\n",
       " 0.48: {'volume': 1.3947436663504054,\n",
       "  'G0': 1.0,\n",
       "  'Ga': 1.72,\n",
       "  'segregation_timer': 0.0,\n",
       "  'oriC': 2.0,\n",
       "  'terC': 1.0,\n",
       "  'physical_volume': 0.5803906634545825},\n",
       " 0.49: {'volume': 1.4044448757379973,\n",
       "  'G0': 1.0,\n",
       "  'Ga': 1.7349999999999999,\n",
       "  'segregation_timer': 0.0,\n",
       "  'oriC': 2.0,\n",
       "  'terC': 1.0,\n",
       "  'physical_volume': 0.5844275997666931},\n",
       " 0.5: {'volume': 1.4142135623730951,\n",
       "  'G0': 1.0,\n",
       "  'Ga': 1.75,\n",
       "  'segregation_timer': 0.0,\n",
       "  'oriC': 2.0,\n",
       "  'terC': 1.0,\n",
       "  'physical_volume': 0.5884926151913984},\n",
       " 0.51: {'volume': 1.4240501955970717,\n",
       "  'G0': 1.0,\n",
       "  'Ga': 1.7650000000000001,\n",
       "  'segregation_timer': 0.0,\n",
       "  'oriC': 2.0,\n",
       "  'terC': 1.0,\n",
       "  'physical_volume': 0.5925859050343715},\n",
       " 0.52: {'volume': 1.4339552480158273,\n",
       "  'G0': 1.0,\n",
       "  'Ga': 1.78,\n",
       "  'segregation_timer': 0.0,\n",
       "  'oriC': 2.0,\n",
       "  'terC': 1.0,\n",
       "  'physical_volume': 0.596707665959744},\n",
       " 0.53: {'volume': 1.4439291955224962,\n",
       "  'G0': 1.0,\n",
       "  'Ga': 1.795,\n",
       "  'segregation_timer': 0.0,\n",
       "  'oriC': 2.0,\n",
       "  'terC': 1.0,\n",
       "  'physical_volume': 0.600858095999555},\n",
       " 0.54: {'volume': 1.4539725173203106,\n",
       "  'G0': 1.0,\n",
       "  'Ga': 1.81,\n",
       "  'segregation_timer': 0.0,\n",
       "  'oriC': 2.0,\n",
       "  'terC': 1.0,\n",
       "  'physical_volume': 0.6050373945632646},\n",
       " 0.55: {'volume': 1.4640856959456254,\n",
       "  'G0': 1.0,\n",
       "  'Ga': 1.825,\n",
       "  'segregation_timer': 0.0,\n",
       "  'oriC': 2.0,\n",
       "  'terC': 1.0,\n",
       "  'physical_volume': 0.6092457624473361},\n",
       " 0.56: {'volume': 1.474269217291101,\n",
       "  'G0': 1.0,\n",
       "  'Ga': 1.84,\n",
       "  'segregation_timer': 0.0,\n",
       "  'oriC': 2.0,\n",
       "  'terC': 1.0,\n",
       "  'physical_volume': 0.6134834018448823},\n",
       " 0.5700000000000001: {'volume': 1.4845235706290492,\n",
       "  'G0': 1.0,\n",
       "  'Ga': 1.855,\n",
       "  'segregation_timer': 0.0,\n",
       "  'oriC': 2.0,\n",
       "  'terC': 1.0,\n",
       "  'physical_volume': 0.6177505163553806},\n",
       " 0.58: {'volume': 1.4948492486349383,\n",
       "  'G0': 1.0,\n",
       "  'Ga': 1.8699999999999999,\n",
       "  'segregation_timer': 0.0,\n",
       "  'oriC': 2.0,\n",
       "  'terC': 1.0,\n",
       "  'physical_volume': 0.6220473109944542},\n",
       " 0.59: {'volume': 1.5052467474110673,\n",
       "  'G0': 1.0,\n",
       "  'Ga': 1.885,\n",
       "  'segregation_timer': 0.0,\n",
       "  'oriC': 2.0,\n",
       "  'terC': 1.0,\n",
       "  'physical_volume': 0.6263739922037236},\n",
       " 0.6: {'volume': 1.5157165665103982,\n",
       "  'G0': 1.0,\n",
       "  'Ga': 1.9,\n",
       "  'segregation_timer': 0.0,\n",
       "  'oriC': 2.0,\n",
       "  'terC': 1.0,\n",
       "  'physical_volume': 0.6307307678607235},\n",
       " 0.61: {'volume': 1.5262592089605589,\n",
       "  'G0': 1.0,\n",
       "  'Ga': 1.915,\n",
       "  'segregation_timer': 0.0,\n",
       "  'oriC': 2.0,\n",
       "  'terC': 1.0,\n",
       "  'physical_volume': 0.6351178472888912},\n",
       " 0.62: {'volume': 1.5368751812880124,\n",
       "  'G0': 1.0,\n",
       "  'Ga': 1.9300000000000002,\n",
       "  'segregation_timer': 0.0,\n",
       "  'oriC': 2.0,\n",
       "  'terC': 1.0,\n",
       "  'physical_volume': 0.6395354412676247},\n",
       " 0.63: {'volume': 1.5475649935423899,\n",
       "  'G0': 1.0,\n",
       "  'Ga': 1.9449999999999998,\n",
       "  'segregation_timer': 0.0,\n",
       "  'oriC': 2.0,\n",
       "  'terC': 1.0,\n",
       "  'physical_volume': 0.6439837620424074},\n",
       " 0.64: {'volume': 1.5583291593209998,\n",
       "  'G0': 1.0,\n",
       "  'Ga': 1.96,\n",
       "  'segregation_timer': 0.0,\n",
       "  'oriC': 2.0,\n",
       "  'terC': 1.0,\n",
       "  'physical_volume': 0.6484630233350075},\n",
       " 0.65: {'volume': 1.5691681957935013,\n",
       "  'G0': 1.0,\n",
       "  'Ga': 1.975,\n",
       "  'segregation_timer': 0.0,\n",
       "  'oriC': 2.0,\n",
       "  'terC': 1.0,\n",
       "  'physical_volume': 0.6529734403537453},\n",
       " 0.66: {'volume': 1.5800826237267542,\n",
       "  'G0': 1.0,\n",
       "  'Ga': 1.99,\n",
       "  'segregation_timer': 0.0,\n",
       "  'oriC': 2.0,\n",
       "  'terC': 1.0,\n",
       "  'physical_volume': 0.6575152298038337},\n",
       " 0.67: {'volume': 1.5910729675098374,\n",
       "  'G0': 1.0,\n",
       "  'Ga': 2.0,\n",
       "  'segregation_timer': 0.19999999999999574,\n",
       "  'oriC': 2.0,\n",
       "  'terC': 2.0,\n",
       "  'physical_volume': 0.6620886098977893},\n",
       " 0.68: {'volume': 1.6021397551792442,\n",
       "  'G0': 1.0,\n",
       "  'Ga': 2.0,\n",
       "  'segregation_timer': 0.7999999999999972,\n",
       "  'oriC': 2.0,\n",
       "  'terC': 2.0,\n",
       "  'physical_volume': 0.6666938003659167},\n",
       " 0.6900000000000001: {'volume': 1.6132835184442529,\n",
       "  'G0': 1.0,\n",
       "  'Ga': 2.0,\n",
       "  'segregation_timer': 1.3999999999999986,\n",
       "  'oriC': 2.0,\n",
       "  'terC': 2.0,\n",
       "  'physical_volume': 0.671331022466866},\n",
       " 0.7000000000000001: {'volume': 1.624504792712471,\n",
       "  'G0': 1.0,\n",
       "  'Ga': 2.0,\n",
       "  'segregation_timer': 2.0,\n",
       "  'oriC': 2.0,\n",
       "  'terC': 2.0,\n",
       "  'physical_volume': 0.6760004989982624},\n",
       " 0.71: {'volume': 1.6358041171155622,\n",
       "  'G0': 1.0,\n",
       "  'Ga': 2.0,\n",
       "  'segregation_timer': 2.599999999999987,\n",
       "  'oriC': 2.0,\n",
       "  'terC': 2.0,\n",
       "  'physical_volume': 0.6807024543074117},\n",
       " 0.72: {'volume': 1.647182034535146,\n",
       "  'G0': 1.0,\n",
       "  'Ga': 2.0,\n",
       "  'segregation_timer': 3.1999999999999886,\n",
       "  'oriC': 2.0,\n",
       "  'terC': 2.0,\n",
       "  'physical_volume': 0.6854371143020782},\n",
       " 0.73: {'volume': 1.6586390916288833,\n",
       "  'G0': 1.0,\n",
       "  'Ga': 2.0,\n",
       "  'segregation_timer': 3.79999999999999,\n",
       "  'oriC': 2.0,\n",
       "  'terC': 2.0,\n",
       "  'physical_volume': 0.6902047064613392},\n",
       " 0.74: {'volume': 1.6701758388567387,\n",
       "  'G0': 1.0,\n",
       "  'Ga': 2.0,\n",
       "  'segregation_timer': 4.3999999999999915,\n",
       "  'oriC': 2.0,\n",
       "  'terC': 2.0,\n",
       "  'physical_volume': 0.6950054598465141},\n",
       " 0.75: {'volume': 1.681792830507429,\n",
       "  'G0': 1.0,\n",
       "  'Ga': 2.0,\n",
       "  'segregation_timer': 4.999999999999993,\n",
       "  'oriC': 2.0,\n",
       "  'terC': 2.0,\n",
       "  'physical_volume': 0.6998396051121692},\n",
       " 0.76: {'volume': 1.6934906247250543,\n",
       "  'G0': 1.0,\n",
       "  'Ga': 2.0,\n",
       "  'segregation_timer': 5.599999999999994,\n",
       "  'oriC': 2.0,\n",
       "  'terC': 2.0,\n",
       "  'physical_volume': 0.7047073745172013},\n",
       " 0.77: {'volume': 1.7052697835359134,\n",
       "  'G0': 1.0,\n",
       "  'Ga': 2.0,\n",
       "  'segregation_timer': 6.199999999999996,\n",
       "  'oriC': 2.0,\n",
       "  'terC': 2.0,\n",
       "  'physical_volume': 0.7096090019359946},\n",
       " 0.78: {'volume': 1.717130872875508,\n",
       "  'G0': 1.0,\n",
       "  'Ga': 2.0,\n",
       "  'segregation_timer': 6.799999999999997,\n",
       "  'oriC': 2.0,\n",
       "  'terC': 2.0,\n",
       "  'physical_volume': 0.7145447228696589},\n",
       " 0.79: {'volume': 1.7290744626157304,\n",
       "  'G0': 1.0,\n",
       "  'Ga': 2.0,\n",
       "  'segregation_timer': 7.399999999999999,\n",
       "  'oriC': 2.0,\n",
       "  'terC': 2.0,\n",
       "  'physical_volume': 0.7195147744573429},\n",
       " 0.8: {'volume': 1.7411011265922482,\n",
       "  'G0': 1.0,\n",
       "  'Ga': 2.0,\n",
       "  'segregation_timer': 7.999999999999993,\n",
       "  'oriC': 2.0,\n",
       "  'terC': 2.0,\n",
       "  'physical_volume': 0.7245193954876297},\n",
       " 0.81: {'volume': 1.75321144263207,\n",
       "  'G0': 1.0,\n",
       "  'Ga': 2.0,\n",
       "  'segregation_timer': 8.599999999999994,\n",
       "  'oriC': 2.0,\n",
       "  'terC': 2.0,\n",
       "  'physical_volume': 0.7295588264100075},\n",
       " 0.8200000000000001: {'volume': 1.7654059925813097,\n",
       "  'G0': 1.0,\n",
       "  'Ga': 2.0,\n",
       "  'segregation_timer': 9.199999999999996,\n",
       "  'oriC': 2.0,\n",
       "  'terC': 2.0,\n",
       "  'physical_volume': 0.7346333093464233},\n",
       " 0.8300000000000001: {'volume': 1.7776853623331408,\n",
       "  'G0': 1.0,\n",
       "  'Ga': 2.0,\n",
       "  'segregation_timer': 9.799999999999997,\n",
       "  'oriC': 2.0,\n",
       "  'terC': 2.0,\n",
       "  'physical_volume': 0.7397430881029156},\n",
       " 0.84: {'volume': 1.790050141855945,\n",
       "  'G0': 1.0,\n",
       "  'Ga': 2.0,\n",
       "  'segregation_timer': 10.399999999999991,\n",
       "  'oriC': 2.0,\n",
       "  'terC': 2.0,\n",
       "  'physical_volume': 0.7448884081813271},\n",
       " 0.85: {'volume': 1.8025009252216606,\n",
       "  'G0': 1.0,\n",
       "  'Ga': 2.0,\n",
       "  'segregation_timer': 10.999999999999993,\n",
       "  'oriC': 2.0,\n",
       "  'terC': 2.0,\n",
       "  'physical_volume': 0.7500695167911019},\n",
       " 0.86: {'volume': 1.8150383106343215,\n",
       "  'G0': 1.0,\n",
       "  'Ga': 2.0,\n",
       "  'segregation_timer': 11.599999999999994,\n",
       "  'oriC': 2.0,\n",
       "  'terC': 2.0,\n",
       "  'physical_volume': 0.7552866628611611},\n",
       " 0.87: {'volume': 1.8276629004588012,\n",
       "  'G0': 1.0,\n",
       "  'Ga': 2.0,\n",
       "  'segregation_timer': 12.199999999999996,\n",
       "  'oriC': 2.0,\n",
       "  'terC': 2.0,\n",
       "  'physical_volume': 0.7605400970518642},\n",
       " 0.88: {'volume': 1.8403753012497501,\n",
       "  'G0': 1.0,\n",
       "  'Ga': 2.0,\n",
       "  'segregation_timer': 12.79999999999999,\n",
       "  'oriC': 2.0,\n",
       "  'terC': 2.0,\n",
       "  'physical_volume': 0.7658300717670501},\n",
       " 0.89: {'volume': 1.8531761237807418,\n",
       "  'G0': 1.0,\n",
       "  'Ga': 2.0,\n",
       "  'segregation_timer': 13.399999999999991,\n",
       "  'oriC': 2.0,\n",
       "  'terC': 2.0,\n",
       "  'physical_volume': 0.7711568411661665},\n",
       " 0.9: {'volume': 1.8660659830736148,\n",
       "  'G0': 1.0,\n",
       "  'Ga': 2.0,\n",
       "  'segregation_timer': 13.999999999999993,\n",
       "  'oriC': 2.0,\n",
       "  'terC': 2.0,\n",
       "  'physical_volume': 0.7765206611764789},\n",
       " 0.91: {'volume': 1.8790454984280234,\n",
       "  'G0': 1.0,\n",
       "  'Ga': 2.0,\n",
       "  'segregation_timer': 14.599999999999994,\n",
       "  'oriC': 2.0,\n",
       "  'terC': 2.0,\n",
       "  'physical_volume': 0.7819217895053682},\n",
       " 0.92: {'volume': 1.892115293451192,\n",
       "  'G0': 1.0,\n",
       "  'Ga': 2.0,\n",
       "  'segregation_timer': 15.199999999999996,\n",
       "  'oriC': 2.0,\n",
       "  'terC': 2.0,\n",
       "  'physical_volume': 0.787360485652712},\n",
       " 0.93: {'volume': 1.905275996087875,\n",
       "  'G0': 1.0,\n",
       "  'Ga': 2.0,\n",
       "  'segregation_timer': 15.799999999999997,\n",
       "  'oriC': 2.0,\n",
       "  'terC': 2.0,\n",
       "  'physical_volume': 0.7928370109233519},\n",
       " 0.9400000000000001: {'volume': 1.918528238650529,\n",
       "  'G0': 1.0,\n",
       "  'Ga': 2.0,\n",
       "  'segregation_timer': 16.4,\n",
       "  'oriC': 2.0,\n",
       "  'terC': 2.0,\n",
       "  'physical_volume': 0.7983516284396486},\n",
       " 0.9500000000000001: {'volume': 1.931872657849691,\n",
       "  'G0': 1.0,\n",
       "  'Ga': 2.0,\n",
       "  'segregation_timer': 17.0,\n",
       "  'oriC': 2.0,\n",
       "  'terC': 2.0,\n",
       "  'physical_volume': 0.8039046031541234},\n",
       " 0.96: {'volume': 1.945309894824571,\n",
       "  'G0': 1.0,\n",
       "  'Ga': 2.0,\n",
       "  'segregation_timer': 17.599999999999987,\n",
       "  'oriC': 2.0,\n",
       "  'terC': 2.0,\n",
       "  'physical_volume': 0.8094962018621886},\n",
       " 0.97: {'volume': 1.9588405951738534,\n",
       "  'G0': 1.0,\n",
       "  'Ga': 2.0,\n",
       "  'segregation_timer': 18.19999999999999,\n",
       "  'oriC': 2.0,\n",
       "  'terC': 2.0,\n",
       "  'physical_volume': 0.8151266932149648},\n",
       " 0.98: {'volume': 1.9724654089867184,\n",
       "  'G0': 1.0,\n",
       "  'Ga': 2.0,\n",
       "  'segregation_timer': 18.79999999999999,\n",
       "  'oriC': 2.0,\n",
       "  'terC': 2.0,\n",
       "  'physical_volume': 0.8207963477321892},\n",
       " 0.99: {'volume': 1.9861849908740719,\n",
       "  'G0': 1.0,\n",
       "  'Ga': 2.0,\n",
       "  'segregation_timer': 19.39999999999999,\n",
       "  'oriC': 2.0,\n",
       "  'terC': 2.0,\n",
       "  'physical_volume': 0.8265054378152125},\n",
       " 1.0: {'volume': 2.0,\n",
       "  'G0': 1.0,\n",
       "  'Ga': 2.0,\n",
       "  'segregation_timer': 19.999999999999993,\n",
       "  'oriC': 2.0,\n",
       "  'terC': 2.0,\n",
       "  'physical_volume': 0.8322542377600864}}"
      ]
     },
     "execution_count": 91,
     "metadata": {},
     "output_type": "execute_result"
    }
   ],
   "source": [
    "distRes"
   ]
  },
  {
   "cell_type": "code",
   "execution_count": 92,
   "metadata": {},
   "outputs": [
    {
     "data": {
      "text/plain": [
       "[<matplotlib.lines.Line2D at 0x1a2f88e390>]"
      ]
     },
     "execution_count": 92,
     "metadata": {},
     "output_type": "execute_result"
    },
    {
     "data": {
      "image/png": "[encoded data removed]",
      "text/plain": [
       "<Figure size 432x288 with 1 Axes>"
      ]
     },
     "metadata": {
      "needs_background": "light"
     },
     "output_type": "display_data"
    }
   ],
   "source": [
    "plt.plot(sorted([i for i in distRes]), [distRes[i]['physical_volume'] for i in sorted([i for i in distRes])])"
   ]
  },
  {
   "cell_type": "code",
   "execution_count": 180,
   "metadata": {},
   "outputs": [
    {
     "data": {
      "text/plain": [
       "[<matplotlib.lines.Line2D at 0x1a33987978>]"
      ]
     },
     "execution_count": 180,
     "metadata": {},
     "output_type": "execute_result"
    },
    {
     "data": {
      "image/png": "[encoded data removed]",
      "text/plain": [
       "<Figure size 432x288 with 1 Axes>"
      ]
     },
     "metadata": {
      "needs_background": "light"
     },
     "output_type": "display_data"
    }
   ],
   "source": [
    "#plt.plot(Ga, [(i/max(weights))*100.0 for i in weights])\n",
    "plt.plot(Ga, [i/max(weights) for i in weights])"
   ]
  },
  {
   "cell_type": "code",
   "execution_count": 250,
   "metadata": {},
   "outputs": [
    {
     "data": {
      "text/plain": [
       "[<matplotlib.lines.Line2D at 0x1a34aec9b0>]"
      ]
     },
     "execution_count": 250,
     "metadata": {},
     "output_type": "execute_result"
    },
    {
     "data": {
      "image/png": "[encoded data removed]",
      "text/plain": [
       "<Figure size 432x288 with 1 Axes>"
      ]
     },
     "metadata": {
      "needs_background": "light"
     },
     "output_type": "display_data"
    }
   ],
   "source": [
    "plt.plot(age_array, [(i/max(weights))*100.0 for i in weights])"
   ]
  },
  {
   "cell_type": "code",
   "execution_count": null,
   "metadata": {},
   "outputs": [],
   "source": [
    "#### need to plot the histogram of cell number distributions ####"
   ]
  },
  {
   "cell_type": "code",
   "execution_count": 2,
   "metadata": {},
   "outputs": [],
   "source": [
    "##### trying to use the mean population adjusted cell volume to calculate cell count\n",
    "gr_h = 0.6931471805599453\n",
    "C = 40.0\n",
    "D = 20.0\n",
    "def popCellCount_meanPop(gr_h, C=40.0, D=20.0):\n",
    "    #1) calculate the average cell age\n",
    "    mean_cell_age = 0.44269504088896355\n",
    "    #2) calculate the (measured) mean cell volume\n",
    "    measured_mean_cell_volume = -0.53*gr_h**2.0 + 2.41*gr_h + 1.62\n",
    "    print('################ GR '+str(gr_h)+' ########## ('+str((np.log(2)/gr_h)*60.0)+') #####')\n",
    "    print('Measured mean cell volume: '+str(measured_mean_cell_volume))\n",
    "    #3) calculate \n",
    "    #results = (ctypes.c_double*6)()\n",
    "    #status = simulator.cell_parameters(ctypes.c_double((np.log(2)/gr_h)*60.0), ctypes.c_double(C), ctypes.c_double(D), ctypes.c_double(mean_cell_age), results)\n",
    "    #results = [i for i in results]\n",
    "    #theoretical_cell_volume = results[0]\n",
    "    #print('Theoretical Cell Volume: '+str(theoretical_cell_volume))\n",
    "    #theoretical_cell_volume_adjustment = theoretical_cell_volume/measured_cell_volume\n",
    "    #print('Cell Volume Adjustment: '+str(theoretical_cell_volume_adjustment))\n",
    "    #### adjust for the different \n",
    "    age_array = np.arange(0.0, 1.0, 0.0001)\n",
    "    weights = []\n",
    "    for i in age_array:\n",
    "        weights.append(integrate.quad(ageDistFunc, i, i+0.0001)[0])\n",
    "    #### calculate the physical volume ###\n",
    "    theoretical_cell_volume = []\n",
    "    Ga = []\n",
    "    for i in age_array:\n",
    "        results = (ctypes.c_double*6)()\n",
    "        status = simulator.cell_parameters(ctypes.c_double((np.log(2)/gr_h)*60.0), ctypes.c_double(C), ctypes.c_double(D), ctypes.c_double(i), results)\n",
    "        results = [i for i in results]\n",
    "        theoretical_cell_volume.append(results[0])\n",
    "        Ga.append(results[2])\n",
    "\n",
    "    print('Theoretical mean cell volume: '+str(np.mean(theoretical_cell_volume)))\n",
    "    if measured_mean_cell_volume>=np.mean(theoretical_cell_volume):\n",
    "        theoretical_cell_volume_adjustment = measured_mean_cell_volume/np.mean(theoretical_cell_volume)\n",
    "    elif np.mean(theoretical_cell_volume)>measured_mean_cell_volume:\n",
    "        theoretical_cell_volume_adjustment = measured_mean_cell_volume*np.mean(theoretical_cell_volume)\n",
    "    print('Cell volume adjustment: '+str(theoretical_cell_volume_adjustment))   \n",
    "\n",
    "    physical_cell_volume = [i*theoretical_cell_volume_adjustment for i in theoretical_cell_volume]\n",
    "\n",
    "    print('Physical mean cell volume: '+str(np.mean(physical_cell_volume)))\n",
    "\n",
    "    #cell_concentration --> mL**-1 * OD**-1\n",
    "    #population_cell_concentration = (3.6*10.0**9.0)/measured_mean_cell_volume\n",
    "    population_cell_concentration = (3.6*10.0**9.0)/np.mean(physical_cell_volume)\n",
    "    print('Old: 8 * 10^8 * mL-1 * OD-1 ')\n",
    "    print('New: '+str(population_cell_concentration/10.0**8.0)+' * 10^8 * mL-1 * OD-1')\n",
    "    return population_cell_concentration"
   ]
  },
  {
   "cell_type": "code",
   "execution_count": 324,
   "metadata": {},
   "outputs": [
    {
     "name": "stdout",
     "output_type": "stream",
     "text": [
      "################ GR 0.1 ########## (415.8883083359671) #####\n",
      "Measured mean cell volume: 1.8557000000000001\n",
      "Theoretical mean cell volume: 0.7971846724674538\n",
      "Cell volume adjustment: 2.327816958969142\n",
      "Physical mean cell volume: 1.8557\n",
      "Old: 8 * 10^8 * mL-1 * OD-1 \n",
      "New: 19.39968744947998 * 10^8 * mL-1 * OD-1\n",
      "################ GR 0.30000000000000004 ########## (138.62943611198904) #####\n",
      "Measured mean cell volume: 2.2953\n",
      "Theoretical mean cell volume: 0.9736835577147598\n",
      "Cell volume adjustment: 2.357336715623586\n",
      "Physical mean cell volume: 2.2953\n",
      "Old: 8 * 10^8 * mL-1 * OD-1 \n",
      "New: 15.684224284407264 * 10^8 * mL-1 * OD-1\n",
      "################ GR 0.5000000000000001 ########## (83.17766166719342) #####\n",
      "Measured mean cell volume: 2.6925000000000003\n",
      "Theoretical mean cell volume: 1.1892597829680147\n",
      "Cell volume adjustment: 2.2640133287618416\n",
      "Physical mean cell volume: 2.6925\n",
      "Old: 8 * 10^8 * mL-1 * OD-1 \n",
      "New: 13.370473537604457 * 10^8 * mL-1 * OD-1\n",
      "################ GR 0.7000000000000001 ########## (59.41261547656673) #####\n",
      "Measured mean cell volume: 3.0473000000000003\n",
      "Theoretical mean cell volume: 1.4525651790860978\n",
      "Cell volume adjustment: 2.0978748794716755\n",
      "Physical mean cell volume: 3.047300000000001\n",
      "Old: 8 * 10^8 * mL-1 * OD-1 \n",
      "New: 11.813736750566072 * 10^8 * mL-1 * OD-1\n",
      "################ GR 0.9000000000000001 ########## (46.20981203732968) #####\n",
      "Measured mean cell volume: 3.3597\n",
      "Theoretical mean cell volume: 1.7741671161431811\n",
      "Cell volume adjustment: 1.8936773032427578\n",
      "Physical mean cell volume: 3.3597\n",
      "Old: 8 * 10^8 * mL-1 * OD-1 \n",
      "New: 10.715242432360032 * 10^8 * mL-1 * OD-1\n",
      "################ GR 1.1000000000000003 ########## (37.80802803054246) #####\n",
      "Measured mean cell volume: 3.6297000000000006\n",
      "Theoretical mean cell volume: 2.166972609094356\n",
      "Cell volume adjustment: 1.6750096354549506\n",
      "Physical mean cell volume: 3.6297000000000006\n",
      "Old: 8 * 10^8 * mL-1 * OD-1 \n",
      "New: 9.918175055789733 * 10^8 * mL-1 * OD-1\n",
      "################ GR 1.3000000000000003 ########## (31.99140833353593) #####\n",
      "Measured mean cell volume: 3.8573000000000004\n",
      "Theoretical mean cell volume: 2.6467463216053866\n",
      "Cell volume adjustment: 1.4573742744111386\n",
      "Physical mean cell volume: 3.8573\n",
      "Old: 8 * 10^8 * mL-1 * OD-1 \n",
      "New: 9.332953101910663 * 10^8 * mL-1 * OD-1\n",
      "################ GR 1.5000000000000004 ########## (27.725887222397805) #####\n",
      "Measured mean cell volume: 4.0425\n",
      "Theoretical mean cell volume: 3.2327432573591026\n",
      "Cell volume adjustment: 1.2504859427972037\n",
      "Physical mean cell volume: 4.042500000000001\n",
      "Old: 8 * 10^8 * mL-1 * OD-1 \n",
      "New: 8.90538033395176 * 10^8 * mL-1 * OD-1\n",
      "################ GR 1.7000000000000004 ########## (24.464018137409827) #####\n",
      "Measured mean cell volume: 4.185300000000001\n",
      "Theoretical mean cell volume: 3.9484815309621\n",
      "Cell volume adjustment: 1.059977099343351\n",
      "Physical mean cell volume: 4.185300000000001\n",
      "Old: 8 * 10^8 * mL-1 * OD-1 \n",
      "New: 8.601533940219339 * 10^8 * mL-1 * OD-1\n",
      "################ GR 1.9000000000000004 ########## (21.88885833347195) #####\n",
      "Measured mean cell volume: 4.285700000000001\n",
      "Theoretical mean cell volume: 4.822686232461598\n",
      "Cell volume adjustment: 20.668586386460678\n",
      "Physical mean cell volume: 99.67810701042717\n",
      "Old: 8 * 10^8 * mL-1 * OD-1 \n",
      "New: 0.3611625569517898 * 10^8 * mL-1 * OD-1\n",
      "################ GR 2.1000000000000005 ########## (19.804205158855574) #####\n",
      "Measured mean cell volume: 4.3437\n",
      "Theoretical mean cell volume: 5.890442266069677\n",
      "Cell volume adjustment: 25.586314071126857\n",
      "Physical mean cell volume: 150.71470583749894\n",
      "Old: 8 * 10^8 * mL-1 * OD-1 \n",
      "New: 0.2388618934028595 * 10^8 * mL-1 * OD-1\n",
      "################ GR 2.3000000000000007 ########## (18.08210036243335) #####\n",
      "Measured mean cell volume: 4.3593\n",
      "Theoretical mean cell volume: 7.194602430560744\n",
      "Cell volume adjustment: 31.36343037554345\n",
      "Physical mean cell volume: 225.64741241060756\n",
      "Old: 8 * 10^8 * mL-1 * OD-1 \n",
      "New: 0.15954093873893527 * 10^8 * mL-1 * OD-1\n",
      "################ GR 2.5000000000000004 ########## (16.635532333438682) #####\n",
      "Measured mean cell volume: 4.3325000000000005\n",
      "Theoretical mean cell volume: 8.787507252552755\n",
      "Cell volume adjustment: 38.071875171684816\n",
      "Physical mean cell volume: 334.5568791894635\n",
      "Old: 8 * 10^8 * mL-1 * OD-1 \n",
      "New: 0.10760502096748929 * 10^8 * mL-1 * OD-1\n",
      "################ GR 2.7000000000000006 ########## (15.403270679109891) #####\n",
      "Measured mean cell volume: 4.263299999999999\n",
      "Theoretical mean cell volume: 10.733085595620432\n",
      "Cell volume adjustment: 45.75836381980858\n",
      "Physical mean cell volume: 491.12843559354656\n",
      "Old: 8 * 10^8 * mL-1 * OD-1 \n",
      "New: 0.07330058166249871 * 10^8 * mL-1 * OD-1\n",
      "################ GR 2.900000000000001 ########## (14.340976149516106) #####\n",
      "Measured mean cell volume: 4.1517\n",
      "Theoretical mean cell volume: 13.109420350059983\n",
      "Cell volume adjustment: 54.42638046734403\n",
      "Physical mean cell volume: 713.4982996787071\n",
      "Old: 8 * 10^8 * mL-1 * OD-1 \n",
      "New: 0.05045562129049366 * 10^8 * mL-1 * OD-1\n",
      "################ GR 3.1000000000000005 ########## (13.415751881805392) #####\n",
      "Measured mean cell volume: 3.9977\n",
      "Theoretical mean cell volume: 16.011882173444313\n",
      "Cell volume adjustment: 64.01070136477833\n",
      "Physical mean cell volume: 1024.931808092362\n",
      "Old: 8 * 10^8 * mL-1 * OD-1 \n",
      "New: 0.03512428799239281 * 10^8 * mL-1 * OD-1\n",
      "################ GR 3.3000000000000007 ########## (12.60267601018082) #####\n",
      "Measured mean cell volume: 3.8012999999999995\n",
      "Theoretical mean cell volume: 19.556957049980554\n",
      "Cell volume adjustment: 74.34186083409107\n",
      "Physical mean cell volume: 1453.9005793479505\n",
      "Old: 8 * 10^8 * mL-1 * OD-1 \n",
      "New: 0.024760977821568365 * 10^8 * mL-1 * OD-1\n",
      "################ GR 3.500000000000001 ########## (11.882523095313346) #####\n",
      "Measured mean cell volume: 3.5624999999999982\n",
      "Theoretical mean cell volume: 23.886921282066226\n",
      "Cell volume adjustment: 85.09715706736088\n",
      "Physical mean cell volume: 2032.7090921956749\n",
      "Old: 8 * 10^8 * mL-1 * OD-1 \n",
      "New: 0.01771035517980284 * 10^8 * mL-1 * OD-1\n",
      "################ GR 3.7000000000000006 ########## (11.240224549620732) #####\n",
      "Measured mean cell volume: 3.281299999999999\n",
      "Theoretical mean cell volume: 29.17555153787055\n",
      "Cell volume adjustment: 95.73373726121461\n",
      "Physical mean cell volume: 2793.084585377525\n",
      "Old: 8 * 10^8 * mL-1 * OD-1 \n",
      "New: 0.012888975933084423 * 10^8 * mL-1 * OD-1\n",
      "################ GR 3.900000000000001 ########## (10.66380277784531) #####\n",
      "Measured mean cell volume: 2.9577\n",
      "Theoretical mean cell volume: 35.63509911919927\n",
      "Cell volume adjustment: 105.39793266485567\n",
      "Physical mean cell volume: 3755.8657774708226\n",
      "Old: 8 * 10^8 * mL-1 * OD-1 \n",
      "New: 0.009585007061738555 * 10^8 * mL-1 * OD-1\n"
     ]
    },
    {
     "data": {
      "text/plain": [
       "[<matplotlib.lines.Line2D at 0x1a34ff8748>]"
      ]
     },
     "execution_count": 324,
     "metadata": {},
     "output_type": "execute_result"
    },
    {
     "data": {
      "image/png": "[encoded data removed]",
      "text/plain": [
       "<Figure size 432x288 with 1 Axes>"
      ]
     },
     "metadata": {
      "needs_background": "light"
     },
     "output_type": "display_data"
    }
   ],
   "source": [
    "ageRange = np.arange(0.1, 4.0, 0.2)\n",
    "plt.plot(ageRange, [popCellCount_meanPop(i) for i in ageRange])\n",
    "plt.plot(ageRange, [8.0*10.0**8.0]*len(ageRange)) "
   ]
  },
  {
   "cell_type": "code",
   "execution_count": 316,
   "metadata": {},
   "outputs": [
    {
     "name": "stdout",
     "output_type": "stream",
     "text": [
      "################ GR 0.6931471805599453 ########## (60.0) #####\n",
      "Measured mean cell volume: 3.0358446077728214\n",
      "Theoretical mean cell volume: 1.4426450414665861\n",
      "Cell volume adjustment: 2.104360061215471\n",
      "Physical mean cell volume: 3.035844607772821\n",
      "Old: 8 * 10^8 * mL-1 * OD-1 \n",
      "New: 11.858314456486818 * 10^8 * mL-1 * OD-1\n"
     ]
    },
    {
     "data": {
      "text/plain": [
       "1185831445.6486819"
      ]
     },
     "execution_count": 316,
     "metadata": {},
     "output_type": "execute_result"
    }
   ],
   "source": [
    "gr_h = 0.6931471805599453\n",
    "popCellCount_meanPop(gr_h)"
   ]
  },
  {
   "cell_type": "code",
   "execution_count": 295,
   "metadata": {},
   "outputs": [
    {
     "name": "stdout",
     "output_type": "stream",
     "text": [
      "GR hour: 0.6931471805599453\n",
      "GR minutes: \n",
      "Doubling time hours: 1.0\n",
      "Doubling time minutes: 60.0\n"
     ]
    }
   ],
   "source": [
    "gr_h = 0.6931471805599453\n",
    "print('GR hour: '+str(gr_h))\n",
    "print('GR minutes: ')\n",
    "print('Doubling time hours: '+str(np.log(2)/gr_h))\n",
    "print('Doubling time minutes: '+str((np.log(2)/gr_h)*60.0))"
   ]
  },
  {
   "cell_type": "code",
   "execution_count": 313,
   "metadata": {},
   "outputs": [],
   "source": [
    "def ch_volume(doubling_time_min, cell_age, C=40.0, D=20.0):\n",
    "    return 2.0**((C+D+(cell_age*doubling_time_min))/doubling_time_min)-1.0"
   ]
  },
  {
   "cell_type": "code",
   "execution_count": 6,
   "metadata": {},
   "outputs": [],
   "source": [
    "def popCellCount(gr_h, C=40.0, D=20.0):\n",
    "    #gr_h = np.log(2.0)/(divRate_min/60.0)\n",
    "    #gr_h = np.log(2.0)/(divRate_min/60.0)\n",
    "    #gr_h = 2.2\n",
    "    #C = 40.0\n",
    "    #D = 20.0\n",
    "    #1) calculate the average cell age\n",
    "    mean_cell_age = 0.44269504088896355\n",
    "    #Volkmer cell concentration\n",
    "    #2) calculate the (measured) mean cell volume\n",
    "    measured_cell_volume = -0.53*gr_h**2.0 + 2.41*gr_h + 1.62\n",
    "    #3) calculate \n",
    "    results = (ctypes.c_double*6)()\n",
    "    status = simulator.cell_parameters(ctypes.c_double((np.log(2)/gr_h)*60.0), ctypes.c_double(C), ctypes.c_double(D), ctypes.c_double(mean_cell_age), results)\n",
    "    #status = simulator.cell_parameters(ctypes.c_double(divRate_min), ctypes.c_double(C), ctypes.c_double(D), ctypes.c_double(mean_cell_age), results)\n",
    "    results = [i for i in results]\n",
    "    theoretical_cell_volume = results[0]\n",
    "    theoretical_cell_volume_adjustment = theoretical_cell_volume/measured_cell_volume\n",
    "    #### adjust for the different age \n",
    "    age_array = np.arange(0.0, 1.0, 0.0001)\n",
    "    weights = []\n",
    "    for i in age_array:\n",
    "        weights.append(integrate.quad(ageDistFunc, i, i+0.0001)[0])\n",
    "    #### calculate the physical volume ###\n",
    "    physical_volume = []\n",
    "    Ga = []\n",
    "    for i in age_array:\n",
    "        results = (ctypes.c_double*6)()\n",
    "        status = simulator.cell_parameters(ctypes.c_double((np.log(2)/gr_h)*60.0), ctypes.c_double(C), ctypes.c_double(D), ctypes.c_double(i), results)\n",
    "        results = [i for i in results]\n",
    "        physical_volume.append(theoretical_cell_volume_adjustment*results[0])\n",
    "        Ga.append(results[2])\n",
    "\n",
    "    #cell_volume = -0.53*gr_h**2.0 + 2.41*gr_h + 1.62\n",
    "    #cell_concentration --> mL**-1 * OD**-1\n",
    "    #change this to use the median or mean of the theoretical cell distribution (see if they are close)\n",
    "    # and the std deviation \n",
    "    population_cell_concentration = (3.6*10.0**9.0)/measured_cell_volume \n",
    "    #print('Old: 8.0 * 10^8 * mL-1 * OD-1 ')\n",
    "    #print('New: {0:.2f} * 10^8 * mL-1 * OD-1'.format(population_cell_concentration/10**8))\n",
    "    return population_cell_concentration"
   ]
  },
  {
   "cell_type": "code",
   "execution_count": 7,
   "metadata": {},
   "outputs": [
    {
     "data": {
      "text/plain": [
       "[<matplotlib.lines.Line2D at 0x7fcc294b5908>]"
      ]
     },
     "execution_count": 7,
     "metadata": {},
     "output_type": "execute_result"
    },
    {
     "data": {
      "image/png": "[encoded data removed]",
      "text/plain": [
       "<Figure size 432x288 with 1 Axes>"
      ]
     },
     "metadata": {
      "needs_background": "light"
     },
     "output_type": "display_data"
    }
   ],
   "source": [
    "ageRange = np.arange(0.001, 2.0, 0.01)\n",
    "plt.plot(ageRange, [popCellCount(i) for i in ageRange])\n",
    "plt.plot(ageRange, [8.0*10.0**8.0]*len(ageRange)) "
   ]
  },
  {
   "cell_type": "code",
   "execution_count": 8,
   "metadata": {},
   "outputs": [
    {
     "data": {
      "application/vnd.plotly.v1+json": {
       "config": {
        "linkText": "Export to plot.ly",
        "plotlyServerURL": "https://plot.ly",
        "responsive": true,
        "showLink": false
       },
       "data": [
        {
         "line": {
          "color": "rgb(31, 119, 180)"
         },
         "mode": "lines",
         "name": "Measurement",
         "type": "scatter",
         "uid": "02a5a989-db70-4648-8cc2-71cc0f1870fb",
         "x": [
          0.001,
          0.011,
          0.020999999999999998,
          0.030999999999999996,
          0.040999999999999995,
          0.05099999999999999,
          0.06099999999999999,
          0.071,
          0.08099999999999999,
          0.09099999999999998,
          0.10099999999999998,
          0.11099999999999999,
          0.12099999999999998,
          0.13099999999999998,
          0.141,
          0.15099999999999997,
          0.16099999999999998,
          0.17099999999999999,
          0.18099999999999997,
          0.19099999999999998,
          0.20099999999999996,
          0.21099999999999997,
          0.22099999999999997,
          0.23099999999999996,
          0.24099999999999996,
          0.25099999999999995,
          0.26099999999999995,
          0.27099999999999996,
          0.28099999999999997,
          0.291,
          0.30099999999999993,
          0.31099999999999994,
          0.32099999999999995,
          0.33099999999999996,
          0.34099999999999997,
          0.3509999999999999,
          0.36099999999999993,
          0.37099999999999994,
          0.38099999999999995,
          0.39099999999999996,
          0.4009999999999999,
          0.4109999999999999,
          0.42099999999999993,
          0.43099999999999994,
          0.44099999999999995,
          0.45099999999999996,
          0.4609999999999999,
          0.4709999999999999,
          0.4809999999999999,
          0.49099999999999994,
          0.5009999999999999,
          0.5109999999999999,
          0.5209999999999999,
          0.5309999999999999,
          0.5409999999999999,
          0.5509999999999999,
          0.5609999999999999,
          0.571,
          0.581,
          0.5909999999999999,
          0.6009999999999999,
          0.6109999999999999,
          0.6209999999999999,
          0.6309999999999999,
          0.6409999999999999,
          0.6509999999999999,
          0.6609999999999999,
          0.6709999999999999,
          0.6809999999999999,
          0.691,
          0.7009999999999998,
          0.7109999999999999,
          0.7209999999999999,
          0.7309999999999999,
          0.7409999999999999,
          0.7509999999999999,
          0.7609999999999999,
          0.7709999999999999,
          0.7809999999999999,
          0.7909999999999999,
          0.8009999999999998,
          0.8109999999999998,
          0.8209999999999998,
          0.8309999999999998,
          0.8409999999999999,
          0.8509999999999999,
          0.8609999999999999,
          0.8709999999999999,
          0.8809999999999999,
          0.8909999999999999,
          0.9009999999999999,
          0.9109999999999998,
          0.9209999999999998,
          0.9309999999999998,
          0.9409999999999998,
          0.9509999999999998,
          0.9609999999999999,
          0.9709999999999999,
          0.9809999999999999,
          0.9909999999999999,
          1.001,
          1.0109999999999997,
          1.0209999999999997,
          1.0309999999999997,
          1.0409999999999997,
          1.0509999999999997,
          1.0609999999999997,
          1.0709999999999997,
          1.0809999999999997,
          1.0909999999999997,
          1.1009999999999998,
          1.1109999999999998,
          1.1209999999999998,
          1.1309999999999998,
          1.1409999999999998,
          1.1509999999999998,
          1.1609999999999998,
          1.1709999999999998,
          1.1809999999999996,
          1.1909999999999996,
          1.2009999999999996,
          1.2109999999999996,
          1.2209999999999996,
          1.2309999999999997,
          1.2409999999999997,
          1.2509999999999997,
          1.2609999999999997,
          1.2709999999999997,
          1.2809999999999997,
          1.2909999999999997,
          1.3009999999999997,
          1.3109999999999997,
          1.3209999999999997,
          1.3309999999999997,
          1.3409999999999997,
          1.3509999999999998,
          1.3609999999999998,
          1.3709999999999998,
          1.3809999999999998,
          1.3909999999999996,
          1.4009999999999996,
          1.4109999999999996,
          1.4209999999999996,
          1.4309999999999996,
          1.4409999999999996,
          1.4509999999999996,
          1.4609999999999996,
          1.4709999999999996,
          1.4809999999999997,
          1.4909999999999997,
          1.5009999999999997,
          1.5109999999999997,
          1.5209999999999997,
          1.5309999999999997,
          1.5409999999999997,
          1.5509999999999997,
          1.5609999999999997,
          1.5709999999999997,
          1.5809999999999997,
          1.5909999999999997,
          1.6009999999999995,
          1.6109999999999995,
          1.6209999999999996,
          1.6309999999999996,
          1.6409999999999996,
          1.6509999999999996,
          1.6609999999999996,
          1.6709999999999996,
          1.6809999999999996,
          1.6909999999999996,
          1.7009999999999996,
          1.7109999999999996,
          1.7209999999999996,
          1.7309999999999997,
          1.7409999999999997,
          1.7509999999999997,
          1.7609999999999997,
          1.7709999999999997,
          1.7809999999999997,
          1.7909999999999997,
          1.8009999999999997,
          1.8109999999999997,
          1.8209999999999995,
          1.8309999999999995,
          1.8409999999999995,
          1.8509999999999995,
          1.8609999999999995,
          1.8709999999999996,
          1.8809999999999996,
          1.8909999999999996,
          1.9009999999999996,
          1.9109999999999996,
          1.9209999999999996,
          1.9309999999999996,
          1.9409999999999996,
          1.9509999999999996,
          1.9609999999999996,
          1.9709999999999996,
          1.9809999999999997,
          1.9909999999999997
         ],
         "y": [
          2218921959.325102,
          2186528002.891464,
          2155203030.9913344,
          2124895866.0841515,
          2095558552.708772,
          2067146107.902374,
          2039616294.4651153,
          2012929414.6674683,
          1987048122.2817492,
          1961937251.0666084,
          1937563658.0484965,
          1913896080.1318944,
          1890905002.7342749,
          1868562539.285554,
          1846842320.5579913,
          1825719392.90347,
          1805170124.5728347,
          1785172119.3782084,
          1765704137.0354743,
          1746746019.5915906,
          1728278623.4013045,
          1710283756.170983,
          1692744118.6346173,
          1675643250.4691906,
          1658965480.0942183,
          1642695878.0338829,
          1626820213.550249,
          1611324914.2829974,
          1596197028.6552882,
          1581424190.8270836,
          1566994587.9967945,
          1552896929.8697124,
          1539120420.1275444,
          1525654729.7477038,
          1512489972.0339344,
          1499616679.23158,
          1487025780.6113956,
          1474708581.9154348,
          1462656746.0672727,
          1450862275.0567513,
          1439317492.9166687,
          1428015029.7153864,
          1416947806.4953258,
          1406109021.0927951,
          1395492134.779561,
          1385090859.6711469,
          1374899146.8510187,
          1364911175.1636124,
          1355121340.6326842,
          1345524246.4646547,
          1336114693.5995617,
          1326887671.7749617,
          1317838351.0705771,
          1308962073.9038024,
          1300254347.4482675,
          1291710836.4496126,
          1283327356.4144106,
          1275099867.1498241,
          1267024466.6331165,
          1259097385.1915398,
          1251314979.9744241,
          1243673729.7005112,
          1236170229.6646676,
          1228801186.9891787,
          1221563416.105758,
          1214453834.4553082,
          1207469458.3932974,
          1200607399.2893744,
          1193864859.8105679,
          1187239130.3780732,
          1180727585.788247,
          1174327681.9890106,
          1168036953.0033877,
          1161853007.992416,
          1155773528.4501216,
          1149796265.5236907,
          1143919037.4523764,
          1138139727.1190498,
          1132456279.7086732,
          1126866700.4682853,
          1121369052.5634174,
          1115961455.0261319,
          1110642080.7901597,
          1105409154.8088584,
          1100260952.251954,
          1095195796.7772567,
          1090212058.8737407,
          1085308154.2725868,
          1080482542.4229636,
          1075733725.0294971,
          1071060244.6485465,
          1066460683.3405484,
          1061933661.3758506,
          1057477835.9915737,
          1053091900.1971817,
          1048774581.6265583,
          1044524641.434493,
          1040340873.2356004,
          1036222102.083783,
          1032167183.4904562,
          1028175002.4798295,
          1024244472.6796402,
          1020374535.4457947,
          1016564159.019471,
          1012812337.7152855,
          1009118091.1392125,
          1005480463.4349949,
          1001898522.557858,
          998371359.57438,
          994898087.9874439,
          991477843.0852299,
          988109781.3132725,
          984793079.6686357,
          981526935.1153194,
          978310564.020036,
          975143201.6075495,
          972024101.4347975,
          968952534.8830515,
          965927790.6674135,
          962949174.3629645,
          960016007.9469272,
          957127629.3562179,
          954283392.0598009,
          951482664.6452805,
          948724830.419192,
          946009287.0204711,
          943335446.0466144,
          940702732.6920515,
          938110585.3982822,
          935558455.5153402,
          933045806.9741739,
          930572115.9695412,
          928136870.6530436,
          925739570.8359294,
          923379727.7013203,
          921056863.5255231,
          918770511.4081094,
          916520215.0104488,
          914305528.3024075,
          912126015.3169218,
          909981249.9121773,
          907870815.5411354,
          905794305.0281495,
          903751320.3524368,
          901741472.4381704,
          899764380.9509714,
          897819674.100586,
          895906988.4495466,
          894025968.7276121,
          892176267.6518097,
          890357545.751882,
          888569471.2009785,
          886811719.651413,
          885083974.0753298,
          883385924.6101224,
          881717268.4084547,
          880077709.4927385,
          878466958.6139356,
          876884733.1145413,
          875330756.7956297,
          873804759.7878312,
          872306478.4261271,
          870835655.128345,
          869392038.2772449,
          867975382.1060901,
          866585446.5876005,
          865221997.3261902,
          863884805.4533938,
          862573647.5263915,
          861288305.4295422,
          860028566.2788432,
          858794222.3292333,
          857585070.8846589,
          856400914.2108306,
          855241559.4505954,
          854106818.5418532,
          852996508.1379528,
          851910449.5304976,
          850848468.5745038,
          849810395.6158452,
          848796065.4209285,
          847805317.1085439,
          846837994.0838346,
          845893943.9743341,
          844973018.5680214,
          844075073.7533456,
          843199969.4611709,
          842347569.6086023,
          841517742.0446435,
          840710358.4976493,
          839925294.5245291,
          839162429.4616671,
          838421646.3775188,
          837702832.0268507,
          837005876.8065875,
          836330674.7132332,
          835677123.3018404,
          835045123.6464884,
          834434580.3022488,
          833845401.2686082
         ]
        },
        {
         "line": {
          "color": "rgb(236, 171, 20)"
         },
         "mode": "lines",
         "name": "Measurement",
         "type": "scatter",
         "uid": "f564617c-37d9-4736-a378-9007f71eb3f1",
         "x": [
          0.001,
          0.011,
          0.020999999999999998,
          0.030999999999999996,
          0.040999999999999995,
          0.05099999999999999,
          0.06099999999999999,
          0.071,
          0.08099999999999999,
          0.09099999999999998,
          0.10099999999999998,
          0.11099999999999999,
          0.12099999999999998,
          0.13099999999999998,
          0.141,
          0.15099999999999997,
          0.16099999999999998,
          0.17099999999999999,
          0.18099999999999997,
          0.19099999999999998,
          0.20099999999999996,
          0.21099999999999997,
          0.22099999999999997,
          0.23099999999999996,
          0.24099999999999996,
          0.25099999999999995,
          0.26099999999999995,
          0.27099999999999996,
          0.28099999999999997,
          0.291,
          0.30099999999999993,
          0.31099999999999994,
          0.32099999999999995,
          0.33099999999999996,
          0.34099999999999997,
          0.3509999999999999,
          0.36099999999999993,
          0.37099999999999994,
          0.38099999999999995,
          0.39099999999999996,
          0.4009999999999999,
          0.4109999999999999,
          0.42099999999999993,
          0.43099999999999994,
          0.44099999999999995,
          0.45099999999999996,
          0.4609999999999999,
          0.4709999999999999,
          0.4809999999999999,
          0.49099999999999994,
          0.5009999999999999,
          0.5109999999999999,
          0.5209999999999999,
          0.5309999999999999,
          0.5409999999999999,
          0.5509999999999999,
          0.5609999999999999,
          0.571,
          0.581,
          0.5909999999999999,
          0.6009999999999999,
          0.6109999999999999,
          0.6209999999999999,
          0.6309999999999999,
          0.6409999999999999,
          0.6509999999999999,
          0.6609999999999999,
          0.6709999999999999,
          0.6809999999999999,
          0.691,
          0.7009999999999998,
          0.7109999999999999,
          0.7209999999999999,
          0.7309999999999999,
          0.7409999999999999,
          0.7509999999999999,
          0.7609999999999999,
          0.7709999999999999,
          0.7809999999999999,
          0.7909999999999999,
          0.8009999999999998,
          0.8109999999999998,
          0.8209999999999998,
          0.8309999999999998,
          0.8409999999999999,
          0.8509999999999999,
          0.8609999999999999,
          0.8709999999999999,
          0.8809999999999999,
          0.8909999999999999,
          0.9009999999999999,
          0.9109999999999998,
          0.9209999999999998,
          0.9309999999999998,
          0.9409999999999998,
          0.9509999999999998,
          0.9609999999999999,
          0.9709999999999999,
          0.9809999999999999,
          0.9909999999999999,
          1.001,
          1.0109999999999997,
          1.0209999999999997,
          1.0309999999999997,
          1.0409999999999997,
          1.0509999999999997,
          1.0609999999999997,
          1.0709999999999997,
          1.0809999999999997,
          1.0909999999999997,
          1.1009999999999998,
          1.1109999999999998,
          1.1209999999999998,
          1.1309999999999998,
          1.1409999999999998,
          1.1509999999999998,
          1.1609999999999998,
          1.1709999999999998,
          1.1809999999999996,
          1.1909999999999996,
          1.2009999999999996,
          1.2109999999999996,
          1.2209999999999996,
          1.2309999999999997,
          1.2409999999999997,
          1.2509999999999997,
          1.2609999999999997,
          1.2709999999999997,
          1.2809999999999997,
          1.2909999999999997,
          1.3009999999999997,
          1.3109999999999997,
          1.3209999999999997,
          1.3309999999999997,
          1.3409999999999997,
          1.3509999999999998,
          1.3609999999999998,
          1.3709999999999998,
          1.3809999999999998,
          1.3909999999999996,
          1.4009999999999996,
          1.4109999999999996,
          1.4209999999999996,
          1.4309999999999996,
          1.4409999999999996,
          1.4509999999999996,
          1.4609999999999996,
          1.4709999999999996,
          1.4809999999999997,
          1.4909999999999997,
          1.5009999999999997,
          1.5109999999999997,
          1.5209999999999997,
          1.5309999999999997,
          1.5409999999999997,
          1.5509999999999997,
          1.5609999999999997,
          1.5709999999999997,
          1.5809999999999997,
          1.5909999999999997,
          1.6009999999999995,
          1.6109999999999995,
          1.6209999999999996,
          1.6309999999999996,
          1.6409999999999996,
          1.6509999999999996,
          1.6609999999999996,
          1.6709999999999996,
          1.6809999999999996,
          1.6909999999999996,
          1.7009999999999996,
          1.7109999999999996,
          1.7209999999999996,
          1.7309999999999997,
          1.7409999999999997,
          1.7509999999999997,
          1.7609999999999997,
          1.7709999999999997,
          1.7809999999999997,
          1.7909999999999997,
          1.8009999999999997,
          1.8109999999999997,
          1.8209999999999995,
          1.8309999999999995,
          1.8409999999999995,
          1.8509999999999995,
          1.8609999999999995,
          1.8709999999999996,
          1.8809999999999996,
          1.8909999999999996,
          1.9009999999999996,
          1.9109999999999996,
          1.9209999999999996,
          1.9309999999999996,
          1.9409999999999996,
          1.9509999999999996,
          1.9609999999999996,
          1.9709999999999996,
          1.9809999999999997,
          1.9909999999999997
         ],
         "y": [
          800000000,
          800000000,
          800000000,
          800000000,
          800000000,
          800000000,
          800000000,
          800000000,
          800000000,
          800000000,
          800000000,
          800000000,
          800000000,
          800000000,
          800000000,
          800000000,
          800000000,
          800000000,
          800000000,
          800000000,
          800000000,
          800000000,
          800000000,
          800000000,
          800000000,
          800000000,
          800000000,
          800000000,
          800000000,
          800000000,
          800000000,
          800000000,
          800000000,
          800000000,
          800000000,
          800000000,
          800000000,
          800000000,
          800000000,
          800000000,
          800000000,
          800000000,
          800000000,
          800000000,
          800000000,
          800000000,
          800000000,
          800000000,
          800000000,
          800000000,
          800000000,
          800000000,
          800000000,
          800000000,
          800000000,
          800000000,
          800000000,
          800000000,
          800000000,
          800000000,
          800000000,
          800000000,
          800000000,
          800000000,
          800000000,
          800000000,
          800000000,
          800000000,
          800000000,
          800000000,
          800000000,
          800000000,
          800000000,
          800000000,
          800000000,
          800000000,
          800000000,
          800000000,
          800000000,
          800000000,
          800000000,
          800000000,
          800000000,
          800000000,
          800000000,
          800000000,
          800000000,
          800000000,
          800000000,
          800000000,
          800000000,
          800000000,
          800000000,
          800000000,
          800000000,
          800000000,
          800000000,
          800000000,
          800000000,
          800000000,
          800000000,
          800000000,
          800000000,
          800000000,
          800000000,
          800000000,
          800000000,
          800000000,
          800000000,
          800000000,
          800000000,
          800000000,
          800000000,
          800000000,
          800000000,
          800000000,
          800000000,
          800000000,
          800000000,
          800000000,
          800000000,
          800000000,
          800000000,
          800000000,
          800000000,
          800000000,
          800000000,
          800000000,
          800000000,
          800000000,
          800000000,
          800000000,
          800000000,
          800000000,
          800000000,
          800000000,
          800000000,
          800000000,
          800000000,
          800000000,
          800000000,
          800000000,
          800000000,
          800000000,
          800000000,
          800000000,
          800000000,
          800000000,
          800000000,
          800000000,
          800000000,
          800000000,
          800000000,
          800000000,
          800000000,
          800000000,
          800000000,
          800000000,
          800000000,
          800000000,
          800000000,
          800000000,
          800000000,
          800000000,
          800000000,
          800000000,
          800000000,
          800000000,
          800000000,
          800000000,
          800000000,
          800000000,
          800000000,
          800000000,
          800000000,
          800000000,
          800000000,
          800000000,
          800000000,
          800000000,
          800000000,
          800000000,
          800000000,
          800000000,
          800000000,
          800000000,
          800000000,
          800000000,
          800000000,
          800000000,
          800000000,
          800000000,
          800000000,
          800000000,
          800000000,
          800000000,
          800000000,
          800000000,
          800000000,
          800000000
         ]
        }
       ],
       "layout": {
        "showlegend": false,
        "title": {
         "text": "Adjusted Theoretical Growth Rate Dependent Cell Concentration"
        },
        "xaxis": {
         "title": {
          "text": "Growth Rate (h<sup>-1</sup>)"
         }
        },
        "yaxis": {
         "exponentformat": "power",
         "title": {
          "text": "Cell Concentration (mL<sup>-1</sup> &#183; OD<sup>-1</sup>)"
         }
        }
       }
      },
      "text/html": [
       "<div>\n",
       "        \n",
       "        \n",
       "            <div id=\"f26260e8-ae79-4aeb-ba89-859cb4c162d7\" class=\"plotly-graph-div\" style=\"height:525px; width:100%;\"></div>\n",
       "            <script type=\"text/javascript\">\n",
       "                require([\"plotly\"], function(Plotly) {\n",
       "                    window.PLOTLYENV=window.PLOTLYENV || {};\n",
       "                    window.PLOTLYENV.BASE_URL='https://plot.ly';\n",
       "                    \n",
       "                if (document.getElementById(\"f26260e8-ae79-4aeb-ba89-859cb4c162d7\")) {\n",
       "                    Plotly.newPlot(\n",
       "                        'f26260e8-ae79-4aeb-ba89-859cb4c162d7',\n",
       "                        [{\"line\": {\"color\": \"rgb(31, 119, 180)\"}, \"mode\": \"lines\", \"name\": \"Measurement\", \"type\": \"scatter\", \"uid\": \"ffaea02b-8de9-494f-8e23-6e8529b3b636\", \"x\": [0.001, 0.011, 0.020999999999999998, 0.030999999999999996, 0.040999999999999995, 0.05099999999999999, 0.06099999999999999, 0.071, 0.08099999999999999, 0.09099999999999998, 0.10099999999999998, 0.11099999999999999, 0.12099999999999998, 0.13099999999999998, 0.141, 0.15099999999999997, 0.16099999999999998, 0.17099999999999999, 0.18099999999999997, 0.19099999999999998, 0.20099999999999996, 0.21099999999999997, 0.22099999999999997, 0.23099999999999996, 0.24099999999999996, 0.25099999999999995, 0.26099999999999995, 0.27099999999999996, 0.28099999999999997, 0.291, 0.30099999999999993, 0.31099999999999994, 0.32099999999999995, 0.33099999999999996, 0.34099999999999997, 0.3509999999999999, 0.36099999999999993, 0.37099999999999994, 0.38099999999999995, 0.39099999999999996, 0.4009999999999999, 0.4109999999999999, 0.42099999999999993, 0.43099999999999994, 0.44099999999999995, 0.45099999999999996, 0.4609999999999999, 0.4709999999999999, 0.4809999999999999, 0.49099999999999994, 0.5009999999999999, 0.5109999999999999, 0.5209999999999999, 0.5309999999999999, 0.5409999999999999, 0.5509999999999999, 0.5609999999999999, 0.571, 0.581, 0.5909999999999999, 0.6009999999999999, 0.6109999999999999, 0.6209999999999999, 0.6309999999999999, 0.6409999999999999, 0.6509999999999999, 0.6609999999999999, 0.6709999999999999, 0.6809999999999999, 0.691, 0.7009999999999998, 0.7109999999999999, 0.7209999999999999, 0.7309999999999999, 0.7409999999999999, 0.7509999999999999, 0.7609999999999999, 0.7709999999999999, 0.7809999999999999, 0.7909999999999999, 0.8009999999999998, 0.8109999999999998, 0.8209999999999998, 0.8309999999999998, 0.8409999999999999, 0.8509999999999999, 0.8609999999999999, 0.8709999999999999, 0.8809999999999999, 0.8909999999999999, 0.9009999999999999, 0.9109999999999998, 0.9209999999999998, 0.9309999999999998, 0.9409999999999998, 0.9509999999999998, 0.9609999999999999, 0.9709999999999999, 0.9809999999999999, 0.9909999999999999, 1.001, 1.0109999999999997, 1.0209999999999997, 1.0309999999999997, 1.0409999999999997, 1.0509999999999997, 1.0609999999999997, 1.0709999999999997, 1.0809999999999997, 1.0909999999999997, 1.1009999999999998, 1.1109999999999998, 1.1209999999999998, 1.1309999999999998, 1.1409999999999998, 1.1509999999999998, 1.1609999999999998, 1.1709999999999998, 1.1809999999999996, 1.1909999999999996, 1.2009999999999996, 1.2109999999999996, 1.2209999999999996, 1.2309999999999997, 1.2409999999999997, 1.2509999999999997, 1.2609999999999997, 1.2709999999999997, 1.2809999999999997, 1.2909999999999997, 1.3009999999999997, 1.3109999999999997, 1.3209999999999997, 1.3309999999999997, 1.3409999999999997, 1.3509999999999998, 1.3609999999999998, 1.3709999999999998, 1.3809999999999998, 1.3909999999999996, 1.4009999999999996, 1.4109999999999996, 1.4209999999999996, 1.4309999999999996, 1.4409999999999996, 1.4509999999999996, 1.4609999999999996, 1.4709999999999996, 1.4809999999999997, 1.4909999999999997, 1.5009999999999997, 1.5109999999999997, 1.5209999999999997, 1.5309999999999997, 1.5409999999999997, 1.5509999999999997, 1.5609999999999997, 1.5709999999999997, 1.5809999999999997, 1.5909999999999997, 1.6009999999999995, 1.6109999999999995, 1.6209999999999996, 1.6309999999999996, 1.6409999999999996, 1.6509999999999996, 1.6609999999999996, 1.6709999999999996, 1.6809999999999996, 1.6909999999999996, 1.7009999999999996, 1.7109999999999996, 1.7209999999999996, 1.7309999999999997, 1.7409999999999997, 1.7509999999999997, 1.7609999999999997, 1.7709999999999997, 1.7809999999999997, 1.7909999999999997, 1.8009999999999997, 1.8109999999999997, 1.8209999999999995, 1.8309999999999995, 1.8409999999999995, 1.8509999999999995, 1.8609999999999995, 1.8709999999999996, 1.8809999999999996, 1.8909999999999996, 1.9009999999999996, 1.9109999999999996, 1.9209999999999996, 1.9309999999999996, 1.9409999999999996, 1.9509999999999996, 1.9609999999999996, 1.9709999999999996, 1.9809999999999997, 1.9909999999999997], \"y\": [2218921959.325102, 2186528002.891464, 2155203030.9913344, 2124895866.0841515, 2095558552.708772, 2067146107.902374, 2039616294.4651153, 2012929414.6674683, 1987048122.2817492, 1961937251.0666084, 1937563658.0484965, 1913896080.1318944, 1890905002.7342749, 1868562539.285554, 1846842320.5579913, 1825719392.90347, 1805170124.5728347, 1785172119.3782084, 1765704137.0354743, 1746746019.5915906, 1728278623.4013045, 1710283756.170983, 1692744118.6346173, 1675643250.4691906, 1658965480.0942183, 1642695878.0338829, 1626820213.550249, 1611324914.2829974, 1596197028.6552882, 1581424190.8270836, 1566994587.9967945, 1552896929.8697124, 1539120420.1275444, 1525654729.7477038, 1512489972.0339344, 1499616679.23158, 1487025780.6113956, 1474708581.9154348, 1462656746.0672727, 1450862275.0567513, 1439317492.9166687, 1428015029.7153864, 1416947806.4953258, 1406109021.0927951, 1395492134.779561, 1385090859.6711469, 1374899146.8510187, 1364911175.1636124, 1355121340.6326842, 1345524246.4646547, 1336114693.5995617, 1326887671.7749617, 1317838351.0705771, 1308962073.9038024, 1300254347.4482675, 1291710836.4496126, 1283327356.4144106, 1275099867.1498241, 1267024466.6331165, 1259097385.1915398, 1251314979.9744241, 1243673729.7005112, 1236170229.6646676, 1228801186.9891787, 1221563416.105758, 1214453834.4553082, 1207469458.3932974, 1200607399.2893744, 1193864859.8105679, 1187239130.3780732, 1180727585.788247, 1174327681.9890106, 1168036953.0033877, 1161853007.992416, 1155773528.4501216, 1149796265.5236907, 1143919037.4523764, 1138139727.1190498, 1132456279.7086732, 1126866700.4682853, 1121369052.5634174, 1115961455.0261319, 1110642080.7901597, 1105409154.8088584, 1100260952.251954, 1095195796.7772567, 1090212058.8737407, 1085308154.2725868, 1080482542.4229636, 1075733725.0294971, 1071060244.6485465, 1066460683.3405484, 1061933661.3758506, 1057477835.9915737, 1053091900.1971817, 1048774581.6265583, 1044524641.434493, 1040340873.2356004, 1036222102.083783, 1032167183.4904562, 1028175002.4798295, 1024244472.6796402, 1020374535.4457947, 1016564159.019471, 1012812337.7152855, 1009118091.1392125, 1005480463.4349949, 1001898522.557858, 998371359.57438, 994898087.9874439, 991477843.0852299, 988109781.3132725, 984793079.6686357, 981526935.1153194, 978310564.020036, 975143201.6075495, 972024101.4347975, 968952534.8830515, 965927790.6674135, 962949174.3629645, 960016007.9469272, 957127629.3562179, 954283392.0598009, 951482664.6452805, 948724830.419192, 946009287.0204711, 943335446.0466144, 940702732.6920515, 938110585.3982822, 935558455.5153402, 933045806.9741739, 930572115.9695412, 928136870.6530436, 925739570.8359294, 923379727.7013203, 921056863.5255231, 918770511.4081094, 916520215.0104488, 914305528.3024075, 912126015.3169218, 909981249.9121773, 907870815.5411354, 905794305.0281495, 903751320.3524368, 901741472.4381704, 899764380.9509714, 897819674.100586, 895906988.4495466, 894025968.7276121, 892176267.6518097, 890357545.751882, 888569471.2009785, 886811719.651413, 885083974.0753298, 883385924.6101224, 881717268.4084547, 880077709.4927385, 878466958.6139356, 876884733.1145413, 875330756.7956297, 873804759.7878312, 872306478.4261271, 870835655.128345, 869392038.2772449, 867975382.1060901, 866585446.5876005, 865221997.3261902, 863884805.4533938, 862573647.5263915, 861288305.4295422, 860028566.2788432, 858794222.3292333, 857585070.8846589, 856400914.2108306, 855241559.4505954, 854106818.5418532, 852996508.1379528, 851910449.5304976, 850848468.5745038, 849810395.6158452, 848796065.4209285, 847805317.1085439, 846837994.0838346, 845893943.9743341, 844973018.5680214, 844075073.7533456, 843199969.4611709, 842347569.6086023, 841517742.0446435, 840710358.4976493, 839925294.5245291, 839162429.4616671, 838421646.3775188, 837702832.0268507, 837005876.8065875, 836330674.7132332, 835677123.3018404, 835045123.6464884, 834434580.3022488, 833845401.2686082]}, {\"line\": {\"color\": \"rgb(236, 171, 20)\"}, \"mode\": \"lines\", \"name\": \"Measurement\", \"type\": \"scatter\", \"uid\": \"7d2c2155-3a5b-4ec2-9a86-532c8c9628f8\", \"x\": [0.001, 0.011, 0.020999999999999998, 0.030999999999999996, 0.040999999999999995, 0.05099999999999999, 0.06099999999999999, 0.071, 0.08099999999999999, 0.09099999999999998, 0.10099999999999998, 0.11099999999999999, 0.12099999999999998, 0.13099999999999998, 0.141, 0.15099999999999997, 0.16099999999999998, 0.17099999999999999, 0.18099999999999997, 0.19099999999999998, 0.20099999999999996, 0.21099999999999997, 0.22099999999999997, 0.23099999999999996, 0.24099999999999996, 0.25099999999999995, 0.26099999999999995, 0.27099999999999996, 0.28099999999999997, 0.291, 0.30099999999999993, 0.31099999999999994, 0.32099999999999995, 0.33099999999999996, 0.34099999999999997, 0.3509999999999999, 0.36099999999999993, 0.37099999999999994, 0.38099999999999995, 0.39099999999999996, 0.4009999999999999, 0.4109999999999999, 0.42099999999999993, 0.43099999999999994, 0.44099999999999995, 0.45099999999999996, 0.4609999999999999, 0.4709999999999999, 0.4809999999999999, 0.49099999999999994, 0.5009999999999999, 0.5109999999999999, 0.5209999999999999, 0.5309999999999999, 0.5409999999999999, 0.5509999999999999, 0.5609999999999999, 0.571, 0.581, 0.5909999999999999, 0.6009999999999999, 0.6109999999999999, 0.6209999999999999, 0.6309999999999999, 0.6409999999999999, 0.6509999999999999, 0.6609999999999999, 0.6709999999999999, 0.6809999999999999, 0.691, 0.7009999999999998, 0.7109999999999999, 0.7209999999999999, 0.7309999999999999, 0.7409999999999999, 0.7509999999999999, 0.7609999999999999, 0.7709999999999999, 0.7809999999999999, 0.7909999999999999, 0.8009999999999998, 0.8109999999999998, 0.8209999999999998, 0.8309999999999998, 0.8409999999999999, 0.8509999999999999, 0.8609999999999999, 0.8709999999999999, 0.8809999999999999, 0.8909999999999999, 0.9009999999999999, 0.9109999999999998, 0.9209999999999998, 0.9309999999999998, 0.9409999999999998, 0.9509999999999998, 0.9609999999999999, 0.9709999999999999, 0.9809999999999999, 0.9909999999999999, 1.001, 1.0109999999999997, 1.0209999999999997, 1.0309999999999997, 1.0409999999999997, 1.0509999999999997, 1.0609999999999997, 1.0709999999999997, 1.0809999999999997, 1.0909999999999997, 1.1009999999999998, 1.1109999999999998, 1.1209999999999998, 1.1309999999999998, 1.1409999999999998, 1.1509999999999998, 1.1609999999999998, 1.1709999999999998, 1.1809999999999996, 1.1909999999999996, 1.2009999999999996, 1.2109999999999996, 1.2209999999999996, 1.2309999999999997, 1.2409999999999997, 1.2509999999999997, 1.2609999999999997, 1.2709999999999997, 1.2809999999999997, 1.2909999999999997, 1.3009999999999997, 1.3109999999999997, 1.3209999999999997, 1.3309999999999997, 1.3409999999999997, 1.3509999999999998, 1.3609999999999998, 1.3709999999999998, 1.3809999999999998, 1.3909999999999996, 1.4009999999999996, 1.4109999999999996, 1.4209999999999996, 1.4309999999999996, 1.4409999999999996, 1.4509999999999996, 1.4609999999999996, 1.4709999999999996, 1.4809999999999997, 1.4909999999999997, 1.5009999999999997, 1.5109999999999997, 1.5209999999999997, 1.5309999999999997, 1.5409999999999997, 1.5509999999999997, 1.5609999999999997, 1.5709999999999997, 1.5809999999999997, 1.5909999999999997, 1.6009999999999995, 1.6109999999999995, 1.6209999999999996, 1.6309999999999996, 1.6409999999999996, 1.6509999999999996, 1.6609999999999996, 1.6709999999999996, 1.6809999999999996, 1.6909999999999996, 1.7009999999999996, 1.7109999999999996, 1.7209999999999996, 1.7309999999999997, 1.7409999999999997, 1.7509999999999997, 1.7609999999999997, 1.7709999999999997, 1.7809999999999997, 1.7909999999999997, 1.8009999999999997, 1.8109999999999997, 1.8209999999999995, 1.8309999999999995, 1.8409999999999995, 1.8509999999999995, 1.8609999999999995, 1.8709999999999996, 1.8809999999999996, 1.8909999999999996, 1.9009999999999996, 1.9109999999999996, 1.9209999999999996, 1.9309999999999996, 1.9409999999999996, 1.9509999999999996, 1.9609999999999996, 1.9709999999999996, 1.9809999999999997, 1.9909999999999997], \"y\": [800000000.0, 800000000.0, 800000000.0, 800000000.0, 800000000.0, 800000000.0, 800000000.0, 800000000.0, 800000000.0, 800000000.0, 800000000.0, 800000000.0, 800000000.0, 800000000.0, 800000000.0, 800000000.0, 800000000.0, 800000000.0, 800000000.0, 800000000.0, 800000000.0, 800000000.0, 800000000.0, 800000000.0, 800000000.0, 800000000.0, 800000000.0, 800000000.0, 800000000.0, 800000000.0, 800000000.0, 800000000.0, 800000000.0, 800000000.0, 800000000.0, 800000000.0, 800000000.0, 800000000.0, 800000000.0, 800000000.0, 800000000.0, 800000000.0, 800000000.0, 800000000.0, 800000000.0, 800000000.0, 800000000.0, 800000000.0, 800000000.0, 800000000.0, 800000000.0, 800000000.0, 800000000.0, 800000000.0, 800000000.0, 800000000.0, 800000000.0, 800000000.0, 800000000.0, 800000000.0, 800000000.0, 800000000.0, 800000000.0, 800000000.0, 800000000.0, 800000000.0, 800000000.0, 800000000.0, 800000000.0, 800000000.0, 800000000.0, 800000000.0, 800000000.0, 800000000.0, 800000000.0, 800000000.0, 800000000.0, 800000000.0, 800000000.0, 800000000.0, 800000000.0, 800000000.0, 800000000.0, 800000000.0, 800000000.0, 800000000.0, 800000000.0, 800000000.0, 800000000.0, 800000000.0, 800000000.0, 800000000.0, 800000000.0, 800000000.0, 800000000.0, 800000000.0, 800000000.0, 800000000.0, 800000000.0, 800000000.0, 800000000.0, 800000000.0, 800000000.0, 800000000.0, 800000000.0, 800000000.0, 800000000.0, 800000000.0, 800000000.0, 800000000.0, 800000000.0, 800000000.0, 800000000.0, 800000000.0, 800000000.0, 800000000.0, 800000000.0, 800000000.0, 800000000.0, 800000000.0, 800000000.0, 800000000.0, 800000000.0, 800000000.0, 800000000.0, 800000000.0, 800000000.0, 800000000.0, 800000000.0, 800000000.0, 800000000.0, 800000000.0, 800000000.0, 800000000.0, 800000000.0, 800000000.0, 800000000.0, 800000000.0, 800000000.0, 800000000.0, 800000000.0, 800000000.0, 800000000.0, 800000000.0, 800000000.0, 800000000.0, 800000000.0, 800000000.0, 800000000.0, 800000000.0, 800000000.0, 800000000.0, 800000000.0, 800000000.0, 800000000.0, 800000000.0, 800000000.0, 800000000.0, 800000000.0, 800000000.0, 800000000.0, 800000000.0, 800000000.0, 800000000.0, 800000000.0, 800000000.0, 800000000.0, 800000000.0, 800000000.0, 800000000.0, 800000000.0, 800000000.0, 800000000.0, 800000000.0, 800000000.0, 800000000.0, 800000000.0, 800000000.0, 800000000.0, 800000000.0, 800000000.0, 800000000.0, 800000000.0, 800000000.0, 800000000.0, 800000000.0, 800000000.0, 800000000.0, 800000000.0, 800000000.0, 800000000.0, 800000000.0, 800000000.0, 800000000.0, 800000000.0, 800000000.0, 800000000.0, 800000000.0, 800000000.0, 800000000.0]}],\n",
       "                        {\"showlegend\": false, \"title\": {\"text\": \"Adjusted Theoretical Growth Rate Dependent Cell Concentration\"}, \"xaxis\": {\"title\": {\"text\": \"Growth Rate (h<sup>-1</sup>)\"}}, \"yaxis\": {\"exponentformat\": \"power\", \"title\": {\"text\": \"Cell Concentration (mL<sup>-1</sup> &#183; OD<sup>-1</sup>)\"}}},\n",
       "                        {\"showLink\": false, \"linkText\": \"Export to plot.ly\", \"plotlyServerURL\": \"https://plot.ly\", \"responsive\": true}\n",
       "                    ).then(function(){\n",
       "                            \n",
       "var gd = document.getElementById('f26260e8-ae79-4aeb-ba89-859cb4c162d7');\n",
       "var x = new MutationObserver(function (mutations, observer) {{\n",
       "        var display = window.getComputedStyle(gd).display;\n",
       "        if (!display || display === 'none') {{\n",
       "            console.log([gd, 'removed!']);\n",
       "            Plotly.purge(gd);\n",
       "            observer.disconnect();\n",
       "        }}\n",
       "}});\n",
       "\n",
       "// Listen for the removal of the full notebook cells\n",
       "var notebookContainer = gd.closest('#notebook-container');\n",
       "if (notebookContainer) {{\n",
       "    x.observe(notebookContainer, {childList: true});\n",
       "}}\n",
       "\n",
       "// Listen for the clearing of the current output cell\n",
       "var outputEl = gd.closest('.output');\n",
       "if (outputEl) {{\n",
       "    x.observe(outputEl, {childList: true});\n",
       "}}\n",
       "\n",
       "                        })\n",
       "                };\n",
       "                });\n",
       "            </script>\n",
       "        </div>"
      ]
     },
     "metadata": {},
     "output_type": "display_data"
    }
   ],
   "source": [
    "trace = go.Scatter(\n",
    "    name='Measurement',\n",
    "    x=ageRange,\n",
    "    y=[popCellCount(i) for i in ageRange],\n",
    "    mode='lines',\n",
    "    line=dict(color='rgb(31, 119, 180)'))\n",
    "\n",
    "trace1 = go.Scatter(\n",
    "    name='Measurement',\n",
    "    x=ageRange,\n",
    "    y=[8.0*10.0**8.0]*len(ageRange),\n",
    "    mode='lines',\n",
    "    line=dict(color='rgb(236, 171, 20)'))\n",
    "\n",
    "\n",
    "# Trace order can be important\n",
    "# with continuous error bars\n",
    "data = [trace, trace1]\n",
    "\n",
    "layout = go.Layout(\n",
    "    xaxis=dict(title='Growth Rate (h<sup>-1</sup>)'),\n",
    "    yaxis=dict(title='Cell Concentration (mL<sup>-1</sup> &#183; OD<sup>-1</sup>)', exponentformat = 'power'),\n",
    "    title='Adjusted Theoretical Growth Rate Dependent Cell Concentration',\n",
    "    showlegend = False)\n",
    "\n",
    "fig = go.Figure(data=data, layout=layout)\n",
    "iplot(fig, filename='pandas-continuous-error-bars')"
   ]
  },
  {
   "cell_type": "code",
   "execution_count": 9,
   "metadata": {},
   "outputs": [],
   "source": [
    "plotly.io.write_image(fig, 'meanCellAge_cell_concentration.png' , width=1200, height=800)"
   ]
  },
  {
   "cell_type": "code",
   "execution_count": null,
   "metadata": {},
   "outputs": [],
   "source": [
    "###### Fit data from thesis ####\n",
    "#C = 44.98*(1.0+(5.206*np.exp(-4.917/tau_h)))\n",
    "D = 62.8298142*np.exp(-213.585678*x)+25.5633968\n",
    "C = 235.796165*np.exp(-428.916673*x)+45.2188479"
   ]
  },
  {
   "cell_type": "code",
   "execution_count": 28,
   "metadata": {},
   "outputs": [
    {
     "data": {
      "text/plain": [
       "1.3591409142295228"
      ]
     },
     "execution_count": 28,
     "metadata": {},
     "output_type": "execute_result"
    }
   ],
   "source": [
    "results = (ctypes.c_double*6)()\n",
    "status = simulator.cell_parameters(ctypes.c_double(60.0), ctypes.c_double(40.0), ctypes.c_double(20.0), ctypes.c_double(0.44269504088896355), results)\n",
    "results = [i for i in results]\n",
    "results[0]"
   ]
  },
  {
   "cell_type": "code",
   "execution_count": null,
   "metadata": {},
   "outputs": [],
   "source": [
    "######## Try with my own C and D values"
   ]
  },
  {
   "cell_type": "code",
   "execution_count": 68,
   "metadata": {},
   "outputs": [],
   "source": [
    "def popCellCount(gr_min, age_array, weights, real_cell_volume=2.5873453927627095):\n",
    "    #gr_h = np.log(2.0)/(divRate_min/60.0)\n",
    "    #gr_h = np.log(2.0)/(divRate_min/60.0)\n",
    "    #gr_h = 2.2\n",
    "    #C = 40.0\n",
    "    #D = 20.0\n",
    "    ##### gr_h ######\n",
    "    #gr_h = gr_h\n",
    "    #dt_min = gr_h*60.0\n",
    "    #gr_min = np.log(2.0)/dt_min\n",
    "    #dt_h = np.log(2.0)/gr_h\n",
    "    ##### dt_min ####\n",
    "    #dt_min = dt_min\n",
    "    #gr_min = np.log(2)/dt_min\n",
    "    #dt_h = dt_min/60.0\n",
    "    #gr_h = np.log(2)/dt_h\n",
    "    ##### gr_min #####\n",
    "    dt_min = np.log(2.0)/gr_min\n",
    "    gr_min = gr_min\n",
    "    dt_h = dt_min/60.0\n",
    "    gr_h = np.log(2)/dt_h   \n",
    "    #print('Doubling Time: '+str(dt_min)+' minutes')\n",
    "    #print('Growth Rate: '+str(gr_min)+' * min-1')\n",
    "    #print('Doubling Time: '+str(dt_h)+' hours')\n",
    "    #print('Growth Rate: '+str(gr_h)+' * h-1')\n",
    "    D = 62.8298142*np.exp(-213.585678*gr_min)+25.5633968\n",
    "    C = 235.796165*np.exp(-428.916673*gr_min)+45.2188479\n",
    "    #print('C: '+str(C)+' min')\n",
    "    #print('D: '+str(D)+' min')\n",
    "    #1) calculate the average cell age\n",
    "    #mean_cell_age = 0.44269504088896355\n",
    "    #real_cell_volume = 3.0358446077728214 #when theoretical is 1.0 C=40.0, D=20.0\n",
    "    #real_cell_volume = 2.8530831045899547 #when theoretical is 1.0 and tau==C_fit+D_fit\n",
    "    #real_cell_volume = 2.85305343302496\n",
    "    #Volkmer cell concentration\n",
    "    #2) calculate the (measured) mean cell volume\n",
    "    #measured_cell_volume = -0.53*gr_h**2.0 + 2.41*gr_h + 1.62\n",
    "    #3) calculate \n",
    "    #results = (ctypes.c_double*6)()\n",
    "    #status = simulator.cell_parameters(ctypes.c_double(dt_min), ctypes.c_double(C), ctypes.c_double(D), ctypes.c_double(mean_cell_age), results)\n",
    "    ###status = simulator.cell_parameters(ctypes.c_double(divRate_min), ctypes.c_double(C), ctypes.c_double(D), ctypes.c_double(mean_cell_age), results)\n",
    "    #results = [i for i in results]\n",
    "    #theoretical_cell_volume = results[0]\n",
    "    #theoretical_cell_volume_adjustment = theoretical_cell_volume/measured_cell_volume\n",
    "    #### adjust for the different age \n",
    "    #age_array = np.arange(0.0, 1.0, 0.001)\n",
    "    #weights = {}\n",
    "    #for i in age_array:\n",
    "    #    weights[i] = integrate.quad(ageDistFunc, i, i+0.001)[0]\n",
    "    #### calculate the physical volume ###\n",
    "    physical_volume = []\n",
    "    Ga = []\n",
    "    #for i in age_array:\n",
    "    for i in age_array:\n",
    "        results = (ctypes.c_double*6)()\n",
    "        status = simulator.cell_parameters(ctypes.c_double(dt_min), ctypes.c_double(C), ctypes.c_double(D), ctypes.c_double(i), results)\n",
    "        results = [i for i in results]\n",
    "        for y in range(int(weights[i]*100000.0)):\n",
    "            physical_volume.append(results[0]*real_cell_volume)\n",
    "            Ga.append(results[2])\n",
    "    #cell_volume = -0.53*gr_h**2.0 + 2.41*gr_h + 1.62\n",
    "    #cell_concentration --> mL**-1 * OD**-1\n",
    "    #change this to use the median or mean of the theoretical cell distribution (see if they are close)\n",
    "    # and the std deviation \n",
    "    #population_cell_concentration = (3.6*10.0**9.0)/measured_cell_volume \n",
    "    #theoretical_cell_volume_adjustment = theoretical_cell_volume/measured_cell_volume\n",
    "    #print('Old: 8.0 * 10^8 * mL-1 * OD-1 ')\n",
    "    #print('New: {0:.2f} * 10^8 * mL-1 * OD-1'.format(population_cell_concentration/10**8))\n",
    "    #print('##################################')\n",
    "    return {'cell_concentration': (3.6*10.0**9.0)/np.mean(physical_volume),\n",
    "            'std_cell_concentration': np.std([(3.6*10.0**9.0)/i for i in physical_volume]),\n",
    "            'mean_physical_volume': np.mean(physical_volume),\n",
    "            'std_physical_volume': np.std(physical_volume),\n",
    "            'mean_Ga': np.mean(Ga),\n",
    "            'std_Ga': np.std(Ga)}"
   ]
  },
  {
   "cell_type": "code",
   "execution_count": null,
   "metadata": {},
   "outputs": [],
   "source": [
    "#################################################################################\n",
    "############################ Find the real volume when theo volume is 1.0  ######\n",
    "#################################################################################"
   ]
  },
  {
   "cell_type": "code",
   "execution_count": null,
   "metadata": {},
   "outputs": [],
   "source": [
    "### minimise this function to find when the functional for of C+D==tau"
   ]
  },
  {
   "cell_type": "code",
   "execution_count": 216,
   "metadata": {},
   "outputs": [],
   "source": [
    "from scipy import optimize\n",
    "def f(x):\n",
    "    if x<=0.0:\n",
    "        return 9999.0\n",
    "    else:\n",
    "        d1 = 62.8298142*np.exp(-213.585678*(np.log(2)/x))+25.5633968\n",
    "        c1 = 235.796165*np.exp(-428.916673*(np.log(2)/x))+45.2188479\n",
    "        #print(x)\n",
    "        #print(np.abs((np.log(2)/x)-(c1+d1)))\n",
    "        #print('#################')\n",
    "        return np.abs(x-(c1+d1))"
   ]
  },
  {
   "cell_type": "code",
   "execution_count": 217,
   "metadata": {},
   "outputs": [
    {
     "data": {
      "text/plain": [
       "[<matplotlib.lines.Line2D at 0x7f75456dba20>]"
      ]
     },
     "execution_count": 217,
     "metadata": {},
     "output_type": "execute_result"
    },
    {
     "data": {
      "image/png": "[encoded data removed]",
      "text/plain": [
       "<Figure size 432x288 with 1 Axes>"
      ]
     },
     "metadata": {
      "needs_background": "light"
     },
     "output_type": "display_data"
    }
   ],
   "source": [
    "t = np.arange(15.0, 250.0, 1.0)\n",
    "plt.plot(t, t)\n",
    "plt.plot(t, [62.8298142*np.exp(-213.585678*(np.log(2)/i))+25.5633968+235.796165*np.exp(-428.916673*(np.log(2)/i))+45.2188479 for i in t])"
   ]
  },
  {
   "cell_type": "code",
   "execution_count": 220,
   "metadata": {},
   "outputs": [],
   "source": [
    "result = optimize.minimize(f, np.array([10.0]), method = 'Nelder-Mead')"
   ]
  },
  {
   "cell_type": "code",
   "execution_count": 221,
   "metadata": {},
   "outputs": [
    {
     "data": {
      "text/plain": [
       " final_simplex: (array([[93.47442627],\n",
       "       [93.4744873 ]]), array([8.41582869e-06, 1.89339386e-05]))\n",
       "           fun: 8.41582868815749e-06\n",
       "       message: 'Optimization terminated successfully.'\n",
       "          nfev: 54\n",
       "           nit: 27\n",
       "        status: 0\n",
       "       success: True\n",
       "             x: array([93.47442627])"
      ]
     },
     "execution_count": 221,
     "metadata": {},
     "output_type": "execute_result"
    }
   ],
   "source": [
    "result"
   ]
  },
  {
   "cell_type": "code",
   "execution_count": 180,
   "metadata": {},
   "outputs": [],
   "source": [
    "#### Results are:\n",
    "dt_min = float(result['x'][0])"
   ]
  },
  {
   "cell_type": "code",
   "execution_count": 181,
   "metadata": {},
   "outputs": [
    {
     "name": "stdout",
     "output_type": "stream",
     "text": [
      "Minimization (when C+D==tau) returned a doubling time of: 93.47444915771484\n",
      "Measured volume when C+D==tau: 2.5873453927627095\n"
     ]
    }
   ],
   "source": [
    "#calculate when \n",
    "gr_min = np.log(2)/dt_min\n",
    "dt_h = dt_min/60.0\n",
    "gr_h = np.log(2)/dt_h\n",
    "measured_volume = -0.53*gr_h**2.0 + 2.41*gr_h + 1.62\n",
    "print('Minimization (when C+D==tau) returned a doubling time of: '+str(dt_min))\n",
    "print('Measured volume when C+D==tau: '+str(measured_volume))\n",
    "\n",
    "#print(-0.53*dt_h**2.0 + 2.41*dt_h + 1.62)"
   ]
  },
  {
   "cell_type": "code",
   "execution_count": null,
   "metadata": {},
   "outputs": [],
   "source": [
    "######################## weights and age_dist ###################"
   ]
  },
  {
   "cell_type": "code",
   "execution_count": 11,
   "metadata": {},
   "outputs": [],
   "source": [
    "def ageDistFunc(a):\n",
    " return 2.0*np.log(2.0)*np.exp(-a*np.log(2))"
   ]
  },
  {
   "cell_type": "code",
   "execution_count": 12,
   "metadata": {},
   "outputs": [],
   "source": [
    "age_array = np.arange(0.0, 1.0, 0.001)\n",
    "weights = {}\n",
    "for i in age_array:\n",
    "    weights[i] = integrate.quad(ageDistFunc, i, i+0.001)[0]"
   ]
  },
  {
   "cell_type": "code",
   "execution_count": null,
   "metadata": {},
   "outputs": [],
   "source": [
    "#######################################################################\n",
    "########################## plot the cell concentration dt_min #########\n",
    "#######################################################################"
   ]
  },
  {
   "cell_type": "code",
   "execution_count": null,
   "metadata": {},
   "outputs": [],
   "source": [
    "plt.plot(dt_min, [i['cell_concentration'] for i in results])\n",
    "plt.plot(dt_min, [8.0*10.0**8.0]*len(dt_min))\n",
    "plt.xlabel('Doubling Time (min)')\n",
    "plt.ylabel('Cell Number * 10^8 * mL-1 * OD-1')"
   ]
  },
  {
   "cell_type": "code",
   "execution_count": 66,
   "metadata": {
    "scrolled": true
   },
   "outputs": [
    {
     "data": {
      "application/vnd.plotly.v1+json": {
       "config": {
        "linkText": "Export to plot.ly",
        "plotlyServerURL": "https://plot.ly",
        "showLink": false
       },
       "data": [
        {
         "line": {
          "width": 0
         },
         "marker": {
          "color": "#444"
         },
         "mode": "lines",
         "name": "Lower Bound",
         "type": "scatter",
         "x": [
          18,
          23,
          28,
          33,
          38,
          43,
          48,
          53,
          58,
          63,
          68,
          73,
          78,
          83,
          88,
          93,
          98,
          103,
          108,
          113,
          118,
          123,
          128,
          133,
          138,
          143,
          148,
          153,
          158,
          163,
          168,
          173,
          178,
          183,
          188,
          193,
          198,
          203,
          208,
          213,
          218,
          223,
          228,
          233,
          238,
          243,
          248
         ],
         "y": [
          105172212.45319529,
          189756302.51057118,
          276360239.18627656,
          357713048.6334736,
          430871956.65187085,
          495118643.8766643,
          550779369.1889238,
          598626000.5579295,
          639582384.8064582,
          674581882.8192714,
          704499657.3542166,
          730123084.4485692,
          752142295.5328732,
          771151473.1695465,
          787655691.696248,
          802080284.860996,
          814780976.7502265,
          826053773.722706,
          836144088.236295,
          845254857.622631,
          853553595.9033465,
          861178415.9775373,
          868243110.5826594,
          874841401.843255,
          881050473.1701756,
          886933891.6056445,
          892544018.3278849,
          897923992.8816956,
          903109364.4749074,
          908129432.2680753,
          913008346.3954937,
          917766012.6157192,
          922418835.9684789,
          926980332.5020372,
          931461632.8878,
          935871897.4074203,
          940218658.2396718,
          944508102.0617927,
          948745303.601241,
          952934418.8337896,
          957078844.942898,
          961181352.867196,
          965244197.2131766,
          969269207.4543684,
          973257863.639878,
          977211359.2648048,
          981130653.48862
         ]
        },
        {
         "fill": "tonexty",
         "fillcolor": "rgba(68, 68, 68, 0.3)",
         "line": {
          "color": "rgb(31, 119, 180)"
         },
         "mode": "lines",
         "name": "Measurement",
         "type": "scatter",
         "x": [
          18,
          23,
          28,
          33,
          38,
          43,
          48,
          53,
          58,
          63,
          68,
          73,
          78,
          83,
          88,
          93,
          98,
          103,
          108,
          113,
          118,
          123,
          128,
          133,
          138,
          143,
          148,
          153,
          158,
          163,
          168,
          173,
          178,
          183,
          188,
          193,
          198,
          203,
          208,
          213,
          218,
          223,
          228,
          233,
          238,
          243,
          248
         ],
         "y": [
          131470907.02845599,
          237205556.71045917,
          345465123.01041704,
          447160498.6030524,
          538613057.8869077,
          618924863.12516,
          688503755.4197489,
          748314611.1354522,
          799512288.3560995,
          843263538.253338,
          880662361.2184107,
          912693019.5329465,
          940218214.5039353,
          963980706.2064911,
          984611864.6549925,
          1002643379.8494629,
          1018519925.979071,
          1032611526.8701243,
          1045224961.2589303,
          1056613911.6956414,
          1066987779.6927892,
          1076519213.7826517,
          1085350460.9909177,
          1093598679.0005417,
          1101360351.2152238,
          1108714939.8474946,
          1115727899.1787987,
          1122453155.9541497,
          1128935148.590204,
          1135210502.6092691,
          1141309406.9746318,
          1147256744.9522374,
          1153073023.721715,
          1158775139.0683987,
          1164377004.9285982,
          1169890072.1457393,
          1175323756.3473167,
          1180685791.211733,
          1185982520.4205205,
          1191219139.1663225,
          1196399894.1106896,
          1201528249.0755422,
          1206607022.4399345,
          1211638501.1439106,
          1216624535.3282442,
          1221566616.9258285,
          1226465944.937452
         ]
        },
        {
         "fill": "tonexty",
         "fillcolor": "rgba(68, 68, 68, 0.3)",
         "line": {
          "width": 0
         },
         "marker": {
          "color": "#444"
         },
         "mode": "lines",
         "name": "Upper Bound",
         "type": "scatter",
         "x": [
          18,
          23,
          28,
          33,
          38,
          43,
          48,
          53,
          58,
          63,
          68,
          73,
          78,
          83,
          88,
          93,
          98,
          103,
          108,
          113,
          118,
          123,
          128,
          133,
          138,
          143,
          148,
          153,
          158,
          163,
          168,
          173,
          178,
          183,
          188,
          193,
          198,
          203,
          208,
          213,
          218,
          223,
          228,
          233,
          238,
          243,
          248
         ],
         "y": [
          157769601.6037167,
          284654810.91034716,
          414570006.83455753,
          536607948.5726312,
          646354159.1219445,
          742731082.3736557,
          826228141.650574,
          898003221.7129748,
          959442191.9057407,
          1011945193.6874045,
          1056825065.0826049,
          1095262954.6173236,
          1128294133.4749975,
          1156809939.2434359,
          1181568037.6137369,
          1203206474.8379297,
          1222258875.2079155,
          1239169280.0175428,
          1254305834.2815657,
          1267972965.7686517,
          1280421963.4822319,
          1291860011.587766,
          1302457811.3991761,
          1312355956.1578283,
          1321670229.260272,
          1330495988.0893447,
          1338911780.0297124,
          1346982319.0266037,
          1354760932.7055006,
          1362291572.9504628,
          1369610467.5537698,
          1376747477.2887554,
          1383727211.474951,
          1390569945.6347604,
          1397292376.9693964,
          1403908246.8840582,
          1410428854.4549618,
          1416863480.3616736,
          1423219737.2398002,
          1429503859.4988554,
          1435720943.2784812,
          1441875145.2838883,
          1447969847.6666925,
          1454007794.833453,
          1459991207.0166104,
          1465921874.586852,
          1471801236.386284
         ]
        },
        {
         "marker": {
          "color": "#d62728",
          "line": {
           "color": "DarkSlateGrey",
           "width": 2
          },
          "size": 12
         },
         "name": "Old Measurement",
         "type": "scatter",
         "x": [
          58.0516142
         ],
         "y": [
          799999999.9792953
         ]
        }
       ],
       "layout": {
        "annotations": [
         {
          "arrowhead": 0,
          "ax": 0,
          "ay": 0,
          "font": {
           "color": "#d62728"
          },
          "showarrow": false,
          "text": "(58.05, 0.8x10<sup>9</sup>)",
          "x": 72,
          "xref": "x",
          "y": 770000000,
          "yref": "y"
         }
        ],
        "showlegend": false,
        "template": {
         "data": {
          "bar": [
           {
            "error_x": {
             "color": "#2a3f5f"
            },
            "error_y": {
             "color": "#2a3f5f"
            },
            "marker": {
             "line": {
              "color": "white",
              "width": 0.5
             }
            },
            "type": "bar"
           }
          ],
          "barpolar": [
           {
            "marker": {
             "line": {
              "color": "white",
              "width": 0.5
             }
            },
            "type": "barpolar"
           }
          ],
          "carpet": [
           {
            "aaxis": {
             "endlinecolor": "#2a3f5f",
             "gridcolor": "#C8D4E3",
             "linecolor": "#C8D4E3",
             "minorgridcolor": "#C8D4E3",
             "startlinecolor": "#2a3f5f"
            },
            "baxis": {
             "endlinecolor": "#2a3f5f",
             "gridcolor": "#C8D4E3",
             "linecolor": "#C8D4E3",
             "minorgridcolor": "#C8D4E3",
             "startlinecolor": "#2a3f5f"
            },
            "type": "carpet"
           }
          ],
          "choropleth": [
           {
            "colorbar": {
             "outlinewidth": 0,
             "ticks": ""
            },
            "type": "choropleth"
           }
          ],
          "contour": [
           {
            "colorbar": {
             "outlinewidth": 0,
             "ticks": ""
            },
            "colorscale": [
             [
              0,
              "#0d0887"
             ],
             [
              0.1111111111111111,
              "#46039f"
             ],
             [
              0.2222222222222222,
              "#7201a8"
             ],
             [
              0.3333333333333333,
              "#9c179e"
             ],
             [
              0.4444444444444444,
              "#bd3786"
             ],
             [
              0.5555555555555556,
              "#d8576b"
             ],
             [
              0.6666666666666666,
              "#ed7953"
             ],
             [
              0.7777777777777778,
              "#fb9f3a"
             ],
             [
              0.8888888888888888,
              "#fdca26"
             ],
             [
              1,
              "#f0f921"
             ]
            ],
            "type": "contour"
           }
          ],
          "contourcarpet": [
           {
            "colorbar": {
             "outlinewidth": 0,
             "ticks": ""
            },
            "type": "contourcarpet"
           }
          ],
          "heatmap": [
           {
            "colorbar": {
             "outlinewidth": 0,
             "ticks": ""
            },
            "colorscale": [
             [
              0,
              "#0d0887"
             ],
             [
              0.1111111111111111,
              "#46039f"
             ],
             [
              0.2222222222222222,
              "#7201a8"
             ],
             [
              0.3333333333333333,
              "#9c179e"
             ],
             [
              0.4444444444444444,
              "#bd3786"
             ],
             [
              0.5555555555555556,
              "#d8576b"
             ],
             [
              0.6666666666666666,
              "#ed7953"
             ],
             [
              0.7777777777777778,
              "#fb9f3a"
             ],
             [
              0.8888888888888888,
              "#fdca26"
             ],
             [
              1,
              "#f0f921"
             ]
            ],
            "type": "heatmap"
           }
          ],
          "heatmapgl": [
           {
            "colorbar": {
             "outlinewidth": 0,
             "ticks": ""
            },
            "colorscale": [
             [
              0,
              "#0d0887"
             ],
             [
              0.1111111111111111,
              "#46039f"
             ],
             [
              0.2222222222222222,
              "#7201a8"
             ],
             [
              0.3333333333333333,
              "#9c179e"
             ],
             [
              0.4444444444444444,
              "#bd3786"
             ],
             [
              0.5555555555555556,
              "#d8576b"
             ],
             [
              0.6666666666666666,
              "#ed7953"
             ],
             [
              0.7777777777777778,
              "#fb9f3a"
             ],
             [
              0.8888888888888888,
              "#fdca26"
             ],
             [
              1,
              "#f0f921"
             ]
            ],
            "type": "heatmapgl"
           }
          ],
          "histogram": [
           {
            "marker": {
             "colorbar": {
              "outlinewidth": 0,
              "ticks": ""
             }
            },
            "type": "histogram"
           }
          ],
          "histogram2d": [
           {
            "colorbar": {
             "outlinewidth": 0,
             "ticks": ""
            },
            "colorscale": [
             [
              0,
              "#0d0887"
             ],
             [
              0.1111111111111111,
              "#46039f"
             ],
             [
              0.2222222222222222,
              "#7201a8"
             ],
             [
              0.3333333333333333,
              "#9c179e"
             ],
             [
              0.4444444444444444,
              "#bd3786"
             ],
             [
              0.5555555555555556,
              "#d8576b"
             ],
             [
              0.6666666666666666,
              "#ed7953"
             ],
             [
              0.7777777777777778,
              "#fb9f3a"
             ],
             [
              0.8888888888888888,
              "#fdca26"
             ],
             [
              1,
              "#f0f921"
             ]
            ],
            "type": "histogram2d"
           }
          ],
          "histogram2dcontour": [
           {
            "colorbar": {
             "outlinewidth": 0,
             "ticks": ""
            },
            "colorscale": [
             [
              0,
              "#0d0887"
             ],
             [
              0.1111111111111111,
              "#46039f"
             ],
             [
              0.2222222222222222,
              "#7201a8"
             ],
             [
              0.3333333333333333,
              "#9c179e"
             ],
             [
              0.4444444444444444,
              "#bd3786"
             ],
             [
              0.5555555555555556,
              "#d8576b"
             ],
             [
              0.6666666666666666,
              "#ed7953"
             ],
             [
              0.7777777777777778,
              "#fb9f3a"
             ],
             [
              0.8888888888888888,
              "#fdca26"
             ],
             [
              1,
              "#f0f921"
             ]
            ],
            "type": "histogram2dcontour"
           }
          ],
          "mesh3d": [
           {
            "colorbar": {
             "outlinewidth": 0,
             "ticks": ""
            },
            "type": "mesh3d"
           }
          ],
          "parcoords": [
           {
            "line": {
             "colorbar": {
              "outlinewidth": 0,
              "ticks": ""
             }
            },
            "type": "parcoords"
           }
          ],
          "scatter": [
           {
            "marker": {
             "colorbar": {
              "outlinewidth": 0,
              "ticks": ""
             }
            },
            "type": "scatter"
           }
          ],
          "scatter3d": [
           {
            "line": {
             "colorbar": {
              "outlinewidth": 0,
              "ticks": ""
             }
            },
            "marker": {
             "colorbar": {
              "outlinewidth": 0,
              "ticks": ""
             }
            },
            "type": "scatter3d"
           }
          ],
          "scattercarpet": [
           {
            "marker": {
             "colorbar": {
              "outlinewidth": 0,
              "ticks": ""
             }
            },
            "type": "scattercarpet"
           }
          ],
          "scattergeo": [
           {
            "marker": {
             "colorbar": {
              "outlinewidth": 0,
              "ticks": ""
             }
            },
            "type": "scattergeo"
           }
          ],
          "scattergl": [
           {
            "marker": {
             "colorbar": {
              "outlinewidth": 0,
              "ticks": ""
             }
            },
            "type": "scattergl"
           }
          ],
          "scattermapbox": [
           {
            "marker": {
             "colorbar": {
              "outlinewidth": 0,
              "ticks": ""
             }
            },
            "type": "scattermapbox"
           }
          ],
          "scatterpolar": [
           {
            "marker": {
             "colorbar": {
              "outlinewidth": 0,
              "ticks": ""
             }
            },
            "type": "scatterpolar"
           }
          ],
          "scatterpolargl": [
           {
            "marker": {
             "colorbar": {
              "outlinewidth": 0,
              "ticks": ""
             }
            },
            "type": "scatterpolargl"
           }
          ],
          "scatterternary": [
           {
            "marker": {
             "colorbar": {
              "outlinewidth": 0,
              "ticks": ""
             }
            },
            "type": "scatterternary"
           }
          ],
          "surface": [
           {
            "colorbar": {
             "outlinewidth": 0,
             "ticks": ""
            },
            "colorscale": [
             [
              0,
              "#0d0887"
             ],
             [
              0.1111111111111111,
              "#46039f"
             ],
             [
              0.2222222222222222,
              "#7201a8"
             ],
             [
              0.3333333333333333,
              "#9c179e"
             ],
             [
              0.4444444444444444,
              "#bd3786"
             ],
             [
              0.5555555555555556,
              "#d8576b"
             ],
             [
              0.6666666666666666,
              "#ed7953"
             ],
             [
              0.7777777777777778,
              "#fb9f3a"
             ],
             [
              0.8888888888888888,
              "#fdca26"
             ],
             [
              1,
              "#f0f921"
             ]
            ],
            "type": "surface"
           }
          ],
          "table": [
           {
            "cells": {
             "fill": {
              "color": "#EBF0F8"
             },
             "line": {
              "color": "white"
             }
            },
            "header": {
             "fill": {
              "color": "#C8D4E3"
             },
             "line": {
              "color": "white"
             }
            },
            "type": "table"
           }
          ]
         },
         "layout": {
          "annotationdefaults": {
           "arrowcolor": "#2a3f5f",
           "arrowhead": 0,
           "arrowwidth": 1
          },
          "colorscale": {
           "diverging": [
            [
             0,
             "#8e0152"
            ],
            [
             0.1,
             "#c51b7d"
            ],
            [
             0.2,
             "#de77ae"
            ],
            [
             0.3,
             "#f1b6da"
            ],
            [
             0.4,
             "#fde0ef"
            ],
            [
             0.5,
             "#f7f7f7"
            ],
            [
             0.6,
             "#e6f5d0"
            ],
            [
             0.7,
             "#b8e186"
            ],
            [
             0.8,
             "#7fbc41"
            ],
            [
             0.9,
             "#4d9221"
            ],
            [
             1,
             "#276419"
            ]
           ],
           "sequential": [
            [
             0,
             "#0d0887"
            ],
            [
             0.1111111111111111,
             "#46039f"
            ],
            [
             0.2222222222222222,
             "#7201a8"
            ],
            [
             0.3333333333333333,
             "#9c179e"
            ],
            [
             0.4444444444444444,
             "#bd3786"
            ],
            [
             0.5555555555555556,
             "#d8576b"
            ],
            [
             0.6666666666666666,
             "#ed7953"
            ],
            [
             0.7777777777777778,
             "#fb9f3a"
            ],
            [
             0.8888888888888888,
             "#fdca26"
            ],
            [
             1,
             "#f0f921"
            ]
           ],
           "sequentialminus": [
            [
             0,
             "#0d0887"
            ],
            [
             0.1111111111111111,
             "#46039f"
            ],
            [
             0.2222222222222222,
             "#7201a8"
            ],
            [
             0.3333333333333333,
             "#9c179e"
            ],
            [
             0.4444444444444444,
             "#bd3786"
            ],
            [
             0.5555555555555556,
             "#d8576b"
            ],
            [
             0.6666666666666666,
             "#ed7953"
            ],
            [
             0.7777777777777778,
             "#fb9f3a"
            ],
            [
             0.8888888888888888,
             "#fdca26"
            ],
            [
             1,
             "#f0f921"
            ]
           ]
          },
          "colorway": [
           "#636efa",
           "#EF553B",
           "#00cc96",
           "#ab63fa",
           "#FFA15A",
           "#19d3f3",
           "#FF6692",
           "#B6E880",
           "#FF97FF",
           "#FECB52"
          ],
          "font": {
           "color": "#2a3f5f"
          },
          "geo": {
           "bgcolor": "white",
           "lakecolor": "white",
           "landcolor": "white",
           "showlakes": true,
           "showland": true,
           "subunitcolor": "#C8D4E3"
          },
          "hoverlabel": {
           "align": "left"
          },
          "hovermode": "closest",
          "mapbox": {
           "style": "light"
          },
          "paper_bgcolor": "white",
          "plot_bgcolor": "white",
          "polar": {
           "angularaxis": {
            "gridcolor": "#EBF0F8",
            "linecolor": "#EBF0F8",
            "ticks": ""
           },
           "bgcolor": "white",
           "radialaxis": {
            "gridcolor": "#EBF0F8",
            "linecolor": "#EBF0F8",
            "ticks": ""
           }
          },
          "scene": {
           "xaxis": {
            "backgroundcolor": "white",
            "gridcolor": "#DFE8F3",
            "gridwidth": 2,
            "linecolor": "#EBF0F8",
            "showbackground": true,
            "ticks": "",
            "zerolinecolor": "#EBF0F8"
           },
           "yaxis": {
            "backgroundcolor": "white",
            "gridcolor": "#DFE8F3",
            "gridwidth": 2,
            "linecolor": "#EBF0F8",
            "showbackground": true,
            "ticks": "",
            "zerolinecolor": "#EBF0F8"
           },
           "zaxis": {
            "backgroundcolor": "white",
            "gridcolor": "#DFE8F3",
            "gridwidth": 2,
            "linecolor": "#EBF0F8",
            "showbackground": true,
            "ticks": "",
            "zerolinecolor": "#EBF0F8"
           }
          },
          "shapedefaults": {
           "line": {
            "color": "#2a3f5f"
           }
          },
          "ternary": {
           "aaxis": {
            "gridcolor": "#DFE8F3",
            "linecolor": "#A2B1C6",
            "ticks": ""
           },
           "baxis": {
            "gridcolor": "#DFE8F3",
            "linecolor": "#A2B1C6",
            "ticks": ""
           },
           "bgcolor": "white",
           "caxis": {
            "gridcolor": "#DFE8F3",
            "linecolor": "#A2B1C6",
            "ticks": ""
           }
          },
          "title": {
           "x": 0.05
          },
          "xaxis": {
           "automargin": true,
           "gridcolor": "#EBF0F8",
           "linecolor": "#EBF0F8",
           "ticks": "",
           "zerolinecolor": "#EBF0F8",
           "zerolinewidth": 2
          },
          "yaxis": {
           "automargin": true,
           "gridcolor": "#EBF0F8",
           "linecolor": "#EBF0F8",
           "ticks": "",
           "zerolinecolor": "#EBF0F8",
           "zerolinewidth": 2
          }
         }
        },
        "title": {
         "text": "Growth Rate Dependent Cell Concentration"
        },
        "xaxis": {
         "title": {
          "text": "Doubling Time (minutes)"
         }
        },
        "yaxis": {
         "exponentformat": "power",
         "title": {
          "text": "Cell Concentration (mL<sup>-1</sup> &#183; OD<sup>-1</sup>)"
         }
        }
       }
      },
      "text/html": [
       "<div>\n",
       "        \n",
       "        \n",
       "            <div id=\"c26da7a5-e091-46bf-b164-d68a88b00243\" class=\"plotly-graph-div\" style=\"height:525px; width:100%;\"></div>\n",
       "            <script type=\"text/javascript\">\n",
       "                require([\"plotly\"], function(Plotly) {\n",
       "                    window.PLOTLYENV=window.PLOTLYENV || {};\n",
       "                    \n",
       "                if (document.getElementById(\"c26da7a5-e091-46bf-b164-d68a88b00243\")) {\n",
       "                    Plotly.newPlot(\n",
       "                        'c26da7a5-e091-46bf-b164-d68a88b00243',\n",
       "                        [{\"line\": {\"width\": 0}, \"marker\": {\"color\": \"#444\"}, \"mode\": \"lines\", \"name\": \"Lower Bound\", \"type\": \"scatter\", \"x\": [18.0, 23.0, 28.0, 33.0, 38.0, 43.0, 48.0, 53.0, 58.0, 63.0, 68.0, 73.0, 78.0, 83.0, 88.0, 93.0, 98.0, 103.0, 108.0, 113.0, 118.0, 123.0, 128.0, 133.0, 138.0, 143.0, 148.0, 153.0, 158.0, 163.0, 168.0, 173.0, 178.0, 183.0, 188.0, 193.0, 198.0, 203.0, 208.0, 213.0, 218.0, 223.0, 228.0, 233.0, 238.0, 243.0, 248.0], \"y\": [105172212.45319529, 189756302.51057118, 276360239.18627656, 357713048.6334736, 430871956.65187085, 495118643.8766643, 550779369.1889238, 598626000.5579295, 639582384.8064582, 674581882.8192714, 704499657.3542166, 730123084.4485692, 752142295.5328732, 771151473.1695465, 787655691.696248, 802080284.860996, 814780976.7502265, 826053773.722706, 836144088.236295, 845254857.622631, 853553595.9033465, 861178415.9775373, 868243110.5826594, 874841401.843255, 881050473.1701756, 886933891.6056445, 892544018.3278849, 897923992.8816956, 903109364.4749074, 908129432.2680753, 913008346.3954937, 917766012.6157192, 922418835.9684789, 926980332.5020372, 931461632.8878, 935871897.4074203, 940218658.2396718, 944508102.0617927, 948745303.601241, 952934418.8337896, 957078844.942898, 961181352.867196, 965244197.2131766, 969269207.4543684, 973257863.639878, 977211359.2648048, 981130653.48862]}, {\"fill\": \"tonexty\", \"fillcolor\": \"rgba(68, 68, 68, 0.3)\", \"line\": {\"color\": \"rgb(31, 119, 180)\"}, \"mode\": \"lines\", \"name\": \"Measurement\", \"type\": \"scatter\", \"x\": [18.0, 23.0, 28.0, 33.0, 38.0, 43.0, 48.0, 53.0, 58.0, 63.0, 68.0, 73.0, 78.0, 83.0, 88.0, 93.0, 98.0, 103.0, 108.0, 113.0, 118.0, 123.0, 128.0, 133.0, 138.0, 143.0, 148.0, 153.0, 158.0, 163.0, 168.0, 173.0, 178.0, 183.0, 188.0, 193.0, 198.0, 203.0, 208.0, 213.0, 218.0, 223.0, 228.0, 233.0, 238.0, 243.0, 248.0], \"y\": [131470907.02845599, 237205556.71045917, 345465123.01041704, 447160498.6030524, 538613057.8869077, 618924863.12516, 688503755.4197489, 748314611.1354522, 799512288.3560995, 843263538.253338, 880662361.2184107, 912693019.5329465, 940218214.5039353, 963980706.2064911, 984611864.6549925, 1002643379.8494629, 1018519925.979071, 1032611526.8701243, 1045224961.2589303, 1056613911.6956414, 1066987779.6927892, 1076519213.7826517, 1085350460.9909177, 1093598679.0005417, 1101360351.2152238, 1108714939.8474946, 1115727899.1787987, 1122453155.9541497, 1128935148.590204, 1135210502.6092691, 1141309406.9746318, 1147256744.9522374, 1153073023.721715, 1158775139.0683987, 1164377004.9285982, 1169890072.1457393, 1175323756.3473167, 1180685791.211733, 1185982520.4205205, 1191219139.1663225, 1196399894.1106896, 1201528249.0755422, 1206607022.4399345, 1211638501.1439106, 1216624535.3282442, 1221566616.9258285, 1226465944.937452]}, {\"fill\": \"tonexty\", \"fillcolor\": \"rgba(68, 68, 68, 0.3)\", \"line\": {\"width\": 0}, \"marker\": {\"color\": \"#444\"}, \"mode\": \"lines\", \"name\": \"Upper Bound\", \"type\": \"scatter\", \"x\": [18.0, 23.0, 28.0, 33.0, 38.0, 43.0, 48.0, 53.0, 58.0, 63.0, 68.0, 73.0, 78.0, 83.0, 88.0, 93.0, 98.0, 103.0, 108.0, 113.0, 118.0, 123.0, 128.0, 133.0, 138.0, 143.0, 148.0, 153.0, 158.0, 163.0, 168.0, 173.0, 178.0, 183.0, 188.0, 193.0, 198.0, 203.0, 208.0, 213.0, 218.0, 223.0, 228.0, 233.0, 238.0, 243.0, 248.0], \"y\": [157769601.6037167, 284654810.91034716, 414570006.83455753, 536607948.5726312, 646354159.1219445, 742731082.3736557, 826228141.650574, 898003221.7129748, 959442191.9057407, 1011945193.6874045, 1056825065.0826049, 1095262954.6173236, 1128294133.4749975, 1156809939.2434359, 1181568037.6137369, 1203206474.8379297, 1222258875.2079155, 1239169280.0175428, 1254305834.2815657, 1267972965.7686517, 1280421963.4822319, 1291860011.587766, 1302457811.3991761, 1312355956.1578283, 1321670229.260272, 1330495988.0893447, 1338911780.0297124, 1346982319.0266037, 1354760932.7055006, 1362291572.9504628, 1369610467.5537698, 1376747477.2887554, 1383727211.474951, 1390569945.6347604, 1397292376.9693964, 1403908246.8840582, 1410428854.4549618, 1416863480.3616736, 1423219737.2398002, 1429503859.4988554, 1435720943.2784812, 1441875145.2838883, 1447969847.6666925, 1454007794.833453, 1459991207.0166104, 1465921874.586852, 1471801236.386284]}, {\"marker\": {\"color\": \"#d62728\", \"line\": {\"color\": \"DarkSlateGrey\", \"width\": 2}, \"size\": 12}, \"name\": \"Old Measurement\", \"type\": \"scatter\", \"x\": [58.0516142], \"y\": [799999999.9792953]}],\n",
       "                        {\"annotations\": [{\"arrowhead\": 0, \"ax\": 0, \"ay\": 0, \"font\": {\"color\": \"#d62728\"}, \"showarrow\": false, \"text\": \"(58.05, 0.8x10<sup>9</sup>)\", \"x\": 72, \"xref\": \"x\", \"y\": 770000000.0, \"yref\": \"y\"}], \"showlegend\": false, \"template\": {\"data\": {\"bar\": [{\"error_x\": {\"color\": \"#2a3f5f\"}, \"error_y\": {\"color\": \"#2a3f5f\"}, \"marker\": {\"line\": {\"color\": \"white\", \"width\": 0.5}}, \"type\": \"bar\"}], \"barpolar\": [{\"marker\": {\"line\": {\"color\": \"white\", \"width\": 0.5}}, \"type\": \"barpolar\"}], \"carpet\": [{\"aaxis\": {\"endlinecolor\": \"#2a3f5f\", \"gridcolor\": \"#C8D4E3\", \"linecolor\": \"#C8D4E3\", \"minorgridcolor\": \"#C8D4E3\", \"startlinecolor\": \"#2a3f5f\"}, \"baxis\": {\"endlinecolor\": \"#2a3f5f\", \"gridcolor\": \"#C8D4E3\", \"linecolor\": \"#C8D4E3\", \"minorgridcolor\": \"#C8D4E3\", \"startlinecolor\": \"#2a3f5f\"}, \"type\": \"carpet\"}], \"choropleth\": [{\"colorbar\": {\"outlinewidth\": 0, \"ticks\": \"\"}, \"type\": \"choropleth\"}], \"contour\": [{\"colorbar\": {\"outlinewidth\": 0, \"ticks\": \"\"}, \"colorscale\": [[0.0, \"#0d0887\"], [0.1111111111111111, \"#46039f\"], [0.2222222222222222, \"#7201a8\"], [0.3333333333333333, \"#9c179e\"], [0.4444444444444444, \"#bd3786\"], [0.5555555555555556, \"#d8576b\"], [0.6666666666666666, \"#ed7953\"], [0.7777777777777778, \"#fb9f3a\"], [0.8888888888888888, \"#fdca26\"], [1.0, \"#f0f921\"]], \"type\": \"contour\"}], \"contourcarpet\": [{\"colorbar\": {\"outlinewidth\": 0, \"ticks\": \"\"}, \"type\": \"contourcarpet\"}], \"heatmap\": [{\"colorbar\": {\"outlinewidth\": 0, \"ticks\": \"\"}, \"colorscale\": [[0.0, \"#0d0887\"], [0.1111111111111111, \"#46039f\"], [0.2222222222222222, \"#7201a8\"], [0.3333333333333333, \"#9c179e\"], [0.4444444444444444, \"#bd3786\"], [0.5555555555555556, \"#d8576b\"], [0.6666666666666666, \"#ed7953\"], [0.7777777777777778, \"#fb9f3a\"], [0.8888888888888888, \"#fdca26\"], [1.0, \"#f0f921\"]], \"type\": \"heatmap\"}], \"heatmapgl\": [{\"colorbar\": {\"outlinewidth\": 0, \"ticks\": \"\"}, \"colorscale\": [[0.0, \"#0d0887\"], [0.1111111111111111, \"#46039f\"], [0.2222222222222222, \"#7201a8\"], [0.3333333333333333, \"#9c179e\"], [0.4444444444444444, \"#bd3786\"], [0.5555555555555556, \"#d8576b\"], [0.6666666666666666, \"#ed7953\"], [0.7777777777777778, \"#fb9f3a\"], [0.8888888888888888, \"#fdca26\"], [1.0, \"#f0f921\"]], \"type\": \"heatmapgl\"}], \"histogram\": [{\"marker\": {\"colorbar\": {\"outlinewidth\": 0, \"ticks\": \"\"}}, \"type\": \"histogram\"}], \"histogram2d\": [{\"colorbar\": {\"outlinewidth\": 0, \"ticks\": \"\"}, \"colorscale\": [[0.0, \"#0d0887\"], [0.1111111111111111, \"#46039f\"], [0.2222222222222222, \"#7201a8\"], [0.3333333333333333, \"#9c179e\"], [0.4444444444444444, \"#bd3786\"], [0.5555555555555556, \"#d8576b\"], [0.6666666666666666, \"#ed7953\"], [0.7777777777777778, \"#fb9f3a\"], [0.8888888888888888, \"#fdca26\"], [1.0, \"#f0f921\"]], \"type\": \"histogram2d\"}], \"histogram2dcontour\": [{\"colorbar\": {\"outlinewidth\": 0, \"ticks\": \"\"}, \"colorscale\": [[0.0, \"#0d0887\"], [0.1111111111111111, \"#46039f\"], [0.2222222222222222, \"#7201a8\"], [0.3333333333333333, \"#9c179e\"], [0.4444444444444444, \"#bd3786\"], [0.5555555555555556, \"#d8576b\"], [0.6666666666666666, \"#ed7953\"], [0.7777777777777778, \"#fb9f3a\"], [0.8888888888888888, \"#fdca26\"], [1.0, \"#f0f921\"]], \"type\": \"histogram2dcontour\"}], \"mesh3d\": [{\"colorbar\": {\"outlinewidth\": 0, \"ticks\": \"\"}, \"type\": \"mesh3d\"}], \"parcoords\": [{\"line\": {\"colorbar\": {\"outlinewidth\": 0, \"ticks\": \"\"}}, \"type\": \"parcoords\"}], \"scatter\": [{\"marker\": {\"colorbar\": {\"outlinewidth\": 0, \"ticks\": \"\"}}, \"type\": \"scatter\"}], \"scatter3d\": [{\"line\": {\"colorbar\": {\"outlinewidth\": 0, \"ticks\": \"\"}}, \"marker\": {\"colorbar\": {\"outlinewidth\": 0, \"ticks\": \"\"}}, \"type\": \"scatter3d\"}], \"scattercarpet\": [{\"marker\": {\"colorbar\": {\"outlinewidth\": 0, \"ticks\": \"\"}}, \"type\": \"scattercarpet\"}], \"scattergeo\": [{\"marker\": {\"colorbar\": {\"outlinewidth\": 0, \"ticks\": \"\"}}, \"type\": \"scattergeo\"}], \"scattergl\": [{\"marker\": {\"colorbar\": {\"outlinewidth\": 0, \"ticks\": \"\"}}, \"type\": \"scattergl\"}], \"scattermapbox\": [{\"marker\": {\"colorbar\": {\"outlinewidth\": 0, \"ticks\": \"\"}}, \"type\": \"scattermapbox\"}], \"scatterpolar\": [{\"marker\": {\"colorbar\": {\"outlinewidth\": 0, \"ticks\": \"\"}}, \"type\": \"scatterpolar\"}], \"scatterpolargl\": [{\"marker\": {\"colorbar\": {\"outlinewidth\": 0, \"ticks\": \"\"}}, \"type\": \"scatterpolargl\"}], \"scatterternary\": [{\"marker\": {\"colorbar\": {\"outlinewidth\": 0, \"ticks\": \"\"}}, \"type\": \"scatterternary\"}], \"surface\": [{\"colorbar\": {\"outlinewidth\": 0, \"ticks\": \"\"}, \"colorscale\": [[0.0, \"#0d0887\"], [0.1111111111111111, \"#46039f\"], [0.2222222222222222, \"#7201a8\"], [0.3333333333333333, \"#9c179e\"], [0.4444444444444444, \"#bd3786\"], [0.5555555555555556, \"#d8576b\"], [0.6666666666666666, \"#ed7953\"], [0.7777777777777778, \"#fb9f3a\"], [0.8888888888888888, \"#fdca26\"], [1.0, \"#f0f921\"]], \"type\": \"surface\"}], \"table\": [{\"cells\": {\"fill\": {\"color\": \"#EBF0F8\"}, \"line\": {\"color\": \"white\"}}, \"header\": {\"fill\": {\"color\": \"#C8D4E3\"}, \"line\": {\"color\": \"white\"}}, \"type\": \"table\"}]}, \"layout\": {\"annotationdefaults\": {\"arrowcolor\": \"#2a3f5f\", \"arrowhead\": 0, \"arrowwidth\": 1}, \"colorscale\": {\"diverging\": [[0, \"#8e0152\"], [0.1, \"#c51b7d\"], [0.2, \"#de77ae\"], [0.3, \"#f1b6da\"], [0.4, \"#fde0ef\"], [0.5, \"#f7f7f7\"], [0.6, \"#e6f5d0\"], [0.7, \"#b8e186\"], [0.8, \"#7fbc41\"], [0.9, \"#4d9221\"], [1, \"#276419\"]], \"sequential\": [[0.0, \"#0d0887\"], [0.1111111111111111, \"#46039f\"], [0.2222222222222222, \"#7201a8\"], [0.3333333333333333, \"#9c179e\"], [0.4444444444444444, \"#bd3786\"], [0.5555555555555556, \"#d8576b\"], [0.6666666666666666, \"#ed7953\"], [0.7777777777777778, \"#fb9f3a\"], [0.8888888888888888, \"#fdca26\"], [1.0, \"#f0f921\"]], \"sequentialminus\": [[0.0, \"#0d0887\"], [0.1111111111111111, \"#46039f\"], [0.2222222222222222, \"#7201a8\"], [0.3333333333333333, \"#9c179e\"], [0.4444444444444444, \"#bd3786\"], [0.5555555555555556, \"#d8576b\"], [0.6666666666666666, \"#ed7953\"], [0.7777777777777778, \"#fb9f3a\"], [0.8888888888888888, \"#fdca26\"], [1.0, \"#f0f921\"]]}, \"colorway\": [\"#636efa\", \"#EF553B\", \"#00cc96\", \"#ab63fa\", \"#FFA15A\", \"#19d3f3\", \"#FF6692\", \"#B6E880\", \"#FF97FF\", \"#FECB52\"], \"font\": {\"color\": \"#2a3f5f\"}, \"geo\": {\"bgcolor\": \"white\", \"lakecolor\": \"white\", \"landcolor\": \"white\", \"showlakes\": true, \"showland\": true, \"subunitcolor\": \"#C8D4E3\"}, \"hoverlabel\": {\"align\": \"left\"}, \"hovermode\": \"closest\", \"mapbox\": {\"style\": \"light\"}, \"paper_bgcolor\": \"white\", \"plot_bgcolor\": \"white\", \"polar\": {\"angularaxis\": {\"gridcolor\": \"#EBF0F8\", \"linecolor\": \"#EBF0F8\", \"ticks\": \"\"}, \"bgcolor\": \"white\", \"radialaxis\": {\"gridcolor\": \"#EBF0F8\", \"linecolor\": \"#EBF0F8\", \"ticks\": \"\"}}, \"scene\": {\"xaxis\": {\"backgroundcolor\": \"white\", \"gridcolor\": \"#DFE8F3\", \"gridwidth\": 2, \"linecolor\": \"#EBF0F8\", \"showbackground\": true, \"ticks\": \"\", \"zerolinecolor\": \"#EBF0F8\"}, \"yaxis\": {\"backgroundcolor\": \"white\", \"gridcolor\": \"#DFE8F3\", \"gridwidth\": 2, \"linecolor\": \"#EBF0F8\", \"showbackground\": true, \"ticks\": \"\", \"zerolinecolor\": \"#EBF0F8\"}, \"zaxis\": {\"backgroundcolor\": \"white\", \"gridcolor\": \"#DFE8F3\", \"gridwidth\": 2, \"linecolor\": \"#EBF0F8\", \"showbackground\": true, \"ticks\": \"\", \"zerolinecolor\": \"#EBF0F8\"}}, \"shapedefaults\": {\"line\": {\"color\": \"#2a3f5f\"}}, \"ternary\": {\"aaxis\": {\"gridcolor\": \"#DFE8F3\", \"linecolor\": \"#A2B1C6\", \"ticks\": \"\"}, \"baxis\": {\"gridcolor\": \"#DFE8F3\", \"linecolor\": \"#A2B1C6\", \"ticks\": \"\"}, \"bgcolor\": \"white\", \"caxis\": {\"gridcolor\": \"#DFE8F3\", \"linecolor\": \"#A2B1C6\", \"ticks\": \"\"}}, \"title\": {\"x\": 0.05}, \"xaxis\": {\"automargin\": true, \"gridcolor\": \"#EBF0F8\", \"linecolor\": \"#EBF0F8\", \"ticks\": \"\", \"zerolinecolor\": \"#EBF0F8\", \"zerolinewidth\": 2}, \"yaxis\": {\"automargin\": true, \"gridcolor\": \"#EBF0F8\", \"linecolor\": \"#EBF0F8\", \"ticks\": \"\", \"zerolinecolor\": \"#EBF0F8\", \"zerolinewidth\": 2}}}, \"title\": {\"text\": \"Growth Rate Dependent Cell Concentration\"}, \"xaxis\": {\"title\": {\"text\": \"Doubling Time (minutes)\"}}, \"yaxis\": {\"exponentformat\": \"power\", \"title\": {\"text\": \"Cell Concentration (mL<sup>-1</sup> &#183; OD<sup>-1</sup>)\"}}},\n",
       "                        {\"responsive\": true}\n",
       "                    ).then(function(){\n",
       "                            \n",
       "var gd = document.getElementById('c26da7a5-e091-46bf-b164-d68a88b00243');\n",
       "var x = new MutationObserver(function (mutations, observer) {{\n",
       "        var display = window.getComputedStyle(gd).display;\n",
       "        if (!display || display === 'none') {{\n",
       "            console.log([gd, 'removed!']);\n",
       "            Plotly.purge(gd);\n",
       "            observer.disconnect();\n",
       "        }}\n",
       "}});\n",
       "\n",
       "// Listen for the removal of the full notebook cells\n",
       "var notebookContainer = gd.closest('#notebook-container');\n",
       "if (notebookContainer) {{\n",
       "    x.observe(notebookContainer, {childList: true});\n",
       "}}\n",
       "\n",
       "// Listen for the clearing of the current output cell\n",
       "var outputEl = gd.closest('.output');\n",
       "if (outputEl) {{\n",
       "    x.observe(outputEl, {childList: true});\n",
       "}}\n",
       "\n",
       "                        })\n",
       "                };\n",
       "                });\n",
       "            </script>\n",
       "        </div>"
      ]
     },
     "metadata": {},
     "output_type": "display_data"
    }
   ],
   "source": [
    "dt_min = np.arange(18.0, 250.0, 5.0)\n",
    "results = []\n",
    "for i in dt_min:\n",
    "    results.append(popCellCount(i, age_array, weights)) \n",
    "    \n",
    "upper_bound = go.Scatter(\n",
    "    name='Upper Bound',\n",
    "    x=dt_min,\n",
    "    y=[i['cell_concentration']+i['std_cell_concentration'] for i in results],\n",
    "    mode='lines',\n",
    "    marker=dict(color=\"#444\"),\n",
    "    line=dict(width=0),\n",
    "    fillcolor='rgba(68, 68, 68, 0.3)',\n",
    "    fill='tonexty')\n",
    "\n",
    "trace = go.Scatter(\n",
    "    name='Measurement',\n",
    "    x=dt_min,\n",
    "    y=[i['cell_concentration'] for i in results],\n",
    "    mode='lines',\n",
    "    line=dict(color='rgb(31, 119, 180)'),\n",
    "    fillcolor='rgba(68, 68, 68, 0.3)',\n",
    "    fill='tonexty')\n",
    "\n",
    "'''\n",
    "trace1 = go.Scatter(\n",
    "    name='Old Measurement',\n",
    "    x=dt_min,\n",
    "    y=[8.0*10.0**8.0]*len(dt_min),\n",
    "    mode='lines',\n",
    "    line=dict(color='rgb(242, 174, 15)'))\n",
    "'''\n",
    "\n",
    "trace1 = go.Scatter(\n",
    "    name='Old Measurement',\n",
    "    x=[58.0516142],\n",
    "    y=[popCellCount(58.0516142, age_array, weights)['cell_concentration']],\n",
    "    marker=dict(size=12, \n",
    "                color='#d62728',\n",
    "                line=dict(width=2,\n",
    "                    color='DarkSlateGrey'\n",
    "                    )\n",
    "                )\n",
    "    )\n",
    "\n",
    "lower_bound = go.Scatter(\n",
    "    name='Lower Bound',\n",
    "    x=dt_min,\n",
    "    y=[i['cell_concentration']-i['std_cell_concentration'] for i in results],\n",
    "    marker=dict(color=\"#444\"),\n",
    "    line=dict(width=0),\n",
    "    mode='lines')\n",
    "\n",
    "# Trace order can be important\n",
    "# with continuous error bars\n",
    "data = [lower_bound, trace, upper_bound, trace1]\n",
    "\n",
    "layout = go.Layout(\n",
    "    xaxis=dict(title='Doubling Time (minutes)'),\n",
    "    yaxis=dict(title='Cell Concentration (mL<sup>-1</sup> &#183; OD<sup>-1</sup>)', exponentformat = 'power'),\n",
    "    title='Growth Rate Dependent Cell Concentration',\n",
    "    showlegend = False,\n",
    "    template='plotly_white'\n",
    ")\n",
    "\n",
    "fig = go.Figure(data=data, layout=layout)\n",
    "\n",
    "\"\"\"\n",
    "fig.update_layout(\n",
    "    shapes=[\n",
    "        # Line Vertical\n",
    "        go.layout.Shape(\n",
    "            type=\"line\",\n",
    "            x0=58.0516142,\n",
    "            y0=1.314709*10**8.0,\n",
    "            x1=58.0516142,\n",
    "            y1=popCellCount(58.0516142, age_array, weights)['cell_concentration'],\n",
    "            line=dict(\n",
    "                color=\"#d62728\",\n",
    "                width=2,\n",
    "                dash=\"dashdot\",\n",
    "            )\n",
    "        ),\n",
    "        # Line Horizontal\n",
    "        go.layout.Shape(\n",
    "            type=\"line\",\n",
    "            x0=18,\n",
    "            y0=popCellCount(58.0516142, age_array, weights)['cell_concentration'],\n",
    "            x1=58.0516142,\n",
    "            y1=popCellCount(58.0516142, age_array, weights)['cell_concentration'],\n",
    "            line=dict(\n",
    "                color=\"#d62728\",\n",
    "                width=2,\n",
    "                dash=\"dashdot\",\n",
    "            ),\n",
    "        ),\n",
    "    ],\n",
    "    \"\"\"\n",
    "fig.update_layout(\n",
    "    annotations=[\n",
    "        go.layout.Annotation(\n",
    "            x=72,\n",
    "            y=0.77*10**9.0,\n",
    "            xref=\"x\",\n",
    "            yref=\"y\",\n",
    "            text=\"(58.05, 0.8x10<sup>9</sup>)\",\n",
    "            showarrow=False,\n",
    "            arrowhead=0,\n",
    "            ax=0,\n",
    "            ay=0,\n",
    "            font=dict(\n",
    "                color=\"#d62728\"\n",
    "            )\n",
    "        )\n",
    "    ]\n",
    ")\n",
    "\n",
    "\n",
    "\n",
    "iplot(fig, filename='pandas-continuous-error-bars')"
   ]
  },
  {
   "cell_type": "code",
   "execution_count": 67,
   "metadata": {},
   "outputs": [],
   "source": [
    "plotly.io.write_image(fig,'dt_min_cell_conc_alt.png' , width=1200, height=800)"
   ]
  },
  {
   "cell_type": "code",
   "execution_count": 198,
   "metadata": {},
   "outputs": [
    {
     "data": {
      "text/plain": [
       "Text(0, 0.5, 'Cell Number * 10^8 * mL-1 * OD-1')"
      ]
     },
     "execution_count": 198,
     "metadata": {},
     "output_type": "execute_result"
    },
    {
     "data": {
      "image/png": "[encoded data removed]",
      "text/plain": [
       "<Figure size 432x288 with 1 Axes>"
      ]
     },
     "metadata": {
      "needs_background": "light"
     },
     "output_type": "display_data"
    }
   ],
   "source": [
    "gr_min = np.arange(0.0001, 0.05, 0.0001)\n",
    "plt.plot(gr_min, [popCellCount(i, age_array, weights) for i in gr_min])\n",
    "plt.plot(gr_min, [8.0*10.0**8.0]*len(gr_min)) \n",
    "plt.xlabel('Growth Rate (min-1)')\n",
    "plt.ylabel('Cell Number * 10^8 * mL-1 * OD-1')"
   ]
  },
  {
   "cell_type": "code",
   "execution_count": 73,
   "metadata": {},
   "outputs": [
    {
     "data": {
      "application/vnd.plotly.v1+json": {
       "config": {
        "linkText": "Export to plot.ly",
        "plotlyServerURL": "https://plot.ly",
        "showLink": false
       },
       "data": [
        {
         "line": {
          "width": 0
         },
         "marker": {
          "color": "#444"
         },
         "mode": "lines",
         "name": "Lower Bound",
         "type": "scatter",
         "x": [
          0.0001,
          0.0002,
          0.00030000000000000003,
          0.0004,
          0.0005,
          0.0006000000000000001,
          0.0007000000000000001,
          0.0008,
          0.0009000000000000001,
          0.001,
          0.0011,
          0.0012000000000000001,
          0.0013000000000000002,
          0.0014000000000000002,
          0.0015,
          0.0016,
          0.0017000000000000001,
          0.0018000000000000002,
          0.0019000000000000002,
          0.002,
          0.0021,
          0.0022,
          0.0023,
          0.0024,
          0.0025,
          0.0026,
          0.0027,
          0.0028,
          0.0029,
          0.003,
          0.0031,
          0.0032,
          0.0033,
          0.0034,
          0.0035,
          0.0036,
          0.0037,
          0.0038,
          0.0039,
          0.004,
          0.0041,
          0.004200000000000001,
          0.004300000000000001,
          0.0044,
          0.0045000000000000005,
          0.004600000000000001,
          0.0047,
          0.0048000000000000004,
          0.004900000000000001,
          0.005,
          0.0051,
          0.005200000000000001,
          0.005300000000000001,
          0.0054,
          0.0055000000000000005,
          0.005600000000000001,
          0.0057,
          0.0058000000000000005,
          0.005900000000000001,
          0.006,
          0.0061,
          0.006200000000000001,
          0.006300000000000001,
          0.0064,
          0.006500000000000001,
          0.006600000000000001,
          0.0067,
          0.0068000000000000005,
          0.006900000000000001,
          0.007000000000000001,
          0.0071,
          0.007200000000000001,
          0.007300000000000001,
          0.0074,
          0.007500000000000001,
          0.007600000000000001,
          0.0077,
          0.0078000000000000005,
          0.0079,
          0.008,
          0.0081,
          0.008199999999999999,
          0.0083,
          0.0084,
          0.0085,
          0.0086,
          0.0087,
          0.0088,
          0.0089,
          0.009,
          0.0091,
          0.0092,
          0.0093,
          0.0094,
          0.0095,
          0.0096,
          0.0097,
          0.0098,
          0.009899999999999999,
          0.01,
          0.0101,
          0.0102,
          0.0103,
          0.0104,
          0.0105,
          0.0106,
          0.0107,
          0.0108,
          0.0109,
          0.011,
          0.0111,
          0.0112,
          0.0113,
          0.0114,
          0.0115,
          0.0116,
          0.0117,
          0.0118,
          0.011899999999999999,
          0.012,
          0.0121,
          0.0122,
          0.0123,
          0.0124,
          0.0125,
          0.0126,
          0.0127,
          0.0128,
          0.0129,
          0.013,
          0.0131,
          0.0132,
          0.0133,
          0.0134,
          0.0135,
          0.0136,
          0.0137,
          0.0138,
          0.013900000000000001,
          0.014,
          0.0141,
          0.0142,
          0.0143,
          0.0144,
          0.0145,
          0.0146,
          0.0147,
          0.0148,
          0.0149,
          0.015,
          0.0151,
          0.0152,
          0.0153,
          0.0154,
          0.0155,
          0.0156,
          0.015700000000000002,
          0.0158,
          0.0159,
          0.016,
          0.0161,
          0.0162,
          0.0163,
          0.0164,
          0.0165,
          0.0166,
          0.0167,
          0.0168,
          0.016900000000000002,
          0.017,
          0.0171,
          0.0172,
          0.0173,
          0.0174,
          0.0175,
          0.0176,
          0.0177,
          0.0178,
          0.0179,
          0.018,
          0.0181,
          0.0182,
          0.0183,
          0.0184,
          0.0185,
          0.018600000000000002,
          0.0187,
          0.0188,
          0.0189,
          0.019,
          0.0191,
          0.019200000000000002,
          0.0193,
          0.0194,
          0.0195,
          0.0196,
          0.0197,
          0.0198,
          0.0199,
          0.02,
          0.0201,
          0.0202,
          0.020300000000000002,
          0.0204,
          0.0205,
          0.0206,
          0.0207,
          0.0208,
          0.020900000000000002,
          0.021,
          0.0211,
          0.0212,
          0.0213,
          0.0214,
          0.021500000000000002,
          0.0216,
          0.0217,
          0.0218,
          0.0219,
          0.022,
          0.0221,
          0.0222,
          0.0223,
          0.0224,
          0.0225,
          0.022600000000000002,
          0.0227,
          0.0228,
          0.0229,
          0.023,
          0.0231,
          0.023200000000000002,
          0.0233,
          0.0234,
          0.0235,
          0.0236,
          0.0237,
          0.0238,
          0.0239,
          0.024,
          0.0241,
          0.0242,
          0.024300000000000002,
          0.0244,
          0.0245,
          0.0246,
          0.0247,
          0.0248,
          0.024900000000000002,
          0.025,
          0.0251,
          0.0252,
          0.0253,
          0.0254,
          0.025500000000000002,
          0.0256,
          0.0257,
          0.0258,
          0.0259,
          0.026000000000000002,
          0.0261,
          0.0262,
          0.0263,
          0.0264,
          0.0265,
          0.026600000000000002,
          0.0267,
          0.0268,
          0.0269,
          0.027,
          0.0271,
          0.027200000000000002,
          0.0273,
          0.0274,
          0.0275,
          0.0276,
          0.027700000000000002,
          0.027800000000000002,
          0.0279,
          0.028,
          0.0281,
          0.0282,
          0.028300000000000002,
          0.0284,
          0.0285,
          0.0286,
          0.0287,
          0.0288,
          0.028900000000000002,
          0.029,
          0.0291,
          0.0292,
          0.0293,
          0.029400000000000003,
          0.029500000000000002,
          0.0296,
          0.0297,
          0.0298,
          0.0299
         ],
         "y": [
          1550178084.7771187,
          1498865563.8897283,
          1452195173.6575632,
          1409665467.9743977,
          1370838505.6191072,
          1335330564.307726,
          1302804372.7066631,
          1272962588.803166,
          1245542305.554355,
          1220310406.3865483,
          1197059626.2836552,
          1175605200.7236035,
          1155782006.0117965,
          1137442111.7181153,
          1120452679.8031452,
          1104694156.287562,
          1090058710.4995828,
          1076448884.441557,
          1063776420.9742191,
          1051961244.5847172,
          1040930572.6883659,
          1030618138.8789834,
          1020963512.4207618,
          1011911500.6723183,
          1003411623.136682,
          995417647.5091276,
          987887179.5043542,
          980781299.4317482,
          974064239.4898139,
          967703096.5993217,
          961667576.3145497,
          955929763.9641659,
          950463919.6950408,
          945246294.5379432,
          940254964.9955343,
          935469683.9802499,
          930871746.2108309,
          926443866.4183278,
          922170068.9212148,
          918035587.3096609,
          914026773.1351395,
          910131012.6369259,
          906336650.6545482,
          902632920.9774215,
          899009882.4718859,
          895458360.4034147,
          891969892.4394904,
          888536678.8778436,
          885151536.6965221,
          881807857.0676843,
          878499566.0167745,
          875221087.9437234,
          871967311.753517,
          868733559.3705149,
          865515556.4347177,
          862309404.9991462,
          859111558.0660449,
          855918795.8159738,
          852728203.3983177,
          849537150.1645639,
          846343270.2370447,
          843144444.3159038,
          839938782.6360115,
          836724608.9934833,
          833500445.7685606,
          830264999.8779131,
          827017149.5950738,
          823755932.182753,
          820480532.2852986,
          817190271.0336224,
          813884595.8185658,
          810563070.6919402,
          807225367.35746,
          803871256.7164576,
          800500600.9356899,
          797113346.0067632,
          793709514.7687051,
          790289200.3670462,
          786852560.1244472,
          783399809.7994555,
          779931218.2113787,
          776447102.210568,
          772947821.9746188,
          769433776.6120979,
          765905400.0564489,
          762363157.2337003,
          758807540.4884789,
          755239066.2536964,
          751658271.9500484,
          748065713.1022055,
          744461960.6592803,
          740847598.5078006,
          737223221.166033,
          733589431.649095,
          729946839.4948387,
          726296058.9410021,
          722637707.2446444,
          718972403.1353168,
          715300765.3938957,
          711623411.5494094,
          707940956.6866053,
          704254012.3573704,
          700563185.5895032,
          696869077.9866626,
          693172284.9136627,
          689473394.761585,
          685772988.2874906,
          682071638.023791,
          678369907.7526066,
          674668352.0407101,
          670967515.8308859,
          667267934.0857768,
          663570131.4805086,
          659874622.1406018,
          656181909.421869,
          652492485.7292025,
          648806832.3713216,
          645125419.4487388,
          641448705.7723588,
          637777138.8102783,
          634111154.6605085,
          630451178.0474823,
          626797622.3403325,
          623150889.5910656,
          619511370.5908648,
          615879444.9428775,
          612255481.1499383,
          608639836.7157948,
          605032858.2584839,
          601434881.6346068,
          597846232.0733322,
          594267224.3190397,
          590698162.7815871,
          587139341.6932623,
          583591045.2715452,
          580053547.8868686,
          576527114.2346256,
          573011999.5107338,
          569508449.5901068,
          566016701.2074492,
          562536982.1398212,
          559069511.3904792,
          555614499.373527,
          552172148.098953,
          548742651.357674,
          545326194.9062282,
          541922956.650795,
          538533106.8302541,
          535156808.19801724,
          531794216.2023939,
          528445479.1652754,
          525110738.45894694,
          521790128.6808551,
          518483777.82617503,
          515191807.45804805,
          511914332.87536645,
          508651463.27800506,
          505403301.92940974,
          502169946.31646883,
          498951488.3066022,
          495748014.3020168,
          492559605.39108676,
          489386337.4968238,
          486228281.522417,
          483085503.4938256,
          479958064.69941056,
          476846021.8266151,
          473749427.0956842,
          470668328.3904428,
          467602769.3861459,
          464552789.6744122,
          461518424.88527775,
          458499706.8063824,
          455496663.4993305,
          452509319.4132517,
          449537695.4956019,
          446581809.30023825,
          443641675.0928136,
          440717303.95352435,
          437808703.87726384,
          434915879.87121665,
          432038834.0499468,
          429177565.72802013,
          426332071.5102128,
          423502345.3793468,
          420688378.7818097,
          417890160.71079654,
          415107677.7873281,
          412340914.3390943,
          409589852.4771639,
          406854472.1706177,
          404134751.3191463,
          401430665.82365984,
          398742189.6549599,
          396069294.9205185,
          393411951.9294078,
          390770129.2554266,
          388143793.7984726,
          385532910.84419703,
          382937444.12198925,
          380357355.86133474,
          377792606.84658414,
          375243156.47017884,
          372708962.7843701,
          370189982.5514715,
          367686171.29268694,
          365197483.33554643,
          362723871.8599917,
          360265288.9431432,
          357821685.60279024,
          355393011.8396314,
          352979216.6783053,
          350580248.20724124,
          348196053.6173626,
          345826579.23967636,
          343471770.5817759,
          341131572.3632902,
          338805928.55030763,
          336494782.38880134,
          334198076.4370857,
          331915752.5973306,
          329647752.1461582,
          327394015.7643496,
          325154483.56568575,
          322929095.1249454,
          320717789.5050866,
          318520505.28363067,
          316337180.578275,
          314167753.0717526,
          312012160.0359633,
          309870338.3553928,
          307742224.54984283,
          305627754.7964914,
          303526864.9512981,
          301439490.5697793,
          299365566.9271646,
          297305029.03795654,
          295257811.674906,
          293223849.38742405,
          291203076.51944256,
          289195427.2267403,
          287200835.49374956,
          285219235.1498573,
          283250559.8852151,
          281294743.26607174,
          279351718.7496409,
          277421419.6985179,
          275503779.39465743,
          273598731.05292434,
          271706207.8342296,
          269826142.8582624,
          267958469.21583003,
          266103119.98081636,
          264260028.22176865,
          262429127.01312345,
          260610349.44608247,
          258803628.63914618,
          257008897.7483143,
          255226089.97696635,
          253455138.58542413,
          251695976.90021223,
          249948538.32301855,
          248212756.339367,
          246488564.5270088,
          244775896.5640392,
          243074686.23674917,
          241384867.44721696,
          239706374.22064826,
          238039140.7124705,
          236383101.2151896,
          234738190.16501302,
          233104342.14824823,
          231481491.90748104,
          229869574.34753948,
          228268524.5412498,
          226678277.73499012,
          225098769.35404727,
          223529935.00778094,
          221971710.49460125,
          220424031.8067659,
          218886835.13499942,
          217360056.87294012,
          215843633.6214206,
          214337502.19258496,
          212841599.61384714,
          211355863.131695,
          209880230.21534508,
          208414638.5602498,
          206959026.0914636,
          205513330.96687028,
          204077491.58027562,
          202651446.56436902,
          201235134.7935574,
          199828495.3866757,
          198431467.7095755,
          197043991.37759703,
          195666006.2579267,
          194297452.471843,
          192938270.396855
         ]
        },
        {
         "fill": "tonexty",
         "fillcolor": "rgba(68, 68, 68, 0.3)",
         "line": {
          "color": "rgb(31, 119, 180)"
         },
         "mode": "lines",
         "name": "Measurement",
         "type": "scatter",
         "x": [
          0.0001,
          0.0002,
          0.00030000000000000003,
          0.0004,
          0.0005,
          0.0006000000000000001,
          0.0007000000000000001,
          0.0008,
          0.0009000000000000001,
          0.001,
          0.0011,
          0.0012000000000000001,
          0.0013000000000000002,
          0.0014000000000000002,
          0.0015,
          0.0016,
          0.0017000000000000001,
          0.0018000000000000002,
          0.0019000000000000002,
          0.002,
          0.0021,
          0.0022,
          0.0023,
          0.0024,
          0.0025,
          0.0026,
          0.0027,
          0.0028,
          0.0029,
          0.003,
          0.0031,
          0.0032,
          0.0033,
          0.0034,
          0.0035,
          0.0036,
          0.0037,
          0.0038,
          0.0039,
          0.004,
          0.0041,
          0.004200000000000001,
          0.004300000000000001,
          0.0044,
          0.0045000000000000005,
          0.004600000000000001,
          0.0047,
          0.0048000000000000004,
          0.004900000000000001,
          0.005,
          0.0051,
          0.005200000000000001,
          0.005300000000000001,
          0.0054,
          0.0055000000000000005,
          0.005600000000000001,
          0.0057,
          0.0058000000000000005,
          0.005900000000000001,
          0.006,
          0.0061,
          0.006200000000000001,
          0.006300000000000001,
          0.0064,
          0.006500000000000001,
          0.006600000000000001,
          0.0067,
          0.0068000000000000005,
          0.006900000000000001,
          0.007000000000000001,
          0.0071,
          0.007200000000000001,
          0.007300000000000001,
          0.0074,
          0.007500000000000001,
          0.007600000000000001,
          0.0077,
          0.0078000000000000005,
          0.0079,
          0.008,
          0.0081,
          0.008199999999999999,
          0.0083,
          0.0084,
          0.0085,
          0.0086,
          0.0087,
          0.0088,
          0.0089,
          0.009,
          0.0091,
          0.0092,
          0.0093,
          0.0094,
          0.0095,
          0.0096,
          0.0097,
          0.0098,
          0.009899999999999999,
          0.01,
          0.0101,
          0.0102,
          0.0103,
          0.0104,
          0.0105,
          0.0106,
          0.0107,
          0.0108,
          0.0109,
          0.011,
          0.0111,
          0.0112,
          0.0113,
          0.0114,
          0.0115,
          0.0116,
          0.0117,
          0.0118,
          0.011899999999999999,
          0.012,
          0.0121,
          0.0122,
          0.0123,
          0.0124,
          0.0125,
          0.0126,
          0.0127,
          0.0128,
          0.0129,
          0.013,
          0.0131,
          0.0132,
          0.0133,
          0.0134,
          0.0135,
          0.0136,
          0.0137,
          0.0138,
          0.013900000000000001,
          0.014,
          0.0141,
          0.0142,
          0.0143,
          0.0144,
          0.0145,
          0.0146,
          0.0147,
          0.0148,
          0.0149,
          0.015,
          0.0151,
          0.0152,
          0.0153,
          0.0154,
          0.0155,
          0.0156,
          0.015700000000000002,
          0.0158,
          0.0159,
          0.016,
          0.0161,
          0.0162,
          0.0163,
          0.0164,
          0.0165,
          0.0166,
          0.0167,
          0.0168,
          0.016900000000000002,
          0.017,
          0.0171,
          0.0172,
          0.0173,
          0.0174,
          0.0175,
          0.0176,
          0.0177,
          0.0178,
          0.0179,
          0.018,
          0.0181,
          0.0182,
          0.0183,
          0.0184,
          0.0185,
          0.018600000000000002,
          0.0187,
          0.0188,
          0.0189,
          0.019,
          0.0191,
          0.019200000000000002,
          0.0193,
          0.0194,
          0.0195,
          0.0196,
          0.0197,
          0.0198,
          0.0199,
          0.02,
          0.0201,
          0.0202,
          0.020300000000000002,
          0.0204,
          0.0205,
          0.0206,
          0.0207,
          0.0208,
          0.020900000000000002,
          0.021,
          0.0211,
          0.0212,
          0.0213,
          0.0214,
          0.021500000000000002,
          0.0216,
          0.0217,
          0.0218,
          0.0219,
          0.022,
          0.0221,
          0.0222,
          0.0223,
          0.0224,
          0.0225,
          0.022600000000000002,
          0.0227,
          0.0228,
          0.0229,
          0.023,
          0.0231,
          0.023200000000000002,
          0.0233,
          0.0234,
          0.0235,
          0.0236,
          0.0237,
          0.0238,
          0.0239,
          0.024,
          0.0241,
          0.0242,
          0.024300000000000002,
          0.0244,
          0.0245,
          0.0246,
          0.0247,
          0.0248,
          0.024900000000000002,
          0.025,
          0.0251,
          0.0252,
          0.0253,
          0.0254,
          0.025500000000000002,
          0.0256,
          0.0257,
          0.0258,
          0.0259,
          0.026000000000000002,
          0.0261,
          0.0262,
          0.0263,
          0.0264,
          0.0265,
          0.026600000000000002,
          0.0267,
          0.0268,
          0.0269,
          0.027,
          0.0271,
          0.027200000000000002,
          0.0273,
          0.0274,
          0.0275,
          0.0276,
          0.027700000000000002,
          0.027800000000000002,
          0.0279,
          0.028,
          0.0281,
          0.0282,
          0.028300000000000002,
          0.0284,
          0.0285,
          0.0286,
          0.0287,
          0.0288,
          0.028900000000000002,
          0.029,
          0.0291,
          0.0292,
          0.0293,
          0.029400000000000003,
          0.029500000000000002,
          0.0296,
          0.0297,
          0.0298,
          0.0299
         ],
         "y": [
          1937805757.8847737,
          1873662354.359969,
          1815321863.1591647,
          1762157449.7518933,
          1713621664.1204803,
          1669234832.8270147,
          1628575348.6131961,
          1591271518.0135884,
          1556994693.1221972,
          1525453465.717493,
          1496388743.4116187,
          1469569560.6411722,
          1444789503.930634,
          1421863652.3073328,
          1400625951.0965366,
          1380926951.4111872,
          1362631859.1274939,
          1345618846.5207233,
          1329777587.4326603,
          1315007983.1769705,
          1301219051.6187227,
          1288327956.1956441,
          1276259155.2464564,
          1264943655.0088842,
          1254318352.153929,
          1244325453.8207722,
          1234911964.8787484,
          1226029233.6269293,
          1217632548.3948524,
          1209680778.5685515,
          1202136054.4658732,
          1194963481.2503033,
          1188130882.7247376,
          1181608571.4037375,
          1175369141.7396476,
          1169387283.7869544,
          1163639614.9407282,
          1158104527.6875963,
          1152762051.5687125,
          1147593727.7797139,
          1142582495.0278363,
          1137712585.4355693,
          1132969429.427137,
          1128339568.6618066,
          1123810576.189258,
          1119370983.0991983,
          1115010211.0220594,
          1110718509.911626,
          1106486900.6051595,
          1102307121.7133584,
          1098171580.442219,
          1094073306.992578,
          1090005912.2215075,
          1085963548.2835243,
          1081940871.999351,
          1077933010.7261772,
          1073935530.5265467,
          1069944406.4534473,
          1065955994.7872571,
          1061967007.0762266,
          1057974485.8463645,
          1053975781.8591713,
          1049968532.806867,
          1045950643.3446844,
          1041920266.368665,
          1037875785.4552847,
          1033815798.3862903,
          1029739101.688428,
          1025644676.1233968,
          1021531673.0684221,
          1017399401.7324133,
          1013247317.1567501,
          1009075008.9534659,
          1004882190.7369373,
          1000668690.2082168,
          996434439.8539153,
          992179468.2240428,
          987903891.7555083,
          983607907.1100768,
          979291783.9975059,
          974955858.4563495,
          970600526.5665426,
          966226238.5693997,
          961833493.372037,
          957422833.414536,
          952994839.8793706,
          948550128.2237338,
          944089344.0164671,
          939613159.062267,
          935122267.7967701,
          930617383.9369936,
          926099237.3724166,
          921568571.2827628,
          917026139.4692746,
          912472703.8869629,
          907909032.3659484,
          903335896.5106645,
          898754069.7662393,
          894164325.6419595,
          889567436.0822353,
          884964169.9759941,
          880355291.7958982,
          875741560.359257,
          871123727.7029145,
          866502538.0648235,
          861878726.9653974,
          857253020.3821148,
          852626134.0112002,
          847998772.6105461,
          843371629.4183654,
          838745385.6423693,
          834120710.0145568,
          829498258.4069788,
          824878673.5041139,
          820262584.5277281,
          815650607.010349,
          811043342.6136936,
          806441378.988619,
          801845289.6733663,
          797255634.0270591,
          792672957.1956036,
          788097790.1073232,
          783530649.4958072,
          778972037.9476298,
          774422443.9727323,
          769882342.0954108,
          765352192.9639753,
          760832443.4772867,
          756323526.9264839,
          751825863.1503338,
          747339858.7027425,
          742865907.0310676,
          738404388.6639602,
          733955671.4075624,
          729520110.5489699,
          725098049.0659407,
          720689817.8419149,
          716295735.885478,
          711916110.553461,
          707551237.7769426,
          703201402.2894666,
          698866877.856851,
          694547927.5080118,
          690244803.7662704,
          685957748.880668,
          681686995.0568413,
          677432764.6870574,
          673195270.5790476,
          668974716.1833069,
          664771295.8185602,
          660585194.8951278,
          656416590.1359494,
          652265649.795053,
          648132533.8732733,
          644017394.3310575,
          639920375.298206,
          635841613.2804193,
          631781237.3625442,
          627739369.4084202,
          623716124.25725,
          619711609.9164268,
          615725927.750768,
          611759172.6681106,
          607811433.3012444,
          603882792.18616,
          599973325.9365962,
          596083105.4148976,
          592212195.8991716,
          588360657.246768,
          584528544.0540981,
          580715905.8128092,
          576922787.0623574,
          573149227.5389977,
          569395262.3212407,
          565660921.9718099,
          561946232.6761488,
          558251216.3775206,
          554575890.9087564,
          550920270.1206961,
          547284364.0073851,
          543668178.8280729,
          540071717.2260779,
          536494978.3445707,
          532937957.93933916,
          529400648.4885882,
          525883039.29984343,
          522385116.6140081,
          518906863.7066409,
          515448260.986513,
          512009286.0915013,
          508589913.9818821,
          505190117.0310831,
          501809865.1139495,
          498449125.69258696,
          495107863.89983946,
          491786042.62045425,
          488483622.5699945,
          485200562.3715566,
          481936818.6303426,
          478692346.0061437,
          475467097.2837905,
          472261023.441618,
          469074073.7179997,
          465906195.6759994,
          462757335.26618993,
          459627436.8876904,
          456516443.4474634,
          453424296.4179245,
          450350935.8929038,
          447296300.6420105,
          444260328.1634359,
          441242954.7352439,
          438244115.4651865,
          435263744.33908534,
          432301774.26782024,
          429358137.13295996,
          426432763.83107555,
          423525584.3167718,
          420636527.64447075,
          417765522.0089842,
          414912494.7849082,
          412077372.5648705,
          409260081.1966655,
          406460545.81930715,
          403678690.8980277,
          400914440.2582559,
          398167717.11859876,
          395438444.1228587,
          392726543.3711092,
          390031936.4498602,
          387354544.4613335,
          384694288.05187607,
          382051087.43953687,
          379424862.44082487,
          376815532.4966785,
          374223016.6976632,
          371647233.80842096,
          369088102.2913918,
          366545540.32982874,
          364019465.8501248,
          361509796.54347146,
          359016449.88686806,
          356539343.16349894,
          354078393.4824967,
          351633517.7981087,
          349204632.9282827,
          346791655.57268846,
          344394502.3301905,
          342013089.71578753,
          339647334.177033,
          337297152.1099511,
          334962459.8744616,
          332643173.80932957,
          330339210.24664885,
          328050485.5258753,
          325776916.0074219,
          323518418.0858268,
          321274908.20250416,
          319046302.8580953,
          316832518.62442255,
          314633472.15606534,
          312449080.2015611,
          310279259.61424696,
          308123927.362749,
          305983000.5411287,
          303856396.3786981,
          301744032.2495096,
          299645825.68153125,
          297561694.36551553,
          295491556.1635702,
          293435329.1174378,
          291392931.4564938,
          289364281.60547006,
          287349298.1919099,
          285347900.05336344,
          283360006.2443299,
          281385536.0429541,
          279424408.95748156,
          277476544.7324813,
          275541863.354842,
          273620285.05954653,
          271711730.33523095,
          269816119.92953527,
          267933374.85425025,
          266063416.39026538,
          264206166.0923244,
          262361545.79359382,
          260529477.6100471,
          258709883.94467264,
          256902687.49150792,
          255107811.23950562,
          253325178.47623572,
          251554712.7914281,
          249796338.08036065,
          248049978.54709554,
          246315558.70756897,
          244593003.39253843,
          242882237.75039014,
          241183187.24981216
         ]
        },
        {
         "fill": "tonexty",
         "fillcolor": "rgba(68, 68, 68, 0.3)",
         "line": {
          "width": 0
         },
         "marker": {
          "color": "#444"
         },
         "mode": "lines",
         "name": "Upper Bound",
         "type": "scatter",
         "x": [
          0.0001,
          0.0002,
          0.00030000000000000003,
          0.0004,
          0.0005,
          0.0006000000000000001,
          0.0007000000000000001,
          0.0008,
          0.0009000000000000001,
          0.001,
          0.0011,
          0.0012000000000000001,
          0.0013000000000000002,
          0.0014000000000000002,
          0.0015,
          0.0016,
          0.0017000000000000001,
          0.0018000000000000002,
          0.0019000000000000002,
          0.002,
          0.0021,
          0.0022,
          0.0023,
          0.0024,
          0.0025,
          0.0026,
          0.0027,
          0.0028,
          0.0029,
          0.003,
          0.0031,
          0.0032,
          0.0033,
          0.0034,
          0.0035,
          0.0036,
          0.0037,
          0.0038,
          0.0039,
          0.004,
          0.0041,
          0.004200000000000001,
          0.004300000000000001,
          0.0044,
          0.0045000000000000005,
          0.004600000000000001,
          0.0047,
          0.0048000000000000004,
          0.004900000000000001,
          0.005,
          0.0051,
          0.005200000000000001,
          0.005300000000000001,
          0.0054,
          0.0055000000000000005,
          0.005600000000000001,
          0.0057,
          0.0058000000000000005,
          0.005900000000000001,
          0.006,
          0.0061,
          0.006200000000000001,
          0.006300000000000001,
          0.0064,
          0.006500000000000001,
          0.006600000000000001,
          0.0067,
          0.0068000000000000005,
          0.006900000000000001,
          0.007000000000000001,
          0.0071,
          0.007200000000000001,
          0.007300000000000001,
          0.0074,
          0.007500000000000001,
          0.007600000000000001,
          0.0077,
          0.0078000000000000005,
          0.0079,
          0.008,
          0.0081,
          0.008199999999999999,
          0.0083,
          0.0084,
          0.0085,
          0.0086,
          0.0087,
          0.0088,
          0.0089,
          0.009,
          0.0091,
          0.0092,
          0.0093,
          0.0094,
          0.0095,
          0.0096,
          0.0097,
          0.0098,
          0.009899999999999999,
          0.01,
          0.0101,
          0.0102,
          0.0103,
          0.0104,
          0.0105,
          0.0106,
          0.0107,
          0.0108,
          0.0109,
          0.011,
          0.0111,
          0.0112,
          0.0113,
          0.0114,
          0.0115,
          0.0116,
          0.0117,
          0.0118,
          0.011899999999999999,
          0.012,
          0.0121,
          0.0122,
          0.0123,
          0.0124,
          0.0125,
          0.0126,
          0.0127,
          0.0128,
          0.0129,
          0.013,
          0.0131,
          0.0132,
          0.0133,
          0.0134,
          0.0135,
          0.0136,
          0.0137,
          0.0138,
          0.013900000000000001,
          0.014,
          0.0141,
          0.0142,
          0.0143,
          0.0144,
          0.0145,
          0.0146,
          0.0147,
          0.0148,
          0.0149,
          0.015,
          0.0151,
          0.0152,
          0.0153,
          0.0154,
          0.0155,
          0.0156,
          0.015700000000000002,
          0.0158,
          0.0159,
          0.016,
          0.0161,
          0.0162,
          0.0163,
          0.0164,
          0.0165,
          0.0166,
          0.0167,
          0.0168,
          0.016900000000000002,
          0.017,
          0.0171,
          0.0172,
          0.0173,
          0.0174,
          0.0175,
          0.0176,
          0.0177,
          0.0178,
          0.0179,
          0.018,
          0.0181,
          0.0182,
          0.0183,
          0.0184,
          0.0185,
          0.018600000000000002,
          0.0187,
          0.0188,
          0.0189,
          0.019,
          0.0191,
          0.019200000000000002,
          0.0193,
          0.0194,
          0.0195,
          0.0196,
          0.0197,
          0.0198,
          0.0199,
          0.02,
          0.0201,
          0.0202,
          0.020300000000000002,
          0.0204,
          0.0205,
          0.0206,
          0.0207,
          0.0208,
          0.020900000000000002,
          0.021,
          0.0211,
          0.0212,
          0.0213,
          0.0214,
          0.021500000000000002,
          0.0216,
          0.0217,
          0.0218,
          0.0219,
          0.022,
          0.0221,
          0.0222,
          0.0223,
          0.0224,
          0.0225,
          0.022600000000000002,
          0.0227,
          0.0228,
          0.0229,
          0.023,
          0.0231,
          0.023200000000000002,
          0.0233,
          0.0234,
          0.0235,
          0.0236,
          0.0237,
          0.0238,
          0.0239,
          0.024,
          0.0241,
          0.0242,
          0.024300000000000002,
          0.0244,
          0.0245,
          0.0246,
          0.0247,
          0.0248,
          0.024900000000000002,
          0.025,
          0.0251,
          0.0252,
          0.0253,
          0.0254,
          0.025500000000000002,
          0.0256,
          0.0257,
          0.0258,
          0.0259,
          0.026000000000000002,
          0.0261,
          0.0262,
          0.0263,
          0.0264,
          0.0265,
          0.026600000000000002,
          0.0267,
          0.0268,
          0.0269,
          0.027,
          0.0271,
          0.027200000000000002,
          0.0273,
          0.0274,
          0.0275,
          0.0276,
          0.027700000000000002,
          0.027800000000000002,
          0.0279,
          0.028,
          0.0281,
          0.0282,
          0.028300000000000002,
          0.0284,
          0.0285,
          0.0286,
          0.0287,
          0.0288,
          0.028900000000000002,
          0.029,
          0.0291,
          0.0292,
          0.0293,
          0.029400000000000003,
          0.029500000000000002,
          0.0296,
          0.0297,
          0.0298,
          0.0299
         ],
         "y": [
          2325433430.992429,
          2248459144.8302097,
          2178448552.660766,
          2114649431.529389,
          2056404822.6218534,
          2003139101.3463035,
          1954346324.5197291,
          1909580447.224011,
          1868447080.6900394,
          1830596525.0484378,
          1795717860.5395823,
          1763533920.5587409,
          1733797001.8494716,
          1706285192.8965502,
          1680799222.389928,
          1657159746.5348125,
          1635205007.755405,
          1614788808.5998898,
          1595778753.8911016,
          1578054721.7692237,
          1561507530.5490794,
          1546037773.5123048,
          1531554798.072151,
          1517975809.34545,
          1505225081.171176,
          1493233260.1324167,
          1481936750.2531426,
          1471277167.8221104,
          1461200857.299891,
          1451658460.5377812,
          1442604532.6171968,
          1433997198.5364406,
          1425797845.7544346,
          1417970848.2695317,
          1410483318.4837608,
          1403304883.593659,
          1396407483.6706254,
          1389765188.9568648,
          1383354034.2162101,
          1377151868.2497668,
          1371138216.9205332,
          1365294158.2342126,
          1359602208.1997256,
          1354046216.3461916,
          1348611269.9066303,
          1343283605.794982,
          1338050529.6046283,
          1332900340.9454086,
          1327822264.5137968,
          1322806386.3590326,
          1317843594.8676634,
          1312925526.0414326,
          1308044512.689498,
          1303193537.1965337,
          1298366187.5639844,
          1293556616.4532082,
          1288759502.9870484,
          1283970017.090921,
          1279183786.1761963,
          1274396863.9878893,
          1269605701.4556842,
          1264807119.4024386,
          1259998282.9777226,
          1255176677.6958854,
          1250340086.9687693,
          1245486571.0326562,
          1240614447.1775067,
          1235722271.194103,
          1230808819.961495,
          1225873075.103222,
          1220914207.6462607,
          1215931563.6215599,
          1210924650.5494719,
          1205893124.757417,
          1200836779.4807436,
          1195755533.7010674,
          1190649421.6793804,
          1185518583.1439703,
          1180363254.0957065,
          1175183758.1955564,
          1169980498.7013202,
          1164753950.9225173,
          1159504655.1641805,
          1154233210.1319764,
          1148940266.772623,
          1143626522.5250409,
          1138292715.9589887,
          1132939621.7792377,
          1127568046.1744854,
          1122178822.4913347,
          1116772807.214707,
          1111350876.2370327,
          1105913921.3994925,
          1100462847.2894542,
          1094998568.279087,
          1089522005.7908947,
          1084034085.7766845,
          1078535736.3971617,
          1073027885.8900234,
          1067511460.6150613,
          1061987383.2653829,
          1056456571.234426,
          1050919935.1290108,
          1045378377.4191663,
          1039832791.2159843,
          1034284059.1692097,
          1028733052.4767389,
          1023180629.9986094,
          1017627637.4684856,
          1012074906.7960206,
          1006523255.4538527,
          1000973485.9433367,
          995426385.3334491,
          989882724.8676261,
          984343259.6335871,
          978808728.2914956,
          973279852.8560656,
          967757338.5284991,
          962241873.5743738,
          956734129.2438399,
          951234759.7306987,
          945744402.1671641,
          940263676.6512818,
          934793186.304194,
          929333517.3545998,
          923885239.2479441,
          918448904.7780123,
          913025050.2387786,
          907614195.5944839,
          902216844.6660607,
          896833485.3321527,
          891464589.7430955,
          886110614.5463333,
          880772001.1218624,
          875449175.8263946,
          870142550.2450129,
          864852521.4492042,
          859579472.2602222,
          854323771.5168151,
          849085774.346436,
          843865822.4391121,
          838664244.3232228,
          833481355.6424966,
          828317459.4335878,
          823172846.4036621,
          818047795.2074543,
          812942572.7233198,
          807857434.327841,
          802792624.1685966,
          797748375.4347266,
          792724910.6249802,
          787722441.8129518,
          782741170.9092509,
          777781289.9203715,
          772842981.2040671,
          767926417.7210455,
          763031763.2828336,
          758159172.7956786,
          753308792.5003716,
          748480760.2078977,
          743675205.5308368,
          738892250.1104491,
          734132007.8393974,
          729394585.0800718,
          724680080.8784943,
          719988587.1737818,
          715320189.00318,
          710674964.702659,
          706052986.1030931,
          701454318.7220504,
          696879021.9512062,
          692327149.2394371,
          687798748.2716129,
          683293861.1431508,
          678812524.530368,
          674354769.8566957,
          669920623.4548029,
          665510106.7246991,
          661123236.2878678,
          656760024.1375065,
          652420477.7849292,
          648104600.402209,
          643812390.9611213,
          639543844.3684655,
          635298951.5978297,
          631077699.8178772,
          626880072.5172198,
          622706049.6259537,
          618555607.6339318,
          614428719.7058387,
          610325355.7931465,
          606245482.7430199,
          602189064.4042392,
          598156061.730214,
          594146432.8791604,
          590160133.3115007,
          586197115.8845624,
          582257330.9446406,
          578340726.4164882,
          574447247.8902981,
          570576838.7062463,
          566729440.0366518,
          562904990.9658206,
          559103428.5676286,
          555324687.9809084,
          551568702.4826939,
          547835403.5593803,
          544124720.9758573,
          540436582.8426644,
          536770915.6812308,
          533127644.4872404,
          529506692.7921825,
          525907982.7231317,
          522331435.06080806,
          518776969.2959641,
          515244503.684144,
          511733955.2988609,
          508245240.083236,
          504778272.90014017,
          501332967.5808827,
          497909236.9724858,
          494506992.98358274,
          491126146.6289815,
          487766608.07292855,
          484428286.67111003,
          481111091.0114252,
          477814928.95356685,
          474539707.6674424,
          471285333.67046577,
          468051712.86375713,
          464838750.5672742,
          461646351.5539093,
          458474420.08258235,
          455322859.9303516,
          452191574.42357767,
          449080466.46816176,
          445989438.5788854,
          442918392.90787756,
          439867231.2722334,
          436835855.180807,
          433824165.8602026,
          430832064.27998656,
          427859451.1771406,
          424906227.07977825,
          421972292.33014566,
          419057547.1069245,
          416161891.446859,
          413285225.2657235,
          410427448.3786507,
          407588460.5198364,
          404768161.36163974,
          401966450.53309315,
          399183227.6378428,
          396418392.2715291,
          393671844.0386271,
          390943482.56876135,
          388233207.5325074,
          385540918.65669405,
          382866515.73922426,
          380209898.663421,
          377570967.41191846,
          374949622.08010364,
          372345762.88912696,
          369759290.1984891,
          367190104.51821816,
          364638106.52064705,
          362103197.0518022,
          359585277.1424143,
          357084248.0185605,
          354600011.1119509,
          352132468.06986254,
          349681520.76473933,
          347247071.30345905,
          344829022.03628033,
          342427275.5654771,
          340041734.75366974,
          337672302.7318609,
          335318882.90718216,
          332981378.97036135,
          330659694.9029181,
          328353734.9840936,
          326063403.79752177,
          323788606.23765,
          321529247.5159155,
          319285233.1666836,
          317056469.0529538,
          314842861.37184256,
          312644316.6598444,
          310460741.79788166,
          308292044.0161456,
          306138130.89873564,
          303998910.3881024,
          301874290.7892988,
          299764180.7740456,
          297668489.3846156,
          295587126.0375409,
          293520000.52715015,
          291467023.0289373,
          289428104.1027693
         ]
        },
        {
         "marker": {
          "color": "#d62728",
          "line": {
           "color": "DarkSlateGrey",
           "width": 2
          },
          "size": 12
         },
         "name": "Old Measurement",
         "type": "scatter",
         "x": [
          0.011940187884731468
         ],
         "y": [
          799999999.9792953
         ]
        }
       ],
       "layout": {
        "annotations": [
         {
          "arrowhead": 0,
          "ax": 0,
          "ay": 0,
          "font": {
           "color": "#d62728"
          },
          "showarrow": false,
          "text": "(0.0119, 0.8x10<sup>9</sup>)",
          "x": 0.009627044174443685,
          "xref": "x",
          "y": 770000000,
          "yref": "y"
         }
        ],
        "showlegend": false,
        "template": {
         "data": {
          "bar": [
           {
            "error_x": {
             "color": "#2a3f5f"
            },
            "error_y": {
             "color": "#2a3f5f"
            },
            "marker": {
             "line": {
              "color": "white",
              "width": 0.5
             }
            },
            "type": "bar"
           }
          ],
          "barpolar": [
           {
            "marker": {
             "line": {
              "color": "white",
              "width": 0.5
             }
            },
            "type": "barpolar"
           }
          ],
          "carpet": [
           {
            "aaxis": {
             "endlinecolor": "#2a3f5f",
             "gridcolor": "#C8D4E3",
             "linecolor": "#C8D4E3",
             "minorgridcolor": "#C8D4E3",
             "startlinecolor": "#2a3f5f"
            },
            "baxis": {
             "endlinecolor": "#2a3f5f",
             "gridcolor": "#C8D4E3",
             "linecolor": "#C8D4E3",
             "minorgridcolor": "#C8D4E3",
             "startlinecolor": "#2a3f5f"
            },
            "type": "carpet"
           }
          ],
          "choropleth": [
           {
            "colorbar": {
             "outlinewidth": 0,
             "ticks": ""
            },
            "type": "choropleth"
           }
          ],
          "contour": [
           {
            "colorbar": {
             "outlinewidth": 0,
             "ticks": ""
            },
            "colorscale": [
             [
              0,
              "#0d0887"
             ],
             [
              0.1111111111111111,
              "#46039f"
             ],
             [
              0.2222222222222222,
              "#7201a8"
             ],
             [
              0.3333333333333333,
              "#9c179e"
             ],
             [
              0.4444444444444444,
              "#bd3786"
             ],
             [
              0.5555555555555556,
              "#d8576b"
             ],
             [
              0.6666666666666666,
              "#ed7953"
             ],
             [
              0.7777777777777778,
              "#fb9f3a"
             ],
             [
              0.8888888888888888,
              "#fdca26"
             ],
             [
              1,
              "#f0f921"
             ]
            ],
            "type": "contour"
           }
          ],
          "contourcarpet": [
           {
            "colorbar": {
             "outlinewidth": 0,
             "ticks": ""
            },
            "type": "contourcarpet"
           }
          ],
          "heatmap": [
           {
            "colorbar": {
             "outlinewidth": 0,
             "ticks": ""
            },
            "colorscale": [
             [
              0,
              "#0d0887"
             ],
             [
              0.1111111111111111,
              "#46039f"
             ],
             [
              0.2222222222222222,
              "#7201a8"
             ],
             [
              0.3333333333333333,
              "#9c179e"
             ],
             [
              0.4444444444444444,
              "#bd3786"
             ],
             [
              0.5555555555555556,
              "#d8576b"
             ],
             [
              0.6666666666666666,
              "#ed7953"
             ],
             [
              0.7777777777777778,
              "#fb9f3a"
             ],
             [
              0.8888888888888888,
              "#fdca26"
             ],
             [
              1,
              "#f0f921"
             ]
            ],
            "type": "heatmap"
           }
          ],
          "heatmapgl": [
           {
            "colorbar": {
             "outlinewidth": 0,
             "ticks": ""
            },
            "colorscale": [
             [
              0,
              "#0d0887"
             ],
             [
              0.1111111111111111,
              "#46039f"
             ],
             [
              0.2222222222222222,
              "#7201a8"
             ],
             [
              0.3333333333333333,
              "#9c179e"
             ],
             [
              0.4444444444444444,
              "#bd3786"
             ],
             [
              0.5555555555555556,
              "#d8576b"
             ],
             [
              0.6666666666666666,
              "#ed7953"
             ],
             [
              0.7777777777777778,
              "#fb9f3a"
             ],
             [
              0.8888888888888888,
              "#fdca26"
             ],
             [
              1,
              "#f0f921"
             ]
            ],
            "type": "heatmapgl"
           }
          ],
          "histogram": [
           {
            "marker": {
             "colorbar": {
              "outlinewidth": 0,
              "ticks": ""
             }
            },
            "type": "histogram"
           }
          ],
          "histogram2d": [
           {
            "colorbar": {
             "outlinewidth": 0,
             "ticks": ""
            },
            "colorscale": [
             [
              0,
              "#0d0887"
             ],
             [
              0.1111111111111111,
              "#46039f"
             ],
             [
              0.2222222222222222,
              "#7201a8"
             ],
             [
              0.3333333333333333,
              "#9c179e"
             ],
             [
              0.4444444444444444,
              "#bd3786"
             ],
             [
              0.5555555555555556,
              "#d8576b"
             ],
             [
              0.6666666666666666,
              "#ed7953"
             ],
             [
              0.7777777777777778,
              "#fb9f3a"
             ],
             [
              0.8888888888888888,
              "#fdca26"
             ],
             [
              1,
              "#f0f921"
             ]
            ],
            "type": "histogram2d"
           }
          ],
          "histogram2dcontour": [
           {
            "colorbar": {
             "outlinewidth": 0,
             "ticks": ""
            },
            "colorscale": [
             [
              0,
              "#0d0887"
             ],
             [
              0.1111111111111111,
              "#46039f"
             ],
             [
              0.2222222222222222,
              "#7201a8"
             ],
             [
              0.3333333333333333,
              "#9c179e"
             ],
             [
              0.4444444444444444,
              "#bd3786"
             ],
             [
              0.5555555555555556,
              "#d8576b"
             ],
             [
              0.6666666666666666,
              "#ed7953"
             ],
             [
              0.7777777777777778,
              "#fb9f3a"
             ],
             [
              0.8888888888888888,
              "#fdca26"
             ],
             [
              1,
              "#f0f921"
             ]
            ],
            "type": "histogram2dcontour"
           }
          ],
          "mesh3d": [
           {
            "colorbar": {
             "outlinewidth": 0,
             "ticks": ""
            },
            "type": "mesh3d"
           }
          ],
          "parcoords": [
           {
            "line": {
             "colorbar": {
              "outlinewidth": 0,
              "ticks": ""
             }
            },
            "type": "parcoords"
           }
          ],
          "scatter": [
           {
            "marker": {
             "colorbar": {
              "outlinewidth": 0,
              "ticks": ""
             }
            },
            "type": "scatter"
           }
          ],
          "scatter3d": [
           {
            "line": {
             "colorbar": {
              "outlinewidth": 0,
              "ticks": ""
             }
            },
            "marker": {
             "colorbar": {
              "outlinewidth": 0,
              "ticks": ""
             }
            },
            "type": "scatter3d"
           }
          ],
          "scattercarpet": [
           {
            "marker": {
             "colorbar": {
              "outlinewidth": 0,
              "ticks": ""
             }
            },
            "type": "scattercarpet"
           }
          ],
          "scattergeo": [
           {
            "marker": {
             "colorbar": {
              "outlinewidth": 0,
              "ticks": ""
             }
            },
            "type": "scattergeo"
           }
          ],
          "scattergl": [
           {
            "marker": {
             "colorbar": {
              "outlinewidth": 0,
              "ticks": ""
             }
            },
            "type": "scattergl"
           }
          ],
          "scattermapbox": [
           {
            "marker": {
             "colorbar": {
              "outlinewidth": 0,
              "ticks": ""
             }
            },
            "type": "scattermapbox"
           }
          ],
          "scatterpolar": [
           {
            "marker": {
             "colorbar": {
              "outlinewidth": 0,
              "ticks": ""
             }
            },
            "type": "scatterpolar"
           }
          ],
          "scatterpolargl": [
           {
            "marker": {
             "colorbar": {
              "outlinewidth": 0,
              "ticks": ""
             }
            },
            "type": "scatterpolargl"
           }
          ],
          "scatterternary": [
           {
            "marker": {
             "colorbar": {
              "outlinewidth": 0,
              "ticks": ""
             }
            },
            "type": "scatterternary"
           }
          ],
          "surface": [
           {
            "colorbar": {
             "outlinewidth": 0,
             "ticks": ""
            },
            "colorscale": [
             [
              0,
              "#0d0887"
             ],
             [
              0.1111111111111111,
              "#46039f"
             ],
             [
              0.2222222222222222,
              "#7201a8"
             ],
             [
              0.3333333333333333,
              "#9c179e"
             ],
             [
              0.4444444444444444,
              "#bd3786"
             ],
             [
              0.5555555555555556,
              "#d8576b"
             ],
             [
              0.6666666666666666,
              "#ed7953"
             ],
             [
              0.7777777777777778,
              "#fb9f3a"
             ],
             [
              0.8888888888888888,
              "#fdca26"
             ],
             [
              1,
              "#f0f921"
             ]
            ],
            "type": "surface"
           }
          ],
          "table": [
           {
            "cells": {
             "fill": {
              "color": "#EBF0F8"
             },
             "line": {
              "color": "white"
             }
            },
            "header": {
             "fill": {
              "color": "#C8D4E3"
             },
             "line": {
              "color": "white"
             }
            },
            "type": "table"
           }
          ]
         },
         "layout": {
          "annotationdefaults": {
           "arrowcolor": "#2a3f5f",
           "arrowhead": 0,
           "arrowwidth": 1
          },
          "colorscale": {
           "diverging": [
            [
             0,
             "#8e0152"
            ],
            [
             0.1,
             "#c51b7d"
            ],
            [
             0.2,
             "#de77ae"
            ],
            [
             0.3,
             "#f1b6da"
            ],
            [
             0.4,
             "#fde0ef"
            ],
            [
             0.5,
             "#f7f7f7"
            ],
            [
             0.6,
             "#e6f5d0"
            ],
            [
             0.7,
             "#b8e186"
            ],
            [
             0.8,
             "#7fbc41"
            ],
            [
             0.9,
             "#4d9221"
            ],
            [
             1,
             "#276419"
            ]
           ],
           "sequential": [
            [
             0,
             "#0d0887"
            ],
            [
             0.1111111111111111,
             "#46039f"
            ],
            [
             0.2222222222222222,
             "#7201a8"
            ],
            [
             0.3333333333333333,
             "#9c179e"
            ],
            [
             0.4444444444444444,
             "#bd3786"
            ],
            [
             0.5555555555555556,
             "#d8576b"
            ],
            [
             0.6666666666666666,
             "#ed7953"
            ],
            [
             0.7777777777777778,
             "#fb9f3a"
            ],
            [
             0.8888888888888888,
             "#fdca26"
            ],
            [
             1,
             "#f0f921"
            ]
           ],
           "sequentialminus": [
            [
             0,
             "#0d0887"
            ],
            [
             0.1111111111111111,
             "#46039f"
            ],
            [
             0.2222222222222222,
             "#7201a8"
            ],
            [
             0.3333333333333333,
             "#9c179e"
            ],
            [
             0.4444444444444444,
             "#bd3786"
            ],
            [
             0.5555555555555556,
             "#d8576b"
            ],
            [
             0.6666666666666666,
             "#ed7953"
            ],
            [
             0.7777777777777778,
             "#fb9f3a"
            ],
            [
             0.8888888888888888,
             "#fdca26"
            ],
            [
             1,
             "#f0f921"
            ]
           ]
          },
          "colorway": [
           "#636efa",
           "#EF553B",
           "#00cc96",
           "#ab63fa",
           "#FFA15A",
           "#19d3f3",
           "#FF6692",
           "#B6E880",
           "#FF97FF",
           "#FECB52"
          ],
          "font": {
           "color": "#2a3f5f"
          },
          "geo": {
           "bgcolor": "white",
           "lakecolor": "white",
           "landcolor": "white",
           "showlakes": true,
           "showland": true,
           "subunitcolor": "#C8D4E3"
          },
          "hoverlabel": {
           "align": "left"
          },
          "hovermode": "closest",
          "mapbox": {
           "style": "light"
          },
          "paper_bgcolor": "white",
          "plot_bgcolor": "white",
          "polar": {
           "angularaxis": {
            "gridcolor": "#EBF0F8",
            "linecolor": "#EBF0F8",
            "ticks": ""
           },
           "bgcolor": "white",
           "radialaxis": {
            "gridcolor": "#EBF0F8",
            "linecolor": "#EBF0F8",
            "ticks": ""
           }
          },
          "scene": {
           "xaxis": {
            "backgroundcolor": "white",
            "gridcolor": "#DFE8F3",
            "gridwidth": 2,
            "linecolor": "#EBF0F8",
            "showbackground": true,
            "ticks": "",
            "zerolinecolor": "#EBF0F8"
           },
           "yaxis": {
            "backgroundcolor": "white",
            "gridcolor": "#DFE8F3",
            "gridwidth": 2,
            "linecolor": "#EBF0F8",
            "showbackground": true,
            "ticks": "",
            "zerolinecolor": "#EBF0F8"
           },
           "zaxis": {
            "backgroundcolor": "white",
            "gridcolor": "#DFE8F3",
            "gridwidth": 2,
            "linecolor": "#EBF0F8",
            "showbackground": true,
            "ticks": "",
            "zerolinecolor": "#EBF0F8"
           }
          },
          "shapedefaults": {
           "line": {
            "color": "#2a3f5f"
           }
          },
          "ternary": {
           "aaxis": {
            "gridcolor": "#DFE8F3",
            "linecolor": "#A2B1C6",
            "ticks": ""
           },
           "baxis": {
            "gridcolor": "#DFE8F3",
            "linecolor": "#A2B1C6",
            "ticks": ""
           },
           "bgcolor": "white",
           "caxis": {
            "gridcolor": "#DFE8F3",
            "linecolor": "#A2B1C6",
            "ticks": ""
           }
          },
          "title": {
           "x": 0.05
          },
          "xaxis": {
           "automargin": true,
           "gridcolor": "#EBF0F8",
           "linecolor": "#EBF0F8",
           "ticks": "",
           "zerolinecolor": "#EBF0F8",
           "zerolinewidth": 2
          },
          "yaxis": {
           "automargin": true,
           "gridcolor": "#EBF0F8",
           "linecolor": "#EBF0F8",
           "ticks": "",
           "zerolinecolor": "#EBF0F8",
           "zerolinewidth": 2
          }
         }
        },
        "title": {
         "text": "Growth Rate Dependent Cell Concentration"
        },
        "xaxis": {
         "title": {
          "text": "Growth Rate (min<sup>-1</sup>)"
         }
        },
        "yaxis": {
         "exponentformat": "power",
         "title": {
          "text": "Cell Concentration (mL<sup>-1</sup> &#183; OD<sup>-1</sup>)"
         }
        }
       }
      },
      "text/html": [
       "<div>\n",
       "        \n",
       "        \n",
       "            <div id=\"26cdf7ac-ad0a-4294-9c3c-0279b40667e1\" class=\"plotly-graph-div\" style=\"height:525px; width:100%;\"></div>\n",
       "            <script type=\"text/javascript\">\n",
       "                require([\"plotly\"], function(Plotly) {\n",
       "                    window.PLOTLYENV=window.PLOTLYENV || {};\n",
       "                    \n",
       "                if (document.getElementById(\"26cdf7ac-ad0a-4294-9c3c-0279b40667e1\")) {\n",
       "                    Plotly.newPlot(\n",
       "                        '26cdf7ac-ad0a-4294-9c3c-0279b40667e1',\n",
       "                        [{\"line\": {\"width\": 0}, \"marker\": {\"color\": \"#444\"}, \"mode\": \"lines\", \"name\": \"Lower Bound\", \"type\": \"scatter\", \"x\": [0.0001, 0.0002, 0.00030000000000000003, 0.0004, 0.0005, 0.0006000000000000001, 0.0007000000000000001, 0.0008, 0.0009000000000000001, 0.001, 0.0011, 0.0012000000000000001, 0.0013000000000000002, 0.0014000000000000002, 0.0015, 0.0016, 0.0017000000000000001, 0.0018000000000000002, 0.0019000000000000002, 0.002, 0.0021, 0.0022, 0.0023, 0.0024, 0.0025, 0.0026, 0.0027, 0.0028, 0.0029, 0.003, 0.0031, 0.0032, 0.0033, 0.0034, 0.0035, 0.0036, 0.0037, 0.0038, 0.0039, 0.004, 0.0041, 0.004200000000000001, 0.004300000000000001, 0.0044, 0.0045000000000000005, 0.004600000000000001, 0.0047, 0.0048000000000000004, 0.004900000000000001, 0.005, 0.0051, 0.005200000000000001, 0.005300000000000001, 0.0054, 0.0055000000000000005, 0.005600000000000001, 0.0057, 0.0058000000000000005, 0.005900000000000001, 0.006, 0.0061, 0.006200000000000001, 0.006300000000000001, 0.0064, 0.006500000000000001, 0.006600000000000001, 0.0067, 0.0068000000000000005, 0.006900000000000001, 0.007000000000000001, 0.0071, 0.007200000000000001, 0.007300000000000001, 0.0074, 0.007500000000000001, 0.007600000000000001, 0.0077, 0.0078000000000000005, 0.0079, 0.008, 0.0081, 0.008199999999999999, 0.0083, 0.0084, 0.0085, 0.0086, 0.0087, 0.0088, 0.0089, 0.009, 0.0091, 0.0092, 0.0093, 0.0094, 0.0095, 0.0096, 0.0097, 0.0098, 0.009899999999999999, 0.01, 0.0101, 0.0102, 0.0103, 0.0104, 0.0105, 0.0106, 0.0107, 0.0108, 0.0109, 0.011, 0.0111, 0.0112, 0.0113, 0.0114, 0.0115, 0.0116, 0.0117, 0.0118, 0.011899999999999999, 0.012, 0.0121, 0.0122, 0.0123, 0.0124, 0.0125, 0.0126, 0.0127, 0.0128, 0.0129, 0.013, 0.0131, 0.0132, 0.0133, 0.0134, 0.0135, 0.0136, 0.0137, 0.0138, 0.013900000000000001, 0.014, 0.0141, 0.0142, 0.0143, 0.0144, 0.0145, 0.0146, 0.0147, 0.0148, 0.0149, 0.015, 0.0151, 0.0152, 0.0153, 0.0154, 0.0155, 0.0156, 0.015700000000000002, 0.0158, 0.0159, 0.016, 0.0161, 0.0162, 0.0163, 0.0164, 0.0165, 0.0166, 0.0167, 0.0168, 0.016900000000000002, 0.017, 0.0171, 0.0172, 0.0173, 0.0174, 0.0175, 0.0176, 0.0177, 0.0178, 0.0179, 0.018, 0.0181, 0.0182, 0.0183, 0.0184, 0.0185, 0.018600000000000002, 0.0187, 0.0188, 0.0189, 0.019, 0.0191, 0.019200000000000002, 0.0193, 0.0194, 0.0195, 0.0196, 0.0197, 0.0198, 0.0199, 0.02, 0.0201, 0.0202, 0.020300000000000002, 0.0204, 0.0205, 0.0206, 0.0207, 0.0208, 0.020900000000000002, 0.021, 0.0211, 0.0212, 0.0213, 0.0214, 0.021500000000000002, 0.0216, 0.0217, 0.0218, 0.0219, 0.022, 0.0221, 0.0222, 0.0223, 0.0224, 0.0225, 0.022600000000000002, 0.0227, 0.0228, 0.0229, 0.023, 0.0231, 0.023200000000000002, 0.0233, 0.0234, 0.0235, 0.0236, 0.0237, 0.0238, 0.0239, 0.024, 0.0241, 0.0242, 0.024300000000000002, 0.0244, 0.0245, 0.0246, 0.0247, 0.0248, 0.024900000000000002, 0.025, 0.0251, 0.0252, 0.0253, 0.0254, 0.025500000000000002, 0.0256, 0.0257, 0.0258, 0.0259, 0.026000000000000002, 0.0261, 0.0262, 0.0263, 0.0264, 0.0265, 0.026600000000000002, 0.0267, 0.0268, 0.0269, 0.027, 0.0271, 0.027200000000000002, 0.0273, 0.0274, 0.0275, 0.0276, 0.027700000000000002, 0.027800000000000002, 0.0279, 0.028, 0.0281, 0.0282, 0.028300000000000002, 0.0284, 0.0285, 0.0286, 0.0287, 0.0288, 0.028900000000000002, 0.029, 0.0291, 0.0292, 0.0293, 0.029400000000000003, 0.029500000000000002, 0.0296, 0.0297, 0.0298, 0.0299], \"y\": [1550178084.7771187, 1498865563.8897283, 1452195173.6575632, 1409665467.9743977, 1370838505.6191072, 1335330564.307726, 1302804372.7066631, 1272962588.803166, 1245542305.554355, 1220310406.3865483, 1197059626.2836552, 1175605200.7236035, 1155782006.0117965, 1137442111.7181153, 1120452679.8031452, 1104694156.287562, 1090058710.4995828, 1076448884.441557, 1063776420.9742191, 1051961244.5847172, 1040930572.6883659, 1030618138.8789834, 1020963512.4207618, 1011911500.6723183, 1003411623.136682, 995417647.5091276, 987887179.5043542, 980781299.4317482, 974064239.4898139, 967703096.5993217, 961667576.3145497, 955929763.9641659, 950463919.6950408, 945246294.5379432, 940254964.9955343, 935469683.9802499, 930871746.2108309, 926443866.4183278, 922170068.9212148, 918035587.3096609, 914026773.1351395, 910131012.6369259, 906336650.6545482, 902632920.9774215, 899009882.4718859, 895458360.4034147, 891969892.4394904, 888536678.8778436, 885151536.6965221, 881807857.0676843, 878499566.0167745, 875221087.9437234, 871967311.753517, 868733559.3705149, 865515556.4347177, 862309404.9991462, 859111558.0660449, 855918795.8159738, 852728203.3983177, 849537150.1645639, 846343270.2370447, 843144444.3159038, 839938782.6360115, 836724608.9934833, 833500445.7685606, 830264999.8779131, 827017149.5950738, 823755932.182753, 820480532.2852986, 817190271.0336224, 813884595.8185658, 810563070.6919402, 807225367.35746, 803871256.7164576, 800500600.9356899, 797113346.0067632, 793709514.7687051, 790289200.3670462, 786852560.1244472, 783399809.7994555, 779931218.2113787, 776447102.210568, 772947821.9746188, 769433776.6120979, 765905400.0564489, 762363157.2337003, 758807540.4884789, 755239066.2536964, 751658271.9500484, 748065713.1022055, 744461960.6592803, 740847598.5078006, 737223221.166033, 733589431.649095, 729946839.4948387, 726296058.9410021, 722637707.2446444, 718972403.1353168, 715300765.3938957, 711623411.5494094, 707940956.6866053, 704254012.3573704, 700563185.5895032, 696869077.9866626, 693172284.9136627, 689473394.761585, 685772988.2874906, 682071638.023791, 678369907.7526066, 674668352.0407101, 670967515.8308859, 667267934.0857768, 663570131.4805086, 659874622.1406018, 656181909.421869, 652492485.7292025, 648806832.3713216, 645125419.4487388, 641448705.7723588, 637777138.8102783, 634111154.6605085, 630451178.0474823, 626797622.3403325, 623150889.5910656, 619511370.5908648, 615879444.9428775, 612255481.1499383, 608639836.7157948, 605032858.2584839, 601434881.6346068, 597846232.0733322, 594267224.3190397, 590698162.7815871, 587139341.6932623, 583591045.2715452, 580053547.8868686, 576527114.2346256, 573011999.5107338, 569508449.5901068, 566016701.2074492, 562536982.1398212, 559069511.3904792, 555614499.373527, 552172148.098953, 548742651.357674, 545326194.9062282, 541922956.650795, 538533106.8302541, 535156808.19801724, 531794216.2023939, 528445479.1652754, 525110738.45894694, 521790128.6808551, 518483777.82617503, 515191807.45804805, 511914332.87536645, 508651463.27800506, 505403301.92940974, 502169946.31646883, 498951488.3066022, 495748014.3020168, 492559605.39108676, 489386337.4968238, 486228281.522417, 483085503.4938256, 479958064.69941056, 476846021.8266151, 473749427.0956842, 470668328.3904428, 467602769.3861459, 464552789.6744122, 461518424.88527775, 458499706.8063824, 455496663.4993305, 452509319.4132517, 449537695.4956019, 446581809.30023825, 443641675.0928136, 440717303.95352435, 437808703.87726384, 434915879.87121665, 432038834.0499468, 429177565.72802013, 426332071.5102128, 423502345.3793468, 420688378.7818097, 417890160.71079654, 415107677.7873281, 412340914.3390943, 409589852.4771639, 406854472.1706177, 404134751.3191463, 401430665.82365984, 398742189.6549599, 396069294.9205185, 393411951.9294078, 390770129.2554266, 388143793.7984726, 385532910.84419703, 382937444.12198925, 380357355.86133474, 377792606.84658414, 375243156.47017884, 372708962.7843701, 370189982.5514715, 367686171.29268694, 365197483.33554643, 362723871.8599917, 360265288.9431432, 357821685.60279024, 355393011.8396314, 352979216.6783053, 350580248.20724124, 348196053.6173626, 345826579.23967636, 343471770.5817759, 341131572.3632902, 338805928.55030763, 336494782.38880134, 334198076.4370857, 331915752.5973306, 329647752.1461582, 327394015.7643496, 325154483.56568575, 322929095.1249454, 320717789.5050866, 318520505.28363067, 316337180.578275, 314167753.0717526, 312012160.0359633, 309870338.3553928, 307742224.54984283, 305627754.7964914, 303526864.9512981, 301439490.5697793, 299365566.9271646, 297305029.03795654, 295257811.674906, 293223849.38742405, 291203076.51944256, 289195427.2267403, 287200835.49374956, 285219235.1498573, 283250559.8852151, 281294743.26607174, 279351718.7496409, 277421419.6985179, 275503779.39465743, 273598731.05292434, 271706207.8342296, 269826142.8582624, 267958469.21583003, 266103119.98081636, 264260028.22176865, 262429127.01312345, 260610349.44608247, 258803628.63914618, 257008897.7483143, 255226089.97696635, 253455138.58542413, 251695976.90021223, 249948538.32301855, 248212756.339367, 246488564.5270088, 244775896.5640392, 243074686.23674917, 241384867.44721696, 239706374.22064826, 238039140.7124705, 236383101.2151896, 234738190.16501302, 233104342.14824823, 231481491.90748104, 229869574.34753948, 228268524.5412498, 226678277.73499012, 225098769.35404727, 223529935.00778094, 221971710.49460125, 220424031.8067659, 218886835.13499942, 217360056.87294012, 215843633.6214206, 214337502.19258496, 212841599.61384714, 211355863.131695, 209880230.21534508, 208414638.5602498, 206959026.0914636, 205513330.96687028, 204077491.58027562, 202651446.56436902, 201235134.7935574, 199828495.3866757, 198431467.7095755, 197043991.37759703, 195666006.2579267, 194297452.471843, 192938270.396855]}, {\"fill\": \"tonexty\", \"fillcolor\": \"rgba(68, 68, 68, 0.3)\", \"line\": {\"color\": \"rgb(31, 119, 180)\"}, \"mode\": \"lines\", \"name\": \"Measurement\", \"type\": \"scatter\", \"x\": [0.0001, 0.0002, 0.00030000000000000003, 0.0004, 0.0005, 0.0006000000000000001, 0.0007000000000000001, 0.0008, 0.0009000000000000001, 0.001, 0.0011, 0.0012000000000000001, 0.0013000000000000002, 0.0014000000000000002, 0.0015, 0.0016, 0.0017000000000000001, 0.0018000000000000002, 0.0019000000000000002, 0.002, 0.0021, 0.0022, 0.0023, 0.0024, 0.0025, 0.0026, 0.0027, 0.0028, 0.0029, 0.003, 0.0031, 0.0032, 0.0033, 0.0034, 0.0035, 0.0036, 0.0037, 0.0038, 0.0039, 0.004, 0.0041, 0.004200000000000001, 0.004300000000000001, 0.0044, 0.0045000000000000005, 0.004600000000000001, 0.0047, 0.0048000000000000004, 0.004900000000000001, 0.005, 0.0051, 0.005200000000000001, 0.005300000000000001, 0.0054, 0.0055000000000000005, 0.005600000000000001, 0.0057, 0.0058000000000000005, 0.005900000000000001, 0.006, 0.0061, 0.006200000000000001, 0.006300000000000001, 0.0064, 0.006500000000000001, 0.006600000000000001, 0.0067, 0.0068000000000000005, 0.006900000000000001, 0.007000000000000001, 0.0071, 0.007200000000000001, 0.007300000000000001, 0.0074, 0.007500000000000001, 0.007600000000000001, 0.0077, 0.0078000000000000005, 0.0079, 0.008, 0.0081, 0.008199999999999999, 0.0083, 0.0084, 0.0085, 0.0086, 0.0087, 0.0088, 0.0089, 0.009, 0.0091, 0.0092, 0.0093, 0.0094, 0.0095, 0.0096, 0.0097, 0.0098, 0.009899999999999999, 0.01, 0.0101, 0.0102, 0.0103, 0.0104, 0.0105, 0.0106, 0.0107, 0.0108, 0.0109, 0.011, 0.0111, 0.0112, 0.0113, 0.0114, 0.0115, 0.0116, 0.0117, 0.0118, 0.011899999999999999, 0.012, 0.0121, 0.0122, 0.0123, 0.0124, 0.0125, 0.0126, 0.0127, 0.0128, 0.0129, 0.013, 0.0131, 0.0132, 0.0133, 0.0134, 0.0135, 0.0136, 0.0137, 0.0138, 0.013900000000000001, 0.014, 0.0141, 0.0142, 0.0143, 0.0144, 0.0145, 0.0146, 0.0147, 0.0148, 0.0149, 0.015, 0.0151, 0.0152, 0.0153, 0.0154, 0.0155, 0.0156, 0.015700000000000002, 0.0158, 0.0159, 0.016, 0.0161, 0.0162, 0.0163, 0.0164, 0.0165, 0.0166, 0.0167, 0.0168, 0.016900000000000002, 0.017, 0.0171, 0.0172, 0.0173, 0.0174, 0.0175, 0.0176, 0.0177, 0.0178, 0.0179, 0.018, 0.0181, 0.0182, 0.0183, 0.0184, 0.0185, 0.018600000000000002, 0.0187, 0.0188, 0.0189, 0.019, 0.0191, 0.019200000000000002, 0.0193, 0.0194, 0.0195, 0.0196, 0.0197, 0.0198, 0.0199, 0.02, 0.0201, 0.0202, 0.020300000000000002, 0.0204, 0.0205, 0.0206, 0.0207, 0.0208, 0.020900000000000002, 0.021, 0.0211, 0.0212, 0.0213, 0.0214, 0.021500000000000002, 0.0216, 0.0217, 0.0218, 0.0219, 0.022, 0.0221, 0.0222, 0.0223, 0.0224, 0.0225, 0.022600000000000002, 0.0227, 0.0228, 0.0229, 0.023, 0.0231, 0.023200000000000002, 0.0233, 0.0234, 0.0235, 0.0236, 0.0237, 0.0238, 0.0239, 0.024, 0.0241, 0.0242, 0.024300000000000002, 0.0244, 0.0245, 0.0246, 0.0247, 0.0248, 0.024900000000000002, 0.025, 0.0251, 0.0252, 0.0253, 0.0254, 0.025500000000000002, 0.0256, 0.0257, 0.0258, 0.0259, 0.026000000000000002, 0.0261, 0.0262, 0.0263, 0.0264, 0.0265, 0.026600000000000002, 0.0267, 0.0268, 0.0269, 0.027, 0.0271, 0.027200000000000002, 0.0273, 0.0274, 0.0275, 0.0276, 0.027700000000000002, 0.027800000000000002, 0.0279, 0.028, 0.0281, 0.0282, 0.028300000000000002, 0.0284, 0.0285, 0.0286, 0.0287, 0.0288, 0.028900000000000002, 0.029, 0.0291, 0.0292, 0.0293, 0.029400000000000003, 0.029500000000000002, 0.0296, 0.0297, 0.0298, 0.0299], \"y\": [1937805757.8847737, 1873662354.359969, 1815321863.1591647, 1762157449.7518933, 1713621664.1204803, 1669234832.8270147, 1628575348.6131961, 1591271518.0135884, 1556994693.1221972, 1525453465.717493, 1496388743.4116187, 1469569560.6411722, 1444789503.930634, 1421863652.3073328, 1400625951.0965366, 1380926951.4111872, 1362631859.1274939, 1345618846.5207233, 1329777587.4326603, 1315007983.1769705, 1301219051.6187227, 1288327956.1956441, 1276259155.2464564, 1264943655.0088842, 1254318352.153929, 1244325453.8207722, 1234911964.8787484, 1226029233.6269293, 1217632548.3948524, 1209680778.5685515, 1202136054.4658732, 1194963481.2503033, 1188130882.7247376, 1181608571.4037375, 1175369141.7396476, 1169387283.7869544, 1163639614.9407282, 1158104527.6875963, 1152762051.5687125, 1147593727.7797139, 1142582495.0278363, 1137712585.4355693, 1132969429.427137, 1128339568.6618066, 1123810576.189258, 1119370983.0991983, 1115010211.0220594, 1110718509.911626, 1106486900.6051595, 1102307121.7133584, 1098171580.442219, 1094073306.992578, 1090005912.2215075, 1085963548.2835243, 1081940871.999351, 1077933010.7261772, 1073935530.5265467, 1069944406.4534473, 1065955994.7872571, 1061967007.0762266, 1057974485.8463645, 1053975781.8591713, 1049968532.806867, 1045950643.3446844, 1041920266.368665, 1037875785.4552847, 1033815798.3862903, 1029739101.688428, 1025644676.1233968, 1021531673.0684221, 1017399401.7324133, 1013247317.1567501, 1009075008.9534659, 1004882190.7369373, 1000668690.2082168, 996434439.8539153, 992179468.2240428, 987903891.7555083, 983607907.1100768, 979291783.9975059, 974955858.4563495, 970600526.5665426, 966226238.5693997, 961833493.372037, 957422833.414536, 952994839.8793706, 948550128.2237338, 944089344.0164671, 939613159.062267, 935122267.7967701, 930617383.9369936, 926099237.3724166, 921568571.2827628, 917026139.4692746, 912472703.8869629, 907909032.3659484, 903335896.5106645, 898754069.7662393, 894164325.6419595, 889567436.0822353, 884964169.9759941, 880355291.7958982, 875741560.359257, 871123727.7029145, 866502538.0648235, 861878726.9653974, 857253020.3821148, 852626134.0112002, 847998772.6105461, 843371629.4183654, 838745385.6423693, 834120710.0145568, 829498258.4069788, 824878673.5041139, 820262584.5277281, 815650607.010349, 811043342.6136936, 806441378.988619, 801845289.6733663, 797255634.0270591, 792672957.1956036, 788097790.1073232, 783530649.4958072, 778972037.9476298, 774422443.9727323, 769882342.0954108, 765352192.9639753, 760832443.4772867, 756323526.9264839, 751825863.1503338, 747339858.7027425, 742865907.0310676, 738404388.6639602, 733955671.4075624, 729520110.5489699, 725098049.0659407, 720689817.8419149, 716295735.885478, 711916110.553461, 707551237.7769426, 703201402.2894666, 698866877.856851, 694547927.5080118, 690244803.7662704, 685957748.880668, 681686995.0568413, 677432764.6870574, 673195270.5790476, 668974716.1833069, 664771295.8185602, 660585194.8951278, 656416590.1359494, 652265649.795053, 648132533.8732733, 644017394.3310575, 639920375.298206, 635841613.2804193, 631781237.3625442, 627739369.4084202, 623716124.25725, 619711609.9164268, 615725927.750768, 611759172.6681106, 607811433.3012444, 603882792.18616, 599973325.9365962, 596083105.4148976, 592212195.8991716, 588360657.246768, 584528544.0540981, 580715905.8128092, 576922787.0623574, 573149227.5389977, 569395262.3212407, 565660921.9718099, 561946232.6761488, 558251216.3775206, 554575890.9087564, 550920270.1206961, 547284364.0073851, 543668178.8280729, 540071717.2260779, 536494978.3445707, 532937957.93933916, 529400648.4885882, 525883039.29984343, 522385116.6140081, 518906863.7066409, 515448260.986513, 512009286.0915013, 508589913.9818821, 505190117.0310831, 501809865.1139495, 498449125.69258696, 495107863.89983946, 491786042.62045425, 488483622.5699945, 485200562.3715566, 481936818.6303426, 478692346.0061437, 475467097.2837905, 472261023.441618, 469074073.7179997, 465906195.6759994, 462757335.26618993, 459627436.8876904, 456516443.4474634, 453424296.4179245, 450350935.8929038, 447296300.6420105, 444260328.1634359, 441242954.7352439, 438244115.4651865, 435263744.33908534, 432301774.26782024, 429358137.13295996, 426432763.83107555, 423525584.3167718, 420636527.64447075, 417765522.0089842, 414912494.7849082, 412077372.5648705, 409260081.1966655, 406460545.81930715, 403678690.8980277, 400914440.2582559, 398167717.11859876, 395438444.1228587, 392726543.3711092, 390031936.4498602, 387354544.4613335, 384694288.05187607, 382051087.43953687, 379424862.44082487, 376815532.4966785, 374223016.6976632, 371647233.80842096, 369088102.2913918, 366545540.32982874, 364019465.8501248, 361509796.54347146, 359016449.88686806, 356539343.16349894, 354078393.4824967, 351633517.7981087, 349204632.9282827, 346791655.57268846, 344394502.3301905, 342013089.71578753, 339647334.177033, 337297152.1099511, 334962459.8744616, 332643173.80932957, 330339210.24664885, 328050485.5258753, 325776916.0074219, 323518418.0858268, 321274908.20250416, 319046302.8580953, 316832518.62442255, 314633472.15606534, 312449080.2015611, 310279259.61424696, 308123927.362749, 305983000.5411287, 303856396.3786981, 301744032.2495096, 299645825.68153125, 297561694.36551553, 295491556.1635702, 293435329.1174378, 291392931.4564938, 289364281.60547006, 287349298.1919099, 285347900.05336344, 283360006.2443299, 281385536.0429541, 279424408.95748156, 277476544.7324813, 275541863.354842, 273620285.05954653, 271711730.33523095, 269816119.92953527, 267933374.85425025, 266063416.39026538, 264206166.0923244, 262361545.79359382, 260529477.6100471, 258709883.94467264, 256902687.49150792, 255107811.23950562, 253325178.47623572, 251554712.7914281, 249796338.08036065, 248049978.54709554, 246315558.70756897, 244593003.39253843, 242882237.75039014, 241183187.24981216]}, {\"fill\": \"tonexty\", \"fillcolor\": \"rgba(68, 68, 68, 0.3)\", \"line\": {\"width\": 0}, \"marker\": {\"color\": \"#444\"}, \"mode\": \"lines\", \"name\": \"Upper Bound\", \"type\": \"scatter\", \"x\": [0.0001, 0.0002, 0.00030000000000000003, 0.0004, 0.0005, 0.0006000000000000001, 0.0007000000000000001, 0.0008, 0.0009000000000000001, 0.001, 0.0011, 0.0012000000000000001, 0.0013000000000000002, 0.0014000000000000002, 0.0015, 0.0016, 0.0017000000000000001, 0.0018000000000000002, 0.0019000000000000002, 0.002, 0.0021, 0.0022, 0.0023, 0.0024, 0.0025, 0.0026, 0.0027, 0.0028, 0.0029, 0.003, 0.0031, 0.0032, 0.0033, 0.0034, 0.0035, 0.0036, 0.0037, 0.0038, 0.0039, 0.004, 0.0041, 0.004200000000000001, 0.004300000000000001, 0.0044, 0.0045000000000000005, 0.004600000000000001, 0.0047, 0.0048000000000000004, 0.004900000000000001, 0.005, 0.0051, 0.005200000000000001, 0.005300000000000001, 0.0054, 0.0055000000000000005, 0.005600000000000001, 0.0057, 0.0058000000000000005, 0.005900000000000001, 0.006, 0.0061, 0.006200000000000001, 0.006300000000000001, 0.0064, 0.006500000000000001, 0.006600000000000001, 0.0067, 0.0068000000000000005, 0.006900000000000001, 0.007000000000000001, 0.0071, 0.007200000000000001, 0.007300000000000001, 0.0074, 0.007500000000000001, 0.007600000000000001, 0.0077, 0.0078000000000000005, 0.0079, 0.008, 0.0081, 0.008199999999999999, 0.0083, 0.0084, 0.0085, 0.0086, 0.0087, 0.0088, 0.0089, 0.009, 0.0091, 0.0092, 0.0093, 0.0094, 0.0095, 0.0096, 0.0097, 0.0098, 0.009899999999999999, 0.01, 0.0101, 0.0102, 0.0103, 0.0104, 0.0105, 0.0106, 0.0107, 0.0108, 0.0109, 0.011, 0.0111, 0.0112, 0.0113, 0.0114, 0.0115, 0.0116, 0.0117, 0.0118, 0.011899999999999999, 0.012, 0.0121, 0.0122, 0.0123, 0.0124, 0.0125, 0.0126, 0.0127, 0.0128, 0.0129, 0.013, 0.0131, 0.0132, 0.0133, 0.0134, 0.0135, 0.0136, 0.0137, 0.0138, 0.013900000000000001, 0.014, 0.0141, 0.0142, 0.0143, 0.0144, 0.0145, 0.0146, 0.0147, 0.0148, 0.0149, 0.015, 0.0151, 0.0152, 0.0153, 0.0154, 0.0155, 0.0156, 0.015700000000000002, 0.0158, 0.0159, 0.016, 0.0161, 0.0162, 0.0163, 0.0164, 0.0165, 0.0166, 0.0167, 0.0168, 0.016900000000000002, 0.017, 0.0171, 0.0172, 0.0173, 0.0174, 0.0175, 0.0176, 0.0177, 0.0178, 0.0179, 0.018, 0.0181, 0.0182, 0.0183, 0.0184, 0.0185, 0.018600000000000002, 0.0187, 0.0188, 0.0189, 0.019, 0.0191, 0.019200000000000002, 0.0193, 0.0194, 0.0195, 0.0196, 0.0197, 0.0198, 0.0199, 0.02, 0.0201, 0.0202, 0.020300000000000002, 0.0204, 0.0205, 0.0206, 0.0207, 0.0208, 0.020900000000000002, 0.021, 0.0211, 0.0212, 0.0213, 0.0214, 0.021500000000000002, 0.0216, 0.0217, 0.0218, 0.0219, 0.022, 0.0221, 0.0222, 0.0223, 0.0224, 0.0225, 0.022600000000000002, 0.0227, 0.0228, 0.0229, 0.023, 0.0231, 0.023200000000000002, 0.0233, 0.0234, 0.0235, 0.0236, 0.0237, 0.0238, 0.0239, 0.024, 0.0241, 0.0242, 0.024300000000000002, 0.0244, 0.0245, 0.0246, 0.0247, 0.0248, 0.024900000000000002, 0.025, 0.0251, 0.0252, 0.0253, 0.0254, 0.025500000000000002, 0.0256, 0.0257, 0.0258, 0.0259, 0.026000000000000002, 0.0261, 0.0262, 0.0263, 0.0264, 0.0265, 0.026600000000000002, 0.0267, 0.0268, 0.0269, 0.027, 0.0271, 0.027200000000000002, 0.0273, 0.0274, 0.0275, 0.0276, 0.027700000000000002, 0.027800000000000002, 0.0279, 0.028, 0.0281, 0.0282, 0.028300000000000002, 0.0284, 0.0285, 0.0286, 0.0287, 0.0288, 0.028900000000000002, 0.029, 0.0291, 0.0292, 0.0293, 0.029400000000000003, 0.029500000000000002, 0.0296, 0.0297, 0.0298, 0.0299], \"y\": [2325433430.992429, 2248459144.8302097, 2178448552.660766, 2114649431.529389, 2056404822.6218534, 2003139101.3463035, 1954346324.5197291, 1909580447.224011, 1868447080.6900394, 1830596525.0484378, 1795717860.5395823, 1763533920.5587409, 1733797001.8494716, 1706285192.8965502, 1680799222.389928, 1657159746.5348125, 1635205007.755405, 1614788808.5998898, 1595778753.8911016, 1578054721.7692237, 1561507530.5490794, 1546037773.5123048, 1531554798.072151, 1517975809.34545, 1505225081.171176, 1493233260.1324167, 1481936750.2531426, 1471277167.8221104, 1461200857.299891, 1451658460.5377812, 1442604532.6171968, 1433997198.5364406, 1425797845.7544346, 1417970848.2695317, 1410483318.4837608, 1403304883.593659, 1396407483.6706254, 1389765188.9568648, 1383354034.2162101, 1377151868.2497668, 1371138216.9205332, 1365294158.2342126, 1359602208.1997256, 1354046216.3461916, 1348611269.9066303, 1343283605.794982, 1338050529.6046283, 1332900340.9454086, 1327822264.5137968, 1322806386.3590326, 1317843594.8676634, 1312925526.0414326, 1308044512.689498, 1303193537.1965337, 1298366187.5639844, 1293556616.4532082, 1288759502.9870484, 1283970017.090921, 1279183786.1761963, 1274396863.9878893, 1269605701.4556842, 1264807119.4024386, 1259998282.9777226, 1255176677.6958854, 1250340086.9687693, 1245486571.0326562, 1240614447.1775067, 1235722271.194103, 1230808819.961495, 1225873075.103222, 1220914207.6462607, 1215931563.6215599, 1210924650.5494719, 1205893124.757417, 1200836779.4807436, 1195755533.7010674, 1190649421.6793804, 1185518583.1439703, 1180363254.0957065, 1175183758.1955564, 1169980498.7013202, 1164753950.9225173, 1159504655.1641805, 1154233210.1319764, 1148940266.772623, 1143626522.5250409, 1138292715.9589887, 1132939621.7792377, 1127568046.1744854, 1122178822.4913347, 1116772807.214707, 1111350876.2370327, 1105913921.3994925, 1100462847.2894542, 1094998568.279087, 1089522005.7908947, 1084034085.7766845, 1078535736.3971617, 1073027885.8900234, 1067511460.6150613, 1061987383.2653829, 1056456571.234426, 1050919935.1290108, 1045378377.4191663, 1039832791.2159843, 1034284059.1692097, 1028733052.4767389, 1023180629.9986094, 1017627637.4684856, 1012074906.7960206, 1006523255.4538527, 1000973485.9433367, 995426385.3334491, 989882724.8676261, 984343259.6335871, 978808728.2914956, 973279852.8560656, 967757338.5284991, 962241873.5743738, 956734129.2438399, 951234759.7306987, 945744402.1671641, 940263676.6512818, 934793186.304194, 929333517.3545998, 923885239.2479441, 918448904.7780123, 913025050.2387786, 907614195.5944839, 902216844.6660607, 896833485.3321527, 891464589.7430955, 886110614.5463333, 880772001.1218624, 875449175.8263946, 870142550.2450129, 864852521.4492042, 859579472.2602222, 854323771.5168151, 849085774.346436, 843865822.4391121, 838664244.3232228, 833481355.6424966, 828317459.4335878, 823172846.4036621, 818047795.2074543, 812942572.7233198, 807857434.327841, 802792624.1685966, 797748375.4347266, 792724910.6249802, 787722441.8129518, 782741170.9092509, 777781289.9203715, 772842981.2040671, 767926417.7210455, 763031763.2828336, 758159172.7956786, 753308792.5003716, 748480760.2078977, 743675205.5308368, 738892250.1104491, 734132007.8393974, 729394585.0800718, 724680080.8784943, 719988587.1737818, 715320189.00318, 710674964.702659, 706052986.1030931, 701454318.7220504, 696879021.9512062, 692327149.2394371, 687798748.2716129, 683293861.1431508, 678812524.530368, 674354769.8566957, 669920623.4548029, 665510106.7246991, 661123236.2878678, 656760024.1375065, 652420477.7849292, 648104600.402209, 643812390.9611213, 639543844.3684655, 635298951.5978297, 631077699.8178772, 626880072.5172198, 622706049.6259537, 618555607.6339318, 614428719.7058387, 610325355.7931465, 606245482.7430199, 602189064.4042392, 598156061.730214, 594146432.8791604, 590160133.3115007, 586197115.8845624, 582257330.9446406, 578340726.4164882, 574447247.8902981, 570576838.7062463, 566729440.0366518, 562904990.9658206, 559103428.5676286, 555324687.9809084, 551568702.4826939, 547835403.5593803, 544124720.9758573, 540436582.8426644, 536770915.6812308, 533127644.4872404, 529506692.7921825, 525907982.7231317, 522331435.06080806, 518776969.2959641, 515244503.684144, 511733955.2988609, 508245240.083236, 504778272.90014017, 501332967.5808827, 497909236.9724858, 494506992.98358274, 491126146.6289815, 487766608.07292855, 484428286.67111003, 481111091.0114252, 477814928.95356685, 474539707.6674424, 471285333.67046577, 468051712.86375713, 464838750.5672742, 461646351.5539093, 458474420.08258235, 455322859.9303516, 452191574.42357767, 449080466.46816176, 445989438.5788854, 442918392.90787756, 439867231.2722334, 436835855.180807, 433824165.8602026, 430832064.27998656, 427859451.1771406, 424906227.07977825, 421972292.33014566, 419057547.1069245, 416161891.446859, 413285225.2657235, 410427448.3786507, 407588460.5198364, 404768161.36163974, 401966450.53309315, 399183227.6378428, 396418392.2715291, 393671844.0386271, 390943482.56876135, 388233207.5325074, 385540918.65669405, 382866515.73922426, 380209898.663421, 377570967.41191846, 374949622.08010364, 372345762.88912696, 369759290.1984891, 367190104.51821816, 364638106.52064705, 362103197.0518022, 359585277.1424143, 357084248.0185605, 354600011.1119509, 352132468.06986254, 349681520.76473933, 347247071.30345905, 344829022.03628033, 342427275.5654771, 340041734.75366974, 337672302.7318609, 335318882.90718216, 332981378.97036135, 330659694.9029181, 328353734.9840936, 326063403.79752177, 323788606.23765, 321529247.5159155, 319285233.1666836, 317056469.0529538, 314842861.37184256, 312644316.6598444, 310460741.79788166, 308292044.0161456, 306138130.89873564, 303998910.3881024, 301874290.7892988, 299764180.7740456, 297668489.3846156, 295587126.0375409, 293520000.52715015, 291467023.0289373, 289428104.1027693]}, {\"marker\": {\"color\": \"#d62728\", \"line\": {\"color\": \"DarkSlateGrey\", \"width\": 2}, \"size\": 12}, \"name\": \"Old Measurement\", \"type\": \"scatter\", \"x\": [0.011940187884731468], \"y\": [799999999.9792953]}],\n",
       "                        {\"annotations\": [{\"arrowhead\": 0, \"ax\": 0, \"ay\": 0, \"font\": {\"color\": \"#d62728\"}, \"showarrow\": false, \"text\": \"(0.0119, 0.8x10<sup>9</sup>)\", \"x\": 0.009627044174443685, \"xref\": \"x\", \"y\": 770000000.0, \"yref\": \"y\"}], \"showlegend\": false, \"template\": {\"data\": {\"bar\": [{\"error_x\": {\"color\": \"#2a3f5f\"}, \"error_y\": {\"color\": \"#2a3f5f\"}, \"marker\": {\"line\": {\"color\": \"white\", \"width\": 0.5}}, \"type\": \"bar\"}], \"barpolar\": [{\"marker\": {\"line\": {\"color\": \"white\", \"width\": 0.5}}, \"type\": \"barpolar\"}], \"carpet\": [{\"aaxis\": {\"endlinecolor\": \"#2a3f5f\", \"gridcolor\": \"#C8D4E3\", \"linecolor\": \"#C8D4E3\", \"minorgridcolor\": \"#C8D4E3\", \"startlinecolor\": \"#2a3f5f\"}, \"baxis\": {\"endlinecolor\": \"#2a3f5f\", \"gridcolor\": \"#C8D4E3\", \"linecolor\": \"#C8D4E3\", \"minorgridcolor\": \"#C8D4E3\", \"startlinecolor\": \"#2a3f5f\"}, \"type\": \"carpet\"}], \"choropleth\": [{\"colorbar\": {\"outlinewidth\": 0, \"ticks\": \"\"}, \"type\": \"choropleth\"}], \"contour\": [{\"colorbar\": {\"outlinewidth\": 0, \"ticks\": \"\"}, \"colorscale\": [[0.0, \"#0d0887\"], [0.1111111111111111, \"#46039f\"], [0.2222222222222222, \"#7201a8\"], [0.3333333333333333, \"#9c179e\"], [0.4444444444444444, \"#bd3786\"], [0.5555555555555556, \"#d8576b\"], [0.6666666666666666, \"#ed7953\"], [0.7777777777777778, \"#fb9f3a\"], [0.8888888888888888, \"#fdca26\"], [1.0, \"#f0f921\"]], \"type\": \"contour\"}], \"contourcarpet\": [{\"colorbar\": {\"outlinewidth\": 0, \"ticks\": \"\"}, \"type\": \"contourcarpet\"}], \"heatmap\": [{\"colorbar\": {\"outlinewidth\": 0, \"ticks\": \"\"}, \"colorscale\": [[0.0, \"#0d0887\"], [0.1111111111111111, \"#46039f\"], [0.2222222222222222, \"#7201a8\"], [0.3333333333333333, \"#9c179e\"], [0.4444444444444444, \"#bd3786\"], [0.5555555555555556, \"#d8576b\"], [0.6666666666666666, \"#ed7953\"], [0.7777777777777778, \"#fb9f3a\"], [0.8888888888888888, \"#fdca26\"], [1.0, \"#f0f921\"]], \"type\": \"heatmap\"}], \"heatmapgl\": [{\"colorbar\": {\"outlinewidth\": 0, \"ticks\": \"\"}, \"colorscale\": [[0.0, \"#0d0887\"], [0.1111111111111111, \"#46039f\"], [0.2222222222222222, \"#7201a8\"], [0.3333333333333333, \"#9c179e\"], [0.4444444444444444, \"#bd3786\"], [0.5555555555555556, \"#d8576b\"], [0.6666666666666666, \"#ed7953\"], [0.7777777777777778, \"#fb9f3a\"], [0.8888888888888888, \"#fdca26\"], [1.0, \"#f0f921\"]], \"type\": \"heatmapgl\"}], \"histogram\": [{\"marker\": {\"colorbar\": {\"outlinewidth\": 0, \"ticks\": \"\"}}, \"type\": \"histogram\"}], \"histogram2d\": [{\"colorbar\": {\"outlinewidth\": 0, \"ticks\": \"\"}, \"colorscale\": [[0.0, \"#0d0887\"], [0.1111111111111111, \"#46039f\"], [0.2222222222222222, \"#7201a8\"], [0.3333333333333333, \"#9c179e\"], [0.4444444444444444, \"#bd3786\"], [0.5555555555555556, \"#d8576b\"], [0.6666666666666666, \"#ed7953\"], [0.7777777777777778, \"#fb9f3a\"], [0.8888888888888888, \"#fdca26\"], [1.0, \"#f0f921\"]], \"type\": \"histogram2d\"}], \"histogram2dcontour\": [{\"colorbar\": {\"outlinewidth\": 0, \"ticks\": \"\"}, \"colorscale\": [[0.0, \"#0d0887\"], [0.1111111111111111, \"#46039f\"], [0.2222222222222222, \"#7201a8\"], [0.3333333333333333, \"#9c179e\"], [0.4444444444444444, \"#bd3786\"], [0.5555555555555556, \"#d8576b\"], [0.6666666666666666, \"#ed7953\"], [0.7777777777777778, \"#fb9f3a\"], [0.8888888888888888, \"#fdca26\"], [1.0, \"#f0f921\"]], \"type\": \"histogram2dcontour\"}], \"mesh3d\": [{\"colorbar\": {\"outlinewidth\": 0, \"ticks\": \"\"}, \"type\": \"mesh3d\"}], \"parcoords\": [{\"line\": {\"colorbar\": {\"outlinewidth\": 0, \"ticks\": \"\"}}, \"type\": \"parcoords\"}], \"scatter\": [{\"marker\": {\"colorbar\": {\"outlinewidth\": 0, \"ticks\": \"\"}}, \"type\": \"scatter\"}], \"scatter3d\": [{\"line\": {\"colorbar\": {\"outlinewidth\": 0, \"ticks\": \"\"}}, \"marker\": {\"colorbar\": {\"outlinewidth\": 0, \"ticks\": \"\"}}, \"type\": \"scatter3d\"}], \"scattercarpet\": [{\"marker\": {\"colorbar\": {\"outlinewidth\": 0, \"ticks\": \"\"}}, \"type\": \"scattercarpet\"}], \"scattergeo\": [{\"marker\": {\"colorbar\": {\"outlinewidth\": 0, \"ticks\": \"\"}}, \"type\": \"scattergeo\"}], \"scattergl\": [{\"marker\": {\"colorbar\": {\"outlinewidth\": 0, \"ticks\": \"\"}}, \"type\": \"scattergl\"}], \"scattermapbox\": [{\"marker\": {\"colorbar\": {\"outlinewidth\": 0, \"ticks\": \"\"}}, \"type\": \"scattermapbox\"}], \"scatterpolar\": [{\"marker\": {\"colorbar\": {\"outlinewidth\": 0, \"ticks\": \"\"}}, \"type\": \"scatterpolar\"}], \"scatterpolargl\": [{\"marker\": {\"colorbar\": {\"outlinewidth\": 0, \"ticks\": \"\"}}, \"type\": \"scatterpolargl\"}], \"scatterternary\": [{\"marker\": {\"colorbar\": {\"outlinewidth\": 0, \"ticks\": \"\"}}, \"type\": \"scatterternary\"}], \"surface\": [{\"colorbar\": {\"outlinewidth\": 0, \"ticks\": \"\"}, \"colorscale\": [[0.0, \"#0d0887\"], [0.1111111111111111, \"#46039f\"], [0.2222222222222222, \"#7201a8\"], [0.3333333333333333, \"#9c179e\"], [0.4444444444444444, \"#bd3786\"], [0.5555555555555556, \"#d8576b\"], [0.6666666666666666, \"#ed7953\"], [0.7777777777777778, \"#fb9f3a\"], [0.8888888888888888, \"#fdca26\"], [1.0, \"#f0f921\"]], \"type\": \"surface\"}], \"table\": [{\"cells\": {\"fill\": {\"color\": \"#EBF0F8\"}, \"line\": {\"color\": \"white\"}}, \"header\": {\"fill\": {\"color\": \"#C8D4E3\"}, \"line\": {\"color\": \"white\"}}, \"type\": \"table\"}]}, \"layout\": {\"annotationdefaults\": {\"arrowcolor\": \"#2a3f5f\", \"arrowhead\": 0, \"arrowwidth\": 1}, \"colorscale\": {\"diverging\": [[0, \"#8e0152\"], [0.1, \"#c51b7d\"], [0.2, \"#de77ae\"], [0.3, \"#f1b6da\"], [0.4, \"#fde0ef\"], [0.5, \"#f7f7f7\"], [0.6, \"#e6f5d0\"], [0.7, \"#b8e186\"], [0.8, \"#7fbc41\"], [0.9, \"#4d9221\"], [1, \"#276419\"]], \"sequential\": [[0.0, \"#0d0887\"], [0.1111111111111111, \"#46039f\"], [0.2222222222222222, \"#7201a8\"], [0.3333333333333333, \"#9c179e\"], [0.4444444444444444, \"#bd3786\"], [0.5555555555555556, \"#d8576b\"], [0.6666666666666666, \"#ed7953\"], [0.7777777777777778, \"#fb9f3a\"], [0.8888888888888888, \"#fdca26\"], [1.0, \"#f0f921\"]], \"sequentialminus\": [[0.0, \"#0d0887\"], [0.1111111111111111, \"#46039f\"], [0.2222222222222222, \"#7201a8\"], [0.3333333333333333, \"#9c179e\"], [0.4444444444444444, \"#bd3786\"], [0.5555555555555556, \"#d8576b\"], [0.6666666666666666, \"#ed7953\"], [0.7777777777777778, \"#fb9f3a\"], [0.8888888888888888, \"#fdca26\"], [1.0, \"#f0f921\"]]}, \"colorway\": [\"#636efa\", \"#EF553B\", \"#00cc96\", \"#ab63fa\", \"#FFA15A\", \"#19d3f3\", \"#FF6692\", \"#B6E880\", \"#FF97FF\", \"#FECB52\"], \"font\": {\"color\": \"#2a3f5f\"}, \"geo\": {\"bgcolor\": \"white\", \"lakecolor\": \"white\", \"landcolor\": \"white\", \"showlakes\": true, \"showland\": true, \"subunitcolor\": \"#C8D4E3\"}, \"hoverlabel\": {\"align\": \"left\"}, \"hovermode\": \"closest\", \"mapbox\": {\"style\": \"light\"}, \"paper_bgcolor\": \"white\", \"plot_bgcolor\": \"white\", \"polar\": {\"angularaxis\": {\"gridcolor\": \"#EBF0F8\", \"linecolor\": \"#EBF0F8\", \"ticks\": \"\"}, \"bgcolor\": \"white\", \"radialaxis\": {\"gridcolor\": \"#EBF0F8\", \"linecolor\": \"#EBF0F8\", \"ticks\": \"\"}}, \"scene\": {\"xaxis\": {\"backgroundcolor\": \"white\", \"gridcolor\": \"#DFE8F3\", \"gridwidth\": 2, \"linecolor\": \"#EBF0F8\", \"showbackground\": true, \"ticks\": \"\", \"zerolinecolor\": \"#EBF0F8\"}, \"yaxis\": {\"backgroundcolor\": \"white\", \"gridcolor\": \"#DFE8F3\", \"gridwidth\": 2, \"linecolor\": \"#EBF0F8\", \"showbackground\": true, \"ticks\": \"\", \"zerolinecolor\": \"#EBF0F8\"}, \"zaxis\": {\"backgroundcolor\": \"white\", \"gridcolor\": \"#DFE8F3\", \"gridwidth\": 2, \"linecolor\": \"#EBF0F8\", \"showbackground\": true, \"ticks\": \"\", \"zerolinecolor\": \"#EBF0F8\"}}, \"shapedefaults\": {\"line\": {\"color\": \"#2a3f5f\"}}, \"ternary\": {\"aaxis\": {\"gridcolor\": \"#DFE8F3\", \"linecolor\": \"#A2B1C6\", \"ticks\": \"\"}, \"baxis\": {\"gridcolor\": \"#DFE8F3\", \"linecolor\": \"#A2B1C6\", \"ticks\": \"\"}, \"bgcolor\": \"white\", \"caxis\": {\"gridcolor\": \"#DFE8F3\", \"linecolor\": \"#A2B1C6\", \"ticks\": \"\"}}, \"title\": {\"x\": 0.05}, \"xaxis\": {\"automargin\": true, \"gridcolor\": \"#EBF0F8\", \"linecolor\": \"#EBF0F8\", \"ticks\": \"\", \"zerolinecolor\": \"#EBF0F8\", \"zerolinewidth\": 2}, \"yaxis\": {\"automargin\": true, \"gridcolor\": \"#EBF0F8\", \"linecolor\": \"#EBF0F8\", \"ticks\": \"\", \"zerolinecolor\": \"#EBF0F8\", \"zerolinewidth\": 2}}}, \"title\": {\"text\": \"Growth Rate Dependent Cell Concentration\"}, \"xaxis\": {\"title\": {\"text\": \"Growth Rate (min<sup>-1</sup>)\"}}, \"yaxis\": {\"exponentformat\": \"power\", \"title\": {\"text\": \"Cell Concentration (mL<sup>-1</sup> &#183; OD<sup>-1</sup>)\"}}},\n",
       "                        {\"responsive\": true}\n",
       "                    ).then(function(){\n",
       "                            \n",
       "var gd = document.getElementById('26cdf7ac-ad0a-4294-9c3c-0279b40667e1');\n",
       "var x = new MutationObserver(function (mutations, observer) {{\n",
       "        var display = window.getComputedStyle(gd).display;\n",
       "        if (!display || display === 'none') {{\n",
       "            console.log([gd, 'removed!']);\n",
       "            Plotly.purge(gd);\n",
       "            observer.disconnect();\n",
       "        }}\n",
       "}});\n",
       "\n",
       "// Listen for the removal of the full notebook cells\n",
       "var notebookContainer = gd.closest('#notebook-container');\n",
       "if (notebookContainer) {{\n",
       "    x.observe(notebookContainer, {childList: true});\n",
       "}}\n",
       "\n",
       "// Listen for the clearing of the current output cell\n",
       "var outputEl = gd.closest('.output');\n",
       "if (outputEl) {{\n",
       "    x.observe(outputEl, {childList: true});\n",
       "}}\n",
       "\n",
       "                        })\n",
       "                };\n",
       "                });\n",
       "            </script>\n",
       "        </div>"
      ]
     },
     "metadata": {},
     "output_type": "display_data"
    }
   ],
   "source": [
    "dt_min = np.arange(0.0001, 0.03, 0.0001)\n",
    "results = []\n",
    "for i in dt_min:\n",
    "    results.append(popCellCount(i, age_array, weights)) \n",
    "    \n",
    "upper_bound = go.Scatter(\n",
    "    name='Upper Bound',\n",
    "    x=dt_min,\n",
    "    y=[i['cell_concentration']+i['std_cell_concentration'] for i in results],\n",
    "    mode='lines',\n",
    "    marker=dict(color=\"#444\"),\n",
    "    line=dict(width=0),\n",
    "    fillcolor='rgba(68, 68, 68, 0.3)',\n",
    "    fill='tonexty')\n",
    "\n",
    "trace = go.Scatter(\n",
    "    name='Measurement',\n",
    "    x=dt_min,\n",
    "    y=[i['cell_concentration'] for i in results],\n",
    "    mode='lines',\n",
    "    line=dict(color='rgb(31, 119, 180)'),\n",
    "    fillcolor='rgba(68, 68, 68, 0.3)',\n",
    "    fill='tonexty')\n",
    "\n",
    "'''\n",
    "trace1 = go.Scatter(\n",
    "    name='Old Measurement',\n",
    "    x=dt_min,\n",
    "    y=[8.0*10.0**8.0]*len(dt_min),\n",
    "    mode='lines',\n",
    "    line=dict(color='rgb(242, 174, 15)'))\n",
    "'''\n",
    "\n",
    "trace1 = go.Scatter(\n",
    "    name='Old Measurement',\n",
    "    x=[np.log(2)/58.0516142],\n",
    "    y=[popCellCount(np.log(2)/58.0516142, age_array, weights)['cell_concentration']],\n",
    "    marker=dict(size=12, \n",
    "                color='#d62728',\n",
    "                line=dict(width=2,\n",
    "                    color='DarkSlateGrey'\n",
    "                    )\n",
    "                )\n",
    "    )\n",
    "\n",
    "lower_bound = go.Scatter(\n",
    "    name='Lower Bound',\n",
    "    x=dt_min,\n",
    "    y=[i['cell_concentration']-i['std_cell_concentration'] for i in results],\n",
    "    marker=dict(color=\"#444\"),\n",
    "    line=dict(width=0),\n",
    "    mode='lines')\n",
    "\n",
    "# Trace order can be important\n",
    "# with continuous error bars\n",
    "data = [lower_bound, trace, upper_bound, trace1]\n",
    "\n",
    "layout = go.Layout(\n",
    "    xaxis=dict(title='Growth Rate (min<sup>-1</sup>)'),\n",
    "    yaxis=dict(title='Cell Concentration (mL<sup>-1</sup> &#183; OD<sup>-1</sup>)', exponentformat = 'power'),\n",
    "    title='Growth Rate Dependent Cell Concentration',\n",
    "    showlegend = False,\n",
    "    template='plotly_white'\n",
    ")\n",
    "\n",
    "fig = go.Figure(data=data, layout=layout)\n",
    "\n",
    "\"\"\"\n",
    "fig.update_layout(\n",
    "    shapes=[\n",
    "        # Line Vertical\n",
    "        go.layout.Shape(\n",
    "            type=\"line\",\n",
    "            x0=58.0516142,\n",
    "            y0=1.314709*10**8.0,\n",
    "            x1=58.0516142,\n",
    "            y1=popCellCount(58.0516142, age_array, weights)['cell_concentration'],\n",
    "            line=dict(\n",
    "                color=\"#d62728\",\n",
    "                width=2,\n",
    "                dash=\"dashdot\",\n",
    "            )\n",
    "        ),\n",
    "        # Line Horizontal\n",
    "        go.layout.Shape(\n",
    "            type=\"line\",\n",
    "            x0=18,\n",
    "            y0=popCellCount(58.0516142, age_array, weights)['cell_concentration'],\n",
    "            x1=58.0516142,\n",
    "            y1=popCellCount(58.0516142, age_array, weights)['cell_concentration'],\n",
    "            line=dict(\n",
    "                color=\"#d62728\",\n",
    "                width=2,\n",
    "                dash=\"dashdot\",\n",
    "            ),\n",
    "        ),\n",
    "    ],\n",
    "    \"\"\"\n",
    "fig.update_layout(\n",
    "    annotations=[\n",
    "        go.layout.Annotation(\n",
    "            x=np.log(2)/72,\n",
    "            y=0.77*10**9.0,\n",
    "            xref=\"x\",\n",
    "            yref=\"y\",\n",
    "            text=\"({0:.4f}, 0.8x10<sup>9</sup>)\".format(np.log(2)/58.05),\n",
    "            showarrow=False,\n",
    "            arrowhead=0,\n",
    "            ax=0,\n",
    "            ay=0,\n",
    "            font=dict(\n",
    "                color=\"#d62728\"\n",
    "            )\n",
    "        )\n",
    "    ]\n",
    ")\n",
    "\n",
    "\n",
    "\n",
    "iplot(fig, filename='pandas-continuous-error-bars')"
   ]
  },
  {
   "cell_type": "code",
   "execution_count": 74,
   "metadata": {},
   "outputs": [],
   "source": [
    "plotly.io.write_image(fig,'gr_min_cell_conc_alt.png' , width=1200, height=800)"
   ]
  },
  {
   "cell_type": "code",
   "execution_count": 6,
   "metadata": {},
   "outputs": [],
   "source": [
    "###########################################################################################\n",
    "######### Optimise to estimate the GR when the authors measured 8.0*10**8 cells per mL ####\n",
    "###########################################################################################"
   ]
  },
  {
   "cell_type": "code",
   "execution_count": 8,
   "metadata": {},
   "outputs": [],
   "source": [
    "def ageDistFunc(a):\n",
    " return 2.0*np.log(2.0)*np.exp(-a*np.log(2))"
   ]
  },
  {
   "cell_type": "code",
   "execution_count": 9,
   "metadata": {},
   "outputs": [],
   "source": [
    "age_array = np.arange(0.0, 1.0, 0.001)\n",
    "weights = {}\n",
    "for i in age_array:\n",
    "    weights[i] = integrate.quad(ageDistFunc, i, i+0.001)[0]"
   ]
  },
  {
   "cell_type": "code",
   "execution_count": 11,
   "metadata": {},
   "outputs": [],
   "source": [
    "from scipy import optimize\n",
    "def f(x):\n",
    "    if x<=0.0:\n",
    "        return 9999.0\n",
    "    else:\n",
    "        res = popCellCount(x, age_array, weights)\n",
    "        return np.abs((8.0*10.0**8.0)-(res['cell_concentration']))"
   ]
  },
  {
   "cell_type": "code",
   "execution_count": 12,
   "metadata": {},
   "outputs": [],
   "source": [
    "result = optimize.minimize(f, np.array([60.0]), method = 'Nelder-Mead')"
   ]
  },
  {
   "cell_type": "code",
   "execution_count": 13,
   "metadata": {},
   "outputs": [
    {
     "data": {
      "text/plain": [
       " final_simplex: (array([[58.0516142],\n",
       "       [58.0516142]]), array([0.00015819, 0.00025356]))\n",
       "           fun: 0.00015819072723388672\n",
       "       message: 'Optimization terminated successfully.'\n",
       "          nfev: 76\n",
       "           nit: 38\n",
       "        status: 0\n",
       "       success: True\n",
       "             x: array([58.0516142])"
      ]
     },
     "execution_count": 13,
     "metadata": {},
     "output_type": "execute_result"
    }
   ],
   "source": [
    "result"
   ]
  },
  {
   "cell_type": "code",
   "execution_count": null,
   "metadata": {},
   "outputs": [],
   "source": []
  }
 ],
 "metadata": {
  "kernelspec": {
   "display_name": "Python 3",
   "language": "python",
   "name": "python3"
  },
  "language_info": {
   "codemirror_mode": {
    "name": "ipython",
    "version": 3
   },
   "file_extension": ".py",
   "mimetype": "text/x-python",
   "name": "python",
   "nbconvert_exporter": "python",
   "pygments_lexer": "ipython3",
   "version": "3.6.8"
  }
 },
 "nbformat": 4,
 "nbformat_minor": 2
}

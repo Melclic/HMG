{
 "cells": [
  {
   "cell_type": "code",
   "execution_count": 1,
   "metadata": {},
   "outputs": [
    {
     "data": {
      "text/html": [
       "        <script type=\"text/javascript\">\n",
       "        window.PlotlyConfig = {MathJaxConfig: 'local'};\n",
       "        if (window.MathJax) {MathJax.Hub.Config({SVG: {font: \"STIX-Web\"}});}\n",
       "        if (typeof require !== 'undefined') {\n",
       "        require.undef(\"plotly\");\n",
       "        requirejs.config({\n",
       "            paths: {\n",
       "                'plotly': ['https://cdn.plot.ly/plotly-latest.min']\n",
       "            }\n",
       "        });\n",
       "        require(['plotly'], function(Plotly) {\n",
       "            window._Plotly = Plotly;\n",
       "        });\n",
       "        }\n",
       "        </script>\n",
       "        "
      ]
     },
     "metadata": {},
     "output_type": "display_data"
    }
   ],
   "source": [
    "import ctypes\n",
    "import os\n",
    "import numpy as np\n",
    "\n",
    "import plotly\n",
    "#import plotly.plotly as py\n",
    "import plotly.graph_objs as go\n",
    "#from plotly import graph_objs as go\n",
    "from plotly.offline import download_plotlyjs, init_notebook_mode, iplot\n",
    "#from plotly.graph_objs import *\n",
    "#init_notebook_mode()\n",
    "init_notebook_mode(connected=True)\n",
    "\n",
    "\n",
    "import matplotlib.pyplot as plt\n",
    "import scipy.integrate as integrate\n",
    "\n",
    "simulator = ctypes.CDLL(os.path.abspath('ori.so'))\n",
    "simulator.cell_parameters.restype = ctypes.c_int"
   ]
  },
  {
   "cell_type": "code",
   "execution_count": 56,
   "metadata": {},
   "outputs": [],
   "source": [
    "##### the probability density function of the age distribution of an exponentially growing population of cells ####"
   ]
  },
  {
   "cell_type": "code",
   "execution_count": 57,
   "metadata": {},
   "outputs": [],
   "source": [
    "def ageDistFunc(a):\n",
    " return 2.0*np.log(2.0)*np.exp(-a*np.log(2))"
   ]
  },
  {
   "cell_type": "code",
   "execution_count": 58,
   "metadata": {},
   "outputs": [],
   "source": [
    "###### user defined scipy PDF of the age PDF ####\n",
    "import scipy.stats as st\n",
    "\n",
    "class ageDist_pdf(st.rv_continuous):\n",
    "    def _pdf(self,x):\n",
    "        return 2.0*np.log(2.0)*np.exp(-x*np.log(2))  # Normalized over its range, in this case [0,1]\n",
    "\n",
    "my_cv = ageDist_pdf(a=0, b=1, name='ageDist_pdf')"
   ]
  },
  {
   "cell_type": "code",
   "execution_count": 71,
   "metadata": {},
   "outputs": [
    {
     "data": {
      "text/plain": [
       "0.44269504088896355"
      ]
     },
     "execution_count": 71,
     "metadata": {},
     "output_type": "execute_result"
    }
   ],
   "source": [
    "my_cv.mean() # this is the mean value of the WE ASSUME THAT THE MEAN APPLIES"
   ]
  },
  {
   "cell_type": "code",
   "execution_count": 72,
   "metadata": {},
   "outputs": [
    {
     "data": {
      "text/plain": [
       "0.41503749927884465"
      ]
     },
     "execution_count": 72,
     "metadata": {},
     "output_type": "execute_result"
    }
   ],
   "source": [
    "my_cv.median()"
   ]
  },
  {
   "cell_type": "code",
   "execution_count": 6,
   "metadata": {
    "scrolled": true
   },
   "outputs": [
    {
     "data": {
      "text/plain": [
       "[<matplotlib.lines.Line2D at 0x7f03b09e64a8>]"
      ]
     },
     "execution_count": 6,
     "metadata": {},
     "output_type": "execute_result"
    },
    {
     "data": {
      "image/png": "[encoded data removed]",
      "text/plain": [
       "<Figure size 432x288 with 1 Axes>"
      ]
     },
     "metadata": {
      "needs_background": "light"
     },
     "output_type": "display_data"
    }
   ],
   "source": [
    "plt.plot(np.arange(0.0,1.01,0.01), [ageDistFunc(i) for i in np.arange(0.0,1.01,0.01)])"
   ]
  },
  {
   "cell_type": "code",
   "execution_count": 59,
   "metadata": {},
   "outputs": [
    {
     "data": {
      "application/vnd.plotly.v1+json": {
       "config": {
        "linkText": "Export to plot.ly",
        "plotlyServerURL": "https://plot.ly",
        "showLink": false
       },
       "data": [
        {
         "fill": "tozerox",
         "fillcolor": "rgba(68, 68, 68, 0.3)",
         "line": {
          "color": "rgb(31, 119, 180)"
         },
         "mode": "lines",
         "name": "Measurement",
         "type": "scatter",
         "x": [
          0,
          0,
          0.01,
          0.02,
          0.03,
          0.04,
          0.05,
          0.06,
          0.07,
          0.08,
          0.09,
          0.1,
          0.11,
          0.12,
          0.13,
          0.14,
          0.15,
          0.16,
          0.17,
          0.18,
          0.19,
          0.2,
          0.21,
          0.22,
          0.23,
          0.24,
          0.25,
          0.26,
          0.27,
          0.28,
          0.29,
          0.3,
          0.31,
          0.32,
          0.33,
          0.34,
          0.35000000000000003,
          0.36,
          0.37,
          0.38,
          0.39,
          0.4,
          0.41000000000000003,
          0.42,
          0.43,
          0.44,
          0.45,
          0.46,
          0.47000000000000003,
          0.48,
          0.49,
          0.5,
          0.51,
          0.52,
          0.53,
          0.54,
          0.55,
          0.56,
          0.5700000000000001,
          0.58,
          0.59,
          0.6,
          0.61,
          0.62,
          0.63,
          0.64,
          0.65,
          0.66,
          0.67,
          0.68,
          0.6900000000000001,
          0.7000000000000001,
          0.71,
          0.72,
          0.73,
          0.74,
          0.75,
          0.76,
          0.77,
          0.78,
          0.79,
          0.8,
          0.81,
          0.8200000000000001,
          0.8300000000000001,
          0.84,
          0.85,
          0.86,
          0.87,
          0.88,
          0.89,
          0.9,
          0.91,
          0.92,
          0.93,
          0.9400000000000001,
          0.9500000000000001,
          0.96,
          0.97,
          0.98,
          0.99,
          1,
          1
         ],
         "y": [
          0,
          1.3862943611198906,
          1.3767185264948436,
          1.3672088369911632,
          1.3577648357111218,
          1.3483860689130152,
          1.3390720859893612,
          1.3298224394452518,
          1.3206366848768516,
          1.3115143809500471,
          1.3024550893792417,
          1.2934583749062987,
          1.2845238052796293,
          1.2756509512334242,
          1.2668393864670298,
          1.2580886876244664,
          1.2493984342740867,
          1.2407682088883782,
          1.232197596823901,
          1.2236861863013666,
          1.2152335683858537,
          1.2068393369671613,
          1.198503088740296,
          1.190224423186096,
          1.1820029425519867,
          1.1738382518328718,
          1.1657299587521543,
          1.15767767374289,
          1.1496810099290693,
          1.141739583107031,
          1.1338530117270025,
          1.1260209168747677,
          1.1182429222534622,
          1.1105186541654941,
          1.1028477414945892,
          1.0952298156879605,
          1.0876645107386018,
          1.0801514631677007,
          1.0726903120071776,
          1.0652806987823407,
          1.057922267494664,
          1.0506146646046832,
          1.0433575390150094,
          1.0361505420534602,
          1.0289933274563083,
          1.021885551351644,
          1.0148268722428555,
          1.0078169509922195,
          1.0008554508046081,
          0.9939420372113079,
          0.9870763780539489,
          0.9802581434685472,
          0.9734870058696555,
          0.9667626399346245,
          0.9600847225879728,
          0.9534529329858643,
          0.946866952500693,
          0.9403264647057745,
          0.9338311553601435,
          0.9273807123934553,
          0.9209748258909927,
          0.9146131880787755,
          0.9082954933087742,
          0.9020214380442242,
          0.8957907208450423,
          0.8896030423533442,
          0.8834581052790618,
          0.877355614385659,
          0.871295276475948,
          0.8652768003780011,
          0.8592998969311632,
          0.8533642789721566,
          0.847469661321286,
          0.8416157607687356,
          0.8358022960609629,
          0.8300289878871858,
          0.8242955588659627,
          0.8186017335318649,
          0.8129472383222434,
          0.8073318015640834,
          0.8017551534609534,
          0.796217026080042,
          0.7907171533392844,
          0.7852552709945793,
          0.7798311166270926,
          0.7744444296306496,
          0.7690949511992138,
          0.7637824243144525,
          0.7585065937333887,
          0.7532672059761369,
          0.7480640093137255,
          0.7428967537560017,
          0.7377651910396209,
          0.7326690746161186,
          0.7276081596400652,
          0.7225822029573016,
          0.7175909630932573,
          0.7126342002413488,
          0.7077116762514575,
          0.7028231546184875,
          0.6979684004710035,
          0.6931471805599453,
          0
         ]
        }
       ],
       "layout": {
        "showlegend": false,
        "template": {
         "data": {
          "bar": [
           {
            "error_x": {
             "color": "#2a3f5f"
            },
            "error_y": {
             "color": "#2a3f5f"
            },
            "marker": {
             "line": {
              "color": "#E5ECF6",
              "width": 0.5
             }
            },
            "type": "bar"
           }
          ],
          "barpolar": [
           {
            "marker": {
             "line": {
              "color": "#E5ECF6",
              "width": 0.5
             }
            },
            "type": "barpolar"
           }
          ],
          "carpet": [
           {
            "aaxis": {
             "endlinecolor": "#2a3f5f",
             "gridcolor": "white",
             "linecolor": "white",
             "minorgridcolor": "white",
             "startlinecolor": "#2a3f5f"
            },
            "baxis": {
             "endlinecolor": "#2a3f5f",
             "gridcolor": "white",
             "linecolor": "white",
             "minorgridcolor": "white",
             "startlinecolor": "#2a3f5f"
            },
            "type": "carpet"
           }
          ],
          "choropleth": [
           {
            "colorbar": {
             "outlinewidth": 0,
             "ticks": ""
            },
            "type": "choropleth"
           }
          ],
          "contour": [
           {
            "colorbar": {
             "outlinewidth": 0,
             "ticks": ""
            },
            "colorscale": [
             [
              0,
              "#0d0887"
             ],
             [
              0.1111111111111111,
              "#46039f"
             ],
             [
              0.2222222222222222,
              "#7201a8"
             ],
             [
              0.3333333333333333,
              "#9c179e"
             ],
             [
              0.4444444444444444,
              "#bd3786"
             ],
             [
              0.5555555555555556,
              "#d8576b"
             ],
             [
              0.6666666666666666,
              "#ed7953"
             ],
             [
              0.7777777777777778,
              "#fb9f3a"
             ],
             [
              0.8888888888888888,
              "#fdca26"
             ],
             [
              1,
              "#f0f921"
             ]
            ],
            "type": "contour"
           }
          ],
          "contourcarpet": [
           {
            "colorbar": {
             "outlinewidth": 0,
             "ticks": ""
            },
            "type": "contourcarpet"
           }
          ],
          "heatmap": [
           {
            "colorbar": {
             "outlinewidth": 0,
             "ticks": ""
            },
            "colorscale": [
             [
              0,
              "#0d0887"
             ],
             [
              0.1111111111111111,
              "#46039f"
             ],
             [
              0.2222222222222222,
              "#7201a8"
             ],
             [
              0.3333333333333333,
              "#9c179e"
             ],
             [
              0.4444444444444444,
              "#bd3786"
             ],
             [
              0.5555555555555556,
              "#d8576b"
             ],
             [
              0.6666666666666666,
              "#ed7953"
             ],
             [
              0.7777777777777778,
              "#fb9f3a"
             ],
             [
              0.8888888888888888,
              "#fdca26"
             ],
             [
              1,
              "#f0f921"
             ]
            ],
            "type": "heatmap"
           }
          ],
          "heatmapgl": [
           {
            "colorbar": {
             "outlinewidth": 0,
             "ticks": ""
            },
            "colorscale": [
             [
              0,
              "#0d0887"
             ],
             [
              0.1111111111111111,
              "#46039f"
             ],
             [
              0.2222222222222222,
              "#7201a8"
             ],
             [
              0.3333333333333333,
              "#9c179e"
             ],
             [
              0.4444444444444444,
              "#bd3786"
             ],
             [
              0.5555555555555556,
              "#d8576b"
             ],
             [
              0.6666666666666666,
              "#ed7953"
             ],
             [
              0.7777777777777778,
              "#fb9f3a"
             ],
             [
              0.8888888888888888,
              "#fdca26"
             ],
             [
              1,
              "#f0f921"
             ]
            ],
            "type": "heatmapgl"
           }
          ],
          "histogram": [
           {
            "marker": {
             "colorbar": {
              "outlinewidth": 0,
              "ticks": ""
             }
            },
            "type": "histogram"
           }
          ],
          "histogram2d": [
           {
            "colorbar": {
             "outlinewidth": 0,
             "ticks": ""
            },
            "colorscale": [
             [
              0,
              "#0d0887"
             ],
             [
              0.1111111111111111,
              "#46039f"
             ],
             [
              0.2222222222222222,
              "#7201a8"
             ],
             [
              0.3333333333333333,
              "#9c179e"
             ],
             [
              0.4444444444444444,
              "#bd3786"
             ],
             [
              0.5555555555555556,
              "#d8576b"
             ],
             [
              0.6666666666666666,
              "#ed7953"
             ],
             [
              0.7777777777777778,
              "#fb9f3a"
             ],
             [
              0.8888888888888888,
              "#fdca26"
             ],
             [
              1,
              "#f0f921"
             ]
            ],
            "type": "histogram2d"
           }
          ],
          "histogram2dcontour": [
           {
            "colorbar": {
             "outlinewidth": 0,
             "ticks": ""
            },
            "colorscale": [
             [
              0,
              "#0d0887"
             ],
             [
              0.1111111111111111,
              "#46039f"
             ],
             [
              0.2222222222222222,
              "#7201a8"
             ],
             [
              0.3333333333333333,
              "#9c179e"
             ],
             [
              0.4444444444444444,
              "#bd3786"
             ],
             [
              0.5555555555555556,
              "#d8576b"
             ],
             [
              0.6666666666666666,
              "#ed7953"
             ],
             [
              0.7777777777777778,
              "#fb9f3a"
             ],
             [
              0.8888888888888888,
              "#fdca26"
             ],
             [
              1,
              "#f0f921"
             ]
            ],
            "type": "histogram2dcontour"
           }
          ],
          "mesh3d": [
           {
            "colorbar": {
             "outlinewidth": 0,
             "ticks": ""
            },
            "type": "mesh3d"
           }
          ],
          "parcoords": [
           {
            "line": {
             "colorbar": {
              "outlinewidth": 0,
              "ticks": ""
             }
            },
            "type": "parcoords"
           }
          ],
          "scatter": [
           {
            "marker": {
             "colorbar": {
              "outlinewidth": 0,
              "ticks": ""
             }
            },
            "type": "scatter"
           }
          ],
          "scatter3d": [
           {
            "line": {
             "colorbar": {
              "outlinewidth": 0,
              "ticks": ""
             }
            },
            "marker": {
             "colorbar": {
              "outlinewidth": 0,
              "ticks": ""
             }
            },
            "type": "scatter3d"
           }
          ],
          "scattercarpet": [
           {
            "marker": {
             "colorbar": {
              "outlinewidth": 0,
              "ticks": ""
             }
            },
            "type": "scattercarpet"
           }
          ],
          "scattergeo": [
           {
            "marker": {
             "colorbar": {
              "outlinewidth": 0,
              "ticks": ""
             }
            },
            "type": "scattergeo"
           }
          ],
          "scattergl": [
           {
            "marker": {
             "colorbar": {
              "outlinewidth": 0,
              "ticks": ""
             }
            },
            "type": "scattergl"
           }
          ],
          "scattermapbox": [
           {
            "marker": {
             "colorbar": {
              "outlinewidth": 0,
              "ticks": ""
             }
            },
            "type": "scattermapbox"
           }
          ],
          "scatterpolar": [
           {
            "marker": {
             "colorbar": {
              "outlinewidth": 0,
              "ticks": ""
             }
            },
            "type": "scatterpolar"
           }
          ],
          "scatterpolargl": [
           {
            "marker": {
             "colorbar": {
              "outlinewidth": 0,
              "ticks": ""
             }
            },
            "type": "scatterpolargl"
           }
          ],
          "scatterternary": [
           {
            "marker": {
             "colorbar": {
              "outlinewidth": 0,
              "ticks": ""
             }
            },
            "type": "scatterternary"
           }
          ],
          "surface": [
           {
            "colorbar": {
             "outlinewidth": 0,
             "ticks": ""
            },
            "colorscale": [
             [
              0,
              "#0d0887"
             ],
             [
              0.1111111111111111,
              "#46039f"
             ],
             [
              0.2222222222222222,
              "#7201a8"
             ],
             [
              0.3333333333333333,
              "#9c179e"
             ],
             [
              0.4444444444444444,
              "#bd3786"
             ],
             [
              0.5555555555555556,
              "#d8576b"
             ],
             [
              0.6666666666666666,
              "#ed7953"
             ],
             [
              0.7777777777777778,
              "#fb9f3a"
             ],
             [
              0.8888888888888888,
              "#fdca26"
             ],
             [
              1,
              "#f0f921"
             ]
            ],
            "type": "surface"
           }
          ],
          "table": [
           {
            "cells": {
             "fill": {
              "color": "#EBF0F8"
             },
             "line": {
              "color": "white"
             }
            },
            "header": {
             "fill": {
              "color": "#C8D4E3"
             },
             "line": {
              "color": "white"
             }
            },
            "type": "table"
           }
          ]
         },
         "layout": {
          "annotationdefaults": {
           "arrowcolor": "#2a3f5f",
           "arrowhead": 0,
           "arrowwidth": 1
          },
          "colorscale": {
           "diverging": [
            [
             0,
             "#8e0152"
            ],
            [
             0.1,
             "#c51b7d"
            ],
            [
             0.2,
             "#de77ae"
            ],
            [
             0.3,
             "#f1b6da"
            ],
            [
             0.4,
             "#fde0ef"
            ],
            [
             0.5,
             "#f7f7f7"
            ],
            [
             0.6,
             "#e6f5d0"
            ],
            [
             0.7,
             "#b8e186"
            ],
            [
             0.8,
             "#7fbc41"
            ],
            [
             0.9,
             "#4d9221"
            ],
            [
             1,
             "#276419"
            ]
           ],
           "sequential": [
            [
             0,
             "#0d0887"
            ],
            [
             0.1111111111111111,
             "#46039f"
            ],
            [
             0.2222222222222222,
             "#7201a8"
            ],
            [
             0.3333333333333333,
             "#9c179e"
            ],
            [
             0.4444444444444444,
             "#bd3786"
            ],
            [
             0.5555555555555556,
             "#d8576b"
            ],
            [
             0.6666666666666666,
             "#ed7953"
            ],
            [
             0.7777777777777778,
             "#fb9f3a"
            ],
            [
             0.8888888888888888,
             "#fdca26"
            ],
            [
             1,
             "#f0f921"
            ]
           ],
           "sequentialminus": [
            [
             0,
             "#0d0887"
            ],
            [
             0.1111111111111111,
             "#46039f"
            ],
            [
             0.2222222222222222,
             "#7201a8"
            ],
            [
             0.3333333333333333,
             "#9c179e"
            ],
            [
             0.4444444444444444,
             "#bd3786"
            ],
            [
             0.5555555555555556,
             "#d8576b"
            ],
            [
             0.6666666666666666,
             "#ed7953"
            ],
            [
             0.7777777777777778,
             "#fb9f3a"
            ],
            [
             0.8888888888888888,
             "#fdca26"
            ],
            [
             1,
             "#f0f921"
            ]
           ]
          },
          "colorway": [
           "#636efa",
           "#EF553B",
           "#00cc96",
           "#ab63fa",
           "#FFA15A",
           "#19d3f3",
           "#FF6692",
           "#B6E880",
           "#FF97FF",
           "#FECB52"
          ],
          "font": {
           "color": "#2a3f5f"
          },
          "geo": {
           "bgcolor": "white",
           "lakecolor": "white",
           "landcolor": "#E5ECF6",
           "showlakes": true,
           "showland": true,
           "subunitcolor": "white"
          },
          "hoverlabel": {
           "align": "left"
          },
          "hovermode": "closest",
          "mapbox": {
           "style": "light"
          },
          "paper_bgcolor": "white",
          "plot_bgcolor": "#E5ECF6",
          "polar": {
           "angularaxis": {
            "gridcolor": "white",
            "linecolor": "white",
            "ticks": ""
           },
           "bgcolor": "#E5ECF6",
           "radialaxis": {
            "gridcolor": "white",
            "linecolor": "white",
            "ticks": ""
           }
          },
          "scene": {
           "xaxis": {
            "backgroundcolor": "#E5ECF6",
            "gridcolor": "white",
            "gridwidth": 2,
            "linecolor": "white",
            "showbackground": true,
            "ticks": "",
            "zerolinecolor": "white"
           },
           "yaxis": {
            "backgroundcolor": "#E5ECF6",
            "gridcolor": "white",
            "gridwidth": 2,
            "linecolor": "white",
            "showbackground": true,
            "ticks": "",
            "zerolinecolor": "white"
           },
           "zaxis": {
            "backgroundcolor": "#E5ECF6",
            "gridcolor": "white",
            "gridwidth": 2,
            "linecolor": "white",
            "showbackground": true,
            "ticks": "",
            "zerolinecolor": "white"
           }
          },
          "shapedefaults": {
           "line": {
            "color": "#2a3f5f"
           }
          },
          "ternary": {
           "aaxis": {
            "gridcolor": "white",
            "linecolor": "white",
            "ticks": ""
           },
           "baxis": {
            "gridcolor": "white",
            "linecolor": "white",
            "ticks": ""
           },
           "bgcolor": "#E5ECF6",
           "caxis": {
            "gridcolor": "white",
            "linecolor": "white",
            "ticks": ""
           }
          },
          "title": {
           "x": 0.05
          },
          "xaxis": {
           "automargin": true,
           "gridcolor": "white",
           "linecolor": "white",
           "ticks": "",
           "zerolinecolor": "white",
           "zerolinewidth": 2
          },
          "yaxis": {
           "automargin": true,
           "gridcolor": "white",
           "linecolor": "white",
           "ticks": "",
           "zerolinecolor": "white",
           "zerolinewidth": 2
          }
         }
        },
        "title": {
         "text": "Population Exponentially Growing Age Distribution"
        },
        "xaxis": {
         "range": [
          -0.1,
          1.1
         ],
         "title": {
          "text": "Cell Age"
         },
         "zeroline": false
        },
        "yaxis": {
         "title": {
          "text": "Probability Density"
         },
         "zeroline": true
        }
       }
      },
      "text/html": [
       "<div>\n",
       "        \n",
       "        \n",
       "            <div id=\"fdd792f0-c80d-4b57-aacb-7ac422eadc57\" class=\"plotly-graph-div\" style=\"height:525px; width:100%;\"></div>\n",
       "            <script type=\"text/javascript\">\n",
       "                require([\"plotly\"], function(Plotly) {\n",
       "                    window.PLOTLYENV=window.PLOTLYENV || {};\n",
       "                    \n",
       "                if (document.getElementById(\"fdd792f0-c80d-4b57-aacb-7ac422eadc57\")) {\n",
       "                    Plotly.newPlot(\n",
       "                        'fdd792f0-c80d-4b57-aacb-7ac422eadc57',\n",
       "                        [{\"fill\": \"tozerox\", \"fillcolor\": \"rgba(68, 68, 68, 0.3)\", \"line\": {\"color\": \"rgb(31, 119, 180)\"}, \"mode\": \"lines\", \"name\": \"Measurement\", \"type\": \"scatter\", \"x\": [0.0, 0.0, 0.01, 0.02, 0.03, 0.04, 0.05, 0.06, 0.07, 0.08, 0.09, 0.1, 0.11, 0.12, 0.13, 0.14, 0.15, 0.16, 0.17, 0.18, 0.19, 0.2, 0.21, 0.22, 0.23, 0.24, 0.25, 0.26, 0.27, 0.28, 0.29, 0.3, 0.31, 0.32, 0.33, 0.34, 0.35000000000000003, 0.36, 0.37, 0.38, 0.39, 0.4, 0.41000000000000003, 0.42, 0.43, 0.44, 0.45, 0.46, 0.47000000000000003, 0.48, 0.49, 0.5, 0.51, 0.52, 0.53, 0.54, 0.55, 0.56, 0.5700000000000001, 0.58, 0.59, 0.6, 0.61, 0.62, 0.63, 0.64, 0.65, 0.66, 0.67, 0.68, 0.6900000000000001, 0.7000000000000001, 0.71, 0.72, 0.73, 0.74, 0.75, 0.76, 0.77, 0.78, 0.79, 0.8, 0.81, 0.8200000000000001, 0.8300000000000001, 0.84, 0.85, 0.86, 0.87, 0.88, 0.89, 0.9, 0.91, 0.92, 0.93, 0.9400000000000001, 0.9500000000000001, 0.96, 0.97, 0.98, 0.99, 1.0, 1.0], \"y\": [0.0, 1.3862943611198906, 1.3767185264948436, 1.3672088369911632, 1.3577648357111218, 1.3483860689130152, 1.3390720859893612, 1.3298224394452518, 1.3206366848768516, 1.3115143809500471, 1.3024550893792417, 1.2934583749062987, 1.2845238052796293, 1.2756509512334242, 1.2668393864670298, 1.2580886876244664, 1.2493984342740867, 1.2407682088883782, 1.232197596823901, 1.2236861863013666, 1.2152335683858537, 1.2068393369671613, 1.198503088740296, 1.190224423186096, 1.1820029425519867, 1.1738382518328718, 1.1657299587521543, 1.15767767374289, 1.1496810099290693, 1.141739583107031, 1.1338530117270025, 1.1260209168747677, 1.1182429222534622, 1.1105186541654941, 1.1028477414945892, 1.0952298156879605, 1.0876645107386018, 1.0801514631677007, 1.0726903120071776, 1.0652806987823407, 1.057922267494664, 1.0506146646046832, 1.0433575390150094, 1.0361505420534602, 1.0289933274563083, 1.021885551351644, 1.0148268722428555, 1.0078169509922195, 1.0008554508046081, 0.9939420372113079, 0.9870763780539489, 0.9802581434685472, 0.9734870058696555, 0.9667626399346245, 0.9600847225879728, 0.9534529329858643, 0.946866952500693, 0.9403264647057745, 0.9338311553601435, 0.9273807123934553, 0.9209748258909927, 0.9146131880787755, 0.9082954933087742, 0.9020214380442242, 0.8957907208450423, 0.8896030423533442, 0.8834581052790618, 0.877355614385659, 0.871295276475948, 0.8652768003780011, 0.8592998969311632, 0.8533642789721566, 0.847469661321286, 0.8416157607687356, 0.8358022960609629, 0.8300289878871858, 0.8242955588659627, 0.8186017335318649, 0.8129472383222434, 0.8073318015640834, 0.8017551534609534, 0.796217026080042, 0.7907171533392844, 0.7852552709945793, 0.7798311166270926, 0.7744444296306496, 0.7690949511992138, 0.7637824243144525, 0.7585065937333887, 0.7532672059761369, 0.7480640093137255, 0.7428967537560017, 0.7377651910396209, 0.7326690746161186, 0.7276081596400652, 0.7225822029573016, 0.7175909630932573, 0.7126342002413488, 0.7077116762514575, 0.7028231546184875, 0.6979684004710035, 0.6931471805599453, 0.0]}],\n",
       "                        {\"showlegend\": false, \"template\": {\"data\": {\"bar\": [{\"error_x\": {\"color\": \"#2a3f5f\"}, \"error_y\": {\"color\": \"#2a3f5f\"}, \"marker\": {\"line\": {\"color\": \"#E5ECF6\", \"width\": 0.5}}, \"type\": \"bar\"}], \"barpolar\": [{\"marker\": {\"line\": {\"color\": \"#E5ECF6\", \"width\": 0.5}}, \"type\": \"barpolar\"}], \"carpet\": [{\"aaxis\": {\"endlinecolor\": \"#2a3f5f\", \"gridcolor\": \"white\", \"linecolor\": \"white\", \"minorgridcolor\": \"white\", \"startlinecolor\": \"#2a3f5f\"}, \"baxis\": {\"endlinecolor\": \"#2a3f5f\", \"gridcolor\": \"white\", \"linecolor\": \"white\", \"minorgridcolor\": \"white\", \"startlinecolor\": \"#2a3f5f\"}, \"type\": \"carpet\"}], \"choropleth\": [{\"colorbar\": {\"outlinewidth\": 0, \"ticks\": \"\"}, \"type\": \"choropleth\"}], \"contour\": [{\"colorbar\": {\"outlinewidth\": 0, \"ticks\": \"\"}, \"colorscale\": [[0.0, \"#0d0887\"], [0.1111111111111111, \"#46039f\"], [0.2222222222222222, \"#7201a8\"], [0.3333333333333333, \"#9c179e\"], [0.4444444444444444, \"#bd3786\"], [0.5555555555555556, \"#d8576b\"], [0.6666666666666666, \"#ed7953\"], [0.7777777777777778, \"#fb9f3a\"], [0.8888888888888888, \"#fdca26\"], [1.0, \"#f0f921\"]], \"type\": \"contour\"}], \"contourcarpet\": [{\"colorbar\": {\"outlinewidth\": 0, \"ticks\": \"\"}, \"type\": \"contourcarpet\"}], \"heatmap\": [{\"colorbar\": {\"outlinewidth\": 0, \"ticks\": \"\"}, \"colorscale\": [[0.0, \"#0d0887\"], [0.1111111111111111, \"#46039f\"], [0.2222222222222222, \"#7201a8\"], [0.3333333333333333, \"#9c179e\"], [0.4444444444444444, \"#bd3786\"], [0.5555555555555556, \"#d8576b\"], [0.6666666666666666, \"#ed7953\"], [0.7777777777777778, \"#fb9f3a\"], [0.8888888888888888, \"#fdca26\"], [1.0, \"#f0f921\"]], \"type\": \"heatmap\"}], \"heatmapgl\": [{\"colorbar\": {\"outlinewidth\": 0, \"ticks\": \"\"}, \"colorscale\": [[0.0, \"#0d0887\"], [0.1111111111111111, \"#46039f\"], [0.2222222222222222, \"#7201a8\"], [0.3333333333333333, \"#9c179e\"], [0.4444444444444444, \"#bd3786\"], [0.5555555555555556, \"#d8576b\"], [0.6666666666666666, \"#ed7953\"], [0.7777777777777778, \"#fb9f3a\"], [0.8888888888888888, \"#fdca26\"], [1.0, \"#f0f921\"]], \"type\": \"heatmapgl\"}], \"histogram\": [{\"marker\": {\"colorbar\": {\"outlinewidth\": 0, \"ticks\": \"\"}}, \"type\": \"histogram\"}], \"histogram2d\": [{\"colorbar\": {\"outlinewidth\": 0, \"ticks\": \"\"}, \"colorscale\": [[0.0, \"#0d0887\"], [0.1111111111111111, \"#46039f\"], [0.2222222222222222, \"#7201a8\"], [0.3333333333333333, \"#9c179e\"], [0.4444444444444444, \"#bd3786\"], [0.5555555555555556, \"#d8576b\"], [0.6666666666666666, \"#ed7953\"], [0.7777777777777778, \"#fb9f3a\"], [0.8888888888888888, \"#fdca26\"], [1.0, \"#f0f921\"]], \"type\": \"histogram2d\"}], \"histogram2dcontour\": [{\"colorbar\": {\"outlinewidth\": 0, \"ticks\": \"\"}, \"colorscale\": [[0.0, \"#0d0887\"], [0.1111111111111111, \"#46039f\"], [0.2222222222222222, \"#7201a8\"], [0.3333333333333333, \"#9c179e\"], [0.4444444444444444, \"#bd3786\"], [0.5555555555555556, \"#d8576b\"], [0.6666666666666666, \"#ed7953\"], [0.7777777777777778, \"#fb9f3a\"], [0.8888888888888888, \"#fdca26\"], [1.0, \"#f0f921\"]], \"type\": \"histogram2dcontour\"}], \"mesh3d\": [{\"colorbar\": {\"outlinewidth\": 0, \"ticks\": \"\"}, \"type\": \"mesh3d\"}], \"parcoords\": [{\"line\": {\"colorbar\": {\"outlinewidth\": 0, \"ticks\": \"\"}}, \"type\": \"parcoords\"}], \"scatter\": [{\"marker\": {\"colorbar\": {\"outlinewidth\": 0, \"ticks\": \"\"}}, \"type\": \"scatter\"}], \"scatter3d\": [{\"line\": {\"colorbar\": {\"outlinewidth\": 0, \"ticks\": \"\"}}, \"marker\": {\"colorbar\": {\"outlinewidth\": 0, \"ticks\": \"\"}}, \"type\": \"scatter3d\"}], \"scattercarpet\": [{\"marker\": {\"colorbar\": {\"outlinewidth\": 0, \"ticks\": \"\"}}, \"type\": \"scattercarpet\"}], \"scattergeo\": [{\"marker\": {\"colorbar\": {\"outlinewidth\": 0, \"ticks\": \"\"}}, \"type\": \"scattergeo\"}], \"scattergl\": [{\"marker\": {\"colorbar\": {\"outlinewidth\": 0, \"ticks\": \"\"}}, \"type\": \"scattergl\"}], \"scattermapbox\": [{\"marker\": {\"colorbar\": {\"outlinewidth\": 0, \"ticks\": \"\"}}, \"type\": \"scattermapbox\"}], \"scatterpolar\": [{\"marker\": {\"colorbar\": {\"outlinewidth\": 0, \"ticks\": \"\"}}, \"type\": \"scatterpolar\"}], \"scatterpolargl\": [{\"marker\": {\"colorbar\": {\"outlinewidth\": 0, \"ticks\": \"\"}}, \"type\": \"scatterpolargl\"}], \"scatterternary\": [{\"marker\": {\"colorbar\": {\"outlinewidth\": 0, \"ticks\": \"\"}}, \"type\": \"scatterternary\"}], \"surface\": [{\"colorbar\": {\"outlinewidth\": 0, \"ticks\": \"\"}, \"colorscale\": [[0.0, \"#0d0887\"], [0.1111111111111111, \"#46039f\"], [0.2222222222222222, \"#7201a8\"], [0.3333333333333333, \"#9c179e\"], [0.4444444444444444, \"#bd3786\"], [0.5555555555555556, \"#d8576b\"], [0.6666666666666666, \"#ed7953\"], [0.7777777777777778, \"#fb9f3a\"], [0.8888888888888888, \"#fdca26\"], [1.0, \"#f0f921\"]], \"type\": \"surface\"}], \"table\": [{\"cells\": {\"fill\": {\"color\": \"#EBF0F8\"}, \"line\": {\"color\": \"white\"}}, \"header\": {\"fill\": {\"color\": \"#C8D4E3\"}, \"line\": {\"color\": \"white\"}}, \"type\": \"table\"}]}, \"layout\": {\"annotationdefaults\": {\"arrowcolor\": \"#2a3f5f\", \"arrowhead\": 0, \"arrowwidth\": 1}, \"colorscale\": {\"diverging\": [[0, \"#8e0152\"], [0.1, \"#c51b7d\"], [0.2, \"#de77ae\"], [0.3, \"#f1b6da\"], [0.4, \"#fde0ef\"], [0.5, \"#f7f7f7\"], [0.6, \"#e6f5d0\"], [0.7, \"#b8e186\"], [0.8, \"#7fbc41\"], [0.9, \"#4d9221\"], [1, \"#276419\"]], \"sequential\": [[0.0, \"#0d0887\"], [0.1111111111111111, \"#46039f\"], [0.2222222222222222, \"#7201a8\"], [0.3333333333333333, \"#9c179e\"], [0.4444444444444444, \"#bd3786\"], [0.5555555555555556, \"#d8576b\"], [0.6666666666666666, \"#ed7953\"], [0.7777777777777778, \"#fb9f3a\"], [0.8888888888888888, \"#fdca26\"], [1.0, \"#f0f921\"]], \"sequentialminus\": [[0.0, \"#0d0887\"], [0.1111111111111111, \"#46039f\"], [0.2222222222222222, \"#7201a8\"], [0.3333333333333333, \"#9c179e\"], [0.4444444444444444, \"#bd3786\"], [0.5555555555555556, \"#d8576b\"], [0.6666666666666666, \"#ed7953\"], [0.7777777777777778, \"#fb9f3a\"], [0.8888888888888888, \"#fdca26\"], [1.0, \"#f0f921\"]]}, \"colorway\": [\"#636efa\", \"#EF553B\", \"#00cc96\", \"#ab63fa\", \"#FFA15A\", \"#19d3f3\", \"#FF6692\", \"#B6E880\", \"#FF97FF\", \"#FECB52\"], \"font\": {\"color\": \"#2a3f5f\"}, \"geo\": {\"bgcolor\": \"white\", \"lakecolor\": \"white\", \"landcolor\": \"#E5ECF6\", \"showlakes\": true, \"showland\": true, \"subunitcolor\": \"white\"}, \"hoverlabel\": {\"align\": \"left\"}, \"hovermode\": \"closest\", \"mapbox\": {\"style\": \"light\"}, \"paper_bgcolor\": \"white\", \"plot_bgcolor\": \"#E5ECF6\", \"polar\": {\"angularaxis\": {\"gridcolor\": \"white\", \"linecolor\": \"white\", \"ticks\": \"\"}, \"bgcolor\": \"#E5ECF6\", \"radialaxis\": {\"gridcolor\": \"white\", \"linecolor\": \"white\", \"ticks\": \"\"}}, \"scene\": {\"xaxis\": {\"backgroundcolor\": \"#E5ECF6\", \"gridcolor\": \"white\", \"gridwidth\": 2, \"linecolor\": \"white\", \"showbackground\": true, \"ticks\": \"\", \"zerolinecolor\": \"white\"}, \"yaxis\": {\"backgroundcolor\": \"#E5ECF6\", \"gridcolor\": \"white\", \"gridwidth\": 2, \"linecolor\": \"white\", \"showbackground\": true, \"ticks\": \"\", \"zerolinecolor\": \"white\"}, \"zaxis\": {\"backgroundcolor\": \"#E5ECF6\", \"gridcolor\": \"white\", \"gridwidth\": 2, \"linecolor\": \"white\", \"showbackground\": true, \"ticks\": \"\", \"zerolinecolor\": \"white\"}}, \"shapedefaults\": {\"line\": {\"color\": \"#2a3f5f\"}}, \"ternary\": {\"aaxis\": {\"gridcolor\": \"white\", \"linecolor\": \"white\", \"ticks\": \"\"}, \"baxis\": {\"gridcolor\": \"white\", \"linecolor\": \"white\", \"ticks\": \"\"}, \"bgcolor\": \"#E5ECF6\", \"caxis\": {\"gridcolor\": \"white\", \"linecolor\": \"white\", \"ticks\": \"\"}}, \"title\": {\"x\": 0.05}, \"xaxis\": {\"automargin\": true, \"gridcolor\": \"white\", \"linecolor\": \"white\", \"ticks\": \"\", \"zerolinecolor\": \"white\", \"zerolinewidth\": 2}, \"yaxis\": {\"automargin\": true, \"gridcolor\": \"white\", \"linecolor\": \"white\", \"ticks\": \"\", \"zerolinecolor\": \"white\", \"zerolinewidth\": 2}}}, \"title\": {\"text\": \"Population Exponentially Growing Age Distribution\"}, \"xaxis\": {\"range\": [-0.1, 1.1], \"title\": {\"text\": \"Cell Age\"}, \"zeroline\": false}, \"yaxis\": {\"title\": {\"text\": \"Probability Density\"}, \"zeroline\": true}},\n",
       "                        {\"responsive\": true}\n",
       "                    ).then(function(){\n",
       "                            \n",
       "var gd = document.getElementById('fdd792f0-c80d-4b57-aacb-7ac422eadc57');\n",
       "var x = new MutationObserver(function (mutations, observer) {{\n",
       "        var display = window.getComputedStyle(gd).display;\n",
       "        if (!display || display === 'none') {{\n",
       "            console.log([gd, 'removed!']);\n",
       "            Plotly.purge(gd);\n",
       "            observer.disconnect();\n",
       "        }}\n",
       "}});\n",
       "\n",
       "// Listen for the removal of the full notebook cells\n",
       "var notebookContainer = gd.closest('#notebook-container');\n",
       "if (notebookContainer) {{\n",
       "    x.observe(notebookContainer, {childList: true});\n",
       "}}\n",
       "\n",
       "// Listen for the clearing of the current output cell\n",
       "var outputEl = gd.closest('.output');\n",
       "if (outputEl) {{\n",
       "    x.observe(outputEl, {childList: true});\n",
       "}}\n",
       "\n",
       "                        })\n",
       "                };\n",
       "                });\n",
       "            </script>\n",
       "        </div>"
      ]
     },
     "metadata": {},
     "output_type": "display_data"
    }
   ],
   "source": [
    "x = list(np.arange(0.0,1.01,0.01))\n",
    "x.append(1.0)\n",
    "x.insert(0, 0.0)\n",
    "y = [ageDistFunc(i) for i in np.arange(0.0,1.01,0.01)]\n",
    "y.append(0.0)\n",
    "y.insert(0, 0.0)\n",
    "trace = go.Scatter(\n",
    "    name='Measurement',\n",
    "    x=x,\n",
    "    y=y,\n",
    "    mode='lines',\n",
    "    line=dict(color='rgb(31, 119, 180)'),\n",
    "    fillcolor='rgba(68, 68, 68, 0.3)',\n",
    "    fill='tozerox'\n",
    ")\n",
    "\n",
    "# Trace order can be important\n",
    "# with continuous error bars\n",
    "data = [trace]\n",
    "\n",
    "layout = go.Layout(\n",
    "    xaxis=dict(title='Cell Age', zeroline=False, range=[-0.1, 1.1]),\n",
    "    yaxis=dict(title='Probability Density', zeroline=True),\n",
    "    title='Population Exponentially Growing Age Distribution',\n",
    "    showlegend = False,\n",
    ")\n",
    "\n",
    "fig = go.Figure(data=data, layout=layout)\n",
    "iplot(fig, filename='pandas-continuous-error-bars')"
   ]
  },
  {
   "cell_type": "code",
   "execution_count": 24,
   "metadata": {},
   "outputs": [],
   "source": [
    "plotly.io.write_image(fig, 'age_distribution.png' , width=1200, height=800)"
   ]
  },
  {
   "cell_type": "code",
   "execution_count": null,
   "metadata": {},
   "outputs": [],
   "source": [
    "##### the probability of the age distribution of an exponentially growing population ####"
   ]
  },
  {
   "cell_type": "code",
   "execution_count": 28,
   "metadata": {},
   "outputs": [],
   "source": [
    "I = integrate.quad(ageDistFunc, 0.1, 0.2)"
   ]
  },
  {
   "cell_type": "code",
   "execution_count": 39,
   "metadata": {},
   "outputs": [
    {
     "data": {
      "text/plain": [
       "[<matplotlib.lines.Line2D at 0x152582bc50>]"
      ]
     },
     "execution_count": 39,
     "metadata": {},
     "output_type": "execute_result"
    },
    {
     "data": {
      "image/png": "[encoded data removed]",
      "text/plain": [
       "<Figure size 432x288 with 1 Axes>"
      ]
     },
     "metadata": {
      "needs_background": "light"
     },
     "output_type": "display_data"
    }
   ],
   "source": [
    "x = np.arange(0.0,1.0,0.01)\n",
    "y = [integrate.quad(ageDistFunc, i, i+0.01)[0] for i in x]\n",
    "plt.plot(x, y)"
   ]
  },
  {
   "cell_type": "code",
   "execution_count": 40,
   "metadata": {},
   "outputs": [
    {
     "data": {
      "text/plain": [
       "1.0000000000000002"
      ]
     },
     "execution_count": 40,
     "metadata": {},
     "output_type": "execute_result"
    }
   ],
   "source": [
    "sum(y)"
   ]
  },
  {
   "cell_type": "code",
   "execution_count": null,
   "metadata": {},
   "outputs": [],
   "source": [
    "####### cell cycle parameter #######"
   ]
  },
  {
   "cell_type": "code",
   "execution_count": 13,
   "metadata": {},
   "outputs": [],
   "source": [
    "age_weight = {}\n",
    "for i in np.arange(0.0,1.01,0.01):\n",
    "    age_weight[i] = ageDistFunc(i)"
   ]
  },
  {
   "cell_type": "code",
   "execution_count": 4,
   "metadata": {},
   "outputs": [],
   "source": [
    "tau = 60.0\n",
    "C = 40.0\n",
    "D = 20.0\n",
    "distRes = {}\n",
    "for i in [i for i in np.arange(0.0,1.01,0.01)]:\n",
    "    results = (ctypes.c_double*6)()\n",
    "    status = simulator.cell_parameters(ctypes.c_double(tau), ctypes.c_double(C), ctypes.c_double(D), ctypes.c_double(i), results)\n",
    "    results = [i for i in results]\n",
    "    distRes[i] = {}\n",
    "    distRes[i]['volume'] = results[0]\n",
    "    distRes[i]['G0'] = results[1]\n",
    "    distRes[i]['Ga'] = results[2]\n",
    "    distRes[i]['segregation_timer'] = results[3]\n",
    "    distRes[i]['oriC'] = results[4]\n",
    "    distRes[i]['terC'] = results[5]\n",
    "    results = None"
   ]
  },
  {
   "cell_type": "code",
   "execution_count": 5,
   "metadata": {},
   "outputs": [
    {
     "data": {
      "text/plain": [
       "{0.0: {'volume': 1.0,\n",
       "  'G0': 1.0,\n",
       "  'Ga': 1.0,\n",
       "  'segregation_timer': 0.0,\n",
       "  'oriC': 2.0,\n",
       "  'terC': 1.0},\n",
       " 0.01: {'volume': 1.0069555500567189,\n",
       "  'G0': 1.0,\n",
       "  'Ga': 1.015,\n",
       "  'segregation_timer': 0.0,\n",
       "  'oriC': 2.0,\n",
       "  'terC': 1.0},\n",
       " 0.02: {'volume': 1.013959479790029,\n",
       "  'G0': 1.0,\n",
       "  'Ga': 1.03,\n",
       "  'segregation_timer': 0.0,\n",
       "  'oriC': 2.0,\n",
       "  'terC': 1.0},\n",
       " 0.03: {'volume': 1.0210121257071934,\n",
       "  'G0': 1.0,\n",
       "  'Ga': 1.045,\n",
       "  'segregation_timer': 0.0,\n",
       "  'oriC': 2.0,\n",
       "  'terC': 1.0},\n",
       " 0.04: {'volume': 1.0281138266560665,\n",
       "  'G0': 1.0,\n",
       "  'Ga': 1.06,\n",
       "  'segregation_timer': 0.0,\n",
       "  'oriC': 2.0,\n",
       "  'terC': 1.0},\n",
       " 0.05: {'volume': 1.0352649238413776,\n",
       "  'G0': 1.0,\n",
       "  'Ga': 1.075,\n",
       "  'segregation_timer': 0.0,\n",
       "  'oriC': 2.0,\n",
       "  'terC': 1.0},\n",
       " 0.06: {'volume': 1.0424657608411214,\n",
       "  'G0': 1.0,\n",
       "  'Ga': 1.09,\n",
       "  'segregation_timer': 0.0,\n",
       "  'oriC': 2.0,\n",
       "  'terC': 1.0},\n",
       " 0.07: {'volume': 1.0497166836230674,\n",
       "  'G0': 1.0,\n",
       "  'Ga': 1.105,\n",
       "  'segregation_timer': 0.0,\n",
       "  'oriC': 2.0,\n",
       "  'terC': 1.0},\n",
       " 0.08: {'volume': 1.0570180405613803,\n",
       "  'G0': 1.0,\n",
       "  'Ga': 1.12,\n",
       "  'segregation_timer': 0.0,\n",
       "  'oriC': 2.0,\n",
       "  'terC': 1.0},\n",
       " 0.09: {'volume': 1.06437018245336,\n",
       "  'G0': 1.0,\n",
       "  'Ga': 1.135,\n",
       "  'segregation_timer': 0.0,\n",
       "  'oriC': 2.0,\n",
       "  'terC': 1.0},\n",
       " 0.1: {'volume': 1.0717734625362931,\n",
       "  'G0': 1.0,\n",
       "  'Ga': 1.15,\n",
       "  'segregation_timer': 0.0,\n",
       "  'oriC': 2.0,\n",
       "  'terC': 1.0},\n",
       " 0.11: {'volume': 1.079228236504427,\n",
       "  'G0': 1.0,\n",
       "  'Ga': 1.165,\n",
       "  'segregation_timer': 0.0,\n",
       "  'oriC': 2.0,\n",
       "  'terC': 1.0},\n",
       " 0.12: {'volume': 1.0867348625260582,\n",
       "  'G0': 1.0,\n",
       "  'Ga': 1.18,\n",
       "  'segregation_timer': 0.0,\n",
       "  'oriC': 2.0,\n",
       "  'terC': 1.0},\n",
       " 0.13: {'volume': 1.0942937012607394,\n",
       "  'G0': 1.0,\n",
       "  'Ga': 1.195,\n",
       "  'segregation_timer': 0.0,\n",
       "  'oriC': 2.0,\n",
       "  'terC': 1.0},\n",
       " 0.14: {'volume': 1.1019051158766109,\n",
       "  'G0': 1.0,\n",
       "  'Ga': 1.21,\n",
       "  'segregation_timer': 0.0,\n",
       "  'oriC': 2.0,\n",
       "  'terC': 1.0},\n",
       " 0.15: {'volume': 1.1095694720678448,\n",
       "  'G0': 1.0,\n",
       "  'Ga': 1.225,\n",
       "  'segregation_timer': 0.0,\n",
       "  'oriC': 2.0,\n",
       "  'terC': 1.0},\n",
       " 0.16: {'volume': 1.1172871380722198,\n",
       "  'G0': 1.0,\n",
       "  'Ga': 1.24,\n",
       "  'segregation_timer': 0.0,\n",
       "  'oriC': 2.0,\n",
       "  'terC': 1.0},\n",
       " 0.17: {'volume': 1.1250584846888094,\n",
       "  'G0': 1.0,\n",
       "  'Ga': 1.255,\n",
       "  'segregation_timer': 0.0,\n",
       "  'oriC': 2.0,\n",
       "  'terC': 1.0},\n",
       " 0.18: {'volume': 1.1328838852957985,\n",
       "  'G0': 1.0,\n",
       "  'Ga': 1.27,\n",
       "  'segregation_timer': 0.0,\n",
       "  'oriC': 2.0,\n",
       "  'terC': 1.0},\n",
       " 0.19: {'volume': 1.1407637158684238,\n",
       "  'G0': 1.0,\n",
       "  'Ga': 1.2850000000000001,\n",
       "  'segregation_timer': 0.0,\n",
       "  'oriC': 2.0,\n",
       "  'terC': 1.0},\n",
       " 0.2: {'volume': 1.1486983549970349,\n",
       "  'G0': 1.0,\n",
       "  'Ga': 1.3,\n",
       "  'segregation_timer': 0.0,\n",
       "  'oriC': 2.0,\n",
       "  'terC': 1.0},\n",
       " 0.21: {'volume': 1.1566881839052874,\n",
       "  'G0': 1.0,\n",
       "  'Ga': 1.315,\n",
       "  'segregation_timer': 0.0,\n",
       "  'oriC': 2.0,\n",
       "  'terC': 1.0},\n",
       " 0.22: {'volume': 1.1647335864684558,\n",
       "  'G0': 1.0,\n",
       "  'Ga': 1.33,\n",
       "  'segregation_timer': 0.0,\n",
       "  'oriC': 2.0,\n",
       "  'terC': 1.0},\n",
       " 0.23: {'volume': 1.1728349492318788,\n",
       "  'G0': 1.0,\n",
       "  'Ga': 1.345,\n",
       "  'segregation_timer': 0.0,\n",
       "  'oriC': 2.0,\n",
       "  'terC': 1.0},\n",
       " 0.24: {'volume': 1.1809926614295303,\n",
       "  'G0': 1.0,\n",
       "  'Ga': 1.3599999999999999,\n",
       "  'segregation_timer': 0.0,\n",
       "  'oriC': 2.0,\n",
       "  'terC': 1.0},\n",
       " 0.25: {'volume': 1.189207115002721,\n",
       "  'G0': 1.0,\n",
       "  'Ga': 1.375,\n",
       "  'segregation_timer': 0.0,\n",
       "  'oriC': 2.0,\n",
       "  'terC': 1.0},\n",
       " 0.26: {'volume': 1.1974787046189286,\n",
       "  'G0': 1.0,\n",
       "  'Ga': 1.3900000000000001,\n",
       "  'segregation_timer': 0.0,\n",
       "  'oriC': 2.0,\n",
       "  'terC': 1.0},\n",
       " 0.27: {'volume': 1.2058078276907604,\n",
       "  'G0': 1.0,\n",
       "  'Ga': 1.405,\n",
       "  'segregation_timer': 0.0,\n",
       "  'oriC': 2.0,\n",
       "  'terC': 1.0},\n",
       " 0.28: {'volume': 1.214194884395047,\n",
       "  'G0': 1.0,\n",
       "  'Ga': 1.42,\n",
       "  'segregation_timer': 0.0,\n",
       "  'oriC': 2.0,\n",
       "  'terC': 1.0},\n",
       " 0.29: {'volume': 1.2226402776920686,\n",
       "  'G0': 1.0,\n",
       "  'Ga': 1.435,\n",
       "  'segregation_timer': 0.0,\n",
       "  'oriC': 2.0,\n",
       "  'terC': 1.0},\n",
       " 0.3: {'volume': 1.2311444133449163,\n",
       "  'G0': 1.0,\n",
       "  'Ga': 1.45,\n",
       "  'segregation_timer': 0.0,\n",
       "  'oriC': 2.0,\n",
       "  'terC': 1.0},\n",
       " 0.31: {'volume': 1.2397076999389864,\n",
       "  'G0': 1.0,\n",
       "  'Ga': 1.465,\n",
       "  'segregation_timer': 0.0,\n",
       "  'oriC': 2.0,\n",
       "  'terC': 1.0},\n",
       " 0.32: {'volume': 1.2483305489016119,\n",
       "  'G0': 1.0,\n",
       "  'Ga': 1.48,\n",
       "  'segregation_timer': 0.0,\n",
       "  'oriC': 2.0,\n",
       "  'terC': 1.0},\n",
       " 0.33: {'volume': 1.2570133745218282,\n",
       "  'G0': 1.0,\n",
       "  'Ga': 1.495,\n",
       "  'segregation_timer': 0.0,\n",
       "  'oriC': 2.0,\n",
       "  'terC': 1.0},\n",
       " 0.34: {'volume': 1.26575659397028,\n",
       "  'G0': 1.0,\n",
       "  'Ga': 1.51,\n",
       "  'segregation_timer': 0.0,\n",
       "  'oriC': 2.0,\n",
       "  'terC': 1.0},\n",
       " 0.35000000000000003: {'volume': 1.2745606273192622,\n",
       "  'G0': 1.0,\n",
       "  'Ga': 1.5250000000000001,\n",
       "  'segregation_timer': 0.0,\n",
       "  'oriC': 2.0,\n",
       "  'terC': 1.0},\n",
       " 0.36: {'volume': 1.283425897562904,\n",
       "  'G0': 1.0,\n",
       "  'Ga': 1.54,\n",
       "  'segregation_timer': 0.0,\n",
       "  'oriC': 2.0,\n",
       "  'terC': 1.0},\n",
       " 0.37: {'volume': 1.2923528306374923,\n",
       "  'G0': 1.0,\n",
       "  'Ga': 1.555,\n",
       "  'segregation_timer': 0.0,\n",
       "  'oriC': 2.0,\n",
       "  'terC': 1.0},\n",
       " 0.38: {'volume': 1.3013418554419334,\n",
       "  'G0': 1.0,\n",
       "  'Ga': 1.57,\n",
       "  'segregation_timer': 0.0,\n",
       "  'oriC': 2.0,\n",
       "  'terC': 1.0},\n",
       " 0.39: {'volume': 1.3103934038583633,\n",
       "  'G0': 1.0,\n",
       "  'Ga': 1.585,\n",
       "  'segregation_timer': 0.0,\n",
       "  'oriC': 2.0,\n",
       "  'terC': 1.0},\n",
       " 0.4: {'volume': 1.3195079107728942,\n",
       "  'G0': 1.0,\n",
       "  'Ga': 1.6,\n",
       "  'segregation_timer': 0.0,\n",
       "  'oriC': 2.0,\n",
       "  'terC': 1.0},\n",
       " 0.41000000000000003: {'volume': 1.3286858140965114,\n",
       "  'G0': 1.0,\n",
       "  'Ga': 1.615,\n",
       "  'segregation_timer': 0.0,\n",
       "  'oriC': 2.0,\n",
       "  'terC': 1.0},\n",
       " 0.42: {'volume': 1.3379275547861122,\n",
       "  'G0': 1.0,\n",
       "  'Ga': 1.63,\n",
       "  'segregation_timer': 0.0,\n",
       "  'oriC': 2.0,\n",
       "  'terC': 1.0},\n",
       " 0.43: {'volume': 1.3472335768656902,\n",
       "  'G0': 1.0,\n",
       "  'Ga': 1.645,\n",
       "  'segregation_timer': 0.0,\n",
       "  'oriC': 2.0,\n",
       "  'terC': 1.0},\n",
       " 0.44: {'volume': 1.356604327447672,\n",
       "  'G0': 1.0,\n",
       "  'Ga': 1.66,\n",
       "  'segregation_timer': 0.0,\n",
       "  'oriC': 2.0,\n",
       "  'terC': 1.0},\n",
       " 0.45: {'volume': 1.3660402567543954,\n",
       "  'G0': 1.0,\n",
       "  'Ga': 1.675,\n",
       "  'segregation_timer': 0.0,\n",
       "  'oriC': 2.0,\n",
       "  'terC': 1.0},\n",
       " 0.46: {'volume': 1.3755418181397436,\n",
       "  'G0': 1.0,\n",
       "  'Ga': 1.69,\n",
       "  'segregation_timer': 0.0,\n",
       "  'oriC': 2.0,\n",
       "  'terC': 1.0},\n",
       " 0.47000000000000003: {'volume': 1.3851094681109246,\n",
       "  'G0': 1.0,\n",
       "  'Ga': 1.705,\n",
       "  'segregation_timer': 0.0,\n",
       "  'oriC': 2.0,\n",
       "  'terC': 1.0},\n",
       " 0.48: {'volume': 1.3947436663504054,\n",
       "  'G0': 1.0,\n",
       "  'Ga': 1.72,\n",
       "  'segregation_timer': 0.0,\n",
       "  'oriC': 2.0,\n",
       "  'terC': 1.0},\n",
       " 0.49: {'volume': 1.4044448757379973,\n",
       "  'G0': 1.0,\n",
       "  'Ga': 1.7349999999999999,\n",
       "  'segregation_timer': 0.0,\n",
       "  'oriC': 2.0,\n",
       "  'terC': 1.0},\n",
       " 0.5: {'volume': 1.4142135623730951,\n",
       "  'G0': 1.0,\n",
       "  'Ga': 1.75,\n",
       "  'segregation_timer': 0.0,\n",
       "  'oriC': 2.0,\n",
       "  'terC': 1.0},\n",
       " 0.51: {'volume': 1.4240501955970717,\n",
       "  'G0': 1.0,\n",
       "  'Ga': 1.7650000000000001,\n",
       "  'segregation_timer': 0.0,\n",
       "  'oriC': 2.0,\n",
       "  'terC': 1.0},\n",
       " 0.52: {'volume': 1.4339552480158273,\n",
       "  'G0': 1.0,\n",
       "  'Ga': 1.78,\n",
       "  'segregation_timer': 0.0,\n",
       "  'oriC': 2.0,\n",
       "  'terC': 1.0},\n",
       " 0.53: {'volume': 1.4439291955224962,\n",
       "  'G0': 1.0,\n",
       "  'Ga': 1.795,\n",
       "  'segregation_timer': 0.0,\n",
       "  'oriC': 2.0,\n",
       "  'terC': 1.0},\n",
       " 0.54: {'volume': 1.4539725173203106,\n",
       "  'G0': 1.0,\n",
       "  'Ga': 1.81,\n",
       "  'segregation_timer': 0.0,\n",
       "  'oriC': 2.0,\n",
       "  'terC': 1.0},\n",
       " 0.55: {'volume': 1.4640856959456254,\n",
       "  'G0': 1.0,\n",
       "  'Ga': 1.825,\n",
       "  'segregation_timer': 0.0,\n",
       "  'oriC': 2.0,\n",
       "  'terC': 1.0},\n",
       " 0.56: {'volume': 1.474269217291101,\n",
       "  'G0': 1.0,\n",
       "  'Ga': 1.84,\n",
       "  'segregation_timer': 0.0,\n",
       "  'oriC': 2.0,\n",
       "  'terC': 1.0},\n",
       " 0.5700000000000001: {'volume': 1.4845235706290492,\n",
       "  'G0': 1.0,\n",
       "  'Ga': 1.855,\n",
       "  'segregation_timer': 0.0,\n",
       "  'oriC': 2.0,\n",
       "  'terC': 1.0},\n",
       " 0.58: {'volume': 1.4948492486349383,\n",
       "  'G0': 1.0,\n",
       "  'Ga': 1.8699999999999999,\n",
       "  'segregation_timer': 0.0,\n",
       "  'oriC': 2.0,\n",
       "  'terC': 1.0},\n",
       " 0.59: {'volume': 1.5052467474110673,\n",
       "  'G0': 1.0,\n",
       "  'Ga': 1.885,\n",
       "  'segregation_timer': 0.0,\n",
       "  'oriC': 2.0,\n",
       "  'terC': 1.0},\n",
       " 0.6: {'volume': 1.5157165665103982,\n",
       "  'G0': 1.0,\n",
       "  'Ga': 1.9,\n",
       "  'segregation_timer': 0.0,\n",
       "  'oriC': 2.0,\n",
       "  'terC': 1.0},\n",
       " 0.61: {'volume': 1.5262592089605589,\n",
       "  'G0': 1.0,\n",
       "  'Ga': 1.915,\n",
       "  'segregation_timer': 0.0,\n",
       "  'oriC': 2.0,\n",
       "  'terC': 1.0},\n",
       " 0.62: {'volume': 1.5368751812880124,\n",
       "  'G0': 1.0,\n",
       "  'Ga': 1.9300000000000002,\n",
       "  'segregation_timer': 0.0,\n",
       "  'oriC': 2.0,\n",
       "  'terC': 1.0},\n",
       " 0.63: {'volume': 1.5475649935423899,\n",
       "  'G0': 1.0,\n",
       "  'Ga': 1.9449999999999998,\n",
       "  'segregation_timer': 0.0,\n",
       "  'oriC': 2.0,\n",
       "  'terC': 1.0},\n",
       " 0.64: {'volume': 1.5583291593209998,\n",
       "  'G0': 1.0,\n",
       "  'Ga': 1.96,\n",
       "  'segregation_timer': 0.0,\n",
       "  'oriC': 2.0,\n",
       "  'terC': 1.0},\n",
       " 0.65: {'volume': 1.5691681957935013,\n",
       "  'G0': 1.0,\n",
       "  'Ga': 1.975,\n",
       "  'segregation_timer': 0.0,\n",
       "  'oriC': 2.0,\n",
       "  'terC': 1.0},\n",
       " 0.66: {'volume': 1.5800826237267542,\n",
       "  'G0': 1.0,\n",
       "  'Ga': 1.99,\n",
       "  'segregation_timer': 0.0,\n",
       "  'oriC': 2.0,\n",
       "  'terC': 1.0},\n",
       " 0.67: {'volume': 1.5910729675098374,\n",
       "  'G0': 1.0,\n",
       "  'Ga': 2.0,\n",
       "  'segregation_timer': 0.19999999999999574,\n",
       "  'oriC': 2.0,\n",
       "  'terC': 2.0},\n",
       " 0.68: {'volume': 1.6021397551792442,\n",
       "  'G0': 1.0,\n",
       "  'Ga': 2.0,\n",
       "  'segregation_timer': 0.7999999999999972,\n",
       "  'oriC': 2.0,\n",
       "  'terC': 2.0},\n",
       " 0.6900000000000001: {'volume': 1.6132835184442529,\n",
       "  'G0': 1.0,\n",
       "  'Ga': 2.0,\n",
       "  'segregation_timer': 1.3999999999999986,\n",
       "  'oriC': 2.0,\n",
       "  'terC': 2.0},\n",
       " 0.7000000000000001: {'volume': 1.624504792712471,\n",
       "  'G0': 1.0,\n",
       "  'Ga': 2.0,\n",
       "  'segregation_timer': 2.0,\n",
       "  'oriC': 2.0,\n",
       "  'terC': 2.0},\n",
       " 0.71: {'volume': 1.6358041171155622,\n",
       "  'G0': 1.0,\n",
       "  'Ga': 2.0,\n",
       "  'segregation_timer': 2.599999999999987,\n",
       "  'oriC': 2.0,\n",
       "  'terC': 2.0},\n",
       " 0.72: {'volume': 1.647182034535146,\n",
       "  'G0': 1.0,\n",
       "  'Ga': 2.0,\n",
       "  'segregation_timer': 3.1999999999999886,\n",
       "  'oriC': 2.0,\n",
       "  'terC': 2.0},\n",
       " 0.73: {'volume': 1.6586390916288833,\n",
       "  'G0': 1.0,\n",
       "  'Ga': 2.0,\n",
       "  'segregation_timer': 3.79999999999999,\n",
       "  'oriC': 2.0,\n",
       "  'terC': 2.0},\n",
       " 0.74: {'volume': 1.6701758388567387,\n",
       "  'G0': 1.0,\n",
       "  'Ga': 2.0,\n",
       "  'segregation_timer': 4.3999999999999915,\n",
       "  'oriC': 2.0,\n",
       "  'terC': 2.0},\n",
       " 0.75: {'volume': 1.681792830507429,\n",
       "  'G0': 1.0,\n",
       "  'Ga': 2.0,\n",
       "  'segregation_timer': 4.999999999999993,\n",
       "  'oriC': 2.0,\n",
       "  'terC': 2.0},\n",
       " 0.76: {'volume': 1.6934906247250543,\n",
       "  'G0': 1.0,\n",
       "  'Ga': 2.0,\n",
       "  'segregation_timer': 5.599999999999994,\n",
       "  'oriC': 2.0,\n",
       "  'terC': 2.0},\n",
       " 0.77: {'volume': 1.7052697835359134,\n",
       "  'G0': 1.0,\n",
       "  'Ga': 2.0,\n",
       "  'segregation_timer': 6.199999999999996,\n",
       "  'oriC': 2.0,\n",
       "  'terC': 2.0},\n",
       " 0.78: {'volume': 1.717130872875508,\n",
       "  'G0': 1.0,\n",
       "  'Ga': 2.0,\n",
       "  'segregation_timer': 6.799999999999997,\n",
       "  'oriC': 2.0,\n",
       "  'terC': 2.0},\n",
       " 0.79: {'volume': 1.7290744626157304,\n",
       "  'G0': 1.0,\n",
       "  'Ga': 2.0,\n",
       "  'segregation_timer': 7.399999999999999,\n",
       "  'oriC': 2.0,\n",
       "  'terC': 2.0},\n",
       " 0.8: {'volume': 1.7411011265922482,\n",
       "  'G0': 1.0,\n",
       "  'Ga': 2.0,\n",
       "  'segregation_timer': 7.999999999999993,\n",
       "  'oriC': 2.0,\n",
       "  'terC': 2.0},\n",
       " 0.81: {'volume': 1.75321144263207,\n",
       "  'G0': 1.0,\n",
       "  'Ga': 2.0,\n",
       "  'segregation_timer': 8.599999999999994,\n",
       "  'oriC': 2.0,\n",
       "  'terC': 2.0},\n",
       " 0.8200000000000001: {'volume': 1.7654059925813097,\n",
       "  'G0': 1.0,\n",
       "  'Ga': 2.0,\n",
       "  'segregation_timer': 9.199999999999996,\n",
       "  'oriC': 2.0,\n",
       "  'terC': 2.0},\n",
       " 0.8300000000000001: {'volume': 1.7776853623331408,\n",
       "  'G0': 1.0,\n",
       "  'Ga': 2.0,\n",
       "  'segregation_timer': 9.799999999999997,\n",
       "  'oriC': 2.0,\n",
       "  'terC': 2.0},\n",
       " 0.84: {'volume': 1.790050141855945,\n",
       "  'G0': 1.0,\n",
       "  'Ga': 2.0,\n",
       "  'segregation_timer': 10.399999999999991,\n",
       "  'oriC': 2.0,\n",
       "  'terC': 2.0},\n",
       " 0.85: {'volume': 1.8025009252216606,\n",
       "  'G0': 1.0,\n",
       "  'Ga': 2.0,\n",
       "  'segregation_timer': 10.999999999999993,\n",
       "  'oriC': 2.0,\n",
       "  'terC': 2.0},\n",
       " 0.86: {'volume': 1.8150383106343215,\n",
       "  'G0': 1.0,\n",
       "  'Ga': 2.0,\n",
       "  'segregation_timer': 11.599999999999994,\n",
       "  'oriC': 2.0,\n",
       "  'terC': 2.0},\n",
       " 0.87: {'volume': 1.8276629004588012,\n",
       "  'G0': 1.0,\n",
       "  'Ga': 2.0,\n",
       "  'segregation_timer': 12.199999999999996,\n",
       "  'oriC': 2.0,\n",
       "  'terC': 2.0},\n",
       " 0.88: {'volume': 1.8403753012497501,\n",
       "  'G0': 1.0,\n",
       "  'Ga': 2.0,\n",
       "  'segregation_timer': 12.79999999999999,\n",
       "  'oriC': 2.0,\n",
       "  'terC': 2.0},\n",
       " 0.89: {'volume': 1.8531761237807418,\n",
       "  'G0': 1.0,\n",
       "  'Ga': 2.0,\n",
       "  'segregation_timer': 13.399999999999991,\n",
       "  'oriC': 2.0,\n",
       "  'terC': 2.0},\n",
       " 0.9: {'volume': 1.8660659830736148,\n",
       "  'G0': 1.0,\n",
       "  'Ga': 2.0,\n",
       "  'segregation_timer': 13.999999999999993,\n",
       "  'oriC': 2.0,\n",
       "  'terC': 2.0},\n",
       " 0.91: {'volume': 1.8790454984280234,\n",
       "  'G0': 1.0,\n",
       "  'Ga': 2.0,\n",
       "  'segregation_timer': 14.599999999999994,\n",
       "  'oriC': 2.0,\n",
       "  'terC': 2.0},\n",
       " 0.92: {'volume': 1.892115293451192,\n",
       "  'G0': 1.0,\n",
       "  'Ga': 2.0,\n",
       "  'segregation_timer': 15.199999999999996,\n",
       "  'oriC': 2.0,\n",
       "  'terC': 2.0},\n",
       " 0.93: {'volume': 1.905275996087875,\n",
       "  'G0': 1.0,\n",
       "  'Ga': 2.0,\n",
       "  'segregation_timer': 15.799999999999997,\n",
       "  'oriC': 2.0,\n",
       "  'terC': 2.0},\n",
       " 0.9400000000000001: {'volume': 1.918528238650529,\n",
       "  'G0': 1.0,\n",
       "  'Ga': 2.0,\n",
       "  'segregation_timer': 16.4,\n",
       "  'oriC': 2.0,\n",
       "  'terC': 2.0},\n",
       " 0.9500000000000001: {'volume': 1.931872657849691,\n",
       "  'G0': 1.0,\n",
       "  'Ga': 2.0,\n",
       "  'segregation_timer': 17.0,\n",
       "  'oriC': 2.0,\n",
       "  'terC': 2.0},\n",
       " 0.96: {'volume': 1.945309894824571,\n",
       "  'G0': 1.0,\n",
       "  'Ga': 2.0,\n",
       "  'segregation_timer': 17.599999999999987,\n",
       "  'oriC': 2.0,\n",
       "  'terC': 2.0},\n",
       " 0.97: {'volume': 1.9588405951738534,\n",
       "  'G0': 1.0,\n",
       "  'Ga': 2.0,\n",
       "  'segregation_timer': 18.19999999999999,\n",
       "  'oriC': 2.0,\n",
       "  'terC': 2.0},\n",
       " 0.98: {'volume': 1.9724654089867184,\n",
       "  'G0': 1.0,\n",
       "  'Ga': 2.0,\n",
       "  'segregation_timer': 18.79999999999999,\n",
       "  'oriC': 2.0,\n",
       "  'terC': 2.0},\n",
       " 0.99: {'volume': 1.9861849908740719,\n",
       "  'G0': 1.0,\n",
       "  'Ga': 2.0,\n",
       "  'segregation_timer': 19.39999999999999,\n",
       "  'oriC': 2.0,\n",
       "  'terC': 2.0},\n",
       " 1.0: {'volume': 2.0,\n",
       "  'G0': 1.0,\n",
       "  'Ga': 2.0,\n",
       "  'segregation_timer': 19.999999999999993,\n",
       "  'oriC': 2.0,\n",
       "  'terC': 2.0}}"
      ]
     },
     "execution_count": 5,
     "metadata": {},
     "output_type": "execute_result"
    }
   ],
   "source": [
    "distRes"
   ]
  },
  {
   "cell_type": "code",
   "execution_count": 6,
   "metadata": {},
   "outputs": [
    {
     "data": {
      "text/plain": [
       "[<matplotlib.lines.Line2D at 0x123854ac8>]"
      ]
     },
     "execution_count": 6,
     "metadata": {},
     "output_type": "execute_result"
    },
    {
     "data": {
      "image/png": "[encoded data removed]",
      "text/plain": [
       "<Figure size 432x288 with 1 Axes>"
      ]
     },
     "metadata": {
      "needs_background": "light"
     },
     "output_type": "display_data"
    }
   ],
   "source": [
    "plt.plot(sorted([i for i in distRes]), [distRes[i]['Ga'] for i in sorted([i for i in distRes])])"
   ]
  },
  {
   "cell_type": "code",
   "execution_count": 7,
   "metadata": {},
   "outputs": [
    {
     "data": {
      "text/plain": [
       "[<matplotlib.lines.Line2D at 0x121988048>]"
      ]
     },
     "execution_count": 7,
     "metadata": {},
     "output_type": "execute_result"
    },
    {
     "data": {
      "image/png": "[encoded data removed]",
      "text/plain": [
       "<Figure size 432x288 with 1 Axes>"
      ]
     },
     "metadata": {
      "needs_background": "light"
     },
     "output_type": "display_data"
    }
   ],
   "source": [
    "plt.plot(sorted([i for i in distRes]), [distRes[i]['volume'] for i in sorted([i for i in distRes])])"
   ]
  },
  {
   "cell_type": "code",
   "execution_count": 8,
   "metadata": {},
   "outputs": [
    {
     "data": {
      "text/plain": [
       "[<matplotlib.lines.Line2D at 0x1219e40b8>]"
      ]
     },
     "execution_count": 8,
     "metadata": {},
     "output_type": "execute_result"
    },
    {
     "data": {
      "image/png": "[encoded data removed]",
      "text/plain": [
       "<Figure size 432x288 with 1 Axes>"
      ]
     },
     "metadata": {
      "needs_background": "light"
     },
     "output_type": "display_data"
    }
   ],
   "source": [
    "plt.plot(sorted([i for i in distRes]), [distRes[i]['G0'] for i in sorted([i for i in distRes])])"
   ]
  },
  {
   "cell_type": "code",
   "execution_count": 9,
   "metadata": {},
   "outputs": [
    {
     "data": {
      "text/plain": [
       "[<matplotlib.lines.Line2D at 0x121b12a58>]"
      ]
     },
     "execution_count": 9,
     "metadata": {},
     "output_type": "execute_result"
    },
    {
     "data": {
      "image/png": "[encoded data removed]",
      "text/plain": [
       "<Figure size 432x288 with 1 Axes>"
      ]
     },
     "metadata": {
      "needs_background": "light"
     },
     "output_type": "display_data"
    }
   ],
   "source": [
    "plt.plot(sorted([i for i in distRes]), [distRes[i]['oriC'] for i in sorted([i for i in distRes])])"
   ]
  },
  {
   "cell_type": "code",
   "execution_count": 10,
   "metadata": {},
   "outputs": [
    {
     "data": {
      "text/plain": [
       "[<matplotlib.lines.Line2D at 0x121b767f0>]"
      ]
     },
     "execution_count": 10,
     "metadata": {},
     "output_type": "execute_result"
    },
    {
     "data": {
      "image/png": "[encoded data removed]",
      "text/plain": [
       "<Figure size 432x288 with 1 Axes>"
      ]
     },
     "metadata": {
      "needs_background": "light"
     },
     "output_type": "display_data"
    }
   ],
   "source": [
    "plt.plot(sorted([i for i in distRes]), [distRes[i]['terC'] for i in sorted([i for i in distRes])])"
   ]
  },
  {
   "cell_type": "code",
   "execution_count": 11,
   "metadata": {},
   "outputs": [
    {
     "data": {
      "text/plain": [
       "[<matplotlib.lines.Line2D at 0x12270c0f0>]"
      ]
     },
     "execution_count": 11,
     "metadata": {},
     "output_type": "execute_result"
    },
    {
     "data": {
      "image/png": "[encoded data removed]",
      "text/plain": [
       "<Figure size 432x288 with 1 Axes>"
      ]
     },
     "metadata": {
      "needs_background": "light"
     },
     "output_type": "display_data"
    }
   ],
   "source": [
    "plt.plot(sorted([i for i in distRes]), [distRes[i]['segregation_timer'] for i in sorted([i for i in distRes])])"
   ]
  },
  {
   "cell_type": "code",
   "execution_count": 41,
   "metadata": {},
   "outputs": [],
   "source": [
    "##### Volkmer et al. ####\n",
    "def gr_cellConc(gr_h):\n",
    "    #cell_volume --> fL\n",
    "    cell_volume = -0.53*gr_h**2.0 + 2.41*gr_h + 1.62\n",
    "    #cell_concentration --> mL**-1 * OD**-1\n",
    "    population_cell_concentration = (3.6*10.0**9.0)/cell_volume\n",
    "    return population_cell_concentration"
   ]
  },
  {
   "cell_type": "code",
   "execution_count": 43,
   "metadata": {},
   "outputs": [
    {
     "data": {
      "text/plain": [
       "1337047353.7604458"
      ]
     },
     "execution_count": 43,
     "metadata": {},
     "output_type": "execute_result"
    }
   ],
   "source": [
    "gr_cellConc(0.5)"
   ]
  },
  {
   "cell_type": "code",
   "execution_count": 48,
   "metadata": {},
   "outputs": [
    {
     "data": {
      "text/plain": [
       "[<matplotlib.lines.Line2D at 0x1525f10ac8>]"
      ]
     },
     "execution_count": 48,
     "metadata": {},
     "output_type": "execute_result"
    },
    {
     "data": {
      "image/png": "[encoded data removed]",
      "text/plain": [
       "<Figure size 432x288 with 1 Axes>"
      ]
     },
     "metadata": {
      "needs_background": "light"
     },
     "output_type": "display_data"
    }
   ],
   "source": [
    "plt.plot([i for i in np.arange(0.01, 1.5, 0.01)], [gr_cellConc(i) for i in np.arange(0.01, 1.5, 0.01)])"
   ]
  },
  {
   "cell_type": "code",
   "execution_count": 47,
   "metadata": {},
   "outputs": [],
   "source": [
    "###### calculate the real volume distribution of a population of cells #####\n",
    "#Note to change between hourly and min growth rate --> a = b/np.log(2)"
   ]
  },
  {
   "cell_type": "code",
   "execution_count": 88,
   "metadata": {},
   "outputs": [],
   "source": [
    "#total cell volume = 3.6 uL*OD-1*mL-1\n",
    "\n",
    "gr_h = 0.5\n",
    "C = 40.0\n",
    "D = 20.0\n",
    "\n",
    "#1) calculate the average cell age\n",
    "mean_cell_age = 0.44269504088896355\n",
    "#2) calculate the (measured) mean cell volume\n",
    "measured_cell_volume = -0.53*gr_h**2.0 + 2.41*gr_h + 1.62\n",
    "#3) calculate \n",
    "results = (ctypes.c_double*6)()\n",
    "status = simulator.cell_parameters(ctypes.c_double((np.log(2)/gr_h)*60.0), ctypes.c_double(C), ctypes.c_double(D), ctypes.c_double(mean_cell_age), results)\n",
    "results = [i for i in results]\n",
    "theoretical_cell_volume = results[0]\n",
    "theoretical_cell_volume_adjustment = theoretical_cell_volume/measured_cell_volume"
   ]
  },
  {
   "cell_type": "code",
   "execution_count": 90,
   "metadata": {},
   "outputs": [],
   "source": [
    "for i in distRes:\n",
    "    distRes[i]['physical_volume'] = theoretical_cell_volume_adjustment*distRes[i]['volume']"
   ]
  },
  {
   "cell_type": "code",
   "execution_count": 91,
   "metadata": {},
   "outputs": [
    {
     "data": {
      "text/plain": [
       "{0.0: {'volume': 1.0,\n",
       "  'G0': 1.0,\n",
       "  'Ga': 1.0,\n",
       "  'segregation_timer': 0.0,\n",
       "  'oriC': 2.0,\n",
       "  'terC': 1.0,\n",
       "  'physical_volume': 0.4161271188800432},\n",
       " 0.01: {'volume': 1.0069555500567189,\n",
       "  'G0': 1.0,\n",
       "  'Ga': 1.015,\n",
       "  'segregation_timer': 0.0,\n",
       "  'oriC': 2.0,\n",
       "  'terC': 1.0,\n",
       "  'physical_volume': 0.41902151188537157},\n",
       " 0.02: {'volume': 1.013959479790029,\n",
       "  'G0': 1.0,\n",
       "  'Ga': 1.03,\n",
       "  'segregation_timer': 0.0,\n",
       "  'oriC': 2.0,\n",
       "  'terC': 1.0,\n",
       "  'physical_volume': 0.42193603698613225},\n",
       " 0.03: {'volume': 1.0210121257071934,\n",
       "  'G0': 1.0,\n",
       "  'Ga': 1.045,\n",
       "  'segregation_timer': 0.0,\n",
       "  'oriC': 2.0,\n",
       "  'terC': 1.0,\n",
       "  'physical_volume': 0.4248708342121229},\n",
       " 0.04: {'volume': 1.0281138266560665,\n",
       "  'G0': 1.0,\n",
       "  'Ga': 1.06,\n",
       "  'segregation_timer': 0.0,\n",
       "  'oriC': 2.0,\n",
       "  'terC': 1.0,\n",
       "  'physical_volume': 0.42782604456712514},\n",
       " 0.05: {'volume': 1.0352649238413776,\n",
       "  'G0': 1.0,\n",
       "  'Ga': 1.075,\n",
       "  'segregation_timer': 0.0,\n",
       "  'oriC': 2.0,\n",
       "  'terC': 1.0,\n",
       "  'physical_volume': 0.4308018100356798},\n",
       " 0.06: {'volume': 1.0424657608411214,\n",
       "  'G0': 1.0,\n",
       "  'Ga': 1.09,\n",
       "  'segregation_timer': 0.0,\n",
       "  'oriC': 2.0,\n",
       "  'terC': 1.0,\n",
       "  'physical_volume': 0.433798273589908},\n",
       " 0.07: {'volume': 1.0497166836230674,\n",
       "  'G0': 1.0,\n",
       "  'Ga': 1.105,\n",
       "  'segregation_timer': 0.0,\n",
       "  'oriC': 2.0,\n",
       "  'terC': 1.0,\n",
       "  'physical_volume': 0.43681557919638087},\n",
       " 0.08: {'volume': 1.0570180405613803,\n",
       "  'G0': 1.0,\n",
       "  'Ga': 1.12,\n",
       "  'segregation_timer': 0.0,\n",
       "  'oriC': 2.0,\n",
       "  'terC': 1.0,\n",
       "  'physical_volume': 0.4398538718230358},\n",
       " 0.09: {'volume': 1.06437018245336,\n",
       "  'G0': 1.0,\n",
       "  'Ga': 1.135,\n",
       "  'segregation_timer': 0.0,\n",
       "  'oriC': 2.0,\n",
       "  'terC': 1.0,\n",
       "  'physical_volume': 0.44291329744614266},\n",
       " 0.1: {'volume': 1.0717734625362931,\n",
       "  'G0': 1.0,\n",
       "  'Ga': 1.15,\n",
       "  'segregation_timer': 0.0,\n",
       "  'oriC': 2.0,\n",
       "  'terC': 1.0,\n",
       "  'physical_volume': 0.4459940030573156},\n",
       " 0.11: {'volume': 1.079228236504427,\n",
       "  'G0': 1.0,\n",
       "  'Ga': 1.165,\n",
       "  'segregation_timer': 0.0,\n",
       "  'oriC': 2.0,\n",
       "  'terC': 1.0,\n",
       "  'physical_volume': 0.4490961366705771},\n",
       " 0.12: {'volume': 1.0867348625260582,\n",
       "  'G0': 1.0,\n",
       "  'Ga': 1.18,\n",
       "  'segregation_timer': 0.0,\n",
       "  'oriC': 2.0,\n",
       "  'terC': 1.0,\n",
       "  'physical_volume': 0.45221984732946846},\n",
       " 0.13: {'volume': 1.0942937012607394,\n",
       "  'G0': 1.0,\n",
       "  'Ga': 1.195,\n",
       "  'segregation_timer': 0.0,\n",
       "  'oriC': 2.0,\n",
       "  'terC': 1.0,\n",
       "  'physical_volume': 0.4553652851142102},\n",
       " 0.14: {'volume': 1.1019051158766109,\n",
       "  'G0': 1.0,\n",
       "  'Ga': 1.21,\n",
       "  'segregation_timer': 0.0,\n",
       "  'oriC': 2.0,\n",
       "  'terC': 1.0,\n",
       "  'physical_volume': 0.45853260114891425},\n",
       " 0.15: {'volume': 1.1095694720678448,\n",
       "  'G0': 1.0,\n",
       "  'Ga': 1.225,\n",
       "  'segregation_timer': 0.0,\n",
       "  'oriC': 2.0,\n",
       "  'terC': 1.0,\n",
       "  'physical_volume': 0.4617219476088429},\n",
       " 0.16: {'volume': 1.1172871380722198,\n",
       "  'G0': 1.0,\n",
       "  'Ga': 1.24,\n",
       "  'segregation_timer': 0.0,\n",
       "  'oriC': 2.0,\n",
       "  'terC': 1.0,\n",
       "  'physical_volume': 0.46493347772772187},\n",
       " 0.17: {'volume': 1.1250584846888094,\n",
       "  'G0': 1.0,\n",
       "  'Ga': 1.255,\n",
       "  'segregation_timer': 0.0,\n",
       "  'oriC': 2.0,\n",
       "  'terC': 1.0,\n",
       "  'physical_volume': 0.4681673458051015},\n",
       " 0.18: {'volume': 1.1328838852957985,\n",
       "  'G0': 1.0,\n",
       "  'Ga': 1.27,\n",
       "  'segregation_timer': 0.0,\n",
       "  'oriC': 2.0,\n",
       "  'terC': 1.0,\n",
       "  'physical_volume': 0.47142370721377},\n",
       " 0.19: {'volume': 1.1407637158684238,\n",
       "  'G0': 1.0,\n",
       "  'Ga': 1.2850000000000001,\n",
       "  'segregation_timer': 0.0,\n",
       "  'oriC': 2.0,\n",
       "  'terC': 1.0,\n",
       "  'physical_volume': 0.47470271840721945},\n",
       " 0.2: {'volume': 1.1486983549970349,\n",
       "  'G0': 1.0,\n",
       "  'Ga': 1.3,\n",
       "  'segregation_timer': 0.0,\n",
       "  'oriC': 2.0,\n",
       "  'terC': 1.0,\n",
       "  'physical_volume': 0.4780045369271612},\n",
       " 0.21: {'volume': 1.1566881839052874,\n",
       "  'G0': 1.0,\n",
       "  'Ga': 1.315,\n",
       "  'segregation_timer': 0.0,\n",
       "  'oriC': 2.0,\n",
       "  'terC': 1.0,\n",
       "  'physical_volume': 0.4813293214110968},\n",
       " 0.22: {'volume': 1.1647335864684558,\n",
       "  'G0': 1.0,\n",
       "  'Ga': 1.33,\n",
       "  'segregation_timer': 0.0,\n",
       "  'oriC': 2.0,\n",
       "  'terC': 1.0,\n",
       "  'physical_volume': 0.4846772315999382},\n",
       " 0.23: {'volume': 1.1728349492318788,\n",
       "  'G0': 1.0,\n",
       "  'Ga': 1.345,\n",
       "  'segregation_timer': 0.0,\n",
       "  'oriC': 2.0,\n",
       "  'terC': 1.0,\n",
       "  'physical_volume': 0.4880484283456835},\n",
       " 0.24: {'volume': 1.1809926614295303,\n",
       "  'G0': 1.0,\n",
       "  'Ga': 1.3599999999999999,\n",
       "  'segregation_timer': 0.0,\n",
       "  'oriC': 2.0,\n",
       "  'terC': 1.0,\n",
       "  'physical_volume': 0.4914430736191448},\n",
       " 0.25: {'volume': 1.189207115002721,\n",
       "  'G0': 1.0,\n",
       "  'Ga': 1.375,\n",
       "  'segregation_timer': 0.0,\n",
       "  'oriC': 2.0,\n",
       "  'terC': 1.0,\n",
       "  'physical_volume': 0.4948613305177305},\n",
       " 0.26: {'volume': 1.1974787046189286,\n",
       "  'G0': 1.0,\n",
       "  'Ga': 1.3900000000000001,\n",
       "  'segregation_timer': 0.0,\n",
       "  'oriC': 2.0,\n",
       "  'terC': 1.0,\n",
       "  'physical_volume': 0.49830336327328106},\n",
       " 0.27: {'volume': 1.2058078276907604,\n",
       "  'G0': 1.0,\n",
       "  'Ga': 1.405,\n",
       "  'segregation_timer': 0.0,\n",
       "  'oriC': 2.0,\n",
       "  'terC': 1.0,\n",
       "  'physical_volume': 0.5017693372599598},\n",
       " 0.28: {'volume': 1.214194884395047,\n",
       "  'G0': 1.0,\n",
       "  'Ga': 1.42,\n",
       "  'segregation_timer': 0.0,\n",
       "  'oriC': 2.0,\n",
       "  'terC': 1.0,\n",
       "  'physical_volume': 0.5052594190021981},\n",
       " 0.29: {'volume': 1.2226402776920686,\n",
       "  'G0': 1.0,\n",
       "  'Ga': 1.435,\n",
       "  'segregation_timer': 0.0,\n",
       "  'oriC': 2.0,\n",
       "  'terC': 1.0,\n",
       "  'physical_volume': 0.5087737761826965},\n",
       " 0.3: {'volume': 1.2311444133449163,\n",
       "  'G0': 1.0,\n",
       "  'Ga': 1.45,\n",
       "  'segregation_timer': 0.0,\n",
       "  'oriC': 2.0,\n",
       "  'terC': 1.0,\n",
       "  'physical_volume': 0.5123125776504811},\n",
       " 0.31: {'volume': 1.2397076999389864,\n",
       "  'G0': 1.0,\n",
       "  'Ga': 1.465,\n",
       "  'segregation_timer': 0.0,\n",
       "  'oriC': 2.0,\n",
       "  'terC': 1.0,\n",
       "  'physical_volume': 0.5158759934290156},\n",
       " 0.32: {'volume': 1.2483305489016119,\n",
       "  'G0': 1.0,\n",
       "  'Ga': 1.48,\n",
       "  'segregation_timer': 0.0,\n",
       "  'oriC': 2.0,\n",
       "  'terC': 1.0,\n",
       "  'physical_volume': 0.5194641947243707},\n",
       " 0.33: {'volume': 1.2570133745218282,\n",
       "  'G0': 1.0,\n",
       "  'Ga': 1.495,\n",
       "  'segregation_timer': 0.0,\n",
       "  'oriC': 2.0,\n",
       "  'terC': 1.0,\n",
       "  'physical_volume': 0.5230773539334491},\n",
       " 0.34: {'volume': 1.26575659397028,\n",
       "  'G0': 1.0,\n",
       "  'Ga': 1.51,\n",
       "  'segregation_timer': 0.0,\n",
       "  'oriC': 2.0,\n",
       "  'terC': 1.0,\n",
       "  'physical_volume': 0.5267156446522693},\n",
       " 0.35000000000000003: {'volume': 1.2745606273192622,\n",
       "  'G0': 1.0,\n",
       "  'Ga': 1.5250000000000001,\n",
       "  'segregation_timer': 0.0,\n",
       "  'oriC': 2.0,\n",
       "  'terC': 1.0,\n",
       "  'physical_volume': 0.5303792416843051},\n",
       " 0.36: {'volume': 1.283425897562904,\n",
       "  'G0': 1.0,\n",
       "  'Ga': 1.54,\n",
       "  'segregation_timer': 0.0,\n",
       "  'oriC': 2.0,\n",
       "  'terC': 1.0,\n",
       "  'physical_volume': 0.5340683210488848},\n",
       " 0.37: {'volume': 1.2923528306374923,\n",
       "  'G0': 1.0,\n",
       "  'Ga': 1.555,\n",
       "  'segregation_timer': 0.0,\n",
       "  'oriC': 2.0,\n",
       "  'terC': 1.0,\n",
       "  'physical_volume': 0.5377830599896481},\n",
       " 0.38: {'volume': 1.3013418554419334,\n",
       "  'G0': 1.0,\n",
       "  'Ga': 1.57,\n",
       "  'segregation_timer': 0.0,\n",
       "  'oriC': 2.0,\n",
       "  'terC': 1.0,\n",
       "  'physical_volume': 0.5415236369830614},\n",
       " 0.39: {'volume': 1.3103934038583633,\n",
       "  'G0': 1.0,\n",
       "  'Ga': 1.585,\n",
       "  'segregation_timer': 0.0,\n",
       "  'oriC': 2.0,\n",
       "  'terC': 1.0,\n",
       "  'physical_volume': 0.5452902317469936},\n",
       " 0.4: {'volume': 1.3195079107728942,\n",
       "  'G0': 1.0,\n",
       "  'Ga': 1.6,\n",
       "  'segregation_timer': 0.0,\n",
       "  'oriC': 2.0,\n",
       "  'terC': 1.0,\n",
       "  'physical_volume': 0.5490830252493496},\n",
       " 0.41000000000000003: {'volume': 1.3286858140965114,\n",
       "  'G0': 1.0,\n",
       "  'Ga': 1.615,\n",
       "  'segregation_timer': 0.0,\n",
       "  'oriC': 2.0,\n",
       "  'terC': 1.0,\n",
       "  'physical_volume': 0.552902199716766},\n",
       " 0.42: {'volume': 1.3379275547861122,\n",
       "  'G0': 1.0,\n",
       "  'Ga': 1.63,\n",
       "  'segregation_timer': 0.0,\n",
       "  'oriC': 2.0,\n",
       "  'terC': 1.0,\n",
       "  'physical_volume': 0.556747938643366},\n",
       " 0.43: {'volume': 1.3472335768656902,\n",
       "  'G0': 1.0,\n",
       "  'Ga': 1.645,\n",
       "  'segregation_timer': 0.0,\n",
       "  'oriC': 2.0,\n",
       "  'terC': 1.0,\n",
       "  'physical_volume': 0.5606204267995749},\n",
       " 0.44: {'volume': 1.356604327447672,\n",
       "  'G0': 1.0,\n",
       "  'Ga': 1.66,\n",
       "  'segregation_timer': 0.0,\n",
       "  'oriC': 2.0,\n",
       "  'terC': 1.0,\n",
       "  'physical_volume': 0.5645198502409985},\n",
       " 0.45: {'volume': 1.3660402567543954,\n",
       "  'G0': 1.0,\n",
       "  'Ga': 1.675,\n",
       "  'segregation_timer': 0.0,\n",
       "  'oriC': 2.0,\n",
       "  'terC': 1.0,\n",
       "  'physical_volume': 0.568446396317361},\n",
       " 0.46: {'volume': 1.3755418181397436,\n",
       "  'G0': 1.0,\n",
       "  'Ga': 1.69,\n",
       "  'segregation_timer': 0.0,\n",
       "  'oriC': 2.0,\n",
       "  'terC': 1.0,\n",
       "  'physical_volume': 0.5724002536815079},\n",
       " 0.47000000000000003: {'volume': 1.3851094681109246,\n",
       "  'G0': 1.0,\n",
       "  'Ga': 1.705,\n",
       "  'segregation_timer': 0.0,\n",
       "  'oriC': 2.0,\n",
       "  'terC': 1.0,\n",
       "  'physical_volume': 0.5763816122984682},\n",
       " 0.48: {'volume': 1.3947436663504054,\n",
       "  'G0': 1.0,\n",
       "  'Ga': 1.72,\n",
       "  'segregation_timer': 0.0,\n",
       "  'oriC': 2.0,\n",
       "  'terC': 1.0,\n",
       "  'physical_volume': 0.5803906634545825},\n",
       " 0.49: {'volume': 1.4044448757379973,\n",
       "  'G0': 1.0,\n",
       "  'Ga': 1.7349999999999999,\n",
       "  'segregation_timer': 0.0,\n",
       "  'oriC': 2.0,\n",
       "  'terC': 1.0,\n",
       "  'physical_volume': 0.5844275997666931},\n",
       " 0.5: {'volume': 1.4142135623730951,\n",
       "  'G0': 1.0,\n",
       "  'Ga': 1.75,\n",
       "  'segregation_timer': 0.0,\n",
       "  'oriC': 2.0,\n",
       "  'terC': 1.0,\n",
       "  'physical_volume': 0.5884926151913984},\n",
       " 0.51: {'volume': 1.4240501955970717,\n",
       "  'G0': 1.0,\n",
       "  'Ga': 1.7650000000000001,\n",
       "  'segregation_timer': 0.0,\n",
       "  'oriC': 2.0,\n",
       "  'terC': 1.0,\n",
       "  'physical_volume': 0.5925859050343715},\n",
       " 0.52: {'volume': 1.4339552480158273,\n",
       "  'G0': 1.0,\n",
       "  'Ga': 1.78,\n",
       "  'segregation_timer': 0.0,\n",
       "  'oriC': 2.0,\n",
       "  'terC': 1.0,\n",
       "  'physical_volume': 0.596707665959744},\n",
       " 0.53: {'volume': 1.4439291955224962,\n",
       "  'G0': 1.0,\n",
       "  'Ga': 1.795,\n",
       "  'segregation_timer': 0.0,\n",
       "  'oriC': 2.0,\n",
       "  'terC': 1.0,\n",
       "  'physical_volume': 0.600858095999555},\n",
       " 0.54: {'volume': 1.4539725173203106,\n",
       "  'G0': 1.0,\n",
       "  'Ga': 1.81,\n",
       "  'segregation_timer': 0.0,\n",
       "  'oriC': 2.0,\n",
       "  'terC': 1.0,\n",
       "  'physical_volume': 0.6050373945632646},\n",
       " 0.55: {'volume': 1.4640856959456254,\n",
       "  'G0': 1.0,\n",
       "  'Ga': 1.825,\n",
       "  'segregation_timer': 0.0,\n",
       "  'oriC': 2.0,\n",
       "  'terC': 1.0,\n",
       "  'physical_volume': 0.6092457624473361},\n",
       " 0.56: {'volume': 1.474269217291101,\n",
       "  'G0': 1.0,\n",
       "  'Ga': 1.84,\n",
       "  'segregation_timer': 0.0,\n",
       "  'oriC': 2.0,\n",
       "  'terC': 1.0,\n",
       "  'physical_volume': 0.6134834018448823},\n",
       " 0.5700000000000001: {'volume': 1.4845235706290492,\n",
       "  'G0': 1.0,\n",
       "  'Ga': 1.855,\n",
       "  'segregation_timer': 0.0,\n",
       "  'oriC': 2.0,\n",
       "  'terC': 1.0,\n",
       "  'physical_volume': 0.6177505163553806},\n",
       " 0.58: {'volume': 1.4948492486349383,\n",
       "  'G0': 1.0,\n",
       "  'Ga': 1.8699999999999999,\n",
       "  'segregation_timer': 0.0,\n",
       "  'oriC': 2.0,\n",
       "  'terC': 1.0,\n",
       "  'physical_volume': 0.6220473109944542},\n",
       " 0.59: {'volume': 1.5052467474110673,\n",
       "  'G0': 1.0,\n",
       "  'Ga': 1.885,\n",
       "  'segregation_timer': 0.0,\n",
       "  'oriC': 2.0,\n",
       "  'terC': 1.0,\n",
       "  'physical_volume': 0.6263739922037236},\n",
       " 0.6: {'volume': 1.5157165665103982,\n",
       "  'G0': 1.0,\n",
       "  'Ga': 1.9,\n",
       "  'segregation_timer': 0.0,\n",
       "  'oriC': 2.0,\n",
       "  'terC': 1.0,\n",
       "  'physical_volume': 0.6307307678607235},\n",
       " 0.61: {'volume': 1.5262592089605589,\n",
       "  'G0': 1.0,\n",
       "  'Ga': 1.915,\n",
       "  'segregation_timer': 0.0,\n",
       "  'oriC': 2.0,\n",
       "  'terC': 1.0,\n",
       "  'physical_volume': 0.6351178472888912},\n",
       " 0.62: {'volume': 1.5368751812880124,\n",
       "  'G0': 1.0,\n",
       "  'Ga': 1.9300000000000002,\n",
       "  'segregation_timer': 0.0,\n",
       "  'oriC': 2.0,\n",
       "  'terC': 1.0,\n",
       "  'physical_volume': 0.6395354412676247},\n",
       " 0.63: {'volume': 1.5475649935423899,\n",
       "  'G0': 1.0,\n",
       "  'Ga': 1.9449999999999998,\n",
       "  'segregation_timer': 0.0,\n",
       "  'oriC': 2.0,\n",
       "  'terC': 1.0,\n",
       "  'physical_volume': 0.6439837620424074},\n",
       " 0.64: {'volume': 1.5583291593209998,\n",
       "  'G0': 1.0,\n",
       "  'Ga': 1.96,\n",
       "  'segregation_timer': 0.0,\n",
       "  'oriC': 2.0,\n",
       "  'terC': 1.0,\n",
       "  'physical_volume': 0.6484630233350075},\n",
       " 0.65: {'volume': 1.5691681957935013,\n",
       "  'G0': 1.0,\n",
       "  'Ga': 1.975,\n",
       "  'segregation_timer': 0.0,\n",
       "  'oriC': 2.0,\n",
       "  'terC': 1.0,\n",
       "  'physical_volume': 0.6529734403537453},\n",
       " 0.66: {'volume': 1.5800826237267542,\n",
       "  'G0': 1.0,\n",
       "  'Ga': 1.99,\n",
       "  'segregation_timer': 0.0,\n",
       "  'oriC': 2.0,\n",
       "  'terC': 1.0,\n",
       "  'physical_volume': 0.6575152298038337},\n",
       " 0.67: {'volume': 1.5910729675098374,\n",
       "  'G0': 1.0,\n",
       "  'Ga': 2.0,\n",
       "  'segregation_timer': 0.19999999999999574,\n",
       "  'oriC': 2.0,\n",
       "  'terC': 2.0,\n",
       "  'physical_volume': 0.6620886098977893},\n",
       " 0.68: {'volume': 1.6021397551792442,\n",
       "  'G0': 1.0,\n",
       "  'Ga': 2.0,\n",
       "  'segregation_timer': 0.7999999999999972,\n",
       "  'oriC': 2.0,\n",
       "  'terC': 2.0,\n",
       "  'physical_volume': 0.6666938003659167},\n",
       " 0.6900000000000001: {'volume': 1.6132835184442529,\n",
       "  'G0': 1.0,\n",
       "  'Ga': 2.0,\n",
       "  'segregation_timer': 1.3999999999999986,\n",
       "  'oriC': 2.0,\n",
       "  'terC': 2.0,\n",
       "  'physical_volume': 0.671331022466866},\n",
       " 0.7000000000000001: {'volume': 1.624504792712471,\n",
       "  'G0': 1.0,\n",
       "  'Ga': 2.0,\n",
       "  'segregation_timer': 2.0,\n",
       "  'oriC': 2.0,\n",
       "  'terC': 2.0,\n",
       "  'physical_volume': 0.6760004989982624},\n",
       " 0.71: {'volume': 1.6358041171155622,\n",
       "  'G0': 1.0,\n",
       "  'Ga': 2.0,\n",
       "  'segregation_timer': 2.599999999999987,\n",
       "  'oriC': 2.0,\n",
       "  'terC': 2.0,\n",
       "  'physical_volume': 0.6807024543074117},\n",
       " 0.72: {'volume': 1.647182034535146,\n",
       "  'G0': 1.0,\n",
       "  'Ga': 2.0,\n",
       "  'segregation_timer': 3.1999999999999886,\n",
       "  'oriC': 2.0,\n",
       "  'terC': 2.0,\n",
       "  'physical_volume': 0.6854371143020782},\n",
       " 0.73: {'volume': 1.6586390916288833,\n",
       "  'G0': 1.0,\n",
       "  'Ga': 2.0,\n",
       "  'segregation_timer': 3.79999999999999,\n",
       "  'oriC': 2.0,\n",
       "  'terC': 2.0,\n",
       "  'physical_volume': 0.6902047064613392},\n",
       " 0.74: {'volume': 1.6701758388567387,\n",
       "  'G0': 1.0,\n",
       "  'Ga': 2.0,\n",
       "  'segregation_timer': 4.3999999999999915,\n",
       "  'oriC': 2.0,\n",
       "  'terC': 2.0,\n",
       "  'physical_volume': 0.6950054598465141},\n",
       " 0.75: {'volume': 1.681792830507429,\n",
       "  'G0': 1.0,\n",
       "  'Ga': 2.0,\n",
       "  'segregation_timer': 4.999999999999993,\n",
       "  'oriC': 2.0,\n",
       "  'terC': 2.0,\n",
       "  'physical_volume': 0.6998396051121692},\n",
       " 0.76: {'volume': 1.6934906247250543,\n",
       "  'G0': 1.0,\n",
       "  'Ga': 2.0,\n",
       "  'segregation_timer': 5.599999999999994,\n",
       "  'oriC': 2.0,\n",
       "  'terC': 2.0,\n",
       "  'physical_volume': 0.7047073745172013},\n",
       " 0.77: {'volume': 1.7052697835359134,\n",
       "  'G0': 1.0,\n",
       "  'Ga': 2.0,\n",
       "  'segregation_timer': 6.199999999999996,\n",
       "  'oriC': 2.0,\n",
       "  'terC': 2.0,\n",
       "  'physical_volume': 0.7096090019359946},\n",
       " 0.78: {'volume': 1.717130872875508,\n",
       "  'G0': 1.0,\n",
       "  'Ga': 2.0,\n",
       "  'segregation_timer': 6.799999999999997,\n",
       "  'oriC': 2.0,\n",
       "  'terC': 2.0,\n",
       "  'physical_volume': 0.7145447228696589},\n",
       " 0.79: {'volume': 1.7290744626157304,\n",
       "  'G0': 1.0,\n",
       "  'Ga': 2.0,\n",
       "  'segregation_timer': 7.399999999999999,\n",
       "  'oriC': 2.0,\n",
       "  'terC': 2.0,\n",
       "  'physical_volume': 0.7195147744573429},\n",
       " 0.8: {'volume': 1.7411011265922482,\n",
       "  'G0': 1.0,\n",
       "  'Ga': 2.0,\n",
       "  'segregation_timer': 7.999999999999993,\n",
       "  'oriC': 2.0,\n",
       "  'terC': 2.0,\n",
       "  'physical_volume': 0.7245193954876297},\n",
       " 0.81: {'volume': 1.75321144263207,\n",
       "  'G0': 1.0,\n",
       "  'Ga': 2.0,\n",
       "  'segregation_timer': 8.599999999999994,\n",
       "  'oriC': 2.0,\n",
       "  'terC': 2.0,\n",
       "  'physical_volume': 0.7295588264100075},\n",
       " 0.8200000000000001: {'volume': 1.7654059925813097,\n",
       "  'G0': 1.0,\n",
       "  'Ga': 2.0,\n",
       "  'segregation_timer': 9.199999999999996,\n",
       "  'oriC': 2.0,\n",
       "  'terC': 2.0,\n",
       "  'physical_volume': 0.7346333093464233},\n",
       " 0.8300000000000001: {'volume': 1.7776853623331408,\n",
       "  'G0': 1.0,\n",
       "  'Ga': 2.0,\n",
       "  'segregation_timer': 9.799999999999997,\n",
       "  'oriC': 2.0,\n",
       "  'terC': 2.0,\n",
       "  'physical_volume': 0.7397430881029156},\n",
       " 0.84: {'volume': 1.790050141855945,\n",
       "  'G0': 1.0,\n",
       "  'Ga': 2.0,\n",
       "  'segregation_timer': 10.399999999999991,\n",
       "  'oriC': 2.0,\n",
       "  'terC': 2.0,\n",
       "  'physical_volume': 0.7448884081813271},\n",
       " 0.85: {'volume': 1.8025009252216606,\n",
       "  'G0': 1.0,\n",
       "  'Ga': 2.0,\n",
       "  'segregation_timer': 10.999999999999993,\n",
       "  'oriC': 2.0,\n",
       "  'terC': 2.0,\n",
       "  'physical_volume': 0.7500695167911019},\n",
       " 0.86: {'volume': 1.8150383106343215,\n",
       "  'G0': 1.0,\n",
       "  'Ga': 2.0,\n",
       "  'segregation_timer': 11.599999999999994,\n",
       "  'oriC': 2.0,\n",
       "  'terC': 2.0,\n",
       "  'physical_volume': 0.7552866628611611},\n",
       " 0.87: {'volume': 1.8276629004588012,\n",
       "  'G0': 1.0,\n",
       "  'Ga': 2.0,\n",
       "  'segregation_timer': 12.199999999999996,\n",
       "  'oriC': 2.0,\n",
       "  'terC': 2.0,\n",
       "  'physical_volume': 0.7605400970518642},\n",
       " 0.88: {'volume': 1.8403753012497501,\n",
       "  'G0': 1.0,\n",
       "  'Ga': 2.0,\n",
       "  'segregation_timer': 12.79999999999999,\n",
       "  'oriC': 2.0,\n",
       "  'terC': 2.0,\n",
       "  'physical_volume': 0.7658300717670501},\n",
       " 0.89: {'volume': 1.8531761237807418,\n",
       "  'G0': 1.0,\n",
       "  'Ga': 2.0,\n",
       "  'segregation_timer': 13.399999999999991,\n",
       "  'oriC': 2.0,\n",
       "  'terC': 2.0,\n",
       "  'physical_volume': 0.7711568411661665},\n",
       " 0.9: {'volume': 1.8660659830736148,\n",
       "  'G0': 1.0,\n",
       "  'Ga': 2.0,\n",
       "  'segregation_timer': 13.999999999999993,\n",
       "  'oriC': 2.0,\n",
       "  'terC': 2.0,\n",
       "  'physical_volume': 0.7765206611764789},\n",
       " 0.91: {'volume': 1.8790454984280234,\n",
       "  'G0': 1.0,\n",
       "  'Ga': 2.0,\n",
       "  'segregation_timer': 14.599999999999994,\n",
       "  'oriC': 2.0,\n",
       "  'terC': 2.0,\n",
       "  'physical_volume': 0.7819217895053682},\n",
       " 0.92: {'volume': 1.892115293451192,\n",
       "  'G0': 1.0,\n",
       "  'Ga': 2.0,\n",
       "  'segregation_timer': 15.199999999999996,\n",
       "  'oriC': 2.0,\n",
       "  'terC': 2.0,\n",
       "  'physical_volume': 0.787360485652712},\n",
       " 0.93: {'volume': 1.905275996087875,\n",
       "  'G0': 1.0,\n",
       "  'Ga': 2.0,\n",
       "  'segregation_timer': 15.799999999999997,\n",
       "  'oriC': 2.0,\n",
       "  'terC': 2.0,\n",
       "  'physical_volume': 0.7928370109233519},\n",
       " 0.9400000000000001: {'volume': 1.918528238650529,\n",
       "  'G0': 1.0,\n",
       "  'Ga': 2.0,\n",
       "  'segregation_timer': 16.4,\n",
       "  'oriC': 2.0,\n",
       "  'terC': 2.0,\n",
       "  'physical_volume': 0.7983516284396486},\n",
       " 0.9500000000000001: {'volume': 1.931872657849691,\n",
       "  'G0': 1.0,\n",
       "  'Ga': 2.0,\n",
       "  'segregation_timer': 17.0,\n",
       "  'oriC': 2.0,\n",
       "  'terC': 2.0,\n",
       "  'physical_volume': 0.8039046031541234},\n",
       " 0.96: {'volume': 1.945309894824571,\n",
       "  'G0': 1.0,\n",
       "  'Ga': 2.0,\n",
       "  'segregation_timer': 17.599999999999987,\n",
       "  'oriC': 2.0,\n",
       "  'terC': 2.0,\n",
       "  'physical_volume': 0.8094962018621886},\n",
       " 0.97: {'volume': 1.9588405951738534,\n",
       "  'G0': 1.0,\n",
       "  'Ga': 2.0,\n",
       "  'segregation_timer': 18.19999999999999,\n",
       "  'oriC': 2.0,\n",
       "  'terC': 2.0,\n",
       "  'physical_volume': 0.8151266932149648},\n",
       " 0.98: {'volume': 1.9724654089867184,\n",
       "  'G0': 1.0,\n",
       "  'Ga': 2.0,\n",
       "  'segregation_timer': 18.79999999999999,\n",
       "  'oriC': 2.0,\n",
       "  'terC': 2.0,\n",
       "  'physical_volume': 0.8207963477321892},\n",
       " 0.99: {'volume': 1.9861849908740719,\n",
       "  'G0': 1.0,\n",
       "  'Ga': 2.0,\n",
       "  'segregation_timer': 19.39999999999999,\n",
       "  'oriC': 2.0,\n",
       "  'terC': 2.0,\n",
       "  'physical_volume': 0.8265054378152125},\n",
       " 1.0: {'volume': 2.0,\n",
       "  'G0': 1.0,\n",
       "  'Ga': 2.0,\n",
       "  'segregation_timer': 19.999999999999993,\n",
       "  'oriC': 2.0,\n",
       "  'terC': 2.0,\n",
       "  'physical_volume': 0.8322542377600864}}"
      ]
     },
     "execution_count": 91,
     "metadata": {},
     "output_type": "execute_result"
    }
   ],
   "source": [
    "distRes"
   ]
  },
  {
   "cell_type": "code",
   "execution_count": 92,
   "metadata": {},
   "outputs": [
    {
     "data": {
      "text/plain": [
       "[<matplotlib.lines.Line2D at 0x1a2f88e390>]"
      ]
     },
     "execution_count": 92,
     "metadata": {},
     "output_type": "execute_result"
    },
    {
     "data": {
      "image/png": "[encoded data removed]",
      "text/plain": [
       "<Figure size 432x288 with 1 Axes>"
      ]
     },
     "metadata": {
      "needs_background": "light"
     },
     "output_type": "display_data"
    }
   ],
   "source": [
    "plt.plot(sorted([i for i in distRes]), [distRes[i]['physical_volume'] for i in sorted([i for i in distRes])])"
   ]
  },
  {
   "cell_type": "code",
   "execution_count": 180,
   "metadata": {},
   "outputs": [
    {
     "data": {
      "text/plain": [
       "[<matplotlib.lines.Line2D at 0x1a33987978>]"
      ]
     },
     "execution_count": 180,
     "metadata": {},
     "output_type": "execute_result"
    },
    {
     "data": {
      "image/png": "[encoded data removed]",
      "text/plain": [
       "<Figure size 432x288 with 1 Axes>"
      ]
     },
     "metadata": {
      "needs_background": "light"
     },
     "output_type": "display_data"
    }
   ],
   "source": [
    "#plt.plot(Ga, [(i/max(weights))*100.0 for i in weights])\n",
    "plt.plot(Ga, [i/max(weights) for i in weights])"
   ]
  },
  {
   "cell_type": "code",
   "execution_count": 250,
   "metadata": {},
   "outputs": [
    {
     "data": {
      "text/plain": [
       "[<matplotlib.lines.Line2D at 0x1a34aec9b0>]"
      ]
     },
     "execution_count": 250,
     "metadata": {},
     "output_type": "execute_result"
    },
    {
     "data": {
      "image/png": "[encoded data removed]",
      "text/plain": [
       "<Figure size 432x288 with 1 Axes>"
      ]
     },
     "metadata": {
      "needs_background": "light"
     },
     "output_type": "display_data"
    }
   ],
   "source": [
    "plt.plot(age_array, [(i/max(weights))*100.0 for i in weights])"
   ]
  },
  {
   "cell_type": "code",
   "execution_count": null,
   "metadata": {},
   "outputs": [],
   "source": [
    "#### need to plot the histogram of cell number distributions ####"
   ]
  },
  {
   "cell_type": "code",
   "execution_count": 60,
   "metadata": {},
   "outputs": [],
   "source": [
    "##### trying to use the mean population adjusted cell volume to calculate cell count\n",
    "gr_h = 0.6931471805599453\n",
    "C = 40.0\n",
    "D = 20.0\n",
    "def popCellCount_meanPop(gr_h, C=40.0, D=20.0):\n",
    "    #1) calculate the average cell age\n",
    "    mean_cell_age = 0.44269504088896355\n",
    "    #2) calculate the (measured) mean cell volume\n",
    "    measured_mean_cell_volume = -0.53*gr_h**2.0 + 2.41*gr_h + 1.62\n",
    "    print('################ GR '+str(gr_h)+' ########## ('+str((np.log(2)/gr_h)*60.0)+') #####')\n",
    "    print('Measured mean cell volume: '+str(measured_mean_cell_volume))\n",
    "    #3) calculate \n",
    "    #results = (ctypes.c_double*6)()\n",
    "    #status = simulator.cell_parameters(ctypes.c_double((np.log(2)/gr_h)*60.0), ctypes.c_double(C), ctypes.c_double(D), ctypes.c_double(mean_cell_age), results)\n",
    "    #results = [i for i in results]\n",
    "    #theoretical_cell_volume = results[0]\n",
    "    #print('Theoretical Cell Volume: '+str(theoretical_cell_volume))\n",
    "    #theoretical_cell_volume_adjustment = theoretical_cell_volume/measured_cell_volume\n",
    "    #print('Cell Volume Adjustment: '+str(theoretical_cell_volume_adjustment))\n",
    "    #### adjust for the different \n",
    "    age_array = np.arange(0.0, 1.0, 0.0001)\n",
    "    weights = []\n",
    "    for i in age_array:\n",
    "        weights.append(integrate.quad(ageDistFunc, i, i+0.0001)[0])\n",
    "    #### calculate the physical volume ###\n",
    "    theoretical_cell_volume = []\n",
    "    Ga = []\n",
    "    for i in age_array:\n",
    "        results = (ctypes.c_double*6)()\n",
    "        status = simulator.cell_parameters(ctypes.c_double((np.log(2)/gr_h)*60.0), ctypes.c_double(C), ctypes.c_double(D), ctypes.c_double(i), results)\n",
    "        results = [i for i in results]\n",
    "        theoretical_cell_volume.append(results[0])\n",
    "        Ga.append(results[2])\n",
    "\n",
    "    print('Theoretical mean cell volume: '+str(np.mean(theoretical_cell_volume)))\n",
    "    if measured_mean_cell_volume>=np.mean(theoretical_cell_volume):\n",
    "        theoretical_cell_volume_adjustment = measured_mean_cell_volume/np.mean(theoretical_cell_volume)\n",
    "    elif np.mean(theoretical_cell_volume)>measured_mean_cell_volume:\n",
    "        theoretical_cell_volume_adjustment = measured_mean_cell_volume*np.mean(theoretical_cell_volume)\n",
    "    print('Cell volume adjustment: '+str(theoretical_cell_volume_adjustment))   \n",
    "\n",
    "    physical_cell_volume = [i*theoretical_cell_volume_adjustment for i in theoretical_cell_volume]\n",
    "\n",
    "    print('Physical mean cell volume: '+str(np.mean(physical_cell_volume)))\n",
    "\n",
    "    #cell_concentration --> mL**-1 * OD**-1\n",
    "    #population_cell_concentration = (3.6*10.0**9.0)/measured_mean_cell_volume\n",
    "    population_cell_concentration = (3.6*10.0**9.0)/np.mean(physical_cell_volume)\n",
    "    print('Old: 8 * 10^8 * mL-1 * OD-1 ')\n",
    "    print('New: '+str(population_cell_concentration/10.0**8.0)+' * 10^8 * mL-1 * OD-1')\n",
    "    return population_cell_concentration"
   ]
  },
  {
   "cell_type": "code",
   "execution_count": 324,
   "metadata": {},
   "outputs": [
    {
     "name": "stdout",
     "output_type": "stream",
     "text": [
      "################ GR 0.1 ########## (415.8883083359671) #####\n",
      "Measured mean cell volume: 1.8557000000000001\n",
      "Theoretical mean cell volume: 0.7971846724674538\n",
      "Cell volume adjustment: 2.327816958969142\n",
      "Physical mean cell volume: 1.8557\n",
      "Old: 8 * 10^8 * mL-1 * OD-1 \n",
      "New: 19.39968744947998 * 10^8 * mL-1 * OD-1\n",
      "################ GR 0.30000000000000004 ########## (138.62943611198904) #####\n",
      "Measured mean cell volume: 2.2953\n",
      "Theoretical mean cell volume: 0.9736835577147598\n",
      "Cell volume adjustment: 2.357336715623586\n",
      "Physical mean cell volume: 2.2953\n",
      "Old: 8 * 10^8 * mL-1 * OD-1 \n",
      "New: 15.684224284407264 * 10^8 * mL-1 * OD-1\n",
      "################ GR 0.5000000000000001 ########## (83.17766166719342) #####\n",
      "Measured mean cell volume: 2.6925000000000003\n",
      "Theoretical mean cell volume: 1.1892597829680147\n",
      "Cell volume adjustment: 2.2640133287618416\n",
      "Physical mean cell volume: 2.6925\n",
      "Old: 8 * 10^8 * mL-1 * OD-1 \n",
      "New: 13.370473537604457 * 10^8 * mL-1 * OD-1\n",
      "################ GR 0.7000000000000001 ########## (59.41261547656673) #####\n",
      "Measured mean cell volume: 3.0473000000000003\n",
      "Theoretical mean cell volume: 1.4525651790860978\n",
      "Cell volume adjustment: 2.0978748794716755\n",
      "Physical mean cell volume: 3.047300000000001\n",
      "Old: 8 * 10^8 * mL-1 * OD-1 \n",
      "New: 11.813736750566072 * 10^8 * mL-1 * OD-1\n",
      "################ GR 0.9000000000000001 ########## (46.20981203732968) #####\n",
      "Measured mean cell volume: 3.3597\n",
      "Theoretical mean cell volume: 1.7741671161431811\n",
      "Cell volume adjustment: 1.8936773032427578\n",
      "Physical mean cell volume: 3.3597\n",
      "Old: 8 * 10^8 * mL-1 * OD-1 \n",
      "New: 10.715242432360032 * 10^8 * mL-1 * OD-1\n",
      "################ GR 1.1000000000000003 ########## (37.80802803054246) #####\n",
      "Measured mean cell volume: 3.6297000000000006\n",
      "Theoretical mean cell volume: 2.166972609094356\n",
      "Cell volume adjustment: 1.6750096354549506\n",
      "Physical mean cell volume: 3.6297000000000006\n",
      "Old: 8 * 10^8 * mL-1 * OD-1 \n",
      "New: 9.918175055789733 * 10^8 * mL-1 * OD-1\n",
      "################ GR 1.3000000000000003 ########## (31.99140833353593) #####\n",
      "Measured mean cell volume: 3.8573000000000004\n",
      "Theoretical mean cell volume: 2.6467463216053866\n",
      "Cell volume adjustment: 1.4573742744111386\n",
      "Physical mean cell volume: 3.8573\n",
      "Old: 8 * 10^8 * mL-1 * OD-1 \n",
      "New: 9.332953101910663 * 10^8 * mL-1 * OD-1\n",
      "################ GR 1.5000000000000004 ########## (27.725887222397805) #####\n",
      "Measured mean cell volume: 4.0425\n",
      "Theoretical mean cell volume: 3.2327432573591026\n",
      "Cell volume adjustment: 1.2504859427972037\n",
      "Physical mean cell volume: 4.042500000000001\n",
      "Old: 8 * 10^8 * mL-1 * OD-1 \n",
      "New: 8.90538033395176 * 10^8 * mL-1 * OD-1\n",
      "################ GR 1.7000000000000004 ########## (24.464018137409827) #####\n",
      "Measured mean cell volume: 4.185300000000001\n",
      "Theoretical mean cell volume: 3.9484815309621\n",
      "Cell volume adjustment: 1.059977099343351\n",
      "Physical mean cell volume: 4.185300000000001\n",
      "Old: 8 * 10^8 * mL-1 * OD-1 \n",
      "New: 8.601533940219339 * 10^8 * mL-1 * OD-1\n",
      "################ GR 1.9000000000000004 ########## (21.88885833347195) #####\n",
      "Measured mean cell volume: 4.285700000000001\n",
      "Theoretical mean cell volume: 4.822686232461598\n",
      "Cell volume adjustment: 20.668586386460678\n",
      "Physical mean cell volume: 99.67810701042717\n",
      "Old: 8 * 10^8 * mL-1 * OD-1 \n",
      "New: 0.3611625569517898 * 10^8 * mL-1 * OD-1\n",
      "################ GR 2.1000000000000005 ########## (19.804205158855574) #####\n",
      "Measured mean cell volume: 4.3437\n",
      "Theoretical mean cell volume: 5.890442266069677\n",
      "Cell volume adjustment: 25.586314071126857\n",
      "Physical mean cell volume: 150.71470583749894\n",
      "Old: 8 * 10^8 * mL-1 * OD-1 \n",
      "New: 0.2388618934028595 * 10^8 * mL-1 * OD-1\n",
      "################ GR 2.3000000000000007 ########## (18.08210036243335) #####\n",
      "Measured mean cell volume: 4.3593\n",
      "Theoretical mean cell volume: 7.194602430560744\n",
      "Cell volume adjustment: 31.36343037554345\n",
      "Physical mean cell volume: 225.64741241060756\n",
      "Old: 8 * 10^8 * mL-1 * OD-1 \n",
      "New: 0.15954093873893527 * 10^8 * mL-1 * OD-1\n",
      "################ GR 2.5000000000000004 ########## (16.635532333438682) #####\n",
      "Measured mean cell volume: 4.3325000000000005\n",
      "Theoretical mean cell volume: 8.787507252552755\n",
      "Cell volume adjustment: 38.071875171684816\n",
      "Physical mean cell volume: 334.5568791894635\n",
      "Old: 8 * 10^8 * mL-1 * OD-1 \n",
      "New: 0.10760502096748929 * 10^8 * mL-1 * OD-1\n",
      "################ GR 2.7000000000000006 ########## (15.403270679109891) #####\n",
      "Measured mean cell volume: 4.263299999999999\n",
      "Theoretical mean cell volume: 10.733085595620432\n",
      "Cell volume adjustment: 45.75836381980858\n",
      "Physical mean cell volume: 491.12843559354656\n",
      "Old: 8 * 10^8 * mL-1 * OD-1 \n",
      "New: 0.07330058166249871 * 10^8 * mL-1 * OD-1\n",
      "################ GR 2.900000000000001 ########## (14.340976149516106) #####\n",
      "Measured mean cell volume: 4.1517\n",
      "Theoretical mean cell volume: 13.109420350059983\n",
      "Cell volume adjustment: 54.42638046734403\n",
      "Physical mean cell volume: 713.4982996787071\n",
      "Old: 8 * 10^8 * mL-1 * OD-1 \n",
      "New: 0.05045562129049366 * 10^8 * mL-1 * OD-1\n",
      "################ GR 3.1000000000000005 ########## (13.415751881805392) #####\n",
      "Measured mean cell volume: 3.9977\n",
      "Theoretical mean cell volume: 16.011882173444313\n",
      "Cell volume adjustment: 64.01070136477833\n",
      "Physical mean cell volume: 1024.931808092362\n",
      "Old: 8 * 10^8 * mL-1 * OD-1 \n",
      "New: 0.03512428799239281 * 10^8 * mL-1 * OD-1\n",
      "################ GR 3.3000000000000007 ########## (12.60267601018082) #####\n",
      "Measured mean cell volume: 3.8012999999999995\n",
      "Theoretical mean cell volume: 19.556957049980554\n",
      "Cell volume adjustment: 74.34186083409107\n",
      "Physical mean cell volume: 1453.9005793479505\n",
      "Old: 8 * 10^8 * mL-1 * OD-1 \n",
      "New: 0.024760977821568365 * 10^8 * mL-1 * OD-1\n",
      "################ GR 3.500000000000001 ########## (11.882523095313346) #####\n",
      "Measured mean cell volume: 3.5624999999999982\n",
      "Theoretical mean cell volume: 23.886921282066226\n",
      "Cell volume adjustment: 85.09715706736088\n",
      "Physical mean cell volume: 2032.7090921956749\n",
      "Old: 8 * 10^8 * mL-1 * OD-1 \n",
      "New: 0.01771035517980284 * 10^8 * mL-1 * OD-1\n",
      "################ GR 3.7000000000000006 ########## (11.240224549620732) #####\n",
      "Measured mean cell volume: 3.281299999999999\n",
      "Theoretical mean cell volume: 29.17555153787055\n",
      "Cell volume adjustment: 95.73373726121461\n",
      "Physical mean cell volume: 2793.084585377525\n",
      "Old: 8 * 10^8 * mL-1 * OD-1 \n",
      "New: 0.012888975933084423 * 10^8 * mL-1 * OD-1\n",
      "################ GR 3.900000000000001 ########## (10.66380277784531) #####\n",
      "Measured mean cell volume: 2.9577\n",
      "Theoretical mean cell volume: 35.63509911919927\n",
      "Cell volume adjustment: 105.39793266485567\n",
      "Physical mean cell volume: 3755.8657774708226\n",
      "Old: 8 * 10^8 * mL-1 * OD-1 \n",
      "New: 0.009585007061738555 * 10^8 * mL-1 * OD-1\n"
     ]
    },
    {
     "data": {
      "text/plain": [
       "[<matplotlib.lines.Line2D at 0x1a34ff8748>]"
      ]
     },
     "execution_count": 324,
     "metadata": {},
     "output_type": "execute_result"
    },
    {
     "data": {
      "image/png": "[encoded data removed]",
      "text/plain": [
       "<Figure size 432x288 with 1 Axes>"
      ]
     },
     "metadata": {
      "needs_background": "light"
     },
     "output_type": "display_data"
    }
   ],
   "source": [
    "ageRange = np.arange(0.1, 4.0, 0.2)\n",
    "plt.plot(ageRange, [popCellCount_meanPop(i) for i in ageRange])\n",
    "plt.plot(ageRange, [8.0*10.0**8.0]*len(ageRange)) "
   ]
  },
  {
   "cell_type": "code",
   "execution_count": 316,
   "metadata": {},
   "outputs": [
    {
     "name": "stdout",
     "output_type": "stream",
     "text": [
      "################ GR 0.6931471805599453 ########## (60.0) #####\n",
      "Measured mean cell volume: 3.0358446077728214\n",
      "Theoretical mean cell volume: 1.4426450414665861\n",
      "Cell volume adjustment: 2.104360061215471\n",
      "Physical mean cell volume: 3.035844607772821\n",
      "Old: 8 * 10^8 * mL-1 * OD-1 \n",
      "New: 11.858314456486818 * 10^8 * mL-1 * OD-1\n"
     ]
    },
    {
     "data": {
      "text/plain": [
       "1185831445.6486819"
      ]
     },
     "execution_count": 316,
     "metadata": {},
     "output_type": "execute_result"
    }
   ],
   "source": [
    "gr_h = 0.6931471805599453\n",
    "popCellCount_meanPop(gr_h)"
   ]
  },
  {
   "cell_type": "code",
   "execution_count": 295,
   "metadata": {},
   "outputs": [
    {
     "name": "stdout",
     "output_type": "stream",
     "text": [
      "GR hour: 0.6931471805599453\n",
      "GR minutes: \n",
      "Doubling time hours: 1.0\n",
      "Doubling time minutes: 60.0\n"
     ]
    }
   ],
   "source": [
    "gr_h = 0.6931471805599453\n",
    "print('GR hour: '+str(gr_h))\n",
    "print('GR minutes: ')\n",
    "print('Doubling time hours: '+str(np.log(2)/gr_h))\n",
    "print('Doubling time minutes: '+str((np.log(2)/gr_h)*60.0))"
   ]
  },
  {
   "cell_type": "code",
   "execution_count": 61,
   "metadata": {},
   "outputs": [],
   "source": [
    "def ch_volume(doubling_time_min, cell_age, C=40.0, D=20.0):\n",
    "    return 2.0**((C+D+(cell_age*doubling_time_min))/doubling_time_min)-1.0"
   ]
  },
  {
   "cell_type": "code",
   "execution_count": 62,
   "metadata": {},
   "outputs": [],
   "source": [
    "def popCellCount(gr_h, C=40.0, D=20.0):\n",
    "    #gr_h = np.log(2.0)/(divRate_min/60.0)\n",
    "    #gr_h = np.log(2.0)/(divRate_min/60.0)\n",
    "    #gr_h = 2.2\n",
    "    #C = 40.0\n",
    "    #D = 20.0\n",
    "    #1) calculate the average cell age\n",
    "    mean_cell_age = 0.44269504088896355\n",
    "    #Volkmer cell concentration\n",
    "    #2) calculate the (measured) mean cell volume\n",
    "    measured_cell_volume = -0.53*gr_h**2.0 + 2.41*gr_h + 1.62\n",
    "    #3) calculate \n",
    "    results = (ctypes.c_double*6)()\n",
    "    status = simulator.cell_parameters(ctypes.c_double((np.log(2)/gr_h)*60.0), ctypes.c_double(C), ctypes.c_double(D), ctypes.c_double(mean_cell_age), results)\n",
    "    #status = simulator.cell_parameters(ctypes.c_double(divRate_min), ctypes.c_double(C), ctypes.c_double(D), ctypes.c_double(mean_cell_age), results)\n",
    "    results = [i for i in results]\n",
    "    theoretical_cell_volume = results[0]\n",
    "    theoretical_cell_volume_adjustment = theoretical_cell_volume/measured_cell_volume\n",
    "    #### adjust for the different age \n",
    "    age_array = np.arange(0.0, 1.0, 0.0001)\n",
    "    weights = []\n",
    "    for i in age_array:\n",
    "        weights.append(integrate.quad(ageDistFunc, i, i+0.0001)[0])\n",
    "    #### calculate the physical volume ###\n",
    "    physical_volume = []\n",
    "    Ga = []\n",
    "    for i in age_array:\n",
    "        results = (ctypes.c_double*6)()\n",
    "        status = simulator.cell_parameters(ctypes.c_double((np.log(2)/gr_h)*60.0), ctypes.c_double(C), ctypes.c_double(D), ctypes.c_double(i), results)\n",
    "        results = [i for i in results]\n",
    "        physical_volume.append(theoretical_cell_volume_adjustment*results[0])\n",
    "        Ga.append(results[2])\n",
    "\n",
    "    #cell_volume = -0.53*gr_h**2.0 + 2.41*gr_h + 1.62\n",
    "    #cell_concentration --> mL**-1 * OD**-1\n",
    "    #change this to use the median or mean of the theoretical cell distribution (see if they are close)\n",
    "    # and the std deviation \n",
    "    population_cell_concentration = (3.6*10.0**9.0)/measured_cell_volume \n",
    "    #print('Old: 8.0 * 10^8 * mL-1 * OD-1 ')\n",
    "    #print('New: {0:.2f} * 10^8 * mL-1 * OD-1'.format(population_cell_concentration/10**8))\n",
    "    return population_cell_concentration"
   ]
  },
  {
   "cell_type": "code",
   "execution_count": 64,
   "metadata": {},
   "outputs": [
    {
     "data": {
      "text/plain": [
       "[<matplotlib.lines.Line2D at 0x1524652a20>]"
      ]
     },
     "execution_count": 64,
     "metadata": {},
     "output_type": "execute_result"
    },
    {
     "data": {
      "image/png": "[encoded data removed]",
      "text/plain": [
       "<Figure size 432x288 with 1 Axes>"
      ]
     },
     "metadata": {
      "needs_background": "light"
     },
     "output_type": "display_data"
    }
   ],
   "source": [
    "ageRange = np.arange(0.001, 2.0, 0.01)\n",
    "plt.plot(ageRange, [popCellCount(i) for i in ageRange])\n",
    "plt.plot(ageRange, [8.0*10.0**8.0]*len(ageRange)) "
   ]
  },
  {
   "cell_type": "code",
   "execution_count": 65,
   "metadata": {},
   "outputs": [
    {
     "data": {
      "application/vnd.plotly.v1+json": {
       "config": {
        "linkText": "Export to plot.ly",
        "plotlyServerURL": "https://plot.ly",
        "showLink": false
       },
       "data": [
        {
         "line": {
          "color": "rgb(31, 119, 180)"
         },
         "mode": "lines",
         "name": "Measurement",
         "type": "scatter",
         "x": [
          0.001,
          0.011,
          0.020999999999999998,
          0.030999999999999996,
          0.040999999999999995,
          0.05099999999999999,
          0.06099999999999999,
          0.071,
          0.08099999999999999,
          0.09099999999999998,
          0.10099999999999998,
          0.11099999999999999,
          0.12099999999999998,
          0.13099999999999998,
          0.141,
          0.15099999999999997,
          0.16099999999999998,
          0.17099999999999999,
          0.18099999999999997,
          0.19099999999999998,
          0.20099999999999996,
          0.21099999999999997,
          0.22099999999999997,
          0.23099999999999996,
          0.24099999999999996,
          0.25099999999999995,
          0.26099999999999995,
          0.27099999999999996,
          0.28099999999999997,
          0.291,
          0.30099999999999993,
          0.31099999999999994,
          0.32099999999999995,
          0.33099999999999996,
          0.34099999999999997,
          0.3509999999999999,
          0.36099999999999993,
          0.37099999999999994,
          0.38099999999999995,
          0.39099999999999996,
          0.4009999999999999,
          0.4109999999999999,
          0.42099999999999993,
          0.43099999999999994,
          0.44099999999999995,
          0.45099999999999996,
          0.4609999999999999,
          0.4709999999999999,
          0.4809999999999999,
          0.49099999999999994,
          0.5009999999999999,
          0.5109999999999999,
          0.5209999999999999,
          0.5309999999999999,
          0.5409999999999999,
          0.5509999999999999,
          0.5609999999999999,
          0.571,
          0.581,
          0.5909999999999999,
          0.6009999999999999,
          0.6109999999999999,
          0.6209999999999999,
          0.6309999999999999,
          0.6409999999999999,
          0.6509999999999999,
          0.6609999999999999,
          0.6709999999999999,
          0.6809999999999999,
          0.691,
          0.7009999999999998,
          0.7109999999999999,
          0.7209999999999999,
          0.7309999999999999,
          0.7409999999999999,
          0.7509999999999999,
          0.7609999999999999,
          0.7709999999999999,
          0.7809999999999999,
          0.7909999999999999,
          0.8009999999999998,
          0.8109999999999998,
          0.8209999999999998,
          0.8309999999999998,
          0.8409999999999999,
          0.8509999999999999,
          0.8609999999999999,
          0.8709999999999999,
          0.8809999999999999,
          0.8909999999999999,
          0.9009999999999999,
          0.9109999999999998,
          0.9209999999999998,
          0.9309999999999998,
          0.9409999999999998,
          0.9509999999999998,
          0.9609999999999999,
          0.9709999999999999,
          0.9809999999999999,
          0.9909999999999999,
          1.001,
          1.0109999999999997,
          1.0209999999999997,
          1.0309999999999997,
          1.0409999999999997,
          1.0509999999999997,
          1.0609999999999997,
          1.0709999999999997,
          1.0809999999999997,
          1.0909999999999997,
          1.1009999999999998,
          1.1109999999999998,
          1.1209999999999998,
          1.1309999999999998,
          1.1409999999999998,
          1.1509999999999998,
          1.1609999999999998,
          1.1709999999999998,
          1.1809999999999996,
          1.1909999999999996,
          1.2009999999999996,
          1.2109999999999996,
          1.2209999999999996,
          1.2309999999999997,
          1.2409999999999997,
          1.2509999999999997,
          1.2609999999999997,
          1.2709999999999997,
          1.2809999999999997,
          1.2909999999999997,
          1.3009999999999997,
          1.3109999999999997,
          1.3209999999999997,
          1.3309999999999997,
          1.3409999999999997,
          1.3509999999999998,
          1.3609999999999998,
          1.3709999999999998,
          1.3809999999999998,
          1.3909999999999996,
          1.4009999999999996,
          1.4109999999999996,
          1.4209999999999996,
          1.4309999999999996,
          1.4409999999999996,
          1.4509999999999996,
          1.4609999999999996,
          1.4709999999999996,
          1.4809999999999997,
          1.4909999999999997,
          1.5009999999999997,
          1.5109999999999997,
          1.5209999999999997,
          1.5309999999999997,
          1.5409999999999997,
          1.5509999999999997,
          1.5609999999999997,
          1.5709999999999997,
          1.5809999999999997,
          1.5909999999999997,
          1.6009999999999995,
          1.6109999999999995,
          1.6209999999999996,
          1.6309999999999996,
          1.6409999999999996,
          1.6509999999999996,
          1.6609999999999996,
          1.6709999999999996,
          1.6809999999999996,
          1.6909999999999996,
          1.7009999999999996,
          1.7109999999999996,
          1.7209999999999996,
          1.7309999999999997,
          1.7409999999999997,
          1.7509999999999997,
          1.7609999999999997,
          1.7709999999999997,
          1.7809999999999997,
          1.7909999999999997,
          1.8009999999999997,
          1.8109999999999997,
          1.8209999999999995,
          1.8309999999999995,
          1.8409999999999995,
          1.8509999999999995,
          1.8609999999999995,
          1.8709999999999996,
          1.8809999999999996,
          1.8909999999999996,
          1.9009999999999996,
          1.9109999999999996,
          1.9209999999999996,
          1.9309999999999996,
          1.9409999999999996,
          1.9509999999999996,
          1.9609999999999996,
          1.9709999999999996,
          1.9809999999999997,
          1.9909999999999997
         ],
         "y": [
          2218921959.325102,
          2186528002.891464,
          2155203030.9913344,
          2124895866.0841515,
          2095558552.708772,
          2067146107.902374,
          2039616294.4651153,
          2012929414.6674683,
          1987048122.2817492,
          1961937251.0666084,
          1937563658.0484965,
          1913896080.1318944,
          1890905002.7342749,
          1868562539.285554,
          1846842320.5579913,
          1825719392.90347,
          1805170124.5728347,
          1785172119.3782084,
          1765704137.0354743,
          1746746019.5915906,
          1728278623.4013045,
          1710283756.170983,
          1692744118.6346173,
          1675643250.4691906,
          1658965480.0942183,
          1642695878.0338829,
          1626820213.550249,
          1611324914.2829974,
          1596197028.6552882,
          1581424190.8270836,
          1566994587.9967945,
          1552896929.8697124,
          1539120420.1275444,
          1525654729.7477038,
          1512489972.0339344,
          1499616679.23158,
          1487025780.6113956,
          1474708581.9154348,
          1462656746.0672727,
          1450862275.0567513,
          1439317492.9166687,
          1428015029.7153864,
          1416947806.4953258,
          1406109021.0927951,
          1395492134.779561,
          1385090859.6711469,
          1374899146.8510187,
          1364911175.1636124,
          1355121340.6326842,
          1345524246.4646547,
          1336114693.5995617,
          1326887671.7749617,
          1317838351.0705771,
          1308962073.9038024,
          1300254347.4482675,
          1291710836.4496126,
          1283327356.4144106,
          1275099867.1498241,
          1267024466.6331165,
          1259097385.1915398,
          1251314979.9744241,
          1243673729.7005112,
          1236170229.6646676,
          1228801186.9891787,
          1221563416.105758,
          1214453834.4553082,
          1207469458.3932974,
          1200607399.2893744,
          1193864859.8105679,
          1187239130.3780732,
          1180727585.788247,
          1174327681.9890106,
          1168036953.0033877,
          1161853007.992416,
          1155773528.4501216,
          1149796265.5236907,
          1143919037.4523764,
          1138139727.1190498,
          1132456279.7086732,
          1126866700.4682853,
          1121369052.5634174,
          1115961455.0261319,
          1110642080.7901597,
          1105409154.8088584,
          1100260952.251954,
          1095195796.7772567,
          1090212058.8737407,
          1085308154.2725868,
          1080482542.4229636,
          1075733725.0294971,
          1071060244.6485465,
          1066460683.3405484,
          1061933661.3758506,
          1057477835.9915737,
          1053091900.1971817,
          1048774581.6265583,
          1044524641.434493,
          1040340873.2356004,
          1036222102.083783,
          1032167183.4904562,
          1028175002.4798295,
          1024244472.6796402,
          1020374535.4457947,
          1016564159.019471,
          1012812337.7152855,
          1009118091.1392125,
          1005480463.4349949,
          1001898522.557858,
          998371359.57438,
          994898087.9874439,
          991477843.0852299,
          988109781.3132725,
          984793079.6686357,
          981526935.1153194,
          978310564.020036,
          975143201.6075495,
          972024101.4347975,
          968952534.8830515,
          965927790.6674135,
          962949174.3629645,
          960016007.9469272,
          957127629.3562179,
          954283392.0598009,
          951482664.6452805,
          948724830.419192,
          946009287.0204711,
          943335446.0466144,
          940702732.6920515,
          938110585.3982822,
          935558455.5153402,
          933045806.9741739,
          930572115.9695412,
          928136870.6530436,
          925739570.8359294,
          923379727.7013203,
          921056863.5255231,
          918770511.4081094,
          916520215.0104488,
          914305528.3024075,
          912126015.3169218,
          909981249.9121773,
          907870815.5411354,
          905794305.0281495,
          903751320.3524368,
          901741472.4381704,
          899764380.9509714,
          897819674.100586,
          895906988.4495466,
          894025968.7276121,
          892176267.6518097,
          890357545.751882,
          888569471.2009785,
          886811719.651413,
          885083974.0753298,
          883385924.6101224,
          881717268.4084547,
          880077709.4927385,
          878466958.6139356,
          876884733.1145413,
          875330756.7956297,
          873804759.7878312,
          872306478.4261271,
          870835655.128345,
          869392038.2772449,
          867975382.1060901,
          866585446.5876005,
          865221997.3261902,
          863884805.4533938,
          862573647.5263915,
          861288305.4295422,
          860028566.2788432,
          858794222.3292333,
          857585070.8846589,
          856400914.2108306,
          855241559.4505954,
          854106818.5418532,
          852996508.1379528,
          851910449.5304976,
          850848468.5745038,
          849810395.6158452,
          848796065.4209285,
          847805317.1085439,
          846837994.0838346,
          845893943.9743341,
          844973018.5680214,
          844075073.7533456,
          843199969.4611709,
          842347569.6086023,
          841517742.0446435,
          840710358.4976493,
          839925294.5245291,
          839162429.4616671,
          838421646.3775188,
          837702832.0268507,
          837005876.8065875,
          836330674.7132332,
          835677123.3018404,
          835045123.6464884,
          834434580.3022488,
          833845401.2686082
         ]
        },
        {
         "line": {
          "color": "rgb(236, 171, 20)"
         },
         "mode": "lines",
         "name": "Measurement",
         "type": "scatter",
         "x": [
          0.001,
          0.011,
          0.020999999999999998,
          0.030999999999999996,
          0.040999999999999995,
          0.05099999999999999,
          0.06099999999999999,
          0.071,
          0.08099999999999999,
          0.09099999999999998,
          0.10099999999999998,
          0.11099999999999999,
          0.12099999999999998,
          0.13099999999999998,
          0.141,
          0.15099999999999997,
          0.16099999999999998,
          0.17099999999999999,
          0.18099999999999997,
          0.19099999999999998,
          0.20099999999999996,
          0.21099999999999997,
          0.22099999999999997,
          0.23099999999999996,
          0.24099999999999996,
          0.25099999999999995,
          0.26099999999999995,
          0.27099999999999996,
          0.28099999999999997,
          0.291,
          0.30099999999999993,
          0.31099999999999994,
          0.32099999999999995,
          0.33099999999999996,
          0.34099999999999997,
          0.3509999999999999,
          0.36099999999999993,
          0.37099999999999994,
          0.38099999999999995,
          0.39099999999999996,
          0.4009999999999999,
          0.4109999999999999,
          0.42099999999999993,
          0.43099999999999994,
          0.44099999999999995,
          0.45099999999999996,
          0.4609999999999999,
          0.4709999999999999,
          0.4809999999999999,
          0.49099999999999994,
          0.5009999999999999,
          0.5109999999999999,
          0.5209999999999999,
          0.5309999999999999,
          0.5409999999999999,
          0.5509999999999999,
          0.5609999999999999,
          0.571,
          0.581,
          0.5909999999999999,
          0.6009999999999999,
          0.6109999999999999,
          0.6209999999999999,
          0.6309999999999999,
          0.6409999999999999,
          0.6509999999999999,
          0.6609999999999999,
          0.6709999999999999,
          0.6809999999999999,
          0.691,
          0.7009999999999998,
          0.7109999999999999,
          0.7209999999999999,
          0.7309999999999999,
          0.7409999999999999,
          0.7509999999999999,
          0.7609999999999999,
          0.7709999999999999,
          0.7809999999999999,
          0.7909999999999999,
          0.8009999999999998,
          0.8109999999999998,
          0.8209999999999998,
          0.8309999999999998,
          0.8409999999999999,
          0.8509999999999999,
          0.8609999999999999,
          0.8709999999999999,
          0.8809999999999999,
          0.8909999999999999,
          0.9009999999999999,
          0.9109999999999998,
          0.9209999999999998,
          0.9309999999999998,
          0.9409999999999998,
          0.9509999999999998,
          0.9609999999999999,
          0.9709999999999999,
          0.9809999999999999,
          0.9909999999999999,
          1.001,
          1.0109999999999997,
          1.0209999999999997,
          1.0309999999999997,
          1.0409999999999997,
          1.0509999999999997,
          1.0609999999999997,
          1.0709999999999997,
          1.0809999999999997,
          1.0909999999999997,
          1.1009999999999998,
          1.1109999999999998,
          1.1209999999999998,
          1.1309999999999998,
          1.1409999999999998,
          1.1509999999999998,
          1.1609999999999998,
          1.1709999999999998,
          1.1809999999999996,
          1.1909999999999996,
          1.2009999999999996,
          1.2109999999999996,
          1.2209999999999996,
          1.2309999999999997,
          1.2409999999999997,
          1.2509999999999997,
          1.2609999999999997,
          1.2709999999999997,
          1.2809999999999997,
          1.2909999999999997,
          1.3009999999999997,
          1.3109999999999997,
          1.3209999999999997,
          1.3309999999999997,
          1.3409999999999997,
          1.3509999999999998,
          1.3609999999999998,
          1.3709999999999998,
          1.3809999999999998,
          1.3909999999999996,
          1.4009999999999996,
          1.4109999999999996,
          1.4209999999999996,
          1.4309999999999996,
          1.4409999999999996,
          1.4509999999999996,
          1.4609999999999996,
          1.4709999999999996,
          1.4809999999999997,
          1.4909999999999997,
          1.5009999999999997,
          1.5109999999999997,
          1.5209999999999997,
          1.5309999999999997,
          1.5409999999999997,
          1.5509999999999997,
          1.5609999999999997,
          1.5709999999999997,
          1.5809999999999997,
          1.5909999999999997,
          1.6009999999999995,
          1.6109999999999995,
          1.6209999999999996,
          1.6309999999999996,
          1.6409999999999996,
          1.6509999999999996,
          1.6609999999999996,
          1.6709999999999996,
          1.6809999999999996,
          1.6909999999999996,
          1.7009999999999996,
          1.7109999999999996,
          1.7209999999999996,
          1.7309999999999997,
          1.7409999999999997,
          1.7509999999999997,
          1.7609999999999997,
          1.7709999999999997,
          1.7809999999999997,
          1.7909999999999997,
          1.8009999999999997,
          1.8109999999999997,
          1.8209999999999995,
          1.8309999999999995,
          1.8409999999999995,
          1.8509999999999995,
          1.8609999999999995,
          1.8709999999999996,
          1.8809999999999996,
          1.8909999999999996,
          1.9009999999999996,
          1.9109999999999996,
          1.9209999999999996,
          1.9309999999999996,
          1.9409999999999996,
          1.9509999999999996,
          1.9609999999999996,
          1.9709999999999996,
          1.9809999999999997,
          1.9909999999999997
         ],
         "y": [
          800000000,
          800000000,
          800000000,
          800000000,
          800000000,
          800000000,
          800000000,
          800000000,
          800000000,
          800000000,
          800000000,
          800000000,
          800000000,
          800000000,
          800000000,
          800000000,
          800000000,
          800000000,
          800000000,
          800000000,
          800000000,
          800000000,
          800000000,
          800000000,
          800000000,
          800000000,
          800000000,
          800000000,
          800000000,
          800000000,
          800000000,
          800000000,
          800000000,
          800000000,
          800000000,
          800000000,
          800000000,
          800000000,
          800000000,
          800000000,
          800000000,
          800000000,
          800000000,
          800000000,
          800000000,
          800000000,
          800000000,
          800000000,
          800000000,
          800000000,
          800000000,
          800000000,
          800000000,
          800000000,
          800000000,
          800000000,
          800000000,
          800000000,
          800000000,
          800000000,
          800000000,
          800000000,
          800000000,
          800000000,
          800000000,
          800000000,
          800000000,
          800000000,
          800000000,
          800000000,
          800000000,
          800000000,
          800000000,
          800000000,
          800000000,
          800000000,
          800000000,
          800000000,
          800000000,
          800000000,
          800000000,
          800000000,
          800000000,
          800000000,
          800000000,
          800000000,
          800000000,
          800000000,
          800000000,
          800000000,
          800000000,
          800000000,
          800000000,
          800000000,
          800000000,
          800000000,
          800000000,
          800000000,
          800000000,
          800000000,
          800000000,
          800000000,
          800000000,
          800000000,
          800000000,
          800000000,
          800000000,
          800000000,
          800000000,
          800000000,
          800000000,
          800000000,
          800000000,
          800000000,
          800000000,
          800000000,
          800000000,
          800000000,
          800000000,
          800000000,
          800000000,
          800000000,
          800000000,
          800000000,
          800000000,
          800000000,
          800000000,
          800000000,
          800000000,
          800000000,
          800000000,
          800000000,
          800000000,
          800000000,
          800000000,
          800000000,
          800000000,
          800000000,
          800000000,
          800000000,
          800000000,
          800000000,
          800000000,
          800000000,
          800000000,
          800000000,
          800000000,
          800000000,
          800000000,
          800000000,
          800000000,
          800000000,
          800000000,
          800000000,
          800000000,
          800000000,
          800000000,
          800000000,
          800000000,
          800000000,
          800000000,
          800000000,
          800000000,
          800000000,
          800000000,
          800000000,
          800000000,
          800000000,
          800000000,
          800000000,
          800000000,
          800000000,
          800000000,
          800000000,
          800000000,
          800000000,
          800000000,
          800000000,
          800000000,
          800000000,
          800000000,
          800000000,
          800000000,
          800000000,
          800000000,
          800000000,
          800000000,
          800000000,
          800000000,
          800000000,
          800000000,
          800000000,
          800000000,
          800000000,
          800000000,
          800000000,
          800000000,
          800000000,
          800000000,
          800000000
         ]
        }
       ],
       "layout": {
        "showlegend": false,
        "template": {
         "data": {
          "bar": [
           {
            "error_x": {
             "color": "#2a3f5f"
            },
            "error_y": {
             "color": "#2a3f5f"
            },
            "marker": {
             "line": {
              "color": "#E5ECF6",
              "width": 0.5
             }
            },
            "type": "bar"
           }
          ],
          "barpolar": [
           {
            "marker": {
             "line": {
              "color": "#E5ECF6",
              "width": 0.5
             }
            },
            "type": "barpolar"
           }
          ],
          "carpet": [
           {
            "aaxis": {
             "endlinecolor": "#2a3f5f",
             "gridcolor": "white",
             "linecolor": "white",
             "minorgridcolor": "white",
             "startlinecolor": "#2a3f5f"
            },
            "baxis": {
             "endlinecolor": "#2a3f5f",
             "gridcolor": "white",
             "linecolor": "white",
             "minorgridcolor": "white",
             "startlinecolor": "#2a3f5f"
            },
            "type": "carpet"
           }
          ],
          "choropleth": [
           {
            "colorbar": {
             "outlinewidth": 0,
             "ticks": ""
            },
            "type": "choropleth"
           }
          ],
          "contour": [
           {
            "colorbar": {
             "outlinewidth": 0,
             "ticks": ""
            },
            "colorscale": [
             [
              0,
              "#0d0887"
             ],
             [
              0.1111111111111111,
              "#46039f"
             ],
             [
              0.2222222222222222,
              "#7201a8"
             ],
             [
              0.3333333333333333,
              "#9c179e"
             ],
             [
              0.4444444444444444,
              "#bd3786"
             ],
             [
              0.5555555555555556,
              "#d8576b"
             ],
             [
              0.6666666666666666,
              "#ed7953"
             ],
             [
              0.7777777777777778,
              "#fb9f3a"
             ],
             [
              0.8888888888888888,
              "#fdca26"
             ],
             [
              1,
              "#f0f921"
             ]
            ],
            "type": "contour"
           }
          ],
          "contourcarpet": [
           {
            "colorbar": {
             "outlinewidth": 0,
             "ticks": ""
            },
            "type": "contourcarpet"
           }
          ],
          "heatmap": [
           {
            "colorbar": {
             "outlinewidth": 0,
             "ticks": ""
            },
            "colorscale": [
             [
              0,
              "#0d0887"
             ],
             [
              0.1111111111111111,
              "#46039f"
             ],
             [
              0.2222222222222222,
              "#7201a8"
             ],
             [
              0.3333333333333333,
              "#9c179e"
             ],
             [
              0.4444444444444444,
              "#bd3786"
             ],
             [
              0.5555555555555556,
              "#d8576b"
             ],
             [
              0.6666666666666666,
              "#ed7953"
             ],
             [
              0.7777777777777778,
              "#fb9f3a"
             ],
             [
              0.8888888888888888,
              "#fdca26"
             ],
             [
              1,
              "#f0f921"
             ]
            ],
            "type": "heatmap"
           }
          ],
          "heatmapgl": [
           {
            "colorbar": {
             "outlinewidth": 0,
             "ticks": ""
            },
            "colorscale": [
             [
              0,
              "#0d0887"
             ],
             [
              0.1111111111111111,
              "#46039f"
             ],
             [
              0.2222222222222222,
              "#7201a8"
             ],
             [
              0.3333333333333333,
              "#9c179e"
             ],
             [
              0.4444444444444444,
              "#bd3786"
             ],
             [
              0.5555555555555556,
              "#d8576b"
             ],
             [
              0.6666666666666666,
              "#ed7953"
             ],
             [
              0.7777777777777778,
              "#fb9f3a"
             ],
             [
              0.8888888888888888,
              "#fdca26"
             ],
             [
              1,
              "#f0f921"
             ]
            ],
            "type": "heatmapgl"
           }
          ],
          "histogram": [
           {
            "marker": {
             "colorbar": {
              "outlinewidth": 0,
              "ticks": ""
             }
            },
            "type": "histogram"
           }
          ],
          "histogram2d": [
           {
            "colorbar": {
             "outlinewidth": 0,
             "ticks": ""
            },
            "colorscale": [
             [
              0,
              "#0d0887"
             ],
             [
              0.1111111111111111,
              "#46039f"
             ],
             [
              0.2222222222222222,
              "#7201a8"
             ],
             [
              0.3333333333333333,
              "#9c179e"
             ],
             [
              0.4444444444444444,
              "#bd3786"
             ],
             [
              0.5555555555555556,
              "#d8576b"
             ],
             [
              0.6666666666666666,
              "#ed7953"
             ],
             [
              0.7777777777777778,
              "#fb9f3a"
             ],
             [
              0.8888888888888888,
              "#fdca26"
             ],
             [
              1,
              "#f0f921"
             ]
            ],
            "type": "histogram2d"
           }
          ],
          "histogram2dcontour": [
           {
            "colorbar": {
             "outlinewidth": 0,
             "ticks": ""
            },
            "colorscale": [
             [
              0,
              "#0d0887"
             ],
             [
              0.1111111111111111,
              "#46039f"
             ],
             [
              0.2222222222222222,
              "#7201a8"
             ],
             [
              0.3333333333333333,
              "#9c179e"
             ],
             [
              0.4444444444444444,
              "#bd3786"
             ],
             [
              0.5555555555555556,
              "#d8576b"
             ],
             [
              0.6666666666666666,
              "#ed7953"
             ],
             [
              0.7777777777777778,
              "#fb9f3a"
             ],
             [
              0.8888888888888888,
              "#fdca26"
             ],
             [
              1,
              "#f0f921"
             ]
            ],
            "type": "histogram2dcontour"
           }
          ],
          "mesh3d": [
           {
            "colorbar": {
             "outlinewidth": 0,
             "ticks": ""
            },
            "type": "mesh3d"
           }
          ],
          "parcoords": [
           {
            "line": {
             "colorbar": {
              "outlinewidth": 0,
              "ticks": ""
             }
            },
            "type": "parcoords"
           }
          ],
          "scatter": [
           {
            "marker": {
             "colorbar": {
              "outlinewidth": 0,
              "ticks": ""
             }
            },
            "type": "scatter"
           }
          ],
          "scatter3d": [
           {
            "line": {
             "colorbar": {
              "outlinewidth": 0,
              "ticks": ""
             }
            },
            "marker": {
             "colorbar": {
              "outlinewidth": 0,
              "ticks": ""
             }
            },
            "type": "scatter3d"
           }
          ],
          "scattercarpet": [
           {
            "marker": {
             "colorbar": {
              "outlinewidth": 0,
              "ticks": ""
             }
            },
            "type": "scattercarpet"
           }
          ],
          "scattergeo": [
           {
            "marker": {
             "colorbar": {
              "outlinewidth": 0,
              "ticks": ""
             }
            },
            "type": "scattergeo"
           }
          ],
          "scattergl": [
           {
            "marker": {
             "colorbar": {
              "outlinewidth": 0,
              "ticks": ""
             }
            },
            "type": "scattergl"
           }
          ],
          "scattermapbox": [
           {
            "marker": {
             "colorbar": {
              "outlinewidth": 0,
              "ticks": ""
             }
            },
            "type": "scattermapbox"
           }
          ],
          "scatterpolar": [
           {
            "marker": {
             "colorbar": {
              "outlinewidth": 0,
              "ticks": ""
             }
            },
            "type": "scatterpolar"
           }
          ],
          "scatterpolargl": [
           {
            "marker": {
             "colorbar": {
              "outlinewidth": 0,
              "ticks": ""
             }
            },
            "type": "scatterpolargl"
           }
          ],
          "scatterternary": [
           {
            "marker": {
             "colorbar": {
              "outlinewidth": 0,
              "ticks": ""
             }
            },
            "type": "scatterternary"
           }
          ],
          "surface": [
           {
            "colorbar": {
             "outlinewidth": 0,
             "ticks": ""
            },
            "colorscale": [
             [
              0,
              "#0d0887"
             ],
             [
              0.1111111111111111,
              "#46039f"
             ],
             [
              0.2222222222222222,
              "#7201a8"
             ],
             [
              0.3333333333333333,
              "#9c179e"
             ],
             [
              0.4444444444444444,
              "#bd3786"
             ],
             [
              0.5555555555555556,
              "#d8576b"
             ],
             [
              0.6666666666666666,
              "#ed7953"
             ],
             [
              0.7777777777777778,
              "#fb9f3a"
             ],
             [
              0.8888888888888888,
              "#fdca26"
             ],
             [
              1,
              "#f0f921"
             ]
            ],
            "type": "surface"
           }
          ],
          "table": [
           {
            "cells": {
             "fill": {
              "color": "#EBF0F8"
             },
             "line": {
              "color": "white"
             }
            },
            "header": {
             "fill": {
              "color": "#C8D4E3"
             },
             "line": {
              "color": "white"
             }
            },
            "type": "table"
           }
          ]
         },
         "layout": {
          "annotationdefaults": {
           "arrowcolor": "#2a3f5f",
           "arrowhead": 0,
           "arrowwidth": 1
          },
          "colorscale": {
           "diverging": [
            [
             0,
             "#8e0152"
            ],
            [
             0.1,
             "#c51b7d"
            ],
            [
             0.2,
             "#de77ae"
            ],
            [
             0.3,
             "#f1b6da"
            ],
            [
             0.4,
             "#fde0ef"
            ],
            [
             0.5,
             "#f7f7f7"
            ],
            [
             0.6,
             "#e6f5d0"
            ],
            [
             0.7,
             "#b8e186"
            ],
            [
             0.8,
             "#7fbc41"
            ],
            [
             0.9,
             "#4d9221"
            ],
            [
             1,
             "#276419"
            ]
           ],
           "sequential": [
            [
             0,
             "#0d0887"
            ],
            [
             0.1111111111111111,
             "#46039f"
            ],
            [
             0.2222222222222222,
             "#7201a8"
            ],
            [
             0.3333333333333333,
             "#9c179e"
            ],
            [
             0.4444444444444444,
             "#bd3786"
            ],
            [
             0.5555555555555556,
             "#d8576b"
            ],
            [
             0.6666666666666666,
             "#ed7953"
            ],
            [
             0.7777777777777778,
             "#fb9f3a"
            ],
            [
             0.8888888888888888,
             "#fdca26"
            ],
            [
             1,
             "#f0f921"
            ]
           ],
           "sequentialminus": [
            [
             0,
             "#0d0887"
            ],
            [
             0.1111111111111111,
             "#46039f"
            ],
            [
             0.2222222222222222,
             "#7201a8"
            ],
            [
             0.3333333333333333,
             "#9c179e"
            ],
            [
             0.4444444444444444,
             "#bd3786"
            ],
            [
             0.5555555555555556,
             "#d8576b"
            ],
            [
             0.6666666666666666,
             "#ed7953"
            ],
            [
             0.7777777777777778,
             "#fb9f3a"
            ],
            [
             0.8888888888888888,
             "#fdca26"
            ],
            [
             1,
             "#f0f921"
            ]
           ]
          },
          "colorway": [
           "#636efa",
           "#EF553B",
           "#00cc96",
           "#ab63fa",
           "#FFA15A",
           "#19d3f3",
           "#FF6692",
           "#B6E880",
           "#FF97FF",
           "#FECB52"
          ],
          "font": {
           "color": "#2a3f5f"
          },
          "geo": {
           "bgcolor": "white",
           "lakecolor": "white",
           "landcolor": "#E5ECF6",
           "showlakes": true,
           "showland": true,
           "subunitcolor": "white"
          },
          "hoverlabel": {
           "align": "left"
          },
          "hovermode": "closest",
          "mapbox": {
           "style": "light"
          },
          "paper_bgcolor": "white",
          "plot_bgcolor": "#E5ECF6",
          "polar": {
           "angularaxis": {
            "gridcolor": "white",
            "linecolor": "white",
            "ticks": ""
           },
           "bgcolor": "#E5ECF6",
           "radialaxis": {
            "gridcolor": "white",
            "linecolor": "white",
            "ticks": ""
           }
          },
          "scene": {
           "xaxis": {
            "backgroundcolor": "#E5ECF6",
            "gridcolor": "white",
            "gridwidth": 2,
            "linecolor": "white",
            "showbackground": true,
            "ticks": "",
            "zerolinecolor": "white"
           },
           "yaxis": {
            "backgroundcolor": "#E5ECF6",
            "gridcolor": "white",
            "gridwidth": 2,
            "linecolor": "white",
            "showbackground": true,
            "ticks": "",
            "zerolinecolor": "white"
           },
           "zaxis": {
            "backgroundcolor": "#E5ECF6",
            "gridcolor": "white",
            "gridwidth": 2,
            "linecolor": "white",
            "showbackground": true,
            "ticks": "",
            "zerolinecolor": "white"
           }
          },
          "shapedefaults": {
           "line": {
            "color": "#2a3f5f"
           }
          },
          "ternary": {
           "aaxis": {
            "gridcolor": "white",
            "linecolor": "white",
            "ticks": ""
           },
           "baxis": {
            "gridcolor": "white",
            "linecolor": "white",
            "ticks": ""
           },
           "bgcolor": "#E5ECF6",
           "caxis": {
            "gridcolor": "white",
            "linecolor": "white",
            "ticks": ""
           }
          },
          "title": {
           "x": 0.05
          },
          "xaxis": {
           "automargin": true,
           "gridcolor": "white",
           "linecolor": "white",
           "ticks": "",
           "zerolinecolor": "white",
           "zerolinewidth": 2
          },
          "yaxis": {
           "automargin": true,
           "gridcolor": "white",
           "linecolor": "white",
           "ticks": "",
           "zerolinecolor": "white",
           "zerolinewidth": 2
          }
         }
        },
        "title": {
         "text": "Adjusted Theoretical Growth Rate Dependent Cell Concentration"
        },
        "xaxis": {
         "title": {
          "text": "Growth Rate (h<sup>-1</sup>)"
         }
        },
        "yaxis": {
         "exponentformat": "power",
         "title": {
          "text": "Cell Concentration (mL<sup>-1</sup> &#183; OD<sup>-1</sup>)"
         }
        }
       }
      },
      "text/html": [
       "<div>\n",
       "        \n",
       "        \n",
       "            <div id=\"20bbe206-046c-479c-af41-d093fe146390\" class=\"plotly-graph-div\" style=\"height:525px; width:100%;\"></div>\n",
       "            <script type=\"text/javascript\">\n",
       "                require([\"plotly\"], function(Plotly) {\n",
       "                    window.PLOTLYENV=window.PLOTLYENV || {};\n",
       "                    \n",
       "                if (document.getElementById(\"20bbe206-046c-479c-af41-d093fe146390\")) {\n",
       "                    Plotly.newPlot(\n",
       "                        '20bbe206-046c-479c-af41-d093fe146390',\n",
       "                        [{\"line\": {\"color\": \"rgb(31, 119, 180)\"}, \"mode\": \"lines\", \"name\": \"Measurement\", \"type\": \"scatter\", \"x\": [0.001, 0.011, 0.020999999999999998, 0.030999999999999996, 0.040999999999999995, 0.05099999999999999, 0.06099999999999999, 0.071, 0.08099999999999999, 0.09099999999999998, 0.10099999999999998, 0.11099999999999999, 0.12099999999999998, 0.13099999999999998, 0.141, 0.15099999999999997, 0.16099999999999998, 0.17099999999999999, 0.18099999999999997, 0.19099999999999998, 0.20099999999999996, 0.21099999999999997, 0.22099999999999997, 0.23099999999999996, 0.24099999999999996, 0.25099999999999995, 0.26099999999999995, 0.27099999999999996, 0.28099999999999997, 0.291, 0.30099999999999993, 0.31099999999999994, 0.32099999999999995, 0.33099999999999996, 0.34099999999999997, 0.3509999999999999, 0.36099999999999993, 0.37099999999999994, 0.38099999999999995, 0.39099999999999996, 0.4009999999999999, 0.4109999999999999, 0.42099999999999993, 0.43099999999999994, 0.44099999999999995, 0.45099999999999996, 0.4609999999999999, 0.4709999999999999, 0.4809999999999999, 0.49099999999999994, 0.5009999999999999, 0.5109999999999999, 0.5209999999999999, 0.5309999999999999, 0.5409999999999999, 0.5509999999999999, 0.5609999999999999, 0.571, 0.581, 0.5909999999999999, 0.6009999999999999, 0.6109999999999999, 0.6209999999999999, 0.6309999999999999, 0.6409999999999999, 0.6509999999999999, 0.6609999999999999, 0.6709999999999999, 0.6809999999999999, 0.691, 0.7009999999999998, 0.7109999999999999, 0.7209999999999999, 0.7309999999999999, 0.7409999999999999, 0.7509999999999999, 0.7609999999999999, 0.7709999999999999, 0.7809999999999999, 0.7909999999999999, 0.8009999999999998, 0.8109999999999998, 0.8209999999999998, 0.8309999999999998, 0.8409999999999999, 0.8509999999999999, 0.8609999999999999, 0.8709999999999999, 0.8809999999999999, 0.8909999999999999, 0.9009999999999999, 0.9109999999999998, 0.9209999999999998, 0.9309999999999998, 0.9409999999999998, 0.9509999999999998, 0.9609999999999999, 0.9709999999999999, 0.9809999999999999, 0.9909999999999999, 1.001, 1.0109999999999997, 1.0209999999999997, 1.0309999999999997, 1.0409999999999997, 1.0509999999999997, 1.0609999999999997, 1.0709999999999997, 1.0809999999999997, 1.0909999999999997, 1.1009999999999998, 1.1109999999999998, 1.1209999999999998, 1.1309999999999998, 1.1409999999999998, 1.1509999999999998, 1.1609999999999998, 1.1709999999999998, 1.1809999999999996, 1.1909999999999996, 1.2009999999999996, 1.2109999999999996, 1.2209999999999996, 1.2309999999999997, 1.2409999999999997, 1.2509999999999997, 1.2609999999999997, 1.2709999999999997, 1.2809999999999997, 1.2909999999999997, 1.3009999999999997, 1.3109999999999997, 1.3209999999999997, 1.3309999999999997, 1.3409999999999997, 1.3509999999999998, 1.3609999999999998, 1.3709999999999998, 1.3809999999999998, 1.3909999999999996, 1.4009999999999996, 1.4109999999999996, 1.4209999999999996, 1.4309999999999996, 1.4409999999999996, 1.4509999999999996, 1.4609999999999996, 1.4709999999999996, 1.4809999999999997, 1.4909999999999997, 1.5009999999999997, 1.5109999999999997, 1.5209999999999997, 1.5309999999999997, 1.5409999999999997, 1.5509999999999997, 1.5609999999999997, 1.5709999999999997, 1.5809999999999997, 1.5909999999999997, 1.6009999999999995, 1.6109999999999995, 1.6209999999999996, 1.6309999999999996, 1.6409999999999996, 1.6509999999999996, 1.6609999999999996, 1.6709999999999996, 1.6809999999999996, 1.6909999999999996, 1.7009999999999996, 1.7109999999999996, 1.7209999999999996, 1.7309999999999997, 1.7409999999999997, 1.7509999999999997, 1.7609999999999997, 1.7709999999999997, 1.7809999999999997, 1.7909999999999997, 1.8009999999999997, 1.8109999999999997, 1.8209999999999995, 1.8309999999999995, 1.8409999999999995, 1.8509999999999995, 1.8609999999999995, 1.8709999999999996, 1.8809999999999996, 1.8909999999999996, 1.9009999999999996, 1.9109999999999996, 1.9209999999999996, 1.9309999999999996, 1.9409999999999996, 1.9509999999999996, 1.9609999999999996, 1.9709999999999996, 1.9809999999999997, 1.9909999999999997], \"y\": [2218921959.325102, 2186528002.891464, 2155203030.9913344, 2124895866.0841515, 2095558552.708772, 2067146107.902374, 2039616294.4651153, 2012929414.6674683, 1987048122.2817492, 1961937251.0666084, 1937563658.0484965, 1913896080.1318944, 1890905002.7342749, 1868562539.285554, 1846842320.5579913, 1825719392.90347, 1805170124.5728347, 1785172119.3782084, 1765704137.0354743, 1746746019.5915906, 1728278623.4013045, 1710283756.170983, 1692744118.6346173, 1675643250.4691906, 1658965480.0942183, 1642695878.0338829, 1626820213.550249, 1611324914.2829974, 1596197028.6552882, 1581424190.8270836, 1566994587.9967945, 1552896929.8697124, 1539120420.1275444, 1525654729.7477038, 1512489972.0339344, 1499616679.23158, 1487025780.6113956, 1474708581.9154348, 1462656746.0672727, 1450862275.0567513, 1439317492.9166687, 1428015029.7153864, 1416947806.4953258, 1406109021.0927951, 1395492134.779561, 1385090859.6711469, 1374899146.8510187, 1364911175.1636124, 1355121340.6326842, 1345524246.4646547, 1336114693.5995617, 1326887671.7749617, 1317838351.0705771, 1308962073.9038024, 1300254347.4482675, 1291710836.4496126, 1283327356.4144106, 1275099867.1498241, 1267024466.6331165, 1259097385.1915398, 1251314979.9744241, 1243673729.7005112, 1236170229.6646676, 1228801186.9891787, 1221563416.105758, 1214453834.4553082, 1207469458.3932974, 1200607399.2893744, 1193864859.8105679, 1187239130.3780732, 1180727585.788247, 1174327681.9890106, 1168036953.0033877, 1161853007.992416, 1155773528.4501216, 1149796265.5236907, 1143919037.4523764, 1138139727.1190498, 1132456279.7086732, 1126866700.4682853, 1121369052.5634174, 1115961455.0261319, 1110642080.7901597, 1105409154.8088584, 1100260952.251954, 1095195796.7772567, 1090212058.8737407, 1085308154.2725868, 1080482542.4229636, 1075733725.0294971, 1071060244.6485465, 1066460683.3405484, 1061933661.3758506, 1057477835.9915737, 1053091900.1971817, 1048774581.6265583, 1044524641.434493, 1040340873.2356004, 1036222102.083783, 1032167183.4904562, 1028175002.4798295, 1024244472.6796402, 1020374535.4457947, 1016564159.019471, 1012812337.7152855, 1009118091.1392125, 1005480463.4349949, 1001898522.557858, 998371359.57438, 994898087.9874439, 991477843.0852299, 988109781.3132725, 984793079.6686357, 981526935.1153194, 978310564.020036, 975143201.6075495, 972024101.4347975, 968952534.8830515, 965927790.6674135, 962949174.3629645, 960016007.9469272, 957127629.3562179, 954283392.0598009, 951482664.6452805, 948724830.419192, 946009287.0204711, 943335446.0466144, 940702732.6920515, 938110585.3982822, 935558455.5153402, 933045806.9741739, 930572115.9695412, 928136870.6530436, 925739570.8359294, 923379727.7013203, 921056863.5255231, 918770511.4081094, 916520215.0104488, 914305528.3024075, 912126015.3169218, 909981249.9121773, 907870815.5411354, 905794305.0281495, 903751320.3524368, 901741472.4381704, 899764380.9509714, 897819674.100586, 895906988.4495466, 894025968.7276121, 892176267.6518097, 890357545.751882, 888569471.2009785, 886811719.651413, 885083974.0753298, 883385924.6101224, 881717268.4084547, 880077709.4927385, 878466958.6139356, 876884733.1145413, 875330756.7956297, 873804759.7878312, 872306478.4261271, 870835655.128345, 869392038.2772449, 867975382.1060901, 866585446.5876005, 865221997.3261902, 863884805.4533938, 862573647.5263915, 861288305.4295422, 860028566.2788432, 858794222.3292333, 857585070.8846589, 856400914.2108306, 855241559.4505954, 854106818.5418532, 852996508.1379528, 851910449.5304976, 850848468.5745038, 849810395.6158452, 848796065.4209285, 847805317.1085439, 846837994.0838346, 845893943.9743341, 844973018.5680214, 844075073.7533456, 843199969.4611709, 842347569.6086023, 841517742.0446435, 840710358.4976493, 839925294.5245291, 839162429.4616671, 838421646.3775188, 837702832.0268507, 837005876.8065875, 836330674.7132332, 835677123.3018404, 835045123.6464884, 834434580.3022488, 833845401.2686082]}, {\"line\": {\"color\": \"rgb(236, 171, 20)\"}, \"mode\": \"lines\", \"name\": \"Measurement\", \"type\": \"scatter\", \"x\": [0.001, 0.011, 0.020999999999999998, 0.030999999999999996, 0.040999999999999995, 0.05099999999999999, 0.06099999999999999, 0.071, 0.08099999999999999, 0.09099999999999998, 0.10099999999999998, 0.11099999999999999, 0.12099999999999998, 0.13099999999999998, 0.141, 0.15099999999999997, 0.16099999999999998, 0.17099999999999999, 0.18099999999999997, 0.19099999999999998, 0.20099999999999996, 0.21099999999999997, 0.22099999999999997, 0.23099999999999996, 0.24099999999999996, 0.25099999999999995, 0.26099999999999995, 0.27099999999999996, 0.28099999999999997, 0.291, 0.30099999999999993, 0.31099999999999994, 0.32099999999999995, 0.33099999999999996, 0.34099999999999997, 0.3509999999999999, 0.36099999999999993, 0.37099999999999994, 0.38099999999999995, 0.39099999999999996, 0.4009999999999999, 0.4109999999999999, 0.42099999999999993, 0.43099999999999994, 0.44099999999999995, 0.45099999999999996, 0.4609999999999999, 0.4709999999999999, 0.4809999999999999, 0.49099999999999994, 0.5009999999999999, 0.5109999999999999, 0.5209999999999999, 0.5309999999999999, 0.5409999999999999, 0.5509999999999999, 0.5609999999999999, 0.571, 0.581, 0.5909999999999999, 0.6009999999999999, 0.6109999999999999, 0.6209999999999999, 0.6309999999999999, 0.6409999999999999, 0.6509999999999999, 0.6609999999999999, 0.6709999999999999, 0.6809999999999999, 0.691, 0.7009999999999998, 0.7109999999999999, 0.7209999999999999, 0.7309999999999999, 0.7409999999999999, 0.7509999999999999, 0.7609999999999999, 0.7709999999999999, 0.7809999999999999, 0.7909999999999999, 0.8009999999999998, 0.8109999999999998, 0.8209999999999998, 0.8309999999999998, 0.8409999999999999, 0.8509999999999999, 0.8609999999999999, 0.8709999999999999, 0.8809999999999999, 0.8909999999999999, 0.9009999999999999, 0.9109999999999998, 0.9209999999999998, 0.9309999999999998, 0.9409999999999998, 0.9509999999999998, 0.9609999999999999, 0.9709999999999999, 0.9809999999999999, 0.9909999999999999, 1.001, 1.0109999999999997, 1.0209999999999997, 1.0309999999999997, 1.0409999999999997, 1.0509999999999997, 1.0609999999999997, 1.0709999999999997, 1.0809999999999997, 1.0909999999999997, 1.1009999999999998, 1.1109999999999998, 1.1209999999999998, 1.1309999999999998, 1.1409999999999998, 1.1509999999999998, 1.1609999999999998, 1.1709999999999998, 1.1809999999999996, 1.1909999999999996, 1.2009999999999996, 1.2109999999999996, 1.2209999999999996, 1.2309999999999997, 1.2409999999999997, 1.2509999999999997, 1.2609999999999997, 1.2709999999999997, 1.2809999999999997, 1.2909999999999997, 1.3009999999999997, 1.3109999999999997, 1.3209999999999997, 1.3309999999999997, 1.3409999999999997, 1.3509999999999998, 1.3609999999999998, 1.3709999999999998, 1.3809999999999998, 1.3909999999999996, 1.4009999999999996, 1.4109999999999996, 1.4209999999999996, 1.4309999999999996, 1.4409999999999996, 1.4509999999999996, 1.4609999999999996, 1.4709999999999996, 1.4809999999999997, 1.4909999999999997, 1.5009999999999997, 1.5109999999999997, 1.5209999999999997, 1.5309999999999997, 1.5409999999999997, 1.5509999999999997, 1.5609999999999997, 1.5709999999999997, 1.5809999999999997, 1.5909999999999997, 1.6009999999999995, 1.6109999999999995, 1.6209999999999996, 1.6309999999999996, 1.6409999999999996, 1.6509999999999996, 1.6609999999999996, 1.6709999999999996, 1.6809999999999996, 1.6909999999999996, 1.7009999999999996, 1.7109999999999996, 1.7209999999999996, 1.7309999999999997, 1.7409999999999997, 1.7509999999999997, 1.7609999999999997, 1.7709999999999997, 1.7809999999999997, 1.7909999999999997, 1.8009999999999997, 1.8109999999999997, 1.8209999999999995, 1.8309999999999995, 1.8409999999999995, 1.8509999999999995, 1.8609999999999995, 1.8709999999999996, 1.8809999999999996, 1.8909999999999996, 1.9009999999999996, 1.9109999999999996, 1.9209999999999996, 1.9309999999999996, 1.9409999999999996, 1.9509999999999996, 1.9609999999999996, 1.9709999999999996, 1.9809999999999997, 1.9909999999999997], \"y\": [800000000.0, 800000000.0, 800000000.0, 800000000.0, 800000000.0, 800000000.0, 800000000.0, 800000000.0, 800000000.0, 800000000.0, 800000000.0, 800000000.0, 800000000.0, 800000000.0, 800000000.0, 800000000.0, 800000000.0, 800000000.0, 800000000.0, 800000000.0, 800000000.0, 800000000.0, 800000000.0, 800000000.0, 800000000.0, 800000000.0, 800000000.0, 800000000.0, 800000000.0, 800000000.0, 800000000.0, 800000000.0, 800000000.0, 800000000.0, 800000000.0, 800000000.0, 800000000.0, 800000000.0, 800000000.0, 800000000.0, 800000000.0, 800000000.0, 800000000.0, 800000000.0, 800000000.0, 800000000.0, 800000000.0, 800000000.0, 800000000.0, 800000000.0, 800000000.0, 800000000.0, 800000000.0, 800000000.0, 800000000.0, 800000000.0, 800000000.0, 800000000.0, 800000000.0, 800000000.0, 800000000.0, 800000000.0, 800000000.0, 800000000.0, 800000000.0, 800000000.0, 800000000.0, 800000000.0, 800000000.0, 800000000.0, 800000000.0, 800000000.0, 800000000.0, 800000000.0, 800000000.0, 800000000.0, 800000000.0, 800000000.0, 800000000.0, 800000000.0, 800000000.0, 800000000.0, 800000000.0, 800000000.0, 800000000.0, 800000000.0, 800000000.0, 800000000.0, 800000000.0, 800000000.0, 800000000.0, 800000000.0, 800000000.0, 800000000.0, 800000000.0, 800000000.0, 800000000.0, 800000000.0, 800000000.0, 800000000.0, 800000000.0, 800000000.0, 800000000.0, 800000000.0, 800000000.0, 800000000.0, 800000000.0, 800000000.0, 800000000.0, 800000000.0, 800000000.0, 800000000.0, 800000000.0, 800000000.0, 800000000.0, 800000000.0, 800000000.0, 800000000.0, 800000000.0, 800000000.0, 800000000.0, 800000000.0, 800000000.0, 800000000.0, 800000000.0, 800000000.0, 800000000.0, 800000000.0, 800000000.0, 800000000.0, 800000000.0, 800000000.0, 800000000.0, 800000000.0, 800000000.0, 800000000.0, 800000000.0, 800000000.0, 800000000.0, 800000000.0, 800000000.0, 800000000.0, 800000000.0, 800000000.0, 800000000.0, 800000000.0, 800000000.0, 800000000.0, 800000000.0, 800000000.0, 800000000.0, 800000000.0, 800000000.0, 800000000.0, 800000000.0, 800000000.0, 800000000.0, 800000000.0, 800000000.0, 800000000.0, 800000000.0, 800000000.0, 800000000.0, 800000000.0, 800000000.0, 800000000.0, 800000000.0, 800000000.0, 800000000.0, 800000000.0, 800000000.0, 800000000.0, 800000000.0, 800000000.0, 800000000.0, 800000000.0, 800000000.0, 800000000.0, 800000000.0, 800000000.0, 800000000.0, 800000000.0, 800000000.0, 800000000.0, 800000000.0, 800000000.0, 800000000.0, 800000000.0, 800000000.0, 800000000.0, 800000000.0, 800000000.0, 800000000.0, 800000000.0, 800000000.0, 800000000.0, 800000000.0, 800000000.0, 800000000.0, 800000000.0]}],\n",
       "                        {\"showlegend\": false, \"template\": {\"data\": {\"bar\": [{\"error_x\": {\"color\": \"#2a3f5f\"}, \"error_y\": {\"color\": \"#2a3f5f\"}, \"marker\": {\"line\": {\"color\": \"#E5ECF6\", \"width\": 0.5}}, \"type\": \"bar\"}], \"barpolar\": [{\"marker\": {\"line\": {\"color\": \"#E5ECF6\", \"width\": 0.5}}, \"type\": \"barpolar\"}], \"carpet\": [{\"aaxis\": {\"endlinecolor\": \"#2a3f5f\", \"gridcolor\": \"white\", \"linecolor\": \"white\", \"minorgridcolor\": \"white\", \"startlinecolor\": \"#2a3f5f\"}, \"baxis\": {\"endlinecolor\": \"#2a3f5f\", \"gridcolor\": \"white\", \"linecolor\": \"white\", \"minorgridcolor\": \"white\", \"startlinecolor\": \"#2a3f5f\"}, \"type\": \"carpet\"}], \"choropleth\": [{\"colorbar\": {\"outlinewidth\": 0, \"ticks\": \"\"}, \"type\": \"choropleth\"}], \"contour\": [{\"colorbar\": {\"outlinewidth\": 0, \"ticks\": \"\"}, \"colorscale\": [[0.0, \"#0d0887\"], [0.1111111111111111, \"#46039f\"], [0.2222222222222222, \"#7201a8\"], [0.3333333333333333, \"#9c179e\"], [0.4444444444444444, \"#bd3786\"], [0.5555555555555556, \"#d8576b\"], [0.6666666666666666, \"#ed7953\"], [0.7777777777777778, \"#fb9f3a\"], [0.8888888888888888, \"#fdca26\"], [1.0, \"#f0f921\"]], \"type\": \"contour\"}], \"contourcarpet\": [{\"colorbar\": {\"outlinewidth\": 0, \"ticks\": \"\"}, \"type\": \"contourcarpet\"}], \"heatmap\": [{\"colorbar\": {\"outlinewidth\": 0, \"ticks\": \"\"}, \"colorscale\": [[0.0, \"#0d0887\"], [0.1111111111111111, \"#46039f\"], [0.2222222222222222, \"#7201a8\"], [0.3333333333333333, \"#9c179e\"], [0.4444444444444444, \"#bd3786\"], [0.5555555555555556, \"#d8576b\"], [0.6666666666666666, \"#ed7953\"], [0.7777777777777778, \"#fb9f3a\"], [0.8888888888888888, \"#fdca26\"], [1.0, \"#f0f921\"]], \"type\": \"heatmap\"}], \"heatmapgl\": [{\"colorbar\": {\"outlinewidth\": 0, \"ticks\": \"\"}, \"colorscale\": [[0.0, \"#0d0887\"], [0.1111111111111111, \"#46039f\"], [0.2222222222222222, \"#7201a8\"], [0.3333333333333333, \"#9c179e\"], [0.4444444444444444, \"#bd3786\"], [0.5555555555555556, \"#d8576b\"], [0.6666666666666666, \"#ed7953\"], [0.7777777777777778, \"#fb9f3a\"], [0.8888888888888888, \"#fdca26\"], [1.0, \"#f0f921\"]], \"type\": \"heatmapgl\"}], \"histogram\": [{\"marker\": {\"colorbar\": {\"outlinewidth\": 0, \"ticks\": \"\"}}, \"type\": \"histogram\"}], \"histogram2d\": [{\"colorbar\": {\"outlinewidth\": 0, \"ticks\": \"\"}, \"colorscale\": [[0.0, \"#0d0887\"], [0.1111111111111111, \"#46039f\"], [0.2222222222222222, \"#7201a8\"], [0.3333333333333333, \"#9c179e\"], [0.4444444444444444, \"#bd3786\"], [0.5555555555555556, \"#d8576b\"], [0.6666666666666666, \"#ed7953\"], [0.7777777777777778, \"#fb9f3a\"], [0.8888888888888888, \"#fdca26\"], [1.0, \"#f0f921\"]], \"type\": \"histogram2d\"}], \"histogram2dcontour\": [{\"colorbar\": {\"outlinewidth\": 0, \"ticks\": \"\"}, \"colorscale\": [[0.0, \"#0d0887\"], [0.1111111111111111, \"#46039f\"], [0.2222222222222222, \"#7201a8\"], [0.3333333333333333, \"#9c179e\"], [0.4444444444444444, \"#bd3786\"], [0.5555555555555556, \"#d8576b\"], [0.6666666666666666, \"#ed7953\"], [0.7777777777777778, \"#fb9f3a\"], [0.8888888888888888, \"#fdca26\"], [1.0, \"#f0f921\"]], \"type\": \"histogram2dcontour\"}], \"mesh3d\": [{\"colorbar\": {\"outlinewidth\": 0, \"ticks\": \"\"}, \"type\": \"mesh3d\"}], \"parcoords\": [{\"line\": {\"colorbar\": {\"outlinewidth\": 0, \"ticks\": \"\"}}, \"type\": \"parcoords\"}], \"scatter\": [{\"marker\": {\"colorbar\": {\"outlinewidth\": 0, \"ticks\": \"\"}}, \"type\": \"scatter\"}], \"scatter3d\": [{\"line\": {\"colorbar\": {\"outlinewidth\": 0, \"ticks\": \"\"}}, \"marker\": {\"colorbar\": {\"outlinewidth\": 0, \"ticks\": \"\"}}, \"type\": \"scatter3d\"}], \"scattercarpet\": [{\"marker\": {\"colorbar\": {\"outlinewidth\": 0, \"ticks\": \"\"}}, \"type\": \"scattercarpet\"}], \"scattergeo\": [{\"marker\": {\"colorbar\": {\"outlinewidth\": 0, \"ticks\": \"\"}}, \"type\": \"scattergeo\"}], \"scattergl\": [{\"marker\": {\"colorbar\": {\"outlinewidth\": 0, \"ticks\": \"\"}}, \"type\": \"scattergl\"}], \"scattermapbox\": [{\"marker\": {\"colorbar\": {\"outlinewidth\": 0, \"ticks\": \"\"}}, \"type\": \"scattermapbox\"}], \"scatterpolar\": [{\"marker\": {\"colorbar\": {\"outlinewidth\": 0, \"ticks\": \"\"}}, \"type\": \"scatterpolar\"}], \"scatterpolargl\": [{\"marker\": {\"colorbar\": {\"outlinewidth\": 0, \"ticks\": \"\"}}, \"type\": \"scatterpolargl\"}], \"scatterternary\": [{\"marker\": {\"colorbar\": {\"outlinewidth\": 0, \"ticks\": \"\"}}, \"type\": \"scatterternary\"}], \"surface\": [{\"colorbar\": {\"outlinewidth\": 0, \"ticks\": \"\"}, \"colorscale\": [[0.0, \"#0d0887\"], [0.1111111111111111, \"#46039f\"], [0.2222222222222222, \"#7201a8\"], [0.3333333333333333, \"#9c179e\"], [0.4444444444444444, \"#bd3786\"], [0.5555555555555556, \"#d8576b\"], [0.6666666666666666, \"#ed7953\"], [0.7777777777777778, \"#fb9f3a\"], [0.8888888888888888, \"#fdca26\"], [1.0, \"#f0f921\"]], \"type\": \"surface\"}], \"table\": [{\"cells\": {\"fill\": {\"color\": \"#EBF0F8\"}, \"line\": {\"color\": \"white\"}}, \"header\": {\"fill\": {\"color\": \"#C8D4E3\"}, \"line\": {\"color\": \"white\"}}, \"type\": \"table\"}]}, \"layout\": {\"annotationdefaults\": {\"arrowcolor\": \"#2a3f5f\", \"arrowhead\": 0, \"arrowwidth\": 1}, \"colorscale\": {\"diverging\": [[0, \"#8e0152\"], [0.1, \"#c51b7d\"], [0.2, \"#de77ae\"], [0.3, \"#f1b6da\"], [0.4, \"#fde0ef\"], [0.5, \"#f7f7f7\"], [0.6, \"#e6f5d0\"], [0.7, \"#b8e186\"], [0.8, \"#7fbc41\"], [0.9, \"#4d9221\"], [1, \"#276419\"]], \"sequential\": [[0.0, \"#0d0887\"], [0.1111111111111111, \"#46039f\"], [0.2222222222222222, \"#7201a8\"], [0.3333333333333333, \"#9c179e\"], [0.4444444444444444, \"#bd3786\"], [0.5555555555555556, \"#d8576b\"], [0.6666666666666666, \"#ed7953\"], [0.7777777777777778, \"#fb9f3a\"], [0.8888888888888888, \"#fdca26\"], [1.0, \"#f0f921\"]], \"sequentialminus\": [[0.0, \"#0d0887\"], [0.1111111111111111, \"#46039f\"], [0.2222222222222222, \"#7201a8\"], [0.3333333333333333, \"#9c179e\"], [0.4444444444444444, \"#bd3786\"], [0.5555555555555556, \"#d8576b\"], [0.6666666666666666, \"#ed7953\"], [0.7777777777777778, \"#fb9f3a\"], [0.8888888888888888, \"#fdca26\"], [1.0, \"#f0f921\"]]}, \"colorway\": [\"#636efa\", \"#EF553B\", \"#00cc96\", \"#ab63fa\", \"#FFA15A\", \"#19d3f3\", \"#FF6692\", \"#B6E880\", \"#FF97FF\", \"#FECB52\"], \"font\": {\"color\": \"#2a3f5f\"}, \"geo\": {\"bgcolor\": \"white\", \"lakecolor\": \"white\", \"landcolor\": \"#E5ECF6\", \"showlakes\": true, \"showland\": true, \"subunitcolor\": \"white\"}, \"hoverlabel\": {\"align\": \"left\"}, \"hovermode\": \"closest\", \"mapbox\": {\"style\": \"light\"}, \"paper_bgcolor\": \"white\", \"plot_bgcolor\": \"#E5ECF6\", \"polar\": {\"angularaxis\": {\"gridcolor\": \"white\", \"linecolor\": \"white\", \"ticks\": \"\"}, \"bgcolor\": \"#E5ECF6\", \"radialaxis\": {\"gridcolor\": \"white\", \"linecolor\": \"white\", \"ticks\": \"\"}}, \"scene\": {\"xaxis\": {\"backgroundcolor\": \"#E5ECF6\", \"gridcolor\": \"white\", \"gridwidth\": 2, \"linecolor\": \"white\", \"showbackground\": true, \"ticks\": \"\", \"zerolinecolor\": \"white\"}, \"yaxis\": {\"backgroundcolor\": \"#E5ECF6\", \"gridcolor\": \"white\", \"gridwidth\": 2, \"linecolor\": \"white\", \"showbackground\": true, \"ticks\": \"\", \"zerolinecolor\": \"white\"}, \"zaxis\": {\"backgroundcolor\": \"#E5ECF6\", \"gridcolor\": \"white\", \"gridwidth\": 2, \"linecolor\": \"white\", \"showbackground\": true, \"ticks\": \"\", \"zerolinecolor\": \"white\"}}, \"shapedefaults\": {\"line\": {\"color\": \"#2a3f5f\"}}, \"ternary\": {\"aaxis\": {\"gridcolor\": \"white\", \"linecolor\": \"white\", \"ticks\": \"\"}, \"baxis\": {\"gridcolor\": \"white\", \"linecolor\": \"white\", \"ticks\": \"\"}, \"bgcolor\": \"#E5ECF6\", \"caxis\": {\"gridcolor\": \"white\", \"linecolor\": \"white\", \"ticks\": \"\"}}, \"title\": {\"x\": 0.05}, \"xaxis\": {\"automargin\": true, \"gridcolor\": \"white\", \"linecolor\": \"white\", \"ticks\": \"\", \"zerolinecolor\": \"white\", \"zerolinewidth\": 2}, \"yaxis\": {\"automargin\": true, \"gridcolor\": \"white\", \"linecolor\": \"white\", \"ticks\": \"\", \"zerolinecolor\": \"white\", \"zerolinewidth\": 2}}}, \"title\": {\"text\": \"Adjusted Theoretical Growth Rate Dependent Cell Concentration\"}, \"xaxis\": {\"title\": {\"text\": \"Growth Rate (h<sup>-1</sup>)\"}}, \"yaxis\": {\"exponentformat\": \"power\", \"title\": {\"text\": \"Cell Concentration (mL<sup>-1</sup> &#183; OD<sup>-1</sup>)\"}}},\n",
       "                        {\"responsive\": true}\n",
       "                    ).then(function(){\n",
       "                            \n",
       "var gd = document.getElementById('20bbe206-046c-479c-af41-d093fe146390');\n",
       "var x = new MutationObserver(function (mutations, observer) {{\n",
       "        var display = window.getComputedStyle(gd).display;\n",
       "        if (!display || display === 'none') {{\n",
       "            console.log([gd, 'removed!']);\n",
       "            Plotly.purge(gd);\n",
       "            observer.disconnect();\n",
       "        }}\n",
       "}});\n",
       "\n",
       "// Listen for the removal of the full notebook cells\n",
       "var notebookContainer = gd.closest('#notebook-container');\n",
       "if (notebookContainer) {{\n",
       "    x.observe(notebookContainer, {childList: true});\n",
       "}}\n",
       "\n",
       "// Listen for the clearing of the current output cell\n",
       "var outputEl = gd.closest('.output');\n",
       "if (outputEl) {{\n",
       "    x.observe(outputEl, {childList: true});\n",
       "}}\n",
       "\n",
       "                        })\n",
       "                };\n",
       "                });\n",
       "            </script>\n",
       "        </div>"
      ]
     },
     "metadata": {},
     "output_type": "display_data"
    }
   ],
   "source": [
    "trace = go.Scatter(\n",
    "    name='Measurement',\n",
    "    x=ageRange,\n",
    "    y=[popCellCount(i) for i in ageRange],\n",
    "    mode='lines',\n",
    "    line=dict(color='rgb(31, 119, 180)'))\n",
    "\n",
    "trace1 = go.Scatter(\n",
    "    name='Measurement',\n",
    "    x=ageRange,\n",
    "    y=[8.0*10.0**8.0]*len(ageRange),\n",
    "    mode='lines',\n",
    "    line=dict(color='rgb(236, 171, 20)'))\n",
    "\n",
    "\n",
    "# Trace order can be important\n",
    "# with continuous error bars\n",
    "data = [trace, trace1]\n",
    "\n",
    "layout = go.Layout(\n",
    "    xaxis=dict(title='Growth Rate (h<sup>-1</sup>)'),\n",
    "    yaxis=dict(title='Cell Concentration (mL<sup>-1</sup> &#183; OD<sup>-1</sup>)', exponentformat = 'power'),\n",
    "    title='Adjusted Theoretical Growth Rate Dependent Cell Concentration',\n",
    "    showlegend = False)\n",
    "\n",
    "fig = go.Figure(data=data, layout=layout)\n",
    "iplot(fig, filename='pandas-continuous-error-bars')"
   ]
  },
  {
   "cell_type": "code",
   "execution_count": 9,
   "metadata": {},
   "outputs": [],
   "source": [
    "plotly.io.write_image(fig, 'meanCellAge_cell_concentration.png' , width=1200, height=800)"
   ]
  },
  {
   "cell_type": "code",
   "execution_count": null,
   "metadata": {},
   "outputs": [],
   "source": [
    "###### Fit data from thesis ####\n",
    "#C = 44.98*(1.0+(5.206*np.exp(-4.917/tau_h)))\n",
    "D = 62.8298142*np.exp(-213.585678*x)+25.5633968\n",
    "C = 235.796165*np.exp(-428.916673*x)+45.2188479"
   ]
  },
  {
   "cell_type": "code",
   "execution_count": 28,
   "metadata": {},
   "outputs": [
    {
     "data": {
      "text/plain": [
       "1.3591409142295228"
      ]
     },
     "execution_count": 28,
     "metadata": {},
     "output_type": "execute_result"
    }
   ],
   "source": [
    "results = (ctypes.c_double*6)()\n",
    "status = simulator.cell_parameters(ctypes.c_double(60.0), ctypes.c_double(40.0), ctypes.c_double(20.0), ctypes.c_double(0.44269504088896355), results)\n",
    "results = [i for i in results]\n",
    "results[0]"
   ]
  },
  {
   "cell_type": "code",
   "execution_count": null,
   "metadata": {},
   "outputs": [],
   "source": [
    "######## Try with my own C and D values"
   ]
  },
  {
   "cell_type": "code",
   "execution_count": 78,
   "metadata": {},
   "outputs": [],
   "source": [
    "def popCellCount(dt_min, age_array, weights, real_cell_volume=2.5873453927627095):\n",
    "    #gr_h = np.log(2.0)/(divRate_min/60.0)\n",
    "    #gr_h = np.log(2.0)/(divRate_min/60.0)\n",
    "    #gr_h = 2.2\n",
    "    #C = 40.0\n",
    "    #D = 20.0\n",
    "    ##### gr_h ######\n",
    "    #gr_h = gr_h\n",
    "    #dt_min = gr_h*60.0\n",
    "    #gr_min = np.log(2.0)/dt_min\n",
    "    #dt_h = np.log(2.0)/gr_h\n",
    "    ##### dt_min ####\n",
    "    dt_min = dt_min\n",
    "    gr_min = np.log(2)/dt_min\n",
    "    dt_h = dt_min/60.0\n",
    "    gr_h = np.log(2)/dt_h\n",
    "    ##### gr_min #####\n",
    "    #dt_min = np.log(2.0)/gr_min\n",
    "    #gr_min = gr_min\n",
    "    #dt_h = dt_min/60.0\n",
    "    #gr_h = np.log(2)/dt_h   \n",
    "    ###################\n",
    "    #print('Doubling Time: '+str(dt_min)+' minutes')\n",
    "    #print('Growth Rate: '+str(gr_min)+' * min-1')\n",
    "    #print('Doubling Time: '+str(dt_h)+' hours')\n",
    "    #print('Growth Rate: '+str(gr_h)+' * h-1')\n",
    "    D = 62.8298142*np.exp(-213.585678*gr_min)+25.5633968\n",
    "    C = 235.796165*np.exp(-428.916673*gr_min)+45.2188479\n",
    "    #print('C: '+str(C)+' min')\n",
    "    #print('D: '+str(D)+' min')\n",
    "    #1) calculate the average cell age\n",
    "    #mean_cell_age = 0.44269504088896355\n",
    "    #real_cell_volume = 3.0358446077728214 #when theoretical is 1.0 C=40.0, D=20.0\n",
    "    #real_cell_volume = 2.8530831045899547 #when theoretical is 1.0 and tau==C_fit+D_fit\n",
    "    #real_cell_volume = 2.85305343302496\n",
    "    #Volkmer cell concentration\n",
    "    #2) calculate the (measured) mean cell volume\n",
    "    #measured_cell_volume = -0.53*gr_h**2.0 + 2.41*gr_h + 1.62\n",
    "    #3) calculate \n",
    "    #results = (ctypes.c_double*6)()\n",
    "    #status = simulator.cell_parameters(ctypes.c_double(dt_min), ctypes.c_double(C), ctypes.c_double(D), ctypes.c_double(mean_cell_age), results)\n",
    "    ###status = simulator.cell_parameters(ctypes.c_double(divRate_min), ctypes.c_double(C), ctypes.c_double(D), ctypes.c_double(mean_cell_age), results)\n",
    "    #results = [i for i in results]\n",
    "    #theoretical_cell_volume = results[0]\n",
    "    #theoretical_cell_volume_adjustment = theoretical_cell_volume/measured_cell_volume\n",
    "    #### adjust for the different age \n",
    "    #age_array = np.arange(0.0, 1.0, 0.001)\n",
    "    #weights = {}\n",
    "    #for i in age_array:\n",
    "    #    weights[i] = integrate.quad(ageDistFunc, i, i+0.001)[0]\n",
    "    #### calculate the physical volume ###\n",
    "    physical_volume = []\n",
    "    Ga = []\n",
    "    #for i in age_array:\n",
    "    for i in age_array:\n",
    "        results = (ctypes.c_double*6)()\n",
    "        status = simulator.cell_parameters(ctypes.c_double(dt_min), ctypes.c_double(C), ctypes.c_double(D), ctypes.c_double(i), results)\n",
    "        results = [i for i in results]\n",
    "        for y in range(int(weights[i]*100000.0)):\n",
    "            physical_volume.append(results[0]*real_cell_volume)\n",
    "            Ga.append(results[2])\n",
    "    #cell_volume = -0.53*gr_h**2.0 + 2.41*gr_h + 1.62\n",
    "    #cell_concentration --> mL**-1 * OD**-1\n",
    "    #change this to use the median or mean of the theoretical cell distribution (see if they are close)\n",
    "    # and the std deviation \n",
    "    #population_cell_concentration = (3.6*10.0**9.0)/measured_cell_volume \n",
    "    #theoretical_cell_volume_adjustment = theoretical_cell_volume/measured_cell_volume\n",
    "    #print('Old: 8.0 * 10^8 * mL-1 * OD-1 ')\n",
    "    #print('New: {0:.2f} * 10^8 * mL-1 * OD-1'.format(population_cell_concentration/10**8))\n",
    "    #print('##################################')\n",
    "    return {'cell_concentration': (3.6*10.0**9.0)/np.mean(physical_volume),\n",
    "            'std_cell_concentration': np.std([(3.6*10.0**9.0)/i for i in physical_volume]),\n",
    "            'mean_physical_volume': np.mean(physical_volume),\n",
    "            'std_physical_volume': np.std(physical_volume),\n",
    "            'mean_Ga': np.mean(Ga),\n",
    "            'std_Ga': np.std(Ga)}"
   ]
  },
  {
   "cell_type": "code",
   "execution_count": null,
   "metadata": {},
   "outputs": [],
   "source": [
    "#################################################################################\n",
    "############################ Find the real volume when theo volume is 1.0  ######\n",
    "#################################################################################"
   ]
  },
  {
   "cell_type": "code",
   "execution_count": null,
   "metadata": {},
   "outputs": [],
   "source": [
    "### minimise this function to find when the functional for of C+D==tau"
   ]
  },
  {
   "cell_type": "code",
   "execution_count": 216,
   "metadata": {},
   "outputs": [],
   "source": [
    "from scipy import optimize\n",
    "def f(x):\n",
    "    if x<=0.0:\n",
    "        return 9999.0\n",
    "    else:\n",
    "        d1 = 62.8298142*np.exp(-213.585678*(np.log(2)/x))+25.5633968\n",
    "        c1 = 235.796165*np.exp(-428.916673*(np.log(2)/x))+45.2188479\n",
    "        #print(x)\n",
    "        #print(np.abs((np.log(2)/x)-(c1+d1)))\n",
    "        #print('#################')\n",
    "        return np.abs(x-(c1+d1))"
   ]
  },
  {
   "cell_type": "code",
   "execution_count": 217,
   "metadata": {},
   "outputs": [
    {
     "data": {
      "text/plain": [
       "[<matplotlib.lines.Line2D at 0x7f75456dba20>]"
      ]
     },
     "execution_count": 217,
     "metadata": {},
     "output_type": "execute_result"
    },
    {
     "data": {
      "image/png": "[encoded data removed]",
      "text/plain": [
       "<Figure size 432x288 with 1 Axes>"
      ]
     },
     "metadata": {
      "needs_background": "light"
     },
     "output_type": "display_data"
    }
   ],
   "source": [
    "t = np.arange(15.0, 250.0, 1.0)\n",
    "plt.plot(t, t)\n",
    "plt.plot(t, [62.8298142*np.exp(-213.585678*(np.log(2)/i))+25.5633968+235.796165*np.exp(-428.916673*(np.log(2)/i))+45.2188479 for i in t])"
   ]
  },
  {
   "cell_type": "code",
   "execution_count": 220,
   "metadata": {},
   "outputs": [],
   "source": [
    "result = optimize.minimize(f, np.array([10.0]), method = 'Nelder-Mead')"
   ]
  },
  {
   "cell_type": "code",
   "execution_count": 221,
   "metadata": {},
   "outputs": [
    {
     "data": {
      "text/plain": [
       " final_simplex: (array([[93.47442627],\n",
       "       [93.4744873 ]]), array([8.41582869e-06, 1.89339386e-05]))\n",
       "           fun: 8.41582868815749e-06\n",
       "       message: 'Optimization terminated successfully.'\n",
       "          nfev: 54\n",
       "           nit: 27\n",
       "        status: 0\n",
       "       success: True\n",
       "             x: array([93.47442627])"
      ]
     },
     "execution_count": 221,
     "metadata": {},
     "output_type": "execute_result"
    }
   ],
   "source": [
    "result"
   ]
  },
  {
   "cell_type": "code",
   "execution_count": 180,
   "metadata": {},
   "outputs": [],
   "source": [
    "#### Results are:\n",
    "dt_min = float(result['x'][0])"
   ]
  },
  {
   "cell_type": "code",
   "execution_count": 181,
   "metadata": {},
   "outputs": [
    {
     "name": "stdout",
     "output_type": "stream",
     "text": [
      "Minimization (when C+D==tau) returned a doubling time of: 93.47444915771484\n",
      "Measured volume when C+D==tau: 2.5873453927627095\n"
     ]
    }
   ],
   "source": [
    "#calculate when \n",
    "gr_min = np.log(2)/dt_min\n",
    "dt_h = dt_min/60.0\n",
    "gr_h = np.log(2)/dt_h\n",
    "measured_volume = -0.53*gr_h**2.0 + 2.41*gr_h + 1.62\n",
    "print('Minimization (when C+D==tau) returned a doubling time of: '+str(dt_min))\n",
    "print('Measured volume when C+D==tau: '+str(measured_volume))\n",
    "\n",
    "#print(-0.53*dt_h**2.0 + 2.41*dt_h + 1.62)"
   ]
  },
  {
   "cell_type": "code",
   "execution_count": null,
   "metadata": {},
   "outputs": [],
   "source": [
    "######################## weights and age_dist ###################"
   ]
  },
  {
   "cell_type": "code",
   "execution_count": 67,
   "metadata": {},
   "outputs": [],
   "source": [
    "def ageDistFunc(a):\n",
    " return 2.0*np.log(2.0)*np.exp(-a*np.log(2))"
   ]
  },
  {
   "cell_type": "code",
   "execution_count": 68,
   "metadata": {},
   "outputs": [],
   "source": [
    "age_array = np.arange(0.0, 1.0, 0.001)\n",
    "weights = {}\n",
    "for i in age_array:\n",
    "    weights[i] = integrate.quad(ageDistFunc, i, i+0.001)[0]"
   ]
  },
  {
   "cell_type": "code",
   "execution_count": null,
   "metadata": {},
   "outputs": [],
   "source": [
    "#######################################################################\n",
    "########################## plot the cell concentration dt_min #########\n",
    "#######################################################################"
   ]
  },
  {
   "cell_type": "code",
   "execution_count": null,
   "metadata": {},
   "outputs": [],
   "source": [
    "plt.plot(dt_min, [i['cell_concentration'] for i in results])\n",
    "plt.plot(dt_min, [8.0*10.0**8.0]*len(dt_min))\n",
    "plt.xlabel('Doubling Time (min)')\n",
    "plt.ylabel('Cell Number * 10^8 * mL-1 * OD-1')"
   ]
  },
  {
   "cell_type": "code",
   "execution_count": 79,
   "metadata": {
    "scrolled": true
   },
   "outputs": [
    {
     "data": {
      "application/vnd.plotly.v1+json": {
       "config": {
        "linkText": "Export to plot.ly",
        "plotlyServerURL": "https://plot.ly",
        "showLink": false
       },
       "data": [
        {
         "line": {
          "width": 0
         },
         "marker": {
          "color": "#444"
         },
         "mode": "lines",
         "name": "Lower Bound",
         "type": "scatter",
         "x": [
          18,
          23,
          28,
          33,
          38,
          43,
          48,
          53,
          58,
          63,
          68,
          73,
          78,
          83,
          88,
          93,
          98,
          103,
          108,
          113,
          118,
          123,
          128,
          133,
          138,
          143,
          148,
          153,
          158,
          163,
          168,
          173,
          178,
          183,
          188,
          193,
          198,
          203,
          208,
          213,
          218,
          223,
          228,
          233,
          238,
          243,
          248
         ],
         "y": [
          105323492.74660219,
          190029249.02800208,
          276757757.2863041,
          358227585.0655831,
          431491725.2628252,
          495830825.2786693,
          551571613.2867689,
          599487067.5155699,
          640502363.6542404,
          675552205.1390125,
          705513013.5666956,
          731173297.5406222,
          753224181.1802115,
          772260701.7233732,
          788788660.0094938,
          803234001.5890114,
          815952962.2238609,
          827241974.0499954,
          837346802.5279157,
          846470676.8954419,
          854781352.1273035,
          862417139.7849568,
          869491996.2859619,
          876099778.5652835,
          882317781.05482,
          888209662.2319808,
          893827858.591598,
          899215571.73063,
          904408401.9910865,
          909435690.6775967,
          914321622.6621416,
          919086132.3358325,
          923745648.335495,
          928313706.1509533,
          932801452.4640328,
          937218060.732586,
          941571073.9697149,
          945866687.7516079,
          950109984.1052389,
          954305124.9843594,
          958455512.4589581,
          962563921.4533963,
          966632609.8172058,
          970663409.655441,
          974657803.1461191,
          978616985.5010686,
          982541917.2594213
         ]
        },
        {
         "fill": "tonexty",
         "fillcolor": "rgba(68, 68, 68, 0.3)",
         "line": {
          "color": "rgb(31, 119, 180)"
         },
         "mode": "lines",
         "name": "Measurement",
         "type": "scatter",
         "x": [
          18,
          23,
          28,
          33,
          38,
          43,
          48,
          53,
          58,
          63,
          68,
          73,
          78,
          83,
          88,
          93,
          98,
          103,
          108,
          113,
          118,
          123,
          128,
          133,
          138,
          143,
          148,
          153,
          158,
          163,
          168,
          173,
          178,
          183,
          188,
          193,
          198,
          203,
          208,
          213,
          218,
          223,
          228,
          233,
          238,
          243,
          248
         ],
         "y": [
          131611721.15943633,
          237459619.72019145,
          345835139.25340366,
          447639437.39219356,
          539189948.4811485,
          619587773.0320965,
          689241188.9720643,
          749116106.1129235,
          800368619.4687203,
          844166729.8796104,
          881605609.4843957,
          913670574.7754118,
          941225251.0704252,
          965013193.9902472,
          985666449.7887536,
          1003717277.9415032,
          1019610828.9134506,
          1033717522.8511592,
          1046344467.0714731,
          1057745615.8355159,
          1068130594.9388384,
          1077672237.83184,
          1086512943.8962839,
          1094769996.2988346,
          1102539981.7833688,
          1109902447.6717596,
          1116922918.3513625,
          1123655378.32634,
          1130144313.6098645,
          1136426388.9526262,
          1142531825.6523092,
          1148485533.6265016,
          1154308042.019391,
          1160016264.7128286,
          1165624130.54588,
          1171143102.6265895,
          1176582606.6672187,
          1181950384.6294565,
          1187252786.989342,
          1192495014.5039167,
          1197681318.3831918,
          1202815166.1590705,
          1207899379.2292795,
          1212936246.9833298,
          1217927621.543619,
          1222874996.4409995,
          1227779571.9604702
         ]
        },
        {
         "fill": "tonexty",
         "fillcolor": "rgba(68, 68, 68, 0.3)",
         "line": {
          "width": 0
         },
         "marker": {
          "color": "#444"
         },
         "mode": "lines",
         "name": "Upper Bound",
         "type": "scatter",
         "x": [
          18,
          23,
          28,
          33,
          38,
          43,
          48,
          53,
          58,
          63,
          68,
          73,
          78,
          83,
          88,
          93,
          98,
          103,
          108,
          113,
          118,
          123,
          128,
          133,
          138,
          143,
          148,
          153,
          158,
          163,
          168,
          173,
          178,
          183,
          188,
          193,
          198,
          203,
          208,
          213,
          218,
          223,
          228,
          233,
          238,
          243,
          248
         ],
         "y": [
          157899949.57227045,
          284889990.4123808,
          414912521.2205032,
          537051289.718804,
          646888171.6994718,
          743344720.7855237,
          826910764.6573596,
          898745144.7102771,
          960234875.2832003,
          1012781254.6202084,
          1057698205.4020959,
          1096167852.0102015,
          1129226320.9606388,
          1157765686.2571213,
          1182544239.5680134,
          1204200554.293995,
          1223268695.6030405,
          1240193071.652323,
          1255342131.6150305,
          1269020554.77559,
          1281479837.7503734,
          1292927335.8787231,
          1303533891.5066059,
          1313440214.0323856,
          1322762182.5119178,
          1331595233.1115384,
          1340017978.111127,
          1348095184.9220498,
          1355880225.2286425,
          1363417087.227656,
          1370742028.6424768,
          1377884934.9171705,
          1384870435.7032871,
          1391718823.274704,
          1398446808.6277273,
          1405068144.520593,
          1411594139.3647225,
          1418034081.5073051,
          1424395589.873445,
          1430684904.0234742,
          1436907124.3074255,
          1443066410.8647447,
          1449166148.6413531,
          1455209084.3112185,
          1461197439.9411187,
          1467133007.3809304,
          1473017226.661519
         ]
        },
        {
         "marker": {
          "color": "#d62728",
          "line": {
           "color": "DarkSlateGrey",
           "width": 2
          },
          "size": 12
         },
         "name": "Old Measurement",
         "type": "scatter",
         "x": [
          58.0516142
         ],
         "y": [
          800856853.4636706
         ]
        }
       ],
       "layout": {
        "annotations": [
         {
          "arrowhead": 0,
          "ax": 0,
          "ay": 0,
          "font": {
           "color": "#d62728"
          },
          "showarrow": false,
          "text": "(58.05, 0.8x10<sup>9</sup>)",
          "x": 72,
          "xref": "x",
          "y": 770000000,
          "yref": "y"
         }
        ],
        "showlegend": false,
        "template": {
         "data": {
          "bar": [
           {
            "error_x": {
             "color": "#2a3f5f"
            },
            "error_y": {
             "color": "#2a3f5f"
            },
            "marker": {
             "line": {
              "color": "white",
              "width": 0.5
             }
            },
            "type": "bar"
           }
          ],
          "barpolar": [
           {
            "marker": {
             "line": {
              "color": "white",
              "width": 0.5
             }
            },
            "type": "barpolar"
           }
          ],
          "carpet": [
           {
            "aaxis": {
             "endlinecolor": "#2a3f5f",
             "gridcolor": "#C8D4E3",
             "linecolor": "#C8D4E3",
             "minorgridcolor": "#C8D4E3",
             "startlinecolor": "#2a3f5f"
            },
            "baxis": {
             "endlinecolor": "#2a3f5f",
             "gridcolor": "#C8D4E3",
             "linecolor": "#C8D4E3",
             "minorgridcolor": "#C8D4E3",
             "startlinecolor": "#2a3f5f"
            },
            "type": "carpet"
           }
          ],
          "choropleth": [
           {
            "colorbar": {
             "outlinewidth": 0,
             "ticks": ""
            },
            "type": "choropleth"
           }
          ],
          "contour": [
           {
            "colorbar": {
             "outlinewidth": 0,
             "ticks": ""
            },
            "colorscale": [
             [
              0,
              "#0d0887"
             ],
             [
              0.1111111111111111,
              "#46039f"
             ],
             [
              0.2222222222222222,
              "#7201a8"
             ],
             [
              0.3333333333333333,
              "#9c179e"
             ],
             [
              0.4444444444444444,
              "#bd3786"
             ],
             [
              0.5555555555555556,
              "#d8576b"
             ],
             [
              0.6666666666666666,
              "#ed7953"
             ],
             [
              0.7777777777777778,
              "#fb9f3a"
             ],
             [
              0.8888888888888888,
              "#fdca26"
             ],
             [
              1,
              "#f0f921"
             ]
            ],
            "type": "contour"
           }
          ],
          "contourcarpet": [
           {
            "colorbar": {
             "outlinewidth": 0,
             "ticks": ""
            },
            "type": "contourcarpet"
           }
          ],
          "heatmap": [
           {
            "colorbar": {
             "outlinewidth": 0,
             "ticks": ""
            },
            "colorscale": [
             [
              0,
              "#0d0887"
             ],
             [
              0.1111111111111111,
              "#46039f"
             ],
             [
              0.2222222222222222,
              "#7201a8"
             ],
             [
              0.3333333333333333,
              "#9c179e"
             ],
             [
              0.4444444444444444,
              "#bd3786"
             ],
             [
              0.5555555555555556,
              "#d8576b"
             ],
             [
              0.6666666666666666,
              "#ed7953"
             ],
             [
              0.7777777777777778,
              "#fb9f3a"
             ],
             [
              0.8888888888888888,
              "#fdca26"
             ],
             [
              1,
              "#f0f921"
             ]
            ],
            "type": "heatmap"
           }
          ],
          "heatmapgl": [
           {
            "colorbar": {
             "outlinewidth": 0,
             "ticks": ""
            },
            "colorscale": [
             [
              0,
              "#0d0887"
             ],
             [
              0.1111111111111111,
              "#46039f"
             ],
             [
              0.2222222222222222,
              "#7201a8"
             ],
             [
              0.3333333333333333,
              "#9c179e"
             ],
             [
              0.4444444444444444,
              "#bd3786"
             ],
             [
              0.5555555555555556,
              "#d8576b"
             ],
             [
              0.6666666666666666,
              "#ed7953"
             ],
             [
              0.7777777777777778,
              "#fb9f3a"
             ],
             [
              0.8888888888888888,
              "#fdca26"
             ],
             [
              1,
              "#f0f921"
             ]
            ],
            "type": "heatmapgl"
           }
          ],
          "histogram": [
           {
            "marker": {
             "colorbar": {
              "outlinewidth": 0,
              "ticks": ""
             }
            },
            "type": "histogram"
           }
          ],
          "histogram2d": [
           {
            "colorbar": {
             "outlinewidth": 0,
             "ticks": ""
            },
            "colorscale": [
             [
              0,
              "#0d0887"
             ],
             [
              0.1111111111111111,
              "#46039f"
             ],
             [
              0.2222222222222222,
              "#7201a8"
             ],
             [
              0.3333333333333333,
              "#9c179e"
             ],
             [
              0.4444444444444444,
              "#bd3786"
             ],
             [
              0.5555555555555556,
              "#d8576b"
             ],
             [
              0.6666666666666666,
              "#ed7953"
             ],
             [
              0.7777777777777778,
              "#fb9f3a"
             ],
             [
              0.8888888888888888,
              "#fdca26"
             ],
             [
              1,
              "#f0f921"
             ]
            ],
            "type": "histogram2d"
           }
          ],
          "histogram2dcontour": [
           {
            "colorbar": {
             "outlinewidth": 0,
             "ticks": ""
            },
            "colorscale": [
             [
              0,
              "#0d0887"
             ],
             [
              0.1111111111111111,
              "#46039f"
             ],
             [
              0.2222222222222222,
              "#7201a8"
             ],
             [
              0.3333333333333333,
              "#9c179e"
             ],
             [
              0.4444444444444444,
              "#bd3786"
             ],
             [
              0.5555555555555556,
              "#d8576b"
             ],
             [
              0.6666666666666666,
              "#ed7953"
             ],
             [
              0.7777777777777778,
              "#fb9f3a"
             ],
             [
              0.8888888888888888,
              "#fdca26"
             ],
             [
              1,
              "#f0f921"
             ]
            ],
            "type": "histogram2dcontour"
           }
          ],
          "mesh3d": [
           {
            "colorbar": {
             "outlinewidth": 0,
             "ticks": ""
            },
            "type": "mesh3d"
           }
          ],
          "parcoords": [
           {
            "line": {
             "colorbar": {
              "outlinewidth": 0,
              "ticks": ""
             }
            },
            "type": "parcoords"
           }
          ],
          "scatter": [
           {
            "marker": {
             "colorbar": {
              "outlinewidth": 0,
              "ticks": ""
             }
            },
            "type": "scatter"
           }
          ],
          "scatter3d": [
           {
            "line": {
             "colorbar": {
              "outlinewidth": 0,
              "ticks": ""
             }
            },
            "marker": {
             "colorbar": {
              "outlinewidth": 0,
              "ticks": ""
             }
            },
            "type": "scatter3d"
           }
          ],
          "scattercarpet": [
           {
            "marker": {
             "colorbar": {
              "outlinewidth": 0,
              "ticks": ""
             }
            },
            "type": "scattercarpet"
           }
          ],
          "scattergeo": [
           {
            "marker": {
             "colorbar": {
              "outlinewidth": 0,
              "ticks": ""
             }
            },
            "type": "scattergeo"
           }
          ],
          "scattergl": [
           {
            "marker": {
             "colorbar": {
              "outlinewidth": 0,
              "ticks": ""
             }
            },
            "type": "scattergl"
           }
          ],
          "scattermapbox": [
           {
            "marker": {
             "colorbar": {
              "outlinewidth": 0,
              "ticks": ""
             }
            },
            "type": "scattermapbox"
           }
          ],
          "scatterpolar": [
           {
            "marker": {
             "colorbar": {
              "outlinewidth": 0,
              "ticks": ""
             }
            },
            "type": "scatterpolar"
           }
          ],
          "scatterpolargl": [
           {
            "marker": {
             "colorbar": {
              "outlinewidth": 0,
              "ticks": ""
             }
            },
            "type": "scatterpolargl"
           }
          ],
          "scatterternary": [
           {
            "marker": {
             "colorbar": {
              "outlinewidth": 0,
              "ticks": ""
             }
            },
            "type": "scatterternary"
           }
          ],
          "surface": [
           {
            "colorbar": {
             "outlinewidth": 0,
             "ticks": ""
            },
            "colorscale": [
             [
              0,
              "#0d0887"
             ],
             [
              0.1111111111111111,
              "#46039f"
             ],
             [
              0.2222222222222222,
              "#7201a8"
             ],
             [
              0.3333333333333333,
              "#9c179e"
             ],
             [
              0.4444444444444444,
              "#bd3786"
             ],
             [
              0.5555555555555556,
              "#d8576b"
             ],
             [
              0.6666666666666666,
              "#ed7953"
             ],
             [
              0.7777777777777778,
              "#fb9f3a"
             ],
             [
              0.8888888888888888,
              "#fdca26"
             ],
             [
              1,
              "#f0f921"
             ]
            ],
            "type": "surface"
           }
          ],
          "table": [
           {
            "cells": {
             "fill": {
              "color": "#EBF0F8"
             },
             "line": {
              "color": "white"
             }
            },
            "header": {
             "fill": {
              "color": "#C8D4E3"
             },
             "line": {
              "color": "white"
             }
            },
            "type": "table"
           }
          ]
         },
         "layout": {
          "annotationdefaults": {
           "arrowcolor": "#2a3f5f",
           "arrowhead": 0,
           "arrowwidth": 1
          },
          "colorscale": {
           "diverging": [
            [
             0,
             "#8e0152"
            ],
            [
             0.1,
             "#c51b7d"
            ],
            [
             0.2,
             "#de77ae"
            ],
            [
             0.3,
             "#f1b6da"
            ],
            [
             0.4,
             "#fde0ef"
            ],
            [
             0.5,
             "#f7f7f7"
            ],
            [
             0.6,
             "#e6f5d0"
            ],
            [
             0.7,
             "#b8e186"
            ],
            [
             0.8,
             "#7fbc41"
            ],
            [
             0.9,
             "#4d9221"
            ],
            [
             1,
             "#276419"
            ]
           ],
           "sequential": [
            [
             0,
             "#0d0887"
            ],
            [
             0.1111111111111111,
             "#46039f"
            ],
            [
             0.2222222222222222,
             "#7201a8"
            ],
            [
             0.3333333333333333,
             "#9c179e"
            ],
            [
             0.4444444444444444,
             "#bd3786"
            ],
            [
             0.5555555555555556,
             "#d8576b"
            ],
            [
             0.6666666666666666,
             "#ed7953"
            ],
            [
             0.7777777777777778,
             "#fb9f3a"
            ],
            [
             0.8888888888888888,
             "#fdca26"
            ],
            [
             1,
             "#f0f921"
            ]
           ],
           "sequentialminus": [
            [
             0,
             "#0d0887"
            ],
            [
             0.1111111111111111,
             "#46039f"
            ],
            [
             0.2222222222222222,
             "#7201a8"
            ],
            [
             0.3333333333333333,
             "#9c179e"
            ],
            [
             0.4444444444444444,
             "#bd3786"
            ],
            [
             0.5555555555555556,
             "#d8576b"
            ],
            [
             0.6666666666666666,
             "#ed7953"
            ],
            [
             0.7777777777777778,
             "#fb9f3a"
            ],
            [
             0.8888888888888888,
             "#fdca26"
            ],
            [
             1,
             "#f0f921"
            ]
           ]
          },
          "colorway": [
           "#636efa",
           "#EF553B",
           "#00cc96",
           "#ab63fa",
           "#FFA15A",
           "#19d3f3",
           "#FF6692",
           "#B6E880",
           "#FF97FF",
           "#FECB52"
          ],
          "font": {
           "color": "#2a3f5f"
          },
          "geo": {
           "bgcolor": "white",
           "lakecolor": "white",
           "landcolor": "white",
           "showlakes": true,
           "showland": true,
           "subunitcolor": "#C8D4E3"
          },
          "hoverlabel": {
           "align": "left"
          },
          "hovermode": "closest",
          "mapbox": {
           "style": "light"
          },
          "paper_bgcolor": "white",
          "plot_bgcolor": "white",
          "polar": {
           "angularaxis": {
            "gridcolor": "#EBF0F8",
            "linecolor": "#EBF0F8",
            "ticks": ""
           },
           "bgcolor": "white",
           "radialaxis": {
            "gridcolor": "#EBF0F8",
            "linecolor": "#EBF0F8",
            "ticks": ""
           }
          },
          "scene": {
           "xaxis": {
            "backgroundcolor": "white",
            "gridcolor": "#DFE8F3",
            "gridwidth": 2,
            "linecolor": "#EBF0F8",
            "showbackground": true,
            "ticks": "",
            "zerolinecolor": "#EBF0F8"
           },
           "yaxis": {
            "backgroundcolor": "white",
            "gridcolor": "#DFE8F3",
            "gridwidth": 2,
            "linecolor": "#EBF0F8",
            "showbackground": true,
            "ticks": "",
            "zerolinecolor": "#EBF0F8"
           },
           "zaxis": {
            "backgroundcolor": "white",
            "gridcolor": "#DFE8F3",
            "gridwidth": 2,
            "linecolor": "#EBF0F8",
            "showbackground": true,
            "ticks": "",
            "zerolinecolor": "#EBF0F8"
           }
          },
          "shapedefaults": {
           "line": {
            "color": "#2a3f5f"
           }
          },
          "ternary": {
           "aaxis": {
            "gridcolor": "#DFE8F3",
            "linecolor": "#A2B1C6",
            "ticks": ""
           },
           "baxis": {
            "gridcolor": "#DFE8F3",
            "linecolor": "#A2B1C6",
            "ticks": ""
           },
           "bgcolor": "white",
           "caxis": {
            "gridcolor": "#DFE8F3",
            "linecolor": "#A2B1C6",
            "ticks": ""
           }
          },
          "title": {
           "x": 0.05
          },
          "xaxis": {
           "automargin": true,
           "gridcolor": "#EBF0F8",
           "linecolor": "#EBF0F8",
           "ticks": "",
           "zerolinecolor": "#EBF0F8",
           "zerolinewidth": 2
          },
          "yaxis": {
           "automargin": true,
           "gridcolor": "#EBF0F8",
           "linecolor": "#EBF0F8",
           "ticks": "",
           "zerolinecolor": "#EBF0F8",
           "zerolinewidth": 2
          }
         }
        },
        "title": {
         "text": "Growth Rate Dependent Cell Concentration"
        },
        "xaxis": {
         "title": {
          "text": "Doubling Time (minutes)"
         }
        },
        "yaxis": {
         "exponentformat": "power",
         "title": {
          "text": "Cell Concentration (mL<sup>-1</sup> &#183; OD<sup>-1</sup>)"
         }
        }
       }
      },
      "text/html": [
       "<div>\n",
       "        \n",
       "        \n",
       "            <div id=\"5f4849e6-c68e-4a6a-ba68-950bb3a5e67d\" class=\"plotly-graph-div\" style=\"height:525px; width:100%;\"></div>\n",
       "            <script type=\"text/javascript\">\n",
       "                require([\"plotly\"], function(Plotly) {\n",
       "                    window.PLOTLYENV=window.PLOTLYENV || {};\n",
       "                    \n",
       "                if (document.getElementById(\"5f4849e6-c68e-4a6a-ba68-950bb3a5e67d\")) {\n",
       "                    Plotly.newPlot(\n",
       "                        '5f4849e6-c68e-4a6a-ba68-950bb3a5e67d',\n",
       "                        [{\"line\": {\"width\": 0}, \"marker\": {\"color\": \"#444\"}, \"mode\": \"lines\", \"name\": \"Lower Bound\", \"type\": \"scatter\", \"x\": [18.0, 23.0, 28.0, 33.0, 38.0, 43.0, 48.0, 53.0, 58.0, 63.0, 68.0, 73.0, 78.0, 83.0, 88.0, 93.0, 98.0, 103.0, 108.0, 113.0, 118.0, 123.0, 128.0, 133.0, 138.0, 143.0, 148.0, 153.0, 158.0, 163.0, 168.0, 173.0, 178.0, 183.0, 188.0, 193.0, 198.0, 203.0, 208.0, 213.0, 218.0, 223.0, 228.0, 233.0, 238.0, 243.0, 248.0], \"y\": [105323492.74660219, 190029249.02800208, 276757757.2863041, 358227585.0655831, 431491725.2628252, 495830825.2786693, 551571613.2867689, 599487067.5155699, 640502363.6542404, 675552205.1390125, 705513013.5666956, 731173297.5406222, 753224181.1802115, 772260701.7233732, 788788660.0094938, 803234001.5890114, 815952962.2238609, 827241974.0499954, 837346802.5279157, 846470676.8954419, 854781352.1273035, 862417139.7849568, 869491996.2859619, 876099778.5652835, 882317781.05482, 888209662.2319808, 893827858.591598, 899215571.73063, 904408401.9910865, 909435690.6775967, 914321622.6621416, 919086132.3358325, 923745648.335495, 928313706.1509533, 932801452.4640328, 937218060.732586, 941571073.9697149, 945866687.7516079, 950109984.1052389, 954305124.9843594, 958455512.4589581, 962563921.4533963, 966632609.8172058, 970663409.655441, 974657803.1461191, 978616985.5010686, 982541917.2594213]}, {\"fill\": \"tonexty\", \"fillcolor\": \"rgba(68, 68, 68, 0.3)\", \"line\": {\"color\": \"rgb(31, 119, 180)\"}, \"mode\": \"lines\", \"name\": \"Measurement\", \"type\": \"scatter\", \"x\": [18.0, 23.0, 28.0, 33.0, 38.0, 43.0, 48.0, 53.0, 58.0, 63.0, 68.0, 73.0, 78.0, 83.0, 88.0, 93.0, 98.0, 103.0, 108.0, 113.0, 118.0, 123.0, 128.0, 133.0, 138.0, 143.0, 148.0, 153.0, 158.0, 163.0, 168.0, 173.0, 178.0, 183.0, 188.0, 193.0, 198.0, 203.0, 208.0, 213.0, 218.0, 223.0, 228.0, 233.0, 238.0, 243.0, 248.0], \"y\": [131611721.15943633, 237459619.72019145, 345835139.25340366, 447639437.39219356, 539189948.4811485, 619587773.0320965, 689241188.9720643, 749116106.1129235, 800368619.4687203, 844166729.8796104, 881605609.4843957, 913670574.7754118, 941225251.0704252, 965013193.9902472, 985666449.7887536, 1003717277.9415032, 1019610828.9134506, 1033717522.8511592, 1046344467.0714731, 1057745615.8355159, 1068130594.9388384, 1077672237.83184, 1086512943.8962839, 1094769996.2988346, 1102539981.7833688, 1109902447.6717596, 1116922918.3513625, 1123655378.32634, 1130144313.6098645, 1136426388.9526262, 1142531825.6523092, 1148485533.6265016, 1154308042.019391, 1160016264.7128286, 1165624130.54588, 1171143102.6265895, 1176582606.6672187, 1181950384.6294565, 1187252786.989342, 1192495014.5039167, 1197681318.3831918, 1202815166.1590705, 1207899379.2292795, 1212936246.9833298, 1217927621.543619, 1222874996.4409995, 1227779571.9604702]}, {\"fill\": \"tonexty\", \"fillcolor\": \"rgba(68, 68, 68, 0.3)\", \"line\": {\"width\": 0}, \"marker\": {\"color\": \"#444\"}, \"mode\": \"lines\", \"name\": \"Upper Bound\", \"type\": \"scatter\", \"x\": [18.0, 23.0, 28.0, 33.0, 38.0, 43.0, 48.0, 53.0, 58.0, 63.0, 68.0, 73.0, 78.0, 83.0, 88.0, 93.0, 98.0, 103.0, 108.0, 113.0, 118.0, 123.0, 128.0, 133.0, 138.0, 143.0, 148.0, 153.0, 158.0, 163.0, 168.0, 173.0, 178.0, 183.0, 188.0, 193.0, 198.0, 203.0, 208.0, 213.0, 218.0, 223.0, 228.0, 233.0, 238.0, 243.0, 248.0], \"y\": [157899949.57227045, 284889990.4123808, 414912521.2205032, 537051289.718804, 646888171.6994718, 743344720.7855237, 826910764.6573596, 898745144.7102771, 960234875.2832003, 1012781254.6202084, 1057698205.4020959, 1096167852.0102015, 1129226320.9606388, 1157765686.2571213, 1182544239.5680134, 1204200554.293995, 1223268695.6030405, 1240193071.652323, 1255342131.6150305, 1269020554.77559, 1281479837.7503734, 1292927335.8787231, 1303533891.5066059, 1313440214.0323856, 1322762182.5119178, 1331595233.1115384, 1340017978.111127, 1348095184.9220498, 1355880225.2286425, 1363417087.227656, 1370742028.6424768, 1377884934.9171705, 1384870435.7032871, 1391718823.274704, 1398446808.6277273, 1405068144.520593, 1411594139.3647225, 1418034081.5073051, 1424395589.873445, 1430684904.0234742, 1436907124.3074255, 1443066410.8647447, 1449166148.6413531, 1455209084.3112185, 1461197439.9411187, 1467133007.3809304, 1473017226.661519]}, {\"marker\": {\"color\": \"#d62728\", \"line\": {\"color\": \"DarkSlateGrey\", \"width\": 2}, \"size\": 12}, \"name\": \"Old Measurement\", \"type\": \"scatter\", \"x\": [58.0516142], \"y\": [800856853.4636706]}],\n",
       "                        {\"annotations\": [{\"arrowhead\": 0, \"ax\": 0, \"ay\": 0, \"font\": {\"color\": \"#d62728\"}, \"showarrow\": false, \"text\": \"(58.05, 0.8x10<sup>9</sup>)\", \"x\": 72, \"xref\": \"x\", \"y\": 770000000.0, \"yref\": \"y\"}], \"showlegend\": false, \"template\": {\"data\": {\"bar\": [{\"error_x\": {\"color\": \"#2a3f5f\"}, \"error_y\": {\"color\": \"#2a3f5f\"}, \"marker\": {\"line\": {\"color\": \"white\", \"width\": 0.5}}, \"type\": \"bar\"}], \"barpolar\": [{\"marker\": {\"line\": {\"color\": \"white\", \"width\": 0.5}}, \"type\": \"barpolar\"}], \"carpet\": [{\"aaxis\": {\"endlinecolor\": \"#2a3f5f\", \"gridcolor\": \"#C8D4E3\", \"linecolor\": \"#C8D4E3\", \"minorgridcolor\": \"#C8D4E3\", \"startlinecolor\": \"#2a3f5f\"}, \"baxis\": {\"endlinecolor\": \"#2a3f5f\", \"gridcolor\": \"#C8D4E3\", \"linecolor\": \"#C8D4E3\", \"minorgridcolor\": \"#C8D4E3\", \"startlinecolor\": \"#2a3f5f\"}, \"type\": \"carpet\"}], \"choropleth\": [{\"colorbar\": {\"outlinewidth\": 0, \"ticks\": \"\"}, \"type\": \"choropleth\"}], \"contour\": [{\"colorbar\": {\"outlinewidth\": 0, \"ticks\": \"\"}, \"colorscale\": [[0.0, \"#0d0887\"], [0.1111111111111111, \"#46039f\"], [0.2222222222222222, \"#7201a8\"], [0.3333333333333333, \"#9c179e\"], [0.4444444444444444, \"#bd3786\"], [0.5555555555555556, \"#d8576b\"], [0.6666666666666666, \"#ed7953\"], [0.7777777777777778, \"#fb9f3a\"], [0.8888888888888888, \"#fdca26\"], [1.0, \"#f0f921\"]], \"type\": \"contour\"}], \"contourcarpet\": [{\"colorbar\": {\"outlinewidth\": 0, \"ticks\": \"\"}, \"type\": \"contourcarpet\"}], \"heatmap\": [{\"colorbar\": {\"outlinewidth\": 0, \"ticks\": \"\"}, \"colorscale\": [[0.0, \"#0d0887\"], [0.1111111111111111, \"#46039f\"], [0.2222222222222222, \"#7201a8\"], [0.3333333333333333, \"#9c179e\"], [0.4444444444444444, \"#bd3786\"], [0.5555555555555556, \"#d8576b\"], [0.6666666666666666, \"#ed7953\"], [0.7777777777777778, \"#fb9f3a\"], [0.8888888888888888, \"#fdca26\"], [1.0, \"#f0f921\"]], \"type\": \"heatmap\"}], \"heatmapgl\": [{\"colorbar\": {\"outlinewidth\": 0, \"ticks\": \"\"}, \"colorscale\": [[0.0, \"#0d0887\"], [0.1111111111111111, \"#46039f\"], [0.2222222222222222, \"#7201a8\"], [0.3333333333333333, \"#9c179e\"], [0.4444444444444444, \"#bd3786\"], [0.5555555555555556, \"#d8576b\"], [0.6666666666666666, \"#ed7953\"], [0.7777777777777778, \"#fb9f3a\"], [0.8888888888888888, \"#fdca26\"], [1.0, \"#f0f921\"]], \"type\": \"heatmapgl\"}], \"histogram\": [{\"marker\": {\"colorbar\": {\"outlinewidth\": 0, \"ticks\": \"\"}}, \"type\": \"histogram\"}], \"histogram2d\": [{\"colorbar\": {\"outlinewidth\": 0, \"ticks\": \"\"}, \"colorscale\": [[0.0, \"#0d0887\"], [0.1111111111111111, \"#46039f\"], [0.2222222222222222, \"#7201a8\"], [0.3333333333333333, \"#9c179e\"], [0.4444444444444444, \"#bd3786\"], [0.5555555555555556, \"#d8576b\"], [0.6666666666666666, \"#ed7953\"], [0.7777777777777778, \"#fb9f3a\"], [0.8888888888888888, \"#fdca26\"], [1.0, \"#f0f921\"]], \"type\": \"histogram2d\"}], \"histogram2dcontour\": [{\"colorbar\": {\"outlinewidth\": 0, \"ticks\": \"\"}, \"colorscale\": [[0.0, \"#0d0887\"], [0.1111111111111111, \"#46039f\"], [0.2222222222222222, \"#7201a8\"], [0.3333333333333333, \"#9c179e\"], [0.4444444444444444, \"#bd3786\"], [0.5555555555555556, \"#d8576b\"], [0.6666666666666666, \"#ed7953\"], [0.7777777777777778, \"#fb9f3a\"], [0.8888888888888888, \"#fdca26\"], [1.0, \"#f0f921\"]], \"type\": \"histogram2dcontour\"}], \"mesh3d\": [{\"colorbar\": {\"outlinewidth\": 0, \"ticks\": \"\"}, \"type\": \"mesh3d\"}], \"parcoords\": [{\"line\": {\"colorbar\": {\"outlinewidth\": 0, \"ticks\": \"\"}}, \"type\": \"parcoords\"}], \"scatter\": [{\"marker\": {\"colorbar\": {\"outlinewidth\": 0, \"ticks\": \"\"}}, \"type\": \"scatter\"}], \"scatter3d\": [{\"line\": {\"colorbar\": {\"outlinewidth\": 0, \"ticks\": \"\"}}, \"marker\": {\"colorbar\": {\"outlinewidth\": 0, \"ticks\": \"\"}}, \"type\": \"scatter3d\"}], \"scattercarpet\": [{\"marker\": {\"colorbar\": {\"outlinewidth\": 0, \"ticks\": \"\"}}, \"type\": \"scattercarpet\"}], \"scattergeo\": [{\"marker\": {\"colorbar\": {\"outlinewidth\": 0, \"ticks\": \"\"}}, \"type\": \"scattergeo\"}], \"scattergl\": [{\"marker\": {\"colorbar\": {\"outlinewidth\": 0, \"ticks\": \"\"}}, \"type\": \"scattergl\"}], \"scattermapbox\": [{\"marker\": {\"colorbar\": {\"outlinewidth\": 0, \"ticks\": \"\"}}, \"type\": \"scattermapbox\"}], \"scatterpolar\": [{\"marker\": {\"colorbar\": {\"outlinewidth\": 0, \"ticks\": \"\"}}, \"type\": \"scatterpolar\"}], \"scatterpolargl\": [{\"marker\": {\"colorbar\": {\"outlinewidth\": 0, \"ticks\": \"\"}}, \"type\": \"scatterpolargl\"}], \"scatterternary\": [{\"marker\": {\"colorbar\": {\"outlinewidth\": 0, \"ticks\": \"\"}}, \"type\": \"scatterternary\"}], \"surface\": [{\"colorbar\": {\"outlinewidth\": 0, \"ticks\": \"\"}, \"colorscale\": [[0.0, \"#0d0887\"], [0.1111111111111111, \"#46039f\"], [0.2222222222222222, \"#7201a8\"], [0.3333333333333333, \"#9c179e\"], [0.4444444444444444, \"#bd3786\"], [0.5555555555555556, \"#d8576b\"], [0.6666666666666666, \"#ed7953\"], [0.7777777777777778, \"#fb9f3a\"], [0.8888888888888888, \"#fdca26\"], [1.0, \"#f0f921\"]], \"type\": \"surface\"}], \"table\": [{\"cells\": {\"fill\": {\"color\": \"#EBF0F8\"}, \"line\": {\"color\": \"white\"}}, \"header\": {\"fill\": {\"color\": \"#C8D4E3\"}, \"line\": {\"color\": \"white\"}}, \"type\": \"table\"}]}, \"layout\": {\"annotationdefaults\": {\"arrowcolor\": \"#2a3f5f\", \"arrowhead\": 0, \"arrowwidth\": 1}, \"colorscale\": {\"diverging\": [[0, \"#8e0152\"], [0.1, \"#c51b7d\"], [0.2, \"#de77ae\"], [0.3, \"#f1b6da\"], [0.4, \"#fde0ef\"], [0.5, \"#f7f7f7\"], [0.6, \"#e6f5d0\"], [0.7, \"#b8e186\"], [0.8, \"#7fbc41\"], [0.9, \"#4d9221\"], [1, \"#276419\"]], \"sequential\": [[0.0, \"#0d0887\"], [0.1111111111111111, \"#46039f\"], [0.2222222222222222, \"#7201a8\"], [0.3333333333333333, \"#9c179e\"], [0.4444444444444444, \"#bd3786\"], [0.5555555555555556, \"#d8576b\"], [0.6666666666666666, \"#ed7953\"], [0.7777777777777778, \"#fb9f3a\"], [0.8888888888888888, \"#fdca26\"], [1.0, \"#f0f921\"]], \"sequentialminus\": [[0.0, \"#0d0887\"], [0.1111111111111111, \"#46039f\"], [0.2222222222222222, \"#7201a8\"], [0.3333333333333333, \"#9c179e\"], [0.4444444444444444, \"#bd3786\"], [0.5555555555555556, \"#d8576b\"], [0.6666666666666666, \"#ed7953\"], [0.7777777777777778, \"#fb9f3a\"], [0.8888888888888888, \"#fdca26\"], [1.0, \"#f0f921\"]]}, \"colorway\": [\"#636efa\", \"#EF553B\", \"#00cc96\", \"#ab63fa\", \"#FFA15A\", \"#19d3f3\", \"#FF6692\", \"#B6E880\", \"#FF97FF\", \"#FECB52\"], \"font\": {\"color\": \"#2a3f5f\"}, \"geo\": {\"bgcolor\": \"white\", \"lakecolor\": \"white\", \"landcolor\": \"white\", \"showlakes\": true, \"showland\": true, \"subunitcolor\": \"#C8D4E3\"}, \"hoverlabel\": {\"align\": \"left\"}, \"hovermode\": \"closest\", \"mapbox\": {\"style\": \"light\"}, \"paper_bgcolor\": \"white\", \"plot_bgcolor\": \"white\", \"polar\": {\"angularaxis\": {\"gridcolor\": \"#EBF0F8\", \"linecolor\": \"#EBF0F8\", \"ticks\": \"\"}, \"bgcolor\": \"white\", \"radialaxis\": {\"gridcolor\": \"#EBF0F8\", \"linecolor\": \"#EBF0F8\", \"ticks\": \"\"}}, \"scene\": {\"xaxis\": {\"backgroundcolor\": \"white\", \"gridcolor\": \"#DFE8F3\", \"gridwidth\": 2, \"linecolor\": \"#EBF0F8\", \"showbackground\": true, \"ticks\": \"\", \"zerolinecolor\": \"#EBF0F8\"}, \"yaxis\": {\"backgroundcolor\": \"white\", \"gridcolor\": \"#DFE8F3\", \"gridwidth\": 2, \"linecolor\": \"#EBF0F8\", \"showbackground\": true, \"ticks\": \"\", \"zerolinecolor\": \"#EBF0F8\"}, \"zaxis\": {\"backgroundcolor\": \"white\", \"gridcolor\": \"#DFE8F3\", \"gridwidth\": 2, \"linecolor\": \"#EBF0F8\", \"showbackground\": true, \"ticks\": \"\", \"zerolinecolor\": \"#EBF0F8\"}}, \"shapedefaults\": {\"line\": {\"color\": \"#2a3f5f\"}}, \"ternary\": {\"aaxis\": {\"gridcolor\": \"#DFE8F3\", \"linecolor\": \"#A2B1C6\", \"ticks\": \"\"}, \"baxis\": {\"gridcolor\": \"#DFE8F3\", \"linecolor\": \"#A2B1C6\", \"ticks\": \"\"}, \"bgcolor\": \"white\", \"caxis\": {\"gridcolor\": \"#DFE8F3\", \"linecolor\": \"#A2B1C6\", \"ticks\": \"\"}}, \"title\": {\"x\": 0.05}, \"xaxis\": {\"automargin\": true, \"gridcolor\": \"#EBF0F8\", \"linecolor\": \"#EBF0F8\", \"ticks\": \"\", \"zerolinecolor\": \"#EBF0F8\", \"zerolinewidth\": 2}, \"yaxis\": {\"automargin\": true, \"gridcolor\": \"#EBF0F8\", \"linecolor\": \"#EBF0F8\", \"ticks\": \"\", \"zerolinecolor\": \"#EBF0F8\", \"zerolinewidth\": 2}}}, \"title\": {\"text\": \"Growth Rate Dependent Cell Concentration\"}, \"xaxis\": {\"title\": {\"text\": \"Doubling Time (minutes)\"}}, \"yaxis\": {\"exponentformat\": \"power\", \"title\": {\"text\": \"Cell Concentration (mL<sup>-1</sup> &#183; OD<sup>-1</sup>)\"}}},\n",
       "                        {\"responsive\": true}\n",
       "                    ).then(function(){\n",
       "                            \n",
       "var gd = document.getElementById('5f4849e6-c68e-4a6a-ba68-950bb3a5e67d');\n",
       "var x = new MutationObserver(function (mutations, observer) {{\n",
       "        var display = window.getComputedStyle(gd).display;\n",
       "        if (!display || display === 'none') {{\n",
       "            console.log([gd, 'removed!']);\n",
       "            Plotly.purge(gd);\n",
       "            observer.disconnect();\n",
       "        }}\n",
       "}});\n",
       "\n",
       "// Listen for the removal of the full notebook cells\n",
       "var notebookContainer = gd.closest('#notebook-container');\n",
       "if (notebookContainer) {{\n",
       "    x.observe(notebookContainer, {childList: true});\n",
       "}}\n",
       "\n",
       "// Listen for the clearing of the current output cell\n",
       "var outputEl = gd.closest('.output');\n",
       "if (outputEl) {{\n",
       "    x.observe(outputEl, {childList: true});\n",
       "}}\n",
       "\n",
       "                        })\n",
       "                };\n",
       "                });\n",
       "            </script>\n",
       "        </div>"
      ]
     },
     "metadata": {},
     "output_type": "display_data"
    }
   ],
   "source": [
    "dt_min = np.arange(18.0, 250.0, 5.0)\n",
    "results = []\n",
    "for i in dt_min:\n",
    "    results.append(popCellCount(i, age_array, weights)) \n",
    "    \n",
    "upper_bound = go.Scatter(\n",
    "    name='Upper Bound',\n",
    "    x=dt_min,\n",
    "    y=[i['cell_concentration']+i['std_cell_concentration'] for i in results],\n",
    "    mode='lines',\n",
    "    marker=dict(color=\"#444\"),\n",
    "    line=dict(width=0),\n",
    "    fillcolor='rgba(68, 68, 68, 0.3)',\n",
    "    fill='tonexty')\n",
    "\n",
    "trace = go.Scatter(\n",
    "    name='Measurement',\n",
    "    x=dt_min,\n",
    "    y=[i['cell_concentration'] for i in results],\n",
    "    mode='lines',\n",
    "    line=dict(color='rgb(31, 119, 180)'),\n",
    "    fillcolor='rgba(68, 68, 68, 0.3)',\n",
    "    fill='tonexty')\n",
    "\n",
    "'''\n",
    "trace1 = go.Scatter(\n",
    "    name='Old Measurement',\n",
    "    x=dt_min,\n",
    "    y=[8.0*10.0**8.0]*len(dt_min),\n",
    "    mode='lines',\n",
    "    line=dict(color='rgb(242, 174, 15)'))\n",
    "'''\n",
    "\n",
    "trace1 = go.Scatter(\n",
    "    name='Old Measurement',\n",
    "    x=[58.0516142],\n",
    "    y=[popCellCount(58.0516142, age_array, weights)['cell_concentration']],\n",
    "    marker=dict(size=12, \n",
    "                color='#d62728',\n",
    "                line=dict(width=2,\n",
    "                    color='DarkSlateGrey'\n",
    "                    )\n",
    "                )\n",
    "    )\n",
    "\n",
    "lower_bound = go.Scatter(\n",
    "    name='Lower Bound',\n",
    "    x=dt_min,\n",
    "    y=[i['cell_concentration']-i['std_cell_concentration'] for i in results],\n",
    "    marker=dict(color=\"#444\"),\n",
    "    line=dict(width=0),\n",
    "    mode='lines')\n",
    "\n",
    "# Trace order can be important\n",
    "# with continuous error bars\n",
    "data = [lower_bound, trace, upper_bound, trace1]\n",
    "\n",
    "layout = go.Layout(\n",
    "    xaxis=dict(title='Doubling Time (minutes)'),\n",
    "    yaxis=dict(title='Cell Concentration (mL<sup>-1</sup> &#183; OD<sup>-1</sup>)', exponentformat = 'power'),\n",
    "    title='Growth Rate Dependent Cell Concentration',\n",
    "    showlegend = False,\n",
    "    template='plotly_white'\n",
    ")\n",
    "\n",
    "fig = go.Figure(data=data, layout=layout)\n",
    "\n",
    "\"\"\"\n",
    "fig.update_layout(\n",
    "    shapes=[\n",
    "        # Line Vertical\n",
    "        go.layout.Shape(\n",
    "            type=\"line\",\n",
    "            x0=58.0516142,\n",
    "            y0=1.314709*10**8.0,\n",
    "            x1=58.0516142,\n",
    "            y1=popCellCount(58.0516142, age_array, weights)['cell_concentration'],\n",
    "            line=dict(\n",
    "                color=\"#d62728\",\n",
    "                width=2,\n",
    "                dash=\"dashdot\",\n",
    "            )\n",
    "        ),\n",
    "        # Line Horizontal\n",
    "        go.layout.Shape(\n",
    "            type=\"line\",\n",
    "            x0=18,\n",
    "            y0=popCellCount(58.0516142, age_array, weights)['cell_concentration'],\n",
    "            x1=58.0516142,\n",
    "            y1=popCellCount(58.0516142, age_array, weights)['cell_concentration'],\n",
    "            line=dict(\n",
    "                color=\"#d62728\",\n",
    "                width=2,\n",
    "                dash=\"dashdot\",\n",
    "            ),\n",
    "        ),\n",
    "    ],\n",
    "    \"\"\"\n",
    "fig.update_layout(\n",
    "    annotations=[\n",
    "        go.layout.Annotation(\n",
    "            x=72,\n",
    "            y=0.77*10**9.0,\n",
    "            xref=\"x\",\n",
    "            yref=\"y\",\n",
    "            text=\"(58.05, 0.8x10<sup>9</sup>)\",\n",
    "            showarrow=False,\n",
    "            arrowhead=0,\n",
    "            ax=0,\n",
    "            ay=0,\n",
    "            font=dict(\n",
    "                color=\"#d62728\"\n",
    "            )\n",
    "        )\n",
    "    ]\n",
    ")\n",
    "\n",
    "\n",
    "\n",
    "iplot(fig, filename='pandas-continuous-error-bars')"
   ]
  },
  {
   "cell_type": "code",
   "execution_count": 67,
   "metadata": {},
   "outputs": [],
   "source": [
    "plotly.io.write_image(fig,'dt_min_cell_conc_alt.png' , width=1200, height=800)"
   ]
  },
  {
   "cell_type": "code",
   "execution_count": 198,
   "metadata": {},
   "outputs": [
    {
     "data": {
      "text/plain": [
       "Text(0, 0.5, 'Cell Number * 10^8 * mL-1 * OD-1')"
      ]
     },
     "execution_count": 198,
     "metadata": {},
     "output_type": "execute_result"
    },
    {
     "data": {
      "image/png": "[encoded data removed]",
      "text/plain": [
       "<Figure size 432x288 with 1 Axes>"
      ]
     },
     "metadata": {
      "needs_background": "light"
     },
     "output_type": "display_data"
    }
   ],
   "source": [
    "gr_min = np.arange(0.0001, 0.05, 0.0001)\n",
    "plt.plot(gr_min, [popCellCount(i, age_array, weights) for i in gr_min])\n",
    "plt.plot(gr_min, [8.0*10.0**8.0]*len(gr_min)) \n",
    "plt.xlabel('Growth Rate (min-1)')\n",
    "plt.ylabel('Cell Number * 10^8 * mL-1 * OD-1')"
   ]
  },
  {
   "cell_type": "code",
   "execution_count": 70,
   "metadata": {},
   "outputs": [
    {
     "data": {
      "application/vnd.plotly.v1+json": {
       "config": {
        "linkText": "Export to plot.ly",
        "plotlyServerURL": "https://plot.ly",
        "showLink": false
       },
       "data": [
        {
         "line": {
          "width": 0
         },
         "marker": {
          "color": "#444"
         },
         "mode": "lines",
         "name": "Lower Bound",
         "type": "scatter",
         "x": [
          0.0001,
          0.0002,
          0.00030000000000000003,
          0.0004,
          0.0005,
          0.0006000000000000001,
          0.0007000000000000001,
          0.0008,
          0.0009000000000000001,
          0.001,
          0.0011,
          0.0012000000000000001,
          0.0013000000000000002,
          0.0014000000000000002,
          0.0015,
          0.0016,
          0.0017000000000000001,
          0.0018000000000000002,
          0.0019000000000000002,
          0.002,
          0.0021,
          0.0022,
          0.0023,
          0.0024,
          0.0025,
          0.0026,
          0.0027,
          0.0028,
          0.0029,
          0.003,
          0.0031,
          0.0032,
          0.0033,
          0.0034,
          0.0035,
          0.0036,
          0.0037,
          0.0038,
          0.0039,
          0.004,
          0.0041,
          0.004200000000000001,
          0.004300000000000001,
          0.0044,
          0.0045000000000000005,
          0.004600000000000001,
          0.0047,
          0.0048000000000000004,
          0.004900000000000001,
          0.005,
          0.0051,
          0.005200000000000001,
          0.005300000000000001,
          0.0054,
          0.0055000000000000005,
          0.005600000000000001,
          0.0057,
          0.0058000000000000005,
          0.005900000000000001,
          0.006,
          0.0061,
          0.006200000000000001,
          0.006300000000000001,
          0.0064,
          0.006500000000000001,
          0.006600000000000001,
          0.0067,
          0.0068000000000000005,
          0.006900000000000001,
          0.007000000000000001,
          0.0071,
          0.007200000000000001,
          0.007300000000000001,
          0.0074,
          0.007500000000000001,
          0.007600000000000001,
          0.0077,
          0.0078000000000000005,
          0.0079,
          0.008,
          0.0081,
          0.008199999999999999,
          0.0083,
          0.0084,
          0.0085,
          0.0086,
          0.0087,
          0.0088,
          0.0089,
          0.009,
          0.0091,
          0.0092,
          0.0093,
          0.0094,
          0.0095,
          0.0096,
          0.0097,
          0.0098,
          0.009899999999999999,
          0.01,
          0.0101,
          0.0102,
          0.0103,
          0.0104,
          0.0105,
          0.0106,
          0.0107,
          0.0108,
          0.0109,
          0.011,
          0.0111,
          0.0112,
          0.0113,
          0.0114,
          0.0115,
          0.0116,
          0.0117,
          0.0118,
          0.011899999999999999,
          0.012,
          0.0121,
          0.0122,
          0.0123,
          0.0124,
          0.0125,
          0.0126,
          0.0127,
          0.0128,
          0.0129,
          0.013,
          0.0131,
          0.0132,
          0.0133,
          0.0134,
          0.0135,
          0.0136,
          0.0137,
          0.0138,
          0.013900000000000001,
          0.014,
          0.0141,
          0.0142,
          0.0143,
          0.0144,
          0.0145,
          0.0146,
          0.0147,
          0.0148,
          0.0149,
          0.015,
          0.0151,
          0.0152,
          0.0153,
          0.0154,
          0.0155,
          0.0156,
          0.015700000000000002,
          0.0158,
          0.0159,
          0.016,
          0.0161,
          0.0162,
          0.0163,
          0.0164,
          0.0165,
          0.0166,
          0.0167,
          0.0168,
          0.016900000000000002,
          0.017,
          0.0171,
          0.0172,
          0.0173,
          0.0174,
          0.0175,
          0.0176,
          0.0177,
          0.0178,
          0.0179,
          0.018,
          0.0181,
          0.0182,
          0.0183,
          0.0184,
          0.0185,
          0.018600000000000002,
          0.0187,
          0.0188,
          0.0189,
          0.019,
          0.0191,
          0.019200000000000002,
          0.0193,
          0.0194,
          0.0195,
          0.0196,
          0.0197,
          0.0198,
          0.0199,
          0.02,
          0.0201,
          0.0202,
          0.020300000000000002,
          0.0204,
          0.0205,
          0.0206,
          0.0207,
          0.0208,
          0.020900000000000002,
          0.021,
          0.0211,
          0.0212,
          0.0213,
          0.0214,
          0.021500000000000002,
          0.0216,
          0.0217,
          0.0218,
          0.0219,
          0.022,
          0.0221,
          0.0222,
          0.0223,
          0.0224,
          0.0225,
          0.022600000000000002,
          0.0227,
          0.0228,
          0.0229,
          0.023,
          0.0231,
          0.023200000000000002,
          0.0233,
          0.0234,
          0.0235,
          0.0236,
          0.0237,
          0.0238,
          0.0239,
          0.024,
          0.0241,
          0.0242,
          0.024300000000000002,
          0.0244,
          0.0245,
          0.0246,
          0.0247,
          0.0248,
          0.024900000000000002,
          0.025,
          0.0251,
          0.0252,
          0.0253,
          0.0254,
          0.025500000000000002,
          0.0256,
          0.0257,
          0.0258,
          0.0259,
          0.026000000000000002,
          0.0261,
          0.0262,
          0.0263,
          0.0264,
          0.0265,
          0.026600000000000002,
          0.0267,
          0.0268,
          0.0269,
          0.027,
          0.0271,
          0.027200000000000002,
          0.0273,
          0.0274,
          0.0275,
          0.0276,
          0.027700000000000002,
          0.027800000000000002,
          0.0279,
          0.028,
          0.0281,
          0.0282,
          0.028300000000000002,
          0.0284,
          0.0285,
          0.0286,
          0.0287,
          0.0288,
          0.028900000000000002,
          0.029,
          0.0291,
          0.0292,
          0.0293,
          0.029400000000000003,
          0.029500000000000002,
          0.0296,
          0.0297,
          0.0298,
          0.0299
         ],
         "y": [
          1550178084.7771187,
          1498865563.8897283,
          1452195173.6575632,
          1409665467.9743977,
          1370838505.6191072,
          1335330564.307726,
          1302804372.7066631,
          1272962588.803166,
          1245542305.554355,
          1220310406.3865483,
          1197059626.2836552,
          1175605200.7236035,
          1155782006.0117965,
          1137442111.7181153,
          1120452679.8031452,
          1104694156.287562,
          1090058710.4995828,
          1076448884.441557,
          1063776420.9742191,
          1051961244.5847172,
          1040930572.6883659,
          1030618138.8789834,
          1020963512.4207618,
          1011911500.6723183,
          1003411623.136682,
          995417647.5091276,
          987887179.5043542,
          980781299.4317482,
          974064239.4898139,
          967703096.5993217,
          961667576.3145497,
          955929763.9641659,
          950463919.6950408,
          945246294.5379432,
          940254964.9955343,
          935469683.9802499,
          930871746.2108309,
          926443866.4183278,
          922170068.9212148,
          918035587.3096609,
          914026773.1351395,
          910131012.6369259,
          906336650.6545482,
          902632920.9774215,
          899009882.4718859,
          895458360.4034147,
          891969892.4394904,
          888536678.8778436,
          885151536.6965221,
          881807857.0676843,
          878499566.0167745,
          875221087.9437234,
          871967311.753517,
          868733559.3705149,
          865515556.4347177,
          862309404.9991462,
          859111558.0660449,
          855918795.8159738,
          852728203.3983177,
          849537150.1645639,
          846343270.2370447,
          843144444.3159038,
          839938782.6360115,
          836724608.9934833,
          833500445.7685606,
          830264999.8779131,
          827017149.5950738,
          823755932.182753,
          820480532.2852986,
          817190271.0336224,
          813884595.8185658,
          810563070.6919402,
          807225367.35746,
          803871256.7164576,
          800500600.9356899,
          797113346.0067632,
          793709514.7687051,
          790289200.3670462,
          786852560.1244472,
          783399809.7994555,
          779931218.2113787,
          776447102.210568,
          772947821.9746188,
          769433776.6120979,
          765905400.0564489,
          762363157.2337003,
          758807540.4884789,
          755239066.2536964,
          751658271.9500484,
          748065713.1022055,
          744461960.6592803,
          740847598.5078006,
          737223221.166033,
          733589431.649095,
          729946839.4948387,
          726296058.9410021,
          722637707.2446444,
          718972403.1353168,
          715300765.3938957,
          711623411.5494094,
          707940956.6866053,
          704254012.3573704,
          700563185.5895032,
          696869077.9866626,
          693172284.9136627,
          689473394.761585,
          685772988.2874906,
          682071638.023791,
          678369907.7526066,
          674668352.0407101,
          670967515.8308859,
          667267934.0857768,
          663570131.4805086,
          659874622.1406018,
          656181909.421869,
          652492485.7292025,
          648806832.3713216,
          645125419.4487388,
          641448705.7723588,
          637777138.8102783,
          634111154.6605085,
          630451178.0474823,
          626797622.3403325,
          623150889.5910656,
          619511370.5908648,
          615879444.9428775,
          612255481.1499383,
          608639836.7157948,
          605032858.2584839,
          601434881.6346068,
          597846232.0733322,
          594267224.3190397,
          590698162.7815871,
          587139341.6932623,
          583591045.2715452,
          580053547.8868686,
          576527114.2346256,
          573011999.5107338,
          569508449.5901068,
          566016701.2074492,
          562536982.1398212,
          559069511.3904792,
          555614499.373527,
          552172148.098953,
          548742651.357674,
          545326194.9062282,
          541922956.650795,
          538533106.8302541,
          535156808.19801724,
          531794216.2023939,
          528445479.1652754,
          525110738.45894694,
          521790128.6808551,
          518483777.82617503,
          515191807.45804805,
          511914332.87536645,
          508651463.27800506,
          505403301.92940974,
          502169946.31646883,
          498951488.3066022,
          495748014.3020168,
          492559605.39108676,
          489386337.4968238,
          486228281.522417,
          483085503.4938256,
          479958064.69941056,
          476846021.8266151,
          473749427.0956842,
          470668328.3904428,
          467602769.3861459,
          464552789.6744122,
          461518424.88527775,
          458499706.8063824,
          455496663.4993305,
          452509319.4132517,
          449537695.4956019,
          446581809.30023825,
          443641675.0928136,
          440717303.95352435,
          437808703.87726384,
          434915879.87121665,
          432038834.0499468,
          429177565.72802013,
          426332071.5102128,
          423502345.3793468,
          420688378.7818097,
          417890160.71079654,
          415107677.7873281,
          412340914.3390943,
          409589852.4771639,
          406854472.1706177,
          404134751.3191463,
          401430665.82365984,
          398742189.6549599,
          396069294.9205185,
          393411951.9294078,
          390770129.2554266,
          388143793.7984726,
          385532910.84419703,
          382937444.12198925,
          380357355.86133474,
          377792606.84658414,
          375243156.47017884,
          372708962.7843701,
          370189982.5514715,
          367686171.29268694,
          365197483.33554643,
          362723871.8599917,
          360265288.9431432,
          357821685.60279024,
          355393011.8396314,
          352979216.6783053,
          350580248.20724124,
          348196053.6173626,
          345826579.23967636,
          343471770.5817759,
          341131572.3632902,
          338805928.55030763,
          336494782.38880134,
          334198076.4370857,
          331915752.5973306,
          329647752.1461582,
          327394015.7643496,
          325154483.56568575,
          322929095.1249454,
          320717789.5050866,
          318520505.28363067,
          316337180.578275,
          314167753.0717526,
          312012160.0359633,
          309870338.3553928,
          307742224.54984283,
          305627754.7964914,
          303526864.9512981,
          301439490.5697793,
          299365566.9271646,
          297305029.03795654,
          295257811.674906,
          293223849.38742405,
          291203076.51944256,
          289195427.2267403,
          287200835.49374956,
          285219235.1498573,
          283250559.8852151,
          281294743.26607174,
          279351718.7496409,
          277421419.6985179,
          275503779.39465743,
          273598731.05292434,
          271706207.8342296,
          269826142.8582624,
          267958469.21583003,
          266103119.98081636,
          264260028.22176865,
          262429127.01312345,
          260610349.44608247,
          258803628.63914618,
          257008897.7483143,
          255226089.97696635,
          253455138.58542413,
          251695976.90021223,
          249948538.32301855,
          248212756.339367,
          246488564.5270088,
          244775896.5640392,
          243074686.23674917,
          241384867.44721696,
          239706374.22064826,
          238039140.7124705,
          236383101.2151896,
          234738190.16501302,
          233104342.14824823,
          231481491.90748104,
          229869574.34753948,
          228268524.5412498,
          226678277.73499012,
          225098769.35404727,
          223529935.00778094,
          221971710.49460125,
          220424031.8067659,
          218886835.13499942,
          217360056.87294012,
          215843633.6214206,
          214337502.19258496,
          212841599.61384714,
          211355863.131695,
          209880230.21534508,
          208414638.5602498,
          206959026.0914636,
          205513330.96687028,
          204077491.58027562,
          202651446.56436902,
          201235134.7935574,
          199828495.3866757,
          198431467.7095755,
          197043991.37759703,
          195666006.2579267,
          194297452.471843,
          192938270.396855
         ]
        },
        {
         "fill": "tonexty",
         "fillcolor": "rgba(68, 68, 68, 0.3)",
         "line": {
          "color": "rgb(31, 119, 180)"
         },
         "mode": "lines",
         "name": "Measurement",
         "type": "scatter",
         "x": [
          0.0001,
          0.0002,
          0.00030000000000000003,
          0.0004,
          0.0005,
          0.0006000000000000001,
          0.0007000000000000001,
          0.0008,
          0.0009000000000000001,
          0.001,
          0.0011,
          0.0012000000000000001,
          0.0013000000000000002,
          0.0014000000000000002,
          0.0015,
          0.0016,
          0.0017000000000000001,
          0.0018000000000000002,
          0.0019000000000000002,
          0.002,
          0.0021,
          0.0022,
          0.0023,
          0.0024,
          0.0025,
          0.0026,
          0.0027,
          0.0028,
          0.0029,
          0.003,
          0.0031,
          0.0032,
          0.0033,
          0.0034,
          0.0035,
          0.0036,
          0.0037,
          0.0038,
          0.0039,
          0.004,
          0.0041,
          0.004200000000000001,
          0.004300000000000001,
          0.0044,
          0.0045000000000000005,
          0.004600000000000001,
          0.0047,
          0.0048000000000000004,
          0.004900000000000001,
          0.005,
          0.0051,
          0.005200000000000001,
          0.005300000000000001,
          0.0054,
          0.0055000000000000005,
          0.005600000000000001,
          0.0057,
          0.0058000000000000005,
          0.005900000000000001,
          0.006,
          0.0061,
          0.006200000000000001,
          0.006300000000000001,
          0.0064,
          0.006500000000000001,
          0.006600000000000001,
          0.0067,
          0.0068000000000000005,
          0.006900000000000001,
          0.007000000000000001,
          0.0071,
          0.007200000000000001,
          0.007300000000000001,
          0.0074,
          0.007500000000000001,
          0.007600000000000001,
          0.0077,
          0.0078000000000000005,
          0.0079,
          0.008,
          0.0081,
          0.008199999999999999,
          0.0083,
          0.0084,
          0.0085,
          0.0086,
          0.0087,
          0.0088,
          0.0089,
          0.009,
          0.0091,
          0.0092,
          0.0093,
          0.0094,
          0.0095,
          0.0096,
          0.0097,
          0.0098,
          0.009899999999999999,
          0.01,
          0.0101,
          0.0102,
          0.0103,
          0.0104,
          0.0105,
          0.0106,
          0.0107,
          0.0108,
          0.0109,
          0.011,
          0.0111,
          0.0112,
          0.0113,
          0.0114,
          0.0115,
          0.0116,
          0.0117,
          0.0118,
          0.011899999999999999,
          0.012,
          0.0121,
          0.0122,
          0.0123,
          0.0124,
          0.0125,
          0.0126,
          0.0127,
          0.0128,
          0.0129,
          0.013,
          0.0131,
          0.0132,
          0.0133,
          0.0134,
          0.0135,
          0.0136,
          0.0137,
          0.0138,
          0.013900000000000001,
          0.014,
          0.0141,
          0.0142,
          0.0143,
          0.0144,
          0.0145,
          0.0146,
          0.0147,
          0.0148,
          0.0149,
          0.015,
          0.0151,
          0.0152,
          0.0153,
          0.0154,
          0.0155,
          0.0156,
          0.015700000000000002,
          0.0158,
          0.0159,
          0.016,
          0.0161,
          0.0162,
          0.0163,
          0.0164,
          0.0165,
          0.0166,
          0.0167,
          0.0168,
          0.016900000000000002,
          0.017,
          0.0171,
          0.0172,
          0.0173,
          0.0174,
          0.0175,
          0.0176,
          0.0177,
          0.0178,
          0.0179,
          0.018,
          0.0181,
          0.0182,
          0.0183,
          0.0184,
          0.0185,
          0.018600000000000002,
          0.0187,
          0.0188,
          0.0189,
          0.019,
          0.0191,
          0.019200000000000002,
          0.0193,
          0.0194,
          0.0195,
          0.0196,
          0.0197,
          0.0198,
          0.0199,
          0.02,
          0.0201,
          0.0202,
          0.020300000000000002,
          0.0204,
          0.0205,
          0.0206,
          0.0207,
          0.0208,
          0.020900000000000002,
          0.021,
          0.0211,
          0.0212,
          0.0213,
          0.0214,
          0.021500000000000002,
          0.0216,
          0.0217,
          0.0218,
          0.0219,
          0.022,
          0.0221,
          0.0222,
          0.0223,
          0.0224,
          0.0225,
          0.022600000000000002,
          0.0227,
          0.0228,
          0.0229,
          0.023,
          0.0231,
          0.023200000000000002,
          0.0233,
          0.0234,
          0.0235,
          0.0236,
          0.0237,
          0.0238,
          0.0239,
          0.024,
          0.0241,
          0.0242,
          0.024300000000000002,
          0.0244,
          0.0245,
          0.0246,
          0.0247,
          0.0248,
          0.024900000000000002,
          0.025,
          0.0251,
          0.0252,
          0.0253,
          0.0254,
          0.025500000000000002,
          0.0256,
          0.0257,
          0.0258,
          0.0259,
          0.026000000000000002,
          0.0261,
          0.0262,
          0.0263,
          0.0264,
          0.0265,
          0.026600000000000002,
          0.0267,
          0.0268,
          0.0269,
          0.027,
          0.0271,
          0.027200000000000002,
          0.0273,
          0.0274,
          0.0275,
          0.0276,
          0.027700000000000002,
          0.027800000000000002,
          0.0279,
          0.028,
          0.0281,
          0.0282,
          0.028300000000000002,
          0.0284,
          0.0285,
          0.0286,
          0.0287,
          0.0288,
          0.028900000000000002,
          0.029,
          0.0291,
          0.0292,
          0.0293,
          0.029400000000000003,
          0.029500000000000002,
          0.0296,
          0.0297,
          0.0298,
          0.0299
         ],
         "y": [
          1937805757.8847737,
          1873662354.359969,
          1815321863.1591647,
          1762157449.7518933,
          1713621664.1204803,
          1669234832.8270147,
          1628575348.6131961,
          1591271518.0135884,
          1556994693.1221972,
          1525453465.717493,
          1496388743.4116187,
          1469569560.6411722,
          1444789503.930634,
          1421863652.3073328,
          1400625951.0965366,
          1380926951.4111872,
          1362631859.1274939,
          1345618846.5207233,
          1329777587.4326603,
          1315007983.1769705,
          1301219051.6187227,
          1288327956.1956441,
          1276259155.2464564,
          1264943655.0088842,
          1254318352.153929,
          1244325453.8207722,
          1234911964.8787484,
          1226029233.6269293,
          1217632548.3948524,
          1209680778.5685515,
          1202136054.4658732,
          1194963481.2503033,
          1188130882.7247376,
          1181608571.4037375,
          1175369141.7396476,
          1169387283.7869544,
          1163639614.9407282,
          1158104527.6875963,
          1152762051.5687125,
          1147593727.7797139,
          1142582495.0278363,
          1137712585.4355693,
          1132969429.427137,
          1128339568.6618066,
          1123810576.189258,
          1119370983.0991983,
          1115010211.0220594,
          1110718509.911626,
          1106486900.6051595,
          1102307121.7133584,
          1098171580.442219,
          1094073306.992578,
          1090005912.2215075,
          1085963548.2835243,
          1081940871.999351,
          1077933010.7261772,
          1073935530.5265467,
          1069944406.4534473,
          1065955994.7872571,
          1061967007.0762266,
          1057974485.8463645,
          1053975781.8591713,
          1049968532.806867,
          1045950643.3446844,
          1041920266.368665,
          1037875785.4552847,
          1033815798.3862903,
          1029739101.688428,
          1025644676.1233968,
          1021531673.0684221,
          1017399401.7324133,
          1013247317.1567501,
          1009075008.9534659,
          1004882190.7369373,
          1000668690.2082168,
          996434439.8539153,
          992179468.2240428,
          987903891.7555083,
          983607907.1100768,
          979291783.9975059,
          974955858.4563495,
          970600526.5665426,
          966226238.5693997,
          961833493.372037,
          957422833.414536,
          952994839.8793706,
          948550128.2237338,
          944089344.0164671,
          939613159.062267,
          935122267.7967701,
          930617383.9369936,
          926099237.3724166,
          921568571.2827628,
          917026139.4692746,
          912472703.8869629,
          907909032.3659484,
          903335896.5106645,
          898754069.7662393,
          894164325.6419595,
          889567436.0822353,
          884964169.9759941,
          880355291.7958982,
          875741560.359257,
          871123727.7029145,
          866502538.0648235,
          861878726.9653974,
          857253020.3821148,
          852626134.0112002,
          847998772.6105461,
          843371629.4183654,
          838745385.6423693,
          834120710.0145568,
          829498258.4069788,
          824878673.5041139,
          820262584.5277281,
          815650607.010349,
          811043342.6136936,
          806441378.988619,
          801845289.6733663,
          797255634.0270591,
          792672957.1956036,
          788097790.1073232,
          783530649.4958072,
          778972037.9476298,
          774422443.9727323,
          769882342.0954108,
          765352192.9639753,
          760832443.4772867,
          756323526.9264839,
          751825863.1503338,
          747339858.7027425,
          742865907.0310676,
          738404388.6639602,
          733955671.4075624,
          729520110.5489699,
          725098049.0659407,
          720689817.8419149,
          716295735.885478,
          711916110.553461,
          707551237.7769426,
          703201402.2894666,
          698866877.856851,
          694547927.5080118,
          690244803.7662704,
          685957748.880668,
          681686995.0568413,
          677432764.6870574,
          673195270.5790476,
          668974716.1833069,
          664771295.8185602,
          660585194.8951278,
          656416590.1359494,
          652265649.795053,
          648132533.8732733,
          644017394.3310575,
          639920375.298206,
          635841613.2804193,
          631781237.3625442,
          627739369.4084202,
          623716124.25725,
          619711609.9164268,
          615725927.750768,
          611759172.6681106,
          607811433.3012444,
          603882792.18616,
          599973325.9365962,
          596083105.4148976,
          592212195.8991716,
          588360657.246768,
          584528544.0540981,
          580715905.8128092,
          576922787.0623574,
          573149227.5389977,
          569395262.3212407,
          565660921.9718099,
          561946232.6761488,
          558251216.3775206,
          554575890.9087564,
          550920270.1206961,
          547284364.0073851,
          543668178.8280729,
          540071717.2260779,
          536494978.3445707,
          532937957.93933916,
          529400648.4885882,
          525883039.29984343,
          522385116.6140081,
          518906863.7066409,
          515448260.986513,
          512009286.0915013,
          508589913.9818821,
          505190117.0310831,
          501809865.1139495,
          498449125.69258696,
          495107863.89983946,
          491786042.62045425,
          488483622.5699945,
          485200562.3715566,
          481936818.6303426,
          478692346.0061437,
          475467097.2837905,
          472261023.441618,
          469074073.7179997,
          465906195.6759994,
          462757335.26618993,
          459627436.8876904,
          456516443.4474634,
          453424296.4179245,
          450350935.8929038,
          447296300.6420105,
          444260328.1634359,
          441242954.7352439,
          438244115.4651865,
          435263744.33908534,
          432301774.26782024,
          429358137.13295996,
          426432763.83107555,
          423525584.3167718,
          420636527.64447075,
          417765522.0089842,
          414912494.7849082,
          412077372.5648705,
          409260081.1966655,
          406460545.81930715,
          403678690.8980277,
          400914440.2582559,
          398167717.11859876,
          395438444.1228587,
          392726543.3711092,
          390031936.4498602,
          387354544.4613335,
          384694288.05187607,
          382051087.43953687,
          379424862.44082487,
          376815532.4966785,
          374223016.6976632,
          371647233.80842096,
          369088102.2913918,
          366545540.32982874,
          364019465.8501248,
          361509796.54347146,
          359016449.88686806,
          356539343.16349894,
          354078393.4824967,
          351633517.7981087,
          349204632.9282827,
          346791655.57268846,
          344394502.3301905,
          342013089.71578753,
          339647334.177033,
          337297152.1099511,
          334962459.8744616,
          332643173.80932957,
          330339210.24664885,
          328050485.5258753,
          325776916.0074219,
          323518418.0858268,
          321274908.20250416,
          319046302.8580953,
          316832518.62442255,
          314633472.15606534,
          312449080.2015611,
          310279259.61424696,
          308123927.362749,
          305983000.5411287,
          303856396.3786981,
          301744032.2495096,
          299645825.68153125,
          297561694.36551553,
          295491556.1635702,
          293435329.1174378,
          291392931.4564938,
          289364281.60547006,
          287349298.1919099,
          285347900.05336344,
          283360006.2443299,
          281385536.0429541,
          279424408.95748156,
          277476544.7324813,
          275541863.354842,
          273620285.05954653,
          271711730.33523095,
          269816119.92953527,
          267933374.85425025,
          266063416.39026538,
          264206166.0923244,
          262361545.79359382,
          260529477.6100471,
          258709883.94467264,
          256902687.49150792,
          255107811.23950562,
          253325178.47623572,
          251554712.7914281,
          249796338.08036065,
          248049978.54709554,
          246315558.70756897,
          244593003.39253843,
          242882237.75039014,
          241183187.24981216
         ]
        },
        {
         "fill": "tonexty",
         "fillcolor": "rgba(68, 68, 68, 0.3)",
         "line": {
          "width": 0
         },
         "marker": {
          "color": "#444"
         },
         "mode": "lines",
         "name": "Upper Bound",
         "type": "scatter",
         "x": [
          0.0001,
          0.0002,
          0.00030000000000000003,
          0.0004,
          0.0005,
          0.0006000000000000001,
          0.0007000000000000001,
          0.0008,
          0.0009000000000000001,
          0.001,
          0.0011,
          0.0012000000000000001,
          0.0013000000000000002,
          0.0014000000000000002,
          0.0015,
          0.0016,
          0.0017000000000000001,
          0.0018000000000000002,
          0.0019000000000000002,
          0.002,
          0.0021,
          0.0022,
          0.0023,
          0.0024,
          0.0025,
          0.0026,
          0.0027,
          0.0028,
          0.0029,
          0.003,
          0.0031,
          0.0032,
          0.0033,
          0.0034,
          0.0035,
          0.0036,
          0.0037,
          0.0038,
          0.0039,
          0.004,
          0.0041,
          0.004200000000000001,
          0.004300000000000001,
          0.0044,
          0.0045000000000000005,
          0.004600000000000001,
          0.0047,
          0.0048000000000000004,
          0.004900000000000001,
          0.005,
          0.0051,
          0.005200000000000001,
          0.005300000000000001,
          0.0054,
          0.0055000000000000005,
          0.005600000000000001,
          0.0057,
          0.0058000000000000005,
          0.005900000000000001,
          0.006,
          0.0061,
          0.006200000000000001,
          0.006300000000000001,
          0.0064,
          0.006500000000000001,
          0.006600000000000001,
          0.0067,
          0.0068000000000000005,
          0.006900000000000001,
          0.007000000000000001,
          0.0071,
          0.007200000000000001,
          0.007300000000000001,
          0.0074,
          0.007500000000000001,
          0.007600000000000001,
          0.0077,
          0.0078000000000000005,
          0.0079,
          0.008,
          0.0081,
          0.008199999999999999,
          0.0083,
          0.0084,
          0.0085,
          0.0086,
          0.0087,
          0.0088,
          0.0089,
          0.009,
          0.0091,
          0.0092,
          0.0093,
          0.0094,
          0.0095,
          0.0096,
          0.0097,
          0.0098,
          0.009899999999999999,
          0.01,
          0.0101,
          0.0102,
          0.0103,
          0.0104,
          0.0105,
          0.0106,
          0.0107,
          0.0108,
          0.0109,
          0.011,
          0.0111,
          0.0112,
          0.0113,
          0.0114,
          0.0115,
          0.0116,
          0.0117,
          0.0118,
          0.011899999999999999,
          0.012,
          0.0121,
          0.0122,
          0.0123,
          0.0124,
          0.0125,
          0.0126,
          0.0127,
          0.0128,
          0.0129,
          0.013,
          0.0131,
          0.0132,
          0.0133,
          0.0134,
          0.0135,
          0.0136,
          0.0137,
          0.0138,
          0.013900000000000001,
          0.014,
          0.0141,
          0.0142,
          0.0143,
          0.0144,
          0.0145,
          0.0146,
          0.0147,
          0.0148,
          0.0149,
          0.015,
          0.0151,
          0.0152,
          0.0153,
          0.0154,
          0.0155,
          0.0156,
          0.015700000000000002,
          0.0158,
          0.0159,
          0.016,
          0.0161,
          0.0162,
          0.0163,
          0.0164,
          0.0165,
          0.0166,
          0.0167,
          0.0168,
          0.016900000000000002,
          0.017,
          0.0171,
          0.0172,
          0.0173,
          0.0174,
          0.0175,
          0.0176,
          0.0177,
          0.0178,
          0.0179,
          0.018,
          0.0181,
          0.0182,
          0.0183,
          0.0184,
          0.0185,
          0.018600000000000002,
          0.0187,
          0.0188,
          0.0189,
          0.019,
          0.0191,
          0.019200000000000002,
          0.0193,
          0.0194,
          0.0195,
          0.0196,
          0.0197,
          0.0198,
          0.0199,
          0.02,
          0.0201,
          0.0202,
          0.020300000000000002,
          0.0204,
          0.0205,
          0.0206,
          0.0207,
          0.0208,
          0.020900000000000002,
          0.021,
          0.0211,
          0.0212,
          0.0213,
          0.0214,
          0.021500000000000002,
          0.0216,
          0.0217,
          0.0218,
          0.0219,
          0.022,
          0.0221,
          0.0222,
          0.0223,
          0.0224,
          0.0225,
          0.022600000000000002,
          0.0227,
          0.0228,
          0.0229,
          0.023,
          0.0231,
          0.023200000000000002,
          0.0233,
          0.0234,
          0.0235,
          0.0236,
          0.0237,
          0.0238,
          0.0239,
          0.024,
          0.0241,
          0.0242,
          0.024300000000000002,
          0.0244,
          0.0245,
          0.0246,
          0.0247,
          0.0248,
          0.024900000000000002,
          0.025,
          0.0251,
          0.0252,
          0.0253,
          0.0254,
          0.025500000000000002,
          0.0256,
          0.0257,
          0.0258,
          0.0259,
          0.026000000000000002,
          0.0261,
          0.0262,
          0.0263,
          0.0264,
          0.0265,
          0.026600000000000002,
          0.0267,
          0.0268,
          0.0269,
          0.027,
          0.0271,
          0.027200000000000002,
          0.0273,
          0.0274,
          0.0275,
          0.0276,
          0.027700000000000002,
          0.027800000000000002,
          0.0279,
          0.028,
          0.0281,
          0.0282,
          0.028300000000000002,
          0.0284,
          0.0285,
          0.0286,
          0.0287,
          0.0288,
          0.028900000000000002,
          0.029,
          0.0291,
          0.0292,
          0.0293,
          0.029400000000000003,
          0.029500000000000002,
          0.0296,
          0.0297,
          0.0298,
          0.0299
         ],
         "y": [
          2325433430.992429,
          2248459144.8302097,
          2178448552.660766,
          2114649431.529389,
          2056404822.6218534,
          2003139101.3463035,
          1954346324.5197291,
          1909580447.224011,
          1868447080.6900394,
          1830596525.0484378,
          1795717860.5395823,
          1763533920.5587409,
          1733797001.8494716,
          1706285192.8965502,
          1680799222.389928,
          1657159746.5348125,
          1635205007.755405,
          1614788808.5998898,
          1595778753.8911016,
          1578054721.7692237,
          1561507530.5490794,
          1546037773.5123048,
          1531554798.072151,
          1517975809.34545,
          1505225081.171176,
          1493233260.1324167,
          1481936750.2531426,
          1471277167.8221104,
          1461200857.299891,
          1451658460.5377812,
          1442604532.6171968,
          1433997198.5364406,
          1425797845.7544346,
          1417970848.2695317,
          1410483318.4837608,
          1403304883.593659,
          1396407483.6706254,
          1389765188.9568648,
          1383354034.2162101,
          1377151868.2497668,
          1371138216.9205332,
          1365294158.2342126,
          1359602208.1997256,
          1354046216.3461916,
          1348611269.9066303,
          1343283605.794982,
          1338050529.6046283,
          1332900340.9454086,
          1327822264.5137968,
          1322806386.3590326,
          1317843594.8676634,
          1312925526.0414326,
          1308044512.689498,
          1303193537.1965337,
          1298366187.5639844,
          1293556616.4532082,
          1288759502.9870484,
          1283970017.090921,
          1279183786.1761963,
          1274396863.9878893,
          1269605701.4556842,
          1264807119.4024386,
          1259998282.9777226,
          1255176677.6958854,
          1250340086.9687693,
          1245486571.0326562,
          1240614447.1775067,
          1235722271.194103,
          1230808819.961495,
          1225873075.103222,
          1220914207.6462607,
          1215931563.6215599,
          1210924650.5494719,
          1205893124.757417,
          1200836779.4807436,
          1195755533.7010674,
          1190649421.6793804,
          1185518583.1439703,
          1180363254.0957065,
          1175183758.1955564,
          1169980498.7013202,
          1164753950.9225173,
          1159504655.1641805,
          1154233210.1319764,
          1148940266.772623,
          1143626522.5250409,
          1138292715.9589887,
          1132939621.7792377,
          1127568046.1744854,
          1122178822.4913347,
          1116772807.214707,
          1111350876.2370327,
          1105913921.3994925,
          1100462847.2894542,
          1094998568.279087,
          1089522005.7908947,
          1084034085.7766845,
          1078535736.3971617,
          1073027885.8900234,
          1067511460.6150613,
          1061987383.2653829,
          1056456571.234426,
          1050919935.1290108,
          1045378377.4191663,
          1039832791.2159843,
          1034284059.1692097,
          1028733052.4767389,
          1023180629.9986094,
          1017627637.4684856,
          1012074906.7960206,
          1006523255.4538527,
          1000973485.9433367,
          995426385.3334491,
          989882724.8676261,
          984343259.6335871,
          978808728.2914956,
          973279852.8560656,
          967757338.5284991,
          962241873.5743738,
          956734129.2438399,
          951234759.7306987,
          945744402.1671641,
          940263676.6512818,
          934793186.304194,
          929333517.3545998,
          923885239.2479441,
          918448904.7780123,
          913025050.2387786,
          907614195.5944839,
          902216844.6660607,
          896833485.3321527,
          891464589.7430955,
          886110614.5463333,
          880772001.1218624,
          875449175.8263946,
          870142550.2450129,
          864852521.4492042,
          859579472.2602222,
          854323771.5168151,
          849085774.346436,
          843865822.4391121,
          838664244.3232228,
          833481355.6424966,
          828317459.4335878,
          823172846.4036621,
          818047795.2074543,
          812942572.7233198,
          807857434.327841,
          802792624.1685966,
          797748375.4347266,
          792724910.6249802,
          787722441.8129518,
          782741170.9092509,
          777781289.9203715,
          772842981.2040671,
          767926417.7210455,
          763031763.2828336,
          758159172.7956786,
          753308792.5003716,
          748480760.2078977,
          743675205.5308368,
          738892250.1104491,
          734132007.8393974,
          729394585.0800718,
          724680080.8784943,
          719988587.1737818,
          715320189.00318,
          710674964.702659,
          706052986.1030931,
          701454318.7220504,
          696879021.9512062,
          692327149.2394371,
          687798748.2716129,
          683293861.1431508,
          678812524.530368,
          674354769.8566957,
          669920623.4548029,
          665510106.7246991,
          661123236.2878678,
          656760024.1375065,
          652420477.7849292,
          648104600.402209,
          643812390.9611213,
          639543844.3684655,
          635298951.5978297,
          631077699.8178772,
          626880072.5172198,
          622706049.6259537,
          618555607.6339318,
          614428719.7058387,
          610325355.7931465,
          606245482.7430199,
          602189064.4042392,
          598156061.730214,
          594146432.8791604,
          590160133.3115007,
          586197115.8845624,
          582257330.9446406,
          578340726.4164882,
          574447247.8902981,
          570576838.7062463,
          566729440.0366518,
          562904990.9658206,
          559103428.5676286,
          555324687.9809084,
          551568702.4826939,
          547835403.5593803,
          544124720.9758573,
          540436582.8426644,
          536770915.6812308,
          533127644.4872404,
          529506692.7921825,
          525907982.7231317,
          522331435.06080806,
          518776969.2959641,
          515244503.684144,
          511733955.2988609,
          508245240.083236,
          504778272.90014017,
          501332967.5808827,
          497909236.9724858,
          494506992.98358274,
          491126146.6289815,
          487766608.07292855,
          484428286.67111003,
          481111091.0114252,
          477814928.95356685,
          474539707.6674424,
          471285333.67046577,
          468051712.86375713,
          464838750.5672742,
          461646351.5539093,
          458474420.08258235,
          455322859.9303516,
          452191574.42357767,
          449080466.46816176,
          445989438.5788854,
          442918392.90787756,
          439867231.2722334,
          436835855.180807,
          433824165.8602026,
          430832064.27998656,
          427859451.1771406,
          424906227.07977825,
          421972292.33014566,
          419057547.1069245,
          416161891.446859,
          413285225.2657235,
          410427448.3786507,
          407588460.5198364,
          404768161.36163974,
          401966450.53309315,
          399183227.6378428,
          396418392.2715291,
          393671844.0386271,
          390943482.56876135,
          388233207.5325074,
          385540918.65669405,
          382866515.73922426,
          380209898.663421,
          377570967.41191846,
          374949622.08010364,
          372345762.88912696,
          369759290.1984891,
          367190104.51821816,
          364638106.52064705,
          362103197.0518022,
          359585277.1424143,
          357084248.0185605,
          354600011.1119509,
          352132468.06986254,
          349681520.76473933,
          347247071.30345905,
          344829022.03628033,
          342427275.5654771,
          340041734.75366974,
          337672302.7318609,
          335318882.90718216,
          332981378.97036135,
          330659694.9029181,
          328353734.9840936,
          326063403.79752177,
          323788606.23765,
          321529247.5159155,
          319285233.1666836,
          317056469.0529538,
          314842861.37184256,
          312644316.6598444,
          310460741.79788166,
          308292044.0161456,
          306138130.89873564,
          303998910.3881024,
          301874290.7892988,
          299764180.7740456,
          297668489.3846156,
          295587126.0375409,
          293520000.52715015,
          291467023.0289373,
          289428104.1027693
         ]
        },
        {
         "marker": {
          "color": "#d62728",
          "line": {
           "color": "DarkSlateGrey",
           "width": 2
          },
          "size": 12
         },
         "name": "Old Measurement",
         "type": "scatter",
         "x": [
          0.011940187884731468
         ],
         "y": [
          799999999.9792953
         ]
        }
       ],
       "layout": {
        "annotations": [
         {
          "arrowhead": 0,
          "ax": 0,
          "ay": 0,
          "font": {
           "color": "#d62728"
          },
          "showarrow": false,
          "text": "(0.0119, 0.8x10<sup>9</sup>)",
          "x": 0.009627044174443685,
          "xref": "x",
          "y": 770000000,
          "yref": "y"
         }
        ],
        "showlegend": false,
        "template": {
         "data": {
          "bar": [
           {
            "error_x": {
             "color": "#2a3f5f"
            },
            "error_y": {
             "color": "#2a3f5f"
            },
            "marker": {
             "line": {
              "color": "white",
              "width": 0.5
             }
            },
            "type": "bar"
           }
          ],
          "barpolar": [
           {
            "marker": {
             "line": {
              "color": "white",
              "width": 0.5
             }
            },
            "type": "barpolar"
           }
          ],
          "carpet": [
           {
            "aaxis": {
             "endlinecolor": "#2a3f5f",
             "gridcolor": "#C8D4E3",
             "linecolor": "#C8D4E3",
             "minorgridcolor": "#C8D4E3",
             "startlinecolor": "#2a3f5f"
            },
            "baxis": {
             "endlinecolor": "#2a3f5f",
             "gridcolor": "#C8D4E3",
             "linecolor": "#C8D4E3",
             "minorgridcolor": "#C8D4E3",
             "startlinecolor": "#2a3f5f"
            },
            "type": "carpet"
           }
          ],
          "choropleth": [
           {
            "colorbar": {
             "outlinewidth": 0,
             "ticks": ""
            },
            "type": "choropleth"
           }
          ],
          "contour": [
           {
            "colorbar": {
             "outlinewidth": 0,
             "ticks": ""
            },
            "colorscale": [
             [
              0,
              "#0d0887"
             ],
             [
              0.1111111111111111,
              "#46039f"
             ],
             [
              0.2222222222222222,
              "#7201a8"
             ],
             [
              0.3333333333333333,
              "#9c179e"
             ],
             [
              0.4444444444444444,
              "#bd3786"
             ],
             [
              0.5555555555555556,
              "#d8576b"
             ],
             [
              0.6666666666666666,
              "#ed7953"
             ],
             [
              0.7777777777777778,
              "#fb9f3a"
             ],
             [
              0.8888888888888888,
              "#fdca26"
             ],
             [
              1,
              "#f0f921"
             ]
            ],
            "type": "contour"
           }
          ],
          "contourcarpet": [
           {
            "colorbar": {
             "outlinewidth": 0,
             "ticks": ""
            },
            "type": "contourcarpet"
           }
          ],
          "heatmap": [
           {
            "colorbar": {
             "outlinewidth": 0,
             "ticks": ""
            },
            "colorscale": [
             [
              0,
              "#0d0887"
             ],
             [
              0.1111111111111111,
              "#46039f"
             ],
             [
              0.2222222222222222,
              "#7201a8"
             ],
             [
              0.3333333333333333,
              "#9c179e"
             ],
             [
              0.4444444444444444,
              "#bd3786"
             ],
             [
              0.5555555555555556,
              "#d8576b"
             ],
             [
              0.6666666666666666,
              "#ed7953"
             ],
             [
              0.7777777777777778,
              "#fb9f3a"
             ],
             [
              0.8888888888888888,
              "#fdca26"
             ],
             [
              1,
              "#f0f921"
             ]
            ],
            "type": "heatmap"
           }
          ],
          "heatmapgl": [
           {
            "colorbar": {
             "outlinewidth": 0,
             "ticks": ""
            },
            "colorscale": [
             [
              0,
              "#0d0887"
             ],
             [
              0.1111111111111111,
              "#46039f"
             ],
             [
              0.2222222222222222,
              "#7201a8"
             ],
             [
              0.3333333333333333,
              "#9c179e"
             ],
             [
              0.4444444444444444,
              "#bd3786"
             ],
             [
              0.5555555555555556,
              "#d8576b"
             ],
             [
              0.6666666666666666,
              "#ed7953"
             ],
             [
              0.7777777777777778,
              "#fb9f3a"
             ],
             [
              0.8888888888888888,
              "#fdca26"
             ],
             [
              1,
              "#f0f921"
             ]
            ],
            "type": "heatmapgl"
           }
          ],
          "histogram": [
           {
            "marker": {
             "colorbar": {
              "outlinewidth": 0,
              "ticks": ""
             }
            },
            "type": "histogram"
           }
          ],
          "histogram2d": [
           {
            "colorbar": {
             "outlinewidth": 0,
             "ticks": ""
            },
            "colorscale": [
             [
              0,
              "#0d0887"
             ],
             [
              0.1111111111111111,
              "#46039f"
             ],
             [
              0.2222222222222222,
              "#7201a8"
             ],
             [
              0.3333333333333333,
              "#9c179e"
             ],
             [
              0.4444444444444444,
              "#bd3786"
             ],
             [
              0.5555555555555556,
              "#d8576b"
             ],
             [
              0.6666666666666666,
              "#ed7953"
             ],
             [
              0.7777777777777778,
              "#fb9f3a"
             ],
             [
              0.8888888888888888,
              "#fdca26"
             ],
             [
              1,
              "#f0f921"
             ]
            ],
            "type": "histogram2d"
           }
          ],
          "histogram2dcontour": [
           {
            "colorbar": {
             "outlinewidth": 0,
             "ticks": ""
            },
            "colorscale": [
             [
              0,
              "#0d0887"
             ],
             [
              0.1111111111111111,
              "#46039f"
             ],
             [
              0.2222222222222222,
              "#7201a8"
             ],
             [
              0.3333333333333333,
              "#9c179e"
             ],
             [
              0.4444444444444444,
              "#bd3786"
             ],
             [
              0.5555555555555556,
              "#d8576b"
             ],
             [
              0.6666666666666666,
              "#ed7953"
             ],
             [
              0.7777777777777778,
              "#fb9f3a"
             ],
             [
              0.8888888888888888,
              "#fdca26"
             ],
             [
              1,
              "#f0f921"
             ]
            ],
            "type": "histogram2dcontour"
           }
          ],
          "mesh3d": [
           {
            "colorbar": {
             "outlinewidth": 0,
             "ticks": ""
            },
            "type": "mesh3d"
           }
          ],
          "parcoords": [
           {
            "line": {
             "colorbar": {
              "outlinewidth": 0,
              "ticks": ""
             }
            },
            "type": "parcoords"
           }
          ],
          "scatter": [
           {
            "marker": {
             "colorbar": {
              "outlinewidth": 0,
              "ticks": ""
             }
            },
            "type": "scatter"
           }
          ],
          "scatter3d": [
           {
            "line": {
             "colorbar": {
              "outlinewidth": 0,
              "ticks": ""
             }
            },
            "marker": {
             "colorbar": {
              "outlinewidth": 0,
              "ticks": ""
             }
            },
            "type": "scatter3d"
           }
          ],
          "scattercarpet": [
           {
            "marker": {
             "colorbar": {
              "outlinewidth": 0,
              "ticks": ""
             }
            },
            "type": "scattercarpet"
           }
          ],
          "scattergeo": [
           {
            "marker": {
             "colorbar": {
              "outlinewidth": 0,
              "ticks": ""
             }
            },
            "type": "scattergeo"
           }
          ],
          "scattergl": [
           {
            "marker": {
             "colorbar": {
              "outlinewidth": 0,
              "ticks": ""
             }
            },
            "type": "scattergl"
           }
          ],
          "scattermapbox": [
           {
            "marker": {
             "colorbar": {
              "outlinewidth": 0,
              "ticks": ""
             }
            },
            "type": "scattermapbox"
           }
          ],
          "scatterpolar": [
           {
            "marker": {
             "colorbar": {
              "outlinewidth": 0,
              "ticks": ""
             }
            },
            "type": "scatterpolar"
           }
          ],
          "scatterpolargl": [
           {
            "marker": {
             "colorbar": {
              "outlinewidth": 0,
              "ticks": ""
             }
            },
            "type": "scatterpolargl"
           }
          ],
          "scatterternary": [
           {
            "marker": {
             "colorbar": {
              "outlinewidth": 0,
              "ticks": ""
             }
            },
            "type": "scatterternary"
           }
          ],
          "surface": [
           {
            "colorbar": {
             "outlinewidth": 0,
             "ticks": ""
            },
            "colorscale": [
             [
              0,
              "#0d0887"
             ],
             [
              0.1111111111111111,
              "#46039f"
             ],
             [
              0.2222222222222222,
              "#7201a8"
             ],
             [
              0.3333333333333333,
              "#9c179e"
             ],
             [
              0.4444444444444444,
              "#bd3786"
             ],
             [
              0.5555555555555556,
              "#d8576b"
             ],
             [
              0.6666666666666666,
              "#ed7953"
             ],
             [
              0.7777777777777778,
              "#fb9f3a"
             ],
             [
              0.8888888888888888,
              "#fdca26"
             ],
             [
              1,
              "#f0f921"
             ]
            ],
            "type": "surface"
           }
          ],
          "table": [
           {
            "cells": {
             "fill": {
              "color": "#EBF0F8"
             },
             "line": {
              "color": "white"
             }
            },
            "header": {
             "fill": {
              "color": "#C8D4E3"
             },
             "line": {
              "color": "white"
             }
            },
            "type": "table"
           }
          ]
         },
         "layout": {
          "annotationdefaults": {
           "arrowcolor": "#2a3f5f",
           "arrowhead": 0,
           "arrowwidth": 1
          },
          "colorscale": {
           "diverging": [
            [
             0,
             "#8e0152"
            ],
            [
             0.1,
             "#c51b7d"
            ],
            [
             0.2,
             "#de77ae"
            ],
            [
             0.3,
             "#f1b6da"
            ],
            [
             0.4,
             "#fde0ef"
            ],
            [
             0.5,
             "#f7f7f7"
            ],
            [
             0.6,
             "#e6f5d0"
            ],
            [
             0.7,
             "#b8e186"
            ],
            [
             0.8,
             "#7fbc41"
            ],
            [
             0.9,
             "#4d9221"
            ],
            [
             1,
             "#276419"
            ]
           ],
           "sequential": [
            [
             0,
             "#0d0887"
            ],
            [
             0.1111111111111111,
             "#46039f"
            ],
            [
             0.2222222222222222,
             "#7201a8"
            ],
            [
             0.3333333333333333,
             "#9c179e"
            ],
            [
             0.4444444444444444,
             "#bd3786"
            ],
            [
             0.5555555555555556,
             "#d8576b"
            ],
            [
             0.6666666666666666,
             "#ed7953"
            ],
            [
             0.7777777777777778,
             "#fb9f3a"
            ],
            [
             0.8888888888888888,
             "#fdca26"
            ],
            [
             1,
             "#f0f921"
            ]
           ],
           "sequentialminus": [
            [
             0,
             "#0d0887"
            ],
            [
             0.1111111111111111,
             "#46039f"
            ],
            [
             0.2222222222222222,
             "#7201a8"
            ],
            [
             0.3333333333333333,
             "#9c179e"
            ],
            [
             0.4444444444444444,
             "#bd3786"
            ],
            [
             0.5555555555555556,
             "#d8576b"
            ],
            [
             0.6666666666666666,
             "#ed7953"
            ],
            [
             0.7777777777777778,
             "#fb9f3a"
            ],
            [
             0.8888888888888888,
             "#fdca26"
            ],
            [
             1,
             "#f0f921"
            ]
           ]
          },
          "colorway": [
           "#636efa",
           "#EF553B",
           "#00cc96",
           "#ab63fa",
           "#FFA15A",
           "#19d3f3",
           "#FF6692",
           "#B6E880",
           "#FF97FF",
           "#FECB52"
          ],
          "font": {
           "color": "#2a3f5f"
          },
          "geo": {
           "bgcolor": "white",
           "lakecolor": "white",
           "landcolor": "white",
           "showlakes": true,
           "showland": true,
           "subunitcolor": "#C8D4E3"
          },
          "hoverlabel": {
           "align": "left"
          },
          "hovermode": "closest",
          "mapbox": {
           "style": "light"
          },
          "paper_bgcolor": "white",
          "plot_bgcolor": "white",
          "polar": {
           "angularaxis": {
            "gridcolor": "#EBF0F8",
            "linecolor": "#EBF0F8",
            "ticks": ""
           },
           "bgcolor": "white",
           "radialaxis": {
            "gridcolor": "#EBF0F8",
            "linecolor": "#EBF0F8",
            "ticks": ""
           }
          },
          "scene": {
           "xaxis": {
            "backgroundcolor": "white",
            "gridcolor": "#DFE8F3",
            "gridwidth": 2,
            "linecolor": "#EBF0F8",
            "showbackground": true,
            "ticks": "",
            "zerolinecolor": "#EBF0F8"
           },
           "yaxis": {
            "backgroundcolor": "white",
            "gridcolor": "#DFE8F3",
            "gridwidth": 2,
            "linecolor": "#EBF0F8",
            "showbackground": true,
            "ticks": "",
            "zerolinecolor": "#EBF0F8"
           },
           "zaxis": {
            "backgroundcolor": "white",
            "gridcolor": "#DFE8F3",
            "gridwidth": 2,
            "linecolor": "#EBF0F8",
            "showbackground": true,
            "ticks": "",
            "zerolinecolor": "#EBF0F8"
           }
          },
          "shapedefaults": {
           "line": {
            "color": "#2a3f5f"
           }
          },
          "ternary": {
           "aaxis": {
            "gridcolor": "#DFE8F3",
            "linecolor": "#A2B1C6",
            "ticks": ""
           },
           "baxis": {
            "gridcolor": "#DFE8F3",
            "linecolor": "#A2B1C6",
            "ticks": ""
           },
           "bgcolor": "white",
           "caxis": {
            "gridcolor": "#DFE8F3",
            "linecolor": "#A2B1C6",
            "ticks": ""
           }
          },
          "title": {
           "x": 0.05
          },
          "xaxis": {
           "automargin": true,
           "gridcolor": "#EBF0F8",
           "linecolor": "#EBF0F8",
           "ticks": "",
           "zerolinecolor": "#EBF0F8",
           "zerolinewidth": 2
          },
          "yaxis": {
           "automargin": true,
           "gridcolor": "#EBF0F8",
           "linecolor": "#EBF0F8",
           "ticks": "",
           "zerolinecolor": "#EBF0F8",
           "zerolinewidth": 2
          }
         }
        },
        "title": {
         "text": "Growth Rate Dependent Cell Concentration"
        },
        "xaxis": {
         "title": {
          "text": "Growth Rate (min<sup>-1</sup>)"
         }
        },
        "yaxis": {
         "exponentformat": "power",
         "title": {
          "text": "Cell Concentration (mL<sup>-1</sup> &#183; OD<sup>-1</sup>)"
         }
        }
       }
      },
      "text/html": [
       "<div>\n",
       "        \n",
       "        \n",
       "            <div id=\"c263f02d-4f00-434c-9d8b-28bf83f00e88\" class=\"plotly-graph-div\" style=\"height:525px; width:100%;\"></div>\n",
       "            <script type=\"text/javascript\">\n",
       "                require([\"plotly\"], function(Plotly) {\n",
       "                    window.PLOTLYENV=window.PLOTLYENV || {};\n",
       "                    \n",
       "                if (document.getElementById(\"c263f02d-4f00-434c-9d8b-28bf83f00e88\")) {\n",
       "                    Plotly.newPlot(\n",
       "                        'c263f02d-4f00-434c-9d8b-28bf83f00e88',\n",
       "                        [{\"line\": {\"width\": 0}, \"marker\": {\"color\": \"#444\"}, \"mode\": \"lines\", \"name\": \"Lower Bound\", \"type\": \"scatter\", \"x\": [0.0001, 0.0002, 0.00030000000000000003, 0.0004, 0.0005, 0.0006000000000000001, 0.0007000000000000001, 0.0008, 0.0009000000000000001, 0.001, 0.0011, 0.0012000000000000001, 0.0013000000000000002, 0.0014000000000000002, 0.0015, 0.0016, 0.0017000000000000001, 0.0018000000000000002, 0.0019000000000000002, 0.002, 0.0021, 0.0022, 0.0023, 0.0024, 0.0025, 0.0026, 0.0027, 0.0028, 0.0029, 0.003, 0.0031, 0.0032, 0.0033, 0.0034, 0.0035, 0.0036, 0.0037, 0.0038, 0.0039, 0.004, 0.0041, 0.004200000000000001, 0.004300000000000001, 0.0044, 0.0045000000000000005, 0.004600000000000001, 0.0047, 0.0048000000000000004, 0.004900000000000001, 0.005, 0.0051, 0.005200000000000001, 0.005300000000000001, 0.0054, 0.0055000000000000005, 0.005600000000000001, 0.0057, 0.0058000000000000005, 0.005900000000000001, 0.006, 0.0061, 0.006200000000000001, 0.006300000000000001, 0.0064, 0.006500000000000001, 0.006600000000000001, 0.0067, 0.0068000000000000005, 0.006900000000000001, 0.007000000000000001, 0.0071, 0.007200000000000001, 0.007300000000000001, 0.0074, 0.007500000000000001, 0.007600000000000001, 0.0077, 0.0078000000000000005, 0.0079, 0.008, 0.0081, 0.008199999999999999, 0.0083, 0.0084, 0.0085, 0.0086, 0.0087, 0.0088, 0.0089, 0.009, 0.0091, 0.0092, 0.0093, 0.0094, 0.0095, 0.0096, 0.0097, 0.0098, 0.009899999999999999, 0.01, 0.0101, 0.0102, 0.0103, 0.0104, 0.0105, 0.0106, 0.0107, 0.0108, 0.0109, 0.011, 0.0111, 0.0112, 0.0113, 0.0114, 0.0115, 0.0116, 0.0117, 0.0118, 0.011899999999999999, 0.012, 0.0121, 0.0122, 0.0123, 0.0124, 0.0125, 0.0126, 0.0127, 0.0128, 0.0129, 0.013, 0.0131, 0.0132, 0.0133, 0.0134, 0.0135, 0.0136, 0.0137, 0.0138, 0.013900000000000001, 0.014, 0.0141, 0.0142, 0.0143, 0.0144, 0.0145, 0.0146, 0.0147, 0.0148, 0.0149, 0.015, 0.0151, 0.0152, 0.0153, 0.0154, 0.0155, 0.0156, 0.015700000000000002, 0.0158, 0.0159, 0.016, 0.0161, 0.0162, 0.0163, 0.0164, 0.0165, 0.0166, 0.0167, 0.0168, 0.016900000000000002, 0.017, 0.0171, 0.0172, 0.0173, 0.0174, 0.0175, 0.0176, 0.0177, 0.0178, 0.0179, 0.018, 0.0181, 0.0182, 0.0183, 0.0184, 0.0185, 0.018600000000000002, 0.0187, 0.0188, 0.0189, 0.019, 0.0191, 0.019200000000000002, 0.0193, 0.0194, 0.0195, 0.0196, 0.0197, 0.0198, 0.0199, 0.02, 0.0201, 0.0202, 0.020300000000000002, 0.0204, 0.0205, 0.0206, 0.0207, 0.0208, 0.020900000000000002, 0.021, 0.0211, 0.0212, 0.0213, 0.0214, 0.021500000000000002, 0.0216, 0.0217, 0.0218, 0.0219, 0.022, 0.0221, 0.0222, 0.0223, 0.0224, 0.0225, 0.022600000000000002, 0.0227, 0.0228, 0.0229, 0.023, 0.0231, 0.023200000000000002, 0.0233, 0.0234, 0.0235, 0.0236, 0.0237, 0.0238, 0.0239, 0.024, 0.0241, 0.0242, 0.024300000000000002, 0.0244, 0.0245, 0.0246, 0.0247, 0.0248, 0.024900000000000002, 0.025, 0.0251, 0.0252, 0.0253, 0.0254, 0.025500000000000002, 0.0256, 0.0257, 0.0258, 0.0259, 0.026000000000000002, 0.0261, 0.0262, 0.0263, 0.0264, 0.0265, 0.026600000000000002, 0.0267, 0.0268, 0.0269, 0.027, 0.0271, 0.027200000000000002, 0.0273, 0.0274, 0.0275, 0.0276, 0.027700000000000002, 0.027800000000000002, 0.0279, 0.028, 0.0281, 0.0282, 0.028300000000000002, 0.0284, 0.0285, 0.0286, 0.0287, 0.0288, 0.028900000000000002, 0.029, 0.0291, 0.0292, 0.0293, 0.029400000000000003, 0.029500000000000002, 0.0296, 0.0297, 0.0298, 0.0299], \"y\": [1550178084.7771187, 1498865563.8897283, 1452195173.6575632, 1409665467.9743977, 1370838505.6191072, 1335330564.307726, 1302804372.7066631, 1272962588.803166, 1245542305.554355, 1220310406.3865483, 1197059626.2836552, 1175605200.7236035, 1155782006.0117965, 1137442111.7181153, 1120452679.8031452, 1104694156.287562, 1090058710.4995828, 1076448884.441557, 1063776420.9742191, 1051961244.5847172, 1040930572.6883659, 1030618138.8789834, 1020963512.4207618, 1011911500.6723183, 1003411623.136682, 995417647.5091276, 987887179.5043542, 980781299.4317482, 974064239.4898139, 967703096.5993217, 961667576.3145497, 955929763.9641659, 950463919.6950408, 945246294.5379432, 940254964.9955343, 935469683.9802499, 930871746.2108309, 926443866.4183278, 922170068.9212148, 918035587.3096609, 914026773.1351395, 910131012.6369259, 906336650.6545482, 902632920.9774215, 899009882.4718859, 895458360.4034147, 891969892.4394904, 888536678.8778436, 885151536.6965221, 881807857.0676843, 878499566.0167745, 875221087.9437234, 871967311.753517, 868733559.3705149, 865515556.4347177, 862309404.9991462, 859111558.0660449, 855918795.8159738, 852728203.3983177, 849537150.1645639, 846343270.2370447, 843144444.3159038, 839938782.6360115, 836724608.9934833, 833500445.7685606, 830264999.8779131, 827017149.5950738, 823755932.182753, 820480532.2852986, 817190271.0336224, 813884595.8185658, 810563070.6919402, 807225367.35746, 803871256.7164576, 800500600.9356899, 797113346.0067632, 793709514.7687051, 790289200.3670462, 786852560.1244472, 783399809.7994555, 779931218.2113787, 776447102.210568, 772947821.9746188, 769433776.6120979, 765905400.0564489, 762363157.2337003, 758807540.4884789, 755239066.2536964, 751658271.9500484, 748065713.1022055, 744461960.6592803, 740847598.5078006, 737223221.166033, 733589431.649095, 729946839.4948387, 726296058.9410021, 722637707.2446444, 718972403.1353168, 715300765.3938957, 711623411.5494094, 707940956.6866053, 704254012.3573704, 700563185.5895032, 696869077.9866626, 693172284.9136627, 689473394.761585, 685772988.2874906, 682071638.023791, 678369907.7526066, 674668352.0407101, 670967515.8308859, 667267934.0857768, 663570131.4805086, 659874622.1406018, 656181909.421869, 652492485.7292025, 648806832.3713216, 645125419.4487388, 641448705.7723588, 637777138.8102783, 634111154.6605085, 630451178.0474823, 626797622.3403325, 623150889.5910656, 619511370.5908648, 615879444.9428775, 612255481.1499383, 608639836.7157948, 605032858.2584839, 601434881.6346068, 597846232.0733322, 594267224.3190397, 590698162.7815871, 587139341.6932623, 583591045.2715452, 580053547.8868686, 576527114.2346256, 573011999.5107338, 569508449.5901068, 566016701.2074492, 562536982.1398212, 559069511.3904792, 555614499.373527, 552172148.098953, 548742651.357674, 545326194.9062282, 541922956.650795, 538533106.8302541, 535156808.19801724, 531794216.2023939, 528445479.1652754, 525110738.45894694, 521790128.6808551, 518483777.82617503, 515191807.45804805, 511914332.87536645, 508651463.27800506, 505403301.92940974, 502169946.31646883, 498951488.3066022, 495748014.3020168, 492559605.39108676, 489386337.4968238, 486228281.522417, 483085503.4938256, 479958064.69941056, 476846021.8266151, 473749427.0956842, 470668328.3904428, 467602769.3861459, 464552789.6744122, 461518424.88527775, 458499706.8063824, 455496663.4993305, 452509319.4132517, 449537695.4956019, 446581809.30023825, 443641675.0928136, 440717303.95352435, 437808703.87726384, 434915879.87121665, 432038834.0499468, 429177565.72802013, 426332071.5102128, 423502345.3793468, 420688378.7818097, 417890160.71079654, 415107677.7873281, 412340914.3390943, 409589852.4771639, 406854472.1706177, 404134751.3191463, 401430665.82365984, 398742189.6549599, 396069294.9205185, 393411951.9294078, 390770129.2554266, 388143793.7984726, 385532910.84419703, 382937444.12198925, 380357355.86133474, 377792606.84658414, 375243156.47017884, 372708962.7843701, 370189982.5514715, 367686171.29268694, 365197483.33554643, 362723871.8599917, 360265288.9431432, 357821685.60279024, 355393011.8396314, 352979216.6783053, 350580248.20724124, 348196053.6173626, 345826579.23967636, 343471770.5817759, 341131572.3632902, 338805928.55030763, 336494782.38880134, 334198076.4370857, 331915752.5973306, 329647752.1461582, 327394015.7643496, 325154483.56568575, 322929095.1249454, 320717789.5050866, 318520505.28363067, 316337180.578275, 314167753.0717526, 312012160.0359633, 309870338.3553928, 307742224.54984283, 305627754.7964914, 303526864.9512981, 301439490.5697793, 299365566.9271646, 297305029.03795654, 295257811.674906, 293223849.38742405, 291203076.51944256, 289195427.2267403, 287200835.49374956, 285219235.1498573, 283250559.8852151, 281294743.26607174, 279351718.7496409, 277421419.6985179, 275503779.39465743, 273598731.05292434, 271706207.8342296, 269826142.8582624, 267958469.21583003, 266103119.98081636, 264260028.22176865, 262429127.01312345, 260610349.44608247, 258803628.63914618, 257008897.7483143, 255226089.97696635, 253455138.58542413, 251695976.90021223, 249948538.32301855, 248212756.339367, 246488564.5270088, 244775896.5640392, 243074686.23674917, 241384867.44721696, 239706374.22064826, 238039140.7124705, 236383101.2151896, 234738190.16501302, 233104342.14824823, 231481491.90748104, 229869574.34753948, 228268524.5412498, 226678277.73499012, 225098769.35404727, 223529935.00778094, 221971710.49460125, 220424031.8067659, 218886835.13499942, 217360056.87294012, 215843633.6214206, 214337502.19258496, 212841599.61384714, 211355863.131695, 209880230.21534508, 208414638.5602498, 206959026.0914636, 205513330.96687028, 204077491.58027562, 202651446.56436902, 201235134.7935574, 199828495.3866757, 198431467.7095755, 197043991.37759703, 195666006.2579267, 194297452.471843, 192938270.396855]}, {\"fill\": \"tonexty\", \"fillcolor\": \"rgba(68, 68, 68, 0.3)\", \"line\": {\"color\": \"rgb(31, 119, 180)\"}, \"mode\": \"lines\", \"name\": \"Measurement\", \"type\": \"scatter\", \"x\": [0.0001, 0.0002, 0.00030000000000000003, 0.0004, 0.0005, 0.0006000000000000001, 0.0007000000000000001, 0.0008, 0.0009000000000000001, 0.001, 0.0011, 0.0012000000000000001, 0.0013000000000000002, 0.0014000000000000002, 0.0015, 0.0016, 0.0017000000000000001, 0.0018000000000000002, 0.0019000000000000002, 0.002, 0.0021, 0.0022, 0.0023, 0.0024, 0.0025, 0.0026, 0.0027, 0.0028, 0.0029, 0.003, 0.0031, 0.0032, 0.0033, 0.0034, 0.0035, 0.0036, 0.0037, 0.0038, 0.0039, 0.004, 0.0041, 0.004200000000000001, 0.004300000000000001, 0.0044, 0.0045000000000000005, 0.004600000000000001, 0.0047, 0.0048000000000000004, 0.004900000000000001, 0.005, 0.0051, 0.005200000000000001, 0.005300000000000001, 0.0054, 0.0055000000000000005, 0.005600000000000001, 0.0057, 0.0058000000000000005, 0.005900000000000001, 0.006, 0.0061, 0.006200000000000001, 0.006300000000000001, 0.0064, 0.006500000000000001, 0.006600000000000001, 0.0067, 0.0068000000000000005, 0.006900000000000001, 0.007000000000000001, 0.0071, 0.007200000000000001, 0.007300000000000001, 0.0074, 0.007500000000000001, 0.007600000000000001, 0.0077, 0.0078000000000000005, 0.0079, 0.008, 0.0081, 0.008199999999999999, 0.0083, 0.0084, 0.0085, 0.0086, 0.0087, 0.0088, 0.0089, 0.009, 0.0091, 0.0092, 0.0093, 0.0094, 0.0095, 0.0096, 0.0097, 0.0098, 0.009899999999999999, 0.01, 0.0101, 0.0102, 0.0103, 0.0104, 0.0105, 0.0106, 0.0107, 0.0108, 0.0109, 0.011, 0.0111, 0.0112, 0.0113, 0.0114, 0.0115, 0.0116, 0.0117, 0.0118, 0.011899999999999999, 0.012, 0.0121, 0.0122, 0.0123, 0.0124, 0.0125, 0.0126, 0.0127, 0.0128, 0.0129, 0.013, 0.0131, 0.0132, 0.0133, 0.0134, 0.0135, 0.0136, 0.0137, 0.0138, 0.013900000000000001, 0.014, 0.0141, 0.0142, 0.0143, 0.0144, 0.0145, 0.0146, 0.0147, 0.0148, 0.0149, 0.015, 0.0151, 0.0152, 0.0153, 0.0154, 0.0155, 0.0156, 0.015700000000000002, 0.0158, 0.0159, 0.016, 0.0161, 0.0162, 0.0163, 0.0164, 0.0165, 0.0166, 0.0167, 0.0168, 0.016900000000000002, 0.017, 0.0171, 0.0172, 0.0173, 0.0174, 0.0175, 0.0176, 0.0177, 0.0178, 0.0179, 0.018, 0.0181, 0.0182, 0.0183, 0.0184, 0.0185, 0.018600000000000002, 0.0187, 0.0188, 0.0189, 0.019, 0.0191, 0.019200000000000002, 0.0193, 0.0194, 0.0195, 0.0196, 0.0197, 0.0198, 0.0199, 0.02, 0.0201, 0.0202, 0.020300000000000002, 0.0204, 0.0205, 0.0206, 0.0207, 0.0208, 0.020900000000000002, 0.021, 0.0211, 0.0212, 0.0213, 0.0214, 0.021500000000000002, 0.0216, 0.0217, 0.0218, 0.0219, 0.022, 0.0221, 0.0222, 0.0223, 0.0224, 0.0225, 0.022600000000000002, 0.0227, 0.0228, 0.0229, 0.023, 0.0231, 0.023200000000000002, 0.0233, 0.0234, 0.0235, 0.0236, 0.0237, 0.0238, 0.0239, 0.024, 0.0241, 0.0242, 0.024300000000000002, 0.0244, 0.0245, 0.0246, 0.0247, 0.0248, 0.024900000000000002, 0.025, 0.0251, 0.0252, 0.0253, 0.0254, 0.025500000000000002, 0.0256, 0.0257, 0.0258, 0.0259, 0.026000000000000002, 0.0261, 0.0262, 0.0263, 0.0264, 0.0265, 0.026600000000000002, 0.0267, 0.0268, 0.0269, 0.027, 0.0271, 0.027200000000000002, 0.0273, 0.0274, 0.0275, 0.0276, 0.027700000000000002, 0.027800000000000002, 0.0279, 0.028, 0.0281, 0.0282, 0.028300000000000002, 0.0284, 0.0285, 0.0286, 0.0287, 0.0288, 0.028900000000000002, 0.029, 0.0291, 0.0292, 0.0293, 0.029400000000000003, 0.029500000000000002, 0.0296, 0.0297, 0.0298, 0.0299], \"y\": [1937805757.8847737, 1873662354.359969, 1815321863.1591647, 1762157449.7518933, 1713621664.1204803, 1669234832.8270147, 1628575348.6131961, 1591271518.0135884, 1556994693.1221972, 1525453465.717493, 1496388743.4116187, 1469569560.6411722, 1444789503.930634, 1421863652.3073328, 1400625951.0965366, 1380926951.4111872, 1362631859.1274939, 1345618846.5207233, 1329777587.4326603, 1315007983.1769705, 1301219051.6187227, 1288327956.1956441, 1276259155.2464564, 1264943655.0088842, 1254318352.153929, 1244325453.8207722, 1234911964.8787484, 1226029233.6269293, 1217632548.3948524, 1209680778.5685515, 1202136054.4658732, 1194963481.2503033, 1188130882.7247376, 1181608571.4037375, 1175369141.7396476, 1169387283.7869544, 1163639614.9407282, 1158104527.6875963, 1152762051.5687125, 1147593727.7797139, 1142582495.0278363, 1137712585.4355693, 1132969429.427137, 1128339568.6618066, 1123810576.189258, 1119370983.0991983, 1115010211.0220594, 1110718509.911626, 1106486900.6051595, 1102307121.7133584, 1098171580.442219, 1094073306.992578, 1090005912.2215075, 1085963548.2835243, 1081940871.999351, 1077933010.7261772, 1073935530.5265467, 1069944406.4534473, 1065955994.7872571, 1061967007.0762266, 1057974485.8463645, 1053975781.8591713, 1049968532.806867, 1045950643.3446844, 1041920266.368665, 1037875785.4552847, 1033815798.3862903, 1029739101.688428, 1025644676.1233968, 1021531673.0684221, 1017399401.7324133, 1013247317.1567501, 1009075008.9534659, 1004882190.7369373, 1000668690.2082168, 996434439.8539153, 992179468.2240428, 987903891.7555083, 983607907.1100768, 979291783.9975059, 974955858.4563495, 970600526.5665426, 966226238.5693997, 961833493.372037, 957422833.414536, 952994839.8793706, 948550128.2237338, 944089344.0164671, 939613159.062267, 935122267.7967701, 930617383.9369936, 926099237.3724166, 921568571.2827628, 917026139.4692746, 912472703.8869629, 907909032.3659484, 903335896.5106645, 898754069.7662393, 894164325.6419595, 889567436.0822353, 884964169.9759941, 880355291.7958982, 875741560.359257, 871123727.7029145, 866502538.0648235, 861878726.9653974, 857253020.3821148, 852626134.0112002, 847998772.6105461, 843371629.4183654, 838745385.6423693, 834120710.0145568, 829498258.4069788, 824878673.5041139, 820262584.5277281, 815650607.010349, 811043342.6136936, 806441378.988619, 801845289.6733663, 797255634.0270591, 792672957.1956036, 788097790.1073232, 783530649.4958072, 778972037.9476298, 774422443.9727323, 769882342.0954108, 765352192.9639753, 760832443.4772867, 756323526.9264839, 751825863.1503338, 747339858.7027425, 742865907.0310676, 738404388.6639602, 733955671.4075624, 729520110.5489699, 725098049.0659407, 720689817.8419149, 716295735.885478, 711916110.553461, 707551237.7769426, 703201402.2894666, 698866877.856851, 694547927.5080118, 690244803.7662704, 685957748.880668, 681686995.0568413, 677432764.6870574, 673195270.5790476, 668974716.1833069, 664771295.8185602, 660585194.8951278, 656416590.1359494, 652265649.795053, 648132533.8732733, 644017394.3310575, 639920375.298206, 635841613.2804193, 631781237.3625442, 627739369.4084202, 623716124.25725, 619711609.9164268, 615725927.750768, 611759172.6681106, 607811433.3012444, 603882792.18616, 599973325.9365962, 596083105.4148976, 592212195.8991716, 588360657.246768, 584528544.0540981, 580715905.8128092, 576922787.0623574, 573149227.5389977, 569395262.3212407, 565660921.9718099, 561946232.6761488, 558251216.3775206, 554575890.9087564, 550920270.1206961, 547284364.0073851, 543668178.8280729, 540071717.2260779, 536494978.3445707, 532937957.93933916, 529400648.4885882, 525883039.29984343, 522385116.6140081, 518906863.7066409, 515448260.986513, 512009286.0915013, 508589913.9818821, 505190117.0310831, 501809865.1139495, 498449125.69258696, 495107863.89983946, 491786042.62045425, 488483622.5699945, 485200562.3715566, 481936818.6303426, 478692346.0061437, 475467097.2837905, 472261023.441618, 469074073.7179997, 465906195.6759994, 462757335.26618993, 459627436.8876904, 456516443.4474634, 453424296.4179245, 450350935.8929038, 447296300.6420105, 444260328.1634359, 441242954.7352439, 438244115.4651865, 435263744.33908534, 432301774.26782024, 429358137.13295996, 426432763.83107555, 423525584.3167718, 420636527.64447075, 417765522.0089842, 414912494.7849082, 412077372.5648705, 409260081.1966655, 406460545.81930715, 403678690.8980277, 400914440.2582559, 398167717.11859876, 395438444.1228587, 392726543.3711092, 390031936.4498602, 387354544.4613335, 384694288.05187607, 382051087.43953687, 379424862.44082487, 376815532.4966785, 374223016.6976632, 371647233.80842096, 369088102.2913918, 366545540.32982874, 364019465.8501248, 361509796.54347146, 359016449.88686806, 356539343.16349894, 354078393.4824967, 351633517.7981087, 349204632.9282827, 346791655.57268846, 344394502.3301905, 342013089.71578753, 339647334.177033, 337297152.1099511, 334962459.8744616, 332643173.80932957, 330339210.24664885, 328050485.5258753, 325776916.0074219, 323518418.0858268, 321274908.20250416, 319046302.8580953, 316832518.62442255, 314633472.15606534, 312449080.2015611, 310279259.61424696, 308123927.362749, 305983000.5411287, 303856396.3786981, 301744032.2495096, 299645825.68153125, 297561694.36551553, 295491556.1635702, 293435329.1174378, 291392931.4564938, 289364281.60547006, 287349298.1919099, 285347900.05336344, 283360006.2443299, 281385536.0429541, 279424408.95748156, 277476544.7324813, 275541863.354842, 273620285.05954653, 271711730.33523095, 269816119.92953527, 267933374.85425025, 266063416.39026538, 264206166.0923244, 262361545.79359382, 260529477.6100471, 258709883.94467264, 256902687.49150792, 255107811.23950562, 253325178.47623572, 251554712.7914281, 249796338.08036065, 248049978.54709554, 246315558.70756897, 244593003.39253843, 242882237.75039014, 241183187.24981216]}, {\"fill\": \"tonexty\", \"fillcolor\": \"rgba(68, 68, 68, 0.3)\", \"line\": {\"width\": 0}, \"marker\": {\"color\": \"#444\"}, \"mode\": \"lines\", \"name\": \"Upper Bound\", \"type\": \"scatter\", \"x\": [0.0001, 0.0002, 0.00030000000000000003, 0.0004, 0.0005, 0.0006000000000000001, 0.0007000000000000001, 0.0008, 0.0009000000000000001, 0.001, 0.0011, 0.0012000000000000001, 0.0013000000000000002, 0.0014000000000000002, 0.0015, 0.0016, 0.0017000000000000001, 0.0018000000000000002, 0.0019000000000000002, 0.002, 0.0021, 0.0022, 0.0023, 0.0024, 0.0025, 0.0026, 0.0027, 0.0028, 0.0029, 0.003, 0.0031, 0.0032, 0.0033, 0.0034, 0.0035, 0.0036, 0.0037, 0.0038, 0.0039, 0.004, 0.0041, 0.004200000000000001, 0.004300000000000001, 0.0044, 0.0045000000000000005, 0.004600000000000001, 0.0047, 0.0048000000000000004, 0.004900000000000001, 0.005, 0.0051, 0.005200000000000001, 0.005300000000000001, 0.0054, 0.0055000000000000005, 0.005600000000000001, 0.0057, 0.0058000000000000005, 0.005900000000000001, 0.006, 0.0061, 0.006200000000000001, 0.006300000000000001, 0.0064, 0.006500000000000001, 0.006600000000000001, 0.0067, 0.0068000000000000005, 0.006900000000000001, 0.007000000000000001, 0.0071, 0.007200000000000001, 0.007300000000000001, 0.0074, 0.007500000000000001, 0.007600000000000001, 0.0077, 0.0078000000000000005, 0.0079, 0.008, 0.0081, 0.008199999999999999, 0.0083, 0.0084, 0.0085, 0.0086, 0.0087, 0.0088, 0.0089, 0.009, 0.0091, 0.0092, 0.0093, 0.0094, 0.0095, 0.0096, 0.0097, 0.0098, 0.009899999999999999, 0.01, 0.0101, 0.0102, 0.0103, 0.0104, 0.0105, 0.0106, 0.0107, 0.0108, 0.0109, 0.011, 0.0111, 0.0112, 0.0113, 0.0114, 0.0115, 0.0116, 0.0117, 0.0118, 0.011899999999999999, 0.012, 0.0121, 0.0122, 0.0123, 0.0124, 0.0125, 0.0126, 0.0127, 0.0128, 0.0129, 0.013, 0.0131, 0.0132, 0.0133, 0.0134, 0.0135, 0.0136, 0.0137, 0.0138, 0.013900000000000001, 0.014, 0.0141, 0.0142, 0.0143, 0.0144, 0.0145, 0.0146, 0.0147, 0.0148, 0.0149, 0.015, 0.0151, 0.0152, 0.0153, 0.0154, 0.0155, 0.0156, 0.015700000000000002, 0.0158, 0.0159, 0.016, 0.0161, 0.0162, 0.0163, 0.0164, 0.0165, 0.0166, 0.0167, 0.0168, 0.016900000000000002, 0.017, 0.0171, 0.0172, 0.0173, 0.0174, 0.0175, 0.0176, 0.0177, 0.0178, 0.0179, 0.018, 0.0181, 0.0182, 0.0183, 0.0184, 0.0185, 0.018600000000000002, 0.0187, 0.0188, 0.0189, 0.019, 0.0191, 0.019200000000000002, 0.0193, 0.0194, 0.0195, 0.0196, 0.0197, 0.0198, 0.0199, 0.02, 0.0201, 0.0202, 0.020300000000000002, 0.0204, 0.0205, 0.0206, 0.0207, 0.0208, 0.020900000000000002, 0.021, 0.0211, 0.0212, 0.0213, 0.0214, 0.021500000000000002, 0.0216, 0.0217, 0.0218, 0.0219, 0.022, 0.0221, 0.0222, 0.0223, 0.0224, 0.0225, 0.022600000000000002, 0.0227, 0.0228, 0.0229, 0.023, 0.0231, 0.023200000000000002, 0.0233, 0.0234, 0.0235, 0.0236, 0.0237, 0.0238, 0.0239, 0.024, 0.0241, 0.0242, 0.024300000000000002, 0.0244, 0.0245, 0.0246, 0.0247, 0.0248, 0.024900000000000002, 0.025, 0.0251, 0.0252, 0.0253, 0.0254, 0.025500000000000002, 0.0256, 0.0257, 0.0258, 0.0259, 0.026000000000000002, 0.0261, 0.0262, 0.0263, 0.0264, 0.0265, 0.026600000000000002, 0.0267, 0.0268, 0.0269, 0.027, 0.0271, 0.027200000000000002, 0.0273, 0.0274, 0.0275, 0.0276, 0.027700000000000002, 0.027800000000000002, 0.0279, 0.028, 0.0281, 0.0282, 0.028300000000000002, 0.0284, 0.0285, 0.0286, 0.0287, 0.0288, 0.028900000000000002, 0.029, 0.0291, 0.0292, 0.0293, 0.029400000000000003, 0.029500000000000002, 0.0296, 0.0297, 0.0298, 0.0299], \"y\": [2325433430.992429, 2248459144.8302097, 2178448552.660766, 2114649431.529389, 2056404822.6218534, 2003139101.3463035, 1954346324.5197291, 1909580447.224011, 1868447080.6900394, 1830596525.0484378, 1795717860.5395823, 1763533920.5587409, 1733797001.8494716, 1706285192.8965502, 1680799222.389928, 1657159746.5348125, 1635205007.755405, 1614788808.5998898, 1595778753.8911016, 1578054721.7692237, 1561507530.5490794, 1546037773.5123048, 1531554798.072151, 1517975809.34545, 1505225081.171176, 1493233260.1324167, 1481936750.2531426, 1471277167.8221104, 1461200857.299891, 1451658460.5377812, 1442604532.6171968, 1433997198.5364406, 1425797845.7544346, 1417970848.2695317, 1410483318.4837608, 1403304883.593659, 1396407483.6706254, 1389765188.9568648, 1383354034.2162101, 1377151868.2497668, 1371138216.9205332, 1365294158.2342126, 1359602208.1997256, 1354046216.3461916, 1348611269.9066303, 1343283605.794982, 1338050529.6046283, 1332900340.9454086, 1327822264.5137968, 1322806386.3590326, 1317843594.8676634, 1312925526.0414326, 1308044512.689498, 1303193537.1965337, 1298366187.5639844, 1293556616.4532082, 1288759502.9870484, 1283970017.090921, 1279183786.1761963, 1274396863.9878893, 1269605701.4556842, 1264807119.4024386, 1259998282.9777226, 1255176677.6958854, 1250340086.9687693, 1245486571.0326562, 1240614447.1775067, 1235722271.194103, 1230808819.961495, 1225873075.103222, 1220914207.6462607, 1215931563.6215599, 1210924650.5494719, 1205893124.757417, 1200836779.4807436, 1195755533.7010674, 1190649421.6793804, 1185518583.1439703, 1180363254.0957065, 1175183758.1955564, 1169980498.7013202, 1164753950.9225173, 1159504655.1641805, 1154233210.1319764, 1148940266.772623, 1143626522.5250409, 1138292715.9589887, 1132939621.7792377, 1127568046.1744854, 1122178822.4913347, 1116772807.214707, 1111350876.2370327, 1105913921.3994925, 1100462847.2894542, 1094998568.279087, 1089522005.7908947, 1084034085.7766845, 1078535736.3971617, 1073027885.8900234, 1067511460.6150613, 1061987383.2653829, 1056456571.234426, 1050919935.1290108, 1045378377.4191663, 1039832791.2159843, 1034284059.1692097, 1028733052.4767389, 1023180629.9986094, 1017627637.4684856, 1012074906.7960206, 1006523255.4538527, 1000973485.9433367, 995426385.3334491, 989882724.8676261, 984343259.6335871, 978808728.2914956, 973279852.8560656, 967757338.5284991, 962241873.5743738, 956734129.2438399, 951234759.7306987, 945744402.1671641, 940263676.6512818, 934793186.304194, 929333517.3545998, 923885239.2479441, 918448904.7780123, 913025050.2387786, 907614195.5944839, 902216844.6660607, 896833485.3321527, 891464589.7430955, 886110614.5463333, 880772001.1218624, 875449175.8263946, 870142550.2450129, 864852521.4492042, 859579472.2602222, 854323771.5168151, 849085774.346436, 843865822.4391121, 838664244.3232228, 833481355.6424966, 828317459.4335878, 823172846.4036621, 818047795.2074543, 812942572.7233198, 807857434.327841, 802792624.1685966, 797748375.4347266, 792724910.6249802, 787722441.8129518, 782741170.9092509, 777781289.9203715, 772842981.2040671, 767926417.7210455, 763031763.2828336, 758159172.7956786, 753308792.5003716, 748480760.2078977, 743675205.5308368, 738892250.1104491, 734132007.8393974, 729394585.0800718, 724680080.8784943, 719988587.1737818, 715320189.00318, 710674964.702659, 706052986.1030931, 701454318.7220504, 696879021.9512062, 692327149.2394371, 687798748.2716129, 683293861.1431508, 678812524.530368, 674354769.8566957, 669920623.4548029, 665510106.7246991, 661123236.2878678, 656760024.1375065, 652420477.7849292, 648104600.402209, 643812390.9611213, 639543844.3684655, 635298951.5978297, 631077699.8178772, 626880072.5172198, 622706049.6259537, 618555607.6339318, 614428719.7058387, 610325355.7931465, 606245482.7430199, 602189064.4042392, 598156061.730214, 594146432.8791604, 590160133.3115007, 586197115.8845624, 582257330.9446406, 578340726.4164882, 574447247.8902981, 570576838.7062463, 566729440.0366518, 562904990.9658206, 559103428.5676286, 555324687.9809084, 551568702.4826939, 547835403.5593803, 544124720.9758573, 540436582.8426644, 536770915.6812308, 533127644.4872404, 529506692.7921825, 525907982.7231317, 522331435.06080806, 518776969.2959641, 515244503.684144, 511733955.2988609, 508245240.083236, 504778272.90014017, 501332967.5808827, 497909236.9724858, 494506992.98358274, 491126146.6289815, 487766608.07292855, 484428286.67111003, 481111091.0114252, 477814928.95356685, 474539707.6674424, 471285333.67046577, 468051712.86375713, 464838750.5672742, 461646351.5539093, 458474420.08258235, 455322859.9303516, 452191574.42357767, 449080466.46816176, 445989438.5788854, 442918392.90787756, 439867231.2722334, 436835855.180807, 433824165.8602026, 430832064.27998656, 427859451.1771406, 424906227.07977825, 421972292.33014566, 419057547.1069245, 416161891.446859, 413285225.2657235, 410427448.3786507, 407588460.5198364, 404768161.36163974, 401966450.53309315, 399183227.6378428, 396418392.2715291, 393671844.0386271, 390943482.56876135, 388233207.5325074, 385540918.65669405, 382866515.73922426, 380209898.663421, 377570967.41191846, 374949622.08010364, 372345762.88912696, 369759290.1984891, 367190104.51821816, 364638106.52064705, 362103197.0518022, 359585277.1424143, 357084248.0185605, 354600011.1119509, 352132468.06986254, 349681520.76473933, 347247071.30345905, 344829022.03628033, 342427275.5654771, 340041734.75366974, 337672302.7318609, 335318882.90718216, 332981378.97036135, 330659694.9029181, 328353734.9840936, 326063403.79752177, 323788606.23765, 321529247.5159155, 319285233.1666836, 317056469.0529538, 314842861.37184256, 312644316.6598444, 310460741.79788166, 308292044.0161456, 306138130.89873564, 303998910.3881024, 301874290.7892988, 299764180.7740456, 297668489.3846156, 295587126.0375409, 293520000.52715015, 291467023.0289373, 289428104.1027693]}, {\"marker\": {\"color\": \"#d62728\", \"line\": {\"color\": \"DarkSlateGrey\", \"width\": 2}, \"size\": 12}, \"name\": \"Old Measurement\", \"type\": \"scatter\", \"x\": [0.011940187884731468], \"y\": [799999999.9792953]}],\n",
       "                        {\"annotations\": [{\"arrowhead\": 0, \"ax\": 0, \"ay\": 0, \"font\": {\"color\": \"#d62728\"}, \"showarrow\": false, \"text\": \"(0.0119, 0.8x10<sup>9</sup>)\", \"x\": 0.009627044174443685, \"xref\": \"x\", \"y\": 770000000.0, \"yref\": \"y\"}], \"showlegend\": false, \"template\": {\"data\": {\"bar\": [{\"error_x\": {\"color\": \"#2a3f5f\"}, \"error_y\": {\"color\": \"#2a3f5f\"}, \"marker\": {\"line\": {\"color\": \"white\", \"width\": 0.5}}, \"type\": \"bar\"}], \"barpolar\": [{\"marker\": {\"line\": {\"color\": \"white\", \"width\": 0.5}}, \"type\": \"barpolar\"}], \"carpet\": [{\"aaxis\": {\"endlinecolor\": \"#2a3f5f\", \"gridcolor\": \"#C8D4E3\", \"linecolor\": \"#C8D4E3\", \"minorgridcolor\": \"#C8D4E3\", \"startlinecolor\": \"#2a3f5f\"}, \"baxis\": {\"endlinecolor\": \"#2a3f5f\", \"gridcolor\": \"#C8D4E3\", \"linecolor\": \"#C8D4E3\", \"minorgridcolor\": \"#C8D4E3\", \"startlinecolor\": \"#2a3f5f\"}, \"type\": \"carpet\"}], \"choropleth\": [{\"colorbar\": {\"outlinewidth\": 0, \"ticks\": \"\"}, \"type\": \"choropleth\"}], \"contour\": [{\"colorbar\": {\"outlinewidth\": 0, \"ticks\": \"\"}, \"colorscale\": [[0.0, \"#0d0887\"], [0.1111111111111111, \"#46039f\"], [0.2222222222222222, \"#7201a8\"], [0.3333333333333333, \"#9c179e\"], [0.4444444444444444, \"#bd3786\"], [0.5555555555555556, \"#d8576b\"], [0.6666666666666666, \"#ed7953\"], [0.7777777777777778, \"#fb9f3a\"], [0.8888888888888888, \"#fdca26\"], [1.0, \"#f0f921\"]], \"type\": \"contour\"}], \"contourcarpet\": [{\"colorbar\": {\"outlinewidth\": 0, \"ticks\": \"\"}, \"type\": \"contourcarpet\"}], \"heatmap\": [{\"colorbar\": {\"outlinewidth\": 0, \"ticks\": \"\"}, \"colorscale\": [[0.0, \"#0d0887\"], [0.1111111111111111, \"#46039f\"], [0.2222222222222222, \"#7201a8\"], [0.3333333333333333, \"#9c179e\"], [0.4444444444444444, \"#bd3786\"], [0.5555555555555556, \"#d8576b\"], [0.6666666666666666, \"#ed7953\"], [0.7777777777777778, \"#fb9f3a\"], [0.8888888888888888, \"#fdca26\"], [1.0, \"#f0f921\"]], \"type\": \"heatmap\"}], \"heatmapgl\": [{\"colorbar\": {\"outlinewidth\": 0, \"ticks\": \"\"}, \"colorscale\": [[0.0, \"#0d0887\"], [0.1111111111111111, \"#46039f\"], [0.2222222222222222, \"#7201a8\"], [0.3333333333333333, \"#9c179e\"], [0.4444444444444444, \"#bd3786\"], [0.5555555555555556, \"#d8576b\"], [0.6666666666666666, \"#ed7953\"], [0.7777777777777778, \"#fb9f3a\"], [0.8888888888888888, \"#fdca26\"], [1.0, \"#f0f921\"]], \"type\": \"heatmapgl\"}], \"histogram\": [{\"marker\": {\"colorbar\": {\"outlinewidth\": 0, \"ticks\": \"\"}}, \"type\": \"histogram\"}], \"histogram2d\": [{\"colorbar\": {\"outlinewidth\": 0, \"ticks\": \"\"}, \"colorscale\": [[0.0, \"#0d0887\"], [0.1111111111111111, \"#46039f\"], [0.2222222222222222, \"#7201a8\"], [0.3333333333333333, \"#9c179e\"], [0.4444444444444444, \"#bd3786\"], [0.5555555555555556, \"#d8576b\"], [0.6666666666666666, \"#ed7953\"], [0.7777777777777778, \"#fb9f3a\"], [0.8888888888888888, \"#fdca26\"], [1.0, \"#f0f921\"]], \"type\": \"histogram2d\"}], \"histogram2dcontour\": [{\"colorbar\": {\"outlinewidth\": 0, \"ticks\": \"\"}, \"colorscale\": [[0.0, \"#0d0887\"], [0.1111111111111111, \"#46039f\"], [0.2222222222222222, \"#7201a8\"], [0.3333333333333333, \"#9c179e\"], [0.4444444444444444, \"#bd3786\"], [0.5555555555555556, \"#d8576b\"], [0.6666666666666666, \"#ed7953\"], [0.7777777777777778, \"#fb9f3a\"], [0.8888888888888888, \"#fdca26\"], [1.0, \"#f0f921\"]], \"type\": \"histogram2dcontour\"}], \"mesh3d\": [{\"colorbar\": {\"outlinewidth\": 0, \"ticks\": \"\"}, \"type\": \"mesh3d\"}], \"parcoords\": [{\"line\": {\"colorbar\": {\"outlinewidth\": 0, \"ticks\": \"\"}}, \"type\": \"parcoords\"}], \"scatter\": [{\"marker\": {\"colorbar\": {\"outlinewidth\": 0, \"ticks\": \"\"}}, \"type\": \"scatter\"}], \"scatter3d\": [{\"line\": {\"colorbar\": {\"outlinewidth\": 0, \"ticks\": \"\"}}, \"marker\": {\"colorbar\": {\"outlinewidth\": 0, \"ticks\": \"\"}}, \"type\": \"scatter3d\"}], \"scattercarpet\": [{\"marker\": {\"colorbar\": {\"outlinewidth\": 0, \"ticks\": \"\"}}, \"type\": \"scattercarpet\"}], \"scattergeo\": [{\"marker\": {\"colorbar\": {\"outlinewidth\": 0, \"ticks\": \"\"}}, \"type\": \"scattergeo\"}], \"scattergl\": [{\"marker\": {\"colorbar\": {\"outlinewidth\": 0, \"ticks\": \"\"}}, \"type\": \"scattergl\"}], \"scattermapbox\": [{\"marker\": {\"colorbar\": {\"outlinewidth\": 0, \"ticks\": \"\"}}, \"type\": \"scattermapbox\"}], \"scatterpolar\": [{\"marker\": {\"colorbar\": {\"outlinewidth\": 0, \"ticks\": \"\"}}, \"type\": \"scatterpolar\"}], \"scatterpolargl\": [{\"marker\": {\"colorbar\": {\"outlinewidth\": 0, \"ticks\": \"\"}}, \"type\": \"scatterpolargl\"}], \"scatterternary\": [{\"marker\": {\"colorbar\": {\"outlinewidth\": 0, \"ticks\": \"\"}}, \"type\": \"scatterternary\"}], \"surface\": [{\"colorbar\": {\"outlinewidth\": 0, \"ticks\": \"\"}, \"colorscale\": [[0.0, \"#0d0887\"], [0.1111111111111111, \"#46039f\"], [0.2222222222222222, \"#7201a8\"], [0.3333333333333333, \"#9c179e\"], [0.4444444444444444, \"#bd3786\"], [0.5555555555555556, \"#d8576b\"], [0.6666666666666666, \"#ed7953\"], [0.7777777777777778, \"#fb9f3a\"], [0.8888888888888888, \"#fdca26\"], [1.0, \"#f0f921\"]], \"type\": \"surface\"}], \"table\": [{\"cells\": {\"fill\": {\"color\": \"#EBF0F8\"}, \"line\": {\"color\": \"white\"}}, \"header\": {\"fill\": {\"color\": \"#C8D4E3\"}, \"line\": {\"color\": \"white\"}}, \"type\": \"table\"}]}, \"layout\": {\"annotationdefaults\": {\"arrowcolor\": \"#2a3f5f\", \"arrowhead\": 0, \"arrowwidth\": 1}, \"colorscale\": {\"diverging\": [[0, \"#8e0152\"], [0.1, \"#c51b7d\"], [0.2, \"#de77ae\"], [0.3, \"#f1b6da\"], [0.4, \"#fde0ef\"], [0.5, \"#f7f7f7\"], [0.6, \"#e6f5d0\"], [0.7, \"#b8e186\"], [0.8, \"#7fbc41\"], [0.9, \"#4d9221\"], [1, \"#276419\"]], \"sequential\": [[0.0, \"#0d0887\"], [0.1111111111111111, \"#46039f\"], [0.2222222222222222, \"#7201a8\"], [0.3333333333333333, \"#9c179e\"], [0.4444444444444444, \"#bd3786\"], [0.5555555555555556, \"#d8576b\"], [0.6666666666666666, \"#ed7953\"], [0.7777777777777778, \"#fb9f3a\"], [0.8888888888888888, \"#fdca26\"], [1.0, \"#f0f921\"]], \"sequentialminus\": [[0.0, \"#0d0887\"], [0.1111111111111111, \"#46039f\"], [0.2222222222222222, \"#7201a8\"], [0.3333333333333333, \"#9c179e\"], [0.4444444444444444, \"#bd3786\"], [0.5555555555555556, \"#d8576b\"], [0.6666666666666666, \"#ed7953\"], [0.7777777777777778, \"#fb9f3a\"], [0.8888888888888888, \"#fdca26\"], [1.0, \"#f0f921\"]]}, \"colorway\": [\"#636efa\", \"#EF553B\", \"#00cc96\", \"#ab63fa\", \"#FFA15A\", \"#19d3f3\", \"#FF6692\", \"#B6E880\", \"#FF97FF\", \"#FECB52\"], \"font\": {\"color\": \"#2a3f5f\"}, \"geo\": {\"bgcolor\": \"white\", \"lakecolor\": \"white\", \"landcolor\": \"white\", \"showlakes\": true, \"showland\": true, \"subunitcolor\": \"#C8D4E3\"}, \"hoverlabel\": {\"align\": \"left\"}, \"hovermode\": \"closest\", \"mapbox\": {\"style\": \"light\"}, \"paper_bgcolor\": \"white\", \"plot_bgcolor\": \"white\", \"polar\": {\"angularaxis\": {\"gridcolor\": \"#EBF0F8\", \"linecolor\": \"#EBF0F8\", \"ticks\": \"\"}, \"bgcolor\": \"white\", \"radialaxis\": {\"gridcolor\": \"#EBF0F8\", \"linecolor\": \"#EBF0F8\", \"ticks\": \"\"}}, \"scene\": {\"xaxis\": {\"backgroundcolor\": \"white\", \"gridcolor\": \"#DFE8F3\", \"gridwidth\": 2, \"linecolor\": \"#EBF0F8\", \"showbackground\": true, \"ticks\": \"\", \"zerolinecolor\": \"#EBF0F8\"}, \"yaxis\": {\"backgroundcolor\": \"white\", \"gridcolor\": \"#DFE8F3\", \"gridwidth\": 2, \"linecolor\": \"#EBF0F8\", \"showbackground\": true, \"ticks\": \"\", \"zerolinecolor\": \"#EBF0F8\"}, \"zaxis\": {\"backgroundcolor\": \"white\", \"gridcolor\": \"#DFE8F3\", \"gridwidth\": 2, \"linecolor\": \"#EBF0F8\", \"showbackground\": true, \"ticks\": \"\", \"zerolinecolor\": \"#EBF0F8\"}}, \"shapedefaults\": {\"line\": {\"color\": \"#2a3f5f\"}}, \"ternary\": {\"aaxis\": {\"gridcolor\": \"#DFE8F3\", \"linecolor\": \"#A2B1C6\", \"ticks\": \"\"}, \"baxis\": {\"gridcolor\": \"#DFE8F3\", \"linecolor\": \"#A2B1C6\", \"ticks\": \"\"}, \"bgcolor\": \"white\", \"caxis\": {\"gridcolor\": \"#DFE8F3\", \"linecolor\": \"#A2B1C6\", \"ticks\": \"\"}}, \"title\": {\"x\": 0.05}, \"xaxis\": {\"automargin\": true, \"gridcolor\": \"#EBF0F8\", \"linecolor\": \"#EBF0F8\", \"ticks\": \"\", \"zerolinecolor\": \"#EBF0F8\", \"zerolinewidth\": 2}, \"yaxis\": {\"automargin\": true, \"gridcolor\": \"#EBF0F8\", \"linecolor\": \"#EBF0F8\", \"ticks\": \"\", \"zerolinecolor\": \"#EBF0F8\", \"zerolinewidth\": 2}}}, \"title\": {\"text\": \"Growth Rate Dependent Cell Concentration\"}, \"xaxis\": {\"title\": {\"text\": \"Growth Rate (min<sup>-1</sup>)\"}}, \"yaxis\": {\"exponentformat\": \"power\", \"title\": {\"text\": \"Cell Concentration (mL<sup>-1</sup> &#183; OD<sup>-1</sup>)\"}}},\n",
       "                        {\"responsive\": true}\n",
       "                    ).then(function(){\n",
       "                            \n",
       "var gd = document.getElementById('c263f02d-4f00-434c-9d8b-28bf83f00e88');\n",
       "var x = new MutationObserver(function (mutations, observer) {{\n",
       "        var display = window.getComputedStyle(gd).display;\n",
       "        if (!display || display === 'none') {{\n",
       "            console.log([gd, 'removed!']);\n",
       "            Plotly.purge(gd);\n",
       "            observer.disconnect();\n",
       "        }}\n",
       "}});\n",
       "\n",
       "// Listen for the removal of the full notebook cells\n",
       "var notebookContainer = gd.closest('#notebook-container');\n",
       "if (notebookContainer) {{\n",
       "    x.observe(notebookContainer, {childList: true});\n",
       "}}\n",
       "\n",
       "// Listen for the clearing of the current output cell\n",
       "var outputEl = gd.closest('.output');\n",
       "if (outputEl) {{\n",
       "    x.observe(outputEl, {childList: true});\n",
       "}}\n",
       "\n",
       "                        })\n",
       "                };\n",
       "                });\n",
       "            </script>\n",
       "        </div>"
      ]
     },
     "metadata": {},
     "output_type": "display_data"
    }
   ],
   "source": [
    "dt_min = np.arange(0.0001, 0.03, 0.0001)\n",
    "results = []\n",
    "for i in dt_min:\n",
    "    results.append(popCellCount(i, age_array, weights)) \n",
    "    \n",
    "upper_bound = go.Scatter(\n",
    "    name='Upper Bound',\n",
    "    x=dt_min,\n",
    "    y=[i['cell_concentration']+i['std_cell_concentration'] for i in results],\n",
    "    mode='lines',\n",
    "    marker=dict(color=\"#444\"),\n",
    "    line=dict(width=0),\n",
    "    fillcolor='rgba(68, 68, 68, 0.3)',\n",
    "    fill='tonexty')\n",
    "\n",
    "trace = go.Scatter(\n",
    "    name='Measurement',\n",
    "    x=dt_min,\n",
    "    y=[i['cell_concentration'] for i in results],\n",
    "    mode='lines',\n",
    "    line=dict(color='rgb(31, 119, 180)'),\n",
    "    fillcolor='rgba(68, 68, 68, 0.3)',\n",
    "    fill='tonexty')\n",
    "\n",
    "'''\n",
    "trace1 = go.Scatter(\n",
    "    name='Old Measurement',\n",
    "    x=dt_min,\n",
    "    y=[8.0*10.0**8.0]*len(dt_min),\n",
    "    mode='lines',\n",
    "    line=dict(color='rgb(242, 174, 15)'))\n",
    "'''\n",
    "\n",
    "trace1 = go.Scatter(\n",
    "    name='Old Measurement',\n",
    "    x=[np.log(2)/58.0516142],\n",
    "    y=[popCellCount(np.log(2)/58.0516142, age_array, weights)['cell_concentration']],\n",
    "    marker=dict(size=12, \n",
    "                color='#d62728',\n",
    "                line=dict(width=2,\n",
    "                    color='DarkSlateGrey'\n",
    "                    )\n",
    "                )\n",
    "    )\n",
    "\n",
    "lower_bound = go.Scatter(\n",
    "    name='Lower Bound',\n",
    "    x=dt_min,\n",
    "    y=[i['cell_concentration']-i['std_cell_concentration'] for i in results],\n",
    "    marker=dict(color=\"#444\"),\n",
    "    line=dict(width=0),\n",
    "    mode='lines')\n",
    "\n",
    "# Trace order can be important\n",
    "# with continuous error bars\n",
    "data = [lower_bound, trace, upper_bound, trace1]\n",
    "\n",
    "layout = go.Layout(\n",
    "    xaxis=dict(title='Growth Rate (min<sup>-1</sup>)'),\n",
    "    yaxis=dict(title='Cell Concentration (mL<sup>-1</sup> &#183; OD<sup>-1</sup>)', exponentformat = 'power'),\n",
    "    title='Growth Rate Dependent Cell Concentration',\n",
    "    showlegend = False,\n",
    "    template='plotly_white'\n",
    ")\n",
    "\n",
    "fig = go.Figure(data=data, layout=layout)\n",
    "\n",
    "\"\"\"\n",
    "fig.update_layout(\n",
    "    shapes=[\n",
    "        # Line Vertical\n",
    "        go.layout.Shape(\n",
    "            type=\"line\",\n",
    "            x0=58.0516142,\n",
    "            y0=1.314709*10**8.0,\n",
    "            x1=58.0516142,\n",
    "            y1=popCellCount(58.0516142, age_array, weights)['cell_concentration'],\n",
    "            line=dict(\n",
    "                color=\"#d62728\",\n",
    "                width=2,\n",
    "                dash=\"dashdot\",\n",
    "            )\n",
    "        ),\n",
    "        # Line Horizontal\n",
    "        go.layout.Shape(\n",
    "            type=\"line\",\n",
    "            x0=18,\n",
    "            y0=popCellCount(58.0516142, age_array, weights)['cell_concentration'],\n",
    "            x1=58.0516142,\n",
    "            y1=popCellCount(58.0516142, age_array, weights)['cell_concentration'],\n",
    "            line=dict(\n",
    "                color=\"#d62728\",\n",
    "                width=2,\n",
    "                dash=\"dashdot\",\n",
    "            ),\n",
    "        ),\n",
    "    ],\n",
    "    \"\"\"\n",
    "fig.update_layout(\n",
    "    annotations=[\n",
    "        go.layout.Annotation(\n",
    "            x=np.log(2)/72,\n",
    "            y=0.77*10**9.0,\n",
    "            xref=\"x\",\n",
    "            yref=\"y\",\n",
    "            text=\"({0:.4f}, 0.8x10<sup>9</sup>)\".format(np.log(2)/58.05),\n",
    "            showarrow=False,\n",
    "            arrowhead=0,\n",
    "            ax=0,\n",
    "            ay=0,\n",
    "            font=dict(\n",
    "                color=\"#d62728\"\n",
    "            )\n",
    "        )\n",
    "    ]\n",
    ")\n",
    "\n",
    "\n",
    "\n",
    "iplot(fig, filename='pandas-continuous-error-bars')"
   ]
  },
  {
   "cell_type": "code",
   "execution_count": 74,
   "metadata": {},
   "outputs": [],
   "source": [
    "plotly.io.write_image(fig,'gr_min_cell_conc_alt.png' , width=1200, height=800)"
   ]
  },
  {
   "cell_type": "code",
   "execution_count": 6,
   "metadata": {},
   "outputs": [],
   "source": [
    "###########################################################################################\n",
    "######### Optimise to estimate the GR when the authors measured 8.0*10**8 cells per mL ####\n",
    "###########################################################################################"
   ]
  },
  {
   "cell_type": "code",
   "execution_count": 71,
   "metadata": {},
   "outputs": [],
   "source": [
    "def ageDistFunc(a):\n",
    " return 2.0*np.log(2.0)*np.exp(-a*np.log(2))"
   ]
  },
  {
   "cell_type": "code",
   "execution_count": 72,
   "metadata": {},
   "outputs": [],
   "source": [
    "age_array = np.arange(0.0, 1.0, 0.001)\n",
    "weights = {}\n",
    "for i in age_array:\n",
    "    weights[i] = integrate.quad(ageDistFunc, i, i+0.001)[0]"
   ]
  },
  {
   "cell_type": "code",
   "execution_count": 73,
   "metadata": {},
   "outputs": [],
   "source": [
    "from scipy import optimize\n",
    "def f(x):\n",
    "    if x<=0.0:\n",
    "        return 9999.0\n",
    "    else:\n",
    "        res = popCellCount(x, age_array, weights)\n",
    "        return np.abs((8.0*10.0**8.0)-(res['cell_concentration']))"
   ]
  },
  {
   "cell_type": "code",
   "execution_count": 12,
   "metadata": {},
   "outputs": [],
   "source": [
    "result = optimize.minimize(f, np.array([60.0]), method = 'Nelder-Mead')"
   ]
  },
  {
   "cell_type": "code",
   "execution_count": 13,
   "metadata": {},
   "outputs": [
    {
     "data": {
      "text/plain": [
       " final_simplex: (array([[58.0516142],\n",
       "       [58.0516142]]), array([0.00015819, 0.00025356]))\n",
       "           fun: 0.00015819072723388672\n",
       "       message: 'Optimization terminated successfully.'\n",
       "          nfev: 76\n",
       "           nit: 38\n",
       "        status: 0\n",
       "       success: True\n",
       "             x: array([58.0516142])"
      ]
     },
     "execution_count": 13,
     "metadata": {},
     "output_type": "execute_result"
    }
   ],
   "source": [
    "result"
   ]
  },
  {
   "cell_type": "code",
   "execution_count": null,
   "metadata": {},
   "outputs": [],
   "source": [
    "###########################################################\n",
    "############ DNA growth rate distribution #################\n",
    "###########################################################"
   ]
  },
  {
   "cell_type": "code",
   "execution_count": 74,
   "metadata": {},
   "outputs": [],
   "source": [
    "def ageDistFunc(a):\n",
    " return 2.0*np.log(2.0)*np.exp(-a*np.log(2))"
   ]
  },
  {
   "cell_type": "code",
   "execution_count": 75,
   "metadata": {},
   "outputs": [],
   "source": [
    "age_array = np.arange(0.0, 1.0, 0.0001)\n",
    "weights = {}\n",
    "for i in age_array:\n",
    "    weights[i] = integrate.quad(ageDistFunc, i, i+0.0001)[0]"
   ]
  },
  {
   "cell_type": "code",
   "execution_count": 7,
   "metadata": {},
   "outputs": [],
   "source": [
    "def popCellCount(dt_min, age_array, weights, real_cell_volume=2.5873453927627095):\n",
    "    ##### dt_min ####\n",
    "    dt_min = dt_min\n",
    "    gr_min = np.log(2)/dt_min\n",
    "    dt_h = dt_min/60.0\n",
    "    gr_h = np.log(2)/dt_h\n",
    "    ##### gr_min #####\n",
    "    #dt_min = np.log(2.0)/gr_min\n",
    "    #gr_min = gr_min\n",
    "    #dt_h = dt_min/60.0\n",
    "    #gr_h = np.log(2)/dt_h   \n",
    "    D = 62.8298142*np.exp(-213.585678*gr_min)+25.5633968\n",
    "    C = 235.796165*np.exp(-428.916673*gr_min)+45.2188479\n",
    "    #### calculate the physical volume ###\n",
    "    physical_volume = []\n",
    "    Ga = []\n",
    "    for i in age_array:\n",
    "        results = (ctypes.c_double*6)()\n",
    "        status = simulator.cell_parameters(ctypes.c_double(dt_min), ctypes.c_double(C), ctypes.c_double(D), ctypes.c_double(i), results)\n",
    "        results = [i for i in results]\n",
    "        for y in range(int(weights[i]*100000.0)):\n",
    "            physical_volume.append(results[0]*real_cell_volume)\n",
    "            Ga.append(results[2])\n",
    "    return {'cell_concentration': (3.6*10.0**9.0)/np.mean(physical_volume),\n",
    "            'std_cell_concentration': np.std([(3.6*10.0**9.0)/i for i in physical_volume]),\n",
    "            'mean_physical_volume': np.mean(physical_volume),\n",
    "            'std_physical_volume': np.std(physical_volume),\n",
    "            #'physical_volume': physical_volume,\n",
    "            'mean_Ga': np.mean(Ga),\n",
    "            'std_Ga': np.std(Ga)}\n",
    "            #'Ga': Ga}"
   ]
  },
  {
   "cell_type": "code",
   "execution_count": 17,
   "metadata": {},
   "outputs": [
    {
     "data": {
      "application/vnd.plotly.v1+json": {
       "config": {
        "linkText": "Export to plot.ly",
        "plotlyServerURL": "https://plot.ly",
        "showLink": false
       },
       "data": [
        {
         "line": {
          "width": 0
         },
         "marker": {
          "color": "#444"
         },
         "mode": "lines",
         "name": "Lower Bound",
         "type": "scatter",
         "x": [
          18,
          19,
          20,
          21,
          22,
          23,
          24,
          25,
          26,
          27,
          28,
          29,
          30,
          31,
          32,
          33,
          34,
          35,
          36,
          37,
          38,
          39,
          40,
          41,
          42,
          43,
          44,
          45,
          46,
          47,
          48,
          49,
          50,
          51,
          52,
          53,
          54,
          55,
          56,
          57,
          58,
          59,
          60,
          61,
          62,
          63,
          64,
          65,
          66,
          67,
          68,
          69,
          70,
          71,
          72,
          73,
          74,
          75,
          76,
          77,
          78,
          79,
          80,
          81,
          82,
          83,
          84,
          85,
          86,
          87,
          88,
          89,
          90,
          91,
          92,
          93,
          94,
          95,
          96,
          97,
          98,
          99,
          100,
          101,
          102,
          103,
          104,
          105,
          106,
          107,
          108,
          109,
          110,
          111,
          112,
          113,
          114,
          115,
          116,
          117,
          118,
          119,
          120,
          121,
          122,
          123,
          124,
          125,
          126,
          127,
          128,
          129,
          130,
          131,
          132,
          133,
          134,
          135,
          136,
          137,
          138,
          139,
          140,
          141,
          142,
          143,
          144,
          145,
          146,
          147,
          148,
          149,
          150,
          151,
          152,
          153,
          154,
          155,
          156,
          157,
          158,
          159,
          160,
          161,
          162,
          163,
          164,
          165,
          166,
          167,
          168,
          169,
          170,
          171,
          172,
          173,
          174,
          175,
          176,
          177,
          178,
          179,
          180,
          181,
          182,
          183,
          184,
          185,
          186,
          187,
          188,
          189,
          190,
          191,
          192,
          193,
          194,
          195,
          196,
          197,
          198,
          199,
          200,
          201,
          202,
          203,
          204,
          205,
          206,
          207,
          208,
          209,
          210,
          211,
          212,
          213,
          214,
          215,
          216,
          217,
          218,
          219,
          220,
          221,
          222,
          223,
          224,
          225,
          226,
          227,
          228,
          229,
          230,
          231,
          232,
          233,
          234,
          235,
          236,
          237,
          238,
          239,
          240,
          241,
          242,
          243,
          244,
          245,
          246,
          247,
          248,
          249
         ],
         "y": [
          5.724900496715599,
          5.0480049158318,
          4.611139306705019,
          4.295371966791397,
          4.022440614552144,
          3.736337690041446,
          3.4208125645858267,
          3.1733172694931664,
          2.9931783401349694,
          2.8573994185454987,
          2.751412737263286,
          2.6658603775135212,
          2.5931473320530474,
          2.5272316262503844,
          2.4628271028714526,
          2.395888250410863,
          2.3235187910418276,
          2.244429581711353,
          2.1589569873555656,
          2.0796531876999427,
          2.013211077219226,
          1.9568077323387856,
          1.9085551549706998,
          1.8671450961955567,
          1.8311863133349684,
          1.7998567825266063,
          1.7725183411444911,
          1.7484341495397246,
          1.727009325715942,
          1.7078836984261543,
          1.6907611387371775,
          1.6753667351528774,
          1.6613369267911264,
          1.6484549794575596,
          1.6365588081333782,
          1.6255039937673466,
          1.6151619539259445,
          1.6054184468111419,
          1.5961549742200876,
          1.587226664221783,
          1.5785590127965112,
          1.5700927679277734,
          1.5617747685970724,
          1.5535597245992283,
          1.5454098989331035,
          1.5372946493486286,
          1.5291899243036537,
          1.5210777493488927,
          1.5129456553482423,
          1.5047841175691223,
          1.4965781745219893,
          1.4883272713100828,
          1.4800356778765893,
          1.4717098221826552,
          1.4633578178365951,
          1.4549890211665892,
          1.4466136346467744,
          1.4382423453014128,
          1.429886020227102,
          1.4215554466559706,
          1.4132611197568348,
          1.4050130740412645,
          1.3968207565665605,
          1.3886929361274305,
          1.3806376425654494,
          1.3726621335212958,
          1.3647728831338553,
          1.3569755873776286,
          1.3492751838025907,
          1.3416758813437675,
          1.3341811974659854,
          1.3267940007922188,
          1.3195165562247737,
          1.3123505929716528,
          1.3052974076909931,
          1.2983574615175948,
          1.291552594483131,
          1.2849903875707762,
          1.2786727008923195,
          1.2725856320098239,
          1.2667162953236233,
          1.2610527313196087,
          1.2555838246208861,
          1.2502992484763875,
          1.245189355745269,
          1.2402451433443074,
          1.2354582238153926,
          1.230820710737736,
          1.2263252362199109,
          1.2219648872443032,
          1.2177331763144552,
          1.2136240089063333,
          1.2096316473414395,
          1.2057506872545405,
          1.2019760626370202,
          1.1983029557614917,
          1.1947268060258338,
          1.1912433425577342,
          1.1878485203612215,
          1.1845385325159459,
          1.1813097694437749,
          1.1781588099116078,
          1.1750824358270469,
          1.1720759275877435,
          1.1691349994344358,
          1.166257065809995,
          1.1634396390261137,
          1.16068038121242,
          1.1579770652837749,
          1.1553275537164138,
          1.152729838293755,
          1.1501819858136995,
          1.1476821766082523,
          1.1452286545625623,
          1.1428197687074066,
          1.1404539196249197,
          1.1381296068297415,
          1.1358453847728578,
          1.1335998701644754,
          1.1313917542867205,
          1.129219787646381,
          1.1270827669764674,
          1.124979535753613,
          1.122909016279406,
          1.1208701507371321,
          1.1188619405505702,
          1.1168834329937614,
          1.1149336982419042,
          1.1130118670227038,
          1.1111171019131045,
          1.1092485968090973,
          1.1074055799841456,
          1.1055873021040492,
          1.103793076197412,
          1.1020222071598393,
          1.10027404758263,
          1.0985479740664132,
          1.0968433855101485,
          1.0951597110456628,
          1.093496398084924,
          1.0918529142400695,
          1.0902287479421617,
          1.0886234145238705,
          1.0870364457694324,
          1.0854673900479037,
          1.0839158117606396,
          1.082381288147538,
          1.080863422312111,
          1.0793618314453406,
          1.077876139002673,
          1.0764059843426033,
          1.0749510322509022,
          1.0735109481346563,
          1.0720854093037346,
          1.0706741080731004,
          1.0692767523482494,
          1.0678930576096537,
          1.066522740348986,
          1.0651655359648926,
          1.0638211992298594,
          1.0624894681858827,
          1.061170115466386,
          1.0598629079154183,
          1.0585676182061656,
          1.057284033668731,
          1.0560119513287687,
          1.0547511704949697,
          1.0535011955992388,
          1.0522612825432762,
          1.051031248299318,
          1.0498109241673406,
          1.0486001479039258,
          1.0473987619186353,
          1.0462066304157713,
          1.04502359088295,
          1.0438495116909978,
          1.0426842521915807,
          1.0415276822530684,
          1.0403796662971054,
          1.0392400952393714,
          1.038108834668121,
          1.0369857670244762,
          1.0358707825307425,
          1.0347637764188913,
          1.0336646336214919,
          1.0325732515365151,
          1.0314895288799777,
          1.030413366774606,
          1.0293446693930943,
          1.0282833432569918,
          1.0272293048608816,
          1.0261824599571963,
          1.025142721067908,
          1.0241100032570059,
          1.0230842348201044,
          1.0220653315929709,
          1.0210532083257176,
          1.0200478089079361,
          1.0190490391497065,
          1.0180568462089195,
          1.0170711408624689,
          1.0160918789897828,
          1.0151189723953138,
          1.0141523679696476,
          1.013192003436436,
          1.0122378094203228,
          1.0112897284002464,
          1.0103477089286996,
          1.0094116871949201,
          1.008481606597487,
          1.0075574129330958,
          1.0066390521885973,
          1.0057264721706374,
          1.0048196216161713,
          1.003918450159274,
          1.0030229082991269,
          1.0021329473691325,
          1.0012485195071223,
          1.0003695776266124,
          0.9994960762121726,
          0.9986279769058652,
          0.9977652317870185,
          0.9969077933191793,
          0.9960556194689654,
          0.9952086816565302,
          0.9943669250516409,
          0.9935303117770622,
          0.9926988138022388,
          0.9918723760767418,
          0.9910509772004801,
          0.990234564945975,
          0.9894231164948706
         ]
        },
        {
         "fill": "tonexty",
         "fillcolor": "rgba(68, 68, 68, 0.3)",
         "line": {
          "color": "rgb(31, 119, 180)"
         },
         "mode": "lines",
         "name": "Measurement",
         "type": "scatter",
         "x": [
          18,
          19,
          20,
          21,
          22,
          23,
          24,
          25,
          26,
          27,
          28,
          29,
          30,
          31,
          32,
          33,
          34,
          35,
          36,
          37,
          38,
          39,
          40,
          41,
          42,
          43,
          44,
          45,
          46,
          47,
          48,
          49,
          50,
          51,
          52,
          53,
          54,
          55,
          56,
          57,
          58,
          59,
          60,
          61,
          62,
          63,
          64,
          65,
          66,
          67,
          68,
          69,
          70,
          71,
          72,
          73,
          74,
          75,
          76,
          77,
          78,
          79,
          80,
          81,
          82,
          83,
          84,
          85,
          86,
          87,
          88,
          89,
          90,
          91,
          92,
          93,
          94,
          95,
          96,
          97,
          98,
          99,
          100,
          101,
          102,
          103,
          104,
          105,
          106,
          107,
          108,
          109,
          110,
          111,
          112,
          113,
          114,
          115,
          116,
          117,
          118,
          119,
          120,
          121,
          122,
          123,
          124,
          125,
          126,
          127,
          128,
          129,
          130,
          131,
          132,
          133,
          134,
          135,
          136,
          137,
          138,
          139,
          140,
          141,
          142,
          143,
          144,
          145,
          146,
          147,
          148,
          149,
          150,
          151,
          152,
          153,
          154,
          155,
          156,
          157,
          158,
          159,
          160,
          161,
          162,
          163,
          164,
          165,
          166,
          167,
          168,
          169,
          170,
          171,
          172,
          173,
          174,
          175,
          176,
          177,
          178,
          179,
          180,
          181,
          182,
          183,
          184,
          185,
          186,
          187,
          188,
          189,
          190,
          191,
          192,
          193,
          194,
          195,
          196,
          197,
          198,
          199,
          200,
          201,
          202,
          203,
          204,
          205,
          206,
          207,
          208,
          209,
          210,
          211,
          212,
          213,
          214,
          215,
          216,
          217,
          218,
          219,
          220,
          221,
          222,
          223,
          224,
          225,
          226,
          227,
          228,
          229,
          230,
          231,
          232,
          233,
          234,
          235,
          236,
          237,
          238,
          239,
          240,
          241,
          242,
          243,
          244,
          245,
          246,
          247,
          248,
          249
         ],
         "y": [
          7.22296858690322,
          6.471890400154628,
          5.867707719051948,
          5.373237903049644,
          4.962081301033895,
          4.61575068250131,
          4.320894147087093,
          4.068094550990524,
          3.849582895283305,
          3.6592275775922936,
          3.4920497479934456,
          3.3443908479414164,
          3.2131375366073702,
          3.0958071361363992,
          2.990316449416834,
          2.8952990480718617,
          2.808905409735056,
          2.7302948498888027,
          2.6587284451976956,
          2.5931998862963144,
          2.5331887043788783,
          2.47799903293483,
          2.42712220289572,
          2.3801774549300068,
          2.3366515195983166,
          2.2962549289819942,
          2.2587517885898203,
          2.2238061867784453,
          2.1911397644653636,
          2.1605904047628486,
          2.132009343302126,
          2.1052470249569755,
          2.080068907781177,
          2.0563443571837507,
          2.0339779415143804,
          2.012881426168073,
          1.9929731175043994,
          1.9741772841274872,
          1.9564044889564267,
          1.9395269193581826,
          1.9234863755532114,
          1.9082357495883482,
          1.893728606051227,
          1.8799214530204185,
          1.8667736693181542,
          1.854247301075433,
          1.8423068427889195,
          1.8309190735110992,
          1.8200528608450612,
          1.809673987033673,
          1.7997252468295046,
          1.7901788087902164,
          1.7810136675670714,
          1.7722100652080226,
          1.7637494098442557,
          1.7556141883230858,
          1.7477879157102485,
          1.7402550404132031,
          1.7330008986460466,
          1.726011655944591,
          1.7192742566681,
          1.7127763678561998,
          1.706506336637292,
          1.700453156410755,
          1.6946064165701735,
          1.6889562645605,
          1.6834933887201806,
          1.6782089675912537,
          1.6730946557006376,
          1.668142541429498,
          1.6633451392439667,
          1.6586953437482892,
          1.6541864249412552,
          1.6498113261118135,
          1.6455572504548939,
          1.6414172295546383,
          1.6373870181805594,
          1.6334649516046933,
          1.629646818849124,
          1.6259282040537044,
          1.6223049052995302,
          1.6187729183179602,
          1.6153284364782015,
          1.6119678372085657,
          1.6086876722959105,
          1.6054846492681756,
          1.6023556460977606,
          1.59929767496047,
          1.5963078965921138,
          1.5933836000308463,
          1.590522201002537,
          1.5877212377387715,
          1.584978361877871,
          1.5822913257643827,
          1.5796579998092701,
          1.5770763695068697,
          1.574544841118787,
          1.572061637032124,
          1.569624960638325,
          1.56723310830959,
          1.5648844404726163,
          1.5625773961225984,
          1.5603104888314514,
          1.5580816117933771,
          1.5558888357033305,
          1.5537309163131545,
          1.55160665246336,
          1.549514898693367,
          1.5474545640525035,
          1.5454245916884894,
          1.5434239782523922,
          1.5414517548524995,
          1.5395070053843753,
          1.5375888323587854,
          1.5356963964898531,
          1.5338288749255369,
          1.5319854890551117,
          1.5301654886322917,
          1.5283681497376438,
          1.526592785339937,
          1.5248387362433662,
          1.5231053629086344,
          1.5213920487311898,
          1.5196982153814476,
          1.5180232960218163,
          1.5163667484348888,
          1.5147280543576773,
          1.5131067100323872,
          1.5115022384575902,
          1.5099141767977462,
          1.5083420831449155,
          1.5067855316665768,
          1.5052441026920784,
          1.5037174154527126,
          1.5022050780618206,
          1.500706731211471,
          1.4992220223787847,
          1.497750609196076,
          1.496292170195191,
          1.49484639142647,
          1.4934129697540688,
          1.4919916109237052,
          1.4905820376170495,
          1.4891839822387305,
          1.4877971838357906,
          1.4864213877641252,
          1.4850563549037485,
          1.4837018492384024,
          1.4823576503281615,
          1.4810235400356768,
          1.479699306196732,
          1.4783847497379143,
          1.4770796769099572,
          1.4757838980958031,
          1.474497231954544,
          1.4732195053545791,
          1.4719505470525367,
          1.4706901931162841,
          1.4694382872223657,
          1.4681946793506166,
          1.4669592158565887,
          1.4657317616404884,
          1.4645121747153802,
          1.4633003214942077,
          1.4620960760580126,
          1.4608993107205313,
          1.4597099085939744,
          1.4585276117759691,
          1.4573520457811246,
          1.4561830997535978,
          1.455020670430849,
          1.4538646584351949,
          1.4527149674022883,
          1.4515715120660606,
          1.4504341953125508,
          1.4493029305337202,
          1.4481776353728584,
          1.447058231067409,
          1.4459446278553651,
          1.4448367641344941,
          1.4437345518924782,
          1.4426379253573502,
          1.4415468082291754,
          1.4404611407164727,
          1.439380852436899,
          1.4383058763532788,
          1.43723615066301,
          1.4361716155829676,
          1.4351122114042305,
          1.434057880037868,
          1.4330085686891227,
          1.431964219833114,
          1.430924779655058,
          1.429890195998829,
          1.4288604235532367,
          1.427835406607594,
          1.4268150977584189,
          1.4257994606257371,
          1.4247884363980612,
          1.4237819905606777,
          1.422780073925012,
          1.4217826491685683,
          1.4207896725689644,
          1.4198011022227308,
          1.418816905116751,
          1.417837038065712,
          1.4168614614369093,
          1.4158901472332,
          1.414923056136549,
          1.4139601509536686,
          1.4130013977897724,
          1.4120467652983018,
          1.4110962209280629,
          1.4101497328300379,
          1.409207269834089,
          1.4082688014264548,
          1.4073342977279961,
          1.4064037294731777,
          1.4054770679897524,
          1.404554283428038,
          1.4036353514034712,
          1.402720245258475,
          1.401808936863998,
          1.400901396946746,
          1.3999976074602547,
          1.3990975402055297,
          1.3982011645119605,
          1.3973084687808803,
          1.3964194163927612,
          1.3955339959376947,
          1.3946521730012265,
          1.3937739382558372
         ]
        },
        {
         "fill": "tonexty",
         "fillcolor": "rgba(68, 68, 68, 0.3)",
         "line": {
          "width": 0
         },
         "marker": {
          "color": "#444"
         },
         "mode": "lines",
         "name": "Upper Bound",
         "type": "scatter",
         "x": [
          18,
          19,
          20,
          21,
          22,
          23,
          24,
          25,
          26,
          27,
          28,
          29,
          30,
          31,
          32,
          33,
          34,
          35,
          36,
          37,
          38,
          39,
          40,
          41,
          42,
          43,
          44,
          45,
          46,
          47,
          48,
          49,
          50,
          51,
          52,
          53,
          54,
          55,
          56,
          57,
          58,
          59,
          60,
          61,
          62,
          63,
          64,
          65,
          66,
          67,
          68,
          69,
          70,
          71,
          72,
          73,
          74,
          75,
          76,
          77,
          78,
          79,
          80,
          81,
          82,
          83,
          84,
          85,
          86,
          87,
          88,
          89,
          90,
          91,
          92,
          93,
          94,
          95,
          96,
          97,
          98,
          99,
          100,
          101,
          102,
          103,
          104,
          105,
          106,
          107,
          108,
          109,
          110,
          111,
          112,
          113,
          114,
          115,
          116,
          117,
          118,
          119,
          120,
          121,
          122,
          123,
          124,
          125,
          126,
          127,
          128,
          129,
          130,
          131,
          132,
          133,
          134,
          135,
          136,
          137,
          138,
          139,
          140,
          141,
          142,
          143,
          144,
          145,
          146,
          147,
          148,
          149,
          150,
          151,
          152,
          153,
          154,
          155,
          156,
          157,
          158,
          159,
          160,
          161,
          162,
          163,
          164,
          165,
          166,
          167,
          168,
          169,
          170,
          171,
          172,
          173,
          174,
          175,
          176,
          177,
          178,
          179,
          180,
          181,
          182,
          183,
          184,
          185,
          186,
          187,
          188,
          189,
          190,
          191,
          192,
          193,
          194,
          195,
          196,
          197,
          198,
          199,
          200,
          201,
          202,
          203,
          204,
          205,
          206,
          207,
          208,
          209,
          210,
          211,
          212,
          213,
          214,
          215,
          216,
          217,
          218,
          219,
          220,
          221,
          222,
          223,
          224,
          225,
          226,
          227,
          228,
          229,
          230,
          231,
          232,
          233,
          234,
          235,
          236,
          237,
          238,
          239,
          240,
          241,
          242,
          243,
          244,
          245,
          246,
          247,
          248,
          249
         ],
         "y": [
          8.721036677090842,
          7.895775884477455,
          7.124276131398877,
          6.451103839307891,
          5.901721987515646,
          5.495163674961174,
          5.220975729588359,
          4.962871832487881,
          4.705987450431641,
          4.461055736639088,
          4.232686758723605,
          4.0229213183693115,
          3.833127741161693,
          3.664382646022414,
          3.5178057959622153,
          3.3947098457328604,
          3.294292028428284,
          3.2161601180662522,
          3.1584999030398255,
          3.106746584892686,
          3.0531663315385305,
          2.9991903335308745,
          2.94568925082074,
          2.893209813664457,
          2.842116725861665,
          2.792653075437382,
          2.7449852360351494,
          2.699178224017166,
          2.6552702032147852,
          2.6132971110995427,
          2.5732575478670743,
          2.5351273147610733,
          2.498800888771228,
          2.464233734909942,
          2.4313970748953824,
          2.400258858568799,
          2.3707842810828543,
          2.3429361214438327,
          2.316654003692766,
          2.2918271744945824,
          2.2684137383099117,
          2.2463787312489227,
          2.2256824435053817,
          2.206283181441609,
          2.188137439703205,
          2.1711999528022377,
          2.1554237612741853,
          2.1407603976733056,
          2.12716006634188,
          2.114563856498224,
          2.10287231913702,
          2.09203034627035,
          2.081991657257553,
          2.0727103082333898,
          2.064141001851916,
          2.0562393554795824,
          2.0489621967737226,
          2.042267735524993,
          2.036115777064991,
          2.0304678652332115,
          2.025287393579365,
          2.020539661671135,
          2.0161919167080233,
          2.0122133766940795,
          2.0085751905748976,
          2.0052503955997043,
          2.002213894306506,
          1.9994423478048788,
          1.9969141275986846,
          1.9946092015152284,
          1.992509081021948,
          1.9905966867043596,
          1.9888562936577368,
          1.9872720592519741,
          1.9858170932187946,
          1.9844769975916818,
          1.9832214418779879,
          1.9819395156386104,
          1.9806209368059284,
          1.979270776097585,
          1.977893515275437,
          1.9764931053163117,
          1.9750730483355168,
          1.973636425940744,
          1.972185988846552,
          1.9707241551920438,
          1.9692530683801286,
          1.9677746391832038,
          1.9662905569643168,
          1.9648023128173895,
          1.9633112256906189,
          1.9618184665712097,
          1.9603250764143025,
          1.958831964274225,
          1.95733993698152,
          1.9558497832522477,
          1.9543628762117402,
          1.952879931506514,
          1.9514014009154286,
          1.9499276841032342,
          1.9484591115014578,
          1.946995982333589,
          1.945538541835856,
          1.9440872959990108,
          1.9426426719722252,
          1.941204766816314,
          1.9397736659006064,
          1.9383494161743138,
          1.936932062821232,
          1.935521629660565,
          1.9341181182110294,
          1.9327215238912996,
          1.9313318341604984,
          1.9299490101550085,
          1.9285730242722996,
          1.927203830226154,
          1.9258413712804818,
          1.9244855924917257,
          1.9231364293108122,
          1.9217938163931536,
          1.9204576848403514,
          1.9191279588408015,
          1.9178045617087667,
          1.9164874144834891,
          1.9151764413065004,
          1.9138715563192075,
          1.9125726757215933,
          1.91127972182287,
          1.9099926098924767,
          1.9087112516823879,
          1.9074355694807337,
          1.906165483349008,
          1.9049009032801076,
          1.9036417547080133,
          1.9023879489638018,
          1.901139414840312,
          1.899896070691156,
          1.8986578328820034,
          1.8974246293447192,
          1.896196384768016,
          1.894973025268068,
          1.8937544739052488,
          1.8925406607102286,
          1.8913315187080286,
          1.8901269776236775,
          1.888926963767611,
          1.887731421659959,
          1.8865402761646939,
          1.8853534692109823,
          1.8841709410686807,
          1.8829926280508609,
          1.8818184672249265,
          1.8806484056852582,
          1.8794823868878716,
          1.8783203558359876,
          1.8771622583609089,
          1.8760080364954197,
          1.8748576458835822,
          1.8737110384798388,
          1.872568159471374,
          1.8714289635272947,
          1.8702934078145907,
          1.8691614415153421,
          1.8680330247822499,
          1.8669081184472942,
          1.8657866701122938,
          1.8646686466929792,
          1.8635540279526994,
          1.862442809018973,
          1.8613349512078776,
          1.8602304166943575,
          1.859129168966464,
          1.8580311728859413,
          1.8569363937163499,
          1.8558447997421517,
          1.8547563493764425,
          1.853671018554136,
          1.8525887798817495,
          1.8515095894136249,
          1.8504334330296168,
          1.8493602691168354,
          1.8482900836902243,
          1.8472228339276082,
          1.846158505014054,
          1.845097071252306,
          1.8440385011700424,
          1.8429827724460424,
          1.841929864391329,
          1.8408797534153667,
          1.8398324168187443,
          1.8387878325173639,
          1.8377459797090316,
          1.8367068382422078,
          1.8356703887406522,
          1.834636612286369,
          1.8336054816222171,
          1.8325769871911202,
          1.8315511123435382,
          1.830527833646416,
          1.8295071349124359,
          1.8284890069875552,
          1.8274734193473539,
          1.826460372742615,
          1.825449836475814,
          1.824441806797066,
          1.823436266711101,
          1.822433194473572,
          1.8214325855377003,
          1.8204344250781777,
          1.81943869530985,
          1.818445382646449,
          1.8174544784080062,
          1.8164659696854883,
          1.8154798440439044,
          1.814496089508904,
          1.8135146945537828,
          1.8125356480868597,
          1.811558939439233,
          1.8105845583528923,
          1.8096124906439033,
          1.808642725901077,
          1.8076752587299316,
          1.8067100804088168,
          1.8057471744245268,
          1.8047865332639792,
          1.8038281553594184,
          1.8028720172468589,
          1.8019181237595219,
          1.8009664567087806,
          1.8000170146749093,
          1.799069781056478,
          1.7981247600168038
         ]
        }
       ],
       "layout": {
        "showlegend": false,
        "template": {
         "data": {
          "bar": [
           {
            "error_x": {
             "color": "#2a3f5f"
            },
            "error_y": {
             "color": "#2a3f5f"
            },
            "marker": {
             "line": {
              "color": "white",
              "width": 0.5
             }
            },
            "type": "bar"
           }
          ],
          "barpolar": [
           {
            "marker": {
             "line": {
              "color": "white",
              "width": 0.5
             }
            },
            "type": "barpolar"
           }
          ],
          "carpet": [
           {
            "aaxis": {
             "endlinecolor": "#2a3f5f",
             "gridcolor": "#C8D4E3",
             "linecolor": "#C8D4E3",
             "minorgridcolor": "#C8D4E3",
             "startlinecolor": "#2a3f5f"
            },
            "baxis": {
             "endlinecolor": "#2a3f5f",
             "gridcolor": "#C8D4E3",
             "linecolor": "#C8D4E3",
             "minorgridcolor": "#C8D4E3",
             "startlinecolor": "#2a3f5f"
            },
            "type": "carpet"
           }
          ],
          "choropleth": [
           {
            "colorbar": {
             "outlinewidth": 0,
             "ticks": ""
            },
            "type": "choropleth"
           }
          ],
          "contour": [
           {
            "colorbar": {
             "outlinewidth": 0,
             "ticks": ""
            },
            "colorscale": [
             [
              0,
              "#0d0887"
             ],
             [
              0.1111111111111111,
              "#46039f"
             ],
             [
              0.2222222222222222,
              "#7201a8"
             ],
             [
              0.3333333333333333,
              "#9c179e"
             ],
             [
              0.4444444444444444,
              "#bd3786"
             ],
             [
              0.5555555555555556,
              "#d8576b"
             ],
             [
              0.6666666666666666,
              "#ed7953"
             ],
             [
              0.7777777777777778,
              "#fb9f3a"
             ],
             [
              0.8888888888888888,
              "#fdca26"
             ],
             [
              1,
              "#f0f921"
             ]
            ],
            "type": "contour"
           }
          ],
          "contourcarpet": [
           {
            "colorbar": {
             "outlinewidth": 0,
             "ticks": ""
            },
            "type": "contourcarpet"
           }
          ],
          "heatmap": [
           {
            "colorbar": {
             "outlinewidth": 0,
             "ticks": ""
            },
            "colorscale": [
             [
              0,
              "#0d0887"
             ],
             [
              0.1111111111111111,
              "#46039f"
             ],
             [
              0.2222222222222222,
              "#7201a8"
             ],
             [
              0.3333333333333333,
              "#9c179e"
             ],
             [
              0.4444444444444444,
              "#bd3786"
             ],
             [
              0.5555555555555556,
              "#d8576b"
             ],
             [
              0.6666666666666666,
              "#ed7953"
             ],
             [
              0.7777777777777778,
              "#fb9f3a"
             ],
             [
              0.8888888888888888,
              "#fdca26"
             ],
             [
              1,
              "#f0f921"
             ]
            ],
            "type": "heatmap"
           }
          ],
          "heatmapgl": [
           {
            "colorbar": {
             "outlinewidth": 0,
             "ticks": ""
            },
            "colorscale": [
             [
              0,
              "#0d0887"
             ],
             [
              0.1111111111111111,
              "#46039f"
             ],
             [
              0.2222222222222222,
              "#7201a8"
             ],
             [
              0.3333333333333333,
              "#9c179e"
             ],
             [
              0.4444444444444444,
              "#bd3786"
             ],
             [
              0.5555555555555556,
              "#d8576b"
             ],
             [
              0.6666666666666666,
              "#ed7953"
             ],
             [
              0.7777777777777778,
              "#fb9f3a"
             ],
             [
              0.8888888888888888,
              "#fdca26"
             ],
             [
              1,
              "#f0f921"
             ]
            ],
            "type": "heatmapgl"
           }
          ],
          "histogram": [
           {
            "marker": {
             "colorbar": {
              "outlinewidth": 0,
              "ticks": ""
             }
            },
            "type": "histogram"
           }
          ],
          "histogram2d": [
           {
            "colorbar": {
             "outlinewidth": 0,
             "ticks": ""
            },
            "colorscale": [
             [
              0,
              "#0d0887"
             ],
             [
              0.1111111111111111,
              "#46039f"
             ],
             [
              0.2222222222222222,
              "#7201a8"
             ],
             [
              0.3333333333333333,
              "#9c179e"
             ],
             [
              0.4444444444444444,
              "#bd3786"
             ],
             [
              0.5555555555555556,
              "#d8576b"
             ],
             [
              0.6666666666666666,
              "#ed7953"
             ],
             [
              0.7777777777777778,
              "#fb9f3a"
             ],
             [
              0.8888888888888888,
              "#fdca26"
             ],
             [
              1,
              "#f0f921"
             ]
            ],
            "type": "histogram2d"
           }
          ],
          "histogram2dcontour": [
           {
            "colorbar": {
             "outlinewidth": 0,
             "ticks": ""
            },
            "colorscale": [
             [
              0,
              "#0d0887"
             ],
             [
              0.1111111111111111,
              "#46039f"
             ],
             [
              0.2222222222222222,
              "#7201a8"
             ],
             [
              0.3333333333333333,
              "#9c179e"
             ],
             [
              0.4444444444444444,
              "#bd3786"
             ],
             [
              0.5555555555555556,
              "#d8576b"
             ],
             [
              0.6666666666666666,
              "#ed7953"
             ],
             [
              0.7777777777777778,
              "#fb9f3a"
             ],
             [
              0.8888888888888888,
              "#fdca26"
             ],
             [
              1,
              "#f0f921"
             ]
            ],
            "type": "histogram2dcontour"
           }
          ],
          "mesh3d": [
           {
            "colorbar": {
             "outlinewidth": 0,
             "ticks": ""
            },
            "type": "mesh3d"
           }
          ],
          "parcoords": [
           {
            "line": {
             "colorbar": {
              "outlinewidth": 0,
              "ticks": ""
             }
            },
            "type": "parcoords"
           }
          ],
          "scatter": [
           {
            "marker": {
             "colorbar": {
              "outlinewidth": 0,
              "ticks": ""
             }
            },
            "type": "scatter"
           }
          ],
          "scatter3d": [
           {
            "line": {
             "colorbar": {
              "outlinewidth": 0,
              "ticks": ""
             }
            },
            "marker": {
             "colorbar": {
              "outlinewidth": 0,
              "ticks": ""
             }
            },
            "type": "scatter3d"
           }
          ],
          "scattercarpet": [
           {
            "marker": {
             "colorbar": {
              "outlinewidth": 0,
              "ticks": ""
             }
            },
            "type": "scattercarpet"
           }
          ],
          "scattergeo": [
           {
            "marker": {
             "colorbar": {
              "outlinewidth": 0,
              "ticks": ""
             }
            },
            "type": "scattergeo"
           }
          ],
          "scattergl": [
           {
            "marker": {
             "colorbar": {
              "outlinewidth": 0,
              "ticks": ""
             }
            },
            "type": "scattergl"
           }
          ],
          "scattermapbox": [
           {
            "marker": {
             "colorbar": {
              "outlinewidth": 0,
              "ticks": ""
             }
            },
            "type": "scattermapbox"
           }
          ],
          "scatterpolar": [
           {
            "marker": {
             "colorbar": {
              "outlinewidth": 0,
              "ticks": ""
             }
            },
            "type": "scatterpolar"
           }
          ],
          "scatterpolargl": [
           {
            "marker": {
             "colorbar": {
              "outlinewidth": 0,
              "ticks": ""
             }
            },
            "type": "scatterpolargl"
           }
          ],
          "scatterternary": [
           {
            "marker": {
             "colorbar": {
              "outlinewidth": 0,
              "ticks": ""
             }
            },
            "type": "scatterternary"
           }
          ],
          "surface": [
           {
            "colorbar": {
             "outlinewidth": 0,
             "ticks": ""
            },
            "colorscale": [
             [
              0,
              "#0d0887"
             ],
             [
              0.1111111111111111,
              "#46039f"
             ],
             [
              0.2222222222222222,
              "#7201a8"
             ],
             [
              0.3333333333333333,
              "#9c179e"
             ],
             [
              0.4444444444444444,
              "#bd3786"
             ],
             [
              0.5555555555555556,
              "#d8576b"
             ],
             [
              0.6666666666666666,
              "#ed7953"
             ],
             [
              0.7777777777777778,
              "#fb9f3a"
             ],
             [
              0.8888888888888888,
              "#fdca26"
             ],
             [
              1,
              "#f0f921"
             ]
            ],
            "type": "surface"
           }
          ],
          "table": [
           {
            "cells": {
             "fill": {
              "color": "#EBF0F8"
             },
             "line": {
              "color": "white"
             }
            },
            "header": {
             "fill": {
              "color": "#C8D4E3"
             },
             "line": {
              "color": "white"
             }
            },
            "type": "table"
           }
          ]
         },
         "layout": {
          "annotationdefaults": {
           "arrowcolor": "#2a3f5f",
           "arrowhead": 0,
           "arrowwidth": 1
          },
          "colorscale": {
           "diverging": [
            [
             0,
             "#8e0152"
            ],
            [
             0.1,
             "#c51b7d"
            ],
            [
             0.2,
             "#de77ae"
            ],
            [
             0.3,
             "#f1b6da"
            ],
            [
             0.4,
             "#fde0ef"
            ],
            [
             0.5,
             "#f7f7f7"
            ],
            [
             0.6,
             "#e6f5d0"
            ],
            [
             0.7,
             "#b8e186"
            ],
            [
             0.8,
             "#7fbc41"
            ],
            [
             0.9,
             "#4d9221"
            ],
            [
             1,
             "#276419"
            ]
           ],
           "sequential": [
            [
             0,
             "#0d0887"
            ],
            [
             0.1111111111111111,
             "#46039f"
            ],
            [
             0.2222222222222222,
             "#7201a8"
            ],
            [
             0.3333333333333333,
             "#9c179e"
            ],
            [
             0.4444444444444444,
             "#bd3786"
            ],
            [
             0.5555555555555556,
             "#d8576b"
            ],
            [
             0.6666666666666666,
             "#ed7953"
            ],
            [
             0.7777777777777778,
             "#fb9f3a"
            ],
            [
             0.8888888888888888,
             "#fdca26"
            ],
            [
             1,
             "#f0f921"
            ]
           ],
           "sequentialminus": [
            [
             0,
             "#0d0887"
            ],
            [
             0.1111111111111111,
             "#46039f"
            ],
            [
             0.2222222222222222,
             "#7201a8"
            ],
            [
             0.3333333333333333,
             "#9c179e"
            ],
            [
             0.4444444444444444,
             "#bd3786"
            ],
            [
             0.5555555555555556,
             "#d8576b"
            ],
            [
             0.6666666666666666,
             "#ed7953"
            ],
            [
             0.7777777777777778,
             "#fb9f3a"
            ],
            [
             0.8888888888888888,
             "#fdca26"
            ],
            [
             1,
             "#f0f921"
            ]
           ]
          },
          "colorway": [
           "#636efa",
           "#EF553B",
           "#00cc96",
           "#ab63fa",
           "#FFA15A",
           "#19d3f3",
           "#FF6692",
           "#B6E880",
           "#FF97FF",
           "#FECB52"
          ],
          "font": {
           "color": "#2a3f5f"
          },
          "geo": {
           "bgcolor": "white",
           "lakecolor": "white",
           "landcolor": "white",
           "showlakes": true,
           "showland": true,
           "subunitcolor": "#C8D4E3"
          },
          "hoverlabel": {
           "align": "left"
          },
          "hovermode": "closest",
          "mapbox": {
           "style": "light"
          },
          "paper_bgcolor": "white",
          "plot_bgcolor": "white",
          "polar": {
           "angularaxis": {
            "gridcolor": "#EBF0F8",
            "linecolor": "#EBF0F8",
            "ticks": ""
           },
           "bgcolor": "white",
           "radialaxis": {
            "gridcolor": "#EBF0F8",
            "linecolor": "#EBF0F8",
            "ticks": ""
           }
          },
          "scene": {
           "xaxis": {
            "backgroundcolor": "white",
            "gridcolor": "#DFE8F3",
            "gridwidth": 2,
            "linecolor": "#EBF0F8",
            "showbackground": true,
            "ticks": "",
            "zerolinecolor": "#EBF0F8"
           },
           "yaxis": {
            "backgroundcolor": "white",
            "gridcolor": "#DFE8F3",
            "gridwidth": 2,
            "linecolor": "#EBF0F8",
            "showbackground": true,
            "ticks": "",
            "zerolinecolor": "#EBF0F8"
           },
           "zaxis": {
            "backgroundcolor": "white",
            "gridcolor": "#DFE8F3",
            "gridwidth": 2,
            "linecolor": "#EBF0F8",
            "showbackground": true,
            "ticks": "",
            "zerolinecolor": "#EBF0F8"
           }
          },
          "shapedefaults": {
           "line": {
            "color": "#2a3f5f"
           }
          },
          "ternary": {
           "aaxis": {
            "gridcolor": "#DFE8F3",
            "linecolor": "#A2B1C6",
            "ticks": ""
           },
           "baxis": {
            "gridcolor": "#DFE8F3",
            "linecolor": "#A2B1C6",
            "ticks": ""
           },
           "bgcolor": "white",
           "caxis": {
            "gridcolor": "#DFE8F3",
            "linecolor": "#A2B1C6",
            "ticks": ""
           }
          },
          "title": {
           "x": 0.05
          },
          "xaxis": {
           "automargin": true,
           "gridcolor": "#EBF0F8",
           "linecolor": "#EBF0F8",
           "ticks": "",
           "zerolinecolor": "#EBF0F8",
           "zerolinewidth": 2
          },
          "yaxis": {
           "automargin": true,
           "gridcolor": "#EBF0F8",
           "linecolor": "#EBF0F8",
           "ticks": "",
           "zerolinecolor": "#EBF0F8",
           "zerolinewidth": 2
          }
         }
        },
        "title": {
         "text": "Growth Rate Dependent DNA Content"
        },
        "xaxis": {
         "title": {
          "text": "Doubling Time (minutes)"
         }
        },
        "yaxis": {
         "title": {
          "text": "DNA Content (Chromosome Equivalent)"
         }
        }
       }
      },
      "text/html": [
       "<div>\n",
       "        \n",
       "        \n",
       "            <div id=\"bc9fd2e6-cf16-44c0-9f9d-7c9cb988daab\" class=\"plotly-graph-div\" style=\"height:525px; width:100%;\"></div>\n",
       "            <script type=\"text/javascript\">\n",
       "                require([\"plotly\"], function(Plotly) {\n",
       "                    window.PLOTLYENV=window.PLOTLYENV || {};\n",
       "                    \n",
       "                if (document.getElementById(\"bc9fd2e6-cf16-44c0-9f9d-7c9cb988daab\")) {\n",
       "                    Plotly.newPlot(\n",
       "                        'bc9fd2e6-cf16-44c0-9f9d-7c9cb988daab',\n",
       "                        [{\"line\": {\"width\": 0}, \"marker\": {\"color\": \"#444\"}, \"mode\": \"lines\", \"name\": \"Lower Bound\", \"type\": \"scatter\", \"x\": [18.0, 19.0, 20.0, 21.0, 22.0, 23.0, 24.0, 25.0, 26.0, 27.0, 28.0, 29.0, 30.0, 31.0, 32.0, 33.0, 34.0, 35.0, 36.0, 37.0, 38.0, 39.0, 40.0, 41.0, 42.0, 43.0, 44.0, 45.0, 46.0, 47.0, 48.0, 49.0, 50.0, 51.0, 52.0, 53.0, 54.0, 55.0, 56.0, 57.0, 58.0, 59.0, 60.0, 61.0, 62.0, 63.0, 64.0, 65.0, 66.0, 67.0, 68.0, 69.0, 70.0, 71.0, 72.0, 73.0, 74.0, 75.0, 76.0, 77.0, 78.0, 79.0, 80.0, 81.0, 82.0, 83.0, 84.0, 85.0, 86.0, 87.0, 88.0, 89.0, 90.0, 91.0, 92.0, 93.0, 94.0, 95.0, 96.0, 97.0, 98.0, 99.0, 100.0, 101.0, 102.0, 103.0, 104.0, 105.0, 106.0, 107.0, 108.0, 109.0, 110.0, 111.0, 112.0, 113.0, 114.0, 115.0, 116.0, 117.0, 118.0, 119.0, 120.0, 121.0, 122.0, 123.0, 124.0, 125.0, 126.0, 127.0, 128.0, 129.0, 130.0, 131.0, 132.0, 133.0, 134.0, 135.0, 136.0, 137.0, 138.0, 139.0, 140.0, 141.0, 142.0, 143.0, 144.0, 145.0, 146.0, 147.0, 148.0, 149.0, 150.0, 151.0, 152.0, 153.0, 154.0, 155.0, 156.0, 157.0, 158.0, 159.0, 160.0, 161.0, 162.0, 163.0, 164.0, 165.0, 166.0, 167.0, 168.0, 169.0, 170.0, 171.0, 172.0, 173.0, 174.0, 175.0, 176.0, 177.0, 178.0, 179.0, 180.0, 181.0, 182.0, 183.0, 184.0, 185.0, 186.0, 187.0, 188.0, 189.0, 190.0, 191.0, 192.0, 193.0, 194.0, 195.0, 196.0, 197.0, 198.0, 199.0, 200.0, 201.0, 202.0, 203.0, 204.0, 205.0, 206.0, 207.0, 208.0, 209.0, 210.0, 211.0, 212.0, 213.0, 214.0, 215.0, 216.0, 217.0, 218.0, 219.0, 220.0, 221.0, 222.0, 223.0, 224.0, 225.0, 226.0, 227.0, 228.0, 229.0, 230.0, 231.0, 232.0, 233.0, 234.0, 235.0, 236.0, 237.0, 238.0, 239.0, 240.0, 241.0, 242.0, 243.0, 244.0, 245.0, 246.0, 247.0, 248.0, 249.0], \"y\": [5.724900496715599, 5.0480049158318, 4.611139306705019, 4.295371966791397, 4.022440614552144, 3.736337690041446, 3.4208125645858267, 3.1733172694931664, 2.9931783401349694, 2.8573994185454987, 2.751412737263286, 2.6658603775135212, 2.5931473320530474, 2.5272316262503844, 2.4628271028714526, 2.395888250410863, 2.3235187910418276, 2.244429581711353, 2.1589569873555656, 2.0796531876999427, 2.013211077219226, 1.9568077323387856, 1.9085551549706998, 1.8671450961955567, 1.8311863133349684, 1.7998567825266063, 1.7725183411444911, 1.7484341495397246, 1.727009325715942, 1.7078836984261543, 1.6907611387371775, 1.6753667351528774, 1.6613369267911264, 1.6484549794575596, 1.6365588081333782, 1.6255039937673466, 1.6151619539259445, 1.6054184468111419, 1.5961549742200876, 1.587226664221783, 1.5785590127965112, 1.5700927679277734, 1.5617747685970724, 1.5535597245992283, 1.5454098989331035, 1.5372946493486286, 1.5291899243036537, 1.5210777493488927, 1.5129456553482423, 1.5047841175691223, 1.4965781745219893, 1.4883272713100828, 1.4800356778765893, 1.4717098221826552, 1.4633578178365951, 1.4549890211665892, 1.4466136346467744, 1.4382423453014128, 1.429886020227102, 1.4215554466559706, 1.4132611197568348, 1.4050130740412645, 1.3968207565665605, 1.3886929361274305, 1.3806376425654494, 1.3726621335212958, 1.3647728831338553, 1.3569755873776286, 1.3492751838025907, 1.3416758813437675, 1.3341811974659854, 1.3267940007922188, 1.3195165562247737, 1.3123505929716528, 1.3052974076909931, 1.2983574615175948, 1.291552594483131, 1.2849903875707762, 1.2786727008923195, 1.2725856320098239, 1.2667162953236233, 1.2610527313196087, 1.2555838246208861, 1.2502992484763875, 1.245189355745269, 1.2402451433443074, 1.2354582238153926, 1.230820710737736, 1.2263252362199109, 1.2219648872443032, 1.2177331763144552, 1.2136240089063333, 1.2096316473414395, 1.2057506872545405, 1.2019760626370202, 1.1983029557614917, 1.1947268060258338, 1.1912433425577342, 1.1878485203612215, 1.1845385325159459, 1.1813097694437749, 1.1781588099116078, 1.1750824358270469, 1.1720759275877435, 1.1691349994344358, 1.166257065809995, 1.1634396390261137, 1.16068038121242, 1.1579770652837749, 1.1553275537164138, 1.152729838293755, 1.1501819858136995, 1.1476821766082523, 1.1452286545625623, 1.1428197687074066, 1.1404539196249197, 1.1381296068297415, 1.1358453847728578, 1.1335998701644754, 1.1313917542867205, 1.129219787646381, 1.1270827669764674, 1.124979535753613, 1.122909016279406, 1.1208701507371321, 1.1188619405505702, 1.1168834329937614, 1.1149336982419042, 1.1130118670227038, 1.1111171019131045, 1.1092485968090973, 1.1074055799841456, 1.1055873021040492, 1.103793076197412, 1.1020222071598393, 1.10027404758263, 1.0985479740664132, 1.0968433855101485, 1.0951597110456628, 1.093496398084924, 1.0918529142400695, 1.0902287479421617, 1.0886234145238705, 1.0870364457694324, 1.0854673900479037, 1.0839158117606396, 1.082381288147538, 1.080863422312111, 1.0793618314453406, 1.077876139002673, 1.0764059843426033, 1.0749510322509022, 1.0735109481346563, 1.0720854093037346, 1.0706741080731004, 1.0692767523482494, 1.0678930576096537, 1.066522740348986, 1.0651655359648926, 1.0638211992298594, 1.0624894681858827, 1.061170115466386, 1.0598629079154183, 1.0585676182061656, 1.057284033668731, 1.0560119513287687, 1.0547511704949697, 1.0535011955992388, 1.0522612825432762, 1.051031248299318, 1.0498109241673406, 1.0486001479039258, 1.0473987619186353, 1.0462066304157713, 1.04502359088295, 1.0438495116909978, 1.0426842521915807, 1.0415276822530684, 1.0403796662971054, 1.0392400952393714, 1.038108834668121, 1.0369857670244762, 1.0358707825307425, 1.0347637764188913, 1.0336646336214919, 1.0325732515365151, 1.0314895288799777, 1.030413366774606, 1.0293446693930943, 1.0282833432569918, 1.0272293048608816, 1.0261824599571963, 1.025142721067908, 1.0241100032570059, 1.0230842348201044, 1.0220653315929709, 1.0210532083257176, 1.0200478089079361, 1.0190490391497065, 1.0180568462089195, 1.0170711408624689, 1.0160918789897828, 1.0151189723953138, 1.0141523679696476, 1.013192003436436, 1.0122378094203228, 1.0112897284002464, 1.0103477089286996, 1.0094116871949201, 1.008481606597487, 1.0075574129330958, 1.0066390521885973, 1.0057264721706374, 1.0048196216161713, 1.003918450159274, 1.0030229082991269, 1.0021329473691325, 1.0012485195071223, 1.0003695776266124, 0.9994960762121726, 0.9986279769058652, 0.9977652317870185, 0.9969077933191793, 0.9960556194689654, 0.9952086816565302, 0.9943669250516409, 0.9935303117770622, 0.9926988138022388, 0.9918723760767418, 0.9910509772004801, 0.990234564945975, 0.9894231164948706]}, {\"fill\": \"tonexty\", \"fillcolor\": \"rgba(68, 68, 68, 0.3)\", \"line\": {\"color\": \"rgb(31, 119, 180)\"}, \"mode\": \"lines\", \"name\": \"Measurement\", \"type\": \"scatter\", \"x\": [18.0, 19.0, 20.0, 21.0, 22.0, 23.0, 24.0, 25.0, 26.0, 27.0, 28.0, 29.0, 30.0, 31.0, 32.0, 33.0, 34.0, 35.0, 36.0, 37.0, 38.0, 39.0, 40.0, 41.0, 42.0, 43.0, 44.0, 45.0, 46.0, 47.0, 48.0, 49.0, 50.0, 51.0, 52.0, 53.0, 54.0, 55.0, 56.0, 57.0, 58.0, 59.0, 60.0, 61.0, 62.0, 63.0, 64.0, 65.0, 66.0, 67.0, 68.0, 69.0, 70.0, 71.0, 72.0, 73.0, 74.0, 75.0, 76.0, 77.0, 78.0, 79.0, 80.0, 81.0, 82.0, 83.0, 84.0, 85.0, 86.0, 87.0, 88.0, 89.0, 90.0, 91.0, 92.0, 93.0, 94.0, 95.0, 96.0, 97.0, 98.0, 99.0, 100.0, 101.0, 102.0, 103.0, 104.0, 105.0, 106.0, 107.0, 108.0, 109.0, 110.0, 111.0, 112.0, 113.0, 114.0, 115.0, 116.0, 117.0, 118.0, 119.0, 120.0, 121.0, 122.0, 123.0, 124.0, 125.0, 126.0, 127.0, 128.0, 129.0, 130.0, 131.0, 132.0, 133.0, 134.0, 135.0, 136.0, 137.0, 138.0, 139.0, 140.0, 141.0, 142.0, 143.0, 144.0, 145.0, 146.0, 147.0, 148.0, 149.0, 150.0, 151.0, 152.0, 153.0, 154.0, 155.0, 156.0, 157.0, 158.0, 159.0, 160.0, 161.0, 162.0, 163.0, 164.0, 165.0, 166.0, 167.0, 168.0, 169.0, 170.0, 171.0, 172.0, 173.0, 174.0, 175.0, 176.0, 177.0, 178.0, 179.0, 180.0, 181.0, 182.0, 183.0, 184.0, 185.0, 186.0, 187.0, 188.0, 189.0, 190.0, 191.0, 192.0, 193.0, 194.0, 195.0, 196.0, 197.0, 198.0, 199.0, 200.0, 201.0, 202.0, 203.0, 204.0, 205.0, 206.0, 207.0, 208.0, 209.0, 210.0, 211.0, 212.0, 213.0, 214.0, 215.0, 216.0, 217.0, 218.0, 219.0, 220.0, 221.0, 222.0, 223.0, 224.0, 225.0, 226.0, 227.0, 228.0, 229.0, 230.0, 231.0, 232.0, 233.0, 234.0, 235.0, 236.0, 237.0, 238.0, 239.0, 240.0, 241.0, 242.0, 243.0, 244.0, 245.0, 246.0, 247.0, 248.0, 249.0], \"y\": [7.22296858690322, 6.471890400154628, 5.867707719051948, 5.373237903049644, 4.962081301033895, 4.61575068250131, 4.320894147087093, 4.068094550990524, 3.849582895283305, 3.6592275775922936, 3.4920497479934456, 3.3443908479414164, 3.2131375366073702, 3.0958071361363992, 2.990316449416834, 2.8952990480718617, 2.808905409735056, 2.7302948498888027, 2.6587284451976956, 2.5931998862963144, 2.5331887043788783, 2.47799903293483, 2.42712220289572, 2.3801774549300068, 2.3366515195983166, 2.2962549289819942, 2.2587517885898203, 2.2238061867784453, 2.1911397644653636, 2.1605904047628486, 2.132009343302126, 2.1052470249569755, 2.080068907781177, 2.0563443571837507, 2.0339779415143804, 2.012881426168073, 1.9929731175043994, 1.9741772841274872, 1.9564044889564267, 1.9395269193581826, 1.9234863755532114, 1.9082357495883482, 1.893728606051227, 1.8799214530204185, 1.8667736693181542, 1.854247301075433, 1.8423068427889195, 1.8309190735110992, 1.8200528608450612, 1.809673987033673, 1.7997252468295046, 1.7901788087902164, 1.7810136675670714, 1.7722100652080226, 1.7637494098442557, 1.7556141883230858, 1.7477879157102485, 1.7402550404132031, 1.7330008986460466, 1.726011655944591, 1.7192742566681, 1.7127763678561998, 1.706506336637292, 1.700453156410755, 1.6946064165701735, 1.6889562645605, 1.6834933887201806, 1.6782089675912537, 1.6730946557006376, 1.668142541429498, 1.6633451392439667, 1.6586953437482892, 1.6541864249412552, 1.6498113261118135, 1.6455572504548939, 1.6414172295546383, 1.6373870181805594, 1.6334649516046933, 1.629646818849124, 1.6259282040537044, 1.6223049052995302, 1.6187729183179602, 1.6153284364782015, 1.6119678372085657, 1.6086876722959105, 1.6054846492681756, 1.6023556460977606, 1.59929767496047, 1.5963078965921138, 1.5933836000308463, 1.590522201002537, 1.5877212377387715, 1.584978361877871, 1.5822913257643827, 1.5796579998092701, 1.5770763695068697, 1.574544841118787, 1.572061637032124, 1.569624960638325, 1.56723310830959, 1.5648844404726163, 1.5625773961225984, 1.5603104888314514, 1.5580816117933771, 1.5558888357033305, 1.5537309163131545, 1.55160665246336, 1.549514898693367, 1.5474545640525035, 1.5454245916884894, 1.5434239782523922, 1.5414517548524995, 1.5395070053843753, 1.5375888323587854, 1.5356963964898531, 1.5338288749255369, 1.5319854890551117, 1.5301654886322917, 1.5283681497376438, 1.526592785339937, 1.5248387362433662, 1.5231053629086344, 1.5213920487311898, 1.5196982153814476, 1.5180232960218163, 1.5163667484348888, 1.5147280543576773, 1.5131067100323872, 1.5115022384575902, 1.5099141767977462, 1.5083420831449155, 1.5067855316665768, 1.5052441026920784, 1.5037174154527126, 1.5022050780618206, 1.500706731211471, 1.4992220223787847, 1.497750609196076, 1.496292170195191, 1.49484639142647, 1.4934129697540688, 1.4919916109237052, 1.4905820376170495, 1.4891839822387305, 1.4877971838357906, 1.4864213877641252, 1.4850563549037485, 1.4837018492384024, 1.4823576503281615, 1.4810235400356768, 1.479699306196732, 1.4783847497379143, 1.4770796769099572, 1.4757838980958031, 1.474497231954544, 1.4732195053545791, 1.4719505470525367, 1.4706901931162841, 1.4694382872223657, 1.4681946793506166, 1.4669592158565887, 1.4657317616404884, 1.4645121747153802, 1.4633003214942077, 1.4620960760580126, 1.4608993107205313, 1.4597099085939744, 1.4585276117759691, 1.4573520457811246, 1.4561830997535978, 1.455020670430849, 1.4538646584351949, 1.4527149674022883, 1.4515715120660606, 1.4504341953125508, 1.4493029305337202, 1.4481776353728584, 1.447058231067409, 1.4459446278553651, 1.4448367641344941, 1.4437345518924782, 1.4426379253573502, 1.4415468082291754, 1.4404611407164727, 1.439380852436899, 1.4383058763532788, 1.43723615066301, 1.4361716155829676, 1.4351122114042305, 1.434057880037868, 1.4330085686891227, 1.431964219833114, 1.430924779655058, 1.429890195998829, 1.4288604235532367, 1.427835406607594, 1.4268150977584189, 1.4257994606257371, 1.4247884363980612, 1.4237819905606777, 1.422780073925012, 1.4217826491685683, 1.4207896725689644, 1.4198011022227308, 1.418816905116751, 1.417837038065712, 1.4168614614369093, 1.4158901472332, 1.414923056136549, 1.4139601509536686, 1.4130013977897724, 1.4120467652983018, 1.4110962209280629, 1.4101497328300379, 1.409207269834089, 1.4082688014264548, 1.4073342977279961, 1.4064037294731777, 1.4054770679897524, 1.404554283428038, 1.4036353514034712, 1.402720245258475, 1.401808936863998, 1.400901396946746, 1.3999976074602547, 1.3990975402055297, 1.3982011645119605, 1.3973084687808803, 1.3964194163927612, 1.3955339959376947, 1.3946521730012265, 1.3937739382558372]}, {\"fill\": \"tonexty\", \"fillcolor\": \"rgba(68, 68, 68, 0.3)\", \"line\": {\"width\": 0}, \"marker\": {\"color\": \"#444\"}, \"mode\": \"lines\", \"name\": \"Upper Bound\", \"type\": \"scatter\", \"x\": [18.0, 19.0, 20.0, 21.0, 22.0, 23.0, 24.0, 25.0, 26.0, 27.0, 28.0, 29.0, 30.0, 31.0, 32.0, 33.0, 34.0, 35.0, 36.0, 37.0, 38.0, 39.0, 40.0, 41.0, 42.0, 43.0, 44.0, 45.0, 46.0, 47.0, 48.0, 49.0, 50.0, 51.0, 52.0, 53.0, 54.0, 55.0, 56.0, 57.0, 58.0, 59.0, 60.0, 61.0, 62.0, 63.0, 64.0, 65.0, 66.0, 67.0, 68.0, 69.0, 70.0, 71.0, 72.0, 73.0, 74.0, 75.0, 76.0, 77.0, 78.0, 79.0, 80.0, 81.0, 82.0, 83.0, 84.0, 85.0, 86.0, 87.0, 88.0, 89.0, 90.0, 91.0, 92.0, 93.0, 94.0, 95.0, 96.0, 97.0, 98.0, 99.0, 100.0, 101.0, 102.0, 103.0, 104.0, 105.0, 106.0, 107.0, 108.0, 109.0, 110.0, 111.0, 112.0, 113.0, 114.0, 115.0, 116.0, 117.0, 118.0, 119.0, 120.0, 121.0, 122.0, 123.0, 124.0, 125.0, 126.0, 127.0, 128.0, 129.0, 130.0, 131.0, 132.0, 133.0, 134.0, 135.0, 136.0, 137.0, 138.0, 139.0, 140.0, 141.0, 142.0, 143.0, 144.0, 145.0, 146.0, 147.0, 148.0, 149.0, 150.0, 151.0, 152.0, 153.0, 154.0, 155.0, 156.0, 157.0, 158.0, 159.0, 160.0, 161.0, 162.0, 163.0, 164.0, 165.0, 166.0, 167.0, 168.0, 169.0, 170.0, 171.0, 172.0, 173.0, 174.0, 175.0, 176.0, 177.0, 178.0, 179.0, 180.0, 181.0, 182.0, 183.0, 184.0, 185.0, 186.0, 187.0, 188.0, 189.0, 190.0, 191.0, 192.0, 193.0, 194.0, 195.0, 196.0, 197.0, 198.0, 199.0, 200.0, 201.0, 202.0, 203.0, 204.0, 205.0, 206.0, 207.0, 208.0, 209.0, 210.0, 211.0, 212.0, 213.0, 214.0, 215.0, 216.0, 217.0, 218.0, 219.0, 220.0, 221.0, 222.0, 223.0, 224.0, 225.0, 226.0, 227.0, 228.0, 229.0, 230.0, 231.0, 232.0, 233.0, 234.0, 235.0, 236.0, 237.0, 238.0, 239.0, 240.0, 241.0, 242.0, 243.0, 244.0, 245.0, 246.0, 247.0, 248.0, 249.0], \"y\": [8.721036677090842, 7.895775884477455, 7.124276131398877, 6.451103839307891, 5.901721987515646, 5.495163674961174, 5.220975729588359, 4.962871832487881, 4.705987450431641, 4.461055736639088, 4.232686758723605, 4.0229213183693115, 3.833127741161693, 3.664382646022414, 3.5178057959622153, 3.3947098457328604, 3.294292028428284, 3.2161601180662522, 3.1584999030398255, 3.106746584892686, 3.0531663315385305, 2.9991903335308745, 2.94568925082074, 2.893209813664457, 2.842116725861665, 2.792653075437382, 2.7449852360351494, 2.699178224017166, 2.6552702032147852, 2.6132971110995427, 2.5732575478670743, 2.5351273147610733, 2.498800888771228, 2.464233734909942, 2.4313970748953824, 2.400258858568799, 2.3707842810828543, 2.3429361214438327, 2.316654003692766, 2.2918271744945824, 2.2684137383099117, 2.2463787312489227, 2.2256824435053817, 2.206283181441609, 2.188137439703205, 2.1711999528022377, 2.1554237612741853, 2.1407603976733056, 2.12716006634188, 2.114563856498224, 2.10287231913702, 2.09203034627035, 2.081991657257553, 2.0727103082333898, 2.064141001851916, 2.0562393554795824, 2.0489621967737226, 2.042267735524993, 2.036115777064991, 2.0304678652332115, 2.025287393579365, 2.020539661671135, 2.0161919167080233, 2.0122133766940795, 2.0085751905748976, 2.0052503955997043, 2.002213894306506, 1.9994423478048788, 1.9969141275986846, 1.9946092015152284, 1.992509081021948, 1.9905966867043596, 1.9888562936577368, 1.9872720592519741, 1.9858170932187946, 1.9844769975916818, 1.9832214418779879, 1.9819395156386104, 1.9806209368059284, 1.979270776097585, 1.977893515275437, 1.9764931053163117, 1.9750730483355168, 1.973636425940744, 1.972185988846552, 1.9707241551920438, 1.9692530683801286, 1.9677746391832038, 1.9662905569643168, 1.9648023128173895, 1.9633112256906189, 1.9618184665712097, 1.9603250764143025, 1.958831964274225, 1.95733993698152, 1.9558497832522477, 1.9543628762117402, 1.952879931506514, 1.9514014009154286, 1.9499276841032342, 1.9484591115014578, 1.946995982333589, 1.945538541835856, 1.9440872959990108, 1.9426426719722252, 1.941204766816314, 1.9397736659006064, 1.9383494161743138, 1.936932062821232, 1.935521629660565, 1.9341181182110294, 1.9327215238912996, 1.9313318341604984, 1.9299490101550085, 1.9285730242722996, 1.927203830226154, 1.9258413712804818, 1.9244855924917257, 1.9231364293108122, 1.9217938163931536, 1.9204576848403514, 1.9191279588408015, 1.9178045617087667, 1.9164874144834891, 1.9151764413065004, 1.9138715563192075, 1.9125726757215933, 1.91127972182287, 1.9099926098924767, 1.9087112516823879, 1.9074355694807337, 1.906165483349008, 1.9049009032801076, 1.9036417547080133, 1.9023879489638018, 1.901139414840312, 1.899896070691156, 1.8986578328820034, 1.8974246293447192, 1.896196384768016, 1.894973025268068, 1.8937544739052488, 1.8925406607102286, 1.8913315187080286, 1.8901269776236775, 1.888926963767611, 1.887731421659959, 1.8865402761646939, 1.8853534692109823, 1.8841709410686807, 1.8829926280508609, 1.8818184672249265, 1.8806484056852582, 1.8794823868878716, 1.8783203558359876, 1.8771622583609089, 1.8760080364954197, 1.8748576458835822, 1.8737110384798388, 1.872568159471374, 1.8714289635272947, 1.8702934078145907, 1.8691614415153421, 1.8680330247822499, 1.8669081184472942, 1.8657866701122938, 1.8646686466929792, 1.8635540279526994, 1.862442809018973, 1.8613349512078776, 1.8602304166943575, 1.859129168966464, 1.8580311728859413, 1.8569363937163499, 1.8558447997421517, 1.8547563493764425, 1.853671018554136, 1.8525887798817495, 1.8515095894136249, 1.8504334330296168, 1.8493602691168354, 1.8482900836902243, 1.8472228339276082, 1.846158505014054, 1.845097071252306, 1.8440385011700424, 1.8429827724460424, 1.841929864391329, 1.8408797534153667, 1.8398324168187443, 1.8387878325173639, 1.8377459797090316, 1.8367068382422078, 1.8356703887406522, 1.834636612286369, 1.8336054816222171, 1.8325769871911202, 1.8315511123435382, 1.830527833646416, 1.8295071349124359, 1.8284890069875552, 1.8274734193473539, 1.826460372742615, 1.825449836475814, 1.824441806797066, 1.823436266711101, 1.822433194473572, 1.8214325855377003, 1.8204344250781777, 1.81943869530985, 1.818445382646449, 1.8174544784080062, 1.8164659696854883, 1.8154798440439044, 1.814496089508904, 1.8135146945537828, 1.8125356480868597, 1.811558939439233, 1.8105845583528923, 1.8096124906439033, 1.808642725901077, 1.8076752587299316, 1.8067100804088168, 1.8057471744245268, 1.8047865332639792, 1.8038281553594184, 1.8028720172468589, 1.8019181237595219, 1.8009664567087806, 1.8000170146749093, 1.799069781056478, 1.7981247600168038]}],\n",
       "                        {\"showlegend\": false, \"template\": {\"data\": {\"bar\": [{\"error_x\": {\"color\": \"#2a3f5f\"}, \"error_y\": {\"color\": \"#2a3f5f\"}, \"marker\": {\"line\": {\"color\": \"white\", \"width\": 0.5}}, \"type\": \"bar\"}], \"barpolar\": [{\"marker\": {\"line\": {\"color\": \"white\", \"width\": 0.5}}, \"type\": \"barpolar\"}], \"carpet\": [{\"aaxis\": {\"endlinecolor\": \"#2a3f5f\", \"gridcolor\": \"#C8D4E3\", \"linecolor\": \"#C8D4E3\", \"minorgridcolor\": \"#C8D4E3\", \"startlinecolor\": \"#2a3f5f\"}, \"baxis\": {\"endlinecolor\": \"#2a3f5f\", \"gridcolor\": \"#C8D4E3\", \"linecolor\": \"#C8D4E3\", \"minorgridcolor\": \"#C8D4E3\", \"startlinecolor\": \"#2a3f5f\"}, \"type\": \"carpet\"}], \"choropleth\": [{\"colorbar\": {\"outlinewidth\": 0, \"ticks\": \"\"}, \"type\": \"choropleth\"}], \"contour\": [{\"colorbar\": {\"outlinewidth\": 0, \"ticks\": \"\"}, \"colorscale\": [[0.0, \"#0d0887\"], [0.1111111111111111, \"#46039f\"], [0.2222222222222222, \"#7201a8\"], [0.3333333333333333, \"#9c179e\"], [0.4444444444444444, \"#bd3786\"], [0.5555555555555556, \"#d8576b\"], [0.6666666666666666, \"#ed7953\"], [0.7777777777777778, \"#fb9f3a\"], [0.8888888888888888, \"#fdca26\"], [1.0, \"#f0f921\"]], \"type\": \"contour\"}], \"contourcarpet\": [{\"colorbar\": {\"outlinewidth\": 0, \"ticks\": \"\"}, \"type\": \"contourcarpet\"}], \"heatmap\": [{\"colorbar\": {\"outlinewidth\": 0, \"ticks\": \"\"}, \"colorscale\": [[0.0, \"#0d0887\"], [0.1111111111111111, \"#46039f\"], [0.2222222222222222, \"#7201a8\"], [0.3333333333333333, \"#9c179e\"], [0.4444444444444444, \"#bd3786\"], [0.5555555555555556, \"#d8576b\"], [0.6666666666666666, \"#ed7953\"], [0.7777777777777778, \"#fb9f3a\"], [0.8888888888888888, \"#fdca26\"], [1.0, \"#f0f921\"]], \"type\": \"heatmap\"}], \"heatmapgl\": [{\"colorbar\": {\"outlinewidth\": 0, \"ticks\": \"\"}, \"colorscale\": [[0.0, \"#0d0887\"], [0.1111111111111111, \"#46039f\"], [0.2222222222222222, \"#7201a8\"], [0.3333333333333333, \"#9c179e\"], [0.4444444444444444, \"#bd3786\"], [0.5555555555555556, \"#d8576b\"], [0.6666666666666666, \"#ed7953\"], [0.7777777777777778, \"#fb9f3a\"], [0.8888888888888888, \"#fdca26\"], [1.0, \"#f0f921\"]], \"type\": \"heatmapgl\"}], \"histogram\": [{\"marker\": {\"colorbar\": {\"outlinewidth\": 0, \"ticks\": \"\"}}, \"type\": \"histogram\"}], \"histogram2d\": [{\"colorbar\": {\"outlinewidth\": 0, \"ticks\": \"\"}, \"colorscale\": [[0.0, \"#0d0887\"], [0.1111111111111111, \"#46039f\"], [0.2222222222222222, \"#7201a8\"], [0.3333333333333333, \"#9c179e\"], [0.4444444444444444, \"#bd3786\"], [0.5555555555555556, \"#d8576b\"], [0.6666666666666666, \"#ed7953\"], [0.7777777777777778, \"#fb9f3a\"], [0.8888888888888888, \"#fdca26\"], [1.0, \"#f0f921\"]], \"type\": \"histogram2d\"}], \"histogram2dcontour\": [{\"colorbar\": {\"outlinewidth\": 0, \"ticks\": \"\"}, \"colorscale\": [[0.0, \"#0d0887\"], [0.1111111111111111, \"#46039f\"], [0.2222222222222222, \"#7201a8\"], [0.3333333333333333, \"#9c179e\"], [0.4444444444444444, \"#bd3786\"], [0.5555555555555556, \"#d8576b\"], [0.6666666666666666, \"#ed7953\"], [0.7777777777777778, \"#fb9f3a\"], [0.8888888888888888, \"#fdca26\"], [1.0, \"#f0f921\"]], \"type\": \"histogram2dcontour\"}], \"mesh3d\": [{\"colorbar\": {\"outlinewidth\": 0, \"ticks\": \"\"}, \"type\": \"mesh3d\"}], \"parcoords\": [{\"line\": {\"colorbar\": {\"outlinewidth\": 0, \"ticks\": \"\"}}, \"type\": \"parcoords\"}], \"scatter\": [{\"marker\": {\"colorbar\": {\"outlinewidth\": 0, \"ticks\": \"\"}}, \"type\": \"scatter\"}], \"scatter3d\": [{\"line\": {\"colorbar\": {\"outlinewidth\": 0, \"ticks\": \"\"}}, \"marker\": {\"colorbar\": {\"outlinewidth\": 0, \"ticks\": \"\"}}, \"type\": \"scatter3d\"}], \"scattercarpet\": [{\"marker\": {\"colorbar\": {\"outlinewidth\": 0, \"ticks\": \"\"}}, \"type\": \"scattercarpet\"}], \"scattergeo\": [{\"marker\": {\"colorbar\": {\"outlinewidth\": 0, \"ticks\": \"\"}}, \"type\": \"scattergeo\"}], \"scattergl\": [{\"marker\": {\"colorbar\": {\"outlinewidth\": 0, \"ticks\": \"\"}}, \"type\": \"scattergl\"}], \"scattermapbox\": [{\"marker\": {\"colorbar\": {\"outlinewidth\": 0, \"ticks\": \"\"}}, \"type\": \"scattermapbox\"}], \"scatterpolar\": [{\"marker\": {\"colorbar\": {\"outlinewidth\": 0, \"ticks\": \"\"}}, \"type\": \"scatterpolar\"}], \"scatterpolargl\": [{\"marker\": {\"colorbar\": {\"outlinewidth\": 0, \"ticks\": \"\"}}, \"type\": \"scatterpolargl\"}], \"scatterternary\": [{\"marker\": {\"colorbar\": {\"outlinewidth\": 0, \"ticks\": \"\"}}, \"type\": \"scatterternary\"}], \"surface\": [{\"colorbar\": {\"outlinewidth\": 0, \"ticks\": \"\"}, \"colorscale\": [[0.0, \"#0d0887\"], [0.1111111111111111, \"#46039f\"], [0.2222222222222222, \"#7201a8\"], [0.3333333333333333, \"#9c179e\"], [0.4444444444444444, \"#bd3786\"], [0.5555555555555556, \"#d8576b\"], [0.6666666666666666, \"#ed7953\"], [0.7777777777777778, \"#fb9f3a\"], [0.8888888888888888, \"#fdca26\"], [1.0, \"#f0f921\"]], \"type\": \"surface\"}], \"table\": [{\"cells\": {\"fill\": {\"color\": \"#EBF0F8\"}, \"line\": {\"color\": \"white\"}}, \"header\": {\"fill\": {\"color\": \"#C8D4E3\"}, \"line\": {\"color\": \"white\"}}, \"type\": \"table\"}]}, \"layout\": {\"annotationdefaults\": {\"arrowcolor\": \"#2a3f5f\", \"arrowhead\": 0, \"arrowwidth\": 1}, \"colorscale\": {\"diverging\": [[0, \"#8e0152\"], [0.1, \"#c51b7d\"], [0.2, \"#de77ae\"], [0.3, \"#f1b6da\"], [0.4, \"#fde0ef\"], [0.5, \"#f7f7f7\"], [0.6, \"#e6f5d0\"], [0.7, \"#b8e186\"], [0.8, \"#7fbc41\"], [0.9, \"#4d9221\"], [1, \"#276419\"]], \"sequential\": [[0.0, \"#0d0887\"], [0.1111111111111111, \"#46039f\"], [0.2222222222222222, \"#7201a8\"], [0.3333333333333333, \"#9c179e\"], [0.4444444444444444, \"#bd3786\"], [0.5555555555555556, \"#d8576b\"], [0.6666666666666666, \"#ed7953\"], [0.7777777777777778, \"#fb9f3a\"], [0.8888888888888888, \"#fdca26\"], [1.0, \"#f0f921\"]], \"sequentialminus\": [[0.0, \"#0d0887\"], [0.1111111111111111, \"#46039f\"], [0.2222222222222222, \"#7201a8\"], [0.3333333333333333, \"#9c179e\"], [0.4444444444444444, \"#bd3786\"], [0.5555555555555556, \"#d8576b\"], [0.6666666666666666, \"#ed7953\"], [0.7777777777777778, \"#fb9f3a\"], [0.8888888888888888, \"#fdca26\"], [1.0, \"#f0f921\"]]}, \"colorway\": [\"#636efa\", \"#EF553B\", \"#00cc96\", \"#ab63fa\", \"#FFA15A\", \"#19d3f3\", \"#FF6692\", \"#B6E880\", \"#FF97FF\", \"#FECB52\"], \"font\": {\"color\": \"#2a3f5f\"}, \"geo\": {\"bgcolor\": \"white\", \"lakecolor\": \"white\", \"landcolor\": \"white\", \"showlakes\": true, \"showland\": true, \"subunitcolor\": \"#C8D4E3\"}, \"hoverlabel\": {\"align\": \"left\"}, \"hovermode\": \"closest\", \"mapbox\": {\"style\": \"light\"}, \"paper_bgcolor\": \"white\", \"plot_bgcolor\": \"white\", \"polar\": {\"angularaxis\": {\"gridcolor\": \"#EBF0F8\", \"linecolor\": \"#EBF0F8\", \"ticks\": \"\"}, \"bgcolor\": \"white\", \"radialaxis\": {\"gridcolor\": \"#EBF0F8\", \"linecolor\": \"#EBF0F8\", \"ticks\": \"\"}}, \"scene\": {\"xaxis\": {\"backgroundcolor\": \"white\", \"gridcolor\": \"#DFE8F3\", \"gridwidth\": 2, \"linecolor\": \"#EBF0F8\", \"showbackground\": true, \"ticks\": \"\", \"zerolinecolor\": \"#EBF0F8\"}, \"yaxis\": {\"backgroundcolor\": \"white\", \"gridcolor\": \"#DFE8F3\", \"gridwidth\": 2, \"linecolor\": \"#EBF0F8\", \"showbackground\": true, \"ticks\": \"\", \"zerolinecolor\": \"#EBF0F8\"}, \"zaxis\": {\"backgroundcolor\": \"white\", \"gridcolor\": \"#DFE8F3\", \"gridwidth\": 2, \"linecolor\": \"#EBF0F8\", \"showbackground\": true, \"ticks\": \"\", \"zerolinecolor\": \"#EBF0F8\"}}, \"shapedefaults\": {\"line\": {\"color\": \"#2a3f5f\"}}, \"ternary\": {\"aaxis\": {\"gridcolor\": \"#DFE8F3\", \"linecolor\": \"#A2B1C6\", \"ticks\": \"\"}, \"baxis\": {\"gridcolor\": \"#DFE8F3\", \"linecolor\": \"#A2B1C6\", \"ticks\": \"\"}, \"bgcolor\": \"white\", \"caxis\": {\"gridcolor\": \"#DFE8F3\", \"linecolor\": \"#A2B1C6\", \"ticks\": \"\"}}, \"title\": {\"x\": 0.05}, \"xaxis\": {\"automargin\": true, \"gridcolor\": \"#EBF0F8\", \"linecolor\": \"#EBF0F8\", \"ticks\": \"\", \"zerolinecolor\": \"#EBF0F8\", \"zerolinewidth\": 2}, \"yaxis\": {\"automargin\": true, \"gridcolor\": \"#EBF0F8\", \"linecolor\": \"#EBF0F8\", \"ticks\": \"\", \"zerolinecolor\": \"#EBF0F8\", \"zerolinewidth\": 2}}}, \"title\": {\"text\": \"Growth Rate Dependent DNA Content\"}, \"xaxis\": {\"title\": {\"text\": \"Doubling Time (minutes)\"}}, \"yaxis\": {\"title\": {\"text\": \"DNA Content (Chromosome Equivalent)\"}}},\n",
       "                        {\"responsive\": true}\n",
       "                    ).then(function(){\n",
       "                            \n",
       "var gd = document.getElementById('bc9fd2e6-cf16-44c0-9f9d-7c9cb988daab');\n",
       "var x = new MutationObserver(function (mutations, observer) {{\n",
       "        var display = window.getComputedStyle(gd).display;\n",
       "        if (!display || display === 'none') {{\n",
       "            console.log([gd, 'removed!']);\n",
       "            Plotly.purge(gd);\n",
       "            observer.disconnect();\n",
       "        }}\n",
       "}});\n",
       "\n",
       "// Listen for the removal of the full notebook cells\n",
       "var notebookContainer = gd.closest('#notebook-container');\n",
       "if (notebookContainer) {{\n",
       "    x.observe(notebookContainer, {childList: true});\n",
       "}}\n",
       "\n",
       "// Listen for the clearing of the current output cell\n",
       "var outputEl = gd.closest('.output');\n",
       "if (outputEl) {{\n",
       "    x.observe(outputEl, {childList: true});\n",
       "}}\n",
       "\n",
       "                        })\n",
       "                };\n",
       "                });\n",
       "            </script>\n",
       "        </div>"
      ]
     },
     "metadata": {},
     "output_type": "display_data"
    }
   ],
   "source": [
    "dt_min = np.arange(18.0, 250.0, 1.0)\n",
    "results = []\n",
    "for i in dt_min:\n",
    "    results.append(popCellCount(i, age_array, weights)) \n",
    "    \n",
    "upper_bound = go.Scatter(\n",
    "    name='Upper Bound',\n",
    "    x=dt_min,\n",
    "    y=[i['mean_Ga']+i['std_Ga'] for i in results],\n",
    "    mode='lines',\n",
    "    marker=dict(color=\"#444\"),\n",
    "    line=dict(width=0),\n",
    "    fillcolor='rgba(68, 68, 68, 0.3)',\n",
    "    fill='tonexty')\n",
    "\n",
    "trace = go.Scatter(\n",
    "    name='Measurement',\n",
    "    x=dt_min,\n",
    "    y=[i['mean_Ga'] for i in results],\n",
    "    mode='lines',\n",
    "    line=dict(color='rgb(31, 119, 180)'),\n",
    "    fillcolor='rgba(68, 68, 68, 0.3)',\n",
    "    fill='tonexty')\n",
    "\n",
    "lower_bound = go.Scatter(\n",
    "    name='Lower Bound',\n",
    "    x=dt_min,\n",
    "    y=[i['mean_Ga']-i['std_Ga'] for i in results],\n",
    "    marker=dict(color=\"#444\"),\n",
    "    line=dict(width=0),\n",
    "    mode='lines')\n",
    "\n",
    "# Trace order can be important\n",
    "# with continuous error bars\n",
    "data = [lower_bound, trace, upper_bound]\n",
    "\n",
    "layout = go.Layout(\n",
    "    xaxis=dict(title='Doubling Time (minutes)'),\n",
    "    yaxis=dict(title='DNA Content (Chromosome Equivalent)'),\n",
    "    title='Growth Rate Dependent DNA Content',\n",
    "    showlegend = False,\n",
    "    template='plotly_white'\n",
    ")\n",
    "\n",
    "fig = go.Figure(data=data, layout=layout)\n",
    "\n",
    "iplot(fig, filename='pandas-continuous-error-bars')"
   ]
  },
  {
   "cell_type": "code",
   "execution_count": 14,
   "metadata": {},
   "outputs": [],
   "source": [
    "plotly.io.write_image(fig,'gr_min_dna.png' , width=1200, height=800)"
   ]
  },
  {
   "cell_type": "code",
   "execution_count": 24,
   "metadata": {},
   "outputs": [],
   "source": [
    "###################################################################\n",
    "######### Volkmer et al. growth rate dependent cell volume ########\n",
    "###################################################################"
   ]
  },
  {
   "cell_type": "code",
   "execution_count": 19,
   "metadata": {},
   "outputs": [],
   "source": [
    "def measured_cell_volume(dt_min):\n",
    "    dt_min = dt_min\n",
    "    #gr_min = np.log(2)/dt_min\n",
    "    dt_h = dt_min/60.0\n",
    "    gr_h = np.log(2)/dt_h\n",
    "    return -0.53*gr_h**2.0 + 2.41*gr_h + 1.62"
   ]
  },
  {
   "cell_type": "code",
   "execution_count": 23,
   "metadata": {},
   "outputs": [
    {
     "data": {
      "application/vnd.plotly.v1+json": {
       "config": {
        "linkText": "Export to plot.ly",
        "plotlyServerURL": "https://plot.ly",
        "showLink": false
       },
       "data": [
        {
         "line": {
          "color": "rgb(31, 119, 180)"
         },
         "mode": "lines",
         "name": "Measurement",
         "type": "scatter",
         "x": [
          22,
          23,
          24,
          25,
          26,
          27,
          28,
          29,
          30,
          31,
          32,
          33,
          34,
          35,
          36,
          37,
          38,
          39,
          40,
          41,
          42,
          43,
          44,
          45,
          46,
          47,
          48,
          49,
          50,
          51,
          52,
          53,
          54,
          55,
          56,
          57,
          58,
          59,
          60,
          61,
          62,
          63,
          64,
          65,
          66,
          67,
          68,
          69,
          70,
          71,
          72,
          73,
          74,
          75,
          76,
          77,
          78,
          79,
          80,
          81,
          82,
          83,
          84,
          85,
          86,
          87,
          88,
          89,
          90,
          91,
          92,
          93,
          94,
          95,
          96,
          97,
          98,
          99,
          100,
          101,
          102,
          103,
          104,
          105,
          106,
          107,
          108,
          109,
          110,
          111,
          112,
          113,
          114,
          115,
          116,
          117,
          118,
          119,
          120,
          121,
          122,
          123,
          124,
          125,
          126,
          127,
          128,
          129,
          130,
          131,
          132,
          133,
          134,
          135,
          136,
          137,
          138,
          139,
          140,
          141,
          142,
          143,
          144,
          145,
          146,
          147,
          148,
          149,
          150,
          151,
          152,
          153,
          154,
          155,
          156,
          157,
          158,
          159,
          160,
          161,
          162,
          163,
          164,
          165,
          166,
          167,
          168,
          169,
          170,
          171,
          172,
          173,
          174,
          175,
          176,
          177,
          178,
          179,
          180,
          181,
          182,
          183,
          184,
          185,
          186,
          187,
          188,
          189,
          190,
          191,
          192,
          193,
          194,
          195,
          196,
          197,
          198,
          199,
          200,
          201,
          202,
          203,
          204,
          205,
          206,
          207,
          208,
          209,
          210,
          211,
          212,
          213,
          214,
          215,
          216,
          217,
          218,
          219,
          220,
          221,
          222,
          223,
          224,
          225,
          226,
          227,
          228,
          229,
          230,
          231,
          232,
          233,
          234,
          235,
          236,
          237,
          238,
          239,
          240,
          241,
          242,
          243,
          244,
          245,
          246,
          247,
          248,
          249
         ],
         "y": [
          4.28185012446564,
          4.244885713705743,
          4.204711154269629,
          4.162436331469238,
          4.118893179700063,
          4.074706271311674,
          4.030344329203034,
          3.986158188352136,
          3.9424090207923497,
          3.899289491178026,
          3.8569397298154793,
          3.815459472580366,
          3.7749173425164244,
          3.735357983884045,
          3.696807571425095,
          3.659278082451345,
          3.622770621319155,
          3.587278014131379,
          3.5527868386267474,
          3.5192790149385864,
          3.486733053526492,
          3.4551250344671174,
          3.4244293755365023,
          3.394619433751919,
          3.3656679752630456,
          3.337547540953179,
          3.310230729285825,
          3.2836904134042104,
          3.2578999059569904,
          3.2328330823534968,
          3.208464470972786,
          3.184769317130431,
          3.1617236262442896,
          3.139304190557791,
          3.117488602916545,
          3.096255260404818,
          3.07558336009638,
          3.0554528887311663,
          3.0358446077728214,
          3.0167400350150837,
          2.9981214236732816,
          2.979971739710018,
          2.962274637992683,
          2.9450144377578695,
          2.9281760977584863,
          2.911745191388936,
          2.8957078820185775,
          2.880050898710958,
          2.8647615124636405,
          2.8498275130689956,
          2.8352371866685524,
          2.820979294051181,
          2.8070430497274854,
          2.7934181017985207,
          2.780094512625632,
          2.767062740299311,
          2.7543136208980252,
          2.741838351522601,
          2.7296284740877375,
          2.717675859849183,
          2.7059726946429885,
          2.6945114648117903,
          2.6832849437921475,
          2.6722861793365205,
          2.661508481343338,
          2.6509454102687666,
          2.6405907660941716,
          2.630438577823789,
          2.6204830934878025,
          2.6107187706267565,
          2.6011402672340664,
          2.5917424331342476,
          2.582520301775359,
          2.573469082415074,
          2.564584152680665,
          2.5558610514841087,
          2.5472954722743593,
          2.538883256609725,
          2.5306203880340883,
          2.5225029862415305,
          2.5145273015146885,
          2.506689709422923,
          2.4989867057670816,
          2.491414901758342,
          2.4839710194192497,
          2.4766518871957075,
          2.4694544357692583,
          2.4623756940595567,
          2.4554127854074848,
          2.448562923929838,
          2.4418234110370296,
          2.435191632105683,
          2.428665053298433,
          2.42224121852366,
          2.415917746528268,
          2.40969232811698,
          2.4035627234919783,
          2.3975267597070316,
          2.3915823282305726,
          2.3857273826124725,
          2.379959936249542,
          2.374278060245036,
          2.368679881357708,
          2.3631635800361654,
          2.3577273885345207,
          2.3523695891055256,
          2.3470885122675775,
          2.3418825351421764,
          2.3367500798585756,
          2.331689612022545,
          2.326699639246319,
          2.321778709736946,
          2.3169254109403985,
          2.3121383682389447,
          2.30741624369938,
          2.302757734869876,
          2.2981615736232763,
          2.293626525044803,
          2.289151386362225,
          2.2847349859166326,
          2.2803761821720663,
          2.2760738627623116,
          2.271826943573277,
          2.2676343678594266,
          2.263495105392823,
          2.259408151643407,
          2.255372526989196,
          2.2513872759551514,
          2.2474514664795238,
          2.243564189206537,
          2.2397245568043296,
          2.2359317033071124,
          2.2321847834805686,
          2.228482972209537,
          2.2248254639070963,
          2.2212114719441787,
          2.2176402280989036,
          2.214110982024841,
          2.21062300073746,
          2.2071755681180485,
          2.2037679844344193,
          2.2003995658777473,
          2.1970696441149182,
          2.1937775658557874,
          2.1905226924347794,
          2.18730439940628,
          2.184122076153299,
          2.1809751255088994,
          2.1778629633899187,
          2.1747850184425164,
          2.171740731699114,
          2.1687295562463014,
          2.165750956903307,
          2.1628044099106445,
          2.1598894026285658,
          2.1570054332449624,
          2.154152010492375,
          2.1513286533737825,
          2.1485348908968622,
          2.1457702618164065,
          2.1430343143846233,
          2.140326606109028,
          2.137646703517669,
          2.1349941819314293,
          2.1323686252431537,
          2.1297696257033687,
          2.127196783712372,
          2.124649707618461,
          2.1221280135221057,
          2.1196313250858525,
          2.117159273349771,
          2.114711496552254,
          2.1122876399559964,
          2.1098873556789703,
          2.107510302530243,
          2.1051561458504673,
          2.102824557356896,
          2.100515214992771,
          2.0982278027809422,
          2.0959620106815837,
          2.093717534453868,
          2.0914940755214784,
          2.089291340841829,
          2.0871090427788825,
          2.0849468989794397,
          2.0828046322528055,
          2.080681970453713,
          2.0785786463684075,
          2.0764943976037955,
          2.0744289664795565,
          2.0723820999231335,
          2.070353549367504,
          2.068343070651656,
          2.0663504239236823,
          2.064375373546407,
          2.0624176880054823,
          2.060477139819862,
          2.0585535054546003,
          2.05664656523589,
          2.0547561032682795,
          2.0528819073540094,
          2.051023768914395,
          2.049181482913204,
          2.047354847781963,
          2.0455436653471466,
          2.043747740759181,
          2.0419668824232224,
          2.040200901931652,
          2.038449613998237,
          2.036712836393915,
          2.0349903898841535,
          2.033282098167836,
          2.0315877878176383,
          2.0299072882218483,
          2.028240431527588,
          2.0265870525854033,
          2.0249469888951785,
          2.0233200805533422,
          2.021706170201327,
          2.020105102975248,
          2.018516726456771,
          2.0169408906251305,
          2.015377447810271,
          2.013826252647085,
          2.0122871620307063,
          2.010760035072845,
          2.0092447330591208,
          2.007741119407383
         ]
        }
       ],
       "layout": {
        "showlegend": false,
        "template": {
         "data": {
          "bar": [
           {
            "error_x": {
             "color": "#2a3f5f"
            },
            "error_y": {
             "color": "#2a3f5f"
            },
            "marker": {
             "line": {
              "color": "white",
              "width": 0.5
             }
            },
            "type": "bar"
           }
          ],
          "barpolar": [
           {
            "marker": {
             "line": {
              "color": "white",
              "width": 0.5
             }
            },
            "type": "barpolar"
           }
          ],
          "carpet": [
           {
            "aaxis": {
             "endlinecolor": "#2a3f5f",
             "gridcolor": "#C8D4E3",
             "linecolor": "#C8D4E3",
             "minorgridcolor": "#C8D4E3",
             "startlinecolor": "#2a3f5f"
            },
            "baxis": {
             "endlinecolor": "#2a3f5f",
             "gridcolor": "#C8D4E3",
             "linecolor": "#C8D4E3",
             "minorgridcolor": "#C8D4E3",
             "startlinecolor": "#2a3f5f"
            },
            "type": "carpet"
           }
          ],
          "choropleth": [
           {
            "colorbar": {
             "outlinewidth": 0,
             "ticks": ""
            },
            "type": "choropleth"
           }
          ],
          "contour": [
           {
            "colorbar": {
             "outlinewidth": 0,
             "ticks": ""
            },
            "colorscale": [
             [
              0,
              "#0d0887"
             ],
             [
              0.1111111111111111,
              "#46039f"
             ],
             [
              0.2222222222222222,
              "#7201a8"
             ],
             [
              0.3333333333333333,
              "#9c179e"
             ],
             [
              0.4444444444444444,
              "#bd3786"
             ],
             [
              0.5555555555555556,
              "#d8576b"
             ],
             [
              0.6666666666666666,
              "#ed7953"
             ],
             [
              0.7777777777777778,
              "#fb9f3a"
             ],
             [
              0.8888888888888888,
              "#fdca26"
             ],
             [
              1,
              "#f0f921"
             ]
            ],
            "type": "contour"
           }
          ],
          "contourcarpet": [
           {
            "colorbar": {
             "outlinewidth": 0,
             "ticks": ""
            },
            "type": "contourcarpet"
           }
          ],
          "heatmap": [
           {
            "colorbar": {
             "outlinewidth": 0,
             "ticks": ""
            },
            "colorscale": [
             [
              0,
              "#0d0887"
             ],
             [
              0.1111111111111111,
              "#46039f"
             ],
             [
              0.2222222222222222,
              "#7201a8"
             ],
             [
              0.3333333333333333,
              "#9c179e"
             ],
             [
              0.4444444444444444,
              "#bd3786"
             ],
             [
              0.5555555555555556,
              "#d8576b"
             ],
             [
              0.6666666666666666,
              "#ed7953"
             ],
             [
              0.7777777777777778,
              "#fb9f3a"
             ],
             [
              0.8888888888888888,
              "#fdca26"
             ],
             [
              1,
              "#f0f921"
             ]
            ],
            "type": "heatmap"
           }
          ],
          "heatmapgl": [
           {
            "colorbar": {
             "outlinewidth": 0,
             "ticks": ""
            },
            "colorscale": [
             [
              0,
              "#0d0887"
             ],
             [
              0.1111111111111111,
              "#46039f"
             ],
             [
              0.2222222222222222,
              "#7201a8"
             ],
             [
              0.3333333333333333,
              "#9c179e"
             ],
             [
              0.4444444444444444,
              "#bd3786"
             ],
             [
              0.5555555555555556,
              "#d8576b"
             ],
             [
              0.6666666666666666,
              "#ed7953"
             ],
             [
              0.7777777777777778,
              "#fb9f3a"
             ],
             [
              0.8888888888888888,
              "#fdca26"
             ],
             [
              1,
              "#f0f921"
             ]
            ],
            "type": "heatmapgl"
           }
          ],
          "histogram": [
           {
            "marker": {
             "colorbar": {
              "outlinewidth": 0,
              "ticks": ""
             }
            },
            "type": "histogram"
           }
          ],
          "histogram2d": [
           {
            "colorbar": {
             "outlinewidth": 0,
             "ticks": ""
            },
            "colorscale": [
             [
              0,
              "#0d0887"
             ],
             [
              0.1111111111111111,
              "#46039f"
             ],
             [
              0.2222222222222222,
              "#7201a8"
             ],
             [
              0.3333333333333333,
              "#9c179e"
             ],
             [
              0.4444444444444444,
              "#bd3786"
             ],
             [
              0.5555555555555556,
              "#d8576b"
             ],
             [
              0.6666666666666666,
              "#ed7953"
             ],
             [
              0.7777777777777778,
              "#fb9f3a"
             ],
             [
              0.8888888888888888,
              "#fdca26"
             ],
             [
              1,
              "#f0f921"
             ]
            ],
            "type": "histogram2d"
           }
          ],
          "histogram2dcontour": [
           {
            "colorbar": {
             "outlinewidth": 0,
             "ticks": ""
            },
            "colorscale": [
             [
              0,
              "#0d0887"
             ],
             [
              0.1111111111111111,
              "#46039f"
             ],
             [
              0.2222222222222222,
              "#7201a8"
             ],
             [
              0.3333333333333333,
              "#9c179e"
             ],
             [
              0.4444444444444444,
              "#bd3786"
             ],
             [
              0.5555555555555556,
              "#d8576b"
             ],
             [
              0.6666666666666666,
              "#ed7953"
             ],
             [
              0.7777777777777778,
              "#fb9f3a"
             ],
             [
              0.8888888888888888,
              "#fdca26"
             ],
             [
              1,
              "#f0f921"
             ]
            ],
            "type": "histogram2dcontour"
           }
          ],
          "mesh3d": [
           {
            "colorbar": {
             "outlinewidth": 0,
             "ticks": ""
            },
            "type": "mesh3d"
           }
          ],
          "parcoords": [
           {
            "line": {
             "colorbar": {
              "outlinewidth": 0,
              "ticks": ""
             }
            },
            "type": "parcoords"
           }
          ],
          "scatter": [
           {
            "marker": {
             "colorbar": {
              "outlinewidth": 0,
              "ticks": ""
             }
            },
            "type": "scatter"
           }
          ],
          "scatter3d": [
           {
            "line": {
             "colorbar": {
              "outlinewidth": 0,
              "ticks": ""
             }
            },
            "marker": {
             "colorbar": {
              "outlinewidth": 0,
              "ticks": ""
             }
            },
            "type": "scatter3d"
           }
          ],
          "scattercarpet": [
           {
            "marker": {
             "colorbar": {
              "outlinewidth": 0,
              "ticks": ""
             }
            },
            "type": "scattercarpet"
           }
          ],
          "scattergeo": [
           {
            "marker": {
             "colorbar": {
              "outlinewidth": 0,
              "ticks": ""
             }
            },
            "type": "scattergeo"
           }
          ],
          "scattergl": [
           {
            "marker": {
             "colorbar": {
              "outlinewidth": 0,
              "ticks": ""
             }
            },
            "type": "scattergl"
           }
          ],
          "scattermapbox": [
           {
            "marker": {
             "colorbar": {
              "outlinewidth": 0,
              "ticks": ""
             }
            },
            "type": "scattermapbox"
           }
          ],
          "scatterpolar": [
           {
            "marker": {
             "colorbar": {
              "outlinewidth": 0,
              "ticks": ""
             }
            },
            "type": "scatterpolar"
           }
          ],
          "scatterpolargl": [
           {
            "marker": {
             "colorbar": {
              "outlinewidth": 0,
              "ticks": ""
             }
            },
            "type": "scatterpolargl"
           }
          ],
          "scatterternary": [
           {
            "marker": {
             "colorbar": {
              "outlinewidth": 0,
              "ticks": ""
             }
            },
            "type": "scatterternary"
           }
          ],
          "surface": [
           {
            "colorbar": {
             "outlinewidth": 0,
             "ticks": ""
            },
            "colorscale": [
             [
              0,
              "#0d0887"
             ],
             [
              0.1111111111111111,
              "#46039f"
             ],
             [
              0.2222222222222222,
              "#7201a8"
             ],
             [
              0.3333333333333333,
              "#9c179e"
             ],
             [
              0.4444444444444444,
              "#bd3786"
             ],
             [
              0.5555555555555556,
              "#d8576b"
             ],
             [
              0.6666666666666666,
              "#ed7953"
             ],
             [
              0.7777777777777778,
              "#fb9f3a"
             ],
             [
              0.8888888888888888,
              "#fdca26"
             ],
             [
              1,
              "#f0f921"
             ]
            ],
            "type": "surface"
           }
          ],
          "table": [
           {
            "cells": {
             "fill": {
              "color": "#EBF0F8"
             },
             "line": {
              "color": "white"
             }
            },
            "header": {
             "fill": {
              "color": "#C8D4E3"
             },
             "line": {
              "color": "white"
             }
            },
            "type": "table"
           }
          ]
         },
         "layout": {
          "annotationdefaults": {
           "arrowcolor": "#2a3f5f",
           "arrowhead": 0,
           "arrowwidth": 1
          },
          "colorscale": {
           "diverging": [
            [
             0,
             "#8e0152"
            ],
            [
             0.1,
             "#c51b7d"
            ],
            [
             0.2,
             "#de77ae"
            ],
            [
             0.3,
             "#f1b6da"
            ],
            [
             0.4,
             "#fde0ef"
            ],
            [
             0.5,
             "#f7f7f7"
            ],
            [
             0.6,
             "#e6f5d0"
            ],
            [
             0.7,
             "#b8e186"
            ],
            [
             0.8,
             "#7fbc41"
            ],
            [
             0.9,
             "#4d9221"
            ],
            [
             1,
             "#276419"
            ]
           ],
           "sequential": [
            [
             0,
             "#0d0887"
            ],
            [
             0.1111111111111111,
             "#46039f"
            ],
            [
             0.2222222222222222,
             "#7201a8"
            ],
            [
             0.3333333333333333,
             "#9c179e"
            ],
            [
             0.4444444444444444,
             "#bd3786"
            ],
            [
             0.5555555555555556,
             "#d8576b"
            ],
            [
             0.6666666666666666,
             "#ed7953"
            ],
            [
             0.7777777777777778,
             "#fb9f3a"
            ],
            [
             0.8888888888888888,
             "#fdca26"
            ],
            [
             1,
             "#f0f921"
            ]
           ],
           "sequentialminus": [
            [
             0,
             "#0d0887"
            ],
            [
             0.1111111111111111,
             "#46039f"
            ],
            [
             0.2222222222222222,
             "#7201a8"
            ],
            [
             0.3333333333333333,
             "#9c179e"
            ],
            [
             0.4444444444444444,
             "#bd3786"
            ],
            [
             0.5555555555555556,
             "#d8576b"
            ],
            [
             0.6666666666666666,
             "#ed7953"
            ],
            [
             0.7777777777777778,
             "#fb9f3a"
            ],
            [
             0.8888888888888888,
             "#fdca26"
            ],
            [
             1,
             "#f0f921"
            ]
           ]
          },
          "colorway": [
           "#636efa",
           "#EF553B",
           "#00cc96",
           "#ab63fa",
           "#FFA15A",
           "#19d3f3",
           "#FF6692",
           "#B6E880",
           "#FF97FF",
           "#FECB52"
          ],
          "font": {
           "color": "#2a3f5f"
          },
          "geo": {
           "bgcolor": "white",
           "lakecolor": "white",
           "landcolor": "white",
           "showlakes": true,
           "showland": true,
           "subunitcolor": "#C8D4E3"
          },
          "hoverlabel": {
           "align": "left"
          },
          "hovermode": "closest",
          "mapbox": {
           "style": "light"
          },
          "paper_bgcolor": "white",
          "plot_bgcolor": "white",
          "polar": {
           "angularaxis": {
            "gridcolor": "#EBF0F8",
            "linecolor": "#EBF0F8",
            "ticks": ""
           },
           "bgcolor": "white",
           "radialaxis": {
            "gridcolor": "#EBF0F8",
            "linecolor": "#EBF0F8",
            "ticks": ""
           }
          },
          "scene": {
           "xaxis": {
            "backgroundcolor": "white",
            "gridcolor": "#DFE8F3",
            "gridwidth": 2,
            "linecolor": "#EBF0F8",
            "showbackground": true,
            "ticks": "",
            "zerolinecolor": "#EBF0F8"
           },
           "yaxis": {
            "backgroundcolor": "white",
            "gridcolor": "#DFE8F3",
            "gridwidth": 2,
            "linecolor": "#EBF0F8",
            "showbackground": true,
            "ticks": "",
            "zerolinecolor": "#EBF0F8"
           },
           "zaxis": {
            "backgroundcolor": "white",
            "gridcolor": "#DFE8F3",
            "gridwidth": 2,
            "linecolor": "#EBF0F8",
            "showbackground": true,
            "ticks": "",
            "zerolinecolor": "#EBF0F8"
           }
          },
          "shapedefaults": {
           "line": {
            "color": "#2a3f5f"
           }
          },
          "ternary": {
           "aaxis": {
            "gridcolor": "#DFE8F3",
            "linecolor": "#A2B1C6",
            "ticks": ""
           },
           "baxis": {
            "gridcolor": "#DFE8F3",
            "linecolor": "#A2B1C6",
            "ticks": ""
           },
           "bgcolor": "white",
           "caxis": {
            "gridcolor": "#DFE8F3",
            "linecolor": "#A2B1C6",
            "ticks": ""
           }
          },
          "title": {
           "x": 0.05
          },
          "xaxis": {
           "automargin": true,
           "gridcolor": "#EBF0F8",
           "linecolor": "#EBF0F8",
           "ticks": "",
           "zerolinecolor": "#EBF0F8",
           "zerolinewidth": 2
          },
          "yaxis": {
           "automargin": true,
           "gridcolor": "#EBF0F8",
           "linecolor": "#EBF0F8",
           "ticks": "",
           "zerolinecolor": "#EBF0F8",
           "zerolinewidth": 2
          }
         }
        },
        "title": {
         "text": "Growth Rate Dependent Cell Volume"
        },
        "xaxis": {
         "title": {
          "text": "Doubling Time (minutes)"
         }
        },
        "yaxis": {
         "title": {
          "text": "Cell Volume (fL)"
         }
        }
       }
      },
      "text/html": [
       "<div>\n",
       "        \n",
       "        \n",
       "            <div id=\"335c951e-5595-4723-81bd-3b3755523d09\" class=\"plotly-graph-div\" style=\"height:525px; width:100%;\"></div>\n",
       "            <script type=\"text/javascript\">\n",
       "                require([\"plotly\"], function(Plotly) {\n",
       "                    window.PLOTLYENV=window.PLOTLYENV || {};\n",
       "                    \n",
       "                if (document.getElementById(\"335c951e-5595-4723-81bd-3b3755523d09\")) {\n",
       "                    Plotly.newPlot(\n",
       "                        '335c951e-5595-4723-81bd-3b3755523d09',\n",
       "                        [{\"line\": {\"color\": \"rgb(31, 119, 180)\"}, \"mode\": \"lines\", \"name\": \"Measurement\", \"type\": \"scatter\", \"x\": [22.0, 23.0, 24.0, 25.0, 26.0, 27.0, 28.0, 29.0, 30.0, 31.0, 32.0, 33.0, 34.0, 35.0, 36.0, 37.0, 38.0, 39.0, 40.0, 41.0, 42.0, 43.0, 44.0, 45.0, 46.0, 47.0, 48.0, 49.0, 50.0, 51.0, 52.0, 53.0, 54.0, 55.0, 56.0, 57.0, 58.0, 59.0, 60.0, 61.0, 62.0, 63.0, 64.0, 65.0, 66.0, 67.0, 68.0, 69.0, 70.0, 71.0, 72.0, 73.0, 74.0, 75.0, 76.0, 77.0, 78.0, 79.0, 80.0, 81.0, 82.0, 83.0, 84.0, 85.0, 86.0, 87.0, 88.0, 89.0, 90.0, 91.0, 92.0, 93.0, 94.0, 95.0, 96.0, 97.0, 98.0, 99.0, 100.0, 101.0, 102.0, 103.0, 104.0, 105.0, 106.0, 107.0, 108.0, 109.0, 110.0, 111.0, 112.0, 113.0, 114.0, 115.0, 116.0, 117.0, 118.0, 119.0, 120.0, 121.0, 122.0, 123.0, 124.0, 125.0, 126.0, 127.0, 128.0, 129.0, 130.0, 131.0, 132.0, 133.0, 134.0, 135.0, 136.0, 137.0, 138.0, 139.0, 140.0, 141.0, 142.0, 143.0, 144.0, 145.0, 146.0, 147.0, 148.0, 149.0, 150.0, 151.0, 152.0, 153.0, 154.0, 155.0, 156.0, 157.0, 158.0, 159.0, 160.0, 161.0, 162.0, 163.0, 164.0, 165.0, 166.0, 167.0, 168.0, 169.0, 170.0, 171.0, 172.0, 173.0, 174.0, 175.0, 176.0, 177.0, 178.0, 179.0, 180.0, 181.0, 182.0, 183.0, 184.0, 185.0, 186.0, 187.0, 188.0, 189.0, 190.0, 191.0, 192.0, 193.0, 194.0, 195.0, 196.0, 197.0, 198.0, 199.0, 200.0, 201.0, 202.0, 203.0, 204.0, 205.0, 206.0, 207.0, 208.0, 209.0, 210.0, 211.0, 212.0, 213.0, 214.0, 215.0, 216.0, 217.0, 218.0, 219.0, 220.0, 221.0, 222.0, 223.0, 224.0, 225.0, 226.0, 227.0, 228.0, 229.0, 230.0, 231.0, 232.0, 233.0, 234.0, 235.0, 236.0, 237.0, 238.0, 239.0, 240.0, 241.0, 242.0, 243.0, 244.0, 245.0, 246.0, 247.0, 248.0, 249.0], \"y\": [4.28185012446564, 4.244885713705743, 4.204711154269629, 4.162436331469238, 4.118893179700063, 4.074706271311674, 4.030344329203034, 3.986158188352136, 3.9424090207923497, 3.899289491178026, 3.8569397298154793, 3.815459472580366, 3.7749173425164244, 3.735357983884045, 3.696807571425095, 3.659278082451345, 3.622770621319155, 3.587278014131379, 3.5527868386267474, 3.5192790149385864, 3.486733053526492, 3.4551250344671174, 3.4244293755365023, 3.394619433751919, 3.3656679752630456, 3.337547540953179, 3.310230729285825, 3.2836904134042104, 3.2578999059569904, 3.2328330823534968, 3.208464470972786, 3.184769317130431, 3.1617236262442896, 3.139304190557791, 3.117488602916545, 3.096255260404818, 3.07558336009638, 3.0554528887311663, 3.0358446077728214, 3.0167400350150837, 2.9981214236732816, 2.979971739710018, 2.962274637992683, 2.9450144377578695, 2.9281760977584863, 2.911745191388936, 2.8957078820185775, 2.880050898710958, 2.8647615124636405, 2.8498275130689956, 2.8352371866685524, 2.820979294051181, 2.8070430497274854, 2.7934181017985207, 2.780094512625632, 2.767062740299311, 2.7543136208980252, 2.741838351522601, 2.7296284740877375, 2.717675859849183, 2.7059726946429885, 2.6945114648117903, 2.6832849437921475, 2.6722861793365205, 2.661508481343338, 2.6509454102687666, 2.6405907660941716, 2.630438577823789, 2.6204830934878025, 2.6107187706267565, 2.6011402672340664, 2.5917424331342476, 2.582520301775359, 2.573469082415074, 2.564584152680665, 2.5558610514841087, 2.5472954722743593, 2.538883256609725, 2.5306203880340883, 2.5225029862415305, 2.5145273015146885, 2.506689709422923, 2.4989867057670816, 2.491414901758342, 2.4839710194192497, 2.4766518871957075, 2.4694544357692583, 2.4623756940595567, 2.4554127854074848, 2.448562923929838, 2.4418234110370296, 2.435191632105683, 2.428665053298433, 2.42224121852366, 2.415917746528268, 2.40969232811698, 2.4035627234919783, 2.3975267597070316, 2.3915823282305726, 2.3857273826124725, 2.379959936249542, 2.374278060245036, 2.368679881357708, 2.3631635800361654, 2.3577273885345207, 2.3523695891055256, 2.3470885122675775, 2.3418825351421764, 2.3367500798585756, 2.331689612022545, 2.326699639246319, 2.321778709736946, 2.3169254109403985, 2.3121383682389447, 2.30741624369938, 2.302757734869876, 2.2981615736232763, 2.293626525044803, 2.289151386362225, 2.2847349859166326, 2.2803761821720663, 2.2760738627623116, 2.271826943573277, 2.2676343678594266, 2.263495105392823, 2.259408151643407, 2.255372526989196, 2.2513872759551514, 2.2474514664795238, 2.243564189206537, 2.2397245568043296, 2.2359317033071124, 2.2321847834805686, 2.228482972209537, 2.2248254639070963, 2.2212114719441787, 2.2176402280989036, 2.214110982024841, 2.21062300073746, 2.2071755681180485, 2.2037679844344193, 2.2003995658777473, 2.1970696441149182, 2.1937775658557874, 2.1905226924347794, 2.18730439940628, 2.184122076153299, 2.1809751255088994, 2.1778629633899187, 2.1747850184425164, 2.171740731699114, 2.1687295562463014, 2.165750956903307, 2.1628044099106445, 2.1598894026285658, 2.1570054332449624, 2.154152010492375, 2.1513286533737825, 2.1485348908968622, 2.1457702618164065, 2.1430343143846233, 2.140326606109028, 2.137646703517669, 2.1349941819314293, 2.1323686252431537, 2.1297696257033687, 2.127196783712372, 2.124649707618461, 2.1221280135221057, 2.1196313250858525, 2.117159273349771, 2.114711496552254, 2.1122876399559964, 2.1098873556789703, 2.107510302530243, 2.1051561458504673, 2.102824557356896, 2.100515214992771, 2.0982278027809422, 2.0959620106815837, 2.093717534453868, 2.0914940755214784, 2.089291340841829, 2.0871090427788825, 2.0849468989794397, 2.0828046322528055, 2.080681970453713, 2.0785786463684075, 2.0764943976037955, 2.0744289664795565, 2.0723820999231335, 2.070353549367504, 2.068343070651656, 2.0663504239236823, 2.064375373546407, 2.0624176880054823, 2.060477139819862, 2.0585535054546003, 2.05664656523589, 2.0547561032682795, 2.0528819073540094, 2.051023768914395, 2.049181482913204, 2.047354847781963, 2.0455436653471466, 2.043747740759181, 2.0419668824232224, 2.040200901931652, 2.038449613998237, 2.036712836393915, 2.0349903898841535, 2.033282098167836, 2.0315877878176383, 2.0299072882218483, 2.028240431527588, 2.0265870525854033, 2.0249469888951785, 2.0233200805533422, 2.021706170201327, 2.020105102975248, 2.018516726456771, 2.0169408906251305, 2.015377447810271, 2.013826252647085, 2.0122871620307063, 2.010760035072845, 2.0092447330591208, 2.007741119407383]}],\n",
       "                        {\"showlegend\": false, \"template\": {\"data\": {\"bar\": [{\"error_x\": {\"color\": \"#2a3f5f\"}, \"error_y\": {\"color\": \"#2a3f5f\"}, \"marker\": {\"line\": {\"color\": \"white\", \"width\": 0.5}}, \"type\": \"bar\"}], \"barpolar\": [{\"marker\": {\"line\": {\"color\": \"white\", \"width\": 0.5}}, \"type\": \"barpolar\"}], \"carpet\": [{\"aaxis\": {\"endlinecolor\": \"#2a3f5f\", \"gridcolor\": \"#C8D4E3\", \"linecolor\": \"#C8D4E3\", \"minorgridcolor\": \"#C8D4E3\", \"startlinecolor\": \"#2a3f5f\"}, \"baxis\": {\"endlinecolor\": \"#2a3f5f\", \"gridcolor\": \"#C8D4E3\", \"linecolor\": \"#C8D4E3\", \"minorgridcolor\": \"#C8D4E3\", \"startlinecolor\": \"#2a3f5f\"}, \"type\": \"carpet\"}], \"choropleth\": [{\"colorbar\": {\"outlinewidth\": 0, \"ticks\": \"\"}, \"type\": \"choropleth\"}], \"contour\": [{\"colorbar\": {\"outlinewidth\": 0, \"ticks\": \"\"}, \"colorscale\": [[0.0, \"#0d0887\"], [0.1111111111111111, \"#46039f\"], [0.2222222222222222, \"#7201a8\"], [0.3333333333333333, \"#9c179e\"], [0.4444444444444444, \"#bd3786\"], [0.5555555555555556, \"#d8576b\"], [0.6666666666666666, \"#ed7953\"], [0.7777777777777778, \"#fb9f3a\"], [0.8888888888888888, \"#fdca26\"], [1.0, \"#f0f921\"]], \"type\": \"contour\"}], \"contourcarpet\": [{\"colorbar\": {\"outlinewidth\": 0, \"ticks\": \"\"}, \"type\": \"contourcarpet\"}], \"heatmap\": [{\"colorbar\": {\"outlinewidth\": 0, \"ticks\": \"\"}, \"colorscale\": [[0.0, \"#0d0887\"], [0.1111111111111111, \"#46039f\"], [0.2222222222222222, \"#7201a8\"], [0.3333333333333333, \"#9c179e\"], [0.4444444444444444, \"#bd3786\"], [0.5555555555555556, \"#d8576b\"], [0.6666666666666666, \"#ed7953\"], [0.7777777777777778, \"#fb9f3a\"], [0.8888888888888888, \"#fdca26\"], [1.0, \"#f0f921\"]], \"type\": \"heatmap\"}], \"heatmapgl\": [{\"colorbar\": {\"outlinewidth\": 0, \"ticks\": \"\"}, \"colorscale\": [[0.0, \"#0d0887\"], [0.1111111111111111, \"#46039f\"], [0.2222222222222222, \"#7201a8\"], [0.3333333333333333, \"#9c179e\"], [0.4444444444444444, \"#bd3786\"], [0.5555555555555556, \"#d8576b\"], [0.6666666666666666, \"#ed7953\"], [0.7777777777777778, \"#fb9f3a\"], [0.8888888888888888, \"#fdca26\"], [1.0, \"#f0f921\"]], \"type\": \"heatmapgl\"}], \"histogram\": [{\"marker\": {\"colorbar\": {\"outlinewidth\": 0, \"ticks\": \"\"}}, \"type\": \"histogram\"}], \"histogram2d\": [{\"colorbar\": {\"outlinewidth\": 0, \"ticks\": \"\"}, \"colorscale\": [[0.0, \"#0d0887\"], [0.1111111111111111, \"#46039f\"], [0.2222222222222222, \"#7201a8\"], [0.3333333333333333, \"#9c179e\"], [0.4444444444444444, \"#bd3786\"], [0.5555555555555556, \"#d8576b\"], [0.6666666666666666, \"#ed7953\"], [0.7777777777777778, \"#fb9f3a\"], [0.8888888888888888, \"#fdca26\"], [1.0, \"#f0f921\"]], \"type\": \"histogram2d\"}], \"histogram2dcontour\": [{\"colorbar\": {\"outlinewidth\": 0, \"ticks\": \"\"}, \"colorscale\": [[0.0, \"#0d0887\"], [0.1111111111111111, \"#46039f\"], [0.2222222222222222, \"#7201a8\"], [0.3333333333333333, \"#9c179e\"], [0.4444444444444444, \"#bd3786\"], [0.5555555555555556, \"#d8576b\"], [0.6666666666666666, \"#ed7953\"], [0.7777777777777778, \"#fb9f3a\"], [0.8888888888888888, \"#fdca26\"], [1.0, \"#f0f921\"]], \"type\": \"histogram2dcontour\"}], \"mesh3d\": [{\"colorbar\": {\"outlinewidth\": 0, \"ticks\": \"\"}, \"type\": \"mesh3d\"}], \"parcoords\": [{\"line\": {\"colorbar\": {\"outlinewidth\": 0, \"ticks\": \"\"}}, \"type\": \"parcoords\"}], \"scatter\": [{\"marker\": {\"colorbar\": {\"outlinewidth\": 0, \"ticks\": \"\"}}, \"type\": \"scatter\"}], \"scatter3d\": [{\"line\": {\"colorbar\": {\"outlinewidth\": 0, \"ticks\": \"\"}}, \"marker\": {\"colorbar\": {\"outlinewidth\": 0, \"ticks\": \"\"}}, \"type\": \"scatter3d\"}], \"scattercarpet\": [{\"marker\": {\"colorbar\": {\"outlinewidth\": 0, \"ticks\": \"\"}}, \"type\": \"scattercarpet\"}], \"scattergeo\": [{\"marker\": {\"colorbar\": {\"outlinewidth\": 0, \"ticks\": \"\"}}, \"type\": \"scattergeo\"}], \"scattergl\": [{\"marker\": {\"colorbar\": {\"outlinewidth\": 0, \"ticks\": \"\"}}, \"type\": \"scattergl\"}], \"scattermapbox\": [{\"marker\": {\"colorbar\": {\"outlinewidth\": 0, \"ticks\": \"\"}}, \"type\": \"scattermapbox\"}], \"scatterpolar\": [{\"marker\": {\"colorbar\": {\"outlinewidth\": 0, \"ticks\": \"\"}}, \"type\": \"scatterpolar\"}], \"scatterpolargl\": [{\"marker\": {\"colorbar\": {\"outlinewidth\": 0, \"ticks\": \"\"}}, \"type\": \"scatterpolargl\"}], \"scatterternary\": [{\"marker\": {\"colorbar\": {\"outlinewidth\": 0, \"ticks\": \"\"}}, \"type\": \"scatterternary\"}], \"surface\": [{\"colorbar\": {\"outlinewidth\": 0, \"ticks\": \"\"}, \"colorscale\": [[0.0, \"#0d0887\"], [0.1111111111111111, \"#46039f\"], [0.2222222222222222, \"#7201a8\"], [0.3333333333333333, \"#9c179e\"], [0.4444444444444444, \"#bd3786\"], [0.5555555555555556, \"#d8576b\"], [0.6666666666666666, \"#ed7953\"], [0.7777777777777778, \"#fb9f3a\"], [0.8888888888888888, \"#fdca26\"], [1.0, \"#f0f921\"]], \"type\": \"surface\"}], \"table\": [{\"cells\": {\"fill\": {\"color\": \"#EBF0F8\"}, \"line\": {\"color\": \"white\"}}, \"header\": {\"fill\": {\"color\": \"#C8D4E3\"}, \"line\": {\"color\": \"white\"}}, \"type\": \"table\"}]}, \"layout\": {\"annotationdefaults\": {\"arrowcolor\": \"#2a3f5f\", \"arrowhead\": 0, \"arrowwidth\": 1}, \"colorscale\": {\"diverging\": [[0, \"#8e0152\"], [0.1, \"#c51b7d\"], [0.2, \"#de77ae\"], [0.3, \"#f1b6da\"], [0.4, \"#fde0ef\"], [0.5, \"#f7f7f7\"], [0.6, \"#e6f5d0\"], [0.7, \"#b8e186\"], [0.8, \"#7fbc41\"], [0.9, \"#4d9221\"], [1, \"#276419\"]], \"sequential\": [[0.0, \"#0d0887\"], [0.1111111111111111, \"#46039f\"], [0.2222222222222222, \"#7201a8\"], [0.3333333333333333, \"#9c179e\"], [0.4444444444444444, \"#bd3786\"], [0.5555555555555556, \"#d8576b\"], [0.6666666666666666, \"#ed7953\"], [0.7777777777777778, \"#fb9f3a\"], [0.8888888888888888, \"#fdca26\"], [1.0, \"#f0f921\"]], \"sequentialminus\": [[0.0, \"#0d0887\"], [0.1111111111111111, \"#46039f\"], [0.2222222222222222, \"#7201a8\"], [0.3333333333333333, \"#9c179e\"], [0.4444444444444444, \"#bd3786\"], [0.5555555555555556, \"#d8576b\"], [0.6666666666666666, \"#ed7953\"], [0.7777777777777778, \"#fb9f3a\"], [0.8888888888888888, \"#fdca26\"], [1.0, \"#f0f921\"]]}, \"colorway\": [\"#636efa\", \"#EF553B\", \"#00cc96\", \"#ab63fa\", \"#FFA15A\", \"#19d3f3\", \"#FF6692\", \"#B6E880\", \"#FF97FF\", \"#FECB52\"], \"font\": {\"color\": \"#2a3f5f\"}, \"geo\": {\"bgcolor\": \"white\", \"lakecolor\": \"white\", \"landcolor\": \"white\", \"showlakes\": true, \"showland\": true, \"subunitcolor\": \"#C8D4E3\"}, \"hoverlabel\": {\"align\": \"left\"}, \"hovermode\": \"closest\", \"mapbox\": {\"style\": \"light\"}, \"paper_bgcolor\": \"white\", \"plot_bgcolor\": \"white\", \"polar\": {\"angularaxis\": {\"gridcolor\": \"#EBF0F8\", \"linecolor\": \"#EBF0F8\", \"ticks\": \"\"}, \"bgcolor\": \"white\", \"radialaxis\": {\"gridcolor\": \"#EBF0F8\", \"linecolor\": \"#EBF0F8\", \"ticks\": \"\"}}, \"scene\": {\"xaxis\": {\"backgroundcolor\": \"white\", \"gridcolor\": \"#DFE8F3\", \"gridwidth\": 2, \"linecolor\": \"#EBF0F8\", \"showbackground\": true, \"ticks\": \"\", \"zerolinecolor\": \"#EBF0F8\"}, \"yaxis\": {\"backgroundcolor\": \"white\", \"gridcolor\": \"#DFE8F3\", \"gridwidth\": 2, \"linecolor\": \"#EBF0F8\", \"showbackground\": true, \"ticks\": \"\", \"zerolinecolor\": \"#EBF0F8\"}, \"zaxis\": {\"backgroundcolor\": \"white\", \"gridcolor\": \"#DFE8F3\", \"gridwidth\": 2, \"linecolor\": \"#EBF0F8\", \"showbackground\": true, \"ticks\": \"\", \"zerolinecolor\": \"#EBF0F8\"}}, \"shapedefaults\": {\"line\": {\"color\": \"#2a3f5f\"}}, \"ternary\": {\"aaxis\": {\"gridcolor\": \"#DFE8F3\", \"linecolor\": \"#A2B1C6\", \"ticks\": \"\"}, \"baxis\": {\"gridcolor\": \"#DFE8F3\", \"linecolor\": \"#A2B1C6\", \"ticks\": \"\"}, \"bgcolor\": \"white\", \"caxis\": {\"gridcolor\": \"#DFE8F3\", \"linecolor\": \"#A2B1C6\", \"ticks\": \"\"}}, \"title\": {\"x\": 0.05}, \"xaxis\": {\"automargin\": true, \"gridcolor\": \"#EBF0F8\", \"linecolor\": \"#EBF0F8\", \"ticks\": \"\", \"zerolinecolor\": \"#EBF0F8\", \"zerolinewidth\": 2}, \"yaxis\": {\"automargin\": true, \"gridcolor\": \"#EBF0F8\", \"linecolor\": \"#EBF0F8\", \"ticks\": \"\", \"zerolinecolor\": \"#EBF0F8\", \"zerolinewidth\": 2}}}, \"title\": {\"text\": \"Growth Rate Dependent Cell Volume\"}, \"xaxis\": {\"title\": {\"text\": \"Doubling Time (minutes)\"}}, \"yaxis\": {\"title\": {\"text\": \"Cell Volume (fL)\"}}},\n",
       "                        {\"responsive\": true}\n",
       "                    ).then(function(){\n",
       "                            \n",
       "var gd = document.getElementById('335c951e-5595-4723-81bd-3b3755523d09');\n",
       "var x = new MutationObserver(function (mutations, observer) {{\n",
       "        var display = window.getComputedStyle(gd).display;\n",
       "        if (!display || display === 'none') {{\n",
       "            console.log([gd, 'removed!']);\n",
       "            Plotly.purge(gd);\n",
       "            observer.disconnect();\n",
       "        }}\n",
       "}});\n",
       "\n",
       "// Listen for the removal of the full notebook cells\n",
       "var notebookContainer = gd.closest('#notebook-container');\n",
       "if (notebookContainer) {{\n",
       "    x.observe(notebookContainer, {childList: true});\n",
       "}}\n",
       "\n",
       "// Listen for the clearing of the current output cell\n",
       "var outputEl = gd.closest('.output');\n",
       "if (outputEl) {{\n",
       "    x.observe(outputEl, {childList: true});\n",
       "}}\n",
       "\n",
       "                        })\n",
       "                };\n",
       "                });\n",
       "            </script>\n",
       "        </div>"
      ]
     },
     "metadata": {},
     "output_type": "display_data"
    }
   ],
   "source": [
    "dt_min = np.arange(22.0, 250.0, 1.0)\n",
    "results = []\n",
    "for i in dt_min:\n",
    "    results.append(measured_cell_volume(i)) \n",
    "    \n",
    "trace = go.Scatter(\n",
    "    name='Measurement',\n",
    "    x=dt_min,\n",
    "    y=results,\n",
    "    mode='lines',\n",
    "    line=dict(color='rgb(31, 119, 180)'))\n",
    "\n",
    "# Trace order can be important\n",
    "# with continuous error bars\n",
    "data = [trace]\n",
    "\n",
    "layout = go.Layout(\n",
    "    xaxis=dict(title='Doubling Time (minutes)'),\n",
    "    yaxis=dict(title='Cell Volume (fL)'),\n",
    "    title='Growth Rate Dependent Cell Volume',\n",
    "    showlegend = False,\n",
    "    template='plotly_white'\n",
    ")\n",
    "\n",
    "fig = go.Figure(data=data, layout=layout)\n",
    "\n",
    "iplot(fig, filename='pandas-continuous-error-bars')"
   ]
  },
  {
   "cell_type": "code",
   "execution_count": 25,
   "metadata": {},
   "outputs": [],
   "source": [
    "plotly.io.write_image(fig,'volkmer_cell_volume.png' , width=1200, height=800)"
   ]
  },
  {
   "cell_type": "code",
   "execution_count": 26,
   "metadata": {},
   "outputs": [],
   "source": [
    "#######################################################################################################\n",
    "################ use only Volkmer et al. to calculate growth rate dependent cell concentration ########\n",
    "#######################################################################################################"
   ]
  },
  {
   "cell_type": "code",
   "execution_count": null,
   "metadata": {},
   "outputs": [],
   "source": [
    "################ minutes ###############"
   ]
  },
  {
   "cell_type": "code",
   "execution_count": 52,
   "metadata": {},
   "outputs": [],
   "source": [
    "def onlyVolkmer(dt_min):\n",
    "    dt_min = dt_min\n",
    "    #gr_min = np.log(2)/dt_min\n",
    "    dt_h = dt_min/60.0\n",
    "    gr_h = np.log(2)/dt_h\n",
    "    return (3.6*10.0**9.0)/(-0.53*gr_h**2.0 + 2.41*gr_h + 1.62)"
   ]
  },
  {
   "cell_type": "code",
   "execution_count": 53,
   "metadata": {},
   "outputs": [
    {
     "data": {
      "application/vnd.plotly.v1+json": {
       "config": {
        "linkText": "Export to plot.ly",
        "plotlyServerURL": "https://plot.ly",
        "showLink": false
       },
       "data": [
        {
         "line": {
          "color": "rgb(31, 119, 180)"
         },
         "mode": "lines",
         "name": "Measurement",
         "type": "scatter",
         "x": [
          22,
          23,
          24,
          25,
          26,
          27,
          28,
          29,
          30,
          31,
          32,
          33,
          34,
          35,
          36,
          37,
          38,
          39,
          40,
          41,
          42,
          43,
          44,
          45,
          46,
          47,
          48,
          49,
          50,
          51,
          52,
          53,
          54,
          55,
          56,
          57,
          58,
          59,
          60,
          61,
          62,
          63,
          64,
          65,
          66,
          67,
          68,
          69,
          70,
          71,
          72,
          73,
          74,
          75,
          76,
          77,
          78,
          79,
          80,
          81,
          82,
          83,
          84,
          85,
          86,
          87,
          88,
          89,
          90,
          91,
          92,
          93,
          94,
          95,
          96,
          97,
          98,
          99,
          100,
          101,
          102,
          103,
          104,
          105,
          106,
          107,
          108,
          109,
          110,
          111,
          112,
          113,
          114,
          115,
          116,
          117,
          118,
          119,
          120,
          121,
          122,
          123,
          124,
          125,
          126,
          127,
          128,
          129,
          130,
          131,
          132,
          133,
          134,
          135,
          136,
          137,
          138,
          139,
          140,
          141,
          142,
          143,
          144,
          145,
          146,
          147,
          148,
          149,
          150,
          151,
          152,
          153,
          154,
          155,
          156,
          157,
          158,
          159,
          160,
          161,
          162,
          163,
          164,
          165,
          166,
          167,
          168,
          169,
          170,
          171,
          172,
          173,
          174,
          175,
          176,
          177,
          178,
          179,
          180,
          181,
          182,
          183,
          184,
          185,
          186,
          187,
          188,
          189,
          190,
          191,
          192,
          193,
          194,
          195,
          196,
          197,
          198,
          199,
          200,
          201,
          202,
          203,
          204,
          205,
          206,
          207,
          208,
          209,
          210,
          211,
          212,
          213,
          214,
          215,
          216,
          217,
          218,
          219,
          220,
          221,
          222,
          223,
          224,
          225,
          226,
          227,
          228,
          229,
          230,
          231,
          232,
          233,
          234,
          235,
          236,
          237,
          238,
          239,
          240,
          241,
          242,
          243,
          244,
          245,
          246,
          247,
          248,
          249
         ],
         "y": [
          840758059.0993403,
          848079369.5755911,
          856182474.3524698,
          864878093.8180232,
          874021209.8100955,
          883499266.0320364,
          893223929.7558651,
          903125222.3053966,
          913147261.2338098,
          923245121.4881184,
          933382487.719669,
          943529875.2014649,
          953663265.5379359,
          963763049.092473,
          973813197.0478041,
          983800607.355964,
          993714583.753894,
          1003546417.5953202,
          1013289049.8410825,
          1022936796.064981,
          1032485121.38288,
          1041930455.2187433,
          1051270038.073421,
          1060501794.1646211,
          1069624225.1045693,
          1078636320.779379,
          1087537484.3664424,
          1096327469.0283213,
          1105006324.2942142,
          1113574350.5133913,
          1122032060.0615854,
          1130380144.2183273,
          1138619444.8236213,
          1146750929.9760954,
          1154775673.1594927,
          1162694835.2860675,
          1170509649.228687,
          1178221406.4818938,
          1185831445.6486816,
          1193341142.4965558,
          1200751901.365389,
          1208065147.7420778,
          1215282321.844222,
          1222404873.0779028,
          1229434255.2539084,
          1236371922.4630225,
          1243219325.5248058,
          1249977908.9360101,
          1256649108.254763,
          1263234347.8651938,
          1269735039.0744753,
          1276152578.500523,
          1282488346.7139902,
          1288743707.1028385,
          1294920004.9317808,
          1301018566.5723615,
          1307040698.8824477,
          1312987688.7165298,
          1318860802.5504816,
          1324661286.206436,
          1330390364.665141,
          1336049241.954685,
          1341639101.105791,
          1347161104.1650538,
          1352616392.2584906,
          1358006085.6986916,
          1363331284.129626,
          1368593066.70386,
          1373792492.2875512,
          1378930599.6891217,
          1384008407.9079962,
          1389026916.400194,
          1393987105.3579607,
          1398889936.000932,
          1403736350.8766336,
          1408527274.1683638,
          1413263612.0087516,
          1417946252.7974713,
          1422576067.5217903,
          1427153910.0787804,
          1431680617.5981665,
          1436157010.7649157,
          1440583894.1407871,
          1444962056.4841537,
          1449292271.067509,
          1453575295.992143,
          1457811874.4995456,
          1462002735.2791634,
          1466148592.772179,
          1470250147.4710543,
          1474308086.214596,
          1478323082.4783676,
          1482295796.6602874,
          1486226876.3612964,
          1490116956.6609983,
          1493966660.3882036,
          1497776598.3863306,
          1501547369.7736354,
          1505279562.198255,
          1508973752.0880728,
          1512630504.8954132,
          1516250375.336604,
          1519833907.6264327,
          1523381635.7075486,
          1526894083.4748633,
          1530371764.9950058,
          1533815184.7209013,
          1537224837.7015386,
          1540601209.787004,
          1543944777.8288562,
          1547256009.875919,
          1550535365.3655798,
          1553783295.3106697,
          1557000242.4820118,
          1560186641.5867283,
          1563342919.4423828,
          1566469495.1470485,
          1569566780.2453928,
          1572635178.8908522,
          1575675088.0039966,
          1578686897.427155,
          1581670990.0753975,
          1584627742.0839484,
          1587557522.9521165,
          1590460695.683824,
          1593337616.924812,
          1596188637.0966,
          1599014100.5272846,
          1601814345.5792394,
          1604589704.7738056,
          1607340504.9130373,
          1610067067.1985765,
          1612769707.3477244,
          1615448735.7067873,
          1618104457.3617518,
          1620737172.2463677,
          1623347175.247691,
          1625934756.3091626,
          1628500200.531274,
          1631043788.2698863,
          1633565795.232257,
          1636066492.5708377,
          1638546146.9748936,
          1641005020.7600007,
          1643443371.955475,
          1645861454.389787,
          1648259517.774007,
          1650637807.7833378,
          1652996566.1367767,
          1655336030.6749578,
          1657656435.4362192,
          1659958010.730938,
          1662240983.214178,
          1664505575.9566963,
          1666752008.51434,
          1668980496.9958842,
          1671191254.1293442,
          1673384489.3268003,
          1675560408.747774,
          1677719215.3611915,
          1679861109.005969,
          1681986286.4502544,
          1684094941.449357,
          1686187264.8024027,
          1688263444.4077382,
          1690323665.3171253,
          1692368109.7887428,
          1694396957.3390393,
          1696410384.7934523,
          1698408566.3360288,
          1700391673.5579736,
          1702359875.5051477,
          1704313338.7245479,
          1706252227.309787,
          1708176702.9456027,
          1710086924.951416,
          1711983050.3239646,
          1713865233.7790325,
          1715733627.792294,
          1717588382.6393015,
          1719429646.4346302,
          1721257565.1702008,
          1723072282.7528052,
          1724873941.0408466,
          1726662679.8803189,
          1728438637.1400392,
          1730201948.7461529,
          1731952748.7159297,
          1733691169.1908624,
          1735417340.4690924,
          1737131391.037168,
          1738833447.6011624,
          1740523635.1171556,
          1742202076.8211002,
          1743868894.2580876,
          1745524207.3110218,
          1747168134.2287211,
          1748800791.653455,
          1750422294.647935,
          1752032756.7217672,
          1753632289.8573813,
          1755221004.5354455,
          1756799009.7597828,
          1758366413.0817974,
          1759923320.6244211,
          1761469837.105594,
          1763006065.8612857,
          1764532108.8680718,
          1766048066.7652712,
          1767554038.8766587,
          1769050123.2317555,
          1770536416.5867162,
          1772013014.4448118,
          1773480011.0765238,
          1774937499.5392566,
          1776385571.6966743,
          1777824318.2376733,
          1779253828.6949952,
          1780674191.4634917,
          1782085493.8180463,
          1783487821.931159,
          1784881260.890207,
          1786265894.7143812,
          1787641806.3713095,
          1789009077.793374,
          1790367789.8937259,
          1791718022.582007,
          1793059854.7797825
         ]
        },
        {
         "marker": {
          "color": "#d62728",
          "line": {
           "color": "DarkSlateGrey",
           "width": 2
          },
          "size": 12
         },
         "name": "Old Measurement",
         "type": "scatter",
         "x": [
          58.0516142
         ],
         "y": [
          1170910196.425466
         ]
        }
       ],
       "layout": {
        "annotations": [
         {
          "arrowhead": 0,
          "ax": 0,
          "ay": 0,
          "font": {
           "color": "#d62728"
          },
          "showarrow": false,
          "text": "(58.0516, 0.8x10<sup>9</sup>)",
          "x": 78,
          "xref": "x",
          "y": 1170910196.425466,
          "yref": "y"
         }
        ],
        "showlegend": false,
        "template": {
         "data": {
          "bar": [
           {
            "error_x": {
             "color": "#2a3f5f"
            },
            "error_y": {
             "color": "#2a3f5f"
            },
            "marker": {
             "line": {
              "color": "white",
              "width": 0.5
             }
            },
            "type": "bar"
           }
          ],
          "barpolar": [
           {
            "marker": {
             "line": {
              "color": "white",
              "width": 0.5
             }
            },
            "type": "barpolar"
           }
          ],
          "carpet": [
           {
            "aaxis": {
             "endlinecolor": "#2a3f5f",
             "gridcolor": "#C8D4E3",
             "linecolor": "#C8D4E3",
             "minorgridcolor": "#C8D4E3",
             "startlinecolor": "#2a3f5f"
            },
            "baxis": {
             "endlinecolor": "#2a3f5f",
             "gridcolor": "#C8D4E3",
             "linecolor": "#C8D4E3",
             "minorgridcolor": "#C8D4E3",
             "startlinecolor": "#2a3f5f"
            },
            "type": "carpet"
           }
          ],
          "choropleth": [
           {
            "colorbar": {
             "outlinewidth": 0,
             "ticks": ""
            },
            "type": "choropleth"
           }
          ],
          "contour": [
           {
            "colorbar": {
             "outlinewidth": 0,
             "ticks": ""
            },
            "colorscale": [
             [
              0,
              "#0d0887"
             ],
             [
              0.1111111111111111,
              "#46039f"
             ],
             [
              0.2222222222222222,
              "#7201a8"
             ],
             [
              0.3333333333333333,
              "#9c179e"
             ],
             [
              0.4444444444444444,
              "#bd3786"
             ],
             [
              0.5555555555555556,
              "#d8576b"
             ],
             [
              0.6666666666666666,
              "#ed7953"
             ],
             [
              0.7777777777777778,
              "#fb9f3a"
             ],
             [
              0.8888888888888888,
              "#fdca26"
             ],
             [
              1,
              "#f0f921"
             ]
            ],
            "type": "contour"
           }
          ],
          "contourcarpet": [
           {
            "colorbar": {
             "outlinewidth": 0,
             "ticks": ""
            },
            "type": "contourcarpet"
           }
          ],
          "heatmap": [
           {
            "colorbar": {
             "outlinewidth": 0,
             "ticks": ""
            },
            "colorscale": [
             [
              0,
              "#0d0887"
             ],
             [
              0.1111111111111111,
              "#46039f"
             ],
             [
              0.2222222222222222,
              "#7201a8"
             ],
             [
              0.3333333333333333,
              "#9c179e"
             ],
             [
              0.4444444444444444,
              "#bd3786"
             ],
             [
              0.5555555555555556,
              "#d8576b"
             ],
             [
              0.6666666666666666,
              "#ed7953"
             ],
             [
              0.7777777777777778,
              "#fb9f3a"
             ],
             [
              0.8888888888888888,
              "#fdca26"
             ],
             [
              1,
              "#f0f921"
             ]
            ],
            "type": "heatmap"
           }
          ],
          "heatmapgl": [
           {
            "colorbar": {
             "outlinewidth": 0,
             "ticks": ""
            },
            "colorscale": [
             [
              0,
              "#0d0887"
             ],
             [
              0.1111111111111111,
              "#46039f"
             ],
             [
              0.2222222222222222,
              "#7201a8"
             ],
             [
              0.3333333333333333,
              "#9c179e"
             ],
             [
              0.4444444444444444,
              "#bd3786"
             ],
             [
              0.5555555555555556,
              "#d8576b"
             ],
             [
              0.6666666666666666,
              "#ed7953"
             ],
             [
              0.7777777777777778,
              "#fb9f3a"
             ],
             [
              0.8888888888888888,
              "#fdca26"
             ],
             [
              1,
              "#f0f921"
             ]
            ],
            "type": "heatmapgl"
           }
          ],
          "histogram": [
           {
            "marker": {
             "colorbar": {
              "outlinewidth": 0,
              "ticks": ""
             }
            },
            "type": "histogram"
           }
          ],
          "histogram2d": [
           {
            "colorbar": {
             "outlinewidth": 0,
             "ticks": ""
            },
            "colorscale": [
             [
              0,
              "#0d0887"
             ],
             [
              0.1111111111111111,
              "#46039f"
             ],
             [
              0.2222222222222222,
              "#7201a8"
             ],
             [
              0.3333333333333333,
              "#9c179e"
             ],
             [
              0.4444444444444444,
              "#bd3786"
             ],
             [
              0.5555555555555556,
              "#d8576b"
             ],
             [
              0.6666666666666666,
              "#ed7953"
             ],
             [
              0.7777777777777778,
              "#fb9f3a"
             ],
             [
              0.8888888888888888,
              "#fdca26"
             ],
             [
              1,
              "#f0f921"
             ]
            ],
            "type": "histogram2d"
           }
          ],
          "histogram2dcontour": [
           {
            "colorbar": {
             "outlinewidth": 0,
             "ticks": ""
            },
            "colorscale": [
             [
              0,
              "#0d0887"
             ],
             [
              0.1111111111111111,
              "#46039f"
             ],
             [
              0.2222222222222222,
              "#7201a8"
             ],
             [
              0.3333333333333333,
              "#9c179e"
             ],
             [
              0.4444444444444444,
              "#bd3786"
             ],
             [
              0.5555555555555556,
              "#d8576b"
             ],
             [
              0.6666666666666666,
              "#ed7953"
             ],
             [
              0.7777777777777778,
              "#fb9f3a"
             ],
             [
              0.8888888888888888,
              "#fdca26"
             ],
             [
              1,
              "#f0f921"
             ]
            ],
            "type": "histogram2dcontour"
           }
          ],
          "mesh3d": [
           {
            "colorbar": {
             "outlinewidth": 0,
             "ticks": ""
            },
            "type": "mesh3d"
           }
          ],
          "parcoords": [
           {
            "line": {
             "colorbar": {
              "outlinewidth": 0,
              "ticks": ""
             }
            },
            "type": "parcoords"
           }
          ],
          "scatter": [
           {
            "marker": {
             "colorbar": {
              "outlinewidth": 0,
              "ticks": ""
             }
            },
            "type": "scatter"
           }
          ],
          "scatter3d": [
           {
            "line": {
             "colorbar": {
              "outlinewidth": 0,
              "ticks": ""
             }
            },
            "marker": {
             "colorbar": {
              "outlinewidth": 0,
              "ticks": ""
             }
            },
            "type": "scatter3d"
           }
          ],
          "scattercarpet": [
           {
            "marker": {
             "colorbar": {
              "outlinewidth": 0,
              "ticks": ""
             }
            },
            "type": "scattercarpet"
           }
          ],
          "scattergeo": [
           {
            "marker": {
             "colorbar": {
              "outlinewidth": 0,
              "ticks": ""
             }
            },
            "type": "scattergeo"
           }
          ],
          "scattergl": [
           {
            "marker": {
             "colorbar": {
              "outlinewidth": 0,
              "ticks": ""
             }
            },
            "type": "scattergl"
           }
          ],
          "scattermapbox": [
           {
            "marker": {
             "colorbar": {
              "outlinewidth": 0,
              "ticks": ""
             }
            },
            "type": "scattermapbox"
           }
          ],
          "scatterpolar": [
           {
            "marker": {
             "colorbar": {
              "outlinewidth": 0,
              "ticks": ""
             }
            },
            "type": "scatterpolar"
           }
          ],
          "scatterpolargl": [
           {
            "marker": {
             "colorbar": {
              "outlinewidth": 0,
              "ticks": ""
             }
            },
            "type": "scatterpolargl"
           }
          ],
          "scatterternary": [
           {
            "marker": {
             "colorbar": {
              "outlinewidth": 0,
              "ticks": ""
             }
            },
            "type": "scatterternary"
           }
          ],
          "surface": [
           {
            "colorbar": {
             "outlinewidth": 0,
             "ticks": ""
            },
            "colorscale": [
             [
              0,
              "#0d0887"
             ],
             [
              0.1111111111111111,
              "#46039f"
             ],
             [
              0.2222222222222222,
              "#7201a8"
             ],
             [
              0.3333333333333333,
              "#9c179e"
             ],
             [
              0.4444444444444444,
              "#bd3786"
             ],
             [
              0.5555555555555556,
              "#d8576b"
             ],
             [
              0.6666666666666666,
              "#ed7953"
             ],
             [
              0.7777777777777778,
              "#fb9f3a"
             ],
             [
              0.8888888888888888,
              "#fdca26"
             ],
             [
              1,
              "#f0f921"
             ]
            ],
            "type": "surface"
           }
          ],
          "table": [
           {
            "cells": {
             "fill": {
              "color": "#EBF0F8"
             },
             "line": {
              "color": "white"
             }
            },
            "header": {
             "fill": {
              "color": "#C8D4E3"
             },
             "line": {
              "color": "white"
             }
            },
            "type": "table"
           }
          ]
         },
         "layout": {
          "annotationdefaults": {
           "arrowcolor": "#2a3f5f",
           "arrowhead": 0,
           "arrowwidth": 1
          },
          "colorscale": {
           "diverging": [
            [
             0,
             "#8e0152"
            ],
            [
             0.1,
             "#c51b7d"
            ],
            [
             0.2,
             "#de77ae"
            ],
            [
             0.3,
             "#f1b6da"
            ],
            [
             0.4,
             "#fde0ef"
            ],
            [
             0.5,
             "#f7f7f7"
            ],
            [
             0.6,
             "#e6f5d0"
            ],
            [
             0.7,
             "#b8e186"
            ],
            [
             0.8,
             "#7fbc41"
            ],
            [
             0.9,
             "#4d9221"
            ],
            [
             1,
             "#276419"
            ]
           ],
           "sequential": [
            [
             0,
             "#0d0887"
            ],
            [
             0.1111111111111111,
             "#46039f"
            ],
            [
             0.2222222222222222,
             "#7201a8"
            ],
            [
             0.3333333333333333,
             "#9c179e"
            ],
            [
             0.4444444444444444,
             "#bd3786"
            ],
            [
             0.5555555555555556,
             "#d8576b"
            ],
            [
             0.6666666666666666,
             "#ed7953"
            ],
            [
             0.7777777777777778,
             "#fb9f3a"
            ],
            [
             0.8888888888888888,
             "#fdca26"
            ],
            [
             1,
             "#f0f921"
            ]
           ],
           "sequentialminus": [
            [
             0,
             "#0d0887"
            ],
            [
             0.1111111111111111,
             "#46039f"
            ],
            [
             0.2222222222222222,
             "#7201a8"
            ],
            [
             0.3333333333333333,
             "#9c179e"
            ],
            [
             0.4444444444444444,
             "#bd3786"
            ],
            [
             0.5555555555555556,
             "#d8576b"
            ],
            [
             0.6666666666666666,
             "#ed7953"
            ],
            [
             0.7777777777777778,
             "#fb9f3a"
            ],
            [
             0.8888888888888888,
             "#fdca26"
            ],
            [
             1,
             "#f0f921"
            ]
           ]
          },
          "colorway": [
           "#636efa",
           "#EF553B",
           "#00cc96",
           "#ab63fa",
           "#FFA15A",
           "#19d3f3",
           "#FF6692",
           "#B6E880",
           "#FF97FF",
           "#FECB52"
          ],
          "font": {
           "color": "#2a3f5f"
          },
          "geo": {
           "bgcolor": "white",
           "lakecolor": "white",
           "landcolor": "white",
           "showlakes": true,
           "showland": true,
           "subunitcolor": "#C8D4E3"
          },
          "hoverlabel": {
           "align": "left"
          },
          "hovermode": "closest",
          "mapbox": {
           "style": "light"
          },
          "paper_bgcolor": "white",
          "plot_bgcolor": "white",
          "polar": {
           "angularaxis": {
            "gridcolor": "#EBF0F8",
            "linecolor": "#EBF0F8",
            "ticks": ""
           },
           "bgcolor": "white",
           "radialaxis": {
            "gridcolor": "#EBF0F8",
            "linecolor": "#EBF0F8",
            "ticks": ""
           }
          },
          "scene": {
           "xaxis": {
            "backgroundcolor": "white",
            "gridcolor": "#DFE8F3",
            "gridwidth": 2,
            "linecolor": "#EBF0F8",
            "showbackground": true,
            "ticks": "",
            "zerolinecolor": "#EBF0F8"
           },
           "yaxis": {
            "backgroundcolor": "white",
            "gridcolor": "#DFE8F3",
            "gridwidth": 2,
            "linecolor": "#EBF0F8",
            "showbackground": true,
            "ticks": "",
            "zerolinecolor": "#EBF0F8"
           },
           "zaxis": {
            "backgroundcolor": "white",
            "gridcolor": "#DFE8F3",
            "gridwidth": 2,
            "linecolor": "#EBF0F8",
            "showbackground": true,
            "ticks": "",
            "zerolinecolor": "#EBF0F8"
           }
          },
          "shapedefaults": {
           "line": {
            "color": "#2a3f5f"
           }
          },
          "ternary": {
           "aaxis": {
            "gridcolor": "#DFE8F3",
            "linecolor": "#A2B1C6",
            "ticks": ""
           },
           "baxis": {
            "gridcolor": "#DFE8F3",
            "linecolor": "#A2B1C6",
            "ticks": ""
           },
           "bgcolor": "white",
           "caxis": {
            "gridcolor": "#DFE8F3",
            "linecolor": "#A2B1C6",
            "ticks": ""
           }
          },
          "title": {
           "x": 0.05
          },
          "xaxis": {
           "automargin": true,
           "gridcolor": "#EBF0F8",
           "linecolor": "#EBF0F8",
           "ticks": "",
           "zerolinecolor": "#EBF0F8",
           "zerolinewidth": 2
          },
          "yaxis": {
           "automargin": true,
           "gridcolor": "#EBF0F8",
           "linecolor": "#EBF0F8",
           "ticks": "",
           "zerolinecolor": "#EBF0F8",
           "zerolinewidth": 2
          }
         }
        },
        "title": {
         "text": "Growth Rate Dependent Cell Volume"
        },
        "xaxis": {
         "title": {
          "text": "Doubling Time (minutes)"
         }
        },
        "yaxis": {
         "exponentformat": "power",
         "title": {
          "text": "Cell Concentration "
         }
        }
       }
      },
      "text/html": [
       "<div>\n",
       "        \n",
       "        \n",
       "            <div id=\"0d75297b-7b88-4ca4-9596-d99878b55170\" class=\"plotly-graph-div\" style=\"height:525px; width:100%;\"></div>\n",
       "            <script type=\"text/javascript\">\n",
       "                require([\"plotly\"], function(Plotly) {\n",
       "                    window.PLOTLYENV=window.PLOTLYENV || {};\n",
       "                    \n",
       "                if (document.getElementById(\"0d75297b-7b88-4ca4-9596-d99878b55170\")) {\n",
       "                    Plotly.newPlot(\n",
       "                        '0d75297b-7b88-4ca4-9596-d99878b55170',\n",
       "                        [{\"line\": {\"color\": \"rgb(31, 119, 180)\"}, \"mode\": \"lines\", \"name\": \"Measurement\", \"type\": \"scatter\", \"x\": [22.0, 23.0, 24.0, 25.0, 26.0, 27.0, 28.0, 29.0, 30.0, 31.0, 32.0, 33.0, 34.0, 35.0, 36.0, 37.0, 38.0, 39.0, 40.0, 41.0, 42.0, 43.0, 44.0, 45.0, 46.0, 47.0, 48.0, 49.0, 50.0, 51.0, 52.0, 53.0, 54.0, 55.0, 56.0, 57.0, 58.0, 59.0, 60.0, 61.0, 62.0, 63.0, 64.0, 65.0, 66.0, 67.0, 68.0, 69.0, 70.0, 71.0, 72.0, 73.0, 74.0, 75.0, 76.0, 77.0, 78.0, 79.0, 80.0, 81.0, 82.0, 83.0, 84.0, 85.0, 86.0, 87.0, 88.0, 89.0, 90.0, 91.0, 92.0, 93.0, 94.0, 95.0, 96.0, 97.0, 98.0, 99.0, 100.0, 101.0, 102.0, 103.0, 104.0, 105.0, 106.0, 107.0, 108.0, 109.0, 110.0, 111.0, 112.0, 113.0, 114.0, 115.0, 116.0, 117.0, 118.0, 119.0, 120.0, 121.0, 122.0, 123.0, 124.0, 125.0, 126.0, 127.0, 128.0, 129.0, 130.0, 131.0, 132.0, 133.0, 134.0, 135.0, 136.0, 137.0, 138.0, 139.0, 140.0, 141.0, 142.0, 143.0, 144.0, 145.0, 146.0, 147.0, 148.0, 149.0, 150.0, 151.0, 152.0, 153.0, 154.0, 155.0, 156.0, 157.0, 158.0, 159.0, 160.0, 161.0, 162.0, 163.0, 164.0, 165.0, 166.0, 167.0, 168.0, 169.0, 170.0, 171.0, 172.0, 173.0, 174.0, 175.0, 176.0, 177.0, 178.0, 179.0, 180.0, 181.0, 182.0, 183.0, 184.0, 185.0, 186.0, 187.0, 188.0, 189.0, 190.0, 191.0, 192.0, 193.0, 194.0, 195.0, 196.0, 197.0, 198.0, 199.0, 200.0, 201.0, 202.0, 203.0, 204.0, 205.0, 206.0, 207.0, 208.0, 209.0, 210.0, 211.0, 212.0, 213.0, 214.0, 215.0, 216.0, 217.0, 218.0, 219.0, 220.0, 221.0, 222.0, 223.0, 224.0, 225.0, 226.0, 227.0, 228.0, 229.0, 230.0, 231.0, 232.0, 233.0, 234.0, 235.0, 236.0, 237.0, 238.0, 239.0, 240.0, 241.0, 242.0, 243.0, 244.0, 245.0, 246.0, 247.0, 248.0, 249.0], \"y\": [840758059.0993403, 848079369.5755911, 856182474.3524698, 864878093.8180232, 874021209.8100955, 883499266.0320364, 893223929.7558651, 903125222.3053966, 913147261.2338098, 923245121.4881184, 933382487.719669, 943529875.2014649, 953663265.5379359, 963763049.092473, 973813197.0478041, 983800607.355964, 993714583.753894, 1003546417.5953202, 1013289049.8410825, 1022936796.064981, 1032485121.38288, 1041930455.2187433, 1051270038.073421, 1060501794.1646211, 1069624225.1045693, 1078636320.779379, 1087537484.3664424, 1096327469.0283213, 1105006324.2942142, 1113574350.5133913, 1122032060.0615854, 1130380144.2183273, 1138619444.8236213, 1146750929.9760954, 1154775673.1594927, 1162694835.2860675, 1170509649.228687, 1178221406.4818938, 1185831445.6486816, 1193341142.4965558, 1200751901.365389, 1208065147.7420778, 1215282321.844222, 1222404873.0779028, 1229434255.2539084, 1236371922.4630225, 1243219325.5248058, 1249977908.9360101, 1256649108.254763, 1263234347.8651938, 1269735039.0744753, 1276152578.500523, 1282488346.7139902, 1288743707.1028385, 1294920004.9317808, 1301018566.5723615, 1307040698.8824477, 1312987688.7165298, 1318860802.5504816, 1324661286.206436, 1330390364.665141, 1336049241.954685, 1341639101.105791, 1347161104.1650538, 1352616392.2584906, 1358006085.6986916, 1363331284.129626, 1368593066.70386, 1373792492.2875512, 1378930599.6891217, 1384008407.9079962, 1389026916.400194, 1393987105.3579607, 1398889936.000932, 1403736350.8766336, 1408527274.1683638, 1413263612.0087516, 1417946252.7974713, 1422576067.5217903, 1427153910.0787804, 1431680617.5981665, 1436157010.7649157, 1440583894.1407871, 1444962056.4841537, 1449292271.067509, 1453575295.992143, 1457811874.4995456, 1462002735.2791634, 1466148592.772179, 1470250147.4710543, 1474308086.214596, 1478323082.4783676, 1482295796.6602874, 1486226876.3612964, 1490116956.6609983, 1493966660.3882036, 1497776598.3863306, 1501547369.7736354, 1505279562.198255, 1508973752.0880728, 1512630504.8954132, 1516250375.336604, 1519833907.6264327, 1523381635.7075486, 1526894083.4748633, 1530371764.9950058, 1533815184.7209013, 1537224837.7015386, 1540601209.787004, 1543944777.8288562, 1547256009.875919, 1550535365.3655798, 1553783295.3106697, 1557000242.4820118, 1560186641.5867283, 1563342919.4423828, 1566469495.1470485, 1569566780.2453928, 1572635178.8908522, 1575675088.0039966, 1578686897.427155, 1581670990.0753975, 1584627742.0839484, 1587557522.9521165, 1590460695.683824, 1593337616.924812, 1596188637.0966, 1599014100.5272846, 1601814345.5792394, 1604589704.7738056, 1607340504.9130373, 1610067067.1985765, 1612769707.3477244, 1615448735.7067873, 1618104457.3617518, 1620737172.2463677, 1623347175.247691, 1625934756.3091626, 1628500200.531274, 1631043788.2698863, 1633565795.232257, 1636066492.5708377, 1638546146.9748936, 1641005020.7600007, 1643443371.955475, 1645861454.389787, 1648259517.774007, 1650637807.7833378, 1652996566.1367767, 1655336030.6749578, 1657656435.4362192, 1659958010.730938, 1662240983.214178, 1664505575.9566963, 1666752008.51434, 1668980496.9958842, 1671191254.1293442, 1673384489.3268003, 1675560408.747774, 1677719215.3611915, 1679861109.005969, 1681986286.4502544, 1684094941.449357, 1686187264.8024027, 1688263444.4077382, 1690323665.3171253, 1692368109.7887428, 1694396957.3390393, 1696410384.7934523, 1698408566.3360288, 1700391673.5579736, 1702359875.5051477, 1704313338.7245479, 1706252227.309787, 1708176702.9456027, 1710086924.951416, 1711983050.3239646, 1713865233.7790325, 1715733627.792294, 1717588382.6393015, 1719429646.4346302, 1721257565.1702008, 1723072282.7528052, 1724873941.0408466, 1726662679.8803189, 1728438637.1400392, 1730201948.7461529, 1731952748.7159297, 1733691169.1908624, 1735417340.4690924, 1737131391.037168, 1738833447.6011624, 1740523635.1171556, 1742202076.8211002, 1743868894.2580876, 1745524207.3110218, 1747168134.2287211, 1748800791.653455, 1750422294.647935, 1752032756.7217672, 1753632289.8573813, 1755221004.5354455, 1756799009.7597828, 1758366413.0817974, 1759923320.6244211, 1761469837.105594, 1763006065.8612857, 1764532108.8680718, 1766048066.7652712, 1767554038.8766587, 1769050123.2317555, 1770536416.5867162, 1772013014.4448118, 1773480011.0765238, 1774937499.5392566, 1776385571.6966743, 1777824318.2376733, 1779253828.6949952, 1780674191.4634917, 1782085493.8180463, 1783487821.931159, 1784881260.890207, 1786265894.7143812, 1787641806.3713095, 1789009077.793374, 1790367789.8937259, 1791718022.582007, 1793059854.7797825]}, {\"marker\": {\"color\": \"#d62728\", \"line\": {\"color\": \"DarkSlateGrey\", \"width\": 2}, \"size\": 12}, \"name\": \"Old Measurement\", \"type\": \"scatter\", \"x\": [58.0516142], \"y\": [1170910196.425466]}],\n",
       "                        {\"annotations\": [{\"arrowhead\": 0, \"ax\": 0, \"ay\": 0, \"font\": {\"color\": \"#d62728\"}, \"showarrow\": false, \"text\": \"(58.0516, 0.8x10<sup>9</sup>)\", \"x\": 78, \"xref\": \"x\", \"y\": 1170910196.425466, \"yref\": \"y\"}], \"showlegend\": false, \"template\": {\"data\": {\"bar\": [{\"error_x\": {\"color\": \"#2a3f5f\"}, \"error_y\": {\"color\": \"#2a3f5f\"}, \"marker\": {\"line\": {\"color\": \"white\", \"width\": 0.5}}, \"type\": \"bar\"}], \"barpolar\": [{\"marker\": {\"line\": {\"color\": \"white\", \"width\": 0.5}}, \"type\": \"barpolar\"}], \"carpet\": [{\"aaxis\": {\"endlinecolor\": \"#2a3f5f\", \"gridcolor\": \"#C8D4E3\", \"linecolor\": \"#C8D4E3\", \"minorgridcolor\": \"#C8D4E3\", \"startlinecolor\": \"#2a3f5f\"}, \"baxis\": {\"endlinecolor\": \"#2a3f5f\", \"gridcolor\": \"#C8D4E3\", \"linecolor\": \"#C8D4E3\", \"minorgridcolor\": \"#C8D4E3\", \"startlinecolor\": \"#2a3f5f\"}, \"type\": \"carpet\"}], \"choropleth\": [{\"colorbar\": {\"outlinewidth\": 0, \"ticks\": \"\"}, \"type\": \"choropleth\"}], \"contour\": [{\"colorbar\": {\"outlinewidth\": 0, \"ticks\": \"\"}, \"colorscale\": [[0.0, \"#0d0887\"], [0.1111111111111111, \"#46039f\"], [0.2222222222222222, \"#7201a8\"], [0.3333333333333333, \"#9c179e\"], [0.4444444444444444, \"#bd3786\"], [0.5555555555555556, \"#d8576b\"], [0.6666666666666666, \"#ed7953\"], [0.7777777777777778, \"#fb9f3a\"], [0.8888888888888888, \"#fdca26\"], [1.0, \"#f0f921\"]], \"type\": \"contour\"}], \"contourcarpet\": [{\"colorbar\": {\"outlinewidth\": 0, \"ticks\": \"\"}, \"type\": \"contourcarpet\"}], \"heatmap\": [{\"colorbar\": {\"outlinewidth\": 0, \"ticks\": \"\"}, \"colorscale\": [[0.0, \"#0d0887\"], [0.1111111111111111, \"#46039f\"], [0.2222222222222222, \"#7201a8\"], [0.3333333333333333, \"#9c179e\"], [0.4444444444444444, \"#bd3786\"], [0.5555555555555556, \"#d8576b\"], [0.6666666666666666, \"#ed7953\"], [0.7777777777777778, \"#fb9f3a\"], [0.8888888888888888, \"#fdca26\"], [1.0, \"#f0f921\"]], \"type\": \"heatmap\"}], \"heatmapgl\": [{\"colorbar\": {\"outlinewidth\": 0, \"ticks\": \"\"}, \"colorscale\": [[0.0, \"#0d0887\"], [0.1111111111111111, \"#46039f\"], [0.2222222222222222, \"#7201a8\"], [0.3333333333333333, \"#9c179e\"], [0.4444444444444444, \"#bd3786\"], [0.5555555555555556, \"#d8576b\"], [0.6666666666666666, \"#ed7953\"], [0.7777777777777778, \"#fb9f3a\"], [0.8888888888888888, \"#fdca26\"], [1.0, \"#f0f921\"]], \"type\": \"heatmapgl\"}], \"histogram\": [{\"marker\": {\"colorbar\": {\"outlinewidth\": 0, \"ticks\": \"\"}}, \"type\": \"histogram\"}], \"histogram2d\": [{\"colorbar\": {\"outlinewidth\": 0, \"ticks\": \"\"}, \"colorscale\": [[0.0, \"#0d0887\"], [0.1111111111111111, \"#46039f\"], [0.2222222222222222, \"#7201a8\"], [0.3333333333333333, \"#9c179e\"], [0.4444444444444444, \"#bd3786\"], [0.5555555555555556, \"#d8576b\"], [0.6666666666666666, \"#ed7953\"], [0.7777777777777778, \"#fb9f3a\"], [0.8888888888888888, \"#fdca26\"], [1.0, \"#f0f921\"]], \"type\": \"histogram2d\"}], \"histogram2dcontour\": [{\"colorbar\": {\"outlinewidth\": 0, \"ticks\": \"\"}, \"colorscale\": [[0.0, \"#0d0887\"], [0.1111111111111111, \"#46039f\"], [0.2222222222222222, \"#7201a8\"], [0.3333333333333333, \"#9c179e\"], [0.4444444444444444, \"#bd3786\"], [0.5555555555555556, \"#d8576b\"], [0.6666666666666666, \"#ed7953\"], [0.7777777777777778, \"#fb9f3a\"], [0.8888888888888888, \"#fdca26\"], [1.0, \"#f0f921\"]], \"type\": \"histogram2dcontour\"}], \"mesh3d\": [{\"colorbar\": {\"outlinewidth\": 0, \"ticks\": \"\"}, \"type\": \"mesh3d\"}], \"parcoords\": [{\"line\": {\"colorbar\": {\"outlinewidth\": 0, \"ticks\": \"\"}}, \"type\": \"parcoords\"}], \"scatter\": [{\"marker\": {\"colorbar\": {\"outlinewidth\": 0, \"ticks\": \"\"}}, \"type\": \"scatter\"}], \"scatter3d\": [{\"line\": {\"colorbar\": {\"outlinewidth\": 0, \"ticks\": \"\"}}, \"marker\": {\"colorbar\": {\"outlinewidth\": 0, \"ticks\": \"\"}}, \"type\": \"scatter3d\"}], \"scattercarpet\": [{\"marker\": {\"colorbar\": {\"outlinewidth\": 0, \"ticks\": \"\"}}, \"type\": \"scattercarpet\"}], \"scattergeo\": [{\"marker\": {\"colorbar\": {\"outlinewidth\": 0, \"ticks\": \"\"}}, \"type\": \"scattergeo\"}], \"scattergl\": [{\"marker\": {\"colorbar\": {\"outlinewidth\": 0, \"ticks\": \"\"}}, \"type\": \"scattergl\"}], \"scattermapbox\": [{\"marker\": {\"colorbar\": {\"outlinewidth\": 0, \"ticks\": \"\"}}, \"type\": \"scattermapbox\"}], \"scatterpolar\": [{\"marker\": {\"colorbar\": {\"outlinewidth\": 0, \"ticks\": \"\"}}, \"type\": \"scatterpolar\"}], \"scatterpolargl\": [{\"marker\": {\"colorbar\": {\"outlinewidth\": 0, \"ticks\": \"\"}}, \"type\": \"scatterpolargl\"}], \"scatterternary\": [{\"marker\": {\"colorbar\": {\"outlinewidth\": 0, \"ticks\": \"\"}}, \"type\": \"scatterternary\"}], \"surface\": [{\"colorbar\": {\"outlinewidth\": 0, \"ticks\": \"\"}, \"colorscale\": [[0.0, \"#0d0887\"], [0.1111111111111111, \"#46039f\"], [0.2222222222222222, \"#7201a8\"], [0.3333333333333333, \"#9c179e\"], [0.4444444444444444, \"#bd3786\"], [0.5555555555555556, \"#d8576b\"], [0.6666666666666666, \"#ed7953\"], [0.7777777777777778, \"#fb9f3a\"], [0.8888888888888888, \"#fdca26\"], [1.0, \"#f0f921\"]], \"type\": \"surface\"}], \"table\": [{\"cells\": {\"fill\": {\"color\": \"#EBF0F8\"}, \"line\": {\"color\": \"white\"}}, \"header\": {\"fill\": {\"color\": \"#C8D4E3\"}, \"line\": {\"color\": \"white\"}}, \"type\": \"table\"}]}, \"layout\": {\"annotationdefaults\": {\"arrowcolor\": \"#2a3f5f\", \"arrowhead\": 0, \"arrowwidth\": 1}, \"colorscale\": {\"diverging\": [[0, \"#8e0152\"], [0.1, \"#c51b7d\"], [0.2, \"#de77ae\"], [0.3, \"#f1b6da\"], [0.4, \"#fde0ef\"], [0.5, \"#f7f7f7\"], [0.6, \"#e6f5d0\"], [0.7, \"#b8e186\"], [0.8, \"#7fbc41\"], [0.9, \"#4d9221\"], [1, \"#276419\"]], \"sequential\": [[0.0, \"#0d0887\"], [0.1111111111111111, \"#46039f\"], [0.2222222222222222, \"#7201a8\"], [0.3333333333333333, \"#9c179e\"], [0.4444444444444444, \"#bd3786\"], [0.5555555555555556, \"#d8576b\"], [0.6666666666666666, \"#ed7953\"], [0.7777777777777778, \"#fb9f3a\"], [0.8888888888888888, \"#fdca26\"], [1.0, \"#f0f921\"]], \"sequentialminus\": [[0.0, \"#0d0887\"], [0.1111111111111111, \"#46039f\"], [0.2222222222222222, \"#7201a8\"], [0.3333333333333333, \"#9c179e\"], [0.4444444444444444, \"#bd3786\"], [0.5555555555555556, \"#d8576b\"], [0.6666666666666666, \"#ed7953\"], [0.7777777777777778, \"#fb9f3a\"], [0.8888888888888888, \"#fdca26\"], [1.0, \"#f0f921\"]]}, \"colorway\": [\"#636efa\", \"#EF553B\", \"#00cc96\", \"#ab63fa\", \"#FFA15A\", \"#19d3f3\", \"#FF6692\", \"#B6E880\", \"#FF97FF\", \"#FECB52\"], \"font\": {\"color\": \"#2a3f5f\"}, \"geo\": {\"bgcolor\": \"white\", \"lakecolor\": \"white\", \"landcolor\": \"white\", \"showlakes\": true, \"showland\": true, \"subunitcolor\": \"#C8D4E3\"}, \"hoverlabel\": {\"align\": \"left\"}, \"hovermode\": \"closest\", \"mapbox\": {\"style\": \"light\"}, \"paper_bgcolor\": \"white\", \"plot_bgcolor\": \"white\", \"polar\": {\"angularaxis\": {\"gridcolor\": \"#EBF0F8\", \"linecolor\": \"#EBF0F8\", \"ticks\": \"\"}, \"bgcolor\": \"white\", \"radialaxis\": {\"gridcolor\": \"#EBF0F8\", \"linecolor\": \"#EBF0F8\", \"ticks\": \"\"}}, \"scene\": {\"xaxis\": {\"backgroundcolor\": \"white\", \"gridcolor\": \"#DFE8F3\", \"gridwidth\": 2, \"linecolor\": \"#EBF0F8\", \"showbackground\": true, \"ticks\": \"\", \"zerolinecolor\": \"#EBF0F8\"}, \"yaxis\": {\"backgroundcolor\": \"white\", \"gridcolor\": \"#DFE8F3\", \"gridwidth\": 2, \"linecolor\": \"#EBF0F8\", \"showbackground\": true, \"ticks\": \"\", \"zerolinecolor\": \"#EBF0F8\"}, \"zaxis\": {\"backgroundcolor\": \"white\", \"gridcolor\": \"#DFE8F3\", \"gridwidth\": 2, \"linecolor\": \"#EBF0F8\", \"showbackground\": true, \"ticks\": \"\", \"zerolinecolor\": \"#EBF0F8\"}}, \"shapedefaults\": {\"line\": {\"color\": \"#2a3f5f\"}}, \"ternary\": {\"aaxis\": {\"gridcolor\": \"#DFE8F3\", \"linecolor\": \"#A2B1C6\", \"ticks\": \"\"}, \"baxis\": {\"gridcolor\": \"#DFE8F3\", \"linecolor\": \"#A2B1C6\", \"ticks\": \"\"}, \"bgcolor\": \"white\", \"caxis\": {\"gridcolor\": \"#DFE8F3\", \"linecolor\": \"#A2B1C6\", \"ticks\": \"\"}}, \"title\": {\"x\": 0.05}, \"xaxis\": {\"automargin\": true, \"gridcolor\": \"#EBF0F8\", \"linecolor\": \"#EBF0F8\", \"ticks\": \"\", \"zerolinecolor\": \"#EBF0F8\", \"zerolinewidth\": 2}, \"yaxis\": {\"automargin\": true, \"gridcolor\": \"#EBF0F8\", \"linecolor\": \"#EBF0F8\", \"ticks\": \"\", \"zerolinecolor\": \"#EBF0F8\", \"zerolinewidth\": 2}}}, \"title\": {\"text\": \"Growth Rate Dependent Cell Volume\"}, \"xaxis\": {\"title\": {\"text\": \"Doubling Time (minutes)\"}}, \"yaxis\": {\"exponentformat\": \"power\", \"title\": {\"text\": \"Cell Concentration \"}}},\n",
       "                        {\"responsive\": true}\n",
       "                    ).then(function(){\n",
       "                            \n",
       "var gd = document.getElementById('0d75297b-7b88-4ca4-9596-d99878b55170');\n",
       "var x = new MutationObserver(function (mutations, observer) {{\n",
       "        var display = window.getComputedStyle(gd).display;\n",
       "        if (!display || display === 'none') {{\n",
       "            console.log([gd, 'removed!']);\n",
       "            Plotly.purge(gd);\n",
       "            observer.disconnect();\n",
       "        }}\n",
       "}});\n",
       "\n",
       "// Listen for the removal of the full notebook cells\n",
       "var notebookContainer = gd.closest('#notebook-container');\n",
       "if (notebookContainer) {{\n",
       "    x.observe(notebookContainer, {childList: true});\n",
       "}}\n",
       "\n",
       "// Listen for the clearing of the current output cell\n",
       "var outputEl = gd.closest('.output');\n",
       "if (outputEl) {{\n",
       "    x.observe(outputEl, {childList: true});\n",
       "}}\n",
       "\n",
       "                        })\n",
       "                };\n",
       "                });\n",
       "            </script>\n",
       "        </div>"
      ]
     },
     "metadata": {},
     "output_type": "display_data"
    }
   ],
   "source": [
    "dt_min = np.arange(22.0, 250.0, 1.0)\n",
    "results = []\n",
    "for i in dt_min:\n",
    "    results.append(onlyVolkmer(i)) \n",
    "    \n",
    "trace = go.Scatter(\n",
    "    name='Measurement',\n",
    "    x=dt_min,\n",
    "    y=results,\n",
    "    mode='lines',\n",
    "    line=dict(color='rgb(31, 119, 180)'))\n",
    "\n",
    "trace1 = go.Scatter(\n",
    "    name='Old Measurement',\n",
    "    x=[58.0516142],\n",
    "    y=[onlyVolkmer(58.0516142)],\n",
    "    marker=dict(size=12, \n",
    "                color='#d62728',\n",
    "                line=dict(width=2,\n",
    "                    color='DarkSlateGrey'\n",
    "                    )\n",
    "                )\n",
    "    )\n",
    "\n",
    "# Trace order can be important\n",
    "# with continuous error bars\n",
    "data = [trace, trace1]\n",
    "\n",
    "layout = go.Layout(\n",
    "    xaxis=dict(title='Doubling Time (minutes)'),\n",
    "    yaxis=dict(title='Cell Concentration ', exponentformat = 'power'),\n",
    "    title='Growth Rate Dependent Cell Volume',\n",
    "    showlegend = False,\n",
    "    template='plotly_white'\n",
    ")\n",
    "\n",
    "fig = go.Figure(data=data, layout=layout)\n",
    "\n",
    "fig.update_layout(\n",
    "    annotations=[\n",
    "        go.layout.Annotation(\n",
    "            x=78,\n",
    "            y=onlyVolkmer(58.0516142),\n",
    "            xref=\"x\",\n",
    "            yref=\"y\",\n",
    "            text=\"({0:.4f}, 0.8x10<sup>9</sup>)\".format(58.0516142),\n",
    "            showarrow=False,\n",
    "            arrowhead=0,\n",
    "            ax=0,\n",
    "            ay=0,\n",
    "            font=dict(\n",
    "                color=\"#d62728\"\n",
    "            )\n",
    "        )\n",
    "    ]\n",
    ")\n",
    "\n",
    "iplot(fig, filename='pandas-continuous-error-bars')"
   ]
  },
  {
   "cell_type": "code",
   "execution_count": 54,
   "metadata": {},
   "outputs": [],
   "source": [
    "plotly.io.write_image(fig,'volkmer_cell_concentration_dt_min.png' , width=1200, height=800)"
   ]
  },
  {
   "cell_type": "code",
   "execution_count": 43,
   "metadata": {},
   "outputs": [],
   "source": [
    "############### hours ##########"
   ]
  },
  {
   "cell_type": "code",
   "execution_count": 82,
   "metadata": {},
   "outputs": [],
   "source": [
    "def onlyVolkmer(dt_min):\n",
    "    dt_min = dt_min\n",
    "    gr_min = np.log(2)/dt_min\n",
    "    dt_h = dt_min/60.0\n",
    "    gr_h = np.log(2)/dt_h\n",
    "    return (3.6*10.0**9.0)/(-0.53*gr_h**2.0 + 2.41*gr_h + 1.62)"
   ]
  },
  {
   "cell_type": "code",
   "execution_count": 47,
   "metadata": {},
   "outputs": [
    {
     "data": {
      "application/vnd.plotly.v1+json": {
       "config": {
        "linkText": "Export to plot.ly",
        "plotlyServerURL": "https://plot.ly",
        "showLink": false
       },
       "data": [
        {
         "line": {
          "color": "rgb(31, 119, 180)"
         },
         "mode": "lines",
         "name": "Measurement",
         "type": "scatter",
         "x": [
          0.0001,
          0.0002,
          0.00030000000000000003,
          0.0004,
          0.0005,
          0.0006000000000000001,
          0.0007000000000000001,
          0.0008,
          0.0009000000000000001,
          0.001,
          0.0011,
          0.0012000000000000001,
          0.0013000000000000002,
          0.0014000000000000002,
          0.0015,
          0.0016,
          0.0017000000000000001,
          0.0018000000000000002,
          0.0019000000000000002,
          0.002,
          0.0021,
          0.0022,
          0.0023,
          0.0024,
          0.0025,
          0.0026,
          0.0027,
          0.0028,
          0.0029,
          0.003,
          0.0031,
          0.0032,
          0.0033,
          0.0034,
          0.0035,
          0.0036,
          0.0037,
          0.0038,
          0.0039,
          0.004,
          0.0041,
          0.004200000000000001,
          0.004300000000000001,
          0.0044,
          0.0045000000000000005,
          0.004600000000000001,
          0.0047,
          0.0048000000000000004,
          0.004900000000000001,
          0.005,
          0.0051,
          0.005200000000000001,
          0.005300000000000001,
          0.0054,
          0.0055000000000000005,
          0.005600000000000001,
          0.0057,
          0.0058000000000000005,
          0.005900000000000001,
          0.006,
          0.0061,
          0.006200000000000001,
          0.006300000000000001,
          0.0064,
          0.006500000000000001,
          0.006600000000000001,
          0.0067,
          0.0068000000000000005,
          0.006900000000000001,
          0.007000000000000001,
          0.0071,
          0.007200000000000001,
          0.007300000000000001,
          0.0074,
          0.007500000000000001,
          0.007600000000000001,
          0.0077,
          0.0078000000000000005,
          0.0079,
          0.008,
          0.0081,
          0.008199999999999999,
          0.0083,
          0.0084,
          0.0085,
          0.0086,
          0.0087,
          0.0088,
          0.0089,
          0.009,
          0.0091,
          0.0092,
          0.0093,
          0.0094,
          0.0095,
          0.0096,
          0.0097,
          0.0098,
          0.009899999999999999,
          0.01,
          0.0101,
          0.0102,
          0.0103,
          0.0104,
          0.0105,
          0.0106,
          0.0107,
          0.0108,
          0.0109,
          0.011,
          0.0111,
          0.0112,
          0.0113,
          0.0114,
          0.0115,
          0.0116,
          0.0117,
          0.0118,
          0.011899999999999999,
          0.012,
          0.0121,
          0.0122,
          0.0123,
          0.0124,
          0.0125,
          0.0126,
          0.0127,
          0.0128,
          0.0129,
          0.013,
          0.0131,
          0.0132,
          0.0133,
          0.0134,
          0.0135,
          0.0136,
          0.0137,
          0.0138,
          0.013900000000000001,
          0.014,
          0.0141,
          0.0142,
          0.0143,
          0.0144,
          0.0145,
          0.0146,
          0.0147,
          0.0148,
          0.0149,
          0.015,
          0.0151,
          0.0152,
          0.0153,
          0.0154,
          0.0155,
          0.0156,
          0.015700000000000002,
          0.0158,
          0.0159,
          0.016,
          0.0161,
          0.0162,
          0.0163,
          0.0164,
          0.0165,
          0.0166,
          0.0167,
          0.0168,
          0.016900000000000002,
          0.017,
          0.0171,
          0.0172,
          0.0173,
          0.0174,
          0.0175,
          0.0176,
          0.0177,
          0.0178,
          0.0179,
          0.018,
          0.0181,
          0.0182,
          0.0183,
          0.0184,
          0.0185,
          0.018600000000000002,
          0.0187,
          0.0188,
          0.0189,
          0.019,
          0.0191,
          0.019200000000000002,
          0.0193,
          0.0194,
          0.0195,
          0.0196,
          0.0197,
          0.0198,
          0.0199,
          0.02,
          0.0201,
          0.0202,
          0.020300000000000002,
          0.0204,
          0.0205,
          0.0206,
          0.0207,
          0.0208,
          0.020900000000000002,
          0.021,
          0.0211,
          0.0212,
          0.0213,
          0.0214,
          0.021500000000000002,
          0.0216,
          0.0217,
          0.0218,
          0.0219,
          0.022,
          0.0221,
          0.0222,
          0.0223,
          0.0224,
          0.0225,
          0.022600000000000002,
          0.0227,
          0.0228,
          0.0229,
          0.023,
          0.0231,
          0.023200000000000002,
          0.0233,
          0.0234,
          0.0235,
          0.0236,
          0.0237,
          0.0238,
          0.0239,
          0.024,
          0.0241,
          0.0242,
          0.024300000000000002,
          0.0244,
          0.0245,
          0.0246,
          0.0247,
          0.0248,
          0.024900000000000002,
          0.025,
          0.0251,
          0.0252,
          0.0253,
          0.0254,
          0.025500000000000002,
          0.0256,
          0.0257,
          0.0258,
          0.0259,
          0.026000000000000002,
          0.0261,
          0.0262,
          0.0263,
          0.0264,
          0.0265,
          0.026600000000000002,
          0.0267,
          0.0268,
          0.0269,
          0.027,
          0.0271,
          0.027200000000000002,
          0.0273,
          0.0274,
          0.0275,
          0.0276,
          0.027700000000000002,
          0.027800000000000002,
          0.0279,
          0.028,
          0.0281,
          0.0282,
          0.028300000000000002,
          0.0284,
          0.0285,
          0.0286,
          0.0287,
          0.0288,
          0.028900000000000002,
          0.029,
          0.0291,
          0.0292,
          0.0293,
          0.029400000000000003,
          0.029500000000000002,
          0.0296,
          0.0297,
          0.0298,
          0.0299
         ],
         "y": [
          2202588026.2469196,
          2183348272.2874007,
          2164491388.895683,
          2146006253.7483573,
          2127882172.0711918,
          2110108856.2956784,
          2092676406.8662386,
          2075575294.1228564,
          2058796341.1894941,
          2042330707.8037455,
          2026169875.0278683,
          2010305630.7856593,
          1994730056.173593,
          1979435512.4982877,
          1964414628.995742,
          1949660291.190863,
          1935165629.8586767,
          1920924010.5512512,
          1906929023.656789,
          1893174474.9596121,
          1879654376.671835,
          1866362938.9094615,
          1853294561.5874183,
          1840443826.7096987,
          1827805491.0323293,
          1815374479.078293,
          1803145876.484868,
          1791114923.6650698,
          1779277009.7660365,
          1767627666.9082422,
          1756162564.6904433,
          1744877504.9461458,
          1733768416.7382855,
          1722831351.579572,
          1712062478.8667285,
          1701458081.5175374,
          1691014551.8002567,
          1680728387.3455944,
          1670596187.331969,
          1660614648.8353555,
          1650780563.3354702,
          1641090813.3705575,
          1631542369.3334424,
          1622132286.4019463,
          1612857701.5971322,
          1603715830.9632192,
          1594703966.8633273,
          1585819475.3855443,
          1577059793.854103,
          1568422428.4407265,
          1559904951.8714726,
          1551505001.2246544,
          1543220275.8156445,
          1535048535.1645849,
          1526987597.043243,
          1519035335.5974383,
          1511189679.54165,
          1503448610.4225872,
          1495810160.9486747,
          1488272413.3825455,
          1480833497.9937913,
          1473491591.5693488,
          1466244915.9790342,
          1459091736.7938578,
          1452030361.9548683,
          1445059140.4903839,
          1438176461.2795675,
          1431380751.860413,
          1424670477.280281,
          1418044138.9872327,
          1411500273.760478,
          1405037452.6783385,
          1398654280.1221993,
          1392349392.8149943,
          1386121458.8928354,
          1379969177.0084622,
          1373891275.4652464,
          1367886511.380542,
          1361953669.8772302,
          1356091563.302354,
          1350299030.471793,
          1344574935.939968,
          1338918169.2936165,
          1333327644.4687169,
          1327802299.0896807,
          1322341093.829974,
          1316943011.7933562,
          1311607057.9149714,
          1306332258.3815475,
          1301117660.0700002,
          1295962330.003761,
          1290865354.826184,
          1285825840.290401,
          1280842910.7650404,
          1275915708.7552273,
          1271043394.4383209,
          1266225145.213865,
          1261460155.2672436,
          1256747635.1465564,
          1252086811.3522537,
          1247476925.9390829,
          1242917236.1299136,
          1238407013.9410367,
          1233945545.818537,
          1229532132.285362,
          1225166087.5987217,
          1220846739.4174664,
          1216573428.479108,
          1212345508.2861593,
          1208162344.8014786,
          1204023316.1523218,
          1199927812.3428092,
          1195875234.9745352,
          1191864996.9750466,
          1187896522.3339393,
          1183969245.8463202,
          1180082612.863396,
          1176236079.0499651,
          1172429110.1485817,
          1168661181.750187,
          1164931779.0709987,
          1161240396.7354589,
          1157586538.5650532,
          1153969717.372814,
          1150389454.7633312,
          1146845280.938101,
          1143336734.5060437,
          1139863362.2990344,
          1136424719.192293,
          1133020367.9294808,
          1129649878.952367,
          1126312830.2349217,
          1123008807.1217027,
          1119737402.1704092,
          1116498214.998479,
          1113290852.1335995,
          1110114926.8680336,
          1106970059.116629,
          1103855875.2784154,
          1100772008.1016817,
          1097718096.5524297,
          1094693785.6861053,
          1091698726.5225184,
          1088732575.9238548,
          1085794996.4756904,
          1082885656.3709266,
          1080004229.296562,
          1077150394.3232162,
          1074323835.7973368,
          1071524243.2360032,
          1068751311.2242649,
          1066004739.314937,
          1063284231.930787,
          1060589498.2690471,
          1057920252.208188,
          1055276212.2168905,
          1052657101.2651569,
          1050062646.7375042,
          1047492580.3481802,
          1044946638.0583497,
          1042424559.9951992,
          1039926090.3729049,
          1037450977.4154185,
          1034998973.2810185,
          1032569833.9885849,
          1030163319.3455468,
          1027779192.8774626,
          1025417221.7591894,
          1023077176.7475973,
          1020758832.1157948,
          1018461965.5888181,
          1016186358.2807535,
          1013931794.6332523,
          1011698062.355403,
          1009484952.3649287,
          1007292258.730672,
          1005119778.6163379,
          1002967312.2254627,
          1000834662.747576,
          998721636.305529,
          996628041.9039568,
          994553691.3788505,
          992498399.3482064,
          990461983.163731,
          988444262.8635724,
          986445061.1260545,
          984464203.2243893,
          982501516.9823421,
          980556832.7308302,
          978629983.2654272,
          976720803.8047572,
          974829131.9497517,
          972954807.6437535,
          971097673.1334434,
          969257572.9305744,
          967434353.7744904,
          965627864.595412,
          963837956.4784753,
          962064482.6284987,
          960307298.3354673,
          958566260.9407158,
          956841229.8037926,
          955132066.2699916,
          953438633.6385354,
          951760797.1313928,
          950098423.8627225,
          948451382.8089204,
          946819544.7792622,
          945202782.3871291,
          943600970.0217971,
          942013983.8207842,
          940441701.6427385,
          938884003.0408573,
          937340769.2368258,
          935811883.0952601,
          934297229.0986497,
          932796693.3227832,
          931310163.4126482,
          929837528.5587974,
          928378679.4741663,
          926933508.3713373,
          925501908.9402373,
          924083776.3262612,
          922679007.108811,
          921287499.280244,
          919909152.2252172,
          918543866.7004241,
          917191544.8147125,
          915852090.009577,
          914525407.0400164,
          913211401.9557518,
          911909982.0827926,
          910621056.00535,
          909344533.548084,
          908080325.7586821,
          906828344.8907598,
          905588504.3870783,
          904360718.8630714,
          903144904.0906774,
          901940976.9824662,
          900748855.5760602,
          899568459.0188395,
          898399707.5529273,
          897242522.5004497,
          896096826.2490656,
          894962542.2377571,
          893839594.942882,
          892727909.8644767,
          891627413.5128095,
          890538033.3951762,
          889459698.0029346,
          888392336.7987741,
          887335880.2042137,
          886290259.5873266,
          885255407.2506843,
          884231256.4195188,
          883217741.2300968,
          882214796.718302,
          881222358.808424,
          880240364.3021454,
          879268750.8677281,
          878307457.0293932,
          877356422.1568877,
          876415586.4552425,
          875484890.9547089,
          874564277.5008779,
          873653688.7449728,
          872753068.1343192,
          871862359.9029801,
          870981509.0625626,
          870110461.3931843,
          869249163.434605,
          868397562.4775139,
          867555606.5549724,
          866723244.4340117,
          865900425.6073773,
          865087100.2854239,
          864283219.3881543,
          863488734.5373994,
          862703598.0491395,
          861927762.9259641,
          861161182.8496649,
          860403812.1739624,
          859655605.9173647,
          858916519.7561536,
          858186510.0174965,
          857465533.6726857,
          856753548.3304957,
          856050512.2306647,
          855356384.2374926,
          854671123.8335553,
          853994691.1135361,
          853327046.7781656,
          852668152.1282767,
          852017969.0589672,
          851376460.0538704,
          850743588.1795304,
          850119317.0798832,
          849503610.9708407
         ]
        },
        {
         "marker": {
          "color": "#d62728",
          "line": {
           "color": "DarkSlateGrey",
           "width": 2
          },
          "size": 12
         },
         "name": "Old Measurement",
         "type": "scatter",
         "x": [
          0.011940187884731468
         ],
         "y": [
          1170910196.425466
         ]
        }
       ],
       "layout": {
        "annotations": [
         {
          "arrowhead": 0,
          "ax": 0,
          "ay": 0,
          "font": {
           "color": "#d62728"
          },
          "showarrow": false,
          "text": "(0.0119, 0.8x10<sup>9</sup>)",
          "x": 0.008886502314871094,
          "xref": "x",
          "y": 1170910196.425466,
          "yref": "y"
         }
        ],
        "showlegend": false,
        "template": {
         "data": {
          "bar": [
           {
            "error_x": {
             "color": "#2a3f5f"
            },
            "error_y": {
             "color": "#2a3f5f"
            },
            "marker": {
             "line": {
              "color": "white",
              "width": 0.5
             }
            },
            "type": "bar"
           }
          ],
          "barpolar": [
           {
            "marker": {
             "line": {
              "color": "white",
              "width": 0.5
             }
            },
            "type": "barpolar"
           }
          ],
          "carpet": [
           {
            "aaxis": {
             "endlinecolor": "#2a3f5f",
             "gridcolor": "#C8D4E3",
             "linecolor": "#C8D4E3",
             "minorgridcolor": "#C8D4E3",
             "startlinecolor": "#2a3f5f"
            },
            "baxis": {
             "endlinecolor": "#2a3f5f",
             "gridcolor": "#C8D4E3",
             "linecolor": "#C8D4E3",
             "minorgridcolor": "#C8D4E3",
             "startlinecolor": "#2a3f5f"
            },
            "type": "carpet"
           }
          ],
          "choropleth": [
           {
            "colorbar": {
             "outlinewidth": 0,
             "ticks": ""
            },
            "type": "choropleth"
           }
          ],
          "contour": [
           {
            "colorbar": {
             "outlinewidth": 0,
             "ticks": ""
            },
            "colorscale": [
             [
              0,
              "#0d0887"
             ],
             [
              0.1111111111111111,
              "#46039f"
             ],
             [
              0.2222222222222222,
              "#7201a8"
             ],
             [
              0.3333333333333333,
              "#9c179e"
             ],
             [
              0.4444444444444444,
              "#bd3786"
             ],
             [
              0.5555555555555556,
              "#d8576b"
             ],
             [
              0.6666666666666666,
              "#ed7953"
             ],
             [
              0.7777777777777778,
              "#fb9f3a"
             ],
             [
              0.8888888888888888,
              "#fdca26"
             ],
             [
              1,
              "#f0f921"
             ]
            ],
            "type": "contour"
           }
          ],
          "contourcarpet": [
           {
            "colorbar": {
             "outlinewidth": 0,
             "ticks": ""
            },
            "type": "contourcarpet"
           }
          ],
          "heatmap": [
           {
            "colorbar": {
             "outlinewidth": 0,
             "ticks": ""
            },
            "colorscale": [
             [
              0,
              "#0d0887"
             ],
             [
              0.1111111111111111,
              "#46039f"
             ],
             [
              0.2222222222222222,
              "#7201a8"
             ],
             [
              0.3333333333333333,
              "#9c179e"
             ],
             [
              0.4444444444444444,
              "#bd3786"
             ],
             [
              0.5555555555555556,
              "#d8576b"
             ],
             [
              0.6666666666666666,
              "#ed7953"
             ],
             [
              0.7777777777777778,
              "#fb9f3a"
             ],
             [
              0.8888888888888888,
              "#fdca26"
             ],
             [
              1,
              "#f0f921"
             ]
            ],
            "type": "heatmap"
           }
          ],
          "heatmapgl": [
           {
            "colorbar": {
             "outlinewidth": 0,
             "ticks": ""
            },
            "colorscale": [
             [
              0,
              "#0d0887"
             ],
             [
              0.1111111111111111,
              "#46039f"
             ],
             [
              0.2222222222222222,
              "#7201a8"
             ],
             [
              0.3333333333333333,
              "#9c179e"
             ],
             [
              0.4444444444444444,
              "#bd3786"
             ],
             [
              0.5555555555555556,
              "#d8576b"
             ],
             [
              0.6666666666666666,
              "#ed7953"
             ],
             [
              0.7777777777777778,
              "#fb9f3a"
             ],
             [
              0.8888888888888888,
              "#fdca26"
             ],
             [
              1,
              "#f0f921"
             ]
            ],
            "type": "heatmapgl"
           }
          ],
          "histogram": [
           {
            "marker": {
             "colorbar": {
              "outlinewidth": 0,
              "ticks": ""
             }
            },
            "type": "histogram"
           }
          ],
          "histogram2d": [
           {
            "colorbar": {
             "outlinewidth": 0,
             "ticks": ""
            },
            "colorscale": [
             [
              0,
              "#0d0887"
             ],
             [
              0.1111111111111111,
              "#46039f"
             ],
             [
              0.2222222222222222,
              "#7201a8"
             ],
             [
              0.3333333333333333,
              "#9c179e"
             ],
             [
              0.4444444444444444,
              "#bd3786"
             ],
             [
              0.5555555555555556,
              "#d8576b"
             ],
             [
              0.6666666666666666,
              "#ed7953"
             ],
             [
              0.7777777777777778,
              "#fb9f3a"
             ],
             [
              0.8888888888888888,
              "#fdca26"
             ],
             [
              1,
              "#f0f921"
             ]
            ],
            "type": "histogram2d"
           }
          ],
          "histogram2dcontour": [
           {
            "colorbar": {
             "outlinewidth": 0,
             "ticks": ""
            },
            "colorscale": [
             [
              0,
              "#0d0887"
             ],
             [
              0.1111111111111111,
              "#46039f"
             ],
             [
              0.2222222222222222,
              "#7201a8"
             ],
             [
              0.3333333333333333,
              "#9c179e"
             ],
             [
              0.4444444444444444,
              "#bd3786"
             ],
             [
              0.5555555555555556,
              "#d8576b"
             ],
             [
              0.6666666666666666,
              "#ed7953"
             ],
             [
              0.7777777777777778,
              "#fb9f3a"
             ],
             [
              0.8888888888888888,
              "#fdca26"
             ],
             [
              1,
              "#f0f921"
             ]
            ],
            "type": "histogram2dcontour"
           }
          ],
          "mesh3d": [
           {
            "colorbar": {
             "outlinewidth": 0,
             "ticks": ""
            },
            "type": "mesh3d"
           }
          ],
          "parcoords": [
           {
            "line": {
             "colorbar": {
              "outlinewidth": 0,
              "ticks": ""
             }
            },
            "type": "parcoords"
           }
          ],
          "scatter": [
           {
            "marker": {
             "colorbar": {
              "outlinewidth": 0,
              "ticks": ""
             }
            },
            "type": "scatter"
           }
          ],
          "scatter3d": [
           {
            "line": {
             "colorbar": {
              "outlinewidth": 0,
              "ticks": ""
             }
            },
            "marker": {
             "colorbar": {
              "outlinewidth": 0,
              "ticks": ""
             }
            },
            "type": "scatter3d"
           }
          ],
          "scattercarpet": [
           {
            "marker": {
             "colorbar": {
              "outlinewidth": 0,
              "ticks": ""
             }
            },
            "type": "scattercarpet"
           }
          ],
          "scattergeo": [
           {
            "marker": {
             "colorbar": {
              "outlinewidth": 0,
              "ticks": ""
             }
            },
            "type": "scattergeo"
           }
          ],
          "scattergl": [
           {
            "marker": {
             "colorbar": {
              "outlinewidth": 0,
              "ticks": ""
             }
            },
            "type": "scattergl"
           }
          ],
          "scattermapbox": [
           {
            "marker": {
             "colorbar": {
              "outlinewidth": 0,
              "ticks": ""
             }
            },
            "type": "scattermapbox"
           }
          ],
          "scatterpolar": [
           {
            "marker": {
             "colorbar": {
              "outlinewidth": 0,
              "ticks": ""
             }
            },
            "type": "scatterpolar"
           }
          ],
          "scatterpolargl": [
           {
            "marker": {
             "colorbar": {
              "outlinewidth": 0,
              "ticks": ""
             }
            },
            "type": "scatterpolargl"
           }
          ],
          "scatterternary": [
           {
            "marker": {
             "colorbar": {
              "outlinewidth": 0,
              "ticks": ""
             }
            },
            "type": "scatterternary"
           }
          ],
          "surface": [
           {
            "colorbar": {
             "outlinewidth": 0,
             "ticks": ""
            },
            "colorscale": [
             [
              0,
              "#0d0887"
             ],
             [
              0.1111111111111111,
              "#46039f"
             ],
             [
              0.2222222222222222,
              "#7201a8"
             ],
             [
              0.3333333333333333,
              "#9c179e"
             ],
             [
              0.4444444444444444,
              "#bd3786"
             ],
             [
              0.5555555555555556,
              "#d8576b"
             ],
             [
              0.6666666666666666,
              "#ed7953"
             ],
             [
              0.7777777777777778,
              "#fb9f3a"
             ],
             [
              0.8888888888888888,
              "#fdca26"
             ],
             [
              1,
              "#f0f921"
             ]
            ],
            "type": "surface"
           }
          ],
          "table": [
           {
            "cells": {
             "fill": {
              "color": "#EBF0F8"
             },
             "line": {
              "color": "white"
             }
            },
            "header": {
             "fill": {
              "color": "#C8D4E3"
             },
             "line": {
              "color": "white"
             }
            },
            "type": "table"
           }
          ]
         },
         "layout": {
          "annotationdefaults": {
           "arrowcolor": "#2a3f5f",
           "arrowhead": 0,
           "arrowwidth": 1
          },
          "colorscale": {
           "diverging": [
            [
             0,
             "#8e0152"
            ],
            [
             0.1,
             "#c51b7d"
            ],
            [
             0.2,
             "#de77ae"
            ],
            [
             0.3,
             "#f1b6da"
            ],
            [
             0.4,
             "#fde0ef"
            ],
            [
             0.5,
             "#f7f7f7"
            ],
            [
             0.6,
             "#e6f5d0"
            ],
            [
             0.7,
             "#b8e186"
            ],
            [
             0.8,
             "#7fbc41"
            ],
            [
             0.9,
             "#4d9221"
            ],
            [
             1,
             "#276419"
            ]
           ],
           "sequential": [
            [
             0,
             "#0d0887"
            ],
            [
             0.1111111111111111,
             "#46039f"
            ],
            [
             0.2222222222222222,
             "#7201a8"
            ],
            [
             0.3333333333333333,
             "#9c179e"
            ],
            [
             0.4444444444444444,
             "#bd3786"
            ],
            [
             0.5555555555555556,
             "#d8576b"
            ],
            [
             0.6666666666666666,
             "#ed7953"
            ],
            [
             0.7777777777777778,
             "#fb9f3a"
            ],
            [
             0.8888888888888888,
             "#fdca26"
            ],
            [
             1,
             "#f0f921"
            ]
           ],
           "sequentialminus": [
            [
             0,
             "#0d0887"
            ],
            [
             0.1111111111111111,
             "#46039f"
            ],
            [
             0.2222222222222222,
             "#7201a8"
            ],
            [
             0.3333333333333333,
             "#9c179e"
            ],
            [
             0.4444444444444444,
             "#bd3786"
            ],
            [
             0.5555555555555556,
             "#d8576b"
            ],
            [
             0.6666666666666666,
             "#ed7953"
            ],
            [
             0.7777777777777778,
             "#fb9f3a"
            ],
            [
             0.8888888888888888,
             "#fdca26"
            ],
            [
             1,
             "#f0f921"
            ]
           ]
          },
          "colorway": [
           "#636efa",
           "#EF553B",
           "#00cc96",
           "#ab63fa",
           "#FFA15A",
           "#19d3f3",
           "#FF6692",
           "#B6E880",
           "#FF97FF",
           "#FECB52"
          ],
          "font": {
           "color": "#2a3f5f"
          },
          "geo": {
           "bgcolor": "white",
           "lakecolor": "white",
           "landcolor": "white",
           "showlakes": true,
           "showland": true,
           "subunitcolor": "#C8D4E3"
          },
          "hoverlabel": {
           "align": "left"
          },
          "hovermode": "closest",
          "mapbox": {
           "style": "light"
          },
          "paper_bgcolor": "white",
          "plot_bgcolor": "white",
          "polar": {
           "angularaxis": {
            "gridcolor": "#EBF0F8",
            "linecolor": "#EBF0F8",
            "ticks": ""
           },
           "bgcolor": "white",
           "radialaxis": {
            "gridcolor": "#EBF0F8",
            "linecolor": "#EBF0F8",
            "ticks": ""
           }
          },
          "scene": {
           "xaxis": {
            "backgroundcolor": "white",
            "gridcolor": "#DFE8F3",
            "gridwidth": 2,
            "linecolor": "#EBF0F8",
            "showbackground": true,
            "ticks": "",
            "zerolinecolor": "#EBF0F8"
           },
           "yaxis": {
            "backgroundcolor": "white",
            "gridcolor": "#DFE8F3",
            "gridwidth": 2,
            "linecolor": "#EBF0F8",
            "showbackground": true,
            "ticks": "",
            "zerolinecolor": "#EBF0F8"
           },
           "zaxis": {
            "backgroundcolor": "white",
            "gridcolor": "#DFE8F3",
            "gridwidth": 2,
            "linecolor": "#EBF0F8",
            "showbackground": true,
            "ticks": "",
            "zerolinecolor": "#EBF0F8"
           }
          },
          "shapedefaults": {
           "line": {
            "color": "#2a3f5f"
           }
          },
          "ternary": {
           "aaxis": {
            "gridcolor": "#DFE8F3",
            "linecolor": "#A2B1C6",
            "ticks": ""
           },
           "baxis": {
            "gridcolor": "#DFE8F3",
            "linecolor": "#A2B1C6",
            "ticks": ""
           },
           "bgcolor": "white",
           "caxis": {
            "gridcolor": "#DFE8F3",
            "linecolor": "#A2B1C6",
            "ticks": ""
           }
          },
          "title": {
           "x": 0.05
          },
          "xaxis": {
           "automargin": true,
           "gridcolor": "#EBF0F8",
           "linecolor": "#EBF0F8",
           "ticks": "",
           "zerolinecolor": "#EBF0F8",
           "zerolinewidth": 2
          },
          "yaxis": {
           "automargin": true,
           "gridcolor": "#EBF0F8",
           "linecolor": "#EBF0F8",
           "ticks": "",
           "zerolinecolor": "#EBF0F8",
           "zerolinewidth": 2
          }
         }
        },
        "title": {
         "text": "Growth Rate Dependent Cell Volume"
        },
        "xaxis": {
         "title": {
          "text": "Growth Rate (min<sup>-1</sup>)"
         }
        },
        "yaxis": {
         "exponentformat": "power",
         "title": {
          "text": "Cell Concentration "
         }
        }
       }
      },
      "text/html": [
       "<div>\n",
       "        \n",
       "        \n",
       "            <div id=\"d0cdf88e-6915-4ca8-8234-723f97192919\" class=\"plotly-graph-div\" style=\"height:525px; width:100%;\"></div>\n",
       "            <script type=\"text/javascript\">\n",
       "                require([\"plotly\"], function(Plotly) {\n",
       "                    window.PLOTLYENV=window.PLOTLYENV || {};\n",
       "                    \n",
       "                if (document.getElementById(\"d0cdf88e-6915-4ca8-8234-723f97192919\")) {\n",
       "                    Plotly.newPlot(\n",
       "                        'd0cdf88e-6915-4ca8-8234-723f97192919',\n",
       "                        [{\"line\": {\"color\": \"rgb(31, 119, 180)\"}, \"mode\": \"lines\", \"name\": \"Measurement\", \"type\": \"scatter\", \"x\": [0.0001, 0.0002, 0.00030000000000000003, 0.0004, 0.0005, 0.0006000000000000001, 0.0007000000000000001, 0.0008, 0.0009000000000000001, 0.001, 0.0011, 0.0012000000000000001, 0.0013000000000000002, 0.0014000000000000002, 0.0015, 0.0016, 0.0017000000000000001, 0.0018000000000000002, 0.0019000000000000002, 0.002, 0.0021, 0.0022, 0.0023, 0.0024, 0.0025, 0.0026, 0.0027, 0.0028, 0.0029, 0.003, 0.0031, 0.0032, 0.0033, 0.0034, 0.0035, 0.0036, 0.0037, 0.0038, 0.0039, 0.004, 0.0041, 0.004200000000000001, 0.004300000000000001, 0.0044, 0.0045000000000000005, 0.004600000000000001, 0.0047, 0.0048000000000000004, 0.004900000000000001, 0.005, 0.0051, 0.005200000000000001, 0.005300000000000001, 0.0054, 0.0055000000000000005, 0.005600000000000001, 0.0057, 0.0058000000000000005, 0.005900000000000001, 0.006, 0.0061, 0.006200000000000001, 0.006300000000000001, 0.0064, 0.006500000000000001, 0.006600000000000001, 0.0067, 0.0068000000000000005, 0.006900000000000001, 0.007000000000000001, 0.0071, 0.007200000000000001, 0.007300000000000001, 0.0074, 0.007500000000000001, 0.007600000000000001, 0.0077, 0.0078000000000000005, 0.0079, 0.008, 0.0081, 0.008199999999999999, 0.0083, 0.0084, 0.0085, 0.0086, 0.0087, 0.0088, 0.0089, 0.009, 0.0091, 0.0092, 0.0093, 0.0094, 0.0095, 0.0096, 0.0097, 0.0098, 0.009899999999999999, 0.01, 0.0101, 0.0102, 0.0103, 0.0104, 0.0105, 0.0106, 0.0107, 0.0108, 0.0109, 0.011, 0.0111, 0.0112, 0.0113, 0.0114, 0.0115, 0.0116, 0.0117, 0.0118, 0.011899999999999999, 0.012, 0.0121, 0.0122, 0.0123, 0.0124, 0.0125, 0.0126, 0.0127, 0.0128, 0.0129, 0.013, 0.0131, 0.0132, 0.0133, 0.0134, 0.0135, 0.0136, 0.0137, 0.0138, 0.013900000000000001, 0.014, 0.0141, 0.0142, 0.0143, 0.0144, 0.0145, 0.0146, 0.0147, 0.0148, 0.0149, 0.015, 0.0151, 0.0152, 0.0153, 0.0154, 0.0155, 0.0156, 0.015700000000000002, 0.0158, 0.0159, 0.016, 0.0161, 0.0162, 0.0163, 0.0164, 0.0165, 0.0166, 0.0167, 0.0168, 0.016900000000000002, 0.017, 0.0171, 0.0172, 0.0173, 0.0174, 0.0175, 0.0176, 0.0177, 0.0178, 0.0179, 0.018, 0.0181, 0.0182, 0.0183, 0.0184, 0.0185, 0.018600000000000002, 0.0187, 0.0188, 0.0189, 0.019, 0.0191, 0.019200000000000002, 0.0193, 0.0194, 0.0195, 0.0196, 0.0197, 0.0198, 0.0199, 0.02, 0.0201, 0.0202, 0.020300000000000002, 0.0204, 0.0205, 0.0206, 0.0207, 0.0208, 0.020900000000000002, 0.021, 0.0211, 0.0212, 0.0213, 0.0214, 0.021500000000000002, 0.0216, 0.0217, 0.0218, 0.0219, 0.022, 0.0221, 0.0222, 0.0223, 0.0224, 0.0225, 0.022600000000000002, 0.0227, 0.0228, 0.0229, 0.023, 0.0231, 0.023200000000000002, 0.0233, 0.0234, 0.0235, 0.0236, 0.0237, 0.0238, 0.0239, 0.024, 0.0241, 0.0242, 0.024300000000000002, 0.0244, 0.0245, 0.0246, 0.0247, 0.0248, 0.024900000000000002, 0.025, 0.0251, 0.0252, 0.0253, 0.0254, 0.025500000000000002, 0.0256, 0.0257, 0.0258, 0.0259, 0.026000000000000002, 0.0261, 0.0262, 0.0263, 0.0264, 0.0265, 0.026600000000000002, 0.0267, 0.0268, 0.0269, 0.027, 0.0271, 0.027200000000000002, 0.0273, 0.0274, 0.0275, 0.0276, 0.027700000000000002, 0.027800000000000002, 0.0279, 0.028, 0.0281, 0.0282, 0.028300000000000002, 0.0284, 0.0285, 0.0286, 0.0287, 0.0288, 0.028900000000000002, 0.029, 0.0291, 0.0292, 0.0293, 0.029400000000000003, 0.029500000000000002, 0.0296, 0.0297, 0.0298, 0.0299], \"y\": [2202588026.2469196, 2183348272.2874007, 2164491388.895683, 2146006253.7483573, 2127882172.0711918, 2110108856.2956784, 2092676406.8662386, 2075575294.1228564, 2058796341.1894941, 2042330707.8037455, 2026169875.0278683, 2010305630.7856593, 1994730056.173593, 1979435512.4982877, 1964414628.995742, 1949660291.190863, 1935165629.8586767, 1920924010.5512512, 1906929023.656789, 1893174474.9596121, 1879654376.671835, 1866362938.9094615, 1853294561.5874183, 1840443826.7096987, 1827805491.0323293, 1815374479.078293, 1803145876.484868, 1791114923.6650698, 1779277009.7660365, 1767627666.9082422, 1756162564.6904433, 1744877504.9461458, 1733768416.7382855, 1722831351.579572, 1712062478.8667285, 1701458081.5175374, 1691014551.8002567, 1680728387.3455944, 1670596187.331969, 1660614648.8353555, 1650780563.3354702, 1641090813.3705575, 1631542369.3334424, 1622132286.4019463, 1612857701.5971322, 1603715830.9632192, 1594703966.8633273, 1585819475.3855443, 1577059793.854103, 1568422428.4407265, 1559904951.8714726, 1551505001.2246544, 1543220275.8156445, 1535048535.1645849, 1526987597.043243, 1519035335.5974383, 1511189679.54165, 1503448610.4225872, 1495810160.9486747, 1488272413.3825455, 1480833497.9937913, 1473491591.5693488, 1466244915.9790342, 1459091736.7938578, 1452030361.9548683, 1445059140.4903839, 1438176461.2795675, 1431380751.860413, 1424670477.280281, 1418044138.9872327, 1411500273.760478, 1405037452.6783385, 1398654280.1221993, 1392349392.8149943, 1386121458.8928354, 1379969177.0084622, 1373891275.4652464, 1367886511.380542, 1361953669.8772302, 1356091563.302354, 1350299030.471793, 1344574935.939968, 1338918169.2936165, 1333327644.4687169, 1327802299.0896807, 1322341093.829974, 1316943011.7933562, 1311607057.9149714, 1306332258.3815475, 1301117660.0700002, 1295962330.003761, 1290865354.826184, 1285825840.290401, 1280842910.7650404, 1275915708.7552273, 1271043394.4383209, 1266225145.213865, 1261460155.2672436, 1256747635.1465564, 1252086811.3522537, 1247476925.9390829, 1242917236.1299136, 1238407013.9410367, 1233945545.818537, 1229532132.285362, 1225166087.5987217, 1220846739.4174664, 1216573428.479108, 1212345508.2861593, 1208162344.8014786, 1204023316.1523218, 1199927812.3428092, 1195875234.9745352, 1191864996.9750466, 1187896522.3339393, 1183969245.8463202, 1180082612.863396, 1176236079.0499651, 1172429110.1485817, 1168661181.750187, 1164931779.0709987, 1161240396.7354589, 1157586538.5650532, 1153969717.372814, 1150389454.7633312, 1146845280.938101, 1143336734.5060437, 1139863362.2990344, 1136424719.192293, 1133020367.9294808, 1129649878.952367, 1126312830.2349217, 1123008807.1217027, 1119737402.1704092, 1116498214.998479, 1113290852.1335995, 1110114926.8680336, 1106970059.116629, 1103855875.2784154, 1100772008.1016817, 1097718096.5524297, 1094693785.6861053, 1091698726.5225184, 1088732575.9238548, 1085794996.4756904, 1082885656.3709266, 1080004229.296562, 1077150394.3232162, 1074323835.7973368, 1071524243.2360032, 1068751311.2242649, 1066004739.314937, 1063284231.930787, 1060589498.2690471, 1057920252.208188, 1055276212.2168905, 1052657101.2651569, 1050062646.7375042, 1047492580.3481802, 1044946638.0583497, 1042424559.9951992, 1039926090.3729049, 1037450977.4154185, 1034998973.2810185, 1032569833.9885849, 1030163319.3455468, 1027779192.8774626, 1025417221.7591894, 1023077176.7475973, 1020758832.1157948, 1018461965.5888181, 1016186358.2807535, 1013931794.6332523, 1011698062.355403, 1009484952.3649287, 1007292258.730672, 1005119778.6163379, 1002967312.2254627, 1000834662.747576, 998721636.305529, 996628041.9039568, 994553691.3788505, 992498399.3482064, 990461983.163731, 988444262.8635724, 986445061.1260545, 984464203.2243893, 982501516.9823421, 980556832.7308302, 978629983.2654272, 976720803.8047572, 974829131.9497517, 972954807.6437535, 971097673.1334434, 969257572.9305744, 967434353.7744904, 965627864.595412, 963837956.4784753, 962064482.6284987, 960307298.3354673, 958566260.9407158, 956841229.8037926, 955132066.2699916, 953438633.6385354, 951760797.1313928, 950098423.8627225, 948451382.8089204, 946819544.7792622, 945202782.3871291, 943600970.0217971, 942013983.8207842, 940441701.6427385, 938884003.0408573, 937340769.2368258, 935811883.0952601, 934297229.0986497, 932796693.3227832, 931310163.4126482, 929837528.5587974, 928378679.4741663, 926933508.3713373, 925501908.9402373, 924083776.3262612, 922679007.108811, 921287499.280244, 919909152.2252172, 918543866.7004241, 917191544.8147125, 915852090.009577, 914525407.0400164, 913211401.9557518, 911909982.0827926, 910621056.00535, 909344533.548084, 908080325.7586821, 906828344.8907598, 905588504.3870783, 904360718.8630714, 903144904.0906774, 901940976.9824662, 900748855.5760602, 899568459.0188395, 898399707.5529273, 897242522.5004497, 896096826.2490656, 894962542.2377571, 893839594.942882, 892727909.8644767, 891627413.5128095, 890538033.3951762, 889459698.0029346, 888392336.7987741, 887335880.2042137, 886290259.5873266, 885255407.2506843, 884231256.4195188, 883217741.2300968, 882214796.718302, 881222358.808424, 880240364.3021454, 879268750.8677281, 878307457.0293932, 877356422.1568877, 876415586.4552425, 875484890.9547089, 874564277.5008779, 873653688.7449728, 872753068.1343192, 871862359.9029801, 870981509.0625626, 870110461.3931843, 869249163.434605, 868397562.4775139, 867555606.5549724, 866723244.4340117, 865900425.6073773, 865087100.2854239, 864283219.3881543, 863488734.5373994, 862703598.0491395, 861927762.9259641, 861161182.8496649, 860403812.1739624, 859655605.9173647, 858916519.7561536, 858186510.0174965, 857465533.6726857, 856753548.3304957, 856050512.2306647, 855356384.2374926, 854671123.8335553, 853994691.1135361, 853327046.7781656, 852668152.1282767, 852017969.0589672, 851376460.0538704, 850743588.1795304, 850119317.0798832, 849503610.9708407]}, {\"marker\": {\"color\": \"#d62728\", \"line\": {\"color\": \"DarkSlateGrey\", \"width\": 2}, \"size\": 12}, \"name\": \"Old Measurement\", \"type\": \"scatter\", \"x\": [0.011940187884731468], \"y\": [1170910196.425466]}],\n",
       "                        {\"annotations\": [{\"arrowhead\": 0, \"ax\": 0, \"ay\": 0, \"font\": {\"color\": \"#d62728\"}, \"showarrow\": false, \"text\": \"(0.0119, 0.8x10<sup>9</sup>)\", \"x\": 0.008886502314871094, \"xref\": \"x\", \"y\": 1170910196.425466, \"yref\": \"y\"}], \"showlegend\": false, \"template\": {\"data\": {\"bar\": [{\"error_x\": {\"color\": \"#2a3f5f\"}, \"error_y\": {\"color\": \"#2a3f5f\"}, \"marker\": {\"line\": {\"color\": \"white\", \"width\": 0.5}}, \"type\": \"bar\"}], \"barpolar\": [{\"marker\": {\"line\": {\"color\": \"white\", \"width\": 0.5}}, \"type\": \"barpolar\"}], \"carpet\": [{\"aaxis\": {\"endlinecolor\": \"#2a3f5f\", \"gridcolor\": \"#C8D4E3\", \"linecolor\": \"#C8D4E3\", \"minorgridcolor\": \"#C8D4E3\", \"startlinecolor\": \"#2a3f5f\"}, \"baxis\": {\"endlinecolor\": \"#2a3f5f\", \"gridcolor\": \"#C8D4E3\", \"linecolor\": \"#C8D4E3\", \"minorgridcolor\": \"#C8D4E3\", \"startlinecolor\": \"#2a3f5f\"}, \"type\": \"carpet\"}], \"choropleth\": [{\"colorbar\": {\"outlinewidth\": 0, \"ticks\": \"\"}, \"type\": \"choropleth\"}], \"contour\": [{\"colorbar\": {\"outlinewidth\": 0, \"ticks\": \"\"}, \"colorscale\": [[0.0, \"#0d0887\"], [0.1111111111111111, \"#46039f\"], [0.2222222222222222, \"#7201a8\"], [0.3333333333333333, \"#9c179e\"], [0.4444444444444444, \"#bd3786\"], [0.5555555555555556, \"#d8576b\"], [0.6666666666666666, \"#ed7953\"], [0.7777777777777778, \"#fb9f3a\"], [0.8888888888888888, \"#fdca26\"], [1.0, \"#f0f921\"]], \"type\": \"contour\"}], \"contourcarpet\": [{\"colorbar\": {\"outlinewidth\": 0, \"ticks\": \"\"}, \"type\": \"contourcarpet\"}], \"heatmap\": [{\"colorbar\": {\"outlinewidth\": 0, \"ticks\": \"\"}, \"colorscale\": [[0.0, \"#0d0887\"], [0.1111111111111111, \"#46039f\"], [0.2222222222222222, \"#7201a8\"], [0.3333333333333333, \"#9c179e\"], [0.4444444444444444, \"#bd3786\"], [0.5555555555555556, \"#d8576b\"], [0.6666666666666666, \"#ed7953\"], [0.7777777777777778, \"#fb9f3a\"], [0.8888888888888888, \"#fdca26\"], [1.0, \"#f0f921\"]], \"type\": \"heatmap\"}], \"heatmapgl\": [{\"colorbar\": {\"outlinewidth\": 0, \"ticks\": \"\"}, \"colorscale\": [[0.0, \"#0d0887\"], [0.1111111111111111, \"#46039f\"], [0.2222222222222222, \"#7201a8\"], [0.3333333333333333, \"#9c179e\"], [0.4444444444444444, \"#bd3786\"], [0.5555555555555556, \"#d8576b\"], [0.6666666666666666, \"#ed7953\"], [0.7777777777777778, \"#fb9f3a\"], [0.8888888888888888, \"#fdca26\"], [1.0, \"#f0f921\"]], \"type\": \"heatmapgl\"}], \"histogram\": [{\"marker\": {\"colorbar\": {\"outlinewidth\": 0, \"ticks\": \"\"}}, \"type\": \"histogram\"}], \"histogram2d\": [{\"colorbar\": {\"outlinewidth\": 0, \"ticks\": \"\"}, \"colorscale\": [[0.0, \"#0d0887\"], [0.1111111111111111, \"#46039f\"], [0.2222222222222222, \"#7201a8\"], [0.3333333333333333, \"#9c179e\"], [0.4444444444444444, \"#bd3786\"], [0.5555555555555556, \"#d8576b\"], [0.6666666666666666, \"#ed7953\"], [0.7777777777777778, \"#fb9f3a\"], [0.8888888888888888, \"#fdca26\"], [1.0, \"#f0f921\"]], \"type\": \"histogram2d\"}], \"histogram2dcontour\": [{\"colorbar\": {\"outlinewidth\": 0, \"ticks\": \"\"}, \"colorscale\": [[0.0, \"#0d0887\"], [0.1111111111111111, \"#46039f\"], [0.2222222222222222, \"#7201a8\"], [0.3333333333333333, \"#9c179e\"], [0.4444444444444444, \"#bd3786\"], [0.5555555555555556, \"#d8576b\"], [0.6666666666666666, \"#ed7953\"], [0.7777777777777778, \"#fb9f3a\"], [0.8888888888888888, \"#fdca26\"], [1.0, \"#f0f921\"]], \"type\": \"histogram2dcontour\"}], \"mesh3d\": [{\"colorbar\": {\"outlinewidth\": 0, \"ticks\": \"\"}, \"type\": \"mesh3d\"}], \"parcoords\": [{\"line\": {\"colorbar\": {\"outlinewidth\": 0, \"ticks\": \"\"}}, \"type\": \"parcoords\"}], \"scatter\": [{\"marker\": {\"colorbar\": {\"outlinewidth\": 0, \"ticks\": \"\"}}, \"type\": \"scatter\"}], \"scatter3d\": [{\"line\": {\"colorbar\": {\"outlinewidth\": 0, \"ticks\": \"\"}}, \"marker\": {\"colorbar\": {\"outlinewidth\": 0, \"ticks\": \"\"}}, \"type\": \"scatter3d\"}], \"scattercarpet\": [{\"marker\": {\"colorbar\": {\"outlinewidth\": 0, \"ticks\": \"\"}}, \"type\": \"scattercarpet\"}], \"scattergeo\": [{\"marker\": {\"colorbar\": {\"outlinewidth\": 0, \"ticks\": \"\"}}, \"type\": \"scattergeo\"}], \"scattergl\": [{\"marker\": {\"colorbar\": {\"outlinewidth\": 0, \"ticks\": \"\"}}, \"type\": \"scattergl\"}], \"scattermapbox\": [{\"marker\": {\"colorbar\": {\"outlinewidth\": 0, \"ticks\": \"\"}}, \"type\": \"scattermapbox\"}], \"scatterpolar\": [{\"marker\": {\"colorbar\": {\"outlinewidth\": 0, \"ticks\": \"\"}}, \"type\": \"scatterpolar\"}], \"scatterpolargl\": [{\"marker\": {\"colorbar\": {\"outlinewidth\": 0, \"ticks\": \"\"}}, \"type\": \"scatterpolargl\"}], \"scatterternary\": [{\"marker\": {\"colorbar\": {\"outlinewidth\": 0, \"ticks\": \"\"}}, \"type\": \"scatterternary\"}], \"surface\": [{\"colorbar\": {\"outlinewidth\": 0, \"ticks\": \"\"}, \"colorscale\": [[0.0, \"#0d0887\"], [0.1111111111111111, \"#46039f\"], [0.2222222222222222, \"#7201a8\"], [0.3333333333333333, \"#9c179e\"], [0.4444444444444444, \"#bd3786\"], [0.5555555555555556, \"#d8576b\"], [0.6666666666666666, \"#ed7953\"], [0.7777777777777778, \"#fb9f3a\"], [0.8888888888888888, \"#fdca26\"], [1.0, \"#f0f921\"]], \"type\": \"surface\"}], \"table\": [{\"cells\": {\"fill\": {\"color\": \"#EBF0F8\"}, \"line\": {\"color\": \"white\"}}, \"header\": {\"fill\": {\"color\": \"#C8D4E3\"}, \"line\": {\"color\": \"white\"}}, \"type\": \"table\"}]}, \"layout\": {\"annotationdefaults\": {\"arrowcolor\": \"#2a3f5f\", \"arrowhead\": 0, \"arrowwidth\": 1}, \"colorscale\": {\"diverging\": [[0, \"#8e0152\"], [0.1, \"#c51b7d\"], [0.2, \"#de77ae\"], [0.3, \"#f1b6da\"], [0.4, \"#fde0ef\"], [0.5, \"#f7f7f7\"], [0.6, \"#e6f5d0\"], [0.7, \"#b8e186\"], [0.8, \"#7fbc41\"], [0.9, \"#4d9221\"], [1, \"#276419\"]], \"sequential\": [[0.0, \"#0d0887\"], [0.1111111111111111, \"#46039f\"], [0.2222222222222222, \"#7201a8\"], [0.3333333333333333, \"#9c179e\"], [0.4444444444444444, \"#bd3786\"], [0.5555555555555556, \"#d8576b\"], [0.6666666666666666, \"#ed7953\"], [0.7777777777777778, \"#fb9f3a\"], [0.8888888888888888, \"#fdca26\"], [1.0, \"#f0f921\"]], \"sequentialminus\": [[0.0, \"#0d0887\"], [0.1111111111111111, \"#46039f\"], [0.2222222222222222, \"#7201a8\"], [0.3333333333333333, \"#9c179e\"], [0.4444444444444444, \"#bd3786\"], [0.5555555555555556, \"#d8576b\"], [0.6666666666666666, \"#ed7953\"], [0.7777777777777778, \"#fb9f3a\"], [0.8888888888888888, \"#fdca26\"], [1.0, \"#f0f921\"]]}, \"colorway\": [\"#636efa\", \"#EF553B\", \"#00cc96\", \"#ab63fa\", \"#FFA15A\", \"#19d3f3\", \"#FF6692\", \"#B6E880\", \"#FF97FF\", \"#FECB52\"], \"font\": {\"color\": \"#2a3f5f\"}, \"geo\": {\"bgcolor\": \"white\", \"lakecolor\": \"white\", \"landcolor\": \"white\", \"showlakes\": true, \"showland\": true, \"subunitcolor\": \"#C8D4E3\"}, \"hoverlabel\": {\"align\": \"left\"}, \"hovermode\": \"closest\", \"mapbox\": {\"style\": \"light\"}, \"paper_bgcolor\": \"white\", \"plot_bgcolor\": \"white\", \"polar\": {\"angularaxis\": {\"gridcolor\": \"#EBF0F8\", \"linecolor\": \"#EBF0F8\", \"ticks\": \"\"}, \"bgcolor\": \"white\", \"radialaxis\": {\"gridcolor\": \"#EBF0F8\", \"linecolor\": \"#EBF0F8\", \"ticks\": \"\"}}, \"scene\": {\"xaxis\": {\"backgroundcolor\": \"white\", \"gridcolor\": \"#DFE8F3\", \"gridwidth\": 2, \"linecolor\": \"#EBF0F8\", \"showbackground\": true, \"ticks\": \"\", \"zerolinecolor\": \"#EBF0F8\"}, \"yaxis\": {\"backgroundcolor\": \"white\", \"gridcolor\": \"#DFE8F3\", \"gridwidth\": 2, \"linecolor\": \"#EBF0F8\", \"showbackground\": true, \"ticks\": \"\", \"zerolinecolor\": \"#EBF0F8\"}, \"zaxis\": {\"backgroundcolor\": \"white\", \"gridcolor\": \"#DFE8F3\", \"gridwidth\": 2, \"linecolor\": \"#EBF0F8\", \"showbackground\": true, \"ticks\": \"\", \"zerolinecolor\": \"#EBF0F8\"}}, \"shapedefaults\": {\"line\": {\"color\": \"#2a3f5f\"}}, \"ternary\": {\"aaxis\": {\"gridcolor\": \"#DFE8F3\", \"linecolor\": \"#A2B1C6\", \"ticks\": \"\"}, \"baxis\": {\"gridcolor\": \"#DFE8F3\", \"linecolor\": \"#A2B1C6\", \"ticks\": \"\"}, \"bgcolor\": \"white\", \"caxis\": {\"gridcolor\": \"#DFE8F3\", \"linecolor\": \"#A2B1C6\", \"ticks\": \"\"}}, \"title\": {\"x\": 0.05}, \"xaxis\": {\"automargin\": true, \"gridcolor\": \"#EBF0F8\", \"linecolor\": \"#EBF0F8\", \"ticks\": \"\", \"zerolinecolor\": \"#EBF0F8\", \"zerolinewidth\": 2}, \"yaxis\": {\"automargin\": true, \"gridcolor\": \"#EBF0F8\", \"linecolor\": \"#EBF0F8\", \"ticks\": \"\", \"zerolinecolor\": \"#EBF0F8\", \"zerolinewidth\": 2}}}, \"title\": {\"text\": \"Growth Rate Dependent Cell Volume\"}, \"xaxis\": {\"title\": {\"text\": \"Growth Rate (min<sup>-1</sup>)\"}}, \"yaxis\": {\"exponentformat\": \"power\", \"title\": {\"text\": \"Cell Concentration \"}}},\n",
       "                        {\"responsive\": true}\n",
       "                    ).then(function(){\n",
       "                            \n",
       "var gd = document.getElementById('d0cdf88e-6915-4ca8-8234-723f97192919');\n",
       "var x = new MutationObserver(function (mutations, observer) {{\n",
       "        var display = window.getComputedStyle(gd).display;\n",
       "        if (!display || display === 'none') {{\n",
       "            console.log([gd, 'removed!']);\n",
       "            Plotly.purge(gd);\n",
       "            observer.disconnect();\n",
       "        }}\n",
       "}});\n",
       "\n",
       "// Listen for the removal of the full notebook cells\n",
       "var notebookContainer = gd.closest('#notebook-container');\n",
       "if (notebookContainer) {{\n",
       "    x.observe(notebookContainer, {childList: true});\n",
       "}}\n",
       "\n",
       "// Listen for the clearing of the current output cell\n",
       "var outputEl = gd.closest('.output');\n",
       "if (outputEl) {{\n",
       "    x.observe(outputEl, {childList: true});\n",
       "}}\n",
       "\n",
       "                        })\n",
       "                };\n",
       "                });\n",
       "            </script>\n",
       "        </div>"
      ]
     },
     "metadata": {},
     "output_type": "display_data"
    }
   ],
   "source": [
    "dt_min = np.arange(0.0001, 0.03, 0.0001)\n",
    "results = []\n",
    "for i in dt_min:\n",
    "    results.append(onlyVolkmer(i)) \n",
    "    \n",
    "trace = go.Scatter(\n",
    "    name='Measurement',\n",
    "    x=dt_min,\n",
    "    y=results,\n",
    "    mode='lines',\n",
    "    line=dict(color='rgb(31, 119, 180)'))\n",
    "\n",
    "trace1 = go.Scatter(\n",
    "    name='Old Measurement',\n",
    "    x=[np.log(2)/58.0516142],\n",
    "    y=[onlyVolkmer(np.log(2)/58.0516142)],\n",
    "    marker=dict(size=12, \n",
    "                color='#d62728',\n",
    "                line=dict(width=2,\n",
    "                    color='DarkSlateGrey'\n",
    "                    )\n",
    "                )\n",
    "    )\n",
    "\n",
    "# Trace order can be important\n",
    "# with continuous error bars\n",
    "data = [trace, trace1]\n",
    "\n",
    "layout = go.Layout(\n",
    "    xaxis=dict(title='Growth Rate (min<sup>-1</sup>)'),\n",
    "    yaxis=dict(title='Cell Concentration ', exponentformat = 'power'),\n",
    "    title='Growth Rate Dependent Cell Volume',\n",
    "    showlegend = False,\n",
    "    template='plotly_white'\n",
    ")\n",
    "\n",
    "fig = go.Figure(data=data, layout=layout)\n",
    "\n",
    "fig.update_layout(\n",
    "    annotations=[\n",
    "        go.layout.Annotation(\n",
    "            x=np.log(2)/78,\n",
    "            y=onlyVolkmer(np.log(2)/58.0516142),\n",
    "            xref=\"x\",\n",
    "            yref=\"y\",\n",
    "            text=\"({0:.4f}, 0.8x10<sup>9</sup>)\".format(np.log(2)/58.0516142),\n",
    "            showarrow=False,\n",
    "            arrowhead=0,\n",
    "            ax=0,\n",
    "            ay=0,\n",
    "            font=dict(\n",
    "                color=\"#d62728\"\n",
    "            )\n",
    "        )\n",
    "    ]\n",
    ")\n",
    "\n",
    "iplot(fig, filename='pandas-continuous-error-bars')"
   ]
  },
  {
   "cell_type": "code",
   "execution_count": 49,
   "metadata": {},
   "outputs": [],
   "source": [
    "plotly.io.write_image(fig,'volkmer_cell_concentration_gr_min.png' , width=1200, height=800)"
   ]
  },
  {
   "cell_type": "code",
   "execution_count": 77,
   "metadata": {},
   "outputs": [],
   "source": [
    "########################################################\n",
    "############# both Volkmer et al. and our method #######\n",
    "########################################################"
   ]
  },
  {
   "cell_type": "code",
   "execution_count": 2,
   "metadata": {},
   "outputs": [],
   "source": [
    "def ageDistFunc(a):\n",
    " return 2.0*np.log(2.0)*np.exp(-a*np.log(2))"
   ]
  },
  {
   "cell_type": "code",
   "execution_count": 3,
   "metadata": {},
   "outputs": [],
   "source": [
    "age_array = np.arange(0.0, 1.0, 0.0001)\n",
    "weights = {}\n",
    "for i in age_array:\n",
    "    weights[i] = integrate.quad(ageDistFunc, i, i+0.0001)[0]"
   ]
  },
  {
   "cell_type": "code",
   "execution_count": 4,
   "metadata": {},
   "outputs": [],
   "source": [
    "def onlyVolkmer(dt_min):\n",
    "    dt_min = dt_min\n",
    "    gr_min = np.log(2)/dt_min\n",
    "    dt_h = dt_min/60.0\n",
    "    gr_h = np.log(2)/dt_h\n",
    "    return (3.6*10.0**9.0)/(-0.53*gr_h**2.0 + 2.41*gr_h + 1.62)"
   ]
  },
  {
   "cell_type": "code",
   "execution_count": 9,
   "metadata": {},
   "outputs": [
    {
     "data": {
      "application/vnd.plotly.v1+json": {
       "config": {
        "linkText": "Export to plot.ly",
        "plotlyServerURL": "https://plot.ly",
        "showLink": false
       },
       "data": [
        {
         "line": {
          "color": "#2ca02c",
          "dash": "dash"
         },
         "mode": "lines",
         "name": "Volkmer et al.",
         "type": "scatter",
         "x": [
          20,
          21,
          22,
          23,
          24,
          25,
          26,
          27,
          28,
          29,
          30,
          31,
          32,
          33,
          34,
          35,
          36,
          37,
          38,
          39,
          40,
          41,
          42,
          43,
          44,
          45,
          46,
          47,
          48,
          49,
          50,
          51,
          52,
          53,
          54,
          55,
          56,
          57,
          58,
          59,
          60,
          61,
          62,
          63,
          64,
          65,
          66,
          67,
          68,
          69,
          70,
          71,
          72,
          73,
          74,
          75,
          76,
          77,
          78,
          79,
          80,
          81,
          82,
          83,
          84,
          85,
          86,
          87,
          88,
          89,
          90,
          91,
          92,
          93,
          94,
          95,
          96,
          97,
          98,
          99,
          100,
          101,
          102,
          103,
          104,
          105,
          106,
          107,
          108,
          109,
          110,
          111,
          112,
          113,
          114,
          115,
          116,
          117,
          118,
          119,
          120,
          121,
          122,
          123,
          124,
          125,
          126,
          127,
          128,
          129,
          130,
          131,
          132,
          133,
          134,
          135,
          136,
          137,
          138,
          139,
          140,
          141,
          142,
          143,
          144,
          145,
          146,
          147,
          148,
          149,
          150,
          151,
          152,
          153,
          154,
          155,
          156,
          157,
          158,
          159,
          160,
          161,
          162,
          163,
          164,
          165,
          166,
          167,
          168,
          169,
          170,
          171,
          172,
          173,
          174,
          175,
          176,
          177,
          178,
          179,
          180,
          181,
          182,
          183,
          184,
          185,
          186,
          187,
          188,
          189,
          190,
          191,
          192,
          193,
          194,
          195,
          196,
          197,
          198,
          199,
          200,
          201,
          202,
          203,
          204,
          205,
          206,
          207,
          208,
          209,
          210,
          211,
          212,
          213,
          214,
          215,
          216,
          217,
          218,
          219,
          220,
          221,
          222,
          223,
          224,
          225,
          226,
          227,
          228,
          229,
          230,
          231,
          232,
          233,
          234,
          235,
          236,
          237,
          238,
          239,
          240,
          241,
          242,
          243,
          244,
          245,
          246,
          247,
          248,
          249
         ],
         "y": [
          829551722.1353077,
          834469376.3065442,
          840758059.0993403,
          848079369.5755911,
          856182474.3524698,
          864878093.8180232,
          874021209.8100955,
          883499266.0320364,
          893223929.7558651,
          903125222.3053966,
          913147261.2338098,
          923245121.4881184,
          933382487.719669,
          943529875.2014649,
          953663265.5379359,
          963763049.092473,
          973813197.0478041,
          983800607.355964,
          993714583.753894,
          1003546417.5953202,
          1013289049.8410825,
          1022936796.064981,
          1032485121.38288,
          1041930455.2187433,
          1051270038.073421,
          1060501794.1646211,
          1069624225.1045693,
          1078636320.779379,
          1087537484.3664424,
          1096327469.0283213,
          1105006324.2942142,
          1113574350.5133913,
          1122032060.0615854,
          1130380144.2183273,
          1138619444.8236213,
          1146750929.9760954,
          1154775673.1594927,
          1162694835.2860675,
          1170509649.228687,
          1178221406.4818938,
          1185831445.6486816,
          1193341142.4965558,
          1200751901.365389,
          1208065147.7420778,
          1215282321.844222,
          1222404873.0779028,
          1229434255.2539084,
          1236371922.4630225,
          1243219325.5248058,
          1249977908.9360101,
          1256649108.254763,
          1263234347.8651938,
          1269735039.0744753,
          1276152578.500523,
          1282488346.7139902,
          1288743707.1028385,
          1294920004.9317808,
          1301018566.5723615,
          1307040698.8824477,
          1312987688.7165298,
          1318860802.5504816,
          1324661286.206436,
          1330390364.665141,
          1336049241.954685,
          1341639101.105791,
          1347161104.1650538,
          1352616392.2584906,
          1358006085.6986916,
          1363331284.129626,
          1368593066.70386,
          1373792492.2875512,
          1378930599.6891217,
          1384008407.9079962,
          1389026916.400194,
          1393987105.3579607,
          1398889936.000932,
          1403736350.8766336,
          1408527274.1683638,
          1413263612.0087516,
          1417946252.7974713,
          1422576067.5217903,
          1427153910.0787804,
          1431680617.5981665,
          1436157010.7649157,
          1440583894.1407871,
          1444962056.4841537,
          1449292271.067509,
          1453575295.992143,
          1457811874.4995456,
          1462002735.2791634,
          1466148592.772179,
          1470250147.4710543,
          1474308086.214596,
          1478323082.4783676,
          1482295796.6602874,
          1486226876.3612964,
          1490116956.6609983,
          1493966660.3882036,
          1497776598.3863306,
          1501547369.7736354,
          1505279562.198255,
          1508973752.0880728,
          1512630504.8954132,
          1516250375.336604,
          1519833907.6264327,
          1523381635.7075486,
          1526894083.4748633,
          1530371764.9950058,
          1533815184.7209013,
          1537224837.7015386,
          1540601209.787004,
          1543944777.8288562,
          1547256009.875919,
          1550535365.3655798,
          1553783295.3106697,
          1557000242.4820118,
          1560186641.5867283,
          1563342919.4423828,
          1566469495.1470485,
          1569566780.2453928,
          1572635178.8908522,
          1575675088.0039966,
          1578686897.427155,
          1581670990.0753975,
          1584627742.0839484,
          1587557522.9521165,
          1590460695.683824,
          1593337616.924812,
          1596188637.0966,
          1599014100.5272846,
          1601814345.5792394,
          1604589704.7738056,
          1607340504.9130373,
          1610067067.1985765,
          1612769707.3477244,
          1615448735.7067873,
          1618104457.3617518,
          1620737172.2463677,
          1623347175.247691,
          1625934756.3091626,
          1628500200.531274,
          1631043788.2698863,
          1633565795.232257,
          1636066492.5708377,
          1638546146.9748936,
          1641005020.7600007,
          1643443371.955475,
          1645861454.389787,
          1648259517.774007,
          1650637807.7833378,
          1652996566.1367767,
          1655336030.6749578,
          1657656435.4362192,
          1659958010.730938,
          1662240983.214178,
          1664505575.9566963,
          1666752008.51434,
          1668980496.9958842,
          1671191254.1293442,
          1673384489.3268003,
          1675560408.747774,
          1677719215.3611915,
          1679861109.005969,
          1681986286.4502544,
          1684094941.449357,
          1686187264.8024027,
          1688263444.4077382,
          1690323665.3171253,
          1692368109.7887428,
          1694396957.3390393,
          1696410384.7934523,
          1698408566.3360288,
          1700391673.5579736,
          1702359875.5051477,
          1704313338.7245479,
          1706252227.309787,
          1708176702.9456027,
          1710086924.951416,
          1711983050.3239646,
          1713865233.7790325,
          1715733627.792294,
          1717588382.6393015,
          1719429646.4346302,
          1721257565.1702008,
          1723072282.7528052,
          1724873941.0408466,
          1726662679.8803189,
          1728438637.1400392,
          1730201948.7461529,
          1731952748.7159297,
          1733691169.1908624,
          1735417340.4690924,
          1737131391.037168,
          1738833447.6011624,
          1740523635.1171556,
          1742202076.8211002,
          1743868894.2580876,
          1745524207.3110218,
          1747168134.2287211,
          1748800791.653455,
          1750422294.647935,
          1752032756.7217672,
          1753632289.8573813,
          1755221004.5354455,
          1756799009.7597828,
          1758366413.0817974,
          1759923320.6244211,
          1761469837.105594,
          1763006065.8612857,
          1764532108.8680718,
          1766048066.7652712,
          1767554038.8766587,
          1769050123.2317555,
          1770536416.5867162,
          1772013014.4448118,
          1773480011.0765238,
          1774937499.5392566,
          1776385571.6966743,
          1777824318.2376733,
          1779253828.6949952,
          1780674191.4634917,
          1782085493.8180463,
          1783487821.931159,
          1784881260.890207,
          1786265894.7143812,
          1787641806.3713095,
          1789009077.793374,
          1790367789.8937259,
          1791718022.582007,
          1793059854.7797825
         ]
        },
        {
         "line": {
          "width": 0
         },
         "marker": {
          "color": "#444"
         },
         "mode": "lines",
         "name": "Lower Bound",
         "showlegend": false,
         "type": "scatter",
         "x": [
          20,
          21,
          22,
          23,
          24,
          25,
          26,
          27,
          28,
          29,
          30,
          31,
          32,
          33,
          34,
          35,
          36,
          37,
          38,
          39,
          40,
          41,
          42,
          43,
          44,
          45,
          46,
          47,
          48,
          49,
          50,
          51,
          52,
          53,
          54,
          55,
          56,
          57,
          58,
          59,
          60,
          61,
          62,
          63,
          64,
          65,
          66,
          67,
          68,
          69,
          70,
          71,
          72,
          73,
          74,
          75,
          76,
          77,
          78,
          79,
          80,
          81,
          82,
          83,
          84,
          85,
          86,
          87,
          88,
          89,
          90,
          91,
          92,
          93,
          94,
          95,
          96,
          97,
          98,
          99,
          100,
          101,
          102,
          103,
          104,
          105,
          106,
          107,
          108,
          109,
          110,
          111,
          112,
          113,
          114,
          115,
          116,
          117,
          118,
          119,
          120,
          121,
          122,
          123,
          124,
          125,
          126,
          127,
          128,
          129,
          130,
          131,
          132,
          133,
          134,
          135,
          136,
          137,
          138,
          139,
          140,
          141,
          142,
          143,
          144,
          145,
          146,
          147,
          148,
          149,
          150,
          151,
          152,
          153,
          154,
          155,
          156,
          157,
          158,
          159,
          160,
          161,
          162,
          163,
          164,
          165,
          166,
          167,
          168,
          169,
          170,
          171,
          172,
          173,
          174,
          175,
          176,
          177,
          178,
          179,
          180,
          181,
          182,
          183,
          184,
          185,
          186,
          187,
          188,
          189,
          190,
          191,
          192,
          193,
          194,
          195,
          196,
          197,
          198,
          199,
          200,
          201,
          202,
          203,
          204,
          205,
          206,
          207,
          208,
          209,
          210,
          211,
          212,
          213,
          214,
          215,
          216,
          217,
          218,
          219,
          220,
          221,
          222,
          223,
          224,
          225,
          226,
          227,
          228,
          229,
          230,
          231,
          232,
          233,
          234,
          235,
          236,
          237,
          238,
          239,
          240,
          241,
          242,
          243,
          244,
          245,
          246,
          247,
          248,
          249
         ],
         "y": [
          138230705.77918297,
          155285548.93178108,
          172585043.77774382,
          190029249.02800208,
          207530987.4612594,
          225014818.03153637,
          242415950.07764256,
          259679161.28073844,
          276757757.2863041,
          293612595.1159774,
          310211182.03101796,
          326526854.6146027,
          342538038.345488,
          358227585.0655831,
          373582183.9822485,
          388591840.8449028,
          403249419.4568803,
          417550239.5618915,
          431491725.2628252,
          445073098.40513414,
          458295111.7272906,
          471159817.003216,
          483670363.84518516,
          495830825.2786693,
          507646046.62816536,
          519121514.6557218,
          530263244.26596516,
          541077680.4301922,
          551571613.2867689,
          561752104.6463758,
          571626424.3701892,
          581201995.2991228,
          590486345.5952903,
          599487067.5155699,
          608211781.7741946,
          616668106.7691926,
          624863632.0486491,
          632805895.4793388,
          640502363.6542404,
          647960415.1385899,
          655187326.2079575,
          662190258.7777694,
          668976250.2628483,
          675552205.1390125,
          681924888.0073589,
          688100917.986354,
          694086764.2778795,
          699888742.771482,
          705513013.5666956,
          710965579.3068379,
          716252284.2294408,
          721378813.8487475,
          726350695.1946819,
          731173297.5406222,
          735851833.5592675,
          740391360.8520926,
          744796783.8033729,
          749072855.714689,
          753224181.1802115,
          757255218.6670275,
          761170283.2683314,
          764973549.6005205,
          768669054.8181549,
          772260701.7233732,
          775752261.9487646,
          779147379.194872,
          782449572.5054909,
          785662239.5657364,
          788788660.0094938,
          791831998.7243743,
          794795309.1436626,
          797681536.5159856,
          800493521.1445743,
          803234001.5890114,
          805905617.8233029,
          808510914.3449627,
          811052343.230572,
          813532267.133967,
          815952962.2238609,
          818316621.0582547,
          820625355.3935276,
          822881198.9265451,
          825086109.9685552,
          827241974.0499954,
          829350606.455694,
          831413754.6902149,
          833433100.8733807,
          835410264.0662378,
          837346802.5279157,
          839244215.9040381,
          841103947.347478,
          842927385.5723957,
          844715866.8426068,
          846470676.8954419,
          848193052.8023199,
          849884184.7673469,
          851545217.8652995,
          853177253.7203965,
          854781352.1273035,
          856358532.6158332,
          857909775.9608269,
          859436025.6387182,
          860938189.2322632,
          862417139.7849568,
          863873717.1065968,
          865308729.0315073,
          866722952.6308526,
          868117135.3805194,
          869491996.2859619,
          870848226.9654374,
          872186492.692987,
          873507433.4025224,
          874811664.6543294,
          876099778.5652835,
          877372344.7040293,
          878629910.9523561,
          879873004.3339574,
          881102131.8117416,
          882317781.05482,
          883520421.1762683,
          884710503.4427261,
          885888461.9568712,
          887054714.3137541,
          888209662.2319808,
          889353692.160662,
          890487175.8630474,
          891610470.9777122,
          892723921.5581532,
          893827858.591598,
          894922600.4978278,
          896008453.6087714,
          897085712.6296026,
          898154661.0820546,
          899215571.73063,
          900268706.9923677,
          901314319.330797,
          902352651.6346962,
          903383937.5822375,
          904408401.9910865,
          905426261.1550038,
          906437723.1674691,
          907442988.2328395,
          908442248.9655156,
          909435690.6775967,
          910423491.6554618,
          911405823.4257177,
          912382851.0109226,
          913354733.1754874,
          914321622.6621416,
          915283666.4193213,
          916241005.8198493,
          917193776.8712344,
          918142110.4179261,
          919086132.3358325,
          920025963.7194064,
          920961721.0615945,
          921893516.4269161,
          922821457.6179525,
          923745648.335495,
          924666188.3326048,
          925583173.5628133,
          926496696.3227048,
          927406845.3890846,
          928313706.1509533,
          929217360.7364867,
          930117888.1352123,
          931015364.3155725,
          931909862.3380507,
          932801452.4640328,
          933690202.2605692,
          934576176.701197,
          935459438.26297,
          936340047.0198486,
          937218060.732586,
          938093534.935247,
          938966523.0184859,
          939837076.3097144,
          940705244.1502714,
          941571073.9697149,
          942434611.3573425,
          943295900.1310503,
          944154982.4036254,
          945011898.6465797,
          945866687.7516079,
          946719387.0897655,
          947570032.5684583,
          948418658.6863124,
          949265298.5860229,
          950109984.1052389,
          950952745.8255777,
          951793613.1198236,
          952632614.1973885,
          953469776.1480975,
          954305124.9843594,
          955138685.6817894,
          955970482.2183349,
          956800537.6119635,
          957628873.9569726,
          958455512.4589581,
          959280473.4685075,
          960103776.5136557,
          960925440.3311522,
          961745482.8965843,
          962563921.4533963,
          963380772.5408511,
          964196052.0209668,
          965009775.1044694,
          965821956.3757997,
          966632609.8172058,
          967441748.8319563,
          968249386.2667068,
          969055534.4330533,
          969860205.1282939,
          970663409.655441,
          971465158.8424975,
          972265463.061034,
          973064332.2440913,
          973861775.9034228,
          974657803.1461191,
          975452422.6906167,
          976245642.8821325,
          977037471.7075276,
          977827916.8096367,
          978616985.5010686,
          979404684.7775095,
          980191021.3305355,
          980976001.5599623,
          981759631.5857409,
          982541917.2594213,
          983322864.1751947
         ]
        },
        {
         "fill": "tonexty",
         "fillcolor": "rgba(68, 68, 68, 0.3)",
         "line": {
          "color": "rgb(31, 119, 180)"
         },
         "mode": "lines",
         "name": "Cooper and Helmstetter",
         "type": "scatter",
         "x": [
          20,
          21,
          22,
          23,
          24,
          25,
          26,
          27,
          28,
          29,
          30,
          31,
          32,
          33,
          34,
          35,
          36,
          37,
          38,
          39,
          40,
          41,
          42,
          43,
          44,
          45,
          46,
          47,
          48,
          49,
          50,
          51,
          52,
          53,
          54,
          55,
          56,
          57,
          58,
          59,
          60,
          61,
          62,
          63,
          64,
          65,
          66,
          67,
          68,
          69,
          70,
          71,
          72,
          73,
          74,
          75,
          76,
          77,
          78,
          79,
          80,
          81,
          82,
          83,
          84,
          85,
          86,
          87,
          88,
          89,
          90,
          91,
          92,
          93,
          94,
          95,
          96,
          97,
          98,
          99,
          100,
          101,
          102,
          103,
          104,
          105,
          106,
          107,
          108,
          109,
          110,
          111,
          112,
          113,
          114,
          115,
          116,
          117,
          118,
          119,
          120,
          121,
          122,
          123,
          124,
          125,
          126,
          127,
          128,
          129,
          130,
          131,
          132,
          133,
          134,
          135,
          136,
          137,
          138,
          139,
          140,
          141,
          142,
          143,
          144,
          145,
          146,
          147,
          148,
          149,
          150,
          151,
          152,
          153,
          154,
          155,
          156,
          157,
          158,
          159,
          160,
          161,
          162,
          163,
          164,
          165,
          166,
          167,
          168,
          169,
          170,
          171,
          172,
          173,
          174,
          175,
          176,
          177,
          178,
          179,
          180,
          181,
          182,
          183,
          184,
          185,
          186,
          187,
          188,
          189,
          190,
          191,
          192,
          193,
          194,
          195,
          196,
          197,
          198,
          199,
          200,
          201,
          202,
          203,
          204,
          205,
          206,
          207,
          208,
          209,
          210,
          211,
          212,
          213,
          214,
          215,
          216,
          217,
          218,
          219,
          220,
          221,
          222,
          223,
          224,
          225,
          226,
          227,
          228,
          229,
          230,
          231,
          232,
          233,
          234,
          235,
          236,
          237,
          238,
          239,
          240,
          241,
          242,
          243,
          244,
          245,
          246,
          247,
          248,
          249
         ],
         "y": [
          172732413.54093647,
          194044062.09040102,
          215661426.19874623,
          237459619.72019145,
          259329706.42558664,
          281177415.55302966,
          302921785.00933546,
          324493809.2551,
          345835139.25340366,
          366896862.13002217,
          387638375.11762166,
          408026359.74101126,
          428033856.58401513,
          447639437.39219356,
          466826469.0641976,
          485582462.8334055,
          503898501.3433829,
          521768736.1687725,
          539189948.4811485,
          556161165.9023966,
          572683329.0508281,
          588759001.8130956,
          604392119.9292855,
          619587773.0320965,
          634352015.8153104,
          648691704.5099345,
          662614355.3113579,
          676128021.8241757,
          689241188.9720643,
          701962681.1590945,
          714301582.7682188,
          726267169.3451211,
          737868848.0443413,
          749116106.1129235,
          760018466.3580827,
          770585448.6927161,
          780826536.9789735,
          790751150.4982915,
          800368619.4687203,
          809688164.1092733,
          818718876.8182986,
          827469707.0902671,
          835949448.8443053,
          844166729.8796104,
          852130003.2086122,
          859847540.049357,
          867327424.2848607,
          874577548.2197953,
          881605609.4843957,
          888419108.952379,
          895025349.5543674,
          901431435.8811384,
          907644274.48224,
          913670574.7754118,
          919516850.490952,
          925189421.582915,
          930694416.5458927,
          936037775.0822815,
          941225251.0704252,
          946262415.7889792,
          951154661.3572843,
          955907204.3555632,
          960525089.5923992,
          965013193.9902472,
          969376230.5627353,
          973618752.4602318,
          977745157.0626442,
          981759690.1006665,
          985666449.7887536,
          989469390.9549778,
          993172329.1546303,
          996778944.7559836,
          1000292786.9880565,
          1003717277.9415032,
          1007055716.5149232,
          1010311282.2999595,
          1013487039.3995087,
          1016585940.1742438,
          1019610828.9134506,
          1022564445.4268787,
          1025449428.5549657,
          1028268319.5953637,
          1031023565.6442254,
          1033717522.8511592,
          1036352459.587204,
          1038930559.5255114,
          1041453924.6347811,
          1043924578.085774,
          1046344467.0714731,
          1048715465.5417119,
          1051039376.8532588,
          1053317936.3365328,
          1055552813.7802596,
          1057745615.8355159,
          1059897888.3406932,
          1062011118.5690187,
          1064086737.4003301,
          1066126121.4188606,
          1068130594.9388384,
          1070101431.9597286,
          1072039858.052974,
          1073947052.1821089,
          1075824148.4581046,
          1077672237.83184,
          1079492369.7255294,
          1081285553.6049907,
          1083052760.494549,
          1084794924.4364142,
          1086512943.8962839,
          1088207683.1169481,
          1089879973.4215932,
          1091530614.4685037,
          1093160375.4588008,
          1094769996.2988346,
          1096360188.7187965,
          1097931637.3490891,
          1099485000.7559416,
          1101020912.4377232,
          1102539981.7833688,
          1104042794.994283,
          1105529915.97105,
          1107001887.1662517,
          1108459230.4046202,
          1109902447.6717596,
          1111332021.8725877,
          1112748417.5606418,
          1114152081.639336,
          1115543444.0362363,
          1116922918.3513625,
          1118290902.480515,
          1119647779.2145734,
          1120993916.8156803,
          1122329669.5712066,
          1123655378.32634,
          1124971370.9961278,
          1126277963.0577612,
          1127575458.0238693,
          1128864147.897552,
          1130144313.6098645,
          1131416225.4404316,
          1132680143.4218476,
          1133936317.7284968,
          1135184989.0503924,
          1136426388.9526262,
          1137660740.2209854,
          1138888257.1942787,
          1140109146.0838869,
          1141323605.2810414,
          1142531825.6523092,
          1143733990.8237371,
          1144930277.4541128,
          1146120855.4977539,
          1147305888.4572437,
          1148485533.6265016,
          1149659942.324563,
          1150829260.120444,
          1151993627.0494199,
          1153153177.8210683,
          1154308042.019391,
          1155458344.2953248,
          1156604204.5519333,
          1157745738.1225765,
          1158883055.9423158,
          1160016264.7128286,
          1161145467.0610816,
          1162270761.6920018,
          1163392243.535383,
          1164510003.8872478,
          1165624130.54588,
          1166734707.9427357,
          1167841817.2684283,
          1168945536.593979,
          1170045940.9875145,
          1171143102.6265895,
          1172237090.9062994,
          1173327972.5433447,
          1174415811.676208,
          1175500669.9615848,
          1176582606.6672187,
          1177661678.7612731,
          1178737940.9983764,
          1179811446.0024612,
          1180882244.346531,
          1181950384.6294565,
          1183015913.549927,
          1184078875.97766,
          1185139315.0219703,
          1186197272.0978074,
          1187252786.989342,
          1188305897.9112132,
          1189356641.5675087,
          1190405053.2085717,
          1191451166.6857147,
          1192495014.5039167,
          1193536627.8725843,
          1194576036.7544432,
          1195613269.912633,
          1196648354.9560795,
          1197681318.3831918,
          1198712185.6239643,
          1199740981.080534,
          1200767728.1662514,
          1201792449.3433223,
          1202815166.1590705,
          1203835899.2808778,
          1204854668.5298443,
          1205871492.9132192,
          1206886390.655648,
          1207899379.2292795,
          1208910475.3827727,
          1209919695.1692457,
          1210927053.9732082,
          1211932566.5365067,
          1212936246.9833298,
          1213938108.844297,
          1214938165.0796723,
          1215936428.1017349,
          1216932909.7963252,
          1217927621.543619,
          1218920574.238132,
          1219911778.3080063,
          1220901243.7335846,
          1221888980.0653155,
          1222874996.4409995,
          1223859301.6024115,
          1224841903.9113126,
          1225822811.3648808,
          1226802031.6105773,
          1227779571.9604702,
          1228755439.4050333
         ]
        },
        {
         "fill": "tonexty",
         "fillcolor": "rgba(68, 68, 68, 0.3)",
         "line": {
          "width": 0
         },
         "marker": {
          "color": "#444"
         },
         "mode": "lines",
         "name": "Upper Bound",
         "showlegend": false,
         "type": "scatter",
         "x": [
          20,
          21,
          22,
          23,
          24,
          25,
          26,
          27,
          28,
          29,
          30,
          31,
          32,
          33,
          34,
          35,
          36,
          37,
          38,
          39,
          40,
          41,
          42,
          43,
          44,
          45,
          46,
          47,
          48,
          49,
          50,
          51,
          52,
          53,
          54,
          55,
          56,
          57,
          58,
          59,
          60,
          61,
          62,
          63,
          64,
          65,
          66,
          67,
          68,
          69,
          70,
          71,
          72,
          73,
          74,
          75,
          76,
          77,
          78,
          79,
          80,
          81,
          82,
          83,
          84,
          85,
          86,
          87,
          88,
          89,
          90,
          91,
          92,
          93,
          94,
          95,
          96,
          97,
          98,
          99,
          100,
          101,
          102,
          103,
          104,
          105,
          106,
          107,
          108,
          109,
          110,
          111,
          112,
          113,
          114,
          115,
          116,
          117,
          118,
          119,
          120,
          121,
          122,
          123,
          124,
          125,
          126,
          127,
          128,
          129,
          130,
          131,
          132,
          133,
          134,
          135,
          136,
          137,
          138,
          139,
          140,
          141,
          142,
          143,
          144,
          145,
          146,
          147,
          148,
          149,
          150,
          151,
          152,
          153,
          154,
          155,
          156,
          157,
          158,
          159,
          160,
          161,
          162,
          163,
          164,
          165,
          166,
          167,
          168,
          169,
          170,
          171,
          172,
          173,
          174,
          175,
          176,
          177,
          178,
          179,
          180,
          181,
          182,
          183,
          184,
          185,
          186,
          187,
          188,
          189,
          190,
          191,
          192,
          193,
          194,
          195,
          196,
          197,
          198,
          199,
          200,
          201,
          202,
          203,
          204,
          205,
          206,
          207,
          208,
          209,
          210,
          211,
          212,
          213,
          214,
          215,
          216,
          217,
          218,
          219,
          220,
          221,
          222,
          223,
          224,
          225,
          226,
          227,
          228,
          229,
          230,
          231,
          232,
          233,
          234,
          235,
          236,
          237,
          238,
          239,
          240,
          241,
          242,
          243,
          244,
          245,
          246,
          247,
          248,
          249
         ],
         "y": [
          207234121.30268997,
          232802575.24902096,
          258737808.61974865,
          284889990.4123808,
          311128425.38991386,
          337340013.074523,
          363427619.94102836,
          389308457.2294616,
          414912521.2205032,
          440181129.14406693,
          465065568.20422536,
          489525864.86741984,
          513529674.82254225,
          537051289.718804,
          560070754.1461468,
          582573084.8219081,
          604547583.2298856,
          625987232.7756536,
          646888171.6994718,
          667249233.3996589,
          687071546.3743656,
          706358186.6229751,
          725113876.0133859,
          743344720.7855237,
          761057985.0024554,
          778261894.3641473,
          794965466.3567505,
          811178363.2181592,
          826910764.6573596,
          842173257.6718131,
          856976741.1662483,
          871332343.3911195,
          885251350.4933923,
          898745144.7102771,
          911825150.9419707,
          924502790.6162397,
          936789441.909298,
          948696405.5172442,
          960234875.2832003,
          971415913.0799568,
          982250427.4286397,
          992749155.4027647,
          1002922647.4257623,
          1012781254.6202084,
          1022335118.4098655,
          1031594162.1123601,
          1040568084.291842,
          1049266353.6681087,
          1057698205.4020959,
          1065872638.5979201,
          1073798414.879294,
          1081484057.9135294,
          1088937853.769798,
          1096167852.0102015,
          1103181867.4226365,
          1109987482.3137374,
          1116592049.2884126,
          1123002694.449874,
          1129226320.9606388,
          1135269612.9109309,
          1141139039.446237,
          1146840859.110606,
          1152381124.3666437,
          1157765686.2571213,
          1163000199.176706,
          1168090125.7255917,
          1173040741.6197977,
          1177857140.6355968,
          1182544239.5680134,
          1187106783.1855812,
          1191549349.1655982,
          1195876352.9959817,
          1200092052.8315387,
          1204200554.293995,
          1208205815.2065437,
          1212111650.2549562,
          1215921735.5684454,
          1219639613.2145207,
          1223268695.6030405,
          1226812269.7955027,
          1230273501.716404,
          1233655440.2641823,
          1236961021.3198955,
          1240193071.652323,
          1243354312.718714,
          1246447364.360808,
          1249474748.3961816,
          1252438892.10531,
          1255342131.6150305,
          1258186715.1793857,
          1260974806.3590398,
          1263708487.10067,
          1266389760.7179124,
          1269020554.77559,
          1271602723.8790665,
          1274138052.3706906,
          1276628256.9353607,
          1279074989.1173246,
          1281479837.7503734,
          1283844331.3036242,
          1286169940.145121,
          1288458078.7254996,
          1290710107.6839461,
          1292927335.8787231,
          1295111022.3444622,
          1297262378.1784742,
          1299382568.3582456,
          1301472713.492309,
          1303533891.5066059,
          1305567139.2684588,
          1307573454.1501994,
          1309553795.534485,
          1311509086.263272,
          1313440214.0323856,
          1315348032.7335637,
          1317233363.7458222,
          1319096997.1779258,
          1320939693.0637047,
          1322762182.5119178,
          1324565168.8122976,
          1326349328.499374,
          1328115312.3756323,
          1329863746.4954863,
          1331595233.1115384,
          1333310351.5845132,
          1335009659.2582362,
          1336693692.30096,
          1338362966.5143194,
          1340017978.111127,
          1341659204.4632022,
          1343287104.8203754,
          1344902121.001758,
          1346504678.0603585,
          1348095184.9220498,
          1349674034.999888,
          1351241606.7847254,
          1352798264.4130423,
          1354344358.2128665,
          1355880225.2286425,
          1357406189.7258594,
          1358922563.676226,
          1360429647.2241542,
          1361927729.1352692,
          1363417087.227656,
          1364897988.786509,
          1366370690.9628396,
          1367835441.1568513,
          1369292477.3865952,
          1370742028.6424768,
          1372184315.228153,
          1373619549.0883763,
          1375047934.1242733,
          1376469666.4965613,
          1377884934.9171705,
          1379293920.9297197,
          1380696799.1792936,
          1382093737.6719236,
          1383484898.0241842,
          1384870435.7032871,
          1386250500.2580447,
          1387625235.5410533,
          1388994779.9224482,
          1390359266.495547,
          1391718823.274704,
          1393073573.3856766,
          1394423635.2487912,
          1395769122.7551935,
          1397110145.4364448,
          1398446808.6277273,
          1399779213.6249022,
          1401107457.8356597,
          1402431634.9249878,
          1403751834.9551804,
          1405068144.520593,
          1406380646.8773518,
          1407689422.0682034,
          1408994547.0427017,
          1410296095.7728982,
          1411594139.3647225,
          1412888746.1652038,
          1414179981.8657024,
          1415467909.601297,
          1416752590.046482,
          1418034081.5073051,
          1419312440.0100884,
          1420587719.3868616,
          1421859971.357628,
          1423129245.609592,
          1424395589.873445,
          1425659049.9968486,
          1426919670.015194,
          1428177492.2197547,
          1429432557.223332,
          1430684904.0234742,
          1431934570.0633793,
          1433181591.2905514,
          1434426002.2133024,
          1435667835.9551864,
          1436907124.3074255,
          1438143897.779421,
          1439378185.6474123,
          1440610016.0013506,
          1441839415.7900603,
          1443066410.8647447,
          1444291026.0209045,
          1445513285.0387218,
          1446733210.7219691,
          1447950824.9354963,
          1449166148.6413531,
          1450379201.933589,
          1451590004.0717845,
          1452798573.5133631,
          1454004927.9447196,
          1455209084.3112185,
          1456411058.8460965,
          1457610867.0983107,
          1458808523.9593785,
          1460004043.6892276,
          1461197439.9411187,
          1462388725.7856474,
          1463577913.73388,
          1464765015.7596416,
          1465950043.3209944,
          1467133007.3809304,
          1468313918.4273136,
          1469492786.4920897,
          1470669621.1697993,
          1471844431.635414,
          1473017226.661519,
          1474188014.634872
         ]
        },
        {
         "line": {
          "color": "#d62728",
          "dash": "dash"
         },
         "mode": "lines",
         "name": "Fixed Cell Concentration",
         "type": "scatter",
         "x": [
          20,
          21,
          22,
          23,
          24,
          25,
          26,
          27,
          28,
          29,
          30,
          31,
          32,
          33,
          34,
          35,
          36,
          37,
          38,
          39,
          40,
          41,
          42,
          43,
          44,
          45,
          46,
          47,
          48,
          49,
          50,
          51,
          52,
          53,
          54,
          55,
          56,
          57,
          58,
          59,
          60,
          61,
          62,
          63,
          64,
          65,
          66,
          67,
          68,
          69,
          70,
          71,
          72,
          73,
          74,
          75,
          76,
          77,
          78,
          79,
          80,
          81,
          82,
          83,
          84,
          85,
          86,
          87,
          88,
          89,
          90,
          91,
          92,
          93,
          94,
          95,
          96,
          97,
          98,
          99,
          100,
          101,
          102,
          103,
          104,
          105,
          106,
          107,
          108,
          109,
          110,
          111,
          112,
          113,
          114,
          115,
          116,
          117,
          118,
          119,
          120,
          121,
          122,
          123,
          124,
          125,
          126,
          127,
          128,
          129,
          130,
          131,
          132,
          133,
          134,
          135,
          136,
          137,
          138,
          139,
          140,
          141,
          142,
          143,
          144,
          145,
          146,
          147,
          148,
          149,
          150,
          151,
          152,
          153,
          154,
          155,
          156,
          157,
          158,
          159,
          160,
          161,
          162,
          163,
          164,
          165,
          166,
          167,
          168,
          169,
          170,
          171,
          172,
          173,
          174,
          175,
          176,
          177,
          178,
          179,
          180,
          181,
          182,
          183,
          184,
          185,
          186,
          187,
          188,
          189,
          190,
          191,
          192,
          193,
          194,
          195,
          196,
          197,
          198,
          199,
          200,
          201,
          202,
          203,
          204,
          205,
          206,
          207,
          208,
          209,
          210,
          211,
          212,
          213,
          214,
          215,
          216,
          217,
          218,
          219,
          220,
          221,
          222,
          223,
          224,
          225,
          226,
          227,
          228,
          229,
          230,
          231,
          232,
          233,
          234,
          235,
          236,
          237,
          238,
          239,
          240,
          241,
          242,
          243,
          244,
          245,
          246,
          247,
          248,
          249
         ],
         "y": [
          800000000,
          800000000,
          800000000,
          800000000,
          800000000,
          800000000,
          800000000,
          800000000,
          800000000,
          800000000,
          800000000,
          800000000,
          800000000,
          800000000,
          800000000,
          800000000,
          800000000,
          800000000,
          800000000,
          800000000,
          800000000,
          800000000,
          800000000,
          800000000,
          800000000,
          800000000,
          800000000,
          800000000,
          800000000,
          800000000,
          800000000,
          800000000,
          800000000,
          800000000,
          800000000,
          800000000,
          800000000,
          800000000,
          800000000,
          800000000,
          800000000,
          800000000,
          800000000,
          800000000,
          800000000,
          800000000,
          800000000,
          800000000,
          800000000,
          800000000,
          800000000,
          800000000,
          800000000,
          800000000,
          800000000,
          800000000,
          800000000,
          800000000,
          800000000,
          800000000,
          800000000,
          800000000,
          800000000,
          800000000,
          800000000,
          800000000,
          800000000,
          800000000,
          800000000,
          800000000,
          800000000,
          800000000,
          800000000,
          800000000,
          800000000,
          800000000,
          800000000,
          800000000,
          800000000,
          800000000,
          800000000,
          800000000,
          800000000,
          800000000,
          800000000,
          800000000,
          800000000,
          800000000,
          800000000,
          800000000,
          800000000,
          800000000,
          800000000,
          800000000,
          800000000,
          800000000,
          800000000,
          800000000,
          800000000,
          800000000,
          800000000,
          800000000,
          800000000,
          800000000,
          800000000,
          800000000,
          800000000,
          800000000,
          800000000,
          800000000,
          800000000,
          800000000,
          800000000,
          800000000,
          800000000,
          800000000,
          800000000,
          800000000,
          800000000,
          800000000,
          800000000,
          800000000,
          800000000,
          800000000,
          800000000,
          800000000,
          800000000,
          800000000,
          800000000,
          800000000,
          800000000,
          800000000,
          800000000,
          800000000,
          800000000,
          800000000,
          800000000,
          800000000,
          800000000,
          800000000,
          800000000,
          800000000,
          800000000,
          800000000,
          800000000,
          800000000,
          800000000,
          800000000,
          800000000,
          800000000,
          800000000,
          800000000,
          800000000,
          800000000,
          800000000,
          800000000,
          800000000,
          800000000,
          800000000,
          800000000,
          800000000,
          800000000,
          800000000,
          800000000,
          800000000,
          800000000,
          800000000,
          800000000,
          800000000,
          800000000,
          800000000,
          800000000,
          800000000,
          800000000,
          800000000,
          800000000,
          800000000,
          800000000,
          800000000,
          800000000,
          800000000,
          800000000,
          800000000,
          800000000,
          800000000,
          800000000,
          800000000,
          800000000,
          800000000,
          800000000,
          800000000,
          800000000,
          800000000,
          800000000,
          800000000,
          800000000,
          800000000,
          800000000,
          800000000,
          800000000,
          800000000,
          800000000,
          800000000,
          800000000,
          800000000,
          800000000,
          800000000,
          800000000,
          800000000,
          800000000,
          800000000,
          800000000,
          800000000,
          800000000,
          800000000,
          800000000,
          800000000,
          800000000,
          800000000,
          800000000,
          800000000,
          800000000,
          800000000,
          800000000,
          800000000,
          800000000,
          800000000,
          800000000,
          800000000,
          800000000
         ]
        }
       ],
       "layout": {
        "legend": {
         "x": 0.015,
         "y": 0.95
        },
        "showlegend": true,
        "template": {
         "data": {
          "bar": [
           {
            "error_x": {
             "color": "#2a3f5f"
            },
            "error_y": {
             "color": "#2a3f5f"
            },
            "marker": {
             "line": {
              "color": "white",
              "width": 0.5
             }
            },
            "type": "bar"
           }
          ],
          "barpolar": [
           {
            "marker": {
             "line": {
              "color": "white",
              "width": 0.5
             }
            },
            "type": "barpolar"
           }
          ],
          "carpet": [
           {
            "aaxis": {
             "endlinecolor": "#2a3f5f",
             "gridcolor": "#C8D4E3",
             "linecolor": "#C8D4E3",
             "minorgridcolor": "#C8D4E3",
             "startlinecolor": "#2a3f5f"
            },
            "baxis": {
             "endlinecolor": "#2a3f5f",
             "gridcolor": "#C8D4E3",
             "linecolor": "#C8D4E3",
             "minorgridcolor": "#C8D4E3",
             "startlinecolor": "#2a3f5f"
            },
            "type": "carpet"
           }
          ],
          "choropleth": [
           {
            "colorbar": {
             "outlinewidth": 0,
             "ticks": ""
            },
            "type": "choropleth"
           }
          ],
          "contour": [
           {
            "colorbar": {
             "outlinewidth": 0,
             "ticks": ""
            },
            "colorscale": [
             [
              0,
              "#0d0887"
             ],
             [
              0.1111111111111111,
              "#46039f"
             ],
             [
              0.2222222222222222,
              "#7201a8"
             ],
             [
              0.3333333333333333,
              "#9c179e"
             ],
             [
              0.4444444444444444,
              "#bd3786"
             ],
             [
              0.5555555555555556,
              "#d8576b"
             ],
             [
              0.6666666666666666,
              "#ed7953"
             ],
             [
              0.7777777777777778,
              "#fb9f3a"
             ],
             [
              0.8888888888888888,
              "#fdca26"
             ],
             [
              1,
              "#f0f921"
             ]
            ],
            "type": "contour"
           }
          ],
          "contourcarpet": [
           {
            "colorbar": {
             "outlinewidth": 0,
             "ticks": ""
            },
            "type": "contourcarpet"
           }
          ],
          "heatmap": [
           {
            "colorbar": {
             "outlinewidth": 0,
             "ticks": ""
            },
            "colorscale": [
             [
              0,
              "#0d0887"
             ],
             [
              0.1111111111111111,
              "#46039f"
             ],
             [
              0.2222222222222222,
              "#7201a8"
             ],
             [
              0.3333333333333333,
              "#9c179e"
             ],
             [
              0.4444444444444444,
              "#bd3786"
             ],
             [
              0.5555555555555556,
              "#d8576b"
             ],
             [
              0.6666666666666666,
              "#ed7953"
             ],
             [
              0.7777777777777778,
              "#fb9f3a"
             ],
             [
              0.8888888888888888,
              "#fdca26"
             ],
             [
              1,
              "#f0f921"
             ]
            ],
            "type": "heatmap"
           }
          ],
          "heatmapgl": [
           {
            "colorbar": {
             "outlinewidth": 0,
             "ticks": ""
            },
            "colorscale": [
             [
              0,
              "#0d0887"
             ],
             [
              0.1111111111111111,
              "#46039f"
             ],
             [
              0.2222222222222222,
              "#7201a8"
             ],
             [
              0.3333333333333333,
              "#9c179e"
             ],
             [
              0.4444444444444444,
              "#bd3786"
             ],
             [
              0.5555555555555556,
              "#d8576b"
             ],
             [
              0.6666666666666666,
              "#ed7953"
             ],
             [
              0.7777777777777778,
              "#fb9f3a"
             ],
             [
              0.8888888888888888,
              "#fdca26"
             ],
             [
              1,
              "#f0f921"
             ]
            ],
            "type": "heatmapgl"
           }
          ],
          "histogram": [
           {
            "marker": {
             "colorbar": {
              "outlinewidth": 0,
              "ticks": ""
             }
            },
            "type": "histogram"
           }
          ],
          "histogram2d": [
           {
            "colorbar": {
             "outlinewidth": 0,
             "ticks": ""
            },
            "colorscale": [
             [
              0,
              "#0d0887"
             ],
             [
              0.1111111111111111,
              "#46039f"
             ],
             [
              0.2222222222222222,
              "#7201a8"
             ],
             [
              0.3333333333333333,
              "#9c179e"
             ],
             [
              0.4444444444444444,
              "#bd3786"
             ],
             [
              0.5555555555555556,
              "#d8576b"
             ],
             [
              0.6666666666666666,
              "#ed7953"
             ],
             [
              0.7777777777777778,
              "#fb9f3a"
             ],
             [
              0.8888888888888888,
              "#fdca26"
             ],
             [
              1,
              "#f0f921"
             ]
            ],
            "type": "histogram2d"
           }
          ],
          "histogram2dcontour": [
           {
            "colorbar": {
             "outlinewidth": 0,
             "ticks": ""
            },
            "colorscale": [
             [
              0,
              "#0d0887"
             ],
             [
              0.1111111111111111,
              "#46039f"
             ],
             [
              0.2222222222222222,
              "#7201a8"
             ],
             [
              0.3333333333333333,
              "#9c179e"
             ],
             [
              0.4444444444444444,
              "#bd3786"
             ],
             [
              0.5555555555555556,
              "#d8576b"
             ],
             [
              0.6666666666666666,
              "#ed7953"
             ],
             [
              0.7777777777777778,
              "#fb9f3a"
             ],
             [
              0.8888888888888888,
              "#fdca26"
             ],
             [
              1,
              "#f0f921"
             ]
            ],
            "type": "histogram2dcontour"
           }
          ],
          "mesh3d": [
           {
            "colorbar": {
             "outlinewidth": 0,
             "ticks": ""
            },
            "type": "mesh3d"
           }
          ],
          "parcoords": [
           {
            "line": {
             "colorbar": {
              "outlinewidth": 0,
              "ticks": ""
             }
            },
            "type": "parcoords"
           }
          ],
          "scatter": [
           {
            "marker": {
             "colorbar": {
              "outlinewidth": 0,
              "ticks": ""
             }
            },
            "type": "scatter"
           }
          ],
          "scatter3d": [
           {
            "line": {
             "colorbar": {
              "outlinewidth": 0,
              "ticks": ""
             }
            },
            "marker": {
             "colorbar": {
              "outlinewidth": 0,
              "ticks": ""
             }
            },
            "type": "scatter3d"
           }
          ],
          "scattercarpet": [
           {
            "marker": {
             "colorbar": {
              "outlinewidth": 0,
              "ticks": ""
             }
            },
            "type": "scattercarpet"
           }
          ],
          "scattergeo": [
           {
            "marker": {
             "colorbar": {
              "outlinewidth": 0,
              "ticks": ""
             }
            },
            "type": "scattergeo"
           }
          ],
          "scattergl": [
           {
            "marker": {
             "colorbar": {
              "outlinewidth": 0,
              "ticks": ""
             }
            },
            "type": "scattergl"
           }
          ],
          "scattermapbox": [
           {
            "marker": {
             "colorbar": {
              "outlinewidth": 0,
              "ticks": ""
             }
            },
            "type": "scattermapbox"
           }
          ],
          "scatterpolar": [
           {
            "marker": {
             "colorbar": {
              "outlinewidth": 0,
              "ticks": ""
             }
            },
            "type": "scatterpolar"
           }
          ],
          "scatterpolargl": [
           {
            "marker": {
             "colorbar": {
              "outlinewidth": 0,
              "ticks": ""
             }
            },
            "type": "scatterpolargl"
           }
          ],
          "scatterternary": [
           {
            "marker": {
             "colorbar": {
              "outlinewidth": 0,
              "ticks": ""
             }
            },
            "type": "scatterternary"
           }
          ],
          "surface": [
           {
            "colorbar": {
             "outlinewidth": 0,
             "ticks": ""
            },
            "colorscale": [
             [
              0,
              "#0d0887"
             ],
             [
              0.1111111111111111,
              "#46039f"
             ],
             [
              0.2222222222222222,
              "#7201a8"
             ],
             [
              0.3333333333333333,
              "#9c179e"
             ],
             [
              0.4444444444444444,
              "#bd3786"
             ],
             [
              0.5555555555555556,
              "#d8576b"
             ],
             [
              0.6666666666666666,
              "#ed7953"
             ],
             [
              0.7777777777777778,
              "#fb9f3a"
             ],
             [
              0.8888888888888888,
              "#fdca26"
             ],
             [
              1,
              "#f0f921"
             ]
            ],
            "type": "surface"
           }
          ],
          "table": [
           {
            "cells": {
             "fill": {
              "color": "#EBF0F8"
             },
             "line": {
              "color": "white"
             }
            },
            "header": {
             "fill": {
              "color": "#C8D4E3"
             },
             "line": {
              "color": "white"
             }
            },
            "type": "table"
           }
          ]
         },
         "layout": {
          "annotationdefaults": {
           "arrowcolor": "#2a3f5f",
           "arrowhead": 0,
           "arrowwidth": 1
          },
          "colorscale": {
           "diverging": [
            [
             0,
             "#8e0152"
            ],
            [
             0.1,
             "#c51b7d"
            ],
            [
             0.2,
             "#de77ae"
            ],
            [
             0.3,
             "#f1b6da"
            ],
            [
             0.4,
             "#fde0ef"
            ],
            [
             0.5,
             "#f7f7f7"
            ],
            [
             0.6,
             "#e6f5d0"
            ],
            [
             0.7,
             "#b8e186"
            ],
            [
             0.8,
             "#7fbc41"
            ],
            [
             0.9,
             "#4d9221"
            ],
            [
             1,
             "#276419"
            ]
           ],
           "sequential": [
            [
             0,
             "#0d0887"
            ],
            [
             0.1111111111111111,
             "#46039f"
            ],
            [
             0.2222222222222222,
             "#7201a8"
            ],
            [
             0.3333333333333333,
             "#9c179e"
            ],
            [
             0.4444444444444444,
             "#bd3786"
            ],
            [
             0.5555555555555556,
             "#d8576b"
            ],
            [
             0.6666666666666666,
             "#ed7953"
            ],
            [
             0.7777777777777778,
             "#fb9f3a"
            ],
            [
             0.8888888888888888,
             "#fdca26"
            ],
            [
             1,
             "#f0f921"
            ]
           ],
           "sequentialminus": [
            [
             0,
             "#0d0887"
            ],
            [
             0.1111111111111111,
             "#46039f"
            ],
            [
             0.2222222222222222,
             "#7201a8"
            ],
            [
             0.3333333333333333,
             "#9c179e"
            ],
            [
             0.4444444444444444,
             "#bd3786"
            ],
            [
             0.5555555555555556,
             "#d8576b"
            ],
            [
             0.6666666666666666,
             "#ed7953"
            ],
            [
             0.7777777777777778,
             "#fb9f3a"
            ],
            [
             0.8888888888888888,
             "#fdca26"
            ],
            [
             1,
             "#f0f921"
            ]
           ]
          },
          "colorway": [
           "#636efa",
           "#EF553B",
           "#00cc96",
           "#ab63fa",
           "#FFA15A",
           "#19d3f3",
           "#FF6692",
           "#B6E880",
           "#FF97FF",
           "#FECB52"
          ],
          "font": {
           "color": "#2a3f5f"
          },
          "geo": {
           "bgcolor": "white",
           "lakecolor": "white",
           "landcolor": "white",
           "showlakes": true,
           "showland": true,
           "subunitcolor": "#C8D4E3"
          },
          "hoverlabel": {
           "align": "left"
          },
          "hovermode": "closest",
          "mapbox": {
           "style": "light"
          },
          "paper_bgcolor": "white",
          "plot_bgcolor": "white",
          "polar": {
           "angularaxis": {
            "gridcolor": "#EBF0F8",
            "linecolor": "#EBF0F8",
            "ticks": ""
           },
           "bgcolor": "white",
           "radialaxis": {
            "gridcolor": "#EBF0F8",
            "linecolor": "#EBF0F8",
            "ticks": ""
           }
          },
          "scene": {
           "xaxis": {
            "backgroundcolor": "white",
            "gridcolor": "#DFE8F3",
            "gridwidth": 2,
            "linecolor": "#EBF0F8",
            "showbackground": true,
            "ticks": "",
            "zerolinecolor": "#EBF0F8"
           },
           "yaxis": {
            "backgroundcolor": "white",
            "gridcolor": "#DFE8F3",
            "gridwidth": 2,
            "linecolor": "#EBF0F8",
            "showbackground": true,
            "ticks": "",
            "zerolinecolor": "#EBF0F8"
           },
           "zaxis": {
            "backgroundcolor": "white",
            "gridcolor": "#DFE8F3",
            "gridwidth": 2,
            "linecolor": "#EBF0F8",
            "showbackground": true,
            "ticks": "",
            "zerolinecolor": "#EBF0F8"
           }
          },
          "shapedefaults": {
           "line": {
            "color": "#2a3f5f"
           }
          },
          "ternary": {
           "aaxis": {
            "gridcolor": "#DFE8F3",
            "linecolor": "#A2B1C6",
            "ticks": ""
           },
           "baxis": {
            "gridcolor": "#DFE8F3",
            "linecolor": "#A2B1C6",
            "ticks": ""
           },
           "bgcolor": "white",
           "caxis": {
            "gridcolor": "#DFE8F3",
            "linecolor": "#A2B1C6",
            "ticks": ""
           }
          },
          "title": {
           "x": 0.05
          },
          "xaxis": {
           "automargin": true,
           "gridcolor": "#EBF0F8",
           "linecolor": "#EBF0F8",
           "ticks": "",
           "zerolinecolor": "#EBF0F8",
           "zerolinewidth": 2
          },
          "yaxis": {
           "automargin": true,
           "gridcolor": "#EBF0F8",
           "linecolor": "#EBF0F8",
           "ticks": "",
           "zerolinecolor": "#EBF0F8",
           "zerolinewidth": 2
          }
         }
        },
        "title": {
         "text": "Growth Rate Dependent Cell Concentration"
        },
        "xaxis": {
         "title": {
          "text": "Doubling Time (minutes)"
         }
        },
        "yaxis": {
         "exponentformat": "power",
         "title": {
          "text": "Cell Concentration (mL<sup>-1</sup> &#183; OD<sup>-1</sup>)"
         }
        }
       }
      },
      "text/html": [
       "<div>\n",
       "        \n",
       "        \n",
       "            <div id=\"156e1d2b-07d2-4a7a-9842-a2a6c6ddf104\" class=\"plotly-graph-div\" style=\"height:525px; width:100%;\"></div>\n",
       "            <script type=\"text/javascript\">\n",
       "                require([\"plotly\"], function(Plotly) {\n",
       "                    window.PLOTLYENV=window.PLOTLYENV || {};\n",
       "                    \n",
       "                if (document.getElementById(\"156e1d2b-07d2-4a7a-9842-a2a6c6ddf104\")) {\n",
       "                    Plotly.newPlot(\n",
       "                        '156e1d2b-07d2-4a7a-9842-a2a6c6ddf104',\n",
       "                        [{\"line\": {\"color\": \"#2ca02c\", \"dash\": \"dash\"}, \"mode\": \"lines\", \"name\": \"Volkmer et al.\", \"type\": \"scatter\", \"x\": [20.0, 21.0, 22.0, 23.0, 24.0, 25.0, 26.0, 27.0, 28.0, 29.0, 30.0, 31.0, 32.0, 33.0, 34.0, 35.0, 36.0, 37.0, 38.0, 39.0, 40.0, 41.0, 42.0, 43.0, 44.0, 45.0, 46.0, 47.0, 48.0, 49.0, 50.0, 51.0, 52.0, 53.0, 54.0, 55.0, 56.0, 57.0, 58.0, 59.0, 60.0, 61.0, 62.0, 63.0, 64.0, 65.0, 66.0, 67.0, 68.0, 69.0, 70.0, 71.0, 72.0, 73.0, 74.0, 75.0, 76.0, 77.0, 78.0, 79.0, 80.0, 81.0, 82.0, 83.0, 84.0, 85.0, 86.0, 87.0, 88.0, 89.0, 90.0, 91.0, 92.0, 93.0, 94.0, 95.0, 96.0, 97.0, 98.0, 99.0, 100.0, 101.0, 102.0, 103.0, 104.0, 105.0, 106.0, 107.0, 108.0, 109.0, 110.0, 111.0, 112.0, 113.0, 114.0, 115.0, 116.0, 117.0, 118.0, 119.0, 120.0, 121.0, 122.0, 123.0, 124.0, 125.0, 126.0, 127.0, 128.0, 129.0, 130.0, 131.0, 132.0, 133.0, 134.0, 135.0, 136.0, 137.0, 138.0, 139.0, 140.0, 141.0, 142.0, 143.0, 144.0, 145.0, 146.0, 147.0, 148.0, 149.0, 150.0, 151.0, 152.0, 153.0, 154.0, 155.0, 156.0, 157.0, 158.0, 159.0, 160.0, 161.0, 162.0, 163.0, 164.0, 165.0, 166.0, 167.0, 168.0, 169.0, 170.0, 171.0, 172.0, 173.0, 174.0, 175.0, 176.0, 177.0, 178.0, 179.0, 180.0, 181.0, 182.0, 183.0, 184.0, 185.0, 186.0, 187.0, 188.0, 189.0, 190.0, 191.0, 192.0, 193.0, 194.0, 195.0, 196.0, 197.0, 198.0, 199.0, 200.0, 201.0, 202.0, 203.0, 204.0, 205.0, 206.0, 207.0, 208.0, 209.0, 210.0, 211.0, 212.0, 213.0, 214.0, 215.0, 216.0, 217.0, 218.0, 219.0, 220.0, 221.0, 222.0, 223.0, 224.0, 225.0, 226.0, 227.0, 228.0, 229.0, 230.0, 231.0, 232.0, 233.0, 234.0, 235.0, 236.0, 237.0, 238.0, 239.0, 240.0, 241.0, 242.0, 243.0, 244.0, 245.0, 246.0, 247.0, 248.0, 249.0], \"y\": [829551722.1353077, 834469376.3065442, 840758059.0993403, 848079369.5755911, 856182474.3524698, 864878093.8180232, 874021209.8100955, 883499266.0320364, 893223929.7558651, 903125222.3053966, 913147261.2338098, 923245121.4881184, 933382487.719669, 943529875.2014649, 953663265.5379359, 963763049.092473, 973813197.0478041, 983800607.355964, 993714583.753894, 1003546417.5953202, 1013289049.8410825, 1022936796.064981, 1032485121.38288, 1041930455.2187433, 1051270038.073421, 1060501794.1646211, 1069624225.1045693, 1078636320.779379, 1087537484.3664424, 1096327469.0283213, 1105006324.2942142, 1113574350.5133913, 1122032060.0615854, 1130380144.2183273, 1138619444.8236213, 1146750929.9760954, 1154775673.1594927, 1162694835.2860675, 1170509649.228687, 1178221406.4818938, 1185831445.6486816, 1193341142.4965558, 1200751901.365389, 1208065147.7420778, 1215282321.844222, 1222404873.0779028, 1229434255.2539084, 1236371922.4630225, 1243219325.5248058, 1249977908.9360101, 1256649108.254763, 1263234347.8651938, 1269735039.0744753, 1276152578.500523, 1282488346.7139902, 1288743707.1028385, 1294920004.9317808, 1301018566.5723615, 1307040698.8824477, 1312987688.7165298, 1318860802.5504816, 1324661286.206436, 1330390364.665141, 1336049241.954685, 1341639101.105791, 1347161104.1650538, 1352616392.2584906, 1358006085.6986916, 1363331284.129626, 1368593066.70386, 1373792492.2875512, 1378930599.6891217, 1384008407.9079962, 1389026916.400194, 1393987105.3579607, 1398889936.000932, 1403736350.8766336, 1408527274.1683638, 1413263612.0087516, 1417946252.7974713, 1422576067.5217903, 1427153910.0787804, 1431680617.5981665, 1436157010.7649157, 1440583894.1407871, 1444962056.4841537, 1449292271.067509, 1453575295.992143, 1457811874.4995456, 1462002735.2791634, 1466148592.772179, 1470250147.4710543, 1474308086.214596, 1478323082.4783676, 1482295796.6602874, 1486226876.3612964, 1490116956.6609983, 1493966660.3882036, 1497776598.3863306, 1501547369.7736354, 1505279562.198255, 1508973752.0880728, 1512630504.8954132, 1516250375.336604, 1519833907.6264327, 1523381635.7075486, 1526894083.4748633, 1530371764.9950058, 1533815184.7209013, 1537224837.7015386, 1540601209.787004, 1543944777.8288562, 1547256009.875919, 1550535365.3655798, 1553783295.3106697, 1557000242.4820118, 1560186641.5867283, 1563342919.4423828, 1566469495.1470485, 1569566780.2453928, 1572635178.8908522, 1575675088.0039966, 1578686897.427155, 1581670990.0753975, 1584627742.0839484, 1587557522.9521165, 1590460695.683824, 1593337616.924812, 1596188637.0966, 1599014100.5272846, 1601814345.5792394, 1604589704.7738056, 1607340504.9130373, 1610067067.1985765, 1612769707.3477244, 1615448735.7067873, 1618104457.3617518, 1620737172.2463677, 1623347175.247691, 1625934756.3091626, 1628500200.531274, 1631043788.2698863, 1633565795.232257, 1636066492.5708377, 1638546146.9748936, 1641005020.7600007, 1643443371.955475, 1645861454.389787, 1648259517.774007, 1650637807.7833378, 1652996566.1367767, 1655336030.6749578, 1657656435.4362192, 1659958010.730938, 1662240983.214178, 1664505575.9566963, 1666752008.51434, 1668980496.9958842, 1671191254.1293442, 1673384489.3268003, 1675560408.747774, 1677719215.3611915, 1679861109.005969, 1681986286.4502544, 1684094941.449357, 1686187264.8024027, 1688263444.4077382, 1690323665.3171253, 1692368109.7887428, 1694396957.3390393, 1696410384.7934523, 1698408566.3360288, 1700391673.5579736, 1702359875.5051477, 1704313338.7245479, 1706252227.309787, 1708176702.9456027, 1710086924.951416, 1711983050.3239646, 1713865233.7790325, 1715733627.792294, 1717588382.6393015, 1719429646.4346302, 1721257565.1702008, 1723072282.7528052, 1724873941.0408466, 1726662679.8803189, 1728438637.1400392, 1730201948.7461529, 1731952748.7159297, 1733691169.1908624, 1735417340.4690924, 1737131391.037168, 1738833447.6011624, 1740523635.1171556, 1742202076.8211002, 1743868894.2580876, 1745524207.3110218, 1747168134.2287211, 1748800791.653455, 1750422294.647935, 1752032756.7217672, 1753632289.8573813, 1755221004.5354455, 1756799009.7597828, 1758366413.0817974, 1759923320.6244211, 1761469837.105594, 1763006065.8612857, 1764532108.8680718, 1766048066.7652712, 1767554038.8766587, 1769050123.2317555, 1770536416.5867162, 1772013014.4448118, 1773480011.0765238, 1774937499.5392566, 1776385571.6966743, 1777824318.2376733, 1779253828.6949952, 1780674191.4634917, 1782085493.8180463, 1783487821.931159, 1784881260.890207, 1786265894.7143812, 1787641806.3713095, 1789009077.793374, 1790367789.8937259, 1791718022.582007, 1793059854.7797825]}, {\"line\": {\"width\": 0}, \"marker\": {\"color\": \"#444\"}, \"mode\": \"lines\", \"name\": \"Lower Bound\", \"showlegend\": false, \"type\": \"scatter\", \"x\": [20.0, 21.0, 22.0, 23.0, 24.0, 25.0, 26.0, 27.0, 28.0, 29.0, 30.0, 31.0, 32.0, 33.0, 34.0, 35.0, 36.0, 37.0, 38.0, 39.0, 40.0, 41.0, 42.0, 43.0, 44.0, 45.0, 46.0, 47.0, 48.0, 49.0, 50.0, 51.0, 52.0, 53.0, 54.0, 55.0, 56.0, 57.0, 58.0, 59.0, 60.0, 61.0, 62.0, 63.0, 64.0, 65.0, 66.0, 67.0, 68.0, 69.0, 70.0, 71.0, 72.0, 73.0, 74.0, 75.0, 76.0, 77.0, 78.0, 79.0, 80.0, 81.0, 82.0, 83.0, 84.0, 85.0, 86.0, 87.0, 88.0, 89.0, 90.0, 91.0, 92.0, 93.0, 94.0, 95.0, 96.0, 97.0, 98.0, 99.0, 100.0, 101.0, 102.0, 103.0, 104.0, 105.0, 106.0, 107.0, 108.0, 109.0, 110.0, 111.0, 112.0, 113.0, 114.0, 115.0, 116.0, 117.0, 118.0, 119.0, 120.0, 121.0, 122.0, 123.0, 124.0, 125.0, 126.0, 127.0, 128.0, 129.0, 130.0, 131.0, 132.0, 133.0, 134.0, 135.0, 136.0, 137.0, 138.0, 139.0, 140.0, 141.0, 142.0, 143.0, 144.0, 145.0, 146.0, 147.0, 148.0, 149.0, 150.0, 151.0, 152.0, 153.0, 154.0, 155.0, 156.0, 157.0, 158.0, 159.0, 160.0, 161.0, 162.0, 163.0, 164.0, 165.0, 166.0, 167.0, 168.0, 169.0, 170.0, 171.0, 172.0, 173.0, 174.0, 175.0, 176.0, 177.0, 178.0, 179.0, 180.0, 181.0, 182.0, 183.0, 184.0, 185.0, 186.0, 187.0, 188.0, 189.0, 190.0, 191.0, 192.0, 193.0, 194.0, 195.0, 196.0, 197.0, 198.0, 199.0, 200.0, 201.0, 202.0, 203.0, 204.0, 205.0, 206.0, 207.0, 208.0, 209.0, 210.0, 211.0, 212.0, 213.0, 214.0, 215.0, 216.0, 217.0, 218.0, 219.0, 220.0, 221.0, 222.0, 223.0, 224.0, 225.0, 226.0, 227.0, 228.0, 229.0, 230.0, 231.0, 232.0, 233.0, 234.0, 235.0, 236.0, 237.0, 238.0, 239.0, 240.0, 241.0, 242.0, 243.0, 244.0, 245.0, 246.0, 247.0, 248.0, 249.0], \"y\": [138230705.77918297, 155285548.93178108, 172585043.77774382, 190029249.02800208, 207530987.4612594, 225014818.03153637, 242415950.07764256, 259679161.28073844, 276757757.2863041, 293612595.1159774, 310211182.03101796, 326526854.6146027, 342538038.345488, 358227585.0655831, 373582183.9822485, 388591840.8449028, 403249419.4568803, 417550239.5618915, 431491725.2628252, 445073098.40513414, 458295111.7272906, 471159817.003216, 483670363.84518516, 495830825.2786693, 507646046.62816536, 519121514.6557218, 530263244.26596516, 541077680.4301922, 551571613.2867689, 561752104.6463758, 571626424.3701892, 581201995.2991228, 590486345.5952903, 599487067.5155699, 608211781.7741946, 616668106.7691926, 624863632.0486491, 632805895.4793388, 640502363.6542404, 647960415.1385899, 655187326.2079575, 662190258.7777694, 668976250.2628483, 675552205.1390125, 681924888.0073589, 688100917.986354, 694086764.2778795, 699888742.771482, 705513013.5666956, 710965579.3068379, 716252284.2294408, 721378813.8487475, 726350695.1946819, 731173297.5406222, 735851833.5592675, 740391360.8520926, 744796783.8033729, 749072855.714689, 753224181.1802115, 757255218.6670275, 761170283.2683314, 764973549.6005205, 768669054.8181549, 772260701.7233732, 775752261.9487646, 779147379.194872, 782449572.5054909, 785662239.5657364, 788788660.0094938, 791831998.7243743, 794795309.1436626, 797681536.5159856, 800493521.1445743, 803234001.5890114, 805905617.8233029, 808510914.3449627, 811052343.230572, 813532267.133967, 815952962.2238609, 818316621.0582547, 820625355.3935276, 822881198.9265451, 825086109.9685552, 827241974.0499954, 829350606.455694, 831413754.6902149, 833433100.8733807, 835410264.0662378, 837346802.5279157, 839244215.9040381, 841103947.347478, 842927385.5723957, 844715866.8426068, 846470676.8954419, 848193052.8023199, 849884184.7673469, 851545217.8652995, 853177253.7203965, 854781352.1273035, 856358532.6158332, 857909775.9608269, 859436025.6387182, 860938189.2322632, 862417139.7849568, 863873717.1065968, 865308729.0315073, 866722952.6308526, 868117135.3805194, 869491996.2859619, 870848226.9654374, 872186492.692987, 873507433.4025224, 874811664.6543294, 876099778.5652835, 877372344.7040293, 878629910.9523561, 879873004.3339574, 881102131.8117416, 882317781.05482, 883520421.1762683, 884710503.4427261, 885888461.9568712, 887054714.3137541, 888209662.2319808, 889353692.160662, 890487175.8630474, 891610470.9777122, 892723921.5581532, 893827858.591598, 894922600.4978278, 896008453.6087714, 897085712.6296026, 898154661.0820546, 899215571.73063, 900268706.9923677, 901314319.330797, 902352651.6346962, 903383937.5822375, 904408401.9910865, 905426261.1550038, 906437723.1674691, 907442988.2328395, 908442248.9655156, 909435690.6775967, 910423491.6554618, 911405823.4257177, 912382851.0109226, 913354733.1754874, 914321622.6621416, 915283666.4193213, 916241005.8198493, 917193776.8712344, 918142110.4179261, 919086132.3358325, 920025963.7194064, 920961721.0615945, 921893516.4269161, 922821457.6179525, 923745648.335495, 924666188.3326048, 925583173.5628133, 926496696.3227048, 927406845.3890846, 928313706.1509533, 929217360.7364867, 930117888.1352123, 931015364.3155725, 931909862.3380507, 932801452.4640328, 933690202.2605692, 934576176.701197, 935459438.26297, 936340047.0198486, 937218060.732586, 938093534.935247, 938966523.0184859, 939837076.3097144, 940705244.1502714, 941571073.9697149, 942434611.3573425, 943295900.1310503, 944154982.4036254, 945011898.6465797, 945866687.7516079, 946719387.0897655, 947570032.5684583, 948418658.6863124, 949265298.5860229, 950109984.1052389, 950952745.8255777, 951793613.1198236, 952632614.1973885, 953469776.1480975, 954305124.9843594, 955138685.6817894, 955970482.2183349, 956800537.6119635, 957628873.9569726, 958455512.4589581, 959280473.4685075, 960103776.5136557, 960925440.3311522, 961745482.8965843, 962563921.4533963, 963380772.5408511, 964196052.0209668, 965009775.1044694, 965821956.3757997, 966632609.8172058, 967441748.8319563, 968249386.2667068, 969055534.4330533, 969860205.1282939, 970663409.655441, 971465158.8424975, 972265463.061034, 973064332.2440913, 973861775.9034228, 974657803.1461191, 975452422.6906167, 976245642.8821325, 977037471.7075276, 977827916.8096367, 978616985.5010686, 979404684.7775095, 980191021.3305355, 980976001.5599623, 981759631.5857409, 982541917.2594213, 983322864.1751947]}, {\"fill\": \"tonexty\", \"fillcolor\": \"rgba(68, 68, 68, 0.3)\", \"line\": {\"color\": \"rgb(31, 119, 180)\"}, \"mode\": \"lines\", \"name\": \"Cooper and Helmstetter\", \"type\": \"scatter\", \"x\": [20.0, 21.0, 22.0, 23.0, 24.0, 25.0, 26.0, 27.0, 28.0, 29.0, 30.0, 31.0, 32.0, 33.0, 34.0, 35.0, 36.0, 37.0, 38.0, 39.0, 40.0, 41.0, 42.0, 43.0, 44.0, 45.0, 46.0, 47.0, 48.0, 49.0, 50.0, 51.0, 52.0, 53.0, 54.0, 55.0, 56.0, 57.0, 58.0, 59.0, 60.0, 61.0, 62.0, 63.0, 64.0, 65.0, 66.0, 67.0, 68.0, 69.0, 70.0, 71.0, 72.0, 73.0, 74.0, 75.0, 76.0, 77.0, 78.0, 79.0, 80.0, 81.0, 82.0, 83.0, 84.0, 85.0, 86.0, 87.0, 88.0, 89.0, 90.0, 91.0, 92.0, 93.0, 94.0, 95.0, 96.0, 97.0, 98.0, 99.0, 100.0, 101.0, 102.0, 103.0, 104.0, 105.0, 106.0, 107.0, 108.0, 109.0, 110.0, 111.0, 112.0, 113.0, 114.0, 115.0, 116.0, 117.0, 118.0, 119.0, 120.0, 121.0, 122.0, 123.0, 124.0, 125.0, 126.0, 127.0, 128.0, 129.0, 130.0, 131.0, 132.0, 133.0, 134.0, 135.0, 136.0, 137.0, 138.0, 139.0, 140.0, 141.0, 142.0, 143.0, 144.0, 145.0, 146.0, 147.0, 148.0, 149.0, 150.0, 151.0, 152.0, 153.0, 154.0, 155.0, 156.0, 157.0, 158.0, 159.0, 160.0, 161.0, 162.0, 163.0, 164.0, 165.0, 166.0, 167.0, 168.0, 169.0, 170.0, 171.0, 172.0, 173.0, 174.0, 175.0, 176.0, 177.0, 178.0, 179.0, 180.0, 181.0, 182.0, 183.0, 184.0, 185.0, 186.0, 187.0, 188.0, 189.0, 190.0, 191.0, 192.0, 193.0, 194.0, 195.0, 196.0, 197.0, 198.0, 199.0, 200.0, 201.0, 202.0, 203.0, 204.0, 205.0, 206.0, 207.0, 208.0, 209.0, 210.0, 211.0, 212.0, 213.0, 214.0, 215.0, 216.0, 217.0, 218.0, 219.0, 220.0, 221.0, 222.0, 223.0, 224.0, 225.0, 226.0, 227.0, 228.0, 229.0, 230.0, 231.0, 232.0, 233.0, 234.0, 235.0, 236.0, 237.0, 238.0, 239.0, 240.0, 241.0, 242.0, 243.0, 244.0, 245.0, 246.0, 247.0, 248.0, 249.0], \"y\": [172732413.54093647, 194044062.09040102, 215661426.19874623, 237459619.72019145, 259329706.42558664, 281177415.55302966, 302921785.00933546, 324493809.2551, 345835139.25340366, 366896862.13002217, 387638375.11762166, 408026359.74101126, 428033856.58401513, 447639437.39219356, 466826469.0641976, 485582462.8334055, 503898501.3433829, 521768736.1687725, 539189948.4811485, 556161165.9023966, 572683329.0508281, 588759001.8130956, 604392119.9292855, 619587773.0320965, 634352015.8153104, 648691704.5099345, 662614355.3113579, 676128021.8241757, 689241188.9720643, 701962681.1590945, 714301582.7682188, 726267169.3451211, 737868848.0443413, 749116106.1129235, 760018466.3580827, 770585448.6927161, 780826536.9789735, 790751150.4982915, 800368619.4687203, 809688164.1092733, 818718876.8182986, 827469707.0902671, 835949448.8443053, 844166729.8796104, 852130003.2086122, 859847540.049357, 867327424.2848607, 874577548.2197953, 881605609.4843957, 888419108.952379, 895025349.5543674, 901431435.8811384, 907644274.48224, 913670574.7754118, 919516850.490952, 925189421.582915, 930694416.5458927, 936037775.0822815, 941225251.0704252, 946262415.7889792, 951154661.3572843, 955907204.3555632, 960525089.5923992, 965013193.9902472, 969376230.5627353, 973618752.4602318, 977745157.0626442, 981759690.1006665, 985666449.7887536, 989469390.9549778, 993172329.1546303, 996778944.7559836, 1000292786.9880565, 1003717277.9415032, 1007055716.5149232, 1010311282.2999595, 1013487039.3995087, 1016585940.1742438, 1019610828.9134506, 1022564445.4268787, 1025449428.5549657, 1028268319.5953637, 1031023565.6442254, 1033717522.8511592, 1036352459.587204, 1038930559.5255114, 1041453924.6347811, 1043924578.085774, 1046344467.0714731, 1048715465.5417119, 1051039376.8532588, 1053317936.3365328, 1055552813.7802596, 1057745615.8355159, 1059897888.3406932, 1062011118.5690187, 1064086737.4003301, 1066126121.4188606, 1068130594.9388384, 1070101431.9597286, 1072039858.052974, 1073947052.1821089, 1075824148.4581046, 1077672237.83184, 1079492369.7255294, 1081285553.6049907, 1083052760.494549, 1084794924.4364142, 1086512943.8962839, 1088207683.1169481, 1089879973.4215932, 1091530614.4685037, 1093160375.4588008, 1094769996.2988346, 1096360188.7187965, 1097931637.3490891, 1099485000.7559416, 1101020912.4377232, 1102539981.7833688, 1104042794.994283, 1105529915.97105, 1107001887.1662517, 1108459230.4046202, 1109902447.6717596, 1111332021.8725877, 1112748417.5606418, 1114152081.639336, 1115543444.0362363, 1116922918.3513625, 1118290902.480515, 1119647779.2145734, 1120993916.8156803, 1122329669.5712066, 1123655378.32634, 1124971370.9961278, 1126277963.0577612, 1127575458.0238693, 1128864147.897552, 1130144313.6098645, 1131416225.4404316, 1132680143.4218476, 1133936317.7284968, 1135184989.0503924, 1136426388.9526262, 1137660740.2209854, 1138888257.1942787, 1140109146.0838869, 1141323605.2810414, 1142531825.6523092, 1143733990.8237371, 1144930277.4541128, 1146120855.4977539, 1147305888.4572437, 1148485533.6265016, 1149659942.324563, 1150829260.120444, 1151993627.0494199, 1153153177.8210683, 1154308042.019391, 1155458344.2953248, 1156604204.5519333, 1157745738.1225765, 1158883055.9423158, 1160016264.7128286, 1161145467.0610816, 1162270761.6920018, 1163392243.535383, 1164510003.8872478, 1165624130.54588, 1166734707.9427357, 1167841817.2684283, 1168945536.593979, 1170045940.9875145, 1171143102.6265895, 1172237090.9062994, 1173327972.5433447, 1174415811.676208, 1175500669.9615848, 1176582606.6672187, 1177661678.7612731, 1178737940.9983764, 1179811446.0024612, 1180882244.346531, 1181950384.6294565, 1183015913.549927, 1184078875.97766, 1185139315.0219703, 1186197272.0978074, 1187252786.989342, 1188305897.9112132, 1189356641.5675087, 1190405053.2085717, 1191451166.6857147, 1192495014.5039167, 1193536627.8725843, 1194576036.7544432, 1195613269.912633, 1196648354.9560795, 1197681318.3831918, 1198712185.6239643, 1199740981.080534, 1200767728.1662514, 1201792449.3433223, 1202815166.1590705, 1203835899.2808778, 1204854668.5298443, 1205871492.9132192, 1206886390.655648, 1207899379.2292795, 1208910475.3827727, 1209919695.1692457, 1210927053.9732082, 1211932566.5365067, 1212936246.9833298, 1213938108.844297, 1214938165.0796723, 1215936428.1017349, 1216932909.7963252, 1217927621.543619, 1218920574.238132, 1219911778.3080063, 1220901243.7335846, 1221888980.0653155, 1222874996.4409995, 1223859301.6024115, 1224841903.9113126, 1225822811.3648808, 1226802031.6105773, 1227779571.9604702, 1228755439.4050333]}, {\"fill\": \"tonexty\", \"fillcolor\": \"rgba(68, 68, 68, 0.3)\", \"line\": {\"width\": 0}, \"marker\": {\"color\": \"#444\"}, \"mode\": \"lines\", \"name\": \"Upper Bound\", \"showlegend\": false, \"type\": \"scatter\", \"x\": [20.0, 21.0, 22.0, 23.0, 24.0, 25.0, 26.0, 27.0, 28.0, 29.0, 30.0, 31.0, 32.0, 33.0, 34.0, 35.0, 36.0, 37.0, 38.0, 39.0, 40.0, 41.0, 42.0, 43.0, 44.0, 45.0, 46.0, 47.0, 48.0, 49.0, 50.0, 51.0, 52.0, 53.0, 54.0, 55.0, 56.0, 57.0, 58.0, 59.0, 60.0, 61.0, 62.0, 63.0, 64.0, 65.0, 66.0, 67.0, 68.0, 69.0, 70.0, 71.0, 72.0, 73.0, 74.0, 75.0, 76.0, 77.0, 78.0, 79.0, 80.0, 81.0, 82.0, 83.0, 84.0, 85.0, 86.0, 87.0, 88.0, 89.0, 90.0, 91.0, 92.0, 93.0, 94.0, 95.0, 96.0, 97.0, 98.0, 99.0, 100.0, 101.0, 102.0, 103.0, 104.0, 105.0, 106.0, 107.0, 108.0, 109.0, 110.0, 111.0, 112.0, 113.0, 114.0, 115.0, 116.0, 117.0, 118.0, 119.0, 120.0, 121.0, 122.0, 123.0, 124.0, 125.0, 126.0, 127.0, 128.0, 129.0, 130.0, 131.0, 132.0, 133.0, 134.0, 135.0, 136.0, 137.0, 138.0, 139.0, 140.0, 141.0, 142.0, 143.0, 144.0, 145.0, 146.0, 147.0, 148.0, 149.0, 150.0, 151.0, 152.0, 153.0, 154.0, 155.0, 156.0, 157.0, 158.0, 159.0, 160.0, 161.0, 162.0, 163.0, 164.0, 165.0, 166.0, 167.0, 168.0, 169.0, 170.0, 171.0, 172.0, 173.0, 174.0, 175.0, 176.0, 177.0, 178.0, 179.0, 180.0, 181.0, 182.0, 183.0, 184.0, 185.0, 186.0, 187.0, 188.0, 189.0, 190.0, 191.0, 192.0, 193.0, 194.0, 195.0, 196.0, 197.0, 198.0, 199.0, 200.0, 201.0, 202.0, 203.0, 204.0, 205.0, 206.0, 207.0, 208.0, 209.0, 210.0, 211.0, 212.0, 213.0, 214.0, 215.0, 216.0, 217.0, 218.0, 219.0, 220.0, 221.0, 222.0, 223.0, 224.0, 225.0, 226.0, 227.0, 228.0, 229.0, 230.0, 231.0, 232.0, 233.0, 234.0, 235.0, 236.0, 237.0, 238.0, 239.0, 240.0, 241.0, 242.0, 243.0, 244.0, 245.0, 246.0, 247.0, 248.0, 249.0], \"y\": [207234121.30268997, 232802575.24902096, 258737808.61974865, 284889990.4123808, 311128425.38991386, 337340013.074523, 363427619.94102836, 389308457.2294616, 414912521.2205032, 440181129.14406693, 465065568.20422536, 489525864.86741984, 513529674.82254225, 537051289.718804, 560070754.1461468, 582573084.8219081, 604547583.2298856, 625987232.7756536, 646888171.6994718, 667249233.3996589, 687071546.3743656, 706358186.6229751, 725113876.0133859, 743344720.7855237, 761057985.0024554, 778261894.3641473, 794965466.3567505, 811178363.2181592, 826910764.6573596, 842173257.6718131, 856976741.1662483, 871332343.3911195, 885251350.4933923, 898745144.7102771, 911825150.9419707, 924502790.6162397, 936789441.909298, 948696405.5172442, 960234875.2832003, 971415913.0799568, 982250427.4286397, 992749155.4027647, 1002922647.4257623, 1012781254.6202084, 1022335118.4098655, 1031594162.1123601, 1040568084.291842, 1049266353.6681087, 1057698205.4020959, 1065872638.5979201, 1073798414.879294, 1081484057.9135294, 1088937853.769798, 1096167852.0102015, 1103181867.4226365, 1109987482.3137374, 1116592049.2884126, 1123002694.449874, 1129226320.9606388, 1135269612.9109309, 1141139039.446237, 1146840859.110606, 1152381124.3666437, 1157765686.2571213, 1163000199.176706, 1168090125.7255917, 1173040741.6197977, 1177857140.6355968, 1182544239.5680134, 1187106783.1855812, 1191549349.1655982, 1195876352.9959817, 1200092052.8315387, 1204200554.293995, 1208205815.2065437, 1212111650.2549562, 1215921735.5684454, 1219639613.2145207, 1223268695.6030405, 1226812269.7955027, 1230273501.716404, 1233655440.2641823, 1236961021.3198955, 1240193071.652323, 1243354312.718714, 1246447364.360808, 1249474748.3961816, 1252438892.10531, 1255342131.6150305, 1258186715.1793857, 1260974806.3590398, 1263708487.10067, 1266389760.7179124, 1269020554.77559, 1271602723.8790665, 1274138052.3706906, 1276628256.9353607, 1279074989.1173246, 1281479837.7503734, 1283844331.3036242, 1286169940.145121, 1288458078.7254996, 1290710107.6839461, 1292927335.8787231, 1295111022.3444622, 1297262378.1784742, 1299382568.3582456, 1301472713.492309, 1303533891.5066059, 1305567139.2684588, 1307573454.1501994, 1309553795.534485, 1311509086.263272, 1313440214.0323856, 1315348032.7335637, 1317233363.7458222, 1319096997.1779258, 1320939693.0637047, 1322762182.5119178, 1324565168.8122976, 1326349328.499374, 1328115312.3756323, 1329863746.4954863, 1331595233.1115384, 1333310351.5845132, 1335009659.2582362, 1336693692.30096, 1338362966.5143194, 1340017978.111127, 1341659204.4632022, 1343287104.8203754, 1344902121.001758, 1346504678.0603585, 1348095184.9220498, 1349674034.999888, 1351241606.7847254, 1352798264.4130423, 1354344358.2128665, 1355880225.2286425, 1357406189.7258594, 1358922563.676226, 1360429647.2241542, 1361927729.1352692, 1363417087.227656, 1364897988.786509, 1366370690.9628396, 1367835441.1568513, 1369292477.3865952, 1370742028.6424768, 1372184315.228153, 1373619549.0883763, 1375047934.1242733, 1376469666.4965613, 1377884934.9171705, 1379293920.9297197, 1380696799.1792936, 1382093737.6719236, 1383484898.0241842, 1384870435.7032871, 1386250500.2580447, 1387625235.5410533, 1388994779.9224482, 1390359266.495547, 1391718823.274704, 1393073573.3856766, 1394423635.2487912, 1395769122.7551935, 1397110145.4364448, 1398446808.6277273, 1399779213.6249022, 1401107457.8356597, 1402431634.9249878, 1403751834.9551804, 1405068144.520593, 1406380646.8773518, 1407689422.0682034, 1408994547.0427017, 1410296095.7728982, 1411594139.3647225, 1412888746.1652038, 1414179981.8657024, 1415467909.601297, 1416752590.046482, 1418034081.5073051, 1419312440.0100884, 1420587719.3868616, 1421859971.357628, 1423129245.609592, 1424395589.873445, 1425659049.9968486, 1426919670.015194, 1428177492.2197547, 1429432557.223332, 1430684904.0234742, 1431934570.0633793, 1433181591.2905514, 1434426002.2133024, 1435667835.9551864, 1436907124.3074255, 1438143897.779421, 1439378185.6474123, 1440610016.0013506, 1441839415.7900603, 1443066410.8647447, 1444291026.0209045, 1445513285.0387218, 1446733210.7219691, 1447950824.9354963, 1449166148.6413531, 1450379201.933589, 1451590004.0717845, 1452798573.5133631, 1454004927.9447196, 1455209084.3112185, 1456411058.8460965, 1457610867.0983107, 1458808523.9593785, 1460004043.6892276, 1461197439.9411187, 1462388725.7856474, 1463577913.73388, 1464765015.7596416, 1465950043.3209944, 1467133007.3809304, 1468313918.4273136, 1469492786.4920897, 1470669621.1697993, 1471844431.635414, 1473017226.661519, 1474188014.634872]}, {\"line\": {\"color\": \"#d62728\", \"dash\": \"dash\"}, \"mode\": \"lines\", \"name\": \"Fixed Cell Concentration\", \"type\": \"scatter\", \"x\": [20.0, 21.0, 22.0, 23.0, 24.0, 25.0, 26.0, 27.0, 28.0, 29.0, 30.0, 31.0, 32.0, 33.0, 34.0, 35.0, 36.0, 37.0, 38.0, 39.0, 40.0, 41.0, 42.0, 43.0, 44.0, 45.0, 46.0, 47.0, 48.0, 49.0, 50.0, 51.0, 52.0, 53.0, 54.0, 55.0, 56.0, 57.0, 58.0, 59.0, 60.0, 61.0, 62.0, 63.0, 64.0, 65.0, 66.0, 67.0, 68.0, 69.0, 70.0, 71.0, 72.0, 73.0, 74.0, 75.0, 76.0, 77.0, 78.0, 79.0, 80.0, 81.0, 82.0, 83.0, 84.0, 85.0, 86.0, 87.0, 88.0, 89.0, 90.0, 91.0, 92.0, 93.0, 94.0, 95.0, 96.0, 97.0, 98.0, 99.0, 100.0, 101.0, 102.0, 103.0, 104.0, 105.0, 106.0, 107.0, 108.0, 109.0, 110.0, 111.0, 112.0, 113.0, 114.0, 115.0, 116.0, 117.0, 118.0, 119.0, 120.0, 121.0, 122.0, 123.0, 124.0, 125.0, 126.0, 127.0, 128.0, 129.0, 130.0, 131.0, 132.0, 133.0, 134.0, 135.0, 136.0, 137.0, 138.0, 139.0, 140.0, 141.0, 142.0, 143.0, 144.0, 145.0, 146.0, 147.0, 148.0, 149.0, 150.0, 151.0, 152.0, 153.0, 154.0, 155.0, 156.0, 157.0, 158.0, 159.0, 160.0, 161.0, 162.0, 163.0, 164.0, 165.0, 166.0, 167.0, 168.0, 169.0, 170.0, 171.0, 172.0, 173.0, 174.0, 175.0, 176.0, 177.0, 178.0, 179.0, 180.0, 181.0, 182.0, 183.0, 184.0, 185.0, 186.0, 187.0, 188.0, 189.0, 190.0, 191.0, 192.0, 193.0, 194.0, 195.0, 196.0, 197.0, 198.0, 199.0, 200.0, 201.0, 202.0, 203.0, 204.0, 205.0, 206.0, 207.0, 208.0, 209.0, 210.0, 211.0, 212.0, 213.0, 214.0, 215.0, 216.0, 217.0, 218.0, 219.0, 220.0, 221.0, 222.0, 223.0, 224.0, 225.0, 226.0, 227.0, 228.0, 229.0, 230.0, 231.0, 232.0, 233.0, 234.0, 235.0, 236.0, 237.0, 238.0, 239.0, 240.0, 241.0, 242.0, 243.0, 244.0, 245.0, 246.0, 247.0, 248.0, 249.0], \"y\": [800000000.0, 800000000.0, 800000000.0, 800000000.0, 800000000.0, 800000000.0, 800000000.0, 800000000.0, 800000000.0, 800000000.0, 800000000.0, 800000000.0, 800000000.0, 800000000.0, 800000000.0, 800000000.0, 800000000.0, 800000000.0, 800000000.0, 800000000.0, 800000000.0, 800000000.0, 800000000.0, 800000000.0, 800000000.0, 800000000.0, 800000000.0, 800000000.0, 800000000.0, 800000000.0, 800000000.0, 800000000.0, 800000000.0, 800000000.0, 800000000.0, 800000000.0, 800000000.0, 800000000.0, 800000000.0, 800000000.0, 800000000.0, 800000000.0, 800000000.0, 800000000.0, 800000000.0, 800000000.0, 800000000.0, 800000000.0, 800000000.0, 800000000.0, 800000000.0, 800000000.0, 800000000.0, 800000000.0, 800000000.0, 800000000.0, 800000000.0, 800000000.0, 800000000.0, 800000000.0, 800000000.0, 800000000.0, 800000000.0, 800000000.0, 800000000.0, 800000000.0, 800000000.0, 800000000.0, 800000000.0, 800000000.0, 800000000.0, 800000000.0, 800000000.0, 800000000.0, 800000000.0, 800000000.0, 800000000.0, 800000000.0, 800000000.0, 800000000.0, 800000000.0, 800000000.0, 800000000.0, 800000000.0, 800000000.0, 800000000.0, 800000000.0, 800000000.0, 800000000.0, 800000000.0, 800000000.0, 800000000.0, 800000000.0, 800000000.0, 800000000.0, 800000000.0, 800000000.0, 800000000.0, 800000000.0, 800000000.0, 800000000.0, 800000000.0, 800000000.0, 800000000.0, 800000000.0, 800000000.0, 800000000.0, 800000000.0, 800000000.0, 800000000.0, 800000000.0, 800000000.0, 800000000.0, 800000000.0, 800000000.0, 800000000.0, 800000000.0, 800000000.0, 800000000.0, 800000000.0, 800000000.0, 800000000.0, 800000000.0, 800000000.0, 800000000.0, 800000000.0, 800000000.0, 800000000.0, 800000000.0, 800000000.0, 800000000.0, 800000000.0, 800000000.0, 800000000.0, 800000000.0, 800000000.0, 800000000.0, 800000000.0, 800000000.0, 800000000.0, 800000000.0, 800000000.0, 800000000.0, 800000000.0, 800000000.0, 800000000.0, 800000000.0, 800000000.0, 800000000.0, 800000000.0, 800000000.0, 800000000.0, 800000000.0, 800000000.0, 800000000.0, 800000000.0, 800000000.0, 800000000.0, 800000000.0, 800000000.0, 800000000.0, 800000000.0, 800000000.0, 800000000.0, 800000000.0, 800000000.0, 800000000.0, 800000000.0, 800000000.0, 800000000.0, 800000000.0, 800000000.0, 800000000.0, 800000000.0, 800000000.0, 800000000.0, 800000000.0, 800000000.0, 800000000.0, 800000000.0, 800000000.0, 800000000.0, 800000000.0, 800000000.0, 800000000.0, 800000000.0, 800000000.0, 800000000.0, 800000000.0, 800000000.0, 800000000.0, 800000000.0, 800000000.0, 800000000.0, 800000000.0, 800000000.0, 800000000.0, 800000000.0, 800000000.0, 800000000.0, 800000000.0, 800000000.0, 800000000.0, 800000000.0, 800000000.0, 800000000.0, 800000000.0, 800000000.0, 800000000.0, 800000000.0, 800000000.0, 800000000.0, 800000000.0, 800000000.0, 800000000.0, 800000000.0, 800000000.0, 800000000.0, 800000000.0, 800000000.0, 800000000.0, 800000000.0, 800000000.0, 800000000.0, 800000000.0, 800000000.0, 800000000.0, 800000000.0, 800000000.0, 800000000.0]}],\n",
       "                        {\"legend\": {\"x\": 0.015, \"y\": 0.95}, \"showlegend\": true, \"template\": {\"data\": {\"bar\": [{\"error_x\": {\"color\": \"#2a3f5f\"}, \"error_y\": {\"color\": \"#2a3f5f\"}, \"marker\": {\"line\": {\"color\": \"white\", \"width\": 0.5}}, \"type\": \"bar\"}], \"barpolar\": [{\"marker\": {\"line\": {\"color\": \"white\", \"width\": 0.5}}, \"type\": \"barpolar\"}], \"carpet\": [{\"aaxis\": {\"endlinecolor\": \"#2a3f5f\", \"gridcolor\": \"#C8D4E3\", \"linecolor\": \"#C8D4E3\", \"minorgridcolor\": \"#C8D4E3\", \"startlinecolor\": \"#2a3f5f\"}, \"baxis\": {\"endlinecolor\": \"#2a3f5f\", \"gridcolor\": \"#C8D4E3\", \"linecolor\": \"#C8D4E3\", \"minorgridcolor\": \"#C8D4E3\", \"startlinecolor\": \"#2a3f5f\"}, \"type\": \"carpet\"}], \"choropleth\": [{\"colorbar\": {\"outlinewidth\": 0, \"ticks\": \"\"}, \"type\": \"choropleth\"}], \"contour\": [{\"colorbar\": {\"outlinewidth\": 0, \"ticks\": \"\"}, \"colorscale\": [[0.0, \"#0d0887\"], [0.1111111111111111, \"#46039f\"], [0.2222222222222222, \"#7201a8\"], [0.3333333333333333, \"#9c179e\"], [0.4444444444444444, \"#bd3786\"], [0.5555555555555556, \"#d8576b\"], [0.6666666666666666, \"#ed7953\"], [0.7777777777777778, \"#fb9f3a\"], [0.8888888888888888, \"#fdca26\"], [1.0, \"#f0f921\"]], \"type\": \"contour\"}], \"contourcarpet\": [{\"colorbar\": {\"outlinewidth\": 0, \"ticks\": \"\"}, \"type\": \"contourcarpet\"}], \"heatmap\": [{\"colorbar\": {\"outlinewidth\": 0, \"ticks\": \"\"}, \"colorscale\": [[0.0, \"#0d0887\"], [0.1111111111111111, \"#46039f\"], [0.2222222222222222, \"#7201a8\"], [0.3333333333333333, \"#9c179e\"], [0.4444444444444444, \"#bd3786\"], [0.5555555555555556, \"#d8576b\"], [0.6666666666666666, \"#ed7953\"], [0.7777777777777778, \"#fb9f3a\"], [0.8888888888888888, \"#fdca26\"], [1.0, \"#f0f921\"]], \"type\": \"heatmap\"}], \"heatmapgl\": [{\"colorbar\": {\"outlinewidth\": 0, \"ticks\": \"\"}, \"colorscale\": [[0.0, \"#0d0887\"], [0.1111111111111111, \"#46039f\"], [0.2222222222222222, \"#7201a8\"], [0.3333333333333333, \"#9c179e\"], [0.4444444444444444, \"#bd3786\"], [0.5555555555555556, \"#d8576b\"], [0.6666666666666666, \"#ed7953\"], [0.7777777777777778, \"#fb9f3a\"], [0.8888888888888888, \"#fdca26\"], [1.0, \"#f0f921\"]], \"type\": \"heatmapgl\"}], \"histogram\": [{\"marker\": {\"colorbar\": {\"outlinewidth\": 0, \"ticks\": \"\"}}, \"type\": \"histogram\"}], \"histogram2d\": [{\"colorbar\": {\"outlinewidth\": 0, \"ticks\": \"\"}, \"colorscale\": [[0.0, \"#0d0887\"], [0.1111111111111111, \"#46039f\"], [0.2222222222222222, \"#7201a8\"], [0.3333333333333333, \"#9c179e\"], [0.4444444444444444, \"#bd3786\"], [0.5555555555555556, \"#d8576b\"], [0.6666666666666666, \"#ed7953\"], [0.7777777777777778, \"#fb9f3a\"], [0.8888888888888888, \"#fdca26\"], [1.0, \"#f0f921\"]], \"type\": \"histogram2d\"}], \"histogram2dcontour\": [{\"colorbar\": {\"outlinewidth\": 0, \"ticks\": \"\"}, \"colorscale\": [[0.0, \"#0d0887\"], [0.1111111111111111, \"#46039f\"], [0.2222222222222222, \"#7201a8\"], [0.3333333333333333, \"#9c179e\"], [0.4444444444444444, \"#bd3786\"], [0.5555555555555556, \"#d8576b\"], [0.6666666666666666, \"#ed7953\"], [0.7777777777777778, \"#fb9f3a\"], [0.8888888888888888, \"#fdca26\"], [1.0, \"#f0f921\"]], \"type\": \"histogram2dcontour\"}], \"mesh3d\": [{\"colorbar\": {\"outlinewidth\": 0, \"ticks\": \"\"}, \"type\": \"mesh3d\"}], \"parcoords\": [{\"line\": {\"colorbar\": {\"outlinewidth\": 0, \"ticks\": \"\"}}, \"type\": \"parcoords\"}], \"scatter\": [{\"marker\": {\"colorbar\": {\"outlinewidth\": 0, \"ticks\": \"\"}}, \"type\": \"scatter\"}], \"scatter3d\": [{\"line\": {\"colorbar\": {\"outlinewidth\": 0, \"ticks\": \"\"}}, \"marker\": {\"colorbar\": {\"outlinewidth\": 0, \"ticks\": \"\"}}, \"type\": \"scatter3d\"}], \"scattercarpet\": [{\"marker\": {\"colorbar\": {\"outlinewidth\": 0, \"ticks\": \"\"}}, \"type\": \"scattercarpet\"}], \"scattergeo\": [{\"marker\": {\"colorbar\": {\"outlinewidth\": 0, \"ticks\": \"\"}}, \"type\": \"scattergeo\"}], \"scattergl\": [{\"marker\": {\"colorbar\": {\"outlinewidth\": 0, \"ticks\": \"\"}}, \"type\": \"scattergl\"}], \"scattermapbox\": [{\"marker\": {\"colorbar\": {\"outlinewidth\": 0, \"ticks\": \"\"}}, \"type\": \"scattermapbox\"}], \"scatterpolar\": [{\"marker\": {\"colorbar\": {\"outlinewidth\": 0, \"ticks\": \"\"}}, \"type\": \"scatterpolar\"}], \"scatterpolargl\": [{\"marker\": {\"colorbar\": {\"outlinewidth\": 0, \"ticks\": \"\"}}, \"type\": \"scatterpolargl\"}], \"scatterternary\": [{\"marker\": {\"colorbar\": {\"outlinewidth\": 0, \"ticks\": \"\"}}, \"type\": \"scatterternary\"}], \"surface\": [{\"colorbar\": {\"outlinewidth\": 0, \"ticks\": \"\"}, \"colorscale\": [[0.0, \"#0d0887\"], [0.1111111111111111, \"#46039f\"], [0.2222222222222222, \"#7201a8\"], [0.3333333333333333, \"#9c179e\"], [0.4444444444444444, \"#bd3786\"], [0.5555555555555556, \"#d8576b\"], [0.6666666666666666, \"#ed7953\"], [0.7777777777777778, \"#fb9f3a\"], [0.8888888888888888, \"#fdca26\"], [1.0, \"#f0f921\"]], \"type\": \"surface\"}], \"table\": [{\"cells\": {\"fill\": {\"color\": \"#EBF0F8\"}, \"line\": {\"color\": \"white\"}}, \"header\": {\"fill\": {\"color\": \"#C8D4E3\"}, \"line\": {\"color\": \"white\"}}, \"type\": \"table\"}]}, \"layout\": {\"annotationdefaults\": {\"arrowcolor\": \"#2a3f5f\", \"arrowhead\": 0, \"arrowwidth\": 1}, \"colorscale\": {\"diverging\": [[0, \"#8e0152\"], [0.1, \"#c51b7d\"], [0.2, \"#de77ae\"], [0.3, \"#f1b6da\"], [0.4, \"#fde0ef\"], [0.5, \"#f7f7f7\"], [0.6, \"#e6f5d0\"], [0.7, \"#b8e186\"], [0.8, \"#7fbc41\"], [0.9, \"#4d9221\"], [1, \"#276419\"]], \"sequential\": [[0.0, \"#0d0887\"], [0.1111111111111111, \"#46039f\"], [0.2222222222222222, \"#7201a8\"], [0.3333333333333333, \"#9c179e\"], [0.4444444444444444, \"#bd3786\"], [0.5555555555555556, \"#d8576b\"], [0.6666666666666666, \"#ed7953\"], [0.7777777777777778, \"#fb9f3a\"], [0.8888888888888888, \"#fdca26\"], [1.0, \"#f0f921\"]], \"sequentialminus\": [[0.0, \"#0d0887\"], [0.1111111111111111, \"#46039f\"], [0.2222222222222222, \"#7201a8\"], [0.3333333333333333, \"#9c179e\"], [0.4444444444444444, \"#bd3786\"], [0.5555555555555556, \"#d8576b\"], [0.6666666666666666, \"#ed7953\"], [0.7777777777777778, \"#fb9f3a\"], [0.8888888888888888, \"#fdca26\"], [1.0, \"#f0f921\"]]}, \"colorway\": [\"#636efa\", \"#EF553B\", \"#00cc96\", \"#ab63fa\", \"#FFA15A\", \"#19d3f3\", \"#FF6692\", \"#B6E880\", \"#FF97FF\", \"#FECB52\"], \"font\": {\"color\": \"#2a3f5f\"}, \"geo\": {\"bgcolor\": \"white\", \"lakecolor\": \"white\", \"landcolor\": \"white\", \"showlakes\": true, \"showland\": true, \"subunitcolor\": \"#C8D4E3\"}, \"hoverlabel\": {\"align\": \"left\"}, \"hovermode\": \"closest\", \"mapbox\": {\"style\": \"light\"}, \"paper_bgcolor\": \"white\", \"plot_bgcolor\": \"white\", \"polar\": {\"angularaxis\": {\"gridcolor\": \"#EBF0F8\", \"linecolor\": \"#EBF0F8\", \"ticks\": \"\"}, \"bgcolor\": \"white\", \"radialaxis\": {\"gridcolor\": \"#EBF0F8\", \"linecolor\": \"#EBF0F8\", \"ticks\": \"\"}}, \"scene\": {\"xaxis\": {\"backgroundcolor\": \"white\", \"gridcolor\": \"#DFE8F3\", \"gridwidth\": 2, \"linecolor\": \"#EBF0F8\", \"showbackground\": true, \"ticks\": \"\", \"zerolinecolor\": \"#EBF0F8\"}, \"yaxis\": {\"backgroundcolor\": \"white\", \"gridcolor\": \"#DFE8F3\", \"gridwidth\": 2, \"linecolor\": \"#EBF0F8\", \"showbackground\": true, \"ticks\": \"\", \"zerolinecolor\": \"#EBF0F8\"}, \"zaxis\": {\"backgroundcolor\": \"white\", \"gridcolor\": \"#DFE8F3\", \"gridwidth\": 2, \"linecolor\": \"#EBF0F8\", \"showbackground\": true, \"ticks\": \"\", \"zerolinecolor\": \"#EBF0F8\"}}, \"shapedefaults\": {\"line\": {\"color\": \"#2a3f5f\"}}, \"ternary\": {\"aaxis\": {\"gridcolor\": \"#DFE8F3\", \"linecolor\": \"#A2B1C6\", \"ticks\": \"\"}, \"baxis\": {\"gridcolor\": \"#DFE8F3\", \"linecolor\": \"#A2B1C6\", \"ticks\": \"\"}, \"bgcolor\": \"white\", \"caxis\": {\"gridcolor\": \"#DFE8F3\", \"linecolor\": \"#A2B1C6\", \"ticks\": \"\"}}, \"title\": {\"x\": 0.05}, \"xaxis\": {\"automargin\": true, \"gridcolor\": \"#EBF0F8\", \"linecolor\": \"#EBF0F8\", \"ticks\": \"\", \"zerolinecolor\": \"#EBF0F8\", \"zerolinewidth\": 2}, \"yaxis\": {\"automargin\": true, \"gridcolor\": \"#EBF0F8\", \"linecolor\": \"#EBF0F8\", \"ticks\": \"\", \"zerolinecolor\": \"#EBF0F8\", \"zerolinewidth\": 2}}}, \"title\": {\"text\": \"Growth Rate Dependent Cell Concentration\"}, \"xaxis\": {\"title\": {\"text\": \"Doubling Time (minutes)\"}}, \"yaxis\": {\"exponentformat\": \"power\", \"title\": {\"text\": \"Cell Concentration (mL<sup>-1</sup> &#183; OD<sup>-1</sup>)\"}}},\n",
       "                        {\"responsive\": true}\n",
       "                    ).then(function(){\n",
       "                            \n",
       "var gd = document.getElementById('156e1d2b-07d2-4a7a-9842-a2a6c6ddf104');\n",
       "var x = new MutationObserver(function (mutations, observer) {{\n",
       "        var display = window.getComputedStyle(gd).display;\n",
       "        if (!display || display === 'none') {{\n",
       "            console.log([gd, 'removed!']);\n",
       "            Plotly.purge(gd);\n",
       "            observer.disconnect();\n",
       "        }}\n",
       "}});\n",
       "\n",
       "// Listen for the removal of the full notebook cells\n",
       "var notebookContainer = gd.closest('#notebook-container');\n",
       "if (notebookContainer) {{\n",
       "    x.observe(notebookContainer, {childList: true});\n",
       "}}\n",
       "\n",
       "// Listen for the clearing of the current output cell\n",
       "var outputEl = gd.closest('.output');\n",
       "if (outputEl) {{\n",
       "    x.observe(outputEl, {childList: true});\n",
       "}}\n",
       "\n",
       "                        })\n",
       "                };\n",
       "                });\n",
       "            </script>\n",
       "        </div>"
      ]
     },
     "metadata": {},
     "output_type": "display_data"
    }
   ],
   "source": [
    "dt_min = np.arange(20.0, 250.0, 1.0)\n",
    "results = []\n",
    "for i in dt_min:\n",
    "    results.append(onlyVolkmer(i)) \n",
    "    \n",
    "trace = go.Scatter(\n",
    "    name='Volkmer et al.',\n",
    "    x=dt_min,\n",
    "    y=results,\n",
    "    mode='lines',\n",
    "    line=dict(color='#2ca02c',\n",
    "             dash='dash'\n",
    "            )\n",
    ")\n",
    "\n",
    "# Trace order can be important\n",
    "# with continuous error bars\n",
    "data = [trace]\n",
    "\n",
    "layout = go.Layout(\n",
    "    xaxis=dict(title='Doubling Time (minutes)'),\n",
    "    yaxis=dict(title='Cell Concentration ', exponentformat = 'power'),\n",
    "    title='Growth Rate Dependent Cell Volume',\n",
    "    showlegend = False,\n",
    "    template='plotly_white'\n",
    ")\n",
    "\n",
    "#fig = go.Figure(data=data, layout=layout)\n",
    "\n",
    "\n",
    "#dt_min = np.arange(18.0, 250.0, 5.0)\n",
    "results = []\n",
    "for i in dt_min:\n",
    "    results.append(popCellCount(i, age_array, weights)) \n",
    "    \n",
    "upper_bound = go.Scatter(\n",
    "    name='Upper Bound',\n",
    "    x=dt_min,\n",
    "    y=[i['cell_concentration']+i['std_cell_concentration'] for i in results],\n",
    "    mode='lines',\n",
    "    marker=dict(color=\"#444\"),\n",
    "    line=dict(width=0),\n",
    "    fillcolor='rgba(68, 68, 68, 0.3)',\n",
    "    fill='tonexty',\n",
    "    showlegend=False\n",
    ")\n",
    "\n",
    "trace = go.Scatter(\n",
    "    name='Cooper and Helmstetter',\n",
    "    x=dt_min,\n",
    "    y=[i['cell_concentration'] for i in results],\n",
    "    mode='lines',\n",
    "    line=dict(color='rgb(31, 119, 180)'),\n",
    "    fillcolor='rgba(68, 68, 68, 0.3)',\n",
    "    fill='tonexty')\n",
    "\n",
    "\"\"\"\n",
    "trace1 = go.Scatter(\n",
    "    name='Fixed Cell Concentration',\n",
    "    x=[58.0516142],\n",
    "    y=[popCellCount(58.0516142, age_array, weights)['cell_concentration']],\n",
    "    marker=dict(size=10, \n",
    "                color='rgb(0,0,0)',\n",
    "                symbol=4,\n",
    "                sizemin=1),\n",
    "    showlegend=False\n",
    ")\n",
    "\"\"\"\n",
    "\n",
    "trace2 = go.Scatter(\n",
    "    name='Fixed Cell Concentration',\n",
    "    x=dt_min,\n",
    "    y=[8.0*10.0**8.0]*len(dt_min),\n",
    "    mode='lines',\n",
    "    line=dict(color='#d62728',\n",
    "             dash='dash'\n",
    "            )\n",
    "    )\n",
    "\n",
    "lower_bound = go.Scatter(\n",
    "    name='Lower Bound',\n",
    "    x=dt_min,\n",
    "    y=[i['cell_concentration']-i['std_cell_concentration'] for i in results],\n",
    "    marker=dict(color=\"#444\"),\n",
    "    line=dict(width=0),\n",
    "    mode='lines',\n",
    "    showlegend=False\n",
    ")\n",
    "\n",
    "# Trace order can be important\n",
    "# with continuous error bars\n",
    "data.append(lower_bound)\n",
    "data.append(trace)\n",
    "data.append(upper_bound)\n",
    "#data.append(trace1)\n",
    "data.append(trace2)\n",
    "\n",
    "layout = go.Layout(\n",
    "    xaxis=dict(title='Doubling Time (minutes)'),\n",
    "    yaxis=dict(title='Cell Concentration (mL<sup>-1</sup> &#183; OD<sup>-1</sup>)', exponentformat = 'power'),\n",
    "    title='Growth Rate Dependent Cell Concentration',\n",
    "    showlegend = True,\n",
    "    template='plotly_white'\n",
    ")\n",
    "\n",
    "fig = go.Figure(data=data, layout=layout)\n",
    "\n",
    "\"\"\"\n",
    "fig.update_layout(\n",
    "    shapes=[\n",
    "        # Line Vertical\n",
    "        go.layout.Shape(\n",
    "            type=\"line\",\n",
    "            x0=58.0516142,\n",
    "            y0=1.314709*10**8.0,\n",
    "            x1=58.0516142,\n",
    "            y1=popCellCount(58.0516142, age_array, weights)['cell_concentration'],\n",
    "            line=dict(\n",
    "                color=\"#d62728\",\n",
    "                width=2,\n",
    "                dash=\"dashdot\",\n",
    "            )\n",
    "        ),\n",
    "        # Line Horizontal\n",
    "        go.layout.Shape(\n",
    "            type=\"line\",\n",
    "            x0=18,\n",
    "            y0=popCellCount(58.0516142, age_array, weights)['cell_concentration'],\n",
    "            x1=58.0516142,\n",
    "            y1=popCellCount(58.0516142, age_array, weights)['cell_concentration'],\n",
    "            line=dict(\n",
    "                color=\"#d62728\",\n",
    "                width=2,\n",
    "                dash=\"dashdot\",\n",
    "            ),\n",
    "        ),\n",
    "    ],\n",
    "    \"\"\"\n",
    "\n",
    "\"\"\"\n",
    "fig.update_layout(\n",
    "    annotations=[\n",
    "        go.layout.Annotation(\n",
    "            x=78,\n",
    "            y=0.77*10**9.0,\n",
    "            xref=\"x\",\n",
    "            yref=\"y\",\n",
    "            text=\"(58.05, 0.8x10<sup>9</sup>)\",\n",
    "            showarrow=False,\n",
    "            arrowhead=0,\n",
    "            ax=0,\n",
    "            ay=0,\n",
    "            font=dict(\n",
    "                color=\"#d62728\"\n",
    "            )\n",
    "        )\n",
    "    ]\n",
    ")\n",
    "\"\"\"\n",
    "\n",
    "fig.update_layout(\n",
    "    legend=go.layout.Legend(\n",
    "        x=0.015,\n",
    "        y=0.95\n",
    "    )\n",
    ")\n",
    "\n",
    "iplot(fig, filename='pandas-continuous-error-bars')"
   ]
  },
  {
   "cell_type": "code",
   "execution_count": 10,
   "metadata": {},
   "outputs": [],
   "source": [
    "plotly.io.write_image(fig, 'volkmer_CH_dt_min.png', width=1000, height=600)"
   ]
  },
  {
   "cell_type": "code",
   "execution_count": 123,
   "metadata": {},
   "outputs": [],
   "source": [
    "##################################################\n",
    "######## subplot with the three OD cell count ####\n",
    "##################################################"
   ]
  },
  {
   "cell_type": "code",
   "execution_count": 136,
   "metadata": {},
   "outputs": [
    {
     "data": {
      "application/vnd.plotly.v1+json": {
       "config": {
        "plotlyServerURL": "https://plot.ly"
       },
       "data": [
        {
         "type": "surface",
         "x": [
          10,
          20,
          30,
          40,
          50,
          60,
          70,
          80,
          90,
          100,
          110,
          120,
          130,
          140,
          150,
          160,
          170,
          180,
          190,
          200,
          210,
          220,
          230,
          240
         ],
         "y": [
          0.1,
          0.2,
          0.30000000000000004,
          0.4,
          0.5,
          0.6,
          0.7000000000000001,
          0.8,
          0.9,
          1,
          1.1,
          1.2000000000000002,
          1.3000000000000003,
          1.4000000000000001
         ],
         "z": [
          [
           1487894.5533590417,
           2975789.1067180834,
           4463683.660077126,
           5951578.213436167,
           7439472.766795208,
           8927367.32015425,
           10415261.873513293,
           11903156.426872334,
           13391050.980231375,
           14878945.533590415,
           16366840.086949458,
           17854734.640308503,
           19342629.193667546,
           20830523.747026585
          ],
          [
           17273241.35409365,
           34546482.7081873,
           51819724.062280945,
           69092965.4163746,
           86366206.77046824,
           103639448.12456188,
           120912689.47865555,
           138185930.8327492,
           155459172.18684283,
           172732413.54093647,
           190005654.89503014,
           207278896.24912378,
           224552137.60321745,
           241825378.9573111
          ],
          [
           38763837.511762165,
           77527675.02352433,
           116291512.53528652,
           155055350.04704866,
           193819187.55881083,
           232583025.070573,
           271346862.5823352,
           310110700.0940973,
           348874537.6058595,
           387638375.11762166,
           426402212.62938386,
           465166050.14114606,
           503929887.65290827,
           542693725.1646703
          ],
          [
           57268332.905082814,
           114536665.81016563,
           171804998.71524847,
           229073331.62033126,
           286341664.52541405,
           343609997.4304969,
           400878330.3355797,
           458146663.2406625,
           515414996.1457453,
           572683329.0508281,
           629951661.9559109,
           687219994.8609939,
           744488327.7660767,
           801756660.6711594
          ],
          [
           71430158.27682188,
           142860316.55364376,
           214290474.83046564,
           285720633.1072875,
           357150791.3841094,
           428580949.6609312,
           500011107.9377532,
           571441266.214575,
           642871424.4913969,
           714301582.7682188,
           785731741.0450407,
           857161899.3218626,
           928592057.5986845,
           1000022215.8755064
          ],
          [
           81871887.68182987,
           163743775.36365974,
           245615663.0454896,
           327487550.7273195,
           409359438.4091493,
           491231326.0909791,
           573103213.772809,
           654975101.454639,
           736846989.1364688,
           818718876.8182986,
           900590764.5001285,
           982462652.1819584,
           1064334539.8637884,
           1146206427.545618
          ],
          [
           89502534.95543675,
           179005069.9108735,
           268507604.86631024,
           358010139.821747,
           447512674.7771837,
           537015209.7326205,
           626517744.6880573,
           716020279.643494,
           805522814.5989307,
           895025349.5543674,
           984527884.5098042,
           1074030419.465241,
           1163532954.420678,
           1253035489.3761146
          ],
          [
           95115466.13572843,
           190230932.27145687,
           285346398.4071853,
           380461864.54291373,
           475577330.67864215,
           570692796.8143705,
           665808262.9500991,
           760923729.0858275,
           856039195.221556,
           951154661.3572843,
           1046270127.4930128,
           1141385593.6287413,
           1236501059.7644699,
           1331616525.9001982
          ],
          [
           99317232.91546303,
           198634465.83092606,
           297951698.74638915,
           397268931.6618521,
           496586164.57731515,
           595903397.4927782,
           695220630.4082413,
           794537863.3237042,
           893855096.2391673,
           993172329.1546303,
           1092489562.0700934,
           1191806794.9855566,
           1291124027.9010196,
           1390441260.8164825
          ],
          [
           102544942.85549659,
           205089885.71099317,
           307634828.56648976,
           410179771.42198634,
           512724714.27748287,
           615269657.1329794,
           717814599.988476,
           820359542.8439727,
           922904485.6994692,
           1025449428.5549657,
           1127994371.4104624,
           1230539314.265959,
           1333084257.1214557,
           1435629199.976952
          ],
          [
           105103937.68532589,
           210207875.37065178,
           315311813.0559777,
           420415750.74130356,
           525519688.4266294,
           630623626.1119553,
           735727563.7972813,
           840831501.4826071,
           945935439.167933,
           1051039376.8532588,
           1156143314.5385847,
           1261247252.2239108,
           1366351189.9092367,
           1471455127.5945625
          ],
          [
           107203985.8052974,
           214407971.6105948,
           321611957.41589224,
           428815943.2211896,
           536019929.026487,
           643223914.8317844,
           750427900.6370819,
           857631886.4423792,
           964835872.2476766,
           1072039858.052974,
           1179243843.8582714,
           1286447829.663569,
           1393651815.4688663,
           1500855801.2741637
          ],
          [
           108987997.34215933,
           217975994.68431866,
           326963992.026478,
           435951989.3686373,
           544939986.7107966,
           653927984.0529559,
           762915981.3951153,
           871903978.7372746,
           980891976.0794339,
           1089879973.4215932,
           1198867970.7637527,
           1307855968.105912,
           1416843965.4480715,
           1525831962.7902305
          ],
          [
           110552991.59710501,
           221105983.19421002,
           331658974.7913151,
           442211966.38842005,
           552764957.985525,
           663317949.58263,
           773870941.1797351,
           884423932.7768401,
           994976924.373945,
           1105529915.97105,
           1216082907.568155,
           1326635899.1652603,
           1437188890.7623653,
           1547741882.3594701
          ],
          [
           111964777.92145735,
           223929555.8429147,
           335894333.76437205,
           447859111.6858294,
           559823889.6072867,
           671788667.528744,
           783753445.4502014,
           895718223.3716588,
           1007683001.2931161,
           1119647779.2145734,
           1231612557.136031,
           1343577335.0574882,
           1455542112.9789457,
           1567506890.9004028
          ],
          [
           113268014.34218477,
           226536028.68436953,
           339804043.02655435,
           453072057.36873907,
           566340071.7109238,
           679608086.0531086,
           792876100.3952934,
           906144114.7374781,
           1019412129.0796628,
           1132680143.4218476,
           1245948157.7640324,
           1359216172.1062174,
           1472484186.4484022,
           1585752200.7905867
          ],
          [
           114493027.74541128,
           228986055.49082255,
           343479083.2362339,
           457972110.9816451,
           572465138.7270564,
           686958166.4724677,
           801451194.217879,
           915944221.9632902,
           1030437249.7087015,
           1144930277.4541128,
           1259423305.1995242,
           1373916332.9449356,
           1488409360.690347,
           1602902388.435758
          ],
          [
           115660420.45519334,
           231320840.91038668,
           346981261.36558,
           462641681.82077336,
           578302102.2759666,
           693962522.7311599,
           809622943.1863533,
           925283363.6415467,
           1040943784.09674,
           1156604204.5519333,
           1272264625.0071268,
           1387925045.46232,
           1503585465.9175136,
           1619245886.3727067
          ],
          [
           116784181.72684284,
           233568363.45368567,
           350352545.1805285,
           467136726.90737134,
           583920908.6342142,
           700705090.3610569,
           817489272.0878999,
           934273453.8147427,
           1051057635.5415856,
           1167841817.2684283,
           1284625998.9952712,
           1401410180.722114,
           1518194362.4489572,
           1634978544.1757998
          ],
          [
           117873794.09983765,
           235747588.1996753,
           353621382.299513,
           471495176.3993506,
           589368970.4991882,
           707242764.5990258,
           825116558.6988635,
           942990352.7987012,
           1060864146.8985387,
           1178737940.9983764,
           1296611735.0982141,
           1414485529.198052,
           1532359323.2978897,
           1650233117.397727
          ],
          [
           118935664.15675087,
           237871328.31350175,
           356806992.47025263,
           475742656.6270035,
           594678320.7837543,
           713613984.9405051,
           832549649.0972562,
           951485313.254007,
           1070420977.4107579,
           1189356641.5675087,
           1308292305.7242596,
           1427227969.8810105,
           1546163634.0377617,
           1665099298.1945124
          ],
          [
           119974098.1080534,
           239948196.2161068,
           359922294.3241602,
           479896392.4322136,
           599870490.540267,
           719844588.6483203,
           839818686.7563739,
           959792784.8644272,
           1079766882.9724805,
           1199740981.080534,
           1319715079.1885874,
           1439689177.2966409,
           1559663275.4046946,
           1679637373.5127478
          ],
          [
           120991969.51692457,
           241983939.03384915,
           362975908.5507738,
           483967878.0676983,
           604959847.5846229,
           725951817.1015474,
           846943786.6184721,
           967935756.1353966,
           1088927725.652321,
           1209919695.1692457,
           1330911664.6861703,
           1451903634.2030952,
           1572895603.7200198,
           1693887573.2369442
          ],
          [
           121991177.83080064,
           243982355.66160128,
           365973533.49240196,
           487964711.32320255,
           609955889.1540031,
           731947066.9848038,
           853938244.8156044,
           975929422.6464051,
           1097920600.4772058,
           1219911778.3080063,
           1341902956.138807,
           1463894133.9696078,
           1585885311.8004086,
           1707876489.631209
          ]
         ]
        }
       ],
       "layout": {
        "autosize": false,
        "height": 500,
        "margin": {
         "b": 65,
         "l": 65,
         "r": 50,
         "t": 90
        },
        "template": {
         "data": {
          "bar": [
           {
            "error_x": {
             "color": "#2a3f5f"
            },
            "error_y": {
             "color": "#2a3f5f"
            },
            "marker": {
             "line": {
              "color": "#E5ECF6",
              "width": 0.5
             }
            },
            "type": "bar"
           }
          ],
          "barpolar": [
           {
            "marker": {
             "line": {
              "color": "#E5ECF6",
              "width": 0.5
             }
            },
            "type": "barpolar"
           }
          ],
          "carpet": [
           {
            "aaxis": {
             "endlinecolor": "#2a3f5f",
             "gridcolor": "white",
             "linecolor": "white",
             "minorgridcolor": "white",
             "startlinecolor": "#2a3f5f"
            },
            "baxis": {
             "endlinecolor": "#2a3f5f",
             "gridcolor": "white",
             "linecolor": "white",
             "minorgridcolor": "white",
             "startlinecolor": "#2a3f5f"
            },
            "type": "carpet"
           }
          ],
          "choropleth": [
           {
            "colorbar": {
             "outlinewidth": 0,
             "ticks": ""
            },
            "type": "choropleth"
           }
          ],
          "contour": [
           {
            "colorbar": {
             "outlinewidth": 0,
             "ticks": ""
            },
            "colorscale": [
             [
              0,
              "#0d0887"
             ],
             [
              0.1111111111111111,
              "#46039f"
             ],
             [
              0.2222222222222222,
              "#7201a8"
             ],
             [
              0.3333333333333333,
              "#9c179e"
             ],
             [
              0.4444444444444444,
              "#bd3786"
             ],
             [
              0.5555555555555556,
              "#d8576b"
             ],
             [
              0.6666666666666666,
              "#ed7953"
             ],
             [
              0.7777777777777778,
              "#fb9f3a"
             ],
             [
              0.8888888888888888,
              "#fdca26"
             ],
             [
              1,
              "#f0f921"
             ]
            ],
            "type": "contour"
           }
          ],
          "contourcarpet": [
           {
            "colorbar": {
             "outlinewidth": 0,
             "ticks": ""
            },
            "type": "contourcarpet"
           }
          ],
          "heatmap": [
           {
            "colorbar": {
             "outlinewidth": 0,
             "ticks": ""
            },
            "colorscale": [
             [
              0,
              "#0d0887"
             ],
             [
              0.1111111111111111,
              "#46039f"
             ],
             [
              0.2222222222222222,
              "#7201a8"
             ],
             [
              0.3333333333333333,
              "#9c179e"
             ],
             [
              0.4444444444444444,
              "#bd3786"
             ],
             [
              0.5555555555555556,
              "#d8576b"
             ],
             [
              0.6666666666666666,
              "#ed7953"
             ],
             [
              0.7777777777777778,
              "#fb9f3a"
             ],
             [
              0.8888888888888888,
              "#fdca26"
             ],
             [
              1,
              "#f0f921"
             ]
            ],
            "type": "heatmap"
           }
          ],
          "heatmapgl": [
           {
            "colorbar": {
             "outlinewidth": 0,
             "ticks": ""
            },
            "colorscale": [
             [
              0,
              "#0d0887"
             ],
             [
              0.1111111111111111,
              "#46039f"
             ],
             [
              0.2222222222222222,
              "#7201a8"
             ],
             [
              0.3333333333333333,
              "#9c179e"
             ],
             [
              0.4444444444444444,
              "#bd3786"
             ],
             [
              0.5555555555555556,
              "#d8576b"
             ],
             [
              0.6666666666666666,
              "#ed7953"
             ],
             [
              0.7777777777777778,
              "#fb9f3a"
             ],
             [
              0.8888888888888888,
              "#fdca26"
             ],
             [
              1,
              "#f0f921"
             ]
            ],
            "type": "heatmapgl"
           }
          ],
          "histogram": [
           {
            "marker": {
             "colorbar": {
              "outlinewidth": 0,
              "ticks": ""
             }
            },
            "type": "histogram"
           }
          ],
          "histogram2d": [
           {
            "colorbar": {
             "outlinewidth": 0,
             "ticks": ""
            },
            "colorscale": [
             [
              0,
              "#0d0887"
             ],
             [
              0.1111111111111111,
              "#46039f"
             ],
             [
              0.2222222222222222,
              "#7201a8"
             ],
             [
              0.3333333333333333,
              "#9c179e"
             ],
             [
              0.4444444444444444,
              "#bd3786"
             ],
             [
              0.5555555555555556,
              "#d8576b"
             ],
             [
              0.6666666666666666,
              "#ed7953"
             ],
             [
              0.7777777777777778,
              "#fb9f3a"
             ],
             [
              0.8888888888888888,
              "#fdca26"
             ],
             [
              1,
              "#f0f921"
             ]
            ],
            "type": "histogram2d"
           }
          ],
          "histogram2dcontour": [
           {
            "colorbar": {
             "outlinewidth": 0,
             "ticks": ""
            },
            "colorscale": [
             [
              0,
              "#0d0887"
             ],
             [
              0.1111111111111111,
              "#46039f"
             ],
             [
              0.2222222222222222,
              "#7201a8"
             ],
             [
              0.3333333333333333,
              "#9c179e"
             ],
             [
              0.4444444444444444,
              "#bd3786"
             ],
             [
              0.5555555555555556,
              "#d8576b"
             ],
             [
              0.6666666666666666,
              "#ed7953"
             ],
             [
              0.7777777777777778,
              "#fb9f3a"
             ],
             [
              0.8888888888888888,
              "#fdca26"
             ],
             [
              1,
              "#f0f921"
             ]
            ],
            "type": "histogram2dcontour"
           }
          ],
          "mesh3d": [
           {
            "colorbar": {
             "outlinewidth": 0,
             "ticks": ""
            },
            "type": "mesh3d"
           }
          ],
          "parcoords": [
           {
            "line": {
             "colorbar": {
              "outlinewidth": 0,
              "ticks": ""
             }
            },
            "type": "parcoords"
           }
          ],
          "scatter": [
           {
            "marker": {
             "colorbar": {
              "outlinewidth": 0,
              "ticks": ""
             }
            },
            "type": "scatter"
           }
          ],
          "scatter3d": [
           {
            "line": {
             "colorbar": {
              "outlinewidth": 0,
              "ticks": ""
             }
            },
            "marker": {
             "colorbar": {
              "outlinewidth": 0,
              "ticks": ""
             }
            },
            "type": "scatter3d"
           }
          ],
          "scattercarpet": [
           {
            "marker": {
             "colorbar": {
              "outlinewidth": 0,
              "ticks": ""
             }
            },
            "type": "scattercarpet"
           }
          ],
          "scattergeo": [
           {
            "marker": {
             "colorbar": {
              "outlinewidth": 0,
              "ticks": ""
             }
            },
            "type": "scattergeo"
           }
          ],
          "scattergl": [
           {
            "marker": {
             "colorbar": {
              "outlinewidth": 0,
              "ticks": ""
             }
            },
            "type": "scattergl"
           }
          ],
          "scattermapbox": [
           {
            "marker": {
             "colorbar": {
              "outlinewidth": 0,
              "ticks": ""
             }
            },
            "type": "scattermapbox"
           }
          ],
          "scatterpolar": [
           {
            "marker": {
             "colorbar": {
              "outlinewidth": 0,
              "ticks": ""
             }
            },
            "type": "scatterpolar"
           }
          ],
          "scatterpolargl": [
           {
            "marker": {
             "colorbar": {
              "outlinewidth": 0,
              "ticks": ""
             }
            },
            "type": "scatterpolargl"
           }
          ],
          "scatterternary": [
           {
            "marker": {
             "colorbar": {
              "outlinewidth": 0,
              "ticks": ""
             }
            },
            "type": "scatterternary"
           }
          ],
          "surface": [
           {
            "colorbar": {
             "outlinewidth": 0,
             "ticks": ""
            },
            "colorscale": [
             [
              0,
              "#0d0887"
             ],
             [
              0.1111111111111111,
              "#46039f"
             ],
             [
              0.2222222222222222,
              "#7201a8"
             ],
             [
              0.3333333333333333,
              "#9c179e"
             ],
             [
              0.4444444444444444,
              "#bd3786"
             ],
             [
              0.5555555555555556,
              "#d8576b"
             ],
             [
              0.6666666666666666,
              "#ed7953"
             ],
             [
              0.7777777777777778,
              "#fb9f3a"
             ],
             [
              0.8888888888888888,
              "#fdca26"
             ],
             [
              1,
              "#f0f921"
             ]
            ],
            "type": "surface"
           }
          ],
          "table": [
           {
            "cells": {
             "fill": {
              "color": "#EBF0F8"
             },
             "line": {
              "color": "white"
             }
            },
            "header": {
             "fill": {
              "color": "#C8D4E3"
             },
             "line": {
              "color": "white"
             }
            },
            "type": "table"
           }
          ]
         },
         "layout": {
          "annotationdefaults": {
           "arrowcolor": "#2a3f5f",
           "arrowhead": 0,
           "arrowwidth": 1
          },
          "colorscale": {
           "diverging": [
            [
             0,
             "#8e0152"
            ],
            [
             0.1,
             "#c51b7d"
            ],
            [
             0.2,
             "#de77ae"
            ],
            [
             0.3,
             "#f1b6da"
            ],
            [
             0.4,
             "#fde0ef"
            ],
            [
             0.5,
             "#f7f7f7"
            ],
            [
             0.6,
             "#e6f5d0"
            ],
            [
             0.7,
             "#b8e186"
            ],
            [
             0.8,
             "#7fbc41"
            ],
            [
             0.9,
             "#4d9221"
            ],
            [
             1,
             "#276419"
            ]
           ],
           "sequential": [
            [
             0,
             "#0d0887"
            ],
            [
             0.1111111111111111,
             "#46039f"
            ],
            [
             0.2222222222222222,
             "#7201a8"
            ],
            [
             0.3333333333333333,
             "#9c179e"
            ],
            [
             0.4444444444444444,
             "#bd3786"
            ],
            [
             0.5555555555555556,
             "#d8576b"
            ],
            [
             0.6666666666666666,
             "#ed7953"
            ],
            [
             0.7777777777777778,
             "#fb9f3a"
            ],
            [
             0.8888888888888888,
             "#fdca26"
            ],
            [
             1,
             "#f0f921"
            ]
           ],
           "sequentialminus": [
            [
             0,
             "#0d0887"
            ],
            [
             0.1111111111111111,
             "#46039f"
            ],
            [
             0.2222222222222222,
             "#7201a8"
            ],
            [
             0.3333333333333333,
             "#9c179e"
            ],
            [
             0.4444444444444444,
             "#bd3786"
            ],
            [
             0.5555555555555556,
             "#d8576b"
            ],
            [
             0.6666666666666666,
             "#ed7953"
            ],
            [
             0.7777777777777778,
             "#fb9f3a"
            ],
            [
             0.8888888888888888,
             "#fdca26"
            ],
            [
             1,
             "#f0f921"
            ]
           ]
          },
          "colorway": [
           "#636efa",
           "#EF553B",
           "#00cc96",
           "#ab63fa",
           "#FFA15A",
           "#19d3f3",
           "#FF6692",
           "#B6E880",
           "#FF97FF",
           "#FECB52"
          ],
          "font": {
           "color": "#2a3f5f"
          },
          "geo": {
           "bgcolor": "white",
           "lakecolor": "white",
           "landcolor": "#E5ECF6",
           "showlakes": true,
           "showland": true,
           "subunitcolor": "white"
          },
          "hoverlabel": {
           "align": "left"
          },
          "hovermode": "closest",
          "mapbox": {
           "style": "light"
          },
          "paper_bgcolor": "white",
          "plot_bgcolor": "#E5ECF6",
          "polar": {
           "angularaxis": {
            "gridcolor": "white",
            "linecolor": "white",
            "ticks": ""
           },
           "bgcolor": "#E5ECF6",
           "radialaxis": {
            "gridcolor": "white",
            "linecolor": "white",
            "ticks": ""
           }
          },
          "scene": {
           "xaxis": {
            "backgroundcolor": "#E5ECF6",
            "gridcolor": "white",
            "gridwidth": 2,
            "linecolor": "white",
            "showbackground": true,
            "ticks": "",
            "zerolinecolor": "white"
           },
           "yaxis": {
            "backgroundcolor": "#E5ECF6",
            "gridcolor": "white",
            "gridwidth": 2,
            "linecolor": "white",
            "showbackground": true,
            "ticks": "",
            "zerolinecolor": "white"
           },
           "zaxis": {
            "backgroundcolor": "#E5ECF6",
            "gridcolor": "white",
            "gridwidth": 2,
            "linecolor": "white",
            "showbackground": true,
            "ticks": "",
            "zerolinecolor": "white"
           }
          },
          "shapedefaults": {
           "line": {
            "color": "#2a3f5f"
           }
          },
          "ternary": {
           "aaxis": {
            "gridcolor": "white",
            "linecolor": "white",
            "ticks": ""
           },
           "baxis": {
            "gridcolor": "white",
            "linecolor": "white",
            "ticks": ""
           },
           "bgcolor": "#E5ECF6",
           "caxis": {
            "gridcolor": "white",
            "linecolor": "white",
            "ticks": ""
           }
          },
          "title": {
           "x": 0.05
          },
          "xaxis": {
           "automargin": true,
           "gridcolor": "white",
           "linecolor": "white",
           "ticks": "",
           "zerolinecolor": "white",
           "zerolinewidth": 2
          },
          "yaxis": {
           "automargin": true,
           "gridcolor": "white",
           "linecolor": "white",
           "ticks": "",
           "zerolinecolor": "white",
           "zerolinewidth": 2
          }
         }
        },
        "title": {
         "text": "Mt Bruno Elevation"
        },
        "width": 500
       }
      },
      "text/html": [
       "<div>\n",
       "        \n",
       "        \n",
       "            <div id=\"9b93b555-5226-4f94-89a3-078ad45955c1\" class=\"plotly-graph-div\" style=\"height:500px; width:500px;\"></div>\n",
       "            <script type=\"text/javascript\">\n",
       "                require([\"plotly\"], function(Plotly) {\n",
       "                    window.PLOTLYENV=window.PLOTLYENV || {};\n",
       "                    \n",
       "                if (document.getElementById(\"9b93b555-5226-4f94-89a3-078ad45955c1\")) {\n",
       "                    Plotly.newPlot(\n",
       "                        '9b93b555-5226-4f94-89a3-078ad45955c1',\n",
       "                        [{\"type\": \"surface\", \"x\": [10.0, 20.0, 30.0, 40.0, 50.0, 60.0, 70.0, 80.0, 90.0, 100.0, 110.0, 120.0, 130.0, 140.0, 150.0, 160.0, 170.0, 180.0, 190.0, 200.0, 210.0, 220.0, 230.0, 240.0], \"y\": [0.1, 0.2, 0.30000000000000004, 0.4, 0.5, 0.6, 0.7000000000000001, 0.8, 0.9, 1.0, 1.1, 1.2000000000000002, 1.3000000000000003, 1.4000000000000001], \"z\": [[1487894.5533590417, 2975789.1067180834, 4463683.660077126, 5951578.213436167, 7439472.766795208, 8927367.32015425, 10415261.873513293, 11903156.426872334, 13391050.980231375, 14878945.533590415, 16366840.086949458, 17854734.640308503, 19342629.193667546, 20830523.747026585], [17273241.35409365, 34546482.7081873, 51819724.062280945, 69092965.4163746, 86366206.77046824, 103639448.12456188, 120912689.47865555, 138185930.8327492, 155459172.18684283, 172732413.54093647, 190005654.89503014, 207278896.24912378, 224552137.60321745, 241825378.9573111], [38763837.511762165, 77527675.02352433, 116291512.53528652, 155055350.04704866, 193819187.55881083, 232583025.070573, 271346862.5823352, 310110700.0940973, 348874537.6058595, 387638375.11762166, 426402212.62938386, 465166050.14114606, 503929887.65290827, 542693725.1646703], [57268332.905082814, 114536665.81016563, 171804998.71524847, 229073331.62033126, 286341664.52541405, 343609997.4304969, 400878330.3355797, 458146663.2406625, 515414996.1457453, 572683329.0508281, 629951661.9559109, 687219994.8609939, 744488327.7660767, 801756660.6711594], [71430158.27682188, 142860316.55364376, 214290474.83046564, 285720633.1072875, 357150791.3841094, 428580949.6609312, 500011107.9377532, 571441266.214575, 642871424.4913969, 714301582.7682188, 785731741.0450407, 857161899.3218626, 928592057.5986845, 1000022215.8755064], [81871887.68182987, 163743775.36365974, 245615663.0454896, 327487550.7273195, 409359438.4091493, 491231326.0909791, 573103213.772809, 654975101.454639, 736846989.1364688, 818718876.8182986, 900590764.5001285, 982462652.1819584, 1064334539.8637884, 1146206427.545618], [89502534.95543675, 179005069.9108735, 268507604.86631024, 358010139.821747, 447512674.7771837, 537015209.7326205, 626517744.6880573, 716020279.643494, 805522814.5989307, 895025349.5543674, 984527884.5098042, 1074030419.465241, 1163532954.420678, 1253035489.3761146], [95115466.13572843, 190230932.27145687, 285346398.4071853, 380461864.54291373, 475577330.67864215, 570692796.8143705, 665808262.9500991, 760923729.0858275, 856039195.221556, 951154661.3572843, 1046270127.4930128, 1141385593.6287413, 1236501059.7644699, 1331616525.9001982], [99317232.91546303, 198634465.83092606, 297951698.74638915, 397268931.6618521, 496586164.57731515, 595903397.4927782, 695220630.4082413, 794537863.3237042, 893855096.2391673, 993172329.1546303, 1092489562.0700934, 1191806794.9855566, 1291124027.9010196, 1390441260.8164825], [102544942.85549659, 205089885.71099317, 307634828.56648976, 410179771.42198634, 512724714.27748287, 615269657.1329794, 717814599.988476, 820359542.8439727, 922904485.6994692, 1025449428.5549657, 1127994371.4104624, 1230539314.265959, 1333084257.1214557, 1435629199.976952], [105103937.68532589, 210207875.37065178, 315311813.0559777, 420415750.74130356, 525519688.4266294, 630623626.1119553, 735727563.7972813, 840831501.4826071, 945935439.167933, 1051039376.8532588, 1156143314.5385847, 1261247252.2239108, 1366351189.9092367, 1471455127.5945625], [107203985.8052974, 214407971.6105948, 321611957.41589224, 428815943.2211896, 536019929.026487, 643223914.8317844, 750427900.6370819, 857631886.4423792, 964835872.2476766, 1072039858.052974, 1179243843.8582714, 1286447829.663569, 1393651815.4688663, 1500855801.2741637], [108987997.34215933, 217975994.68431866, 326963992.026478, 435951989.3686373, 544939986.7107966, 653927984.0529559, 762915981.3951153, 871903978.7372746, 980891976.0794339, 1089879973.4215932, 1198867970.7637527, 1307855968.105912, 1416843965.4480715, 1525831962.7902305], [110552991.59710501, 221105983.19421002, 331658974.7913151, 442211966.38842005, 552764957.985525, 663317949.58263, 773870941.1797351, 884423932.7768401, 994976924.373945, 1105529915.97105, 1216082907.568155, 1326635899.1652603, 1437188890.7623653, 1547741882.3594701], [111964777.92145735, 223929555.8429147, 335894333.76437205, 447859111.6858294, 559823889.6072867, 671788667.528744, 783753445.4502014, 895718223.3716588, 1007683001.2931161, 1119647779.2145734, 1231612557.136031, 1343577335.0574882, 1455542112.9789457, 1567506890.9004028], [113268014.34218477, 226536028.68436953, 339804043.02655435, 453072057.36873907, 566340071.7109238, 679608086.0531086, 792876100.3952934, 906144114.7374781, 1019412129.0796628, 1132680143.4218476, 1245948157.7640324, 1359216172.1062174, 1472484186.4484022, 1585752200.7905867], [114493027.74541128, 228986055.49082255, 343479083.2362339, 457972110.9816451, 572465138.7270564, 686958166.4724677, 801451194.217879, 915944221.9632902, 1030437249.7087015, 1144930277.4541128, 1259423305.1995242, 1373916332.9449356, 1488409360.690347, 1602902388.435758], [115660420.45519334, 231320840.91038668, 346981261.36558, 462641681.82077336, 578302102.2759666, 693962522.7311599, 809622943.1863533, 925283363.6415467, 1040943784.09674, 1156604204.5519333, 1272264625.0071268, 1387925045.46232, 1503585465.9175136, 1619245886.3727067], [116784181.72684284, 233568363.45368567, 350352545.1805285, 467136726.90737134, 583920908.6342142, 700705090.3610569, 817489272.0878999, 934273453.8147427, 1051057635.5415856, 1167841817.2684283, 1284625998.9952712, 1401410180.722114, 1518194362.4489572, 1634978544.1757998], [117873794.09983765, 235747588.1996753, 353621382.299513, 471495176.3993506, 589368970.4991882, 707242764.5990258, 825116558.6988635, 942990352.7987012, 1060864146.8985387, 1178737940.9983764, 1296611735.0982141, 1414485529.198052, 1532359323.2978897, 1650233117.397727], [118935664.15675087, 237871328.31350175, 356806992.47025263, 475742656.6270035, 594678320.7837543, 713613984.9405051, 832549649.0972562, 951485313.254007, 1070420977.4107579, 1189356641.5675087, 1308292305.7242596, 1427227969.8810105, 1546163634.0377617, 1665099298.1945124], [119974098.1080534, 239948196.2161068, 359922294.3241602, 479896392.4322136, 599870490.540267, 719844588.6483203, 839818686.7563739, 959792784.8644272, 1079766882.9724805, 1199740981.080534, 1319715079.1885874, 1439689177.2966409, 1559663275.4046946, 1679637373.5127478], [120991969.51692457, 241983939.03384915, 362975908.5507738, 483967878.0676983, 604959847.5846229, 725951817.1015474, 846943786.6184721, 967935756.1353966, 1088927725.652321, 1209919695.1692457, 1330911664.6861703, 1451903634.2030952, 1572895603.7200198, 1693887573.2369442], [121991177.83080064, 243982355.66160128, 365973533.49240196, 487964711.32320255, 609955889.1540031, 731947066.9848038, 853938244.8156044, 975929422.6464051, 1097920600.4772058, 1219911778.3080063, 1341902956.138807, 1463894133.9696078, 1585885311.8004086, 1707876489.631209]]}],\n",
       "                        {\"autosize\": false, \"height\": 500, \"margin\": {\"b\": 65, \"l\": 65, \"r\": 50, \"t\": 90}, \"template\": {\"data\": {\"bar\": [{\"error_x\": {\"color\": \"#2a3f5f\"}, \"error_y\": {\"color\": \"#2a3f5f\"}, \"marker\": {\"line\": {\"color\": \"#E5ECF6\", \"width\": 0.5}}, \"type\": \"bar\"}], \"barpolar\": [{\"marker\": {\"line\": {\"color\": \"#E5ECF6\", \"width\": 0.5}}, \"type\": \"barpolar\"}], \"carpet\": [{\"aaxis\": {\"endlinecolor\": \"#2a3f5f\", \"gridcolor\": \"white\", \"linecolor\": \"white\", \"minorgridcolor\": \"white\", \"startlinecolor\": \"#2a3f5f\"}, \"baxis\": {\"endlinecolor\": \"#2a3f5f\", \"gridcolor\": \"white\", \"linecolor\": \"white\", \"minorgridcolor\": \"white\", \"startlinecolor\": \"#2a3f5f\"}, \"type\": \"carpet\"}], \"choropleth\": [{\"colorbar\": {\"outlinewidth\": 0, \"ticks\": \"\"}, \"type\": \"choropleth\"}], \"contour\": [{\"colorbar\": {\"outlinewidth\": 0, \"ticks\": \"\"}, \"colorscale\": [[0.0, \"#0d0887\"], [0.1111111111111111, \"#46039f\"], [0.2222222222222222, \"#7201a8\"], [0.3333333333333333, \"#9c179e\"], [0.4444444444444444, \"#bd3786\"], [0.5555555555555556, \"#d8576b\"], [0.6666666666666666, \"#ed7953\"], [0.7777777777777778, \"#fb9f3a\"], [0.8888888888888888, \"#fdca26\"], [1.0, \"#f0f921\"]], \"type\": \"contour\"}], \"contourcarpet\": [{\"colorbar\": {\"outlinewidth\": 0, \"ticks\": \"\"}, \"type\": \"contourcarpet\"}], \"heatmap\": [{\"colorbar\": {\"outlinewidth\": 0, \"ticks\": \"\"}, \"colorscale\": [[0.0, \"#0d0887\"], [0.1111111111111111, \"#46039f\"], [0.2222222222222222, \"#7201a8\"], [0.3333333333333333, \"#9c179e\"], [0.4444444444444444, \"#bd3786\"], [0.5555555555555556, \"#d8576b\"], [0.6666666666666666, \"#ed7953\"], [0.7777777777777778, \"#fb9f3a\"], [0.8888888888888888, \"#fdca26\"], [1.0, \"#f0f921\"]], \"type\": \"heatmap\"}], \"heatmapgl\": [{\"colorbar\": {\"outlinewidth\": 0, \"ticks\": \"\"}, \"colorscale\": [[0.0, \"#0d0887\"], [0.1111111111111111, \"#46039f\"], [0.2222222222222222, \"#7201a8\"], [0.3333333333333333, \"#9c179e\"], [0.4444444444444444, \"#bd3786\"], [0.5555555555555556, \"#d8576b\"], [0.6666666666666666, \"#ed7953\"], [0.7777777777777778, \"#fb9f3a\"], [0.8888888888888888, \"#fdca26\"], [1.0, \"#f0f921\"]], \"type\": \"heatmapgl\"}], \"histogram\": [{\"marker\": {\"colorbar\": {\"outlinewidth\": 0, \"ticks\": \"\"}}, \"type\": \"histogram\"}], \"histogram2d\": [{\"colorbar\": {\"outlinewidth\": 0, \"ticks\": \"\"}, \"colorscale\": [[0.0, \"#0d0887\"], [0.1111111111111111, \"#46039f\"], [0.2222222222222222, \"#7201a8\"], [0.3333333333333333, \"#9c179e\"], [0.4444444444444444, \"#bd3786\"], [0.5555555555555556, \"#d8576b\"], [0.6666666666666666, \"#ed7953\"], [0.7777777777777778, \"#fb9f3a\"], [0.8888888888888888, \"#fdca26\"], [1.0, \"#f0f921\"]], \"type\": \"histogram2d\"}], \"histogram2dcontour\": [{\"colorbar\": {\"outlinewidth\": 0, \"ticks\": \"\"}, \"colorscale\": [[0.0, \"#0d0887\"], [0.1111111111111111, \"#46039f\"], [0.2222222222222222, \"#7201a8\"], [0.3333333333333333, \"#9c179e\"], [0.4444444444444444, \"#bd3786\"], [0.5555555555555556, \"#d8576b\"], [0.6666666666666666, \"#ed7953\"], [0.7777777777777778, \"#fb9f3a\"], [0.8888888888888888, \"#fdca26\"], [1.0, \"#f0f921\"]], \"type\": \"histogram2dcontour\"}], \"mesh3d\": [{\"colorbar\": {\"outlinewidth\": 0, \"ticks\": \"\"}, \"type\": \"mesh3d\"}], \"parcoords\": [{\"line\": {\"colorbar\": {\"outlinewidth\": 0, \"ticks\": \"\"}}, \"type\": \"parcoords\"}], \"scatter\": [{\"marker\": {\"colorbar\": {\"outlinewidth\": 0, \"ticks\": \"\"}}, \"type\": \"scatter\"}], \"scatter3d\": [{\"line\": {\"colorbar\": {\"outlinewidth\": 0, \"ticks\": \"\"}}, \"marker\": {\"colorbar\": {\"outlinewidth\": 0, \"ticks\": \"\"}}, \"type\": \"scatter3d\"}], \"scattercarpet\": [{\"marker\": {\"colorbar\": {\"outlinewidth\": 0, \"ticks\": \"\"}}, \"type\": \"scattercarpet\"}], \"scattergeo\": [{\"marker\": {\"colorbar\": {\"outlinewidth\": 0, \"ticks\": \"\"}}, \"type\": \"scattergeo\"}], \"scattergl\": [{\"marker\": {\"colorbar\": {\"outlinewidth\": 0, \"ticks\": \"\"}}, \"type\": \"scattergl\"}], \"scattermapbox\": [{\"marker\": {\"colorbar\": {\"outlinewidth\": 0, \"ticks\": \"\"}}, \"type\": \"scattermapbox\"}], \"scatterpolar\": [{\"marker\": {\"colorbar\": {\"outlinewidth\": 0, \"ticks\": \"\"}}, \"type\": \"scatterpolar\"}], \"scatterpolargl\": [{\"marker\": {\"colorbar\": {\"outlinewidth\": 0, \"ticks\": \"\"}}, \"type\": \"scatterpolargl\"}], \"scatterternary\": [{\"marker\": {\"colorbar\": {\"outlinewidth\": 0, \"ticks\": \"\"}}, \"type\": \"scatterternary\"}], \"surface\": [{\"colorbar\": {\"outlinewidth\": 0, \"ticks\": \"\"}, \"colorscale\": [[0.0, \"#0d0887\"], [0.1111111111111111, \"#46039f\"], [0.2222222222222222, \"#7201a8\"], [0.3333333333333333, \"#9c179e\"], [0.4444444444444444, \"#bd3786\"], [0.5555555555555556, \"#d8576b\"], [0.6666666666666666, \"#ed7953\"], [0.7777777777777778, \"#fb9f3a\"], [0.8888888888888888, \"#fdca26\"], [1.0, \"#f0f921\"]], \"type\": \"surface\"}], \"table\": [{\"cells\": {\"fill\": {\"color\": \"#EBF0F8\"}, \"line\": {\"color\": \"white\"}}, \"header\": {\"fill\": {\"color\": \"#C8D4E3\"}, \"line\": {\"color\": \"white\"}}, \"type\": \"table\"}]}, \"layout\": {\"annotationdefaults\": {\"arrowcolor\": \"#2a3f5f\", \"arrowhead\": 0, \"arrowwidth\": 1}, \"colorscale\": {\"diverging\": [[0, \"#8e0152\"], [0.1, \"#c51b7d\"], [0.2, \"#de77ae\"], [0.3, \"#f1b6da\"], [0.4, \"#fde0ef\"], [0.5, \"#f7f7f7\"], [0.6, \"#e6f5d0\"], [0.7, \"#b8e186\"], [0.8, \"#7fbc41\"], [0.9, \"#4d9221\"], [1, \"#276419\"]], \"sequential\": [[0.0, \"#0d0887\"], [0.1111111111111111, \"#46039f\"], [0.2222222222222222, \"#7201a8\"], [0.3333333333333333, \"#9c179e\"], [0.4444444444444444, \"#bd3786\"], [0.5555555555555556, \"#d8576b\"], [0.6666666666666666, \"#ed7953\"], [0.7777777777777778, \"#fb9f3a\"], [0.8888888888888888, \"#fdca26\"], [1.0, \"#f0f921\"]], \"sequentialminus\": [[0.0, \"#0d0887\"], [0.1111111111111111, \"#46039f\"], [0.2222222222222222, \"#7201a8\"], [0.3333333333333333, \"#9c179e\"], [0.4444444444444444, \"#bd3786\"], [0.5555555555555556, \"#d8576b\"], [0.6666666666666666, \"#ed7953\"], [0.7777777777777778, \"#fb9f3a\"], [0.8888888888888888, \"#fdca26\"], [1.0, \"#f0f921\"]]}, \"colorway\": [\"#636efa\", \"#EF553B\", \"#00cc96\", \"#ab63fa\", \"#FFA15A\", \"#19d3f3\", \"#FF6692\", \"#B6E880\", \"#FF97FF\", \"#FECB52\"], \"font\": {\"color\": \"#2a3f5f\"}, \"geo\": {\"bgcolor\": \"white\", \"lakecolor\": \"white\", \"landcolor\": \"#E5ECF6\", \"showlakes\": true, \"showland\": true, \"subunitcolor\": \"white\"}, \"hoverlabel\": {\"align\": \"left\"}, \"hovermode\": \"closest\", \"mapbox\": {\"style\": \"light\"}, \"paper_bgcolor\": \"white\", \"plot_bgcolor\": \"#E5ECF6\", \"polar\": {\"angularaxis\": {\"gridcolor\": \"white\", \"linecolor\": \"white\", \"ticks\": \"\"}, \"bgcolor\": \"#E5ECF6\", \"radialaxis\": {\"gridcolor\": \"white\", \"linecolor\": \"white\", \"ticks\": \"\"}}, \"scene\": {\"xaxis\": {\"backgroundcolor\": \"#E5ECF6\", \"gridcolor\": \"white\", \"gridwidth\": 2, \"linecolor\": \"white\", \"showbackground\": true, \"ticks\": \"\", \"zerolinecolor\": \"white\"}, \"yaxis\": {\"backgroundcolor\": \"#E5ECF6\", \"gridcolor\": \"white\", \"gridwidth\": 2, \"linecolor\": \"white\", \"showbackground\": true, \"ticks\": \"\", \"zerolinecolor\": \"white\"}, \"zaxis\": {\"backgroundcolor\": \"#E5ECF6\", \"gridcolor\": \"white\", \"gridwidth\": 2, \"linecolor\": \"white\", \"showbackground\": true, \"ticks\": \"\", \"zerolinecolor\": \"white\"}}, \"shapedefaults\": {\"line\": {\"color\": \"#2a3f5f\"}}, \"ternary\": {\"aaxis\": {\"gridcolor\": \"white\", \"linecolor\": \"white\", \"ticks\": \"\"}, \"baxis\": {\"gridcolor\": \"white\", \"linecolor\": \"white\", \"ticks\": \"\"}, \"bgcolor\": \"#E5ECF6\", \"caxis\": {\"gridcolor\": \"white\", \"linecolor\": \"white\", \"ticks\": \"\"}}, \"title\": {\"x\": 0.05}, \"xaxis\": {\"automargin\": true, \"gridcolor\": \"white\", \"linecolor\": \"white\", \"ticks\": \"\", \"zerolinecolor\": \"white\", \"zerolinewidth\": 2}, \"yaxis\": {\"automargin\": true, \"gridcolor\": \"white\", \"linecolor\": \"white\", \"ticks\": \"\", \"zerolinecolor\": \"white\", \"zerolinewidth\": 2}}}, \"title\": {\"text\": \"Mt Bruno Elevation\"}, \"width\": 500},\n",
       "                        {\"responsive\": true}\n",
       "                    ).then(function(){\n",
       "                            \n",
       "var gd = document.getElementById('9b93b555-5226-4f94-89a3-078ad45955c1');\n",
       "var x = new MutationObserver(function (mutations, observer) {{\n",
       "        var display = window.getComputedStyle(gd).display;\n",
       "        if (!display || display === 'none') {{\n",
       "            console.log([gd, 'removed!']);\n",
       "            Plotly.purge(gd);\n",
       "            observer.disconnect();\n",
       "        }}\n",
       "}});\n",
       "\n",
       "// Listen for the removal of the full notebook cells\n",
       "var notebookContainer = gd.closest('#notebook-container');\n",
       "if (notebookContainer) {{\n",
       "    x.observe(notebookContainer, {childList: true});\n",
       "}}\n",
       "\n",
       "// Listen for the clearing of the current output cell\n",
       "var outputEl = gd.closest('.output');\n",
       "if (outputEl) {{\n",
       "    x.observe(outputEl, {childList: true});\n",
       "}}\n",
       "\n",
       "                        })\n",
       "                };\n",
       "                });\n",
       "            </script>\n",
       "        </div>"
      ]
     },
     "metadata": {},
     "output_type": "display_data"
    }
   ],
   "source": [
    "import pandas as pd\n",
    "\n",
    "#dt_min = np.arange(0.0001, 0.03, 0.001)\n",
    "dt_min = np.arange(10.0, 250.0, 10.0)\n",
    "od = np.arange(0.1, 1.5, 0.1)\n",
    "z = []\n",
    "for gr in dt_min:\n",
    "    x = []\n",
    "    for o in od:\n",
    "        x.append(o*popCellCount(gr, age_array, weights)['cell_concentration'])\n",
    "    z.append(x)\n",
    "        \n",
    "fig = go.Figure(data=[go.Surface(z=z, x=dt_min, y=od)])\n",
    "\n",
    "fig.update_layout(title='Mt Bruno Elevation', autosize=False,\n",
    "                  width=500, height=500,\n",
    "                  margin=dict(l=65, r=50, b=65, t=90))\n",
    "\n",
    "fig.show()"
   ]
  },
  {
   "cell_type": "code",
   "execution_count": null,
   "metadata": {},
   "outputs": [],
   "source": []
  }
 ],
 "metadata": {
  "kernelspec": {
   "display_name": "Python 3",
   "language": "python",
   "name": "python3"
  },
  "language_info": {
   "codemirror_mode": {
    "name": "ipython",
    "version": 3
   },
   "file_extension": ".py",
   "mimetype": "text/x-python",
   "name": "python",
   "nbconvert_exporter": "python",
   "pygments_lexer": "ipython3",
   "version": "3.7.3"
  }
 },
 "nbformat": 4,
 "nbformat_minor": 2
}

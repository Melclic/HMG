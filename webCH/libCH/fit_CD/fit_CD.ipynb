{
 "cells": [
  {
   "cell_type": "code",
   "execution_count": 2,
   "metadata": {},
   "outputs": [],
   "source": [
    "import csv\n",
    "import numpy as np\n",
    "import matplotlib.pyplot as plt"
   ]
  },
  {
   "cell_type": "code",
   "execution_count": 19,
   "metadata": {},
   "outputs": [],
   "source": [
    "a = csv.DictReader(open(\"CD_oldData.csv\"))"
   ]
  },
  {
   "cell_type": "code",
   "execution_count": 20,
   "metadata": {},
   "outputs": [
    {
     "data": {
      "text/plain": [
       "<csv.DictReader at 0x120e78e80>"
      ]
     },
     "execution_count": 20,
     "metadata": {},
     "output_type": "execute_result"
    }
   ],
   "source": [
    "a"
   ]
  },
  {
   "cell_type": "code",
   "execution_count": 25,
   "metadata": {},
   "outputs": [
    {
     "name": "stdout",
     "output_type": "stream",
     "text": [
      "OrderedDict([('GR_keas', '0.0007'), ('GR_keas_copy', '0.0007'), ('C_keas', '150.0278511926'), ('D_keas', '81.0092378269'), ('GR_ori', '0.0144525094'), ('GR_ori_copy', '0.0144525094'), ('C_ori', '135.6704517415'), ('D_ori', '10.0491722993'), ('GR_fit', '0.0007'), ('GR_fit_copy', '0.0007'), ('C_fit', '827.5838848967'), ('D_fit', '152.5729922976')])\n",
      "GR_keas\n",
      "0.0007\n",
      "GR_keas_copy\n",
      "0.0007\n",
      "C_keas\n",
      "150.0278511926\n",
      "D_keas\n",
      "81.0092378269\n",
      "GR_ori\n",
      "0.0144525094\n",
      "GR_ori_copy\n",
      "0.0144525094\n",
      "C_ori\n",
      "135.6704517415\n",
      "D_ori\n",
      "10.0491722993\n",
      "GR_fit\n",
      "0.0007\n",
      "GR_fit_copy\n",
      "0.0007\n",
      "C_fit\n",
      "827.5838848967\n",
      "D_fit\n",
      "152.5729922976\n"
     ]
    }
   ],
   "source": [
    "for i in a:\n",
    "    print(i)\n",
    "    for y in i:\n",
    "        print(y)\n",
    "        print(float(i[y]))\n",
    "    break"
   ]
  },
  {
   "cell_type": "code",
   "execution_count": 27,
   "metadata": {},
   "outputs": [],
   "source": [
    "all_data = {}\n",
    "for row in csv.DictReader(open(\"CD_oldData.csv\")):\n",
    "    for i in row:\n",
    "        if not i in all_data:\n",
    "            all_data[i] = []\n",
    "        else:\n",
    "            try:\n",
    "                all_data[i].append(float(row[i]))\n",
    "            except ValueError:\n",
    "                continue"
   ]
  },
  {
   "cell_type": "code",
   "execution_count": 28,
   "metadata": {},
   "outputs": [
    {
     "data": {
      "text/plain": [
       "dict_keys(['GR_keas', 'GR_keas_copy', 'C_keas', 'D_keas', 'GR_ori', 'GR_ori_copy', 'C_ori', 'D_ori', 'GR_fit', 'GR_fit_copy', 'C_fit', 'D_fit'])"
      ]
     },
     "execution_count": 28,
     "metadata": {},
     "output_type": "execute_result"
    }
   ],
   "source": [
    "all_data.keys()"
   ]
  },
  {
   "cell_type": "code",
   "execution_count": 29,
   "metadata": {},
   "outputs": [
    {
     "data": {
      "text/plain": [
       "246"
      ]
     },
     "execution_count": 29,
     "metadata": {},
     "output_type": "execute_result"
    }
   ],
   "source": [
    "len(all_data['GR_keas'])"
   ]
  },
  {
   "cell_type": "code",
   "execution_count": 30,
   "metadata": {},
   "outputs": [
    {
     "data": {
      "text/plain": [
       "246"
      ]
     },
     "execution_count": 30,
     "metadata": {},
     "output_type": "execute_result"
    }
   ],
   "source": [
    "len(all_data['C_keas'])"
   ]
  },
  {
   "cell_type": "code",
   "execution_count": 32,
   "metadata": {},
   "outputs": [
    {
     "data": {
      "text/plain": [
       "[<matplotlib.lines.Line2D at 0x1218aaef0>]"
      ]
     },
     "execution_count": 32,
     "metadata": {},
     "output_type": "execute_result"
    },
    {
     "data": {
      "image/png": "[encoded data removed]",
      "text/plain": [
       "<Figure size 432x288 with 1 Axes>"
      ]
     },
     "metadata": {
      "needs_background": "light"
     },
     "output_type": "display_data"
    }
   ],
   "source": [
    "plt.plot(all_data['GR_ori'], all_data['C_ori'], 'o', color='black')"
   ]
  },
  {
   "cell_type": "code",
   "execution_count": 33,
   "metadata": {},
   "outputs": [
    {
     "data": {
      "text/plain": [
       "[<matplotlib.lines.Line2D at 0x1219765c0>]"
      ]
     },
     "execution_count": 33,
     "metadata": {},
     "output_type": "execute_result"
    },
    {
     "data": {
      "image/png": "[encoded data removed]",
      "text/plain": [
       "<Figure size 432x288 with 1 Axes>"
      ]
     },
     "metadata": {
      "needs_background": "light"
     },
     "output_type": "display_data"
    }
   ],
   "source": [
    "plt.plot(all_data['GR_ori'], all_data['D_ori'], 'o', color='black')"
   ]
  },
  {
   "cell_type": "code",
   "execution_count": 11,
   "metadata": {},
   "outputs": [
    {
     "data": {
      "text/plain": [
       "['0.0005',\n",
       " '0.0006',\n",
       " '0.0007',\n",
       " '0.0008',\n",
       " '0.0009',\n",
       " '0.001',\n",
       " '0.0011',\n",
       " '0.0012',\n",
       " '0.0013',\n",
       " '0.0014',\n",
       " '0.0015',\n",
       " '0.0016',\n",
       " '0.0017',\n",
       " '0.0018',\n",
       " '0.0019',\n",
       " '0.002',\n",
       " '0.0021',\n",
       " '0.0022',\n",
       " '0.0023',\n",
       " '0.0024',\n",
       " '0.0025',\n",
       " '0.0026',\n",
       " '0.0027',\n",
       " '0.0028',\n",
       " '0.0029',\n",
       " '0.003',\n",
       " '0.0031',\n",
       " '0.0032',\n",
       " '0.0033',\n",
       " '0.0034',\n",
       " '0.0035',\n",
       " '0.0036',\n",
       " '0.0037',\n",
       " '0.0038',\n",
       " '0.0039',\n",
       " '0.004',\n",
       " '0.0041',\n",
       " '0.0042',\n",
       " '0.0043',\n",
       " '0.0044',\n",
       " '0.0045',\n",
       " '0.0046',\n",
       " '0.0047',\n",
       " '0.0048',\n",
       " '0.0049',\n",
       " '0.005',\n",
       " '0.0051',\n",
       " '0.0052',\n",
       " '0.0053',\n",
       " '0.0054',\n",
       " '0.0055',\n",
       " '0.0056',\n",
       " '0.0057',\n",
       " '0.0058',\n",
       " '0.0059',\n",
       " '0.006',\n",
       " '0.0061',\n",
       " '0.0062',\n",
       " '0.0063',\n",
       " '0.0064',\n",
       " '0.0065',\n",
       " '0.0066',\n",
       " '0.0067',\n",
       " '0.0068',\n",
       " '0.0069',\n",
       " '0.007',\n",
       " '0.0071',\n",
       " '0.0072',\n",
       " '0.0073',\n",
       " '0.0074',\n",
       " '0.0075',\n",
       " '0.0076',\n",
       " '0.0077',\n",
       " '0.0078',\n",
       " '0.0079',\n",
       " '0.008',\n",
       " '0.0081',\n",
       " '0.0082',\n",
       " '0.0083',\n",
       " '0.0084',\n",
       " '0.0085',\n",
       " '0.0086',\n",
       " '0.0087',\n",
       " '0.0088',\n",
       " '0.0089',\n",
       " '0.009',\n",
       " '0.0091',\n",
       " '0.0092',\n",
       " '0.0093',\n",
       " '0.0094',\n",
       " '0.0095',\n",
       " '0.0096',\n",
       " '0.0097',\n",
       " '0.0098',\n",
       " '0.0099',\n",
       " '0.01',\n",
       " '0.0101',\n",
       " '0.0102',\n",
       " '0.0103',\n",
       " '0.0104',\n",
       " '0.0105',\n",
       " '0.0106',\n",
       " '0.0107',\n",
       " '0.0108',\n",
       " '0.0109',\n",
       " '0.011',\n",
       " '0.0111',\n",
       " '0.0112',\n",
       " '0.0113',\n",
       " '0.0114',\n",
       " '0.0115',\n",
       " '0.0116',\n",
       " '0.0117',\n",
       " '0.0118',\n",
       " '0.0119',\n",
       " '0.012',\n",
       " '0.0121',\n",
       " '0.0122',\n",
       " '0.0123',\n",
       " '0.0124',\n",
       " '0.0125',\n",
       " '0.0126',\n",
       " '0.0127',\n",
       " '0.0128',\n",
       " '0.0129',\n",
       " '0.013',\n",
       " '0.0131',\n",
       " '0.0132',\n",
       " '0.0133',\n",
       " '0.0134',\n",
       " '0.0135',\n",
       " '0.0136',\n",
       " '0.0137',\n",
       " '0.0138',\n",
       " '0.0139',\n",
       " '0.014',\n",
       " '0.0141',\n",
       " '0.0142',\n",
       " '0.0143',\n",
       " '0.0144',\n",
       " '0.0145',\n",
       " '0.0146',\n",
       " '0.0147',\n",
       " '0.0148',\n",
       " '0.0149',\n",
       " '0.015',\n",
       " '0.0151',\n",
       " '0.0152',\n",
       " '0.0153',\n",
       " '0.0154',\n",
       " '0.0155',\n",
       " '0.0156',\n",
       " '0.0157',\n",
       " '0.0158',\n",
       " '0.0159',\n",
       " '0.016',\n",
       " '0.0161',\n",
       " '0.0162',\n",
       " '0.0163',\n",
       " '0.0164',\n",
       " '0.0165',\n",
       " '0.0166',\n",
       " '0.0167',\n",
       " '0.0168',\n",
       " '0.0169',\n",
       " '0.017',\n",
       " '0.0171',\n",
       " '0.0172',\n",
       " '0.0173',\n",
       " '0.0174',\n",
       " '0.0175',\n",
       " '0.0176',\n",
       " '0.0177',\n",
       " '0.0178',\n",
       " '0.0179',\n",
       " '0.018',\n",
       " '0.0181',\n",
       " '0.0182',\n",
       " '0.0183',\n",
       " '0.0184',\n",
       " '0.0185',\n",
       " '0.0186',\n",
       " '0.0187',\n",
       " '0.0188',\n",
       " '0.0189',\n",
       " '0.019',\n",
       " '0.0191',\n",
       " '0.0192',\n",
       " '0.0193',\n",
       " '0.0194',\n",
       " '0.0195',\n",
       " '0.0196',\n",
       " '0.0197',\n",
       " '0.0198',\n",
       " '0.0199',\n",
       " '0.02',\n",
       " '0.0201',\n",
       " '0.0202',\n",
       " '0.0203',\n",
       " '0.0204',\n",
       " '0.0205',\n",
       " '0.0206',\n",
       " '0.0207',\n",
       " '0.0208',\n",
       " '0.0209',\n",
       " '0.021',\n",
       " '0.0211',\n",
       " '0.0212',\n",
       " '0.0213',\n",
       " '0.0214',\n",
       " '0.0215',\n",
       " '0.0216',\n",
       " '0.0217',\n",
       " '0.0218',\n",
       " '0.0219',\n",
       " '0.022',\n",
       " '0.0221',\n",
       " '0.0222',\n",
       " '0.0223',\n",
       " '0.0224',\n",
       " '0.0225',\n",
       " '0.0226',\n",
       " '0.0227',\n",
       " '0.0228',\n",
       " '0.0229',\n",
       " '0.023',\n",
       " '0.0231',\n",
       " '0.0232',\n",
       " '0.0233',\n",
       " '0.0234',\n",
       " '0.0235',\n",
       " '0.0236',\n",
       " '0.0237',\n",
       " '0.0238',\n",
       " '0.0239',\n",
       " '0.024',\n",
       " '0.0241',\n",
       " '0.0242',\n",
       " '0.0243',\n",
       " '0.0244',\n",
       " '0.0245',\n",
       " '0.0246',\n",
       " '0.0247',\n",
       " '0.0248',\n",
       " '0.0249',\n",
       " '0.025']"
      ]
     },
     "execution_count": 11,
     "metadata": {},
     "output_type": "execute_result"
    }
   ],
   "source": [
    "all_data['GR_keas']"
   ]
  },
  {
   "cell_type": "code",
   "execution_count": 12,
   "metadata": {},
   "outputs": [
    {
     "data": {
      "text/plain": [
       "['176.0656661836',\n",
       " '162.3560904544',\n",
       " '150.0278511926',\n",
       " '138.9417690048',\n",
       " '128.972687803',\n",
       " '120.0080618582',\n",
       " '111.9466852173',\n",
       " '104.6975491412',\n",
       " '98.178814663',\n",
       " '92.3168886693',\n",
       " '87.0455930717',\n",
       " '82.3054176914',\n",
       " '78.0428484198',\n",
       " '74.2097630722',\n",
       " '70.7628881134',\n",
       " '67.6633101223',\n",
       " '64.8760364795',\n",
       " '62.3696003188',\n",
       " '60.1157052826',\n",
       " '58.0889060712',\n",
       " '56.2663211782',\n",
       " '54.6273745704',\n",
       " '53.1535633951',\n",
       " '51.8282490926',\n",
       " '50.6364695554',\n",
       " '49.5647702138',\n",
       " '48.6010521411',\n",
       " '47.7344354626',\n",
       " '46.955136528',\n",
       " '46.2543574585',\n",
       " '45.6241868238',\n",
       " '45.0575103261',\n",
       " '44.547930483',\n",
       " '44.089694404',\n",
       " '43.6776288424',\n",
       " '43.3070817931',\n",
       " '42.973869973',\n",
       " '42.6742315943',\n",
       " '42.4047838961',\n",
       " '42.1624849543',\n",
       " '41.9445993401',\n",
       " '41.7486672386',\n",
       " '41.5724766785',\n",
       " '41.4140385603',\n",
       " '41.2715642002',\n",
       " '41.1434451369',\n",
       " '41.028234973',\n",
       " '40.9246330459',\n",
       " '40.8314697438',\n",
       " '40.7476933016',\n",
       " '40.6723579269',\n",
       " '40.6046131227',\n",
       " '40.5436940854',\n",
       " '40.4889130709',\n",
       " '40.43965163',\n",
       " '40.3953536268',\n",
       " '40.3555189599',\n",
       " '40.3196979167',\n",
       " '40.2874860964',\n",
       " '40.2585198441',\n",
       " '40.2324721461',\n",
       " '40.2090489374',\n",
       " '40.1879857823',\n",
       " '40.1690448886',\n",
       " '40.1520124235',\n",
       " '40.1366960995',\n",
       " '40.1229230032',\n",
       " '40.1105376435',\n",
       " '40.0994001961',\n",
       " '40.0893849251',\n",
       " '40.0803787634',\n",
       " '40.0722800359',\n",
       " '40.0649973124',\n",
       " '40.0584483747',\n",
       " '40.0525592886',\n",
       " '40.0472635695',\n",
       " '40.0425014315',\n",
       " '40.0382191124',\n",
       " '40.0343682672',\n",
       " '40.0309054219',\n",
       " '40.0277914826',\n",
       " '40.0249912947',\n",
       " '40.0224732454',\n",
       " '40.0202089074',\n",
       " '40.0181727174',\n",
       " '40.016341688',\n",
       " '40.0146951476',\n",
       " '40.0132145078',\n",
       " '40.0118830529',\n",
       " '40.0106857515',\n",
       " '40.0096090867',\n",
       " '40.0086409034',\n",
       " '40.0077702714',\n",
       " '40.0069873618',\n",
       " '40.0062833358',\n",
       " '40.0056502454',\n",
       " '40.0050809433',\n",
       " '40.0045690024',\n",
       " '40.0041086432',\n",
       " '40.0036946684',\n",
       " '40.0033224045',\n",
       " '40.0029876488',\n",
       " '40.0026866221',\n",
       " '40.002415926',\n",
       " '40.0021725044',\n",
       " '40.0019536093',\n",
       " '40.0017567693',\n",
       " '40.0015797624',\n",
       " '40.0014205902',\n",
       " '40.0012774557',\n",
       " '40.0011487431',\n",
       " '40.0010329991',\n",
       " '40.0009289172',\n",
       " '40.0008353222',\n",
       " '40.0007511576',\n",
       " '40.0006754732',\n",
       " '40.0006074145',\n",
       " '40.0005462132',\n",
       " '40.0004911784',\n",
       " '40.0004416887',\n",
       " '40.0003971854',\n",
       " '40.0003571662',\n",
       " '40.0003211792',\n",
       " '40.0002888181',\n",
       " '40.0002597176',\n",
       " '40.0002335493',\n",
       " '40.0002100175',\n",
       " '40.0001888568',\n",
       " '40.0001698281',\n",
       " '40.0001527167',\n",
       " '40.0001373295',\n",
       " '40.0001234925',\n",
       " '40.0001110498',\n",
       " '40.0000998607',\n",
       " '40.0000897991',\n",
       " '40.0000807512',\n",
       " '40.0000726149',\n",
       " '40.0000652985',\n",
       " '40.0000587192',\n",
       " '40.0000528028',\n",
       " '40.0000474826',\n",
       " '40.0000426984',\n",
       " '40.0000383962',\n",
       " '40.0000345275',\n",
       " '40.0000310486',\n",
       " '40.0000279202',\n",
       " '40.0000251071',\n",
       " '40.0000225774',\n",
       " '40.0000203025',\n",
       " '40.0000182569',\n",
       " '40.0000164174',\n",
       " '40.0000147632',\n",
       " '40.0000132757',\n",
       " '40.0000119381',\n",
       " '40.0000107353',\n",
       " '40.0000096536',\n",
       " '40.0000086809',\n",
       " '40.0000078063',\n",
       " '40.0000070197',\n",
       " '40.0000063124',\n",
       " '40.0000056764',\n",
       " '40.0000051045',\n",
       " '40.0000045902',\n",
       " '40.0000041277',\n",
       " '40.0000037118',\n",
       " '40.0000033378',\n",
       " '40.0000030015',\n",
       " '40.0000026991',\n",
       " '40.0000024271',\n",
       " '40.0000021826',\n",
       " '40.0000019627',\n",
       " '40.0000017649',\n",
       " '40.0000015871',\n",
       " '40.0000014272',\n",
       " '40.0000012834',\n",
       " '40.0000011541',\n",
       " '40.0000010378',\n",
       " '40.0000009332',\n",
       " '40.0000008392',\n",
       " '40.0000007546',\n",
       " '40.0000006786',\n",
       " '40.0000006102',\n",
       " '40.0000005487',\n",
       " '40.0000004935',\n",
       " '40.0000004437',\n",
       " '40.000000399',\n",
       " '40.0000003588',\n",
       " '40.0000003227',\n",
       " '40.0000002902',\n",
       " '40.0000002609',\n",
       " '40.0000002346',\n",
       " '40.000000211',\n",
       " '40.0000001897',\n",
       " '40.0000001706',\n",
       " '40.0000001534',\n",
       " '40.000000138',\n",
       " '40.0000001241',\n",
       " '40.0000001116',\n",
       " '40.0000001003',\n",
       " '40.0000000902',\n",
       " '40.0000000811',\n",
       " '40.000000073',\n",
       " '40.0000000656',\n",
       " '40.000000059',\n",
       " '40.000000053',\n",
       " '40.0000000477',\n",
       " '40.0000000429',\n",
       " '40.0000000386',\n",
       " '40.0000000347',\n",
       " '40.0000000312',\n",
       " '40.000000028',\n",
       " '40.0000000252',\n",
       " '40.0000000227',\n",
       " '40.0000000204',\n",
       " '40.0000000183',\n",
       " '40.0000000165',\n",
       " '40.0000000148',\n",
       " '40.0000000133',\n",
       " '40.000000012',\n",
       " '40.0000000108',\n",
       " '40.0000000097',\n",
       " '40.0000000087',\n",
       " '40.0000000078',\n",
       " '40.0000000071',\n",
       " '40.0000000063',\n",
       " '40.0000000057',\n",
       " '40.0000000051',\n",
       " '40.0000000046',\n",
       " '40.0000000041',\n",
       " '40.0000000037',\n",
       " '40.0000000034',\n",
       " '40.000000003',\n",
       " '40.0000000027',\n",
       " '40.0000000024',\n",
       " '40.0000000022',\n",
       " '40.000000002',\n",
       " '40.0000000018',\n",
       " '40.0000000016',\n",
       " '40.0000000014',\n",
       " '40.0000000013',\n",
       " '40.0000000012',\n",
       " '40.000000001',\n",
       " '40.0000000009',\n",
       " '40.0000000008',\n",
       " '40.0000000008',\n",
       " '40.0000000007']"
      ]
     },
     "execution_count": 12,
     "metadata": {},
     "output_type": "execute_result"
    }
   ],
   "source": [
    "all_data['C_keas']"
   ]
  },
  {
   "cell_type": "code",
   "execution_count": null,
   "metadata": {},
   "outputs": [],
   "source": []
  },
  {
   "cell_type": "code",
   "execution_count": null,
   "metadata": {},
   "outputs": [],
   "source": []
  },
  {
   "cell_type": "code",
   "execution_count": null,
   "metadata": {},
   "outputs": [],
   "source": []
  },
  {
   "cell_type": "code",
   "execution_count": null,
   "metadata": {},
   "outputs": [],
   "source": []
  },
  {
   "cell_type": "code",
   "execution_count": null,
   "metadata": {},
   "outputs": [],
   "source": [
    "############ D ######"
   ]
  },
  {
   "cell_type": "code",
   "execution_count": 54,
   "metadata": {},
   "outputs": [],
   "source": [
    "all_data = {}\n",
    "for row in csv.DictReader(open(\"D_data2.csv\")):\n",
    "    for i in row:\n",
    "        if not i in all_data:\n",
    "            all_data[i] = []       \n",
    "        try:\n",
    "            all_data[i].append(float(row[i]))\n",
    "        except ValueError:\n",
    "            print(row[i])"
   ]
  },
  {
   "cell_type": "code",
   "execution_count": null,
   "metadata": {},
   "outputs": [],
   "source": [
    "for row in "
   ]
  },
  {
   "cell_type": "code",
   "execution_count": 51,
   "metadata": {},
   "outputs": [
    {
     "data": {
      "text/plain": [
       "dict_keys(['mu_min', 'D_min'])"
      ]
     },
     "execution_count": 51,
     "metadata": {},
     "output_type": "execute_result"
    }
   ],
   "source": [
    "all_data.keys()"
   ]
  },
  {
   "cell_type": "code",
   "execution_count": 55,
   "metadata": {},
   "outputs": [
    {
     "data": {
      "text/plain": [
       "[<matplotlib.lines.Line2D at 0x121f16f98>]"
      ]
     },
     "execution_count": 55,
     "metadata": {},
     "output_type": "execute_result"
    },
    {
     "data": {
      "image/png": "[encoded data removed]",
      "text/plain": [
       "<Figure size 432x288 with 1 Axes>"
      ]
     },
     "metadata": {
      "needs_background": "light"
     },
     "output_type": "display_data"
    }
   ],
   "source": [
    "plt.plot(all_data['mu_min'], all_data['D_min'], 'x', color='black')"
   ]
  },
  {
   "cell_type": "code",
   "execution_count": 96,
   "metadata": {},
   "outputs": [],
   "source": [
    "#C = 44.98*(1.0+(5.206*np.exp(-4.917/tau_h)))\n",
    "def onePhase(x, A1, A2, A3):\n",
    "    #return A1*(1.0+(A2*np.exp(-A3/x)))\n",
    "    return A1*np.exp(-A2*x)+A3"
   ]
  },
  {
   "cell_type": "code",
   "execution_count": 72,
   "metadata": {},
   "outputs": [],
   "source": [
    "from scipy import optimize\n",
    "params, params_covariance = optimize.curve_fit(onePhase, all_data['mu_min'], all_data['D_min'], p0=[20.0, 2.0, 2.0])"
   ]
  },
  {
   "cell_type": "code",
   "execution_count": 73,
   "metadata": {},
   "outputs": [
    {
     "data": {
      "text/plain": [
       "array([39.45631678,  2.        ,  2.        ])"
      ]
     },
     "execution_count": 73,
     "metadata": {},
     "output_type": "execute_result"
    }
   ],
   "source": [
    "params"
   ]
  },
  {
   "cell_type": "code",
   "execution_count": 65,
   "metadata": {},
   "outputs": [
    {
     "data": {
      "text/plain": [
       "[<matplotlib.lines.Line2D at 0x121a1c5f8>]"
      ]
     },
     "execution_count": 65,
     "metadata": {},
     "output_type": "execute_result"
    },
    {
     "data": {
      "image/png": "[encoded data removed]",
      "text/plain": [
       "<Figure size 432x288 with 1 Axes>"
      ]
     },
     "metadata": {
      "needs_background": "light"
     },
     "output_type": "display_data"
    }
   ],
   "source": [
    "plt.plot(all_data['mu_min'], all_data['D_min'], 'x', color='black')\n",
    "plt.plot(np.arange(0.001, 0.04, 0.001), onePhase(np.arange(0.001, 0.04, 0.001), params[0], params[1], params[1]),\n",
    "         label='Fitted function')"
   ]
  },
  {
   "cell_type": "code",
   "execution_count": 97,
   "metadata": {},
   "outputs": [],
   "source": [
    "from lmfit import Model\n",
    "model = Model(onePhase)"
   ]
  },
  {
   "cell_type": "code",
   "execution_count": 98,
   "metadata": {},
   "outputs": [
    {
     "data": {
      "text/plain": [
       "['x']"
      ]
     },
     "execution_count": 98,
     "metadata": {},
     "output_type": "execute_result"
    }
   ],
   "source": [
    "model.independent_vars"
   ]
  },
  {
   "cell_type": "code",
   "execution_count": 99,
   "metadata": {},
   "outputs": [
    {
     "data": {
      "text/plain": [
       "['A1', 'A2', 'A3']"
      ]
     },
     "execution_count": 99,
     "metadata": {},
     "output_type": "execute_result"
    }
   ],
   "source": [
    "model.param_names"
   ]
  },
  {
   "cell_type": "code",
   "execution_count": 100,
   "metadata": {},
   "outputs": [],
   "source": [
    "params = model.make_params()"
   ]
  },
  {
   "cell_type": "code",
   "execution_count": 101,
   "metadata": {},
   "outputs": [
    {
     "data": {
      "text/html": [
       "<table><tr><th> name </th><th> value </th><th> initial value </th><th> min </th><th> max </th><th> vary </th></tr><tr><td> A1 </td><td>        -inf </td><td> None </td><td>        -inf </td><td>         inf </td><td> True </td></tr><tr><td> A2 </td><td>        -inf </td><td> None </td><td>        -inf </td><td>         inf </td><td> True </td></tr><tr><td> A3 </td><td>        -inf </td><td> None </td><td>        -inf </td><td>         inf </td><td> True </td></tr></table>"
      ],
      "text/plain": [
       "Parameters([('A1', <Parameter 'A1', -inf, bounds=[-inf:inf]>),\n",
       "            ('A2', <Parameter 'A2', -inf, bounds=[-inf:inf]>),\n",
       "            ('A3', <Parameter 'A3', -inf, bounds=[-inf:inf]>)])"
      ]
     },
     "execution_count": 101,
     "metadata": {},
     "output_type": "execute_result"
    }
   ],
   "source": [
    "params"
   ]
  },
  {
   "cell_type": "code",
   "execution_count": 102,
   "metadata": {},
   "outputs": [],
   "source": [
    "params = model.make_params(A1=20.0, A2=5.0, A3=5.0)"
   ]
  },
  {
   "cell_type": "code",
   "execution_count": 103,
   "metadata": {},
   "outputs": [],
   "source": [
    "y = model.eval(params, x=np.array(all_data['mu_min']))"
   ]
  },
  {
   "cell_type": "code",
   "execution_count": 109,
   "metadata": {},
   "outputs": [],
   "source": [
    "y = np.array(all_data['D_min'])"
   ]
  },
  {
   "cell_type": "code",
   "execution_count": 110,
   "metadata": {},
   "outputs": [],
   "source": [
    "result = model.fit(y, x=np.array(all_data['mu_min']), A1=5.0, A2=5.0, A3=20.0)"
   ]
  },
  {
   "cell_type": "code",
   "execution_count": 114,
   "metadata": {},
   "outputs": [
    {
     "data": {
      "text/html": [
       "<h2> Model</h2> Model(onePhase) <h2>Fit Statistics</h2><table><tr><td>fitting method</td><td>leastsq</td><td></td></tr><tr><td># function evals</td><td>31</td><td></td></tr><tr><td># data points</td><td>86</td><td></td></tr><tr><td># variables</td><td>3</td><td></td></tr><tr><td>chi-square</td><td> 27392.6091</td><td></td></tr><tr><td>reduced chi-square</td><td> 330.031436</td><td></td></tr><tr><td>Akaike info crit.</td><td> 501.676585</td><td></td></tr><tr><td>Bayesian info crit.</td><td> 509.039627</td><td></td></tr></table><h2>Variables</h2><table><tr><th> name </th><th> value </th><th> standard error </th><th> relative error </th><th> initial value </th><th> min </th><th> max </th><th> vary </th></tr><tr><td> A1 </td><td>  62.8298142 </td><td>  12.4709176 </td><td> 19.85% </td><td> 5.0 </td><td>        -inf </td><td>         inf </td><td> True </td></tr><tr><td> A2 </td><td>  213.585678 </td><td>  71.1411713 </td><td> 33.31% </td><td> 5.0 </td><td>        -inf </td><td>         inf </td><td> True </td></tr><tr><td> A3 </td><td>  25.5633968 </td><td>  4.21232186 </td><td> 16.48% </td><td> 20.0 </td><td>        -inf </td><td>         inf </td><td> True </td></tr></table><h2>Correlations (unreported correlations are < 0.100)</h2><table><tr><td>A2</td><td>A3</td><td>0.7333</td></tr><tr><td>A1</td><td>A2</td><td>0.6531</td></tr><tr><td>A1</td><td>A3</td><td>0.1033</td></tr></table>"
      ],
      "text/plain": [
       "<lmfit.model.ModelResult at 0x1a25768a20>"
      ]
     },
     "execution_count": 114,
     "metadata": {},
     "output_type": "execute_result"
    }
   ],
   "source": [
    "result"
   ]
  },
  {
   "cell_type": "code",
   "execution_count": 116,
   "metadata": {},
   "outputs": [
    {
     "data": {
      "text/plain": [
       "[<matplotlib.lines.Line2D at 0x1a2577c358>]"
      ]
     },
     "execution_count": 116,
     "metadata": {},
     "output_type": "execute_result"
    },
    {
     "data": {
      "image/png": "[encoded data removed]",
      "text/plain": [
       "<Figure size 432x288 with 1 Axes>"
      ]
     },
     "metadata": {
      "needs_background": "light"
     },
     "output_type": "display_data"
    }
   ],
   "source": [
    "plt.plot(all_data['mu_min'], all_data['D_min'], 'x', color='black')\n",
    "plt.plot(np.arange(0.0001, 0.04, 0.0001), onePhase(np.arange(0.0001, 0.04, 0.0001), 62.8298142, 213.585678, 25.5633968))"
   ]
  },
  {
   "cell_type": "code",
   "execution_count": null,
   "metadata": {},
   "outputs": [],
   "source": []
  },
  {
   "cell_type": "code",
   "execution_count": null,
   "metadata": {},
   "outputs": [],
   "source": []
  },
  {
   "cell_type": "code",
   "execution_count": null,
   "metadata": {},
   "outputs": [],
   "source": []
  },
  {
   "cell_type": "code",
   "execution_count": 117,
   "metadata": {},
   "outputs": [],
   "source": [
    "######### C ######"
   ]
  },
  {
   "cell_type": "code",
   "execution_count": 127,
   "metadata": {},
   "outputs": [],
   "source": [
    "all_data = {}\n",
    "for row in csv.DictReader(open(\"ou.csv\")):\n",
    "    for i in row:\n",
    "        if not i in all_data:\n",
    "            all_data[i] = []       \n",
    "        try:\n",
    "            all_data[i].append(float(row[i]))\n",
    "        except ValueError:\n",
    "            print(row[i])"
   ]
  },
  {
   "cell_type": "code",
   "execution_count": 130,
   "metadata": {},
   "outputs": [],
   "source": [
    "from lmfit import Model\n",
    "model = Model(onePhase)\n",
    "params = model.make_params(A1=20.0, A2=5.0, A3=5.0)\n",
    "y = np.array(all_data['C_min'])\n",
    "result = model.fit(y, x=np.array(all_data['mu_min']), A1=5.0, A2=5.0, A3=40.0)"
   ]
  },
  {
   "cell_type": "code",
   "execution_count": 132,
   "metadata": {},
   "outputs": [
    {
     "data": {
      "text/html": [
       "<h2> Model</h2> Model(onePhase) <h2>Fit Statistics</h2><table><tr><td>fitting method</td><td>leastsq</td><td></td></tr><tr><td># function evals</td><td>35</td><td></td></tr><tr><td># data points</td><td>95</td><td></td></tr><tr><td># variables</td><td>3</td><td></td></tr><tr><td>chi-square</td><td> 20005.6809</td><td></td></tr><tr><td>reduced chi-square</td><td> 217.453053</td><td></td></tr><tr><td>Akaike info crit.</td><td> 514.239993</td><td></td></tr><tr><td>Bayesian info crit.</td><td> 521.901624</td><td></td></tr></table><h2>Variables</h2><table><tr><th> name </th><th> value </th><th> standard error </th><th> relative error </th><th> initial value </th><th> min </th><th> max </th><th> vary </th></tr><tr><td> A1 </td><td>  235.796165 </td><td>  19.6995878 </td><td> 8.35% </td><td> 5.0 </td><td>        -inf </td><td>         inf </td><td> True </td></tr><tr><td> A2 </td><td>  428.916673 </td><td>  37.4458302 </td><td> 8.73% </td><td> 5.0 </td><td>        -inf </td><td>         inf </td><td> True </td></tr><tr><td> A3 </td><td>  45.2188479 </td><td>  2.16927705 </td><td> 4.80% </td><td> 40.0 </td><td>        -inf </td><td>         inf </td><td> True </td></tr></table><h2>Correlations (unreported correlations are < 0.100)</h2><table><tr><td>A1</td><td>A2</td><td>0.8196</td></tr><tr><td>A2</td><td>A3</td><td>0.5718</td></tr><tr><td>A1</td><td>A3</td><td>0.2211</td></tr></table>"
      ],
      "text/plain": [
       "<lmfit.model.ModelResult at 0x1a25c035c0>"
      ]
     },
     "execution_count": 132,
     "metadata": {},
     "output_type": "execute_result"
    }
   ],
   "source": [
    "result"
   ]
  },
  {
   "cell_type": "code",
   "execution_count": 133,
   "metadata": {},
   "outputs": [
    {
     "data": {
      "text/plain": [
       "[<matplotlib.lines.Line2D at 0x1a25de5c50>]"
      ]
     },
     "execution_count": 133,
     "metadata": {},
     "output_type": "execute_result"
    },
    {
     "data": {
      "image/png": "[encoded data removed]",
      "text/plain": [
       "<Figure size 432x288 with 1 Axes>"
      ]
     },
     "metadata": {
      "needs_background": "light"
     },
     "output_type": "display_data"
    }
   ],
   "source": [
    "plt.plot(all_data['mu_min'], all_data['C_min'], 'x', color='black')\n",
    "plt.plot(np.arange(0.0001, 0.04, 0.0001), onePhase(np.arange(0.0001, 0.04, 0.0001), 235.796165, 428.916673, 45.2188479))"
   ]
  },
  {
   "cell_type": "code",
   "execution_count": null,
   "metadata": {},
   "outputs": [],
   "source": []
  }
 ],
 "metadata": {
  "kernelspec": {
   "display_name": "Python 3",
   "language": "python",
   "name": "python3"
  },
  "language_info": {
   "codemirror_mode": {
    "name": "ipython",
    "version": 3
   },
   "file_extension": ".py",
   "mimetype": "text/x-python",
   "name": "python",
   "nbconvert_exporter": "python",
   "pygments_lexer": "ipython3",
   "version": "3.7.3"
  }
 },
 "nbformat": 4,
 "nbformat_minor": 2
}
